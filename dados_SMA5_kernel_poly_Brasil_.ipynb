{
  "cells": [
    {
      "cell_type": "markdown",
      "metadata": {
        "id": "view-in-github",
        "colab_type": "text"
      },
      "source": [
        "<a href=\"https://colab.research.google.com/github/viisantos/pesquisa/blob/main/dados_SMA5_kernel_poly_Brasil_.ipynb\" target=\"_parent\"><img src=\"https://colab.research.google.com/assets/colab-badge.svg\" alt=\"Open In Colab\"/></a>"
      ]
    },
    {
      "cell_type": "code",
      "execution_count": null,
      "id": "c0e3d183",
      "metadata": {
        "colab": {
          "base_uri": "https://localhost:8080/"
        },
        "id": "c0e3d183",
        "outputId": "4c213f7f-fa25-46cb-e527-a347ccfa5154"
      },
      "outputs": [
        {
          "output_type": "stream",
          "name": "stdout",
          "text": [
            "Looking in indexes: https://pypi.org/simple, https://us-python.pkg.dev/colab-wheels/public/simple/\n",
            "Collecting yfinance\n",
            "  Downloading yfinance-0.1.90-py2.py3-none-any.whl (29 kB)\n",
            "Requirement already satisfied: lxml>=4.9.1 in /usr/local/lib/python3.8/dist-packages (from yfinance) (4.9.2)\n",
            "Requirement already satisfied: multitasking>=0.0.7 in /usr/local/lib/python3.8/dist-packages (from yfinance) (0.0.11)\n",
            "Requirement already satisfied: numpy>=1.16.5 in /usr/local/lib/python3.8/dist-packages (from yfinance) (1.21.6)\n",
            "Requirement already satisfied: pandas>=1.3.0 in /usr/local/lib/python3.8/dist-packages (from yfinance) (1.3.5)\n",
            "Requirement already satisfied: appdirs>=1.4.4 in /usr/local/lib/python3.8/dist-packages (from yfinance) (1.4.4)\n",
            "Collecting requests>=2.26\n",
            "  Downloading requests-2.28.1-py3-none-any.whl (62 kB)\n",
            "\u001b[K     |████████████████████████████████| 62 kB 1.1 MB/s \n",
            "\u001b[?25hRequirement already satisfied: python-dateutil>=2.7.3 in /usr/local/lib/python3.8/dist-packages (from pandas>=1.3.0->yfinance) (2.8.2)\n",
            "Requirement already satisfied: pytz>=2017.3 in /usr/local/lib/python3.8/dist-packages (from pandas>=1.3.0->yfinance) (2022.6)\n",
            "Requirement already satisfied: six>=1.5 in /usr/local/lib/python3.8/dist-packages (from python-dateutil>=2.7.3->pandas>=1.3.0->yfinance) (1.15.0)\n",
            "Requirement already satisfied: certifi>=2017.4.17 in /usr/local/lib/python3.8/dist-packages (from requests>=2.26->yfinance) (2022.12.7)\n",
            "Requirement already satisfied: idna<4,>=2.5 in /usr/local/lib/python3.8/dist-packages (from requests>=2.26->yfinance) (2.10)\n",
            "Requirement already satisfied: urllib3<1.27,>=1.21.1 in /usr/local/lib/python3.8/dist-packages (from requests>=2.26->yfinance) (1.24.3)\n",
            "Requirement already satisfied: charset-normalizer<3,>=2 in /usr/local/lib/python3.8/dist-packages (from requests>=2.26->yfinance) (2.1.1)\n",
            "Installing collected packages: requests, yfinance\n",
            "  Attempting uninstall: requests\n",
            "    Found existing installation: requests 2.23.0\n",
            "    Uninstalling requests-2.23.0:\n",
            "      Successfully uninstalled requests-2.23.0\n",
            "Successfully installed requests-2.28.1 yfinance-0.1.90\n"
          ]
        }
      ],
      "source": [
        "!pip install yfinance"
      ]
    },
    {
      "cell_type": "code",
      "execution_count": null,
      "id": "e5158f0e",
      "metadata": {
        "colab": {
          "base_uri": "https://localhost:8080/"
        },
        "id": "e5158f0e",
        "outputId": "fde5d5bf-8ef4-4f5d-b1d1-a916921af86f"
      },
      "outputs": [
        {
          "output_type": "stream",
          "name": "stdout",
          "text": [
            "Looking in indexes: https://pypi.org/simple, https://us-python.pkg.dev/colab-wheels/public/simple/\n",
            "Requirement already satisfied: plotly==5.5.0 in /usr/local/lib/python3.8/dist-packages (5.5.0)\n",
            "Requirement already satisfied: six in /usr/local/lib/python3.8/dist-packages (from plotly==5.5.0) (1.15.0)\n",
            "Requirement already satisfied: tenacity>=6.2.0 in /usr/local/lib/python3.8/dist-packages (from plotly==5.5.0) (8.1.0)\n"
          ]
        }
      ],
      "source": [
        "!pip install plotly==5.5.0"
      ]
    },
    {
      "cell_type": "code",
      "execution_count": null,
      "id": "9c46f275",
      "metadata": {
        "colab": {
          "base_uri": "https://localhost:8080/"
        },
        "id": "9c46f275",
        "outputId": "39866979-4cc6-4b6c-a790-3cfefd303297"
      },
      "outputs": [
        {
          "output_type": "stream",
          "name": "stdout",
          "text": [
            "Looking in indexes: https://pypi.org/simple, https://us-python.pkg.dev/colab-wheels/public/simple/\n",
            "Requirement already satisfied: gdown in /usr/local/lib/python3.8/dist-packages (4.4.0)\n",
            "Requirement already satisfied: beautifulsoup4 in /usr/local/lib/python3.8/dist-packages (from gdown) (4.6.3)\n",
            "Requirement already satisfied: tqdm in /usr/local/lib/python3.8/dist-packages (from gdown) (4.64.1)\n",
            "Requirement already satisfied: filelock in /usr/local/lib/python3.8/dist-packages (from gdown) (3.8.2)\n",
            "Requirement already satisfied: six in /usr/local/lib/python3.8/dist-packages (from gdown) (1.15.0)\n",
            "Requirement already satisfied: requests[socks] in /usr/local/lib/python3.8/dist-packages (from gdown) (2.28.1)\n",
            "Requirement already satisfied: idna<4,>=2.5 in /usr/local/lib/python3.8/dist-packages (from requests[socks]->gdown) (2.10)\n",
            "Requirement already satisfied: charset-normalizer<3,>=2 in /usr/local/lib/python3.8/dist-packages (from requests[socks]->gdown) (2.1.1)\n",
            "Requirement already satisfied: urllib3<1.27,>=1.21.1 in /usr/local/lib/python3.8/dist-packages (from requests[socks]->gdown) (1.24.3)\n",
            "Requirement already satisfied: certifi>=2017.4.17 in /usr/local/lib/python3.8/dist-packages (from requests[socks]->gdown) (2022.12.7)\n",
            "Requirement already satisfied: PySocks!=1.5.7,>=1.5.6 in /usr/local/lib/python3.8/dist-packages (from requests[socks]->gdown) (1.7.1)\n"
          ]
        }
      ],
      "source": [
        "!pip install gdown"
      ]
    },
    {
      "cell_type": "code",
      "execution_count": null,
      "id": "e7b9d356",
      "metadata": {
        "colab": {
          "base_uri": "https://localhost:8080/"
        },
        "id": "e7b9d356",
        "outputId": "5be3057e-4a2a-4308-ebab-d2f34385d796"
      },
      "outputs": [
        {
          "output_type": "stream",
          "name": "stdout",
          "text": [
            "Looking in indexes: https://pypi.org/simple, https://us-python.pkg.dev/colab-wheels/public/simple/\n",
            "Requirement already satisfied: pandas-datareader in /usr/local/lib/python3.8/dist-packages (0.9.0)\n",
            "Requirement already satisfied: requests>=2.19.0 in /usr/local/lib/python3.8/dist-packages (from pandas-datareader) (2.28.1)\n",
            "Requirement already satisfied: pandas>=0.23 in /usr/local/lib/python3.8/dist-packages (from pandas-datareader) (1.3.5)\n",
            "Requirement already satisfied: lxml in /usr/local/lib/python3.8/dist-packages (from pandas-datareader) (4.9.2)\n",
            "Requirement already satisfied: numpy>=1.17.3 in /usr/local/lib/python3.8/dist-packages (from pandas>=0.23->pandas-datareader) (1.21.6)\n",
            "Requirement already satisfied: python-dateutil>=2.7.3 in /usr/local/lib/python3.8/dist-packages (from pandas>=0.23->pandas-datareader) (2.8.2)\n",
            "Requirement already satisfied: pytz>=2017.3 in /usr/local/lib/python3.8/dist-packages (from pandas>=0.23->pandas-datareader) (2022.6)\n",
            "Requirement already satisfied: six>=1.5 in /usr/local/lib/python3.8/dist-packages (from python-dateutil>=2.7.3->pandas>=0.23->pandas-datareader) (1.15.0)\n",
            "Requirement already satisfied: certifi>=2017.4.17 in /usr/local/lib/python3.8/dist-packages (from requests>=2.19.0->pandas-datareader) (2022.12.7)\n",
            "Requirement already satisfied: urllib3<1.27,>=1.21.1 in /usr/local/lib/python3.8/dist-packages (from requests>=2.19.0->pandas-datareader) (1.24.3)\n",
            "Requirement already satisfied: charset-normalizer<3,>=2 in /usr/local/lib/python3.8/dist-packages (from requests>=2.19.0->pandas-datareader) (2.1.1)\n",
            "Requirement already satisfied: idna<4,>=2.5 in /usr/local/lib/python3.8/dist-packages (from requests>=2.19.0->pandas-datareader) (2.10)\n"
          ]
        }
      ],
      "source": [
        "pip install pandas-datareader"
      ]
    },
    {
      "cell_type": "code",
      "execution_count": null,
      "id": "f890039b",
      "metadata": {
        "colab": {
          "base_uri": "https://localhost:8080/"
        },
        "id": "f890039b",
        "outputId": "7e7366d1-f11c-4c8e-f736-6806353b6c02"
      },
      "outputs": [
        {
          "output_type": "stream",
          "name": "stdout",
          "text": [
            "Looking in indexes: https://pypi.org/simple, https://us-python.pkg.dev/colab-wheels/public/simple/\n",
            "Requirement already satisfied: seaborn in /usr/local/lib/python3.8/dist-packages (0.11.2)\n",
            "Requirement already satisfied: matplotlib>=2.2 in /usr/local/lib/python3.8/dist-packages (from seaborn) (3.2.2)\n",
            "Requirement already satisfied: scipy>=1.0 in /usr/local/lib/python3.8/dist-packages (from seaborn) (1.7.3)\n",
            "Requirement already satisfied: pandas>=0.23 in /usr/local/lib/python3.8/dist-packages (from seaborn) (1.3.5)\n",
            "Requirement already satisfied: numpy>=1.15 in /usr/local/lib/python3.8/dist-packages (from seaborn) (1.21.6)\n",
            "Requirement already satisfied: kiwisolver>=1.0.1 in /usr/local/lib/python3.8/dist-packages (from matplotlib>=2.2->seaborn) (1.4.4)\n",
            "Requirement already satisfied: cycler>=0.10 in /usr/local/lib/python3.8/dist-packages (from matplotlib>=2.2->seaborn) (0.11.0)\n",
            "Requirement already satisfied: pyparsing!=2.0.4,!=2.1.2,!=2.1.6,>=2.0.1 in /usr/local/lib/python3.8/dist-packages (from matplotlib>=2.2->seaborn) (3.0.9)\n",
            "Requirement already satisfied: python-dateutil>=2.1 in /usr/local/lib/python3.8/dist-packages (from matplotlib>=2.2->seaborn) (2.8.2)\n",
            "Requirement already satisfied: pytz>=2017.3 in /usr/local/lib/python3.8/dist-packages (from pandas>=0.23->seaborn) (2022.6)\n",
            "Requirement already satisfied: six>=1.5 in /usr/local/lib/python3.8/dist-packages (from python-dateutil>=2.1->matplotlib>=2.2->seaborn) (1.15.0)\n"
          ]
        }
      ],
      "source": [
        "pip install seaborn"
      ]
    },
    {
      "cell_type": "code",
      "execution_count": null,
      "id": "b0afde13",
      "metadata": {
        "colab": {
          "base_uri": "https://localhost:8080/"
        },
        "id": "b0afde13",
        "outputId": "98dde067-391c-413b-cd14-f7fbdaedf4ef"
      },
      "outputs": [
        {
          "output_type": "stream",
          "name": "stdout",
          "text": [
            "Looking in indexes: https://pypi.org/simple, https://us-python.pkg.dev/colab-wheels/public/simple/\n",
            "Requirement already satisfied: statsmodels in /usr/local/lib/python3.8/dist-packages (0.12.2)\n",
            "Requirement already satisfied: scipy>=1.1 in /usr/local/lib/python3.8/dist-packages (from statsmodels) (1.7.3)\n",
            "Requirement already satisfied: numpy>=1.15 in /usr/local/lib/python3.8/dist-packages (from statsmodels) (1.21.6)\n",
            "Requirement already satisfied: patsy>=0.5 in /usr/local/lib/python3.8/dist-packages (from statsmodels) (0.5.3)\n",
            "Requirement already satisfied: pandas>=0.21 in /usr/local/lib/python3.8/dist-packages (from statsmodels) (1.3.5)\n",
            "Requirement already satisfied: pytz>=2017.3 in /usr/local/lib/python3.8/dist-packages (from pandas>=0.21->statsmodels) (2022.6)\n",
            "Requirement already satisfied: python-dateutil>=2.7.3 in /usr/local/lib/python3.8/dist-packages (from pandas>=0.21->statsmodels) (2.8.2)\n",
            "Requirement already satisfied: six in /usr/local/lib/python3.8/dist-packages (from patsy>=0.5->statsmodels) (1.15.0)\n"
          ]
        }
      ],
      "source": [
        "pip install statsmodels"
      ]
    },
    {
      "cell_type": "code",
      "execution_count": null,
      "id": "66b41029",
      "metadata": {
        "id": "66b41029"
      },
      "outputs": [],
      "source": [
        "import pandas as pd\n",
        "import numpy as np\n",
        "import pandas_datareader.data as pdr\n",
        "import datetime\n",
        "import yfinance as yf\n",
        "yf.pdr_override()\n",
        "import matplotlib.pyplot as plt\n",
        "import seaborn as sns\n",
        "import matplotlib.pyplot as plt\n",
        "plt.style.use('seaborn')\n",
        "import plotly.express as px\n",
        "import plotly.graph_objects as go\n",
        "import scipy.stats.mstats as mStats\n",
        "from statsmodels.nonparametric.smoothers_lowess import lowess\n",
        "from statsmodels.tsa.filters.hp_filter import hpfilter\n",
        "from sklearn.preprocessing import StandardScaler\n",
        "from sklearn.preprocessing import MinMaxScaler\n",
        "from matplotlib import rcParams\n",
        "from sklearn.model_selection import train_test_split\n",
        "from sklearn.linear_model import LogisticRegression\n",
        "from sklearn.neighbors import KNeighborsClassifier\n",
        "from sklearn.ensemble import RandomForestClassifier\n",
        "from sklearn.svm import SVR\n",
        "from sklearn.svm import NuSVR\n",
        "from sklearn.model_selection import RandomizedSearchCV\n",
        "from sklearn.metrics import r2_score\n",
        "from sklearn.metrics import mean_squared_error\n",
        "from sklearn.metrics import mean_absolute_error\n",
        "from sklearn.pipeline import make_pipeline\n",
        "#from sklearn.metrics import mean_absolute_percentage_error\n",
        "#from skforecast.model_selection import grid_search_forecaster\n",
        "import sklearn.metrics\n",
        "import warnings\n",
        "\n",
        "from yellowbrick.regressor import ResidualsPlot\n",
        "from yellowbrick.regressor import PredictionError\n",
        "from sklearn.model_selection import TimeSeriesSplit\n",
        "from sklearn.metrics import r2_score, median_absolute_error, mean_squared_log_error, mean_squared_error, mean_absolute_error\n",
        "#from skforecast.model_selection import backtesting_forecaster\n"
      ]
    },
    {
      "cell_type": "code",
      "execution_count": null,
      "id": "ef295c87",
      "metadata": {
        "colab": {
          "base_uri": "https://localhost:8080/",
          "height": 255
        },
        "id": "ef295c87",
        "outputId": "ac993cc4-4ca8-4c3e-afd9-66943ea9ab2f"
      },
      "outputs": [
        {
          "output_type": "stream",
          "name": "stdout",
          "text": [
            "\r[*********************100%***********************]  1 of 1 completed\n"
          ]
        },
        {
          "output_type": "execute_result",
          "data": {
            "text/plain": [
              "               Open     High      Low    Close  Adj Close     Volume\n",
              "Date                                                                \n",
              "2007-01-02  44476.0  45388.0  44476.0  45383.0    45383.0   75560200\n",
              "2007-01-03  45379.0  45379.0  44284.0  44445.0    44445.0  122372800\n",
              "2007-01-04  44442.0  44442.0  43623.0  44020.0    44020.0   86577000\n",
              "2007-01-05  44019.0  44081.0  42160.0  42245.0    42245.0  164055000\n",
              "2007-01-08  42249.0  42926.0  42144.0  42830.0    42830.0  114007100"
            ],
            "text/html": [
              "\n",
              "  <div id=\"df-5b4a8a3a-cd87-4777-bf17-9e8b44d2caaa\">\n",
              "    <div class=\"colab-df-container\">\n",
              "      <div>\n",
              "<style scoped>\n",
              "    .dataframe tbody tr th:only-of-type {\n",
              "        vertical-align: middle;\n",
              "    }\n",
              "\n",
              "    .dataframe tbody tr th {\n",
              "        vertical-align: top;\n",
              "    }\n",
              "\n",
              "    .dataframe thead th {\n",
              "        text-align: right;\n",
              "    }\n",
              "</style>\n",
              "<table border=\"1\" class=\"dataframe\">\n",
              "  <thead>\n",
              "    <tr style=\"text-align: right;\">\n",
              "      <th></th>\n",
              "      <th>Open</th>\n",
              "      <th>High</th>\n",
              "      <th>Low</th>\n",
              "      <th>Close</th>\n",
              "      <th>Adj Close</th>\n",
              "      <th>Volume</th>\n",
              "    </tr>\n",
              "    <tr>\n",
              "      <th>Date</th>\n",
              "      <th></th>\n",
              "      <th></th>\n",
              "      <th></th>\n",
              "      <th></th>\n",
              "      <th></th>\n",
              "      <th></th>\n",
              "    </tr>\n",
              "  </thead>\n",
              "  <tbody>\n",
              "    <tr>\n",
              "      <th>2007-01-02</th>\n",
              "      <td>44476.0</td>\n",
              "      <td>45388.0</td>\n",
              "      <td>44476.0</td>\n",
              "      <td>45383.0</td>\n",
              "      <td>45383.0</td>\n",
              "      <td>75560200</td>\n",
              "    </tr>\n",
              "    <tr>\n",
              "      <th>2007-01-03</th>\n",
              "      <td>45379.0</td>\n",
              "      <td>45379.0</td>\n",
              "      <td>44284.0</td>\n",
              "      <td>44445.0</td>\n",
              "      <td>44445.0</td>\n",
              "      <td>122372800</td>\n",
              "    </tr>\n",
              "    <tr>\n",
              "      <th>2007-01-04</th>\n",
              "      <td>44442.0</td>\n",
              "      <td>44442.0</td>\n",
              "      <td>43623.0</td>\n",
              "      <td>44020.0</td>\n",
              "      <td>44020.0</td>\n",
              "      <td>86577000</td>\n",
              "    </tr>\n",
              "    <tr>\n",
              "      <th>2007-01-05</th>\n",
              "      <td>44019.0</td>\n",
              "      <td>44081.0</td>\n",
              "      <td>42160.0</td>\n",
              "      <td>42245.0</td>\n",
              "      <td>42245.0</td>\n",
              "      <td>164055000</td>\n",
              "    </tr>\n",
              "    <tr>\n",
              "      <th>2007-01-08</th>\n",
              "      <td>42249.0</td>\n",
              "      <td>42926.0</td>\n",
              "      <td>42144.0</td>\n",
              "      <td>42830.0</td>\n",
              "      <td>42830.0</td>\n",
              "      <td>114007100</td>\n",
              "    </tr>\n",
              "  </tbody>\n",
              "</table>\n",
              "</div>\n",
              "      <button class=\"colab-df-convert\" onclick=\"convertToInteractive('df-5b4a8a3a-cd87-4777-bf17-9e8b44d2caaa')\"\n",
              "              title=\"Convert this dataframe to an interactive table.\"\n",
              "              style=\"display:none;\">\n",
              "        \n",
              "  <svg xmlns=\"http://www.w3.org/2000/svg\" height=\"24px\"viewBox=\"0 0 24 24\"\n",
              "       width=\"24px\">\n",
              "    <path d=\"M0 0h24v24H0V0z\" fill=\"none\"/>\n",
              "    <path d=\"M18.56 5.44l.94 2.06.94-2.06 2.06-.94-2.06-.94-.94-2.06-.94 2.06-2.06.94zm-11 1L8.5 8.5l.94-2.06 2.06-.94-2.06-.94L8.5 2.5l-.94 2.06-2.06.94zm10 10l.94 2.06.94-2.06 2.06-.94-2.06-.94-.94-2.06-.94 2.06-2.06.94z\"/><path d=\"M17.41 7.96l-1.37-1.37c-.4-.4-.92-.59-1.43-.59-.52 0-1.04.2-1.43.59L10.3 9.45l-7.72 7.72c-.78.78-.78 2.05 0 2.83L4 21.41c.39.39.9.59 1.41.59.51 0 1.02-.2 1.41-.59l7.78-7.78 2.81-2.81c.8-.78.8-2.07 0-2.86zM5.41 20L4 18.59l7.72-7.72 1.47 1.35L5.41 20z\"/>\n",
              "  </svg>\n",
              "      </button>\n",
              "      \n",
              "  <style>\n",
              "    .colab-df-container {\n",
              "      display:flex;\n",
              "      flex-wrap:wrap;\n",
              "      gap: 12px;\n",
              "    }\n",
              "\n",
              "    .colab-df-convert {\n",
              "      background-color: #E8F0FE;\n",
              "      border: none;\n",
              "      border-radius: 50%;\n",
              "      cursor: pointer;\n",
              "      display: none;\n",
              "      fill: #1967D2;\n",
              "      height: 32px;\n",
              "      padding: 0 0 0 0;\n",
              "      width: 32px;\n",
              "    }\n",
              "\n",
              "    .colab-df-convert:hover {\n",
              "      background-color: #E2EBFA;\n",
              "      box-shadow: 0px 1px 2px rgba(60, 64, 67, 0.3), 0px 1px 3px 1px rgba(60, 64, 67, 0.15);\n",
              "      fill: #174EA6;\n",
              "    }\n",
              "\n",
              "    [theme=dark] .colab-df-convert {\n",
              "      background-color: #3B4455;\n",
              "      fill: #D2E3FC;\n",
              "    }\n",
              "\n",
              "    [theme=dark] .colab-df-convert:hover {\n",
              "      background-color: #434B5C;\n",
              "      box-shadow: 0px 1px 3px 1px rgba(0, 0, 0, 0.15);\n",
              "      filter: drop-shadow(0px 1px 2px rgba(0, 0, 0, 0.3));\n",
              "      fill: #FFFFFF;\n",
              "    }\n",
              "  </style>\n",
              "\n",
              "      <script>\n",
              "        const buttonEl =\n",
              "          document.querySelector('#df-5b4a8a3a-cd87-4777-bf17-9e8b44d2caaa button.colab-df-convert');\n",
              "        buttonEl.style.display =\n",
              "          google.colab.kernel.accessAllowed ? 'block' : 'none';\n",
              "\n",
              "        async function convertToInteractive(key) {\n",
              "          const element = document.querySelector('#df-5b4a8a3a-cd87-4777-bf17-9e8b44d2caaa');\n",
              "          const dataTable =\n",
              "            await google.colab.kernel.invokeFunction('convertToInteractive',\n",
              "                                                     [key], {});\n",
              "          if (!dataTable) return;\n",
              "\n",
              "          const docLinkHtml = 'Like what you see? Visit the ' +\n",
              "            '<a target=\"_blank\" href=https://colab.research.google.com/notebooks/data_table.ipynb>data table notebook</a>'\n",
              "            + ' to learn more about interactive tables.';\n",
              "          element.innerHTML = '';\n",
              "          dataTable['output_type'] = 'display_data';\n",
              "          await google.colab.output.renderOutput(dataTable, element);\n",
              "          const docLink = document.createElement('div');\n",
              "          docLink.innerHTML = docLinkHtml;\n",
              "          element.appendChild(docLink);\n",
              "        }\n",
              "      </script>\n",
              "    </div>\n",
              "  </div>\n",
              "  "
            ]
          },
          "metadata": {},
          "execution_count": 8
        }
      ],
      "source": [
        "index = '^BVSP'\n",
        "first_day = pd.to_datetime('2007-01-01')\n",
        "last_day = pd.to_datetime('2021-12-31')\n",
        "df = pdr.get_data_yahoo(index, start=first_day, end=last_day, parse_dates=['Date'], index_col='Date')\n",
        "df.head()"
      ]
    },
    {
      "cell_type": "code",
      "execution_count": null,
      "id": "f5c38b73",
      "metadata": {
        "colab": {
          "base_uri": "https://localhost:8080/",
          "height": 237
        },
        "id": "f5c38b73",
        "outputId": "77486de8-8ebc-4f16-dcdc-cec91128e976"
      },
      "outputs": [
        {
          "output_type": "execute_result",
          "data": {
            "text/plain": [
              "                Open      High       Low     Close\n",
              "Date                                              \n",
              "2021-12-23  105251.0  105453.0  104637.0  104891.0\n",
              "2021-12-27  104892.0  105694.0  104798.0  105531.0\n",
              "2021-12-28  105555.0  105652.0  104503.0  104864.0\n",
              "2021-12-29  104863.0  105190.0  103851.0  104107.0\n",
              "2021-12-30  104106.0  105269.0  104106.0  104822.0"
            ],
            "text/html": [
              "\n",
              "  <div id=\"df-3bfbe144-406d-48c8-ba01-216d51c2ff9c\">\n",
              "    <div class=\"colab-df-container\">\n",
              "      <div>\n",
              "<style scoped>\n",
              "    .dataframe tbody tr th:only-of-type {\n",
              "        vertical-align: middle;\n",
              "    }\n",
              "\n",
              "    .dataframe tbody tr th {\n",
              "        vertical-align: top;\n",
              "    }\n",
              "\n",
              "    .dataframe thead th {\n",
              "        text-align: right;\n",
              "    }\n",
              "</style>\n",
              "<table border=\"1\" class=\"dataframe\">\n",
              "  <thead>\n",
              "    <tr style=\"text-align: right;\">\n",
              "      <th></th>\n",
              "      <th>Open</th>\n",
              "      <th>High</th>\n",
              "      <th>Low</th>\n",
              "      <th>Close</th>\n",
              "    </tr>\n",
              "    <tr>\n",
              "      <th>Date</th>\n",
              "      <th></th>\n",
              "      <th></th>\n",
              "      <th></th>\n",
              "      <th></th>\n",
              "    </tr>\n",
              "  </thead>\n",
              "  <tbody>\n",
              "    <tr>\n",
              "      <th>2021-12-23</th>\n",
              "      <td>105251.0</td>\n",
              "      <td>105453.0</td>\n",
              "      <td>104637.0</td>\n",
              "      <td>104891.0</td>\n",
              "    </tr>\n",
              "    <tr>\n",
              "      <th>2021-12-27</th>\n",
              "      <td>104892.0</td>\n",
              "      <td>105694.0</td>\n",
              "      <td>104798.0</td>\n",
              "      <td>105531.0</td>\n",
              "    </tr>\n",
              "    <tr>\n",
              "      <th>2021-12-28</th>\n",
              "      <td>105555.0</td>\n",
              "      <td>105652.0</td>\n",
              "      <td>104503.0</td>\n",
              "      <td>104864.0</td>\n",
              "    </tr>\n",
              "    <tr>\n",
              "      <th>2021-12-29</th>\n",
              "      <td>104863.0</td>\n",
              "      <td>105190.0</td>\n",
              "      <td>103851.0</td>\n",
              "      <td>104107.0</td>\n",
              "    </tr>\n",
              "    <tr>\n",
              "      <th>2021-12-30</th>\n",
              "      <td>104106.0</td>\n",
              "      <td>105269.0</td>\n",
              "      <td>104106.0</td>\n",
              "      <td>104822.0</td>\n",
              "    </tr>\n",
              "  </tbody>\n",
              "</table>\n",
              "</div>\n",
              "      <button class=\"colab-df-convert\" onclick=\"convertToInteractive('df-3bfbe144-406d-48c8-ba01-216d51c2ff9c')\"\n",
              "              title=\"Convert this dataframe to an interactive table.\"\n",
              "              style=\"display:none;\">\n",
              "        \n",
              "  <svg xmlns=\"http://www.w3.org/2000/svg\" height=\"24px\"viewBox=\"0 0 24 24\"\n",
              "       width=\"24px\">\n",
              "    <path d=\"M0 0h24v24H0V0z\" fill=\"none\"/>\n",
              "    <path d=\"M18.56 5.44l.94 2.06.94-2.06 2.06-.94-2.06-.94-.94-2.06-.94 2.06-2.06.94zm-11 1L8.5 8.5l.94-2.06 2.06-.94-2.06-.94L8.5 2.5l-.94 2.06-2.06.94zm10 10l.94 2.06.94-2.06 2.06-.94-2.06-.94-.94-2.06-.94 2.06-2.06.94z\"/><path d=\"M17.41 7.96l-1.37-1.37c-.4-.4-.92-.59-1.43-.59-.52 0-1.04.2-1.43.59L10.3 9.45l-7.72 7.72c-.78.78-.78 2.05 0 2.83L4 21.41c.39.39.9.59 1.41.59.51 0 1.02-.2 1.41-.59l7.78-7.78 2.81-2.81c.8-.78.8-2.07 0-2.86zM5.41 20L4 18.59l7.72-7.72 1.47 1.35L5.41 20z\"/>\n",
              "  </svg>\n",
              "      </button>\n",
              "      \n",
              "  <style>\n",
              "    .colab-df-container {\n",
              "      display:flex;\n",
              "      flex-wrap:wrap;\n",
              "      gap: 12px;\n",
              "    }\n",
              "\n",
              "    .colab-df-convert {\n",
              "      background-color: #E8F0FE;\n",
              "      border: none;\n",
              "      border-radius: 50%;\n",
              "      cursor: pointer;\n",
              "      display: none;\n",
              "      fill: #1967D2;\n",
              "      height: 32px;\n",
              "      padding: 0 0 0 0;\n",
              "      width: 32px;\n",
              "    }\n",
              "\n",
              "    .colab-df-convert:hover {\n",
              "      background-color: #E2EBFA;\n",
              "      box-shadow: 0px 1px 2px rgba(60, 64, 67, 0.3), 0px 1px 3px 1px rgba(60, 64, 67, 0.15);\n",
              "      fill: #174EA6;\n",
              "    }\n",
              "\n",
              "    [theme=dark] .colab-df-convert {\n",
              "      background-color: #3B4455;\n",
              "      fill: #D2E3FC;\n",
              "    }\n",
              "\n",
              "    [theme=dark] .colab-df-convert:hover {\n",
              "      background-color: #434B5C;\n",
              "      box-shadow: 0px 1px 3px 1px rgba(0, 0, 0, 0.15);\n",
              "      filter: drop-shadow(0px 1px 2px rgba(0, 0, 0, 0.3));\n",
              "      fill: #FFFFFF;\n",
              "    }\n",
              "  </style>\n",
              "\n",
              "      <script>\n",
              "        const buttonEl =\n",
              "          document.querySelector('#df-3bfbe144-406d-48c8-ba01-216d51c2ff9c button.colab-df-convert');\n",
              "        buttonEl.style.display =\n",
              "          google.colab.kernel.accessAllowed ? 'block' : 'none';\n",
              "\n",
              "        async function convertToInteractive(key) {\n",
              "          const element = document.querySelector('#df-3bfbe144-406d-48c8-ba01-216d51c2ff9c');\n",
              "          const dataTable =\n",
              "            await google.colab.kernel.invokeFunction('convertToInteractive',\n",
              "                                                     [key], {});\n",
              "          if (!dataTable) return;\n",
              "\n",
              "          const docLinkHtml = 'Like what you see? Visit the ' +\n",
              "            '<a target=\"_blank\" href=https://colab.research.google.com/notebooks/data_table.ipynb>data table notebook</a>'\n",
              "            + ' to learn more about interactive tables.';\n",
              "          element.innerHTML = '';\n",
              "          dataTable['output_type'] = 'display_data';\n",
              "          await google.colab.output.renderOutput(dataTable, element);\n",
              "          const docLink = document.createElement('div');\n",
              "          docLink.innerHTML = docLinkHtml;\n",
              "          element.appendChild(docLink);\n",
              "        }\n",
              "      </script>\n",
              "    </div>\n",
              "  </div>\n",
              "  "
            ]
          },
          "metadata": {},
          "execution_count": 9
        }
      ],
      "source": [
        "df = df.drop(columns=['Adj Close','Volume'])\n",
        "df.tail()"
      ]
    },
    {
      "cell_type": "code",
      "execution_count": null,
      "id": "014c1ae3",
      "metadata": {
        "colab": {
          "base_uri": "https://localhost:8080/"
        },
        "id": "014c1ae3",
        "outputId": "e5a33cc7-91e5-40ac-9af2-5986be6f8acf"
      },
      "outputs": [
        {
          "output_type": "execute_result",
          "data": {
            "text/plain": [
              "<bound method NDFrame.head of                 Open      High       Low     Close\n",
              "Date                                              \n",
              "2007-01-02   44476.0   45388.0   44476.0   45383.0\n",
              "2007-01-03   45379.0   45379.0   44284.0   44445.0\n",
              "2007-01-04   44442.0   44442.0   43623.0   44020.0\n",
              "2007-01-05   44019.0   44081.0   42160.0   42245.0\n",
              "2007-01-08   42249.0   42926.0   42144.0   42830.0\n",
              "...              ...       ...       ...       ...\n",
              "2021-12-23  105251.0  105453.0  104637.0  104891.0\n",
              "2021-12-27  104892.0  105694.0  104798.0  105531.0\n",
              "2021-12-28  105555.0  105652.0  104503.0  104864.0\n",
              "2021-12-29  104863.0  105190.0  103851.0  104107.0\n",
              "2021-12-30  104106.0  105269.0  104106.0  104822.0\n",
              "\n",
              "[3706 rows x 4 columns]>"
            ]
          },
          "metadata": {},
          "execution_count": 10
        }
      ],
      "source": [
        "df.head"
      ]
    },
    {
      "cell_type": "code",
      "execution_count": null,
      "id": "3bd39eb4",
      "metadata": {
        "colab": {
          "base_uri": "https://localhost:8080/",
          "height": 237
        },
        "id": "3bd39eb4",
        "outputId": "e0f651eb-5eab-4c2e-c039-afee6a082550"
      },
      "outputs": [
        {
          "output_type": "execute_result",
          "data": {
            "text/plain": [
              "               Close\n",
              "Date                \n",
              "2021-12-23  104891.0\n",
              "2021-12-27  105531.0\n",
              "2021-12-28  104864.0\n",
              "2021-12-29  104107.0\n",
              "2021-12-30  104822.0"
            ],
            "text/html": [
              "\n",
              "  <div id=\"df-42b21932-5316-4979-ba01-401719238a36\">\n",
              "    <div class=\"colab-df-container\">\n",
              "      <div>\n",
              "<style scoped>\n",
              "    .dataframe tbody tr th:only-of-type {\n",
              "        vertical-align: middle;\n",
              "    }\n",
              "\n",
              "    .dataframe tbody tr th {\n",
              "        vertical-align: top;\n",
              "    }\n",
              "\n",
              "    .dataframe thead th {\n",
              "        text-align: right;\n",
              "    }\n",
              "</style>\n",
              "<table border=\"1\" class=\"dataframe\">\n",
              "  <thead>\n",
              "    <tr style=\"text-align: right;\">\n",
              "      <th></th>\n",
              "      <th>Close</th>\n",
              "    </tr>\n",
              "    <tr>\n",
              "      <th>Date</th>\n",
              "      <th></th>\n",
              "    </tr>\n",
              "  </thead>\n",
              "  <tbody>\n",
              "    <tr>\n",
              "      <th>2021-12-23</th>\n",
              "      <td>104891.0</td>\n",
              "    </tr>\n",
              "    <tr>\n",
              "      <th>2021-12-27</th>\n",
              "      <td>105531.0</td>\n",
              "    </tr>\n",
              "    <tr>\n",
              "      <th>2021-12-28</th>\n",
              "      <td>104864.0</td>\n",
              "    </tr>\n",
              "    <tr>\n",
              "      <th>2021-12-29</th>\n",
              "      <td>104107.0</td>\n",
              "    </tr>\n",
              "    <tr>\n",
              "      <th>2021-12-30</th>\n",
              "      <td>104822.0</td>\n",
              "    </tr>\n",
              "  </tbody>\n",
              "</table>\n",
              "</div>\n",
              "      <button class=\"colab-df-convert\" onclick=\"convertToInteractive('df-42b21932-5316-4979-ba01-401719238a36')\"\n",
              "              title=\"Convert this dataframe to an interactive table.\"\n",
              "              style=\"display:none;\">\n",
              "        \n",
              "  <svg xmlns=\"http://www.w3.org/2000/svg\" height=\"24px\"viewBox=\"0 0 24 24\"\n",
              "       width=\"24px\">\n",
              "    <path d=\"M0 0h24v24H0V0z\" fill=\"none\"/>\n",
              "    <path d=\"M18.56 5.44l.94 2.06.94-2.06 2.06-.94-2.06-.94-.94-2.06-.94 2.06-2.06.94zm-11 1L8.5 8.5l.94-2.06 2.06-.94-2.06-.94L8.5 2.5l-.94 2.06-2.06.94zm10 10l.94 2.06.94-2.06 2.06-.94-2.06-.94-.94-2.06-.94 2.06-2.06.94z\"/><path d=\"M17.41 7.96l-1.37-1.37c-.4-.4-.92-.59-1.43-.59-.52 0-1.04.2-1.43.59L10.3 9.45l-7.72 7.72c-.78.78-.78 2.05 0 2.83L4 21.41c.39.39.9.59 1.41.59.51 0 1.02-.2 1.41-.59l7.78-7.78 2.81-2.81c.8-.78.8-2.07 0-2.86zM5.41 20L4 18.59l7.72-7.72 1.47 1.35L5.41 20z\"/>\n",
              "  </svg>\n",
              "      </button>\n",
              "      \n",
              "  <style>\n",
              "    .colab-df-container {\n",
              "      display:flex;\n",
              "      flex-wrap:wrap;\n",
              "      gap: 12px;\n",
              "    }\n",
              "\n",
              "    .colab-df-convert {\n",
              "      background-color: #E8F0FE;\n",
              "      border: none;\n",
              "      border-radius: 50%;\n",
              "      cursor: pointer;\n",
              "      display: none;\n",
              "      fill: #1967D2;\n",
              "      height: 32px;\n",
              "      padding: 0 0 0 0;\n",
              "      width: 32px;\n",
              "    }\n",
              "\n",
              "    .colab-df-convert:hover {\n",
              "      background-color: #E2EBFA;\n",
              "      box-shadow: 0px 1px 2px rgba(60, 64, 67, 0.3), 0px 1px 3px 1px rgba(60, 64, 67, 0.15);\n",
              "      fill: #174EA6;\n",
              "    }\n",
              "\n",
              "    [theme=dark] .colab-df-convert {\n",
              "      background-color: #3B4455;\n",
              "      fill: #D2E3FC;\n",
              "    }\n",
              "\n",
              "    [theme=dark] .colab-df-convert:hover {\n",
              "      background-color: #434B5C;\n",
              "      box-shadow: 0px 1px 3px 1px rgba(0, 0, 0, 0.15);\n",
              "      filter: drop-shadow(0px 1px 2px rgba(0, 0, 0, 0.3));\n",
              "      fill: #FFFFFF;\n",
              "    }\n",
              "  </style>\n",
              "\n",
              "      <script>\n",
              "        const buttonEl =\n",
              "          document.querySelector('#df-42b21932-5316-4979-ba01-401719238a36 button.colab-df-convert');\n",
              "        buttonEl.style.display =\n",
              "          google.colab.kernel.accessAllowed ? 'block' : 'none';\n",
              "\n",
              "        async function convertToInteractive(key) {\n",
              "          const element = document.querySelector('#df-42b21932-5316-4979-ba01-401719238a36');\n",
              "          const dataTable =\n",
              "            await google.colab.kernel.invokeFunction('convertToInteractive',\n",
              "                                                     [key], {});\n",
              "          if (!dataTable) return;\n",
              "\n",
              "          const docLinkHtml = 'Like what you see? Visit the ' +\n",
              "            '<a target=\"_blank\" href=https://colab.research.google.com/notebooks/data_table.ipynb>data table notebook</a>'\n",
              "            + ' to learn more about interactive tables.';\n",
              "          element.innerHTML = '';\n",
              "          dataTable['output_type'] = 'display_data';\n",
              "          await google.colab.output.renderOutput(dataTable, element);\n",
              "          const docLink = document.createElement('div');\n",
              "          docLink.innerHTML = docLinkHtml;\n",
              "          element.appendChild(docLink);\n",
              "        }\n",
              "      </script>\n",
              "    </div>\n",
              "  </div>\n",
              "  "
            ]
          },
          "metadata": {},
          "execution_count": 11
        }
      ],
      "source": [
        "df = df.drop(columns=['Open','High','Low'])\n",
        "df.tail()"
      ]
    },
    {
      "cell_type": "code",
      "execution_count": null,
      "id": "4c8afb78",
      "metadata": {
        "colab": {
          "base_uri": "https://localhost:8080/",
          "height": 49
        },
        "id": "4c8afb78",
        "outputId": "9f78f7c4-45e1-4930-9380-6c30df24c82f"
      },
      "outputs": [
        {
          "output_type": "execute_result",
          "data": {
            "text/plain": [
              "Empty DataFrame\n",
              "Columns: []\n",
              "Index: []"
            ],
            "text/html": [
              "\n",
              "  <div id=\"df-80e0d57f-cb8e-417a-9b0a-9220f0f75eea\">\n",
              "    <div class=\"colab-df-container\">\n",
              "      <div>\n",
              "<style scoped>\n",
              "    .dataframe tbody tr th:only-of-type {\n",
              "        vertical-align: middle;\n",
              "    }\n",
              "\n",
              "    .dataframe tbody tr th {\n",
              "        vertical-align: top;\n",
              "    }\n",
              "\n",
              "    .dataframe thead tr th {\n",
              "        text-align: left;\n",
              "    }\n",
              "\n",
              "    .dataframe thead tr:last-of-type th {\n",
              "        text-align: right;\n",
              "    }\n",
              "</style>\n",
              "<table border=\"1\" class=\"dataframe\">\n",
              "  <thead>\n",
              "    <tr>\n",
              "      <th>Date</th>\n",
              "    </tr>\n",
              "  </thead>\n",
              "  <tbody>\n",
              "  </tbody>\n",
              "</table>\n",
              "</div>\n",
              "      <button class=\"colab-df-convert\" onclick=\"convertToInteractive('df-80e0d57f-cb8e-417a-9b0a-9220f0f75eea')\"\n",
              "              title=\"Convert this dataframe to an interactive table.\"\n",
              "              style=\"display:none;\">\n",
              "        \n",
              "  <svg xmlns=\"http://www.w3.org/2000/svg\" height=\"24px\"viewBox=\"0 0 24 24\"\n",
              "       width=\"24px\">\n",
              "    <path d=\"M0 0h24v24H0V0z\" fill=\"none\"/>\n",
              "    <path d=\"M18.56 5.44l.94 2.06.94-2.06 2.06-.94-2.06-.94-.94-2.06-.94 2.06-2.06.94zm-11 1L8.5 8.5l.94-2.06 2.06-.94-2.06-.94L8.5 2.5l-.94 2.06-2.06.94zm10 10l.94 2.06.94-2.06 2.06-.94-2.06-.94-.94-2.06-.94 2.06-2.06.94z\"/><path d=\"M17.41 7.96l-1.37-1.37c-.4-.4-.92-.59-1.43-.59-.52 0-1.04.2-1.43.59L10.3 9.45l-7.72 7.72c-.78.78-.78 2.05 0 2.83L4 21.41c.39.39.9.59 1.41.59.51 0 1.02-.2 1.41-.59l7.78-7.78 2.81-2.81c.8-.78.8-2.07 0-2.86zM5.41 20L4 18.59l7.72-7.72 1.47 1.35L5.41 20z\"/>\n",
              "  </svg>\n",
              "      </button>\n",
              "      \n",
              "  <style>\n",
              "    .colab-df-container {\n",
              "      display:flex;\n",
              "      flex-wrap:wrap;\n",
              "      gap: 12px;\n",
              "    }\n",
              "\n",
              "    .colab-df-convert {\n",
              "      background-color: #E8F0FE;\n",
              "      border: none;\n",
              "      border-radius: 50%;\n",
              "      cursor: pointer;\n",
              "      display: none;\n",
              "      fill: #1967D2;\n",
              "      height: 32px;\n",
              "      padding: 0 0 0 0;\n",
              "      width: 32px;\n",
              "    }\n",
              "\n",
              "    .colab-df-convert:hover {\n",
              "      background-color: #E2EBFA;\n",
              "      box-shadow: 0px 1px 2px rgba(60, 64, 67, 0.3), 0px 1px 3px 1px rgba(60, 64, 67, 0.15);\n",
              "      fill: #174EA6;\n",
              "    }\n",
              "\n",
              "    [theme=dark] .colab-df-convert {\n",
              "      background-color: #3B4455;\n",
              "      fill: #D2E3FC;\n",
              "    }\n",
              "\n",
              "    [theme=dark] .colab-df-convert:hover {\n",
              "      background-color: #434B5C;\n",
              "      box-shadow: 0px 1px 3px 1px rgba(0, 0, 0, 0.15);\n",
              "      filter: drop-shadow(0px 1px 2px rgba(0, 0, 0, 0.3));\n",
              "      fill: #FFFFFF;\n",
              "    }\n",
              "  </style>\n",
              "\n",
              "      <script>\n",
              "        const buttonEl =\n",
              "          document.querySelector('#df-80e0d57f-cb8e-417a-9b0a-9220f0f75eea button.colab-df-convert');\n",
              "        buttonEl.style.display =\n",
              "          google.colab.kernel.accessAllowed ? 'block' : 'none';\n",
              "\n",
              "        async function convertToInteractive(key) {\n",
              "          const element = document.querySelector('#df-80e0d57f-cb8e-417a-9b0a-9220f0f75eea');\n",
              "          const dataTable =\n",
              "            await google.colab.kernel.invokeFunction('convertToInteractive',\n",
              "                                                     [key], {});\n",
              "          if (!dataTable) return;\n",
              "\n",
              "          const docLinkHtml = 'Like what you see? Visit the ' +\n",
              "            '<a target=\"_blank\" href=https://colab.research.google.com/notebooks/data_table.ipynb>data table notebook</a>'\n",
              "            + ' to learn more about interactive tables.';\n",
              "          element.innerHTML = '';\n",
              "          dataTable['output_type'] = 'display_data';\n",
              "          await google.colab.output.renderOutput(dataTable, element);\n",
              "          const docLink = document.createElement('div');\n",
              "          docLink.innerHTML = docLinkHtml;\n",
              "          element.appendChild(docLink);\n",
              "        }\n",
              "      </script>\n",
              "    </div>\n",
              "  </div>\n",
              "  "
            ]
          },
          "metadata": {},
          "execution_count": 12
        }
      ],
      "source": [
        "df.compare(df._get_numeric_data())"
      ]
    },
    {
      "cell_type": "code",
      "execution_count": null,
      "id": "d34bb1bc",
      "metadata": {
        "colab": {
          "base_uri": "https://localhost:8080/"
        },
        "id": "d34bb1bc",
        "outputId": "d42f489d-bf24-4b64-d9c9-c0124f101448"
      },
      "outputs": [
        {
          "output_type": "execute_result",
          "data": {
            "text/plain": [
              "DatetimeIndex(['2007-01-02', '2007-01-03', '2007-01-04', '2007-01-05',\n",
              "               '2007-01-08', '2007-01-09', '2007-01-10', '2007-01-11',\n",
              "               '2007-01-12', '2007-01-15',\n",
              "               ...\n",
              "               '2021-12-16', '2021-12-17', '2021-12-20', '2021-12-21',\n",
              "               '2021-12-22', '2021-12-23', '2021-12-27', '2021-12-28',\n",
              "               '2021-12-29', '2021-12-30'],\n",
              "              dtype='datetime64[ns]', name='Date', length=3706, freq=None)"
            ]
          },
          "metadata": {},
          "execution_count": 13
        }
      ],
      "source": [
        "df.index"
      ]
    },
    {
      "cell_type": "code",
      "execution_count": null,
      "id": "2f482273",
      "metadata": {
        "colab": {
          "base_uri": "https://localhost:8080/",
          "height": 300
        },
        "id": "2f482273",
        "outputId": "55f05e96-03d5-4372-946c-1d3e9154e7dc"
      },
      "outputs": [
        {
          "output_type": "execute_result",
          "data": {
            "text/plain": [
              "           Close\n",
              "count    3706.00\n",
              "mean    68309.46\n",
              "std     21712.33\n",
              "min     29435.00\n",
              "25%     53231.00\n",
              "50%     61916.50\n",
              "75%     76676.25\n",
              "max    130776.00"
            ],
            "text/html": [
              "\n",
              "  <div id=\"df-9dac8ee3-7e23-4c91-805c-e5487d3723c2\">\n",
              "    <div class=\"colab-df-container\">\n",
              "      <div>\n",
              "<style scoped>\n",
              "    .dataframe tbody tr th:only-of-type {\n",
              "        vertical-align: middle;\n",
              "    }\n",
              "\n",
              "    .dataframe tbody tr th {\n",
              "        vertical-align: top;\n",
              "    }\n",
              "\n",
              "    .dataframe thead th {\n",
              "        text-align: right;\n",
              "    }\n",
              "</style>\n",
              "<table border=\"1\" class=\"dataframe\">\n",
              "  <thead>\n",
              "    <tr style=\"text-align: right;\">\n",
              "      <th></th>\n",
              "      <th>Close</th>\n",
              "    </tr>\n",
              "  </thead>\n",
              "  <tbody>\n",
              "    <tr>\n",
              "      <th>count</th>\n",
              "      <td>3706.00</td>\n",
              "    </tr>\n",
              "    <tr>\n",
              "      <th>mean</th>\n",
              "      <td>68309.46</td>\n",
              "    </tr>\n",
              "    <tr>\n",
              "      <th>std</th>\n",
              "      <td>21712.33</td>\n",
              "    </tr>\n",
              "    <tr>\n",
              "      <th>min</th>\n",
              "      <td>29435.00</td>\n",
              "    </tr>\n",
              "    <tr>\n",
              "      <th>25%</th>\n",
              "      <td>53231.00</td>\n",
              "    </tr>\n",
              "    <tr>\n",
              "      <th>50%</th>\n",
              "      <td>61916.50</td>\n",
              "    </tr>\n",
              "    <tr>\n",
              "      <th>75%</th>\n",
              "      <td>76676.25</td>\n",
              "    </tr>\n",
              "    <tr>\n",
              "      <th>max</th>\n",
              "      <td>130776.00</td>\n",
              "    </tr>\n",
              "  </tbody>\n",
              "</table>\n",
              "</div>\n",
              "      <button class=\"colab-df-convert\" onclick=\"convertToInteractive('df-9dac8ee3-7e23-4c91-805c-e5487d3723c2')\"\n",
              "              title=\"Convert this dataframe to an interactive table.\"\n",
              "              style=\"display:none;\">\n",
              "        \n",
              "  <svg xmlns=\"http://www.w3.org/2000/svg\" height=\"24px\"viewBox=\"0 0 24 24\"\n",
              "       width=\"24px\">\n",
              "    <path d=\"M0 0h24v24H0V0z\" fill=\"none\"/>\n",
              "    <path d=\"M18.56 5.44l.94 2.06.94-2.06 2.06-.94-2.06-.94-.94-2.06-.94 2.06-2.06.94zm-11 1L8.5 8.5l.94-2.06 2.06-.94-2.06-.94L8.5 2.5l-.94 2.06-2.06.94zm10 10l.94 2.06.94-2.06 2.06-.94-2.06-.94-.94-2.06-.94 2.06-2.06.94z\"/><path d=\"M17.41 7.96l-1.37-1.37c-.4-.4-.92-.59-1.43-.59-.52 0-1.04.2-1.43.59L10.3 9.45l-7.72 7.72c-.78.78-.78 2.05 0 2.83L4 21.41c.39.39.9.59 1.41.59.51 0 1.02-.2 1.41-.59l7.78-7.78 2.81-2.81c.8-.78.8-2.07 0-2.86zM5.41 20L4 18.59l7.72-7.72 1.47 1.35L5.41 20z\"/>\n",
              "  </svg>\n",
              "      </button>\n",
              "      \n",
              "  <style>\n",
              "    .colab-df-container {\n",
              "      display:flex;\n",
              "      flex-wrap:wrap;\n",
              "      gap: 12px;\n",
              "    }\n",
              "\n",
              "    .colab-df-convert {\n",
              "      background-color: #E8F0FE;\n",
              "      border: none;\n",
              "      border-radius: 50%;\n",
              "      cursor: pointer;\n",
              "      display: none;\n",
              "      fill: #1967D2;\n",
              "      height: 32px;\n",
              "      padding: 0 0 0 0;\n",
              "      width: 32px;\n",
              "    }\n",
              "\n",
              "    .colab-df-convert:hover {\n",
              "      background-color: #E2EBFA;\n",
              "      box-shadow: 0px 1px 2px rgba(60, 64, 67, 0.3), 0px 1px 3px 1px rgba(60, 64, 67, 0.15);\n",
              "      fill: #174EA6;\n",
              "    }\n",
              "\n",
              "    [theme=dark] .colab-df-convert {\n",
              "      background-color: #3B4455;\n",
              "      fill: #D2E3FC;\n",
              "    }\n",
              "\n",
              "    [theme=dark] .colab-df-convert:hover {\n",
              "      background-color: #434B5C;\n",
              "      box-shadow: 0px 1px 3px 1px rgba(0, 0, 0, 0.15);\n",
              "      filter: drop-shadow(0px 1px 2px rgba(0, 0, 0, 0.3));\n",
              "      fill: #FFFFFF;\n",
              "    }\n",
              "  </style>\n",
              "\n",
              "      <script>\n",
              "        const buttonEl =\n",
              "          document.querySelector('#df-9dac8ee3-7e23-4c91-805c-e5487d3723c2 button.colab-df-convert');\n",
              "        buttonEl.style.display =\n",
              "          google.colab.kernel.accessAllowed ? 'block' : 'none';\n",
              "\n",
              "        async function convertToInteractive(key) {\n",
              "          const element = document.querySelector('#df-9dac8ee3-7e23-4c91-805c-e5487d3723c2');\n",
              "          const dataTable =\n",
              "            await google.colab.kernel.invokeFunction('convertToInteractive',\n",
              "                                                     [key], {});\n",
              "          if (!dataTable) return;\n",
              "\n",
              "          const docLinkHtml = 'Like what you see? Visit the ' +\n",
              "            '<a target=\"_blank\" href=https://colab.research.google.com/notebooks/data_table.ipynb>data table notebook</a>'\n",
              "            + ' to learn more about interactive tables.';\n",
              "          element.innerHTML = '';\n",
              "          dataTable['output_type'] = 'display_data';\n",
              "          await google.colab.output.renderOutput(dataTable, element);\n",
              "          const docLink = document.createElement('div');\n",
              "          docLink.innerHTML = docLinkHtml;\n",
              "          element.appendChild(docLink);\n",
              "        }\n",
              "      </script>\n",
              "    </div>\n",
              "  </div>\n",
              "  "
            ]
          },
          "metadata": {},
          "execution_count": 14
        }
      ],
      "source": [
        "df[['Close']].describe().round(2)"
      ]
    },
    {
      "cell_type": "code",
      "execution_count": null,
      "id": "3415740a",
      "metadata": {
        "scrolled": true,
        "colab": {
          "base_uri": "https://localhost:8080/",
          "height": 542
        },
        "id": "3415740a",
        "outputId": "13703f4d-beb0-4ed0-c2f7-3858d5109211"
      },
      "outputs": [
        {
          "output_type": "display_data",
          "data": {
            "text/html": [
              "<html>\n",
              "<head><meta charset=\"utf-8\" /></head>\n",
              "<body>\n",
              "    <div>            <script src=\"https://cdnjs.cloudflare.com/ajax/libs/mathjax/2.7.5/MathJax.js?config=TeX-AMS-MML_SVG\"></script><script type=\"text/javascript\">if (window.MathJax) {MathJax.Hub.Config({SVG: {font: \"STIX-Web\"}});}</script>                <script type=\"text/javascript\">window.PlotlyConfig = {MathJaxConfig: 'local'};</script>\n",
              "        <script src=\"https://cdn.plot.ly/plotly-2.8.3.min.js\"></script>                <div id=\"5c0deb00-5834-44e8-91f3-b762e60657bd\" class=\"plotly-graph-div\" style=\"height:525px; width:100%;\"></div>            <script type=\"text/javascript\">                                    window.PLOTLYENV=window.PLOTLYENV || {};                                    if (document.getElementById(\"5c0deb00-5834-44e8-91f3-b762e60657bd\")) {                    Plotly.newPlot(                        \"5c0deb00-5834-44e8-91f3-b762e60657bd\",                        [{\"hovertemplate\":\"Date=%{x}<br>Close=%{y}<extra></extra>\",\"legendgroup\":\"\",\"line\":{\"color\":\"#636efa\",\"dash\":\"solid\"},\"marker\":{\"symbol\":\"circle\"},\"mode\":\"lines\",\"name\":\"\",\"showlegend\":false,\"x\":[\"2007-01-02T00:00:00\",\"2007-01-03T00:00:00\",\"2007-01-04T00:00:00\",\"2007-01-05T00:00:00\",\"2007-01-08T00:00:00\",\"2007-01-09T00:00:00\",\"2007-01-10T00:00:00\",\"2007-01-11T00:00:00\",\"2007-01-12T00:00:00\",\"2007-01-15T00:00:00\",\"2007-01-16T00:00:00\",\"2007-01-17T00:00:00\",\"2007-01-18T00:00:00\",\"2007-01-19T00:00:00\",\"2007-01-22T00:00:00\",\"2007-01-23T00:00:00\",\"2007-01-24T00:00:00\",\"2007-01-26T00:00:00\",\"2007-01-29T00:00:00\",\"2007-01-30T00:00:00\",\"2007-01-31T00:00:00\",\"2007-02-01T00:00:00\",\"2007-02-02T00:00:00\",\"2007-02-05T00:00:00\",\"2007-02-06T00:00:00\",\"2007-02-07T00:00:00\",\"2007-02-08T00:00:00\",\"2007-02-09T00:00:00\",\"2007-02-12T00:00:00\",\"2007-02-13T00:00:00\",\"2007-02-14T00:00:00\",\"2007-02-15T00:00:00\",\"2007-02-16T00:00:00\",\"2007-02-21T00:00:00\",\"2007-02-22T00:00:00\",\"2007-02-23T00:00:00\",\"2007-02-26T00:00:00\",\"2007-02-27T00:00:00\",\"2007-02-28T00:00:00\",\"2007-03-01T00:00:00\",\"2007-03-02T00:00:00\",\"2007-03-05T00:00:00\",\"2007-03-06T00:00:00\",\"2007-03-07T00:00:00\",\"2007-03-08T00:00:00\",\"2007-03-09T00:00:00\",\"2007-03-12T00:00:00\",\"2007-03-13T00:00:00\",\"2007-03-14T00:00:00\",\"2007-03-15T00:00:00\",\"2007-03-16T00:00:00\",\"2007-03-19T00:00:00\",\"2007-03-20T00:00:00\",\"2007-03-21T00:00:00\",\"2007-03-22T00:00:00\",\"2007-03-23T00:00:00\",\"2007-03-26T00:00:00\",\"2007-03-27T00:00:00\",\"2007-03-28T00:00:00\",\"2007-03-29T00:00:00\",\"2007-03-30T00:00:00\",\"2007-04-02T00:00:00\",\"2007-04-03T00:00:00\",\"2007-04-04T00:00:00\",\"2007-04-05T00:00:00\",\"2007-04-09T00:00:00\",\"2007-04-10T00:00:00\",\"2007-04-11T00:00:00\",\"2007-04-12T00:00:00\",\"2007-04-13T00:00:00\",\"2007-04-16T00:00:00\",\"2007-04-17T00:00:00\",\"2007-04-18T00:00:00\",\"2007-04-19T00:00:00\",\"2007-04-20T00:00:00\",\"2007-04-23T00:00:00\",\"2007-04-24T00:00:00\",\"2007-04-25T00:00:00\",\"2007-04-26T00:00:00\",\"2007-04-27T00:00:00\",\"2007-04-30T00:00:00\",\"2007-05-02T00:00:00\",\"2007-05-03T00:00:00\",\"2007-05-04T00:00:00\",\"2007-05-07T00:00:00\",\"2007-05-08T00:00:00\",\"2007-05-09T00:00:00\",\"2007-05-10T00:00:00\",\"2007-05-11T00:00:00\",\"2007-05-14T00:00:00\",\"2007-05-15T00:00:00\",\"2007-05-16T00:00:00\",\"2007-05-17T00:00:00\",\"2007-05-18T00:00:00\",\"2007-05-21T00:00:00\",\"2007-05-22T00:00:00\",\"2007-05-23T00:00:00\",\"2007-05-24T00:00:00\",\"2007-05-25T00:00:00\",\"2007-05-28T00:00:00\",\"2007-05-29T00:00:00\",\"2007-05-30T00:00:00\",\"2007-05-31T00:00:00\",\"2007-06-01T00:00:00\",\"2007-06-04T00:00:00\",\"2007-06-05T00:00:00\",\"2007-06-06T00:00:00\",\"2007-06-08T00:00:00\",\"2007-06-11T00:00:00\",\"2007-06-12T00:00:00\",\"2007-06-13T00:00:00\",\"2007-06-14T00:00:00\",\"2007-06-15T00:00:00\",\"2007-06-18T00:00:00\",\"2007-06-19T00:00:00\",\"2007-06-20T00:00:00\",\"2007-06-21T00:00:00\",\"2007-06-22T00:00:00\",\"2007-06-25T00:00:00\",\"2007-06-26T00:00:00\",\"2007-06-27T00:00:00\",\"2007-06-28T00:00:00\",\"2007-06-29T00:00:00\",\"2007-07-02T00:00:00\",\"2007-07-03T00:00:00\",\"2007-07-04T00:00:00\",\"2007-07-05T00:00:00\",\"2007-07-06T00:00:00\",\"2007-07-10T00:00:00\",\"2007-07-11T00:00:00\",\"2007-07-12T00:00:00\",\"2007-07-13T00:00:00\",\"2007-07-16T00:00:00\",\"2007-07-17T00:00:00\",\"2007-07-18T00:00:00\",\"2007-07-19T00:00:00\",\"2007-07-20T00:00:00\",\"2007-07-23T00:00:00\",\"2007-07-24T00:00:00\",\"2007-07-25T00:00:00\",\"2007-07-26T00:00:00\",\"2007-07-27T00:00:00\",\"2007-07-30T00:00:00\",\"2007-07-31T00:00:00\",\"2007-08-01T00:00:00\",\"2007-08-02T00:00:00\",\"2007-08-03T00:00:00\",\"2007-08-06T00:00:00\",\"2007-08-07T00:00:00\",\"2007-08-08T00:00:00\",\"2007-08-09T00:00:00\",\"2007-08-10T00:00:00\",\"2007-08-13T00:00:00\",\"2007-08-14T00:00:00\",\"2007-08-15T00:00:00\",\"2007-08-16T00:00:00\",\"2007-08-17T00:00:00\",\"2007-08-20T00:00:00\",\"2007-08-21T00:00:00\",\"2007-08-22T00:00:00\",\"2007-08-23T00:00:00\",\"2007-08-24T00:00:00\",\"2007-08-27T00:00:00\",\"2007-08-28T00:00:00\",\"2007-08-29T00:00:00\",\"2007-08-30T00:00:00\",\"2007-08-31T00:00:00\",\"2007-09-03T00:00:00\",\"2007-09-04T00:00:00\",\"2007-09-05T00:00:00\",\"2007-09-06T00:00:00\",\"2007-09-10T00:00:00\",\"2007-09-11T00:00:00\",\"2007-09-12T00:00:00\",\"2007-09-13T00:00:00\",\"2007-09-14T00:00:00\",\"2007-09-17T00:00:00\",\"2007-09-18T00:00:00\",\"2007-09-19T00:00:00\",\"2007-09-20T00:00:00\",\"2007-09-21T00:00:00\",\"2007-09-24T00:00:00\",\"2007-09-25T00:00:00\",\"2007-09-26T00:00:00\",\"2007-09-27T00:00:00\",\"2007-09-28T00:00:00\",\"2007-10-01T00:00:00\",\"2007-10-02T00:00:00\",\"2007-10-03T00:00:00\",\"2007-10-04T00:00:00\",\"2007-10-05T00:00:00\",\"2007-10-08T00:00:00\",\"2007-10-09T00:00:00\",\"2007-10-10T00:00:00\",\"2007-10-11T00:00:00\",\"2007-10-15T00:00:00\",\"2007-10-16T00:00:00\",\"2007-10-17T00:00:00\",\"2007-10-18T00:00:00\",\"2007-10-19T00:00:00\",\"2007-10-22T00:00:00\",\"2007-10-23T00:00:00\",\"2007-10-24T00:00:00\",\"2007-10-25T00:00:00\",\"2007-10-26T00:00:00\",\"2007-10-29T00:00:00\",\"2007-10-30T00:00:00\",\"2007-10-31T00:00:00\",\"2007-11-01T00:00:00\",\"2007-11-05T00:00:00\",\"2007-11-06T00:00:00\",\"2007-11-07T00:00:00\",\"2007-11-08T00:00:00\",\"2007-11-09T00:00:00\",\"2007-11-12T00:00:00\",\"2007-11-13T00:00:00\",\"2007-11-14T00:00:00\",\"2007-11-16T00:00:00\",\"2007-11-19T00:00:00\",\"2007-11-21T00:00:00\",\"2007-11-22T00:00:00\",\"2007-11-23T00:00:00\",\"2007-11-26T00:00:00\",\"2007-11-27T00:00:00\",\"2007-11-28T00:00:00\",\"2007-11-29T00:00:00\",\"2007-11-30T00:00:00\",\"2007-12-03T00:00:00\",\"2007-12-04T00:00:00\",\"2007-12-05T00:00:00\",\"2007-12-06T00:00:00\",\"2007-12-07T00:00:00\",\"2007-12-10T00:00:00\",\"2007-12-11T00:00:00\",\"2007-12-12T00:00:00\",\"2007-12-13T00:00:00\",\"2007-12-14T00:00:00\",\"2007-12-17T00:00:00\",\"2007-12-18T00:00:00\",\"2007-12-19T00:00:00\",\"2007-12-20T00:00:00\",\"2007-12-21T00:00:00\",\"2007-12-26T00:00:00\",\"2007-12-27T00:00:00\",\"2007-12-28T00:00:00\",\"2008-01-02T00:00:00\",\"2008-01-03T00:00:00\",\"2008-01-04T00:00:00\",\"2008-01-07T00:00:00\",\"2008-01-08T00:00:00\",\"2008-01-09T00:00:00\",\"2008-01-10T00:00:00\",\"2008-01-11T00:00:00\",\"2008-01-14T00:00:00\",\"2008-01-15T00:00:00\",\"2008-01-16T00:00:00\",\"2008-01-17T00:00:00\",\"2008-01-18T00:00:00\",\"2008-01-21T00:00:00\",\"2008-01-22T00:00:00\",\"2008-01-23T00:00:00\",\"2008-01-24T00:00:00\",\"2008-01-28T00:00:00\",\"2008-01-29T00:00:00\",\"2008-01-30T00:00:00\",\"2008-01-31T00:00:00\",\"2008-02-01T00:00:00\",\"2008-02-06T00:00:00\",\"2008-02-07T00:00:00\",\"2008-02-08T00:00:00\",\"2008-02-11T00:00:00\",\"2008-02-12T00:00:00\",\"2008-02-13T00:00:00\",\"2008-02-14T00:00:00\",\"2008-02-15T00:00:00\",\"2008-02-18T00:00:00\",\"2008-02-19T00:00:00\",\"2008-02-20T00:00:00\",\"2008-02-21T00:00:00\",\"2008-02-22T00:00:00\",\"2008-02-25T00:00:00\",\"2008-02-26T00:00:00\",\"2008-02-27T00:00:00\",\"2008-02-28T00:00:00\",\"2008-02-29T00:00:00\",\"2008-03-03T00:00:00\",\"2008-03-04T00:00:00\",\"2008-03-05T00:00:00\",\"2008-03-06T00:00:00\",\"2008-03-07T00:00:00\",\"2008-03-10T00:00:00\",\"2008-03-11T00:00:00\",\"2008-03-12T00:00:00\",\"2008-03-13T00:00:00\",\"2008-03-14T00:00:00\",\"2008-03-17T00:00:00\",\"2008-03-18T00:00:00\",\"2008-03-19T00:00:00\",\"2008-03-20T00:00:00\",\"2008-03-24T00:00:00\",\"2008-03-25T00:00:00\",\"2008-03-26T00:00:00\",\"2008-03-27T00:00:00\",\"2008-03-28T00:00:00\",\"2008-03-31T00:00:00\",\"2008-04-01T00:00:00\",\"2008-04-02T00:00:00\",\"2008-04-03T00:00:00\",\"2008-04-04T00:00:00\",\"2008-04-07T00:00:00\",\"2008-04-08T00:00:00\",\"2008-04-09T00:00:00\",\"2008-04-10T00:00:00\",\"2008-04-11T00:00:00\",\"2008-04-14T00:00:00\",\"2008-04-15T00:00:00\",\"2008-04-16T00:00:00\",\"2008-04-17T00:00:00\",\"2008-04-18T00:00:00\",\"2008-04-22T00:00:00\",\"2008-04-23T00:00:00\",\"2008-04-24T00:00:00\",\"2008-04-25T00:00:00\",\"2008-04-28T00:00:00\",\"2008-04-29T00:00:00\",\"2008-04-30T00:00:00\",\"2008-05-02T00:00:00\",\"2008-05-05T00:00:00\",\"2008-05-06T00:00:00\",\"2008-05-07T00:00:00\",\"2008-05-08T00:00:00\",\"2008-05-09T00:00:00\",\"2008-05-12T00:00:00\",\"2008-05-13T00:00:00\",\"2008-05-14T00:00:00\",\"2008-05-15T00:00:00\",\"2008-05-16T00:00:00\",\"2008-05-19T00:00:00\",\"2008-05-20T00:00:00\",\"2008-05-21T00:00:00\",\"2008-05-23T00:00:00\",\"2008-05-26T00:00:00\",\"2008-05-27T00:00:00\",\"2008-05-28T00:00:00\",\"2008-05-29T00:00:00\",\"2008-05-30T00:00:00\",\"2008-06-02T00:00:00\",\"2008-06-03T00:00:00\",\"2008-06-04T00:00:00\",\"2008-06-05T00:00:00\",\"2008-06-06T00:00:00\",\"2008-06-09T00:00:00\",\"2008-06-10T00:00:00\",\"2008-06-11T00:00:00\",\"2008-06-12T00:00:00\",\"2008-06-13T00:00:00\",\"2008-06-16T00:00:00\",\"2008-06-17T00:00:00\",\"2008-06-18T00:00:00\",\"2008-06-19T00:00:00\",\"2008-06-20T00:00:00\",\"2008-06-23T00:00:00\",\"2008-06-24T00:00:00\",\"2008-06-25T00:00:00\",\"2008-06-26T00:00:00\",\"2008-06-27T00:00:00\",\"2008-06-30T00:00:00\",\"2008-07-01T00:00:00\",\"2008-07-02T00:00:00\",\"2008-07-03T00:00:00\",\"2008-07-04T00:00:00\",\"2008-07-07T00:00:00\",\"2008-07-08T00:00:00\",\"2008-07-10T00:00:00\",\"2008-07-11T00:00:00\",\"2008-07-14T00:00:00\",\"2008-07-15T00:00:00\",\"2008-07-16T00:00:00\",\"2008-07-17T00:00:00\",\"2008-07-18T00:00:00\",\"2008-07-21T00:00:00\",\"2008-07-22T00:00:00\",\"2008-07-23T00:00:00\",\"2008-07-24T00:00:00\",\"2008-07-25T00:00:00\",\"2008-07-28T00:00:00\",\"2008-07-29T00:00:00\",\"2008-07-30T00:00:00\",\"2008-07-31T00:00:00\",\"2008-08-01T00:00:00\",\"2008-08-04T00:00:00\",\"2008-08-05T00:00:00\",\"2008-08-06T00:00:00\",\"2008-08-07T00:00:00\",\"2008-08-08T00:00:00\",\"2008-08-11T00:00:00\",\"2008-08-12T00:00:00\",\"2008-08-13T00:00:00\",\"2008-08-14T00:00:00\",\"2008-08-15T00:00:00\",\"2008-08-18T00:00:00\",\"2008-08-19T00:00:00\",\"2008-08-20T00:00:00\",\"2008-08-21T00:00:00\",\"2008-08-22T00:00:00\",\"2008-08-25T00:00:00\",\"2008-08-26T00:00:00\",\"2008-08-27T00:00:00\",\"2008-08-28T00:00:00\",\"2008-08-29T00:00:00\",\"2008-09-01T00:00:00\",\"2008-09-02T00:00:00\",\"2008-09-03T00:00:00\",\"2008-09-04T00:00:00\",\"2008-09-05T00:00:00\",\"2008-09-08T00:00:00\",\"2008-09-09T00:00:00\",\"2008-09-10T00:00:00\",\"2008-09-11T00:00:00\",\"2008-09-12T00:00:00\",\"2008-09-15T00:00:00\",\"2008-09-16T00:00:00\",\"2008-09-17T00:00:00\",\"2008-09-18T00:00:00\",\"2008-09-19T00:00:00\",\"2008-09-22T00:00:00\",\"2008-09-23T00:00:00\",\"2008-09-24T00:00:00\",\"2008-09-25T00:00:00\",\"2008-09-26T00:00:00\",\"2008-09-29T00:00:00\",\"2008-09-30T00:00:00\",\"2008-10-01T00:00:00\",\"2008-10-02T00:00:00\",\"2008-10-03T00:00:00\",\"2008-10-06T00:00:00\",\"2008-10-07T00:00:00\",\"2008-10-08T00:00:00\",\"2008-10-09T00:00:00\",\"2008-10-10T00:00:00\",\"2008-10-13T00:00:00\",\"2008-10-14T00:00:00\",\"2008-10-15T00:00:00\",\"2008-10-16T00:00:00\",\"2008-10-17T00:00:00\",\"2008-10-20T00:00:00\",\"2008-10-21T00:00:00\",\"2008-10-22T00:00:00\",\"2008-10-23T00:00:00\",\"2008-10-24T00:00:00\",\"2008-10-27T00:00:00\",\"2008-10-28T00:00:00\",\"2008-10-29T00:00:00\",\"2008-10-30T00:00:00\",\"2008-10-31T00:00:00\",\"2008-11-03T00:00:00\",\"2008-11-04T00:00:00\",\"2008-11-05T00:00:00\",\"2008-11-06T00:00:00\",\"2008-11-07T00:00:00\",\"2008-11-10T00:00:00\",\"2008-11-11T00:00:00\",\"2008-11-12T00:00:00\",\"2008-11-13T00:00:00\",\"2008-11-14T00:00:00\",\"2008-11-17T00:00:00\",\"2008-11-18T00:00:00\",\"2008-11-19T00:00:00\",\"2008-11-21T00:00:00\",\"2008-11-24T00:00:00\",\"2008-11-25T00:00:00\",\"2008-11-26T00:00:00\",\"2008-11-27T00:00:00\",\"2008-11-28T00:00:00\",\"2008-12-01T00:00:00\",\"2008-12-02T00:00:00\",\"2008-12-03T00:00:00\",\"2008-12-04T00:00:00\",\"2008-12-05T00:00:00\",\"2008-12-08T00:00:00\",\"2008-12-09T00:00:00\",\"2008-12-10T00:00:00\",\"2008-12-11T00:00:00\",\"2008-12-12T00:00:00\",\"2008-12-15T00:00:00\",\"2008-12-16T00:00:00\",\"2008-12-17T00:00:00\",\"2008-12-18T00:00:00\",\"2008-12-19T00:00:00\",\"2008-12-22T00:00:00\",\"2008-12-23T00:00:00\",\"2008-12-26T00:00:00\",\"2008-12-29T00:00:00\",\"2008-12-30T00:00:00\",\"2009-01-02T00:00:00\",\"2009-01-05T00:00:00\",\"2009-01-06T00:00:00\",\"2009-01-07T00:00:00\",\"2009-01-08T00:00:00\",\"2009-01-09T00:00:00\",\"2009-01-12T00:00:00\",\"2009-01-13T00:00:00\",\"2009-01-14T00:00:00\",\"2009-01-15T00:00:00\",\"2009-01-16T00:00:00\",\"2009-01-19T00:00:00\",\"2009-01-20T00:00:00\",\"2009-01-21T00:00:00\",\"2009-01-22T00:00:00\",\"2009-01-23T00:00:00\",\"2009-01-26T00:00:00\",\"2009-01-27T00:00:00\",\"2009-01-28T00:00:00\",\"2009-01-29T00:00:00\",\"2009-01-30T00:00:00\",\"2009-02-02T00:00:00\",\"2009-02-03T00:00:00\",\"2009-02-04T00:00:00\",\"2009-02-05T00:00:00\",\"2009-02-06T00:00:00\",\"2009-02-09T00:00:00\",\"2009-02-10T00:00:00\",\"2009-02-11T00:00:00\",\"2009-02-12T00:00:00\",\"2009-02-13T00:00:00\",\"2009-02-16T00:00:00\",\"2009-02-17T00:00:00\",\"2009-02-18T00:00:00\",\"2009-02-19T00:00:00\",\"2009-02-20T00:00:00\",\"2009-02-25T00:00:00\",\"2009-02-26T00:00:00\",\"2009-02-27T00:00:00\",\"2009-03-02T00:00:00\",\"2009-03-03T00:00:00\",\"2009-03-04T00:00:00\",\"2009-03-05T00:00:00\",\"2009-03-06T00:00:00\",\"2009-03-09T00:00:00\",\"2009-03-10T00:00:00\",\"2009-03-11T00:00:00\",\"2009-03-12T00:00:00\",\"2009-03-13T00:00:00\",\"2009-03-16T00:00:00\",\"2009-03-17T00:00:00\",\"2009-03-18T00:00:00\",\"2009-03-19T00:00:00\",\"2009-03-20T00:00:00\",\"2009-03-23T00:00:00\",\"2009-03-24T00:00:00\",\"2009-03-25T00:00:00\",\"2009-03-26T00:00:00\",\"2009-03-27T00:00:00\",\"2009-03-30T00:00:00\",\"2009-03-31T00:00:00\",\"2009-04-01T00:00:00\",\"2009-04-02T00:00:00\",\"2009-04-03T00:00:00\",\"2009-04-06T00:00:00\",\"2009-04-07T00:00:00\",\"2009-04-08T00:00:00\",\"2009-04-09T00:00:00\",\"2009-04-13T00:00:00\",\"2009-04-14T00:00:00\",\"2009-04-15T00:00:00\",\"2009-04-16T00:00:00\",\"2009-04-17T00:00:00\",\"2009-04-20T00:00:00\",\"2009-04-22T00:00:00\",\"2009-04-23T00:00:00\",\"2009-04-24T00:00:00\",\"2009-04-27T00:00:00\",\"2009-04-28T00:00:00\",\"2009-04-29T00:00:00\",\"2009-04-30T00:00:00\",\"2009-05-04T00:00:00\",\"2009-05-05T00:00:00\",\"2009-05-06T00:00:00\",\"2009-05-07T00:00:00\",\"2009-05-08T00:00:00\",\"2009-05-11T00:00:00\",\"2009-05-12T00:00:00\",\"2009-05-13T00:00:00\",\"2009-05-14T00:00:00\",\"2009-05-15T00:00:00\",\"2009-05-18T00:00:00\",\"2009-05-19T00:00:00\",\"2009-05-20T00:00:00\",\"2009-05-21T00:00:00\",\"2009-05-22T00:00:00\",\"2009-05-25T00:00:00\",\"2009-05-26T00:00:00\",\"2009-05-27T00:00:00\",\"2009-05-28T00:00:00\",\"2009-05-29T00:00:00\",\"2009-06-01T00:00:00\",\"2009-06-02T00:00:00\",\"2009-06-03T00:00:00\",\"2009-06-04T00:00:00\",\"2009-06-05T00:00:00\",\"2009-06-08T00:00:00\",\"2009-06-09T00:00:00\",\"2009-06-10T00:00:00\",\"2009-06-12T00:00:00\",\"2009-06-15T00:00:00\",\"2009-06-16T00:00:00\",\"2009-06-17T00:00:00\",\"2009-06-18T00:00:00\",\"2009-06-19T00:00:00\",\"2009-06-22T00:00:00\",\"2009-06-23T00:00:00\",\"2009-06-24T00:00:00\",\"2009-06-25T00:00:00\",\"2009-06-26T00:00:00\",\"2009-06-29T00:00:00\",\"2009-06-30T00:00:00\",\"2009-07-01T00:00:00\",\"2009-07-02T00:00:00\",\"2009-07-03T00:00:00\",\"2009-07-06T00:00:00\",\"2009-07-07T00:00:00\",\"2009-07-08T00:00:00\",\"2009-07-10T00:00:00\",\"2009-07-13T00:00:00\",\"2009-07-14T00:00:00\",\"2009-07-15T00:00:00\",\"2009-07-16T00:00:00\",\"2009-07-17T00:00:00\",\"2009-07-20T00:00:00\",\"2009-07-21T00:00:00\",\"2009-07-22T00:00:00\",\"2009-07-23T00:00:00\",\"2009-07-24T00:00:00\",\"2009-07-27T00:00:00\",\"2009-07-28T00:00:00\",\"2009-07-29T00:00:00\",\"2009-07-30T00:00:00\",\"2009-07-31T00:00:00\",\"2009-08-03T00:00:00\",\"2009-08-04T00:00:00\",\"2009-08-05T00:00:00\",\"2009-08-06T00:00:00\",\"2009-08-07T00:00:00\",\"2009-08-10T00:00:00\",\"2009-08-11T00:00:00\",\"2009-08-12T00:00:00\",\"2009-08-13T00:00:00\",\"2009-08-14T00:00:00\",\"2009-08-17T00:00:00\",\"2009-08-18T00:00:00\",\"2009-08-19T00:00:00\",\"2009-08-20T00:00:00\",\"2009-08-21T00:00:00\",\"2009-08-24T00:00:00\",\"2009-08-25T00:00:00\",\"2009-08-26T00:00:00\",\"2009-08-27T00:00:00\",\"2009-08-28T00:00:00\",\"2009-08-31T00:00:00\",\"2009-09-01T00:00:00\",\"2009-09-02T00:00:00\",\"2009-09-03T00:00:00\",\"2009-09-04T00:00:00\",\"2009-09-08T00:00:00\",\"2009-09-09T00:00:00\",\"2009-09-10T00:00:00\",\"2009-09-11T00:00:00\",\"2009-09-14T00:00:00\",\"2009-09-15T00:00:00\",\"2009-09-16T00:00:00\",\"2009-09-17T00:00:00\",\"2009-09-18T00:00:00\",\"2009-09-21T00:00:00\",\"2009-09-22T00:00:00\",\"2009-09-23T00:00:00\",\"2009-09-24T00:00:00\",\"2009-09-25T00:00:00\",\"2009-09-28T00:00:00\",\"2009-09-29T00:00:00\",\"2009-09-30T00:00:00\",\"2009-10-01T00:00:00\",\"2009-10-02T00:00:00\",\"2009-10-05T00:00:00\",\"2009-10-06T00:00:00\",\"2009-10-07T00:00:00\",\"2009-10-08T00:00:00\",\"2009-10-09T00:00:00\",\"2009-10-13T00:00:00\",\"2009-10-14T00:00:00\",\"2009-10-15T00:00:00\",\"2009-10-16T00:00:00\",\"2009-10-19T00:00:00\",\"2009-10-20T00:00:00\",\"2009-10-21T00:00:00\",\"2009-10-22T00:00:00\",\"2009-10-23T00:00:00\",\"2009-10-26T00:00:00\",\"2009-10-27T00:00:00\",\"2009-10-28T00:00:00\",\"2009-10-29T00:00:00\",\"2009-10-30T00:00:00\",\"2009-11-03T00:00:00\",\"2009-11-04T00:00:00\",\"2009-11-05T00:00:00\",\"2009-11-06T00:00:00\",\"2009-11-09T00:00:00\",\"2009-11-10T00:00:00\",\"2009-11-11T00:00:00\",\"2009-11-12T00:00:00\",\"2009-11-13T00:00:00\",\"2009-11-16T00:00:00\",\"2009-11-17T00:00:00\",\"2009-11-18T00:00:00\",\"2009-11-19T00:00:00\",\"2009-11-23T00:00:00\",\"2009-11-24T00:00:00\",\"2009-11-25T00:00:00\",\"2009-11-26T00:00:00\",\"2009-11-27T00:00:00\",\"2009-11-30T00:00:00\",\"2009-12-01T00:00:00\",\"2009-12-02T00:00:00\",\"2009-12-03T00:00:00\",\"2009-12-04T00:00:00\",\"2009-12-07T00:00:00\",\"2009-12-08T00:00:00\",\"2009-12-09T00:00:00\",\"2009-12-10T00:00:00\",\"2009-12-11T00:00:00\",\"2009-12-14T00:00:00\",\"2009-12-15T00:00:00\",\"2009-12-16T00:00:00\",\"2009-12-17T00:00:00\",\"2009-12-18T00:00:00\",\"2009-12-21T00:00:00\",\"2009-12-22T00:00:00\",\"2009-12-23T00:00:00\",\"2009-12-28T00:00:00\",\"2009-12-29T00:00:00\",\"2009-12-30T00:00:00\",\"2010-01-04T00:00:00\",\"2010-01-05T00:00:00\",\"2010-01-06T00:00:00\",\"2010-01-07T00:00:00\",\"2010-01-08T00:00:00\",\"2010-01-11T00:00:00\",\"2010-01-12T00:00:00\",\"2010-01-13T00:00:00\",\"2010-01-14T00:00:00\",\"2010-01-15T00:00:00\",\"2010-01-18T00:00:00\",\"2010-01-19T00:00:00\",\"2010-01-20T00:00:00\",\"2010-01-21T00:00:00\",\"2010-01-22T00:00:00\",\"2010-01-26T00:00:00\",\"2010-01-27T00:00:00\",\"2010-01-28T00:00:00\",\"2010-01-29T00:00:00\",\"2010-02-01T00:00:00\",\"2010-02-02T00:00:00\",\"2010-02-03T00:00:00\",\"2010-02-04T00:00:00\",\"2010-02-05T00:00:00\",\"2010-02-08T00:00:00\",\"2010-02-09T00:00:00\",\"2010-02-10T00:00:00\",\"2010-02-11T00:00:00\",\"2010-02-12T00:00:00\",\"2010-02-17T00:00:00\",\"2010-02-18T00:00:00\",\"2010-02-19T00:00:00\",\"2010-02-22T00:00:00\",\"2010-02-23T00:00:00\",\"2010-02-24T00:00:00\",\"2010-02-25T00:00:00\",\"2010-02-26T00:00:00\",\"2010-03-01T00:00:00\",\"2010-03-02T00:00:00\",\"2010-03-03T00:00:00\",\"2010-03-04T00:00:00\",\"2010-03-05T00:00:00\",\"2010-03-08T00:00:00\",\"2010-03-09T00:00:00\",\"2010-03-10T00:00:00\",\"2010-03-11T00:00:00\",\"2010-03-12T00:00:00\",\"2010-03-15T00:00:00\",\"2010-03-16T00:00:00\",\"2010-03-17T00:00:00\",\"2010-03-18T00:00:00\",\"2010-03-19T00:00:00\",\"2010-03-22T00:00:00\",\"2010-03-23T00:00:00\",\"2010-03-24T00:00:00\",\"2010-03-25T00:00:00\",\"2010-03-26T00:00:00\",\"2010-03-29T00:00:00\",\"2010-03-30T00:00:00\",\"2010-03-31T00:00:00\",\"2010-04-01T00:00:00\",\"2010-04-05T00:00:00\",\"2010-04-06T00:00:00\",\"2010-04-07T00:00:00\",\"2010-04-08T00:00:00\",\"2010-04-09T00:00:00\",\"2010-04-12T00:00:00\",\"2010-04-13T00:00:00\",\"2010-04-14T00:00:00\",\"2010-04-15T00:00:00\",\"2010-04-16T00:00:00\",\"2010-04-19T00:00:00\",\"2010-04-20T00:00:00\",\"2010-04-22T00:00:00\",\"2010-04-23T00:00:00\",\"2010-04-26T00:00:00\",\"2010-04-27T00:00:00\",\"2010-04-28T00:00:00\",\"2010-04-29T00:00:00\",\"2010-04-30T00:00:00\",\"2010-05-03T00:00:00\",\"2010-05-04T00:00:00\",\"2010-05-05T00:00:00\",\"2010-05-06T00:00:00\",\"2010-05-07T00:00:00\",\"2010-05-10T00:00:00\",\"2010-05-11T00:00:00\",\"2010-05-12T00:00:00\",\"2010-05-13T00:00:00\",\"2010-05-14T00:00:00\",\"2010-05-17T00:00:00\",\"2010-05-18T00:00:00\",\"2010-05-19T00:00:00\",\"2010-05-20T00:00:00\",\"2010-05-21T00:00:00\",\"2010-05-24T00:00:00\",\"2010-05-25T00:00:00\",\"2010-05-26T00:00:00\",\"2010-05-27T00:00:00\",\"2010-05-28T00:00:00\",\"2010-05-31T00:00:00\",\"2010-06-01T00:00:00\",\"2010-06-02T00:00:00\",\"2010-06-04T00:00:00\",\"2010-06-07T00:00:00\",\"2010-06-08T00:00:00\",\"2010-06-09T00:00:00\",\"2010-06-10T00:00:00\",\"2010-06-11T00:00:00\",\"2010-06-14T00:00:00\",\"2010-06-15T00:00:00\",\"2010-06-16T00:00:00\",\"2010-06-17T00:00:00\",\"2010-06-18T00:00:00\",\"2010-06-21T00:00:00\",\"2010-06-22T00:00:00\",\"2010-06-23T00:00:00\",\"2010-06-24T00:00:00\",\"2010-06-25T00:00:00\",\"2010-06-28T00:00:00\",\"2010-06-29T00:00:00\",\"2010-06-30T00:00:00\",\"2010-07-01T00:00:00\",\"2010-07-02T00:00:00\",\"2010-07-05T00:00:00\",\"2010-07-06T00:00:00\",\"2010-07-07T00:00:00\",\"2010-07-08T00:00:00\",\"2010-07-12T00:00:00\",\"2010-07-13T00:00:00\",\"2010-07-14T00:00:00\",\"2010-07-15T00:00:00\",\"2010-07-16T00:00:00\",\"2010-07-19T00:00:00\",\"2010-07-20T00:00:00\",\"2010-07-21T00:00:00\",\"2010-07-22T00:00:00\",\"2010-07-23T00:00:00\",\"2010-07-26T00:00:00\",\"2010-07-27T00:00:00\",\"2010-07-28T00:00:00\",\"2010-07-29T00:00:00\",\"2010-07-30T00:00:00\",\"2010-08-02T00:00:00\",\"2010-08-03T00:00:00\",\"2010-08-04T00:00:00\",\"2010-08-05T00:00:00\",\"2010-08-06T00:00:00\",\"2010-08-09T00:00:00\",\"2010-08-10T00:00:00\",\"2010-08-11T00:00:00\",\"2010-08-12T00:00:00\",\"2010-08-13T00:00:00\",\"2010-08-16T00:00:00\",\"2010-08-17T00:00:00\",\"2010-08-18T00:00:00\",\"2010-08-19T00:00:00\",\"2010-08-20T00:00:00\",\"2010-08-23T00:00:00\",\"2010-08-24T00:00:00\",\"2010-08-25T00:00:00\",\"2010-08-26T00:00:00\",\"2010-08-27T00:00:00\",\"2010-08-30T00:00:00\",\"2010-08-31T00:00:00\",\"2010-09-01T00:00:00\",\"2010-09-02T00:00:00\",\"2010-09-03T00:00:00\",\"2010-09-06T00:00:00\",\"2010-09-08T00:00:00\",\"2010-09-09T00:00:00\",\"2010-09-10T00:00:00\",\"2010-09-13T00:00:00\",\"2010-09-14T00:00:00\",\"2010-09-15T00:00:00\",\"2010-09-16T00:00:00\",\"2010-09-17T00:00:00\",\"2010-09-20T00:00:00\",\"2010-09-21T00:00:00\",\"2010-09-22T00:00:00\",\"2010-09-23T00:00:00\",\"2010-09-24T00:00:00\",\"2010-09-27T00:00:00\",\"2010-09-28T00:00:00\",\"2010-09-29T00:00:00\",\"2010-09-30T00:00:00\",\"2010-10-01T00:00:00\",\"2010-10-04T00:00:00\",\"2010-10-05T00:00:00\",\"2010-10-06T00:00:00\",\"2010-10-07T00:00:00\",\"2010-10-08T00:00:00\",\"2010-10-11T00:00:00\",\"2010-10-13T00:00:00\",\"2010-10-14T00:00:00\",\"2010-10-15T00:00:00\",\"2010-10-18T00:00:00\",\"2010-10-19T00:00:00\",\"2010-10-20T00:00:00\",\"2010-10-21T00:00:00\",\"2010-10-22T00:00:00\",\"2010-10-25T00:00:00\",\"2010-10-26T00:00:00\",\"2010-10-27T00:00:00\",\"2010-10-28T00:00:00\",\"2010-10-29T00:00:00\",\"2010-11-01T00:00:00\",\"2010-11-03T00:00:00\",\"2010-11-04T00:00:00\",\"2010-11-05T00:00:00\",\"2010-11-08T00:00:00\",\"2010-11-09T00:00:00\",\"2010-11-10T00:00:00\",\"2010-11-11T00:00:00\",\"2010-11-12T00:00:00\",\"2010-11-16T00:00:00\",\"2010-11-17T00:00:00\",\"2010-11-18T00:00:00\",\"2010-11-19T00:00:00\",\"2010-11-22T00:00:00\",\"2010-11-23T00:00:00\",\"2010-11-24T00:00:00\",\"2010-11-25T00:00:00\",\"2010-11-26T00:00:00\",\"2010-11-29T00:00:00\",\"2010-11-30T00:00:00\",\"2010-12-01T00:00:00\",\"2010-12-02T00:00:00\",\"2010-12-03T00:00:00\",\"2010-12-06T00:00:00\",\"2010-12-07T00:00:00\",\"2010-12-08T00:00:00\",\"2010-12-09T00:00:00\",\"2010-12-10T00:00:00\",\"2010-12-13T00:00:00\",\"2010-12-14T00:00:00\",\"2010-12-15T00:00:00\",\"2010-12-16T00:00:00\",\"2010-12-17T00:00:00\",\"2010-12-20T00:00:00\",\"2010-12-21T00:00:00\",\"2010-12-22T00:00:00\",\"2010-12-23T00:00:00\",\"2010-12-27T00:00:00\",\"2010-12-28T00:00:00\",\"2010-12-29T00:00:00\",\"2010-12-30T00:00:00\",\"2011-01-03T00:00:00\",\"2011-01-04T00:00:00\",\"2011-01-05T00:00:00\",\"2011-01-06T00:00:00\",\"2011-01-07T00:00:00\",\"2011-01-10T00:00:00\",\"2011-01-11T00:00:00\",\"2011-01-12T00:00:00\",\"2011-01-13T00:00:00\",\"2011-01-14T00:00:00\",\"2011-01-17T00:00:00\",\"2011-01-18T00:00:00\",\"2011-01-19T00:00:00\",\"2011-01-20T00:00:00\",\"2011-01-21T00:00:00\",\"2011-01-24T00:00:00\",\"2011-01-26T00:00:00\",\"2011-01-27T00:00:00\",\"2011-01-28T00:00:00\",\"2011-01-31T00:00:00\",\"2011-02-01T00:00:00\",\"2011-02-02T00:00:00\",\"2011-02-03T00:00:00\",\"2011-02-04T00:00:00\",\"2011-02-07T00:00:00\",\"2011-02-08T00:00:00\",\"2011-02-09T00:00:00\",\"2011-02-10T00:00:00\",\"2011-02-11T00:00:00\",\"2011-02-14T00:00:00\",\"2011-02-15T00:00:00\",\"2011-02-16T00:00:00\",\"2011-02-17T00:00:00\",\"2011-02-18T00:00:00\",\"2011-02-21T00:00:00\",\"2011-02-22T00:00:00\",\"2011-02-23T00:00:00\",\"2011-02-24T00:00:00\",\"2011-02-25T00:00:00\",\"2011-02-28T00:00:00\",\"2011-03-01T00:00:00\",\"2011-03-02T00:00:00\",\"2011-03-03T00:00:00\",\"2011-03-04T00:00:00\",\"2011-03-09T00:00:00\",\"2011-03-10T00:00:00\",\"2011-03-11T00:00:00\",\"2011-03-14T00:00:00\",\"2011-03-15T00:00:00\",\"2011-03-16T00:00:00\",\"2011-03-17T00:00:00\",\"2011-03-18T00:00:00\",\"2011-03-21T00:00:00\",\"2011-03-22T00:00:00\",\"2011-03-23T00:00:00\",\"2011-03-24T00:00:00\",\"2011-03-25T00:00:00\",\"2011-03-28T00:00:00\",\"2011-03-29T00:00:00\",\"2011-03-30T00:00:00\",\"2011-03-31T00:00:00\",\"2011-04-01T00:00:00\",\"2011-04-04T00:00:00\",\"2011-04-05T00:00:00\",\"2011-04-06T00:00:00\",\"2011-04-07T00:00:00\",\"2011-04-08T00:00:00\",\"2011-04-11T00:00:00\",\"2011-04-12T00:00:00\",\"2011-04-13T00:00:00\",\"2011-04-14T00:00:00\",\"2011-04-15T00:00:00\",\"2011-04-18T00:00:00\",\"2011-04-19T00:00:00\",\"2011-04-20T00:00:00\",\"2011-04-25T00:00:00\",\"2011-04-26T00:00:00\",\"2011-04-27T00:00:00\",\"2011-04-28T00:00:00\",\"2011-04-29T00:00:00\",\"2011-05-02T00:00:00\",\"2011-05-03T00:00:00\",\"2011-05-04T00:00:00\",\"2011-05-05T00:00:00\",\"2011-05-06T00:00:00\",\"2011-05-09T00:00:00\",\"2011-05-10T00:00:00\",\"2011-05-11T00:00:00\",\"2011-05-12T00:00:00\",\"2011-05-13T00:00:00\",\"2011-05-16T00:00:00\",\"2011-05-17T00:00:00\",\"2011-05-18T00:00:00\",\"2011-05-19T00:00:00\",\"2011-05-20T00:00:00\",\"2011-05-23T00:00:00\",\"2011-05-24T00:00:00\",\"2011-05-25T00:00:00\",\"2011-05-26T00:00:00\",\"2011-05-27T00:00:00\",\"2011-05-30T00:00:00\",\"2011-05-31T00:00:00\",\"2011-06-01T00:00:00\",\"2011-06-02T00:00:00\",\"2011-06-03T00:00:00\",\"2011-06-06T00:00:00\",\"2011-06-07T00:00:00\",\"2011-06-08T00:00:00\",\"2011-06-09T00:00:00\",\"2011-06-10T00:00:00\",\"2011-06-13T00:00:00\",\"2011-06-14T00:00:00\",\"2011-06-15T00:00:00\",\"2011-06-16T00:00:00\",\"2011-06-17T00:00:00\",\"2011-06-20T00:00:00\",\"2011-06-21T00:00:00\",\"2011-06-22T00:00:00\",\"2011-06-24T00:00:00\",\"2011-06-27T00:00:00\",\"2011-06-28T00:00:00\",\"2011-06-29T00:00:00\",\"2011-06-30T00:00:00\",\"2011-07-01T00:00:00\",\"2011-07-04T00:00:00\",\"2011-07-05T00:00:00\",\"2011-07-06T00:00:00\",\"2011-07-07T00:00:00\",\"2011-07-08T00:00:00\",\"2011-07-11T00:00:00\",\"2011-07-12T00:00:00\",\"2011-07-13T00:00:00\",\"2011-07-14T00:00:00\",\"2011-07-15T00:00:00\",\"2011-07-18T00:00:00\",\"2011-07-19T00:00:00\",\"2011-07-20T00:00:00\",\"2011-07-21T00:00:00\",\"2011-07-22T00:00:00\",\"2011-07-25T00:00:00\",\"2011-07-26T00:00:00\",\"2011-07-27T00:00:00\",\"2011-07-28T00:00:00\",\"2011-07-29T00:00:00\",\"2011-08-01T00:00:00\",\"2011-08-02T00:00:00\",\"2011-08-03T00:00:00\",\"2011-08-04T00:00:00\",\"2011-08-05T00:00:00\",\"2011-08-08T00:00:00\",\"2011-08-09T00:00:00\",\"2011-08-10T00:00:00\",\"2011-08-11T00:00:00\",\"2011-08-12T00:00:00\",\"2011-08-15T00:00:00\",\"2011-08-16T00:00:00\",\"2011-08-17T00:00:00\",\"2011-08-18T00:00:00\",\"2011-08-19T00:00:00\",\"2011-08-22T00:00:00\",\"2011-08-23T00:00:00\",\"2011-08-24T00:00:00\",\"2011-08-25T00:00:00\",\"2011-08-26T00:00:00\",\"2011-08-29T00:00:00\",\"2011-08-30T00:00:00\",\"2011-08-31T00:00:00\",\"2011-09-01T00:00:00\",\"2011-09-02T00:00:00\",\"2011-09-05T00:00:00\",\"2011-09-06T00:00:00\",\"2011-09-08T00:00:00\",\"2011-09-09T00:00:00\",\"2011-09-12T00:00:00\",\"2011-09-13T00:00:00\",\"2011-09-14T00:00:00\",\"2011-09-15T00:00:00\",\"2011-09-16T00:00:00\",\"2011-09-19T00:00:00\",\"2011-09-20T00:00:00\",\"2011-09-21T00:00:00\",\"2011-09-22T00:00:00\",\"2011-09-23T00:00:00\",\"2011-09-26T00:00:00\",\"2011-09-27T00:00:00\",\"2011-09-28T00:00:00\",\"2011-09-29T00:00:00\",\"2011-09-30T00:00:00\",\"2011-10-03T00:00:00\",\"2011-10-04T00:00:00\",\"2011-10-05T00:00:00\",\"2011-10-06T00:00:00\",\"2011-10-07T00:00:00\",\"2011-10-10T00:00:00\",\"2011-10-11T00:00:00\",\"2011-10-13T00:00:00\",\"2011-10-14T00:00:00\",\"2011-10-17T00:00:00\",\"2011-10-18T00:00:00\",\"2011-10-19T00:00:00\",\"2011-10-20T00:00:00\",\"2011-10-21T00:00:00\",\"2011-10-24T00:00:00\",\"2011-10-25T00:00:00\",\"2011-10-26T00:00:00\",\"2011-10-27T00:00:00\",\"2011-10-28T00:00:00\",\"2011-10-31T00:00:00\",\"2011-11-01T00:00:00\",\"2011-11-03T00:00:00\",\"2011-11-04T00:00:00\",\"2011-11-07T00:00:00\",\"2011-11-08T00:00:00\",\"2011-11-09T00:00:00\",\"2011-11-10T00:00:00\",\"2011-11-11T00:00:00\",\"2011-11-14T00:00:00\",\"2011-11-16T00:00:00\",\"2011-11-17T00:00:00\",\"2011-11-18T00:00:00\",\"2011-11-21T00:00:00\",\"2011-11-22T00:00:00\",\"2011-11-23T00:00:00\",\"2011-11-24T00:00:00\",\"2011-11-25T00:00:00\",\"2011-11-28T00:00:00\",\"2011-11-29T00:00:00\",\"2011-11-30T00:00:00\",\"2011-12-01T00:00:00\",\"2011-12-02T00:00:00\",\"2011-12-05T00:00:00\",\"2011-12-06T00:00:00\",\"2011-12-07T00:00:00\",\"2011-12-08T00:00:00\",\"2011-12-09T00:00:00\",\"2011-12-12T00:00:00\",\"2011-12-13T00:00:00\",\"2011-12-14T00:00:00\",\"2011-12-15T00:00:00\",\"2011-12-16T00:00:00\",\"2011-12-19T00:00:00\",\"2011-12-20T00:00:00\",\"2011-12-21T00:00:00\",\"2011-12-22T00:00:00\",\"2011-12-23T00:00:00\",\"2011-12-26T00:00:00\",\"2011-12-27T00:00:00\",\"2011-12-28T00:00:00\",\"2011-12-29T00:00:00\",\"2012-01-03T00:00:00\",\"2012-01-04T00:00:00\",\"2012-01-05T00:00:00\",\"2012-01-06T00:00:00\",\"2012-01-09T00:00:00\",\"2012-01-10T00:00:00\",\"2012-01-11T00:00:00\",\"2012-01-12T00:00:00\",\"2012-01-13T00:00:00\",\"2012-01-16T00:00:00\",\"2012-01-17T00:00:00\",\"2012-01-18T00:00:00\",\"2012-01-19T00:00:00\",\"2012-01-20T00:00:00\",\"2012-01-23T00:00:00\",\"2012-01-24T00:00:00\",\"2012-01-26T00:00:00\",\"2012-01-27T00:00:00\",\"2012-01-30T00:00:00\",\"2012-01-31T00:00:00\",\"2012-02-01T00:00:00\",\"2012-02-02T00:00:00\",\"2012-02-03T00:00:00\",\"2012-02-06T00:00:00\",\"2012-02-07T00:00:00\",\"2012-02-08T00:00:00\",\"2012-02-09T00:00:00\",\"2012-02-10T00:00:00\",\"2012-02-13T00:00:00\",\"2012-02-14T00:00:00\",\"2012-02-15T00:00:00\",\"2012-02-16T00:00:00\",\"2012-02-17T00:00:00\",\"2012-02-23T00:00:00\",\"2012-02-24T00:00:00\",\"2012-02-27T00:00:00\",\"2012-02-28T00:00:00\",\"2012-02-29T00:00:00\",\"2012-03-01T00:00:00\",\"2012-03-02T00:00:00\",\"2012-03-05T00:00:00\",\"2012-03-06T00:00:00\",\"2012-03-07T00:00:00\",\"2012-03-08T00:00:00\",\"2012-03-09T00:00:00\",\"2012-03-12T00:00:00\",\"2012-03-13T00:00:00\",\"2012-03-14T00:00:00\",\"2012-03-15T00:00:00\",\"2012-03-16T00:00:00\",\"2012-03-19T00:00:00\",\"2012-03-20T00:00:00\",\"2012-03-21T00:00:00\",\"2012-03-22T00:00:00\",\"2012-03-23T00:00:00\",\"2012-03-26T00:00:00\",\"2012-03-27T00:00:00\",\"2012-03-28T00:00:00\",\"2012-03-29T00:00:00\",\"2012-03-30T00:00:00\",\"2012-04-02T00:00:00\",\"2012-04-03T00:00:00\",\"2012-04-04T00:00:00\",\"2012-04-05T00:00:00\",\"2012-04-09T00:00:00\",\"2012-04-10T00:00:00\",\"2012-04-11T00:00:00\",\"2012-04-12T00:00:00\",\"2012-04-13T00:00:00\",\"2012-04-16T00:00:00\",\"2012-04-17T00:00:00\",\"2012-04-18T00:00:00\",\"2012-04-19T00:00:00\",\"2012-04-20T00:00:00\",\"2012-04-23T00:00:00\",\"2012-04-24T00:00:00\",\"2012-04-25T00:00:00\",\"2012-04-26T00:00:00\",\"2012-04-27T00:00:00\",\"2012-04-30T00:00:00\",\"2012-05-02T00:00:00\",\"2012-05-03T00:00:00\",\"2012-05-04T00:00:00\",\"2012-05-07T00:00:00\",\"2012-05-08T00:00:00\",\"2012-05-09T00:00:00\",\"2012-05-10T00:00:00\",\"2012-05-11T00:00:00\",\"2012-05-14T00:00:00\",\"2012-05-15T00:00:00\",\"2012-05-16T00:00:00\",\"2012-05-17T00:00:00\",\"2012-05-18T00:00:00\",\"2012-05-21T00:00:00\",\"2012-05-22T00:00:00\",\"2012-05-23T00:00:00\",\"2012-05-24T00:00:00\",\"2012-05-25T00:00:00\",\"2012-05-28T00:00:00\",\"2012-05-29T00:00:00\",\"2012-05-30T00:00:00\",\"2012-05-31T00:00:00\",\"2012-06-01T00:00:00\",\"2012-06-04T00:00:00\",\"2012-06-05T00:00:00\",\"2012-06-06T00:00:00\",\"2012-06-08T00:00:00\",\"2012-06-11T00:00:00\",\"2012-06-12T00:00:00\",\"2012-06-13T00:00:00\",\"2012-06-14T00:00:00\",\"2012-06-15T00:00:00\",\"2012-06-18T00:00:00\",\"2012-06-19T00:00:00\",\"2012-06-20T00:00:00\",\"2012-06-21T00:00:00\",\"2012-06-22T00:00:00\",\"2012-06-25T00:00:00\",\"2012-06-26T00:00:00\",\"2012-06-27T00:00:00\",\"2012-06-28T00:00:00\",\"2012-06-29T00:00:00\",\"2012-07-02T00:00:00\",\"2012-07-03T00:00:00\",\"2012-07-04T00:00:00\",\"2012-07-05T00:00:00\",\"2012-07-06T00:00:00\",\"2012-07-10T00:00:00\",\"2012-07-11T00:00:00\",\"2012-07-12T00:00:00\",\"2012-07-13T00:00:00\",\"2012-07-16T00:00:00\",\"2012-07-17T00:00:00\",\"2012-07-18T00:00:00\",\"2012-07-19T00:00:00\",\"2012-07-20T00:00:00\",\"2012-07-23T00:00:00\",\"2012-07-24T00:00:00\",\"2012-07-25T00:00:00\",\"2012-07-26T00:00:00\",\"2012-07-27T00:00:00\",\"2012-07-30T00:00:00\",\"2012-07-31T00:00:00\",\"2012-08-01T00:00:00\",\"2012-08-02T00:00:00\",\"2012-08-03T00:00:00\",\"2012-08-06T00:00:00\",\"2012-08-07T00:00:00\",\"2012-08-08T00:00:00\",\"2012-08-09T00:00:00\",\"2012-08-10T00:00:00\",\"2012-08-13T00:00:00\",\"2012-08-14T00:00:00\",\"2012-08-15T00:00:00\",\"2012-08-16T00:00:00\",\"2012-08-17T00:00:00\",\"2012-08-20T00:00:00\",\"2012-08-21T00:00:00\",\"2012-08-22T00:00:00\",\"2012-08-23T00:00:00\",\"2012-08-24T00:00:00\",\"2012-08-27T00:00:00\",\"2012-08-28T00:00:00\",\"2012-08-29T00:00:00\",\"2012-08-30T00:00:00\",\"2012-08-31T00:00:00\",\"2012-09-03T00:00:00\",\"2012-09-04T00:00:00\",\"2012-09-05T00:00:00\",\"2012-09-06T00:00:00\",\"2012-09-10T00:00:00\",\"2012-09-11T00:00:00\",\"2012-09-12T00:00:00\",\"2012-09-13T00:00:00\",\"2012-09-14T00:00:00\",\"2012-09-17T00:00:00\",\"2012-09-18T00:00:00\",\"2012-09-19T00:00:00\",\"2012-09-20T00:00:00\",\"2012-09-21T00:00:00\",\"2012-09-24T00:00:00\",\"2012-09-25T00:00:00\",\"2012-09-26T00:00:00\",\"2012-09-27T00:00:00\",\"2012-09-28T00:00:00\",\"2012-10-01T00:00:00\",\"2012-10-02T00:00:00\",\"2012-10-03T00:00:00\",\"2012-10-04T00:00:00\",\"2012-10-05T00:00:00\",\"2012-10-08T00:00:00\",\"2012-10-09T00:00:00\",\"2012-10-10T00:00:00\",\"2012-10-11T00:00:00\",\"2012-10-15T00:00:00\",\"2012-10-16T00:00:00\",\"2012-10-17T00:00:00\",\"2012-10-18T00:00:00\",\"2012-10-19T00:00:00\",\"2012-10-22T00:00:00\",\"2012-10-23T00:00:00\",\"2012-10-24T00:00:00\",\"2012-10-25T00:00:00\",\"2012-10-26T00:00:00\",\"2012-10-29T00:00:00\",\"2012-10-30T00:00:00\",\"2012-10-31T00:00:00\",\"2012-11-01T00:00:00\",\"2012-11-05T00:00:00\",\"2012-11-06T00:00:00\",\"2012-11-07T00:00:00\",\"2012-11-08T00:00:00\",\"2012-11-09T00:00:00\",\"2012-11-12T00:00:00\",\"2012-11-13T00:00:00\",\"2012-11-14T00:00:00\",\"2012-11-16T00:00:00\",\"2012-11-19T00:00:00\",\"2012-11-21T00:00:00\",\"2012-11-22T00:00:00\",\"2012-11-23T00:00:00\",\"2012-11-26T00:00:00\",\"2012-11-27T00:00:00\",\"2012-11-28T00:00:00\",\"2012-11-29T00:00:00\",\"2012-11-30T00:00:00\",\"2012-12-03T00:00:00\",\"2012-12-04T00:00:00\",\"2012-12-05T00:00:00\",\"2012-12-06T00:00:00\",\"2012-12-07T00:00:00\",\"2012-12-10T00:00:00\",\"2012-12-11T00:00:00\",\"2012-12-12T00:00:00\",\"2012-12-13T00:00:00\",\"2012-12-14T00:00:00\",\"2012-12-17T00:00:00\",\"2012-12-18T00:00:00\",\"2012-12-19T00:00:00\",\"2012-12-20T00:00:00\",\"2012-12-21T00:00:00\",\"2012-12-26T00:00:00\",\"2012-12-27T00:00:00\",\"2012-12-28T00:00:00\",\"2013-01-02T00:00:00\",\"2013-01-03T00:00:00\",\"2013-01-04T00:00:00\",\"2013-01-07T00:00:00\",\"2013-01-08T00:00:00\",\"2013-01-09T00:00:00\",\"2013-01-10T00:00:00\",\"2013-01-11T00:00:00\",\"2013-01-14T00:00:00\",\"2013-01-15T00:00:00\",\"2013-01-16T00:00:00\",\"2013-01-17T00:00:00\",\"2013-01-18T00:00:00\",\"2013-01-21T00:00:00\",\"2013-01-22T00:00:00\",\"2013-01-23T00:00:00\",\"2013-01-24T00:00:00\",\"2013-01-28T00:00:00\",\"2013-01-29T00:00:00\",\"2013-01-30T00:00:00\",\"2013-01-31T00:00:00\",\"2013-02-01T00:00:00\",\"2013-02-04T00:00:00\",\"2013-02-05T00:00:00\",\"2013-02-06T00:00:00\",\"2013-02-07T00:00:00\",\"2013-02-08T00:00:00\",\"2013-02-13T00:00:00\",\"2013-02-14T00:00:00\",\"2013-02-15T00:00:00\",\"2013-02-18T00:00:00\",\"2013-02-19T00:00:00\",\"2013-02-20T00:00:00\",\"2013-02-21T00:00:00\",\"2013-02-22T00:00:00\",\"2013-02-25T00:00:00\",\"2013-02-26T00:00:00\",\"2013-02-27T00:00:00\",\"2013-02-28T00:00:00\",\"2013-03-01T00:00:00\",\"2013-03-04T00:00:00\",\"2013-03-05T00:00:00\",\"2013-03-06T00:00:00\",\"2013-03-07T00:00:00\",\"2013-03-08T00:00:00\",\"2013-03-11T00:00:00\",\"2013-03-12T00:00:00\",\"2013-03-13T00:00:00\",\"2013-03-14T00:00:00\",\"2013-03-15T00:00:00\",\"2013-03-18T00:00:00\",\"2013-03-19T00:00:00\",\"2013-03-20T00:00:00\",\"2013-03-21T00:00:00\",\"2013-03-22T00:00:00\",\"2013-03-25T00:00:00\",\"2013-03-26T00:00:00\",\"2013-03-27T00:00:00\",\"2013-03-28T00:00:00\",\"2013-04-01T00:00:00\",\"2013-04-02T00:00:00\",\"2013-04-03T00:00:00\",\"2013-04-04T00:00:00\",\"2013-04-05T00:00:00\",\"2013-04-08T00:00:00\",\"2013-04-09T00:00:00\",\"2013-04-10T00:00:00\",\"2013-04-11T00:00:00\",\"2013-04-12T00:00:00\",\"2013-04-15T00:00:00\",\"2013-04-16T00:00:00\",\"2013-04-17T00:00:00\",\"2013-04-18T00:00:00\",\"2013-04-19T00:00:00\",\"2013-04-22T00:00:00\",\"2013-04-23T00:00:00\",\"2013-04-24T00:00:00\",\"2013-04-25T00:00:00\",\"2013-04-26T00:00:00\",\"2013-04-29T00:00:00\",\"2013-04-30T00:00:00\",\"2013-05-02T00:00:00\",\"2013-05-03T00:00:00\",\"2013-05-06T00:00:00\",\"2013-05-07T00:00:00\",\"2013-05-08T00:00:00\",\"2013-05-09T00:00:00\",\"2013-05-10T00:00:00\",\"2013-05-13T00:00:00\",\"2013-05-14T00:00:00\",\"2013-05-15T00:00:00\",\"2013-05-16T00:00:00\",\"2013-05-17T00:00:00\",\"2013-05-20T00:00:00\",\"2013-05-21T00:00:00\",\"2013-05-22T00:00:00\",\"2013-05-23T00:00:00\",\"2013-05-24T00:00:00\",\"2013-05-27T00:00:00\",\"2013-05-28T00:00:00\",\"2013-05-29T00:00:00\",\"2013-05-31T00:00:00\",\"2013-06-03T00:00:00\",\"2013-06-04T00:00:00\",\"2013-06-05T00:00:00\",\"2013-06-06T00:00:00\",\"2013-06-07T00:00:00\",\"2013-06-10T00:00:00\",\"2013-06-11T00:00:00\",\"2013-06-12T00:00:00\",\"2013-06-13T00:00:00\",\"2013-06-14T00:00:00\",\"2013-06-17T00:00:00\",\"2013-06-18T00:00:00\",\"2013-06-19T00:00:00\",\"2013-06-20T00:00:00\",\"2013-06-21T00:00:00\",\"2013-06-24T00:00:00\",\"2013-06-25T00:00:00\",\"2013-06-26T00:00:00\",\"2013-06-27T00:00:00\",\"2013-06-28T00:00:00\",\"2013-07-01T00:00:00\",\"2013-07-02T00:00:00\",\"2013-07-03T00:00:00\",\"2013-07-04T00:00:00\",\"2013-07-05T00:00:00\",\"2013-07-08T00:00:00\",\"2013-07-10T00:00:00\",\"2013-07-11T00:00:00\",\"2013-07-12T00:00:00\",\"2013-07-15T00:00:00\",\"2013-07-16T00:00:00\",\"2013-07-17T00:00:00\",\"2013-07-18T00:00:00\",\"2013-07-19T00:00:00\",\"2013-07-22T00:00:00\",\"2013-07-23T00:00:00\",\"2013-07-24T00:00:00\",\"2013-07-25T00:00:00\",\"2013-07-26T00:00:00\",\"2013-07-29T00:00:00\",\"2013-07-30T00:00:00\",\"2013-07-31T00:00:00\",\"2013-08-01T00:00:00\",\"2013-08-02T00:00:00\",\"2013-08-05T00:00:00\",\"2013-08-06T00:00:00\",\"2013-08-07T00:00:00\",\"2013-08-08T00:00:00\",\"2013-08-09T00:00:00\",\"2013-08-12T00:00:00\",\"2013-08-13T00:00:00\",\"2013-08-14T00:00:00\",\"2013-08-15T00:00:00\",\"2013-08-16T00:00:00\",\"2013-08-19T00:00:00\",\"2013-08-20T00:00:00\",\"2013-08-21T00:00:00\",\"2013-08-22T00:00:00\",\"2013-08-23T00:00:00\",\"2013-08-26T00:00:00\",\"2013-08-27T00:00:00\",\"2013-08-28T00:00:00\",\"2013-08-29T00:00:00\",\"2013-08-30T00:00:00\",\"2013-09-02T00:00:00\",\"2013-09-03T00:00:00\",\"2013-09-04T00:00:00\",\"2013-09-05T00:00:00\",\"2013-09-06T00:00:00\",\"2013-09-09T00:00:00\",\"2013-09-10T00:00:00\",\"2013-09-11T00:00:00\",\"2013-09-12T00:00:00\",\"2013-09-13T00:00:00\",\"2013-09-16T00:00:00\",\"2013-09-17T00:00:00\",\"2013-09-18T00:00:00\",\"2013-09-19T00:00:00\",\"2013-09-20T00:00:00\",\"2013-09-23T00:00:00\",\"2013-09-24T00:00:00\",\"2013-09-25T00:00:00\",\"2013-09-26T00:00:00\",\"2013-09-27T00:00:00\",\"2013-09-30T00:00:00\",\"2013-10-01T00:00:00\",\"2013-10-02T00:00:00\",\"2013-10-03T00:00:00\",\"2013-10-04T00:00:00\",\"2013-10-07T00:00:00\",\"2013-10-08T00:00:00\",\"2013-10-09T00:00:00\",\"2013-10-10T00:00:00\",\"2013-10-11T00:00:00\",\"2013-10-14T00:00:00\",\"2013-10-15T00:00:00\",\"2013-10-16T00:00:00\",\"2013-10-17T00:00:00\",\"2013-10-18T00:00:00\",\"2013-10-21T00:00:00\",\"2013-10-22T00:00:00\",\"2013-10-23T00:00:00\",\"2013-10-24T00:00:00\",\"2013-10-25T00:00:00\",\"2013-10-28T00:00:00\",\"2013-10-29T00:00:00\",\"2013-10-30T00:00:00\",\"2013-10-31T00:00:00\",\"2013-11-01T00:00:00\",\"2013-11-04T00:00:00\",\"2013-11-05T00:00:00\",\"2013-11-06T00:00:00\",\"2013-11-07T00:00:00\",\"2013-11-08T00:00:00\",\"2013-11-11T00:00:00\",\"2013-11-12T00:00:00\",\"2013-11-13T00:00:00\",\"2013-11-14T00:00:00\",\"2013-11-18T00:00:00\",\"2013-11-19T00:00:00\",\"2013-11-21T00:00:00\",\"2013-11-22T00:00:00\",\"2013-11-25T00:00:00\",\"2013-11-26T00:00:00\",\"2013-11-27T00:00:00\",\"2013-11-28T00:00:00\",\"2013-11-29T00:00:00\",\"2013-12-02T00:00:00\",\"2013-12-03T00:00:00\",\"2013-12-04T00:00:00\",\"2013-12-05T00:00:00\",\"2013-12-06T00:00:00\",\"2013-12-09T00:00:00\",\"2013-12-10T00:00:00\",\"2013-12-11T00:00:00\",\"2013-12-12T00:00:00\",\"2013-12-13T00:00:00\",\"2013-12-16T00:00:00\",\"2013-12-17T00:00:00\",\"2013-12-18T00:00:00\",\"2013-12-19T00:00:00\",\"2013-12-20T00:00:00\",\"2013-12-23T00:00:00\",\"2013-12-26T00:00:00\",\"2013-12-27T00:00:00\",\"2013-12-30T00:00:00\",\"2014-01-02T00:00:00\",\"2014-01-03T00:00:00\",\"2014-01-06T00:00:00\",\"2014-01-07T00:00:00\",\"2014-01-08T00:00:00\",\"2014-01-09T00:00:00\",\"2014-01-10T00:00:00\",\"2014-01-13T00:00:00\",\"2014-01-14T00:00:00\",\"2014-01-15T00:00:00\",\"2014-01-16T00:00:00\",\"2014-01-17T00:00:00\",\"2014-01-20T00:00:00\",\"2014-01-21T00:00:00\",\"2014-01-22T00:00:00\",\"2014-01-23T00:00:00\",\"2014-01-24T00:00:00\",\"2014-01-27T00:00:00\",\"2014-01-28T00:00:00\",\"2014-01-29T00:00:00\",\"2014-01-30T00:00:00\",\"2014-01-31T00:00:00\",\"2014-02-03T00:00:00\",\"2014-02-04T00:00:00\",\"2014-02-05T00:00:00\",\"2014-02-06T00:00:00\",\"2014-02-07T00:00:00\",\"2014-02-10T00:00:00\",\"2014-02-11T00:00:00\",\"2014-02-12T00:00:00\",\"2014-02-13T00:00:00\",\"2014-02-14T00:00:00\",\"2014-02-17T00:00:00\",\"2014-02-18T00:00:00\",\"2014-02-19T00:00:00\",\"2014-02-20T00:00:00\",\"2014-02-21T00:00:00\",\"2014-02-24T00:00:00\",\"2014-02-25T00:00:00\",\"2014-02-26T00:00:00\",\"2014-02-27T00:00:00\",\"2014-02-28T00:00:00\",\"2014-03-05T00:00:00\",\"2014-03-06T00:00:00\",\"2014-03-07T00:00:00\",\"2014-03-10T00:00:00\",\"2014-03-11T00:00:00\",\"2014-03-12T00:00:00\",\"2014-03-13T00:00:00\",\"2014-03-14T00:00:00\",\"2014-03-17T00:00:00\",\"2014-03-18T00:00:00\",\"2014-03-19T00:00:00\",\"2014-03-20T00:00:00\",\"2014-03-21T00:00:00\",\"2014-03-24T00:00:00\",\"2014-03-25T00:00:00\",\"2014-03-26T00:00:00\",\"2014-03-27T00:00:00\",\"2014-03-28T00:00:00\",\"2014-03-31T00:00:00\",\"2014-04-01T00:00:00\",\"2014-04-02T00:00:00\",\"2014-04-03T00:00:00\",\"2014-04-04T00:00:00\",\"2014-04-07T00:00:00\",\"2014-04-08T00:00:00\",\"2014-04-09T00:00:00\",\"2014-04-10T00:00:00\",\"2014-04-11T00:00:00\",\"2014-04-14T00:00:00\",\"2014-04-15T00:00:00\",\"2014-04-16T00:00:00\",\"2014-04-17T00:00:00\",\"2014-04-22T00:00:00\",\"2014-04-23T00:00:00\",\"2014-04-24T00:00:00\",\"2014-04-25T00:00:00\",\"2014-04-28T00:00:00\",\"2014-04-29T00:00:00\",\"2014-04-30T00:00:00\",\"2014-05-02T00:00:00\",\"2014-05-05T00:00:00\",\"2014-05-06T00:00:00\",\"2014-05-07T00:00:00\",\"2014-05-08T00:00:00\",\"2014-05-09T00:00:00\",\"2014-05-12T00:00:00\",\"2014-05-13T00:00:00\",\"2014-05-14T00:00:00\",\"2014-05-15T00:00:00\",\"2014-05-16T00:00:00\",\"2014-05-19T00:00:00\",\"2014-05-20T00:00:00\",\"2014-05-21T00:00:00\",\"2014-05-22T00:00:00\",\"2014-05-23T00:00:00\",\"2014-05-26T00:00:00\",\"2014-05-27T00:00:00\",\"2014-05-28T00:00:00\",\"2014-05-29T00:00:00\",\"2014-05-30T00:00:00\",\"2014-06-02T00:00:00\",\"2014-06-03T00:00:00\",\"2014-06-04T00:00:00\",\"2014-06-05T00:00:00\",\"2014-06-06T00:00:00\",\"2014-06-09T00:00:00\",\"2014-06-10T00:00:00\",\"2014-06-11T00:00:00\",\"2014-06-13T00:00:00\",\"2014-06-16T00:00:00\",\"2014-06-17T00:00:00\",\"2014-06-18T00:00:00\",\"2014-06-20T00:00:00\",\"2014-06-23T00:00:00\",\"2014-06-24T00:00:00\",\"2014-06-25T00:00:00\",\"2014-06-26T00:00:00\",\"2014-06-27T00:00:00\",\"2014-06-30T00:00:00\",\"2014-07-01T00:00:00\",\"2014-07-02T00:00:00\",\"2014-07-03T00:00:00\",\"2014-07-04T00:00:00\",\"2014-07-07T00:00:00\",\"2014-07-08T00:00:00\",\"2014-07-10T00:00:00\",\"2014-07-11T00:00:00\",\"2014-07-14T00:00:00\",\"2014-07-15T00:00:00\",\"2014-07-16T00:00:00\",\"2014-07-17T00:00:00\",\"2014-07-18T00:00:00\",\"2014-07-21T00:00:00\",\"2014-07-22T00:00:00\",\"2014-07-23T00:00:00\",\"2014-07-24T00:00:00\",\"2014-07-25T00:00:00\",\"2014-07-28T00:00:00\",\"2014-07-29T00:00:00\",\"2014-07-30T00:00:00\",\"2014-07-31T00:00:00\",\"2014-08-01T00:00:00\",\"2014-08-04T00:00:00\",\"2014-08-05T00:00:00\",\"2014-08-06T00:00:00\",\"2014-08-07T00:00:00\",\"2014-08-08T00:00:00\",\"2014-08-11T00:00:00\",\"2014-08-12T00:00:00\",\"2014-08-13T00:00:00\",\"2014-08-14T00:00:00\",\"2014-08-15T00:00:00\",\"2014-08-18T00:00:00\",\"2014-08-19T00:00:00\",\"2014-08-20T00:00:00\",\"2014-08-21T00:00:00\",\"2014-08-22T00:00:00\",\"2014-08-25T00:00:00\",\"2014-08-26T00:00:00\",\"2014-08-27T00:00:00\",\"2014-08-28T00:00:00\",\"2014-08-29T00:00:00\",\"2014-09-01T00:00:00\",\"2014-09-02T00:00:00\",\"2014-09-03T00:00:00\",\"2014-09-04T00:00:00\",\"2014-09-05T00:00:00\",\"2014-09-08T00:00:00\",\"2014-09-09T00:00:00\",\"2014-09-10T00:00:00\",\"2014-09-11T00:00:00\",\"2014-09-12T00:00:00\",\"2014-09-15T00:00:00\",\"2014-09-16T00:00:00\",\"2014-09-17T00:00:00\",\"2014-09-18T00:00:00\",\"2014-09-19T00:00:00\",\"2014-09-22T00:00:00\",\"2014-09-23T00:00:00\",\"2014-09-24T00:00:00\",\"2014-09-25T00:00:00\",\"2014-09-26T00:00:00\",\"2014-09-29T00:00:00\",\"2014-09-30T00:00:00\",\"2014-10-01T00:00:00\",\"2014-10-02T00:00:00\",\"2014-10-03T00:00:00\",\"2014-10-06T00:00:00\",\"2014-10-07T00:00:00\",\"2014-10-08T00:00:00\",\"2014-10-09T00:00:00\",\"2014-10-10T00:00:00\",\"2014-10-13T00:00:00\",\"2014-10-14T00:00:00\",\"2014-10-15T00:00:00\",\"2014-10-16T00:00:00\",\"2014-10-17T00:00:00\",\"2014-10-20T00:00:00\",\"2014-10-21T00:00:00\",\"2014-10-22T00:00:00\",\"2014-10-23T00:00:00\",\"2014-10-24T00:00:00\",\"2014-10-27T00:00:00\",\"2014-10-28T00:00:00\",\"2014-10-29T00:00:00\",\"2014-10-30T00:00:00\",\"2014-10-31T00:00:00\",\"2014-11-03T00:00:00\",\"2014-11-04T00:00:00\",\"2014-11-05T00:00:00\",\"2014-11-06T00:00:00\",\"2014-11-07T00:00:00\",\"2014-11-10T00:00:00\",\"2014-11-11T00:00:00\",\"2014-11-12T00:00:00\",\"2014-11-13T00:00:00\",\"2014-11-14T00:00:00\",\"2014-11-17T00:00:00\",\"2014-11-18T00:00:00\",\"2014-11-19T00:00:00\",\"2014-11-21T00:00:00\",\"2014-11-24T00:00:00\",\"2014-11-25T00:00:00\",\"2014-11-26T00:00:00\",\"2014-11-27T00:00:00\",\"2014-11-28T00:00:00\",\"2014-12-01T00:00:00\",\"2014-12-02T00:00:00\",\"2014-12-03T00:00:00\",\"2014-12-04T00:00:00\",\"2014-12-05T00:00:00\",\"2014-12-08T00:00:00\",\"2014-12-09T00:00:00\",\"2014-12-10T00:00:00\",\"2014-12-11T00:00:00\",\"2014-12-12T00:00:00\",\"2014-12-15T00:00:00\",\"2014-12-16T00:00:00\",\"2014-12-17T00:00:00\",\"2014-12-18T00:00:00\",\"2014-12-19T00:00:00\",\"2014-12-22T00:00:00\",\"2014-12-23T00:00:00\",\"2014-12-26T00:00:00\",\"2014-12-29T00:00:00\",\"2014-12-30T00:00:00\",\"2015-01-02T00:00:00\",\"2015-01-05T00:00:00\",\"2015-01-06T00:00:00\",\"2015-01-07T00:00:00\",\"2015-01-08T00:00:00\",\"2015-01-09T00:00:00\",\"2015-01-12T00:00:00\",\"2015-01-13T00:00:00\",\"2015-01-14T00:00:00\",\"2015-01-15T00:00:00\",\"2015-01-16T00:00:00\",\"2015-01-19T00:00:00\",\"2015-01-20T00:00:00\",\"2015-01-21T00:00:00\",\"2015-01-22T00:00:00\",\"2015-01-23T00:00:00\",\"2015-01-26T00:00:00\",\"2015-01-27T00:00:00\",\"2015-01-28T00:00:00\",\"2015-01-29T00:00:00\",\"2015-01-30T00:00:00\",\"2015-02-02T00:00:00\",\"2015-02-03T00:00:00\",\"2015-02-04T00:00:00\",\"2015-02-05T00:00:00\",\"2015-02-06T00:00:00\",\"2015-02-09T00:00:00\",\"2015-02-10T00:00:00\",\"2015-02-11T00:00:00\",\"2015-02-12T00:00:00\",\"2015-02-13T00:00:00\",\"2015-02-18T00:00:00\",\"2015-02-19T00:00:00\",\"2015-02-20T00:00:00\",\"2015-02-23T00:00:00\",\"2015-02-24T00:00:00\",\"2015-02-25T00:00:00\",\"2015-02-26T00:00:00\",\"2015-02-27T00:00:00\",\"2015-03-02T00:00:00\",\"2015-03-03T00:00:00\",\"2015-03-04T00:00:00\",\"2015-03-05T00:00:00\",\"2015-03-06T00:00:00\",\"2015-03-09T00:00:00\",\"2015-03-10T00:00:00\",\"2015-03-11T00:00:00\",\"2015-03-12T00:00:00\",\"2015-03-13T00:00:00\",\"2015-03-16T00:00:00\",\"2015-03-17T00:00:00\",\"2015-03-18T00:00:00\",\"2015-03-19T00:00:00\",\"2015-03-20T00:00:00\",\"2015-03-23T00:00:00\",\"2015-03-24T00:00:00\",\"2015-03-25T00:00:00\",\"2015-03-26T00:00:00\",\"2015-03-27T00:00:00\",\"2015-03-30T00:00:00\",\"2015-03-31T00:00:00\",\"2015-04-01T00:00:00\",\"2015-04-02T00:00:00\",\"2015-04-06T00:00:00\",\"2015-04-07T00:00:00\",\"2015-04-08T00:00:00\",\"2015-04-09T00:00:00\",\"2015-04-10T00:00:00\",\"2015-04-13T00:00:00\",\"2015-04-14T00:00:00\",\"2015-04-15T00:00:00\",\"2015-04-16T00:00:00\",\"2015-04-17T00:00:00\",\"2015-04-20T00:00:00\",\"2015-04-22T00:00:00\",\"2015-04-23T00:00:00\",\"2015-04-24T00:00:00\",\"2015-04-27T00:00:00\",\"2015-04-28T00:00:00\",\"2015-04-29T00:00:00\",\"2015-04-30T00:00:00\",\"2015-05-04T00:00:00\",\"2015-05-05T00:00:00\",\"2015-05-06T00:00:00\",\"2015-05-07T00:00:00\",\"2015-05-08T00:00:00\",\"2015-05-11T00:00:00\",\"2015-05-12T00:00:00\",\"2015-05-13T00:00:00\",\"2015-05-14T00:00:00\",\"2015-05-15T00:00:00\",\"2015-05-18T00:00:00\",\"2015-05-19T00:00:00\",\"2015-05-20T00:00:00\",\"2015-05-21T00:00:00\",\"2015-05-22T00:00:00\",\"2015-05-25T00:00:00\",\"2015-05-26T00:00:00\",\"2015-05-27T00:00:00\",\"2015-05-28T00:00:00\",\"2015-05-29T00:00:00\",\"2015-06-01T00:00:00\",\"2015-06-02T00:00:00\",\"2015-06-03T00:00:00\",\"2015-06-05T00:00:00\",\"2015-06-08T00:00:00\",\"2015-06-09T00:00:00\",\"2015-06-10T00:00:00\",\"2015-06-11T00:00:00\",\"2015-06-12T00:00:00\",\"2015-06-15T00:00:00\",\"2015-06-16T00:00:00\",\"2015-06-17T00:00:00\",\"2015-06-18T00:00:00\",\"2015-06-19T00:00:00\",\"2015-06-22T00:00:00\",\"2015-06-23T00:00:00\",\"2015-06-24T00:00:00\",\"2015-06-25T00:00:00\",\"2015-06-26T00:00:00\",\"2015-06-29T00:00:00\",\"2015-06-30T00:00:00\",\"2015-07-01T00:00:00\",\"2015-07-02T00:00:00\",\"2015-07-03T00:00:00\",\"2015-07-06T00:00:00\",\"2015-07-07T00:00:00\",\"2015-07-08T00:00:00\",\"2015-07-10T00:00:00\",\"2015-07-13T00:00:00\",\"2015-07-14T00:00:00\",\"2015-07-15T00:00:00\",\"2015-07-16T00:00:00\",\"2015-07-17T00:00:00\",\"2015-07-20T00:00:00\",\"2015-07-21T00:00:00\",\"2015-07-22T00:00:00\",\"2015-07-23T00:00:00\",\"2015-07-24T00:00:00\",\"2015-07-27T00:00:00\",\"2015-07-28T00:00:00\",\"2015-07-29T00:00:00\",\"2015-07-30T00:00:00\",\"2015-07-31T00:00:00\",\"2015-08-03T00:00:00\",\"2015-08-04T00:00:00\",\"2015-08-05T00:00:00\",\"2015-08-06T00:00:00\",\"2015-08-07T00:00:00\",\"2015-08-10T00:00:00\",\"2015-08-11T00:00:00\",\"2015-08-12T00:00:00\",\"2015-08-13T00:00:00\",\"2015-08-14T00:00:00\",\"2015-08-17T00:00:00\",\"2015-08-18T00:00:00\",\"2015-08-19T00:00:00\",\"2015-08-20T00:00:00\",\"2015-08-21T00:00:00\",\"2015-08-24T00:00:00\",\"2015-08-25T00:00:00\",\"2015-08-26T00:00:00\",\"2015-08-27T00:00:00\",\"2015-08-28T00:00:00\",\"2015-08-31T00:00:00\",\"2015-09-01T00:00:00\",\"2015-09-02T00:00:00\",\"2015-09-03T00:00:00\",\"2015-09-04T00:00:00\",\"2015-09-08T00:00:00\",\"2015-09-09T00:00:00\",\"2015-09-10T00:00:00\",\"2015-09-11T00:00:00\",\"2015-09-14T00:00:00\",\"2015-09-15T00:00:00\",\"2015-09-16T00:00:00\",\"2015-09-17T00:00:00\",\"2015-09-18T00:00:00\",\"2015-09-21T00:00:00\",\"2015-09-22T00:00:00\",\"2015-09-23T00:00:00\",\"2015-09-24T00:00:00\",\"2015-09-25T00:00:00\",\"2015-09-28T00:00:00\",\"2015-09-29T00:00:00\",\"2015-09-30T00:00:00\",\"2015-10-01T00:00:00\",\"2015-10-02T00:00:00\",\"2015-10-05T00:00:00\",\"2015-10-06T00:00:00\",\"2015-10-07T00:00:00\",\"2015-10-08T00:00:00\",\"2015-10-09T00:00:00\",\"2015-10-13T00:00:00\",\"2015-10-14T00:00:00\",\"2015-10-15T00:00:00\",\"2015-10-16T00:00:00\",\"2015-10-19T00:00:00\",\"2015-10-20T00:00:00\",\"2015-10-21T00:00:00\",\"2015-10-22T00:00:00\",\"2015-10-23T00:00:00\",\"2015-10-26T00:00:00\",\"2015-10-27T00:00:00\",\"2015-10-28T00:00:00\",\"2015-10-29T00:00:00\",\"2015-10-30T00:00:00\",\"2015-11-03T00:00:00\",\"2015-11-04T00:00:00\",\"2015-11-05T00:00:00\",\"2015-11-06T00:00:00\",\"2015-11-09T00:00:00\",\"2015-11-10T00:00:00\",\"2015-11-11T00:00:00\",\"2015-11-12T00:00:00\",\"2015-11-13T00:00:00\",\"2015-11-16T00:00:00\",\"2015-11-17T00:00:00\",\"2015-11-18T00:00:00\",\"2015-11-19T00:00:00\",\"2015-11-23T00:00:00\",\"2015-11-24T00:00:00\",\"2015-11-25T00:00:00\",\"2015-11-26T00:00:00\",\"2015-11-27T00:00:00\",\"2015-11-30T00:00:00\",\"2015-12-01T00:00:00\",\"2015-12-02T00:00:00\",\"2015-12-03T00:00:00\",\"2015-12-04T00:00:00\",\"2015-12-07T00:00:00\",\"2015-12-08T00:00:00\",\"2015-12-09T00:00:00\",\"2015-12-10T00:00:00\",\"2015-12-11T00:00:00\",\"2015-12-14T00:00:00\",\"2015-12-15T00:00:00\",\"2015-12-16T00:00:00\",\"2015-12-17T00:00:00\",\"2015-12-18T00:00:00\",\"2015-12-21T00:00:00\",\"2015-12-22T00:00:00\",\"2015-12-23T00:00:00\",\"2015-12-28T00:00:00\",\"2015-12-29T00:00:00\",\"2015-12-30T00:00:00\",\"2016-01-04T00:00:00\",\"2016-01-05T00:00:00\",\"2016-01-06T00:00:00\",\"2016-01-07T00:00:00\",\"2016-01-08T00:00:00\",\"2016-01-11T00:00:00\",\"2016-01-12T00:00:00\",\"2016-01-13T00:00:00\",\"2016-01-14T00:00:00\",\"2016-01-15T00:00:00\",\"2016-01-18T00:00:00\",\"2016-01-19T00:00:00\",\"2016-01-20T00:00:00\",\"2016-01-21T00:00:00\",\"2016-01-22T00:00:00\",\"2016-01-26T00:00:00\",\"2016-01-27T00:00:00\",\"2016-01-28T00:00:00\",\"2016-01-29T00:00:00\",\"2016-02-01T00:00:00\",\"2016-02-02T00:00:00\",\"2016-02-03T00:00:00\",\"2016-02-04T00:00:00\",\"2016-02-05T00:00:00\",\"2016-02-10T00:00:00\",\"2016-02-11T00:00:00\",\"2016-02-12T00:00:00\",\"2016-02-15T00:00:00\",\"2016-02-16T00:00:00\",\"2016-02-17T00:00:00\",\"2016-02-18T00:00:00\",\"2016-02-19T00:00:00\",\"2016-02-22T00:00:00\",\"2016-02-23T00:00:00\",\"2016-02-24T00:00:00\",\"2016-02-25T00:00:00\",\"2016-02-26T00:00:00\",\"2016-02-29T00:00:00\",\"2016-03-01T00:00:00\",\"2016-03-02T00:00:00\",\"2016-03-03T00:00:00\",\"2016-03-04T00:00:00\",\"2016-03-07T00:00:00\",\"2016-03-08T00:00:00\",\"2016-03-09T00:00:00\",\"2016-03-10T00:00:00\",\"2016-03-11T00:00:00\",\"2016-03-14T00:00:00\",\"2016-03-15T00:00:00\",\"2016-03-16T00:00:00\",\"2016-03-17T00:00:00\",\"2016-03-18T00:00:00\",\"2016-03-21T00:00:00\",\"2016-03-22T00:00:00\",\"2016-03-23T00:00:00\",\"2016-03-24T00:00:00\",\"2016-03-28T00:00:00\",\"2016-03-29T00:00:00\",\"2016-03-30T00:00:00\",\"2016-03-31T00:00:00\",\"2016-04-01T00:00:00\",\"2016-04-04T00:00:00\",\"2016-04-05T00:00:00\",\"2016-04-06T00:00:00\",\"2016-04-07T00:00:00\",\"2016-04-08T00:00:00\",\"2016-04-11T00:00:00\",\"2016-04-12T00:00:00\",\"2016-04-13T00:00:00\",\"2016-04-14T00:00:00\",\"2016-04-15T00:00:00\",\"2016-04-18T00:00:00\",\"2016-04-19T00:00:00\",\"2016-04-20T00:00:00\",\"2016-04-22T00:00:00\",\"2016-04-25T00:00:00\",\"2016-04-26T00:00:00\",\"2016-04-27T00:00:00\",\"2016-04-28T00:00:00\",\"2016-04-29T00:00:00\",\"2016-05-02T00:00:00\",\"2016-05-03T00:00:00\",\"2016-05-04T00:00:00\",\"2016-05-05T00:00:00\",\"2016-05-06T00:00:00\",\"2016-05-09T00:00:00\",\"2016-05-10T00:00:00\",\"2016-05-11T00:00:00\",\"2016-05-12T00:00:00\",\"2016-05-13T00:00:00\",\"2016-05-16T00:00:00\",\"2016-05-17T00:00:00\",\"2016-05-18T00:00:00\",\"2016-05-19T00:00:00\",\"2016-05-20T00:00:00\",\"2016-05-23T00:00:00\",\"2016-05-24T00:00:00\",\"2016-05-25T00:00:00\",\"2016-05-27T00:00:00\",\"2016-05-30T00:00:00\",\"2016-05-31T00:00:00\",\"2016-06-01T00:00:00\",\"2016-06-02T00:00:00\",\"2016-06-03T00:00:00\",\"2016-06-06T00:00:00\",\"2016-06-07T00:00:00\",\"2016-06-08T00:00:00\",\"2016-06-09T00:00:00\",\"2016-06-10T00:00:00\",\"2016-06-13T00:00:00\",\"2016-06-14T00:00:00\",\"2016-06-15T00:00:00\",\"2016-06-16T00:00:00\",\"2016-06-17T00:00:00\",\"2016-06-20T00:00:00\",\"2016-06-21T00:00:00\",\"2016-06-22T00:00:00\",\"2016-06-23T00:00:00\",\"2016-06-24T00:00:00\",\"2016-06-27T00:00:00\",\"2016-06-28T00:00:00\",\"2016-06-29T00:00:00\",\"2016-06-30T00:00:00\",\"2016-07-01T00:00:00\",\"2016-07-04T00:00:00\",\"2016-07-05T00:00:00\",\"2016-07-06T00:00:00\",\"2016-07-07T00:00:00\",\"2016-07-08T00:00:00\",\"2016-07-11T00:00:00\",\"2016-07-12T00:00:00\",\"2016-07-13T00:00:00\",\"2016-07-14T00:00:00\",\"2016-07-15T00:00:00\",\"2016-07-18T00:00:00\",\"2016-07-19T00:00:00\",\"2016-07-20T00:00:00\",\"2016-07-21T00:00:00\",\"2016-07-22T00:00:00\",\"2016-07-25T00:00:00\",\"2016-07-26T00:00:00\",\"2016-07-27T00:00:00\",\"2016-07-28T00:00:00\",\"2016-07-29T00:00:00\",\"2016-08-01T00:00:00\",\"2016-08-02T00:00:00\",\"2016-08-03T00:00:00\",\"2016-08-04T00:00:00\",\"2016-08-05T00:00:00\",\"2016-08-08T00:00:00\",\"2016-08-09T00:00:00\",\"2016-08-10T00:00:00\",\"2016-08-11T00:00:00\",\"2016-08-12T00:00:00\",\"2016-08-15T00:00:00\",\"2016-08-16T00:00:00\",\"2016-08-17T00:00:00\",\"2016-08-18T00:00:00\",\"2016-08-19T00:00:00\",\"2016-08-22T00:00:00\",\"2016-08-23T00:00:00\",\"2016-08-24T00:00:00\",\"2016-08-25T00:00:00\",\"2016-08-26T00:00:00\",\"2016-08-29T00:00:00\",\"2016-08-30T00:00:00\",\"2016-08-31T00:00:00\",\"2016-09-01T00:00:00\",\"2016-09-02T00:00:00\",\"2016-09-05T00:00:00\",\"2016-09-06T00:00:00\",\"2016-09-08T00:00:00\",\"2016-09-09T00:00:00\",\"2016-09-12T00:00:00\",\"2016-09-13T00:00:00\",\"2016-09-14T00:00:00\",\"2016-09-15T00:00:00\",\"2016-09-16T00:00:00\",\"2016-09-19T00:00:00\",\"2016-09-20T00:00:00\",\"2016-09-21T00:00:00\",\"2016-09-22T00:00:00\",\"2016-09-23T00:00:00\",\"2016-09-26T00:00:00\",\"2016-09-27T00:00:00\",\"2016-09-28T00:00:00\",\"2016-09-29T00:00:00\",\"2016-09-30T00:00:00\",\"2016-10-03T00:00:00\",\"2016-10-04T00:00:00\",\"2016-10-05T00:00:00\",\"2016-10-06T00:00:00\",\"2016-10-07T00:00:00\",\"2016-10-10T00:00:00\",\"2016-10-11T00:00:00\",\"2016-10-13T00:00:00\",\"2016-10-14T00:00:00\",\"2016-10-17T00:00:00\",\"2016-10-18T00:00:00\",\"2016-10-19T00:00:00\",\"2016-10-20T00:00:00\",\"2016-10-21T00:00:00\",\"2016-10-24T00:00:00\",\"2016-10-25T00:00:00\",\"2016-10-26T00:00:00\",\"2016-10-27T00:00:00\",\"2016-10-28T00:00:00\",\"2016-10-31T00:00:00\",\"2016-11-01T00:00:00\",\"2016-11-03T00:00:00\",\"2016-11-04T00:00:00\",\"2016-11-07T00:00:00\",\"2016-11-08T00:00:00\",\"2016-11-09T00:00:00\",\"2016-11-10T00:00:00\",\"2016-11-11T00:00:00\",\"2016-11-14T00:00:00\",\"2016-11-16T00:00:00\",\"2016-11-17T00:00:00\",\"2016-11-18T00:00:00\",\"2016-11-21T00:00:00\",\"2016-11-22T00:00:00\",\"2016-11-23T00:00:00\",\"2016-11-24T00:00:00\",\"2016-11-25T00:00:00\",\"2016-11-28T00:00:00\",\"2016-11-29T00:00:00\",\"2016-11-30T00:00:00\",\"2016-12-01T00:00:00\",\"2016-12-02T00:00:00\",\"2016-12-05T00:00:00\",\"2016-12-06T00:00:00\",\"2016-12-07T00:00:00\",\"2016-12-08T00:00:00\",\"2016-12-09T00:00:00\",\"2016-12-12T00:00:00\",\"2016-12-13T00:00:00\",\"2016-12-14T00:00:00\",\"2016-12-15T00:00:00\",\"2016-12-16T00:00:00\",\"2016-12-19T00:00:00\",\"2016-12-20T00:00:00\",\"2016-12-21T00:00:00\",\"2016-12-22T00:00:00\",\"2016-12-23T00:00:00\",\"2016-12-26T00:00:00\",\"2016-12-27T00:00:00\",\"2016-12-28T00:00:00\",\"2016-12-29T00:00:00\",\"2017-01-02T00:00:00\",\"2017-01-03T00:00:00\",\"2017-01-04T00:00:00\",\"2017-01-05T00:00:00\",\"2017-01-06T00:00:00\",\"2017-01-09T00:00:00\",\"2017-01-10T00:00:00\",\"2017-01-11T00:00:00\",\"2017-01-12T00:00:00\",\"2017-01-13T00:00:00\",\"2017-01-16T00:00:00\",\"2017-01-17T00:00:00\",\"2017-01-18T00:00:00\",\"2017-01-19T00:00:00\",\"2017-01-20T00:00:00\",\"2017-01-23T00:00:00\",\"2017-01-24T00:00:00\",\"2017-01-26T00:00:00\",\"2017-01-27T00:00:00\",\"2017-01-30T00:00:00\",\"2017-01-31T00:00:00\",\"2017-02-01T00:00:00\",\"2017-02-02T00:00:00\",\"2017-02-03T00:00:00\",\"2017-02-06T00:00:00\",\"2017-02-07T00:00:00\",\"2017-02-08T00:00:00\",\"2017-02-09T00:00:00\",\"2017-02-10T00:00:00\",\"2017-02-13T00:00:00\",\"2017-02-14T00:00:00\",\"2017-02-15T00:00:00\",\"2017-02-16T00:00:00\",\"2017-02-17T00:00:00\",\"2017-02-20T00:00:00\",\"2017-02-21T00:00:00\",\"2017-02-22T00:00:00\",\"2017-02-23T00:00:00\",\"2017-02-24T00:00:00\",\"2017-03-01T00:00:00\",\"2017-03-02T00:00:00\",\"2017-03-03T00:00:00\",\"2017-03-06T00:00:00\",\"2017-03-07T00:00:00\",\"2017-03-08T00:00:00\",\"2017-03-09T00:00:00\",\"2017-03-10T00:00:00\",\"2017-03-13T00:00:00\",\"2017-03-14T00:00:00\",\"2017-03-15T00:00:00\",\"2017-03-16T00:00:00\",\"2017-03-17T00:00:00\",\"2017-03-20T00:00:00\",\"2017-03-21T00:00:00\",\"2017-03-22T00:00:00\",\"2017-03-23T00:00:00\",\"2017-03-24T00:00:00\",\"2017-03-27T00:00:00\",\"2017-03-28T00:00:00\",\"2017-03-29T00:00:00\",\"2017-03-30T00:00:00\",\"2017-03-31T00:00:00\",\"2017-04-03T00:00:00\",\"2017-04-04T00:00:00\",\"2017-04-05T00:00:00\",\"2017-04-06T00:00:00\",\"2017-04-07T00:00:00\",\"2017-04-10T00:00:00\",\"2017-04-11T00:00:00\",\"2017-04-12T00:00:00\",\"2017-04-13T00:00:00\",\"2017-04-17T00:00:00\",\"2017-04-18T00:00:00\",\"2017-04-19T00:00:00\",\"2017-04-20T00:00:00\",\"2017-04-24T00:00:00\",\"2017-04-25T00:00:00\",\"2017-04-26T00:00:00\",\"2017-04-27T00:00:00\",\"2017-04-28T00:00:00\",\"2017-05-02T00:00:00\",\"2017-05-03T00:00:00\",\"2017-05-04T00:00:00\",\"2017-05-05T00:00:00\",\"2017-05-08T00:00:00\",\"2017-05-09T00:00:00\",\"2017-05-10T00:00:00\",\"2017-05-11T00:00:00\",\"2017-05-12T00:00:00\",\"2017-05-15T00:00:00\",\"2017-05-16T00:00:00\",\"2017-05-17T00:00:00\",\"2017-05-18T00:00:00\",\"2017-05-19T00:00:00\",\"2017-05-22T00:00:00\",\"2017-05-23T00:00:00\",\"2017-05-24T00:00:00\",\"2017-05-25T00:00:00\",\"2017-05-26T00:00:00\",\"2017-05-29T00:00:00\",\"2017-05-30T00:00:00\",\"2017-05-31T00:00:00\",\"2017-06-01T00:00:00\",\"2017-06-02T00:00:00\",\"2017-06-05T00:00:00\",\"2017-06-06T00:00:00\",\"2017-06-07T00:00:00\",\"2017-06-08T00:00:00\",\"2017-06-09T00:00:00\",\"2017-06-12T00:00:00\",\"2017-06-13T00:00:00\",\"2017-06-14T00:00:00\",\"2017-06-16T00:00:00\",\"2017-06-19T00:00:00\",\"2017-06-20T00:00:00\",\"2017-06-21T00:00:00\",\"2017-06-22T00:00:00\",\"2017-06-23T00:00:00\",\"2017-06-26T00:00:00\",\"2017-06-27T00:00:00\",\"2017-06-28T00:00:00\",\"2017-06-29T00:00:00\",\"2017-06-30T00:00:00\",\"2017-07-03T00:00:00\",\"2017-07-04T00:00:00\",\"2017-07-05T00:00:00\",\"2017-07-06T00:00:00\",\"2017-07-07T00:00:00\",\"2017-07-10T00:00:00\",\"2017-07-11T00:00:00\",\"2017-07-12T00:00:00\",\"2017-07-13T00:00:00\",\"2017-07-14T00:00:00\",\"2017-07-17T00:00:00\",\"2017-07-18T00:00:00\",\"2017-07-19T00:00:00\",\"2017-07-20T00:00:00\",\"2017-07-21T00:00:00\",\"2017-07-24T00:00:00\",\"2017-07-25T00:00:00\",\"2017-07-26T00:00:00\",\"2017-07-27T00:00:00\",\"2017-07-28T00:00:00\",\"2017-07-31T00:00:00\",\"2017-08-01T00:00:00\",\"2017-08-02T00:00:00\",\"2017-08-03T00:00:00\",\"2017-08-04T00:00:00\",\"2017-08-07T00:00:00\",\"2017-08-08T00:00:00\",\"2017-08-09T00:00:00\",\"2017-08-10T00:00:00\",\"2017-08-11T00:00:00\",\"2017-08-14T00:00:00\",\"2017-08-15T00:00:00\",\"2017-08-16T00:00:00\",\"2017-08-17T00:00:00\",\"2017-08-18T00:00:00\",\"2017-08-21T00:00:00\",\"2017-08-22T00:00:00\",\"2017-08-23T00:00:00\",\"2017-08-24T00:00:00\",\"2017-08-25T00:00:00\",\"2017-08-28T00:00:00\",\"2017-08-29T00:00:00\",\"2017-08-30T00:00:00\",\"2017-08-31T00:00:00\",\"2017-09-01T00:00:00\",\"2017-09-04T00:00:00\",\"2017-09-05T00:00:00\",\"2017-09-06T00:00:00\",\"2017-09-08T00:00:00\",\"2017-09-11T00:00:00\",\"2017-09-12T00:00:00\",\"2017-09-13T00:00:00\",\"2017-09-14T00:00:00\",\"2017-09-15T00:00:00\",\"2017-09-18T00:00:00\",\"2017-09-19T00:00:00\",\"2017-09-20T00:00:00\",\"2017-09-21T00:00:00\",\"2017-09-22T00:00:00\",\"2017-09-25T00:00:00\",\"2017-09-26T00:00:00\",\"2017-09-27T00:00:00\",\"2017-09-28T00:00:00\",\"2017-09-29T00:00:00\",\"2017-10-02T00:00:00\",\"2017-10-03T00:00:00\",\"2017-10-04T00:00:00\",\"2017-10-05T00:00:00\",\"2017-10-06T00:00:00\",\"2017-10-09T00:00:00\",\"2017-10-10T00:00:00\",\"2017-10-11T00:00:00\",\"2017-10-13T00:00:00\",\"2017-10-16T00:00:00\",\"2017-10-17T00:00:00\",\"2017-10-18T00:00:00\",\"2017-10-19T00:00:00\",\"2017-10-20T00:00:00\",\"2017-10-23T00:00:00\",\"2017-10-24T00:00:00\",\"2017-10-25T00:00:00\",\"2017-10-26T00:00:00\",\"2017-10-27T00:00:00\",\"2017-10-30T00:00:00\",\"2017-10-31T00:00:00\",\"2017-11-01T00:00:00\",\"2017-11-03T00:00:00\",\"2017-11-06T00:00:00\",\"2017-11-07T00:00:00\",\"2017-11-08T00:00:00\",\"2017-11-09T00:00:00\",\"2017-11-10T00:00:00\",\"2017-11-13T00:00:00\",\"2017-11-14T00:00:00\",\"2017-11-16T00:00:00\",\"2017-11-17T00:00:00\",\"2017-11-21T00:00:00\",\"2017-11-22T00:00:00\",\"2017-11-23T00:00:00\",\"2017-11-24T00:00:00\",\"2017-11-27T00:00:00\",\"2017-11-28T00:00:00\",\"2017-11-29T00:00:00\",\"2017-11-30T00:00:00\",\"2017-12-01T00:00:00\",\"2017-12-04T00:00:00\",\"2017-12-05T00:00:00\",\"2017-12-06T00:00:00\",\"2017-12-07T00:00:00\",\"2017-12-08T00:00:00\",\"2017-12-11T00:00:00\",\"2017-12-12T00:00:00\",\"2017-12-13T00:00:00\",\"2017-12-14T00:00:00\",\"2017-12-15T00:00:00\",\"2017-12-18T00:00:00\",\"2017-12-19T00:00:00\",\"2017-12-20T00:00:00\",\"2017-12-21T00:00:00\",\"2017-12-22T00:00:00\",\"2017-12-26T00:00:00\",\"2017-12-27T00:00:00\",\"2017-12-28T00:00:00\",\"2017-12-29T00:00:00\",\"2018-01-02T00:00:00\",\"2018-01-03T00:00:00\",\"2018-01-04T00:00:00\",\"2018-01-05T00:00:00\",\"2018-01-08T00:00:00\",\"2018-01-09T00:00:00\",\"2018-01-10T00:00:00\",\"2018-01-11T00:00:00\",\"2018-01-12T00:00:00\",\"2018-01-15T00:00:00\",\"2018-01-16T00:00:00\",\"2018-01-17T00:00:00\",\"2018-01-18T00:00:00\",\"2018-01-19T00:00:00\",\"2018-01-22T00:00:00\",\"2018-01-23T00:00:00\",\"2018-01-24T00:00:00\",\"2018-01-26T00:00:00\",\"2018-01-29T00:00:00\",\"2018-01-30T00:00:00\",\"2018-01-31T00:00:00\",\"2018-02-01T00:00:00\",\"2018-02-02T00:00:00\",\"2018-02-05T00:00:00\",\"2018-02-06T00:00:00\",\"2018-02-07T00:00:00\",\"2018-02-08T00:00:00\",\"2018-02-09T00:00:00\",\"2018-02-14T00:00:00\",\"2018-02-15T00:00:00\",\"2018-02-16T00:00:00\",\"2018-02-19T00:00:00\",\"2018-02-20T00:00:00\",\"2018-02-21T00:00:00\",\"2018-02-22T00:00:00\",\"2018-02-23T00:00:00\",\"2018-02-26T00:00:00\",\"2018-02-27T00:00:00\",\"2018-02-28T00:00:00\",\"2018-03-01T00:00:00\",\"2018-03-02T00:00:00\",\"2018-03-05T00:00:00\",\"2018-03-06T00:00:00\",\"2018-03-07T00:00:00\",\"2018-03-08T00:00:00\",\"2018-03-09T00:00:00\",\"2018-03-12T00:00:00\",\"2018-03-13T00:00:00\",\"2018-03-14T00:00:00\",\"2018-03-15T00:00:00\",\"2018-03-16T00:00:00\",\"2018-03-19T00:00:00\",\"2018-03-20T00:00:00\",\"2018-03-21T00:00:00\",\"2018-03-22T00:00:00\",\"2018-03-23T00:00:00\",\"2018-03-26T00:00:00\",\"2018-03-27T00:00:00\",\"2018-03-28T00:00:00\",\"2018-03-29T00:00:00\",\"2018-04-02T00:00:00\",\"2018-04-03T00:00:00\",\"2018-04-04T00:00:00\",\"2018-04-05T00:00:00\",\"2018-04-06T00:00:00\",\"2018-04-09T00:00:00\",\"2018-04-10T00:00:00\",\"2018-04-11T00:00:00\",\"2018-04-12T00:00:00\",\"2018-04-13T00:00:00\",\"2018-04-16T00:00:00\",\"2018-04-17T00:00:00\",\"2018-04-18T00:00:00\",\"2018-04-19T00:00:00\",\"2018-04-20T00:00:00\",\"2018-04-23T00:00:00\",\"2018-04-24T00:00:00\",\"2018-04-25T00:00:00\",\"2018-04-26T00:00:00\",\"2018-04-27T00:00:00\",\"2018-04-30T00:00:00\",\"2018-05-02T00:00:00\",\"2018-05-03T00:00:00\",\"2018-05-04T00:00:00\",\"2018-05-07T00:00:00\",\"2018-05-08T00:00:00\",\"2018-05-09T00:00:00\",\"2018-05-10T00:00:00\",\"2018-05-11T00:00:00\",\"2018-05-14T00:00:00\",\"2018-05-15T00:00:00\",\"2018-05-16T00:00:00\",\"2018-05-17T00:00:00\",\"2018-05-18T00:00:00\",\"2018-05-21T00:00:00\",\"2018-05-22T00:00:00\",\"2018-05-23T00:00:00\",\"2018-05-24T00:00:00\",\"2018-05-25T00:00:00\",\"2018-05-28T00:00:00\",\"2018-05-29T00:00:00\",\"2018-05-30T00:00:00\",\"2018-06-01T00:00:00\",\"2018-06-04T00:00:00\",\"2018-06-05T00:00:00\",\"2018-06-06T00:00:00\",\"2018-06-07T00:00:00\",\"2018-06-08T00:00:00\",\"2018-06-11T00:00:00\",\"2018-06-12T00:00:00\",\"2018-06-13T00:00:00\",\"2018-06-14T00:00:00\",\"2018-06-15T00:00:00\",\"2018-06-18T00:00:00\",\"2018-06-19T00:00:00\",\"2018-06-20T00:00:00\",\"2018-06-21T00:00:00\",\"2018-06-22T00:00:00\",\"2018-06-25T00:00:00\",\"2018-06-26T00:00:00\",\"2018-06-27T00:00:00\",\"2018-06-28T00:00:00\",\"2018-06-29T00:00:00\",\"2018-07-02T00:00:00\",\"2018-07-03T00:00:00\",\"2018-07-04T00:00:00\",\"2018-07-05T00:00:00\",\"2018-07-06T00:00:00\",\"2018-07-10T00:00:00\",\"2018-07-11T00:00:00\",\"2018-07-12T00:00:00\",\"2018-07-13T00:00:00\",\"2018-07-16T00:00:00\",\"2018-07-17T00:00:00\",\"2018-07-18T00:00:00\",\"2018-07-19T00:00:00\",\"2018-07-20T00:00:00\",\"2018-07-23T00:00:00\",\"2018-07-24T00:00:00\",\"2018-07-25T00:00:00\",\"2018-07-26T00:00:00\",\"2018-07-27T00:00:00\",\"2018-07-30T00:00:00\",\"2018-07-31T00:00:00\",\"2018-08-01T00:00:00\",\"2018-08-02T00:00:00\",\"2018-08-03T00:00:00\",\"2018-08-06T00:00:00\",\"2018-08-07T00:00:00\",\"2018-08-08T00:00:00\",\"2018-08-09T00:00:00\",\"2018-08-10T00:00:00\",\"2018-08-13T00:00:00\",\"2018-08-14T00:00:00\",\"2018-08-15T00:00:00\",\"2018-08-16T00:00:00\",\"2018-08-17T00:00:00\",\"2018-08-20T00:00:00\",\"2018-08-21T00:00:00\",\"2018-08-22T00:00:00\",\"2018-08-23T00:00:00\",\"2018-08-24T00:00:00\",\"2018-08-27T00:00:00\",\"2018-08-28T00:00:00\",\"2018-08-29T00:00:00\",\"2018-08-30T00:00:00\",\"2018-08-31T00:00:00\",\"2018-09-03T00:00:00\",\"2018-09-04T00:00:00\",\"2018-09-05T00:00:00\",\"2018-09-06T00:00:00\",\"2018-09-10T00:00:00\",\"2018-09-11T00:00:00\",\"2018-09-12T00:00:00\",\"2018-09-13T00:00:00\",\"2018-09-14T00:00:00\",\"2018-09-17T00:00:00\",\"2018-09-18T00:00:00\",\"2018-09-19T00:00:00\",\"2018-09-20T00:00:00\",\"2018-09-21T00:00:00\",\"2018-09-24T00:00:00\",\"2018-09-25T00:00:00\",\"2018-09-26T00:00:00\",\"2018-09-27T00:00:00\",\"2018-09-28T00:00:00\",\"2018-10-01T00:00:00\",\"2018-10-02T00:00:00\",\"2018-10-03T00:00:00\",\"2018-10-04T00:00:00\",\"2018-10-05T00:00:00\",\"2018-10-08T00:00:00\",\"2018-10-09T00:00:00\",\"2018-10-10T00:00:00\",\"2018-10-11T00:00:00\",\"2018-10-15T00:00:00\",\"2018-10-16T00:00:00\",\"2018-10-17T00:00:00\",\"2018-10-18T00:00:00\",\"2018-10-19T00:00:00\",\"2018-10-22T00:00:00\",\"2018-10-23T00:00:00\",\"2018-10-24T00:00:00\",\"2018-10-25T00:00:00\",\"2018-10-26T00:00:00\",\"2018-10-29T00:00:00\",\"2018-10-30T00:00:00\",\"2018-10-31T00:00:00\",\"2018-11-01T00:00:00\",\"2018-11-05T00:00:00\",\"2018-11-06T00:00:00\",\"2018-11-07T00:00:00\",\"2018-11-08T00:00:00\",\"2018-11-09T00:00:00\",\"2018-11-12T00:00:00\",\"2018-11-13T00:00:00\",\"2018-11-14T00:00:00\",\"2018-11-16T00:00:00\",\"2018-11-19T00:00:00\",\"2018-11-21T00:00:00\",\"2018-11-22T00:00:00\",\"2018-11-23T00:00:00\",\"2018-11-26T00:00:00\",\"2018-11-27T00:00:00\",\"2018-11-28T00:00:00\",\"2018-11-29T00:00:00\",\"2018-11-30T00:00:00\",\"2018-12-03T00:00:00\",\"2018-12-04T00:00:00\",\"2018-12-05T00:00:00\",\"2018-12-06T00:00:00\",\"2018-12-07T00:00:00\",\"2018-12-10T00:00:00\",\"2018-12-11T00:00:00\",\"2018-12-12T00:00:00\",\"2018-12-13T00:00:00\",\"2018-12-14T00:00:00\",\"2018-12-17T00:00:00\",\"2018-12-18T00:00:00\",\"2018-12-19T00:00:00\",\"2018-12-20T00:00:00\",\"2018-12-21T00:00:00\",\"2018-12-26T00:00:00\",\"2018-12-27T00:00:00\",\"2018-12-28T00:00:00\",\"2019-01-02T00:00:00\",\"2019-01-03T00:00:00\",\"2019-01-04T00:00:00\",\"2019-01-07T00:00:00\",\"2019-01-08T00:00:00\",\"2019-01-09T00:00:00\",\"2019-01-10T00:00:00\",\"2019-01-11T00:00:00\",\"2019-01-14T00:00:00\",\"2019-01-15T00:00:00\",\"2019-01-16T00:00:00\",\"2019-01-17T00:00:00\",\"2019-01-18T00:00:00\",\"2019-01-21T00:00:00\",\"2019-01-22T00:00:00\",\"2019-01-23T00:00:00\",\"2019-01-24T00:00:00\",\"2019-01-28T00:00:00\",\"2019-01-29T00:00:00\",\"2019-01-30T00:00:00\",\"2019-01-31T00:00:00\",\"2019-02-01T00:00:00\",\"2019-02-04T00:00:00\",\"2019-02-05T00:00:00\",\"2019-02-06T00:00:00\",\"2019-02-07T00:00:00\",\"2019-02-08T00:00:00\",\"2019-02-11T00:00:00\",\"2019-02-12T00:00:00\",\"2019-02-13T00:00:00\",\"2019-02-14T00:00:00\",\"2019-02-15T00:00:00\",\"2019-02-18T00:00:00\",\"2019-02-19T00:00:00\",\"2019-02-20T00:00:00\",\"2019-02-21T00:00:00\",\"2019-02-22T00:00:00\",\"2019-02-25T00:00:00\",\"2019-02-26T00:00:00\",\"2019-02-27T00:00:00\",\"2019-02-28T00:00:00\",\"2019-03-01T00:00:00\",\"2019-03-06T00:00:00\",\"2019-03-07T00:00:00\",\"2019-03-08T00:00:00\",\"2019-03-11T00:00:00\",\"2019-03-12T00:00:00\",\"2019-03-13T00:00:00\",\"2019-03-14T00:00:00\",\"2019-03-15T00:00:00\",\"2019-03-18T00:00:00\",\"2019-03-19T00:00:00\",\"2019-03-20T00:00:00\",\"2019-03-21T00:00:00\",\"2019-03-22T00:00:00\",\"2019-03-25T00:00:00\",\"2019-03-26T00:00:00\",\"2019-03-27T00:00:00\",\"2019-03-28T00:00:00\",\"2019-03-29T00:00:00\",\"2019-04-01T00:00:00\",\"2019-04-02T00:00:00\",\"2019-04-03T00:00:00\",\"2019-04-04T00:00:00\",\"2019-04-05T00:00:00\",\"2019-04-08T00:00:00\",\"2019-04-09T00:00:00\",\"2019-04-10T00:00:00\",\"2019-04-11T00:00:00\",\"2019-04-12T00:00:00\",\"2019-04-15T00:00:00\",\"2019-04-16T00:00:00\",\"2019-04-17T00:00:00\",\"2019-04-18T00:00:00\",\"2019-04-22T00:00:00\",\"2019-04-23T00:00:00\",\"2019-04-24T00:00:00\",\"2019-04-25T00:00:00\",\"2019-04-26T00:00:00\",\"2019-04-29T00:00:00\",\"2019-04-30T00:00:00\",\"2019-05-02T00:00:00\",\"2019-05-03T00:00:00\",\"2019-05-06T00:00:00\",\"2019-05-07T00:00:00\",\"2019-05-08T00:00:00\",\"2019-05-09T00:00:00\",\"2019-05-10T00:00:00\",\"2019-05-13T00:00:00\",\"2019-05-14T00:00:00\",\"2019-05-15T00:00:00\",\"2019-05-16T00:00:00\",\"2019-05-17T00:00:00\",\"2019-05-20T00:00:00\",\"2019-05-21T00:00:00\",\"2019-05-22T00:00:00\",\"2019-05-23T00:00:00\",\"2019-05-24T00:00:00\",\"2019-05-27T00:00:00\",\"2019-05-28T00:00:00\",\"2019-05-29T00:00:00\",\"2019-05-30T00:00:00\",\"2019-05-31T00:00:00\",\"2019-06-03T00:00:00\",\"2019-06-04T00:00:00\",\"2019-06-05T00:00:00\",\"2019-06-06T00:00:00\",\"2019-06-07T00:00:00\",\"2019-06-10T00:00:00\",\"2019-06-11T00:00:00\",\"2019-06-12T00:00:00\",\"2019-06-13T00:00:00\",\"2019-06-14T00:00:00\",\"2019-06-17T00:00:00\",\"2019-06-18T00:00:00\",\"2019-06-19T00:00:00\",\"2019-06-21T00:00:00\",\"2019-06-24T00:00:00\",\"2019-06-25T00:00:00\",\"2019-06-26T00:00:00\",\"2019-06-27T00:00:00\",\"2019-06-28T00:00:00\",\"2019-07-01T00:00:00\",\"2019-07-02T00:00:00\",\"2019-07-03T00:00:00\",\"2019-07-04T00:00:00\",\"2019-07-05T00:00:00\",\"2019-07-08T00:00:00\",\"2019-07-10T00:00:00\",\"2019-07-11T00:00:00\",\"2019-07-12T00:00:00\",\"2019-07-15T00:00:00\",\"2019-07-16T00:00:00\",\"2019-07-17T00:00:00\",\"2019-07-18T00:00:00\",\"2019-07-19T00:00:00\",\"2019-07-22T00:00:00\",\"2019-07-23T00:00:00\",\"2019-07-24T00:00:00\",\"2019-07-25T00:00:00\",\"2019-07-26T00:00:00\",\"2019-07-29T00:00:00\",\"2019-07-30T00:00:00\",\"2019-07-31T00:00:00\",\"2019-08-01T00:00:00\",\"2019-08-02T00:00:00\",\"2019-08-05T00:00:00\",\"2019-08-06T00:00:00\",\"2019-08-07T00:00:00\",\"2019-08-08T00:00:00\",\"2019-08-09T00:00:00\",\"2019-08-12T00:00:00\",\"2019-08-13T00:00:00\",\"2019-08-14T00:00:00\",\"2019-08-15T00:00:00\",\"2019-08-16T00:00:00\",\"2019-08-19T00:00:00\",\"2019-08-20T00:00:00\",\"2019-08-21T00:00:00\",\"2019-08-22T00:00:00\",\"2019-08-23T00:00:00\",\"2019-08-26T00:00:00\",\"2019-08-27T00:00:00\",\"2019-08-28T00:00:00\",\"2019-08-29T00:00:00\",\"2019-08-30T00:00:00\",\"2019-09-02T00:00:00\",\"2019-09-03T00:00:00\",\"2019-09-04T00:00:00\",\"2019-09-05T00:00:00\",\"2019-09-06T00:00:00\",\"2019-09-09T00:00:00\",\"2019-09-10T00:00:00\",\"2019-09-11T00:00:00\",\"2019-09-12T00:00:00\",\"2019-09-13T00:00:00\",\"2019-09-16T00:00:00\",\"2019-09-17T00:00:00\",\"2019-09-18T00:00:00\",\"2019-09-19T00:00:00\",\"2019-09-20T00:00:00\",\"2019-09-23T00:00:00\",\"2019-09-24T00:00:00\",\"2019-09-25T00:00:00\",\"2019-09-26T00:00:00\",\"2019-09-27T00:00:00\",\"2019-09-30T00:00:00\",\"2019-10-01T00:00:00\",\"2019-10-02T00:00:00\",\"2019-10-03T00:00:00\",\"2019-10-04T00:00:00\",\"2019-10-07T00:00:00\",\"2019-10-08T00:00:00\",\"2019-10-09T00:00:00\",\"2019-10-10T00:00:00\",\"2019-10-11T00:00:00\",\"2019-10-14T00:00:00\",\"2019-10-15T00:00:00\",\"2019-10-16T00:00:00\",\"2019-10-17T00:00:00\",\"2019-10-18T00:00:00\",\"2019-10-21T00:00:00\",\"2019-10-22T00:00:00\",\"2019-10-23T00:00:00\",\"2019-10-24T00:00:00\",\"2019-10-25T00:00:00\",\"2019-10-28T00:00:00\",\"2019-10-29T00:00:00\",\"2019-10-30T00:00:00\",\"2019-10-31T00:00:00\",\"2019-11-01T00:00:00\",\"2019-11-04T00:00:00\",\"2019-11-05T00:00:00\",\"2019-11-06T00:00:00\",\"2019-11-07T00:00:00\",\"2019-11-08T00:00:00\",\"2019-11-11T00:00:00\",\"2019-11-12T00:00:00\",\"2019-11-13T00:00:00\",\"2019-11-14T00:00:00\",\"2019-11-18T00:00:00\",\"2019-11-19T00:00:00\",\"2019-11-21T00:00:00\",\"2019-11-22T00:00:00\",\"2019-11-25T00:00:00\",\"2019-11-26T00:00:00\",\"2019-11-27T00:00:00\",\"2019-11-28T00:00:00\",\"2019-11-29T00:00:00\",\"2019-12-02T00:00:00\",\"2019-12-03T00:00:00\",\"2019-12-04T00:00:00\",\"2019-12-05T00:00:00\",\"2019-12-06T00:00:00\",\"2019-12-09T00:00:00\",\"2019-12-10T00:00:00\",\"2019-12-11T00:00:00\",\"2019-12-12T00:00:00\",\"2019-12-13T00:00:00\",\"2019-12-16T00:00:00\",\"2019-12-17T00:00:00\",\"2019-12-18T00:00:00\",\"2019-12-19T00:00:00\",\"2019-12-20T00:00:00\",\"2019-12-23T00:00:00\",\"2019-12-26T00:00:00\",\"2019-12-27T00:00:00\",\"2019-12-30T00:00:00\",\"2020-01-02T00:00:00\",\"2020-01-03T00:00:00\",\"2020-01-06T00:00:00\",\"2020-01-07T00:00:00\",\"2020-01-08T00:00:00\",\"2020-01-09T00:00:00\",\"2020-01-10T00:00:00\",\"2020-01-13T00:00:00\",\"2020-01-14T00:00:00\",\"2020-01-15T00:00:00\",\"2020-01-16T00:00:00\",\"2020-01-17T00:00:00\",\"2020-01-20T00:00:00\",\"2020-01-21T00:00:00\",\"2020-01-22T00:00:00\",\"2020-01-23T00:00:00\",\"2020-01-24T00:00:00\",\"2020-01-27T00:00:00\",\"2020-01-28T00:00:00\",\"2020-01-29T00:00:00\",\"2020-01-30T00:00:00\",\"2020-01-31T00:00:00\",\"2020-02-03T00:00:00\",\"2020-02-04T00:00:00\",\"2020-02-05T00:00:00\",\"2020-02-06T00:00:00\",\"2020-02-07T00:00:00\",\"2020-02-10T00:00:00\",\"2020-02-11T00:00:00\",\"2020-02-12T00:00:00\",\"2020-02-13T00:00:00\",\"2020-02-14T00:00:00\",\"2020-02-17T00:00:00\",\"2020-02-18T00:00:00\",\"2020-02-19T00:00:00\",\"2020-02-20T00:00:00\",\"2020-02-21T00:00:00\",\"2020-02-26T00:00:00\",\"2020-02-27T00:00:00\",\"2020-02-28T00:00:00\",\"2020-03-02T00:00:00\",\"2020-03-03T00:00:00\",\"2020-03-04T00:00:00\",\"2020-03-05T00:00:00\",\"2020-03-06T00:00:00\",\"2020-03-09T00:00:00\",\"2020-03-10T00:00:00\",\"2020-03-11T00:00:00\",\"2020-03-12T00:00:00\",\"2020-03-13T00:00:00\",\"2020-03-16T00:00:00\",\"2020-03-17T00:00:00\",\"2020-03-18T00:00:00\",\"2020-03-19T00:00:00\",\"2020-03-20T00:00:00\",\"2020-03-23T00:00:00\",\"2020-03-24T00:00:00\",\"2020-03-25T00:00:00\",\"2020-03-26T00:00:00\",\"2020-03-27T00:00:00\",\"2020-03-30T00:00:00\",\"2020-03-31T00:00:00\",\"2020-04-01T00:00:00\",\"2020-04-02T00:00:00\",\"2020-04-03T00:00:00\",\"2020-04-06T00:00:00\",\"2020-04-07T00:00:00\",\"2020-04-08T00:00:00\",\"2020-04-09T00:00:00\",\"2020-04-13T00:00:00\",\"2020-04-14T00:00:00\",\"2020-04-15T00:00:00\",\"2020-04-16T00:00:00\",\"2020-04-17T00:00:00\",\"2020-04-20T00:00:00\",\"2020-04-22T00:00:00\",\"2020-04-23T00:00:00\",\"2020-04-24T00:00:00\",\"2020-04-27T00:00:00\",\"2020-04-28T00:00:00\",\"2020-04-29T00:00:00\",\"2020-04-30T00:00:00\",\"2020-05-04T00:00:00\",\"2020-05-05T00:00:00\",\"2020-05-06T00:00:00\",\"2020-05-07T00:00:00\",\"2020-05-08T00:00:00\",\"2020-05-11T00:00:00\",\"2020-05-12T00:00:00\",\"2020-05-13T00:00:00\",\"2020-05-14T00:00:00\",\"2020-05-15T00:00:00\",\"2020-05-18T00:00:00\",\"2020-05-19T00:00:00\",\"2020-05-20T00:00:00\",\"2020-05-21T00:00:00\",\"2020-05-22T00:00:00\",\"2020-05-25T00:00:00\",\"2020-05-26T00:00:00\",\"2020-05-27T00:00:00\",\"2020-05-28T00:00:00\",\"2020-05-29T00:00:00\",\"2020-06-01T00:00:00\",\"2020-06-02T00:00:00\",\"2020-06-03T00:00:00\",\"2020-06-04T00:00:00\",\"2020-06-05T00:00:00\",\"2020-06-08T00:00:00\",\"2020-06-09T00:00:00\",\"2020-06-10T00:00:00\",\"2020-06-12T00:00:00\",\"2020-06-15T00:00:00\",\"2020-06-16T00:00:00\",\"2020-06-17T00:00:00\",\"2020-06-18T00:00:00\",\"2020-06-19T00:00:00\",\"2020-06-22T00:00:00\",\"2020-06-23T00:00:00\",\"2020-06-24T00:00:00\",\"2020-06-25T00:00:00\",\"2020-06-26T00:00:00\",\"2020-06-29T00:00:00\",\"2020-06-30T00:00:00\",\"2020-07-01T00:00:00\",\"2020-07-02T00:00:00\",\"2020-07-03T00:00:00\",\"2020-07-06T00:00:00\",\"2020-07-07T00:00:00\",\"2020-07-08T00:00:00\",\"2020-07-09T00:00:00\",\"2020-07-10T00:00:00\",\"2020-07-13T00:00:00\",\"2020-07-14T00:00:00\",\"2020-07-15T00:00:00\",\"2020-07-16T00:00:00\",\"2020-07-17T00:00:00\",\"2020-07-20T00:00:00\",\"2020-07-21T00:00:00\",\"2020-07-22T00:00:00\",\"2020-07-23T00:00:00\",\"2020-07-24T00:00:00\",\"2020-07-27T00:00:00\",\"2020-07-28T00:00:00\",\"2020-07-29T00:00:00\",\"2020-07-30T00:00:00\",\"2020-07-31T00:00:00\",\"2020-08-03T00:00:00\",\"2020-08-04T00:00:00\",\"2020-08-05T00:00:00\",\"2020-08-06T00:00:00\",\"2020-08-07T00:00:00\",\"2020-08-10T00:00:00\",\"2020-08-11T00:00:00\",\"2020-08-12T00:00:00\",\"2020-08-13T00:00:00\",\"2020-08-14T00:00:00\",\"2020-08-17T00:00:00\",\"2020-08-18T00:00:00\",\"2020-08-19T00:00:00\",\"2020-08-20T00:00:00\",\"2020-08-21T00:00:00\",\"2020-08-24T00:00:00\",\"2020-08-25T00:00:00\",\"2020-08-26T00:00:00\",\"2020-08-27T00:00:00\",\"2020-08-28T00:00:00\",\"2020-08-31T00:00:00\",\"2020-09-01T00:00:00\",\"2020-09-02T00:00:00\",\"2020-09-03T00:00:00\",\"2020-09-04T00:00:00\",\"2020-09-08T00:00:00\",\"2020-09-09T00:00:00\",\"2020-09-10T00:00:00\",\"2020-09-11T00:00:00\",\"2020-09-14T00:00:00\",\"2020-09-15T00:00:00\",\"2020-09-16T00:00:00\",\"2020-09-17T00:00:00\",\"2020-09-18T00:00:00\",\"2020-09-21T00:00:00\",\"2020-09-22T00:00:00\",\"2020-09-23T00:00:00\",\"2020-09-24T00:00:00\",\"2020-09-25T00:00:00\",\"2020-09-28T00:00:00\",\"2020-09-29T00:00:00\",\"2020-09-30T00:00:00\",\"2020-10-01T00:00:00\",\"2020-10-02T00:00:00\",\"2020-10-05T00:00:00\",\"2020-10-06T00:00:00\",\"2020-10-07T00:00:00\",\"2020-10-08T00:00:00\",\"2020-10-09T00:00:00\",\"2020-10-13T00:00:00\",\"2020-10-14T00:00:00\",\"2020-10-15T00:00:00\",\"2020-10-16T00:00:00\",\"2020-10-19T00:00:00\",\"2020-10-20T00:00:00\",\"2020-10-21T00:00:00\",\"2020-10-22T00:00:00\",\"2020-10-23T00:00:00\",\"2020-10-26T00:00:00\",\"2020-10-27T00:00:00\",\"2020-10-28T00:00:00\",\"2020-10-29T00:00:00\",\"2020-10-30T00:00:00\",\"2020-11-03T00:00:00\",\"2020-11-04T00:00:00\",\"2020-11-05T00:00:00\",\"2020-11-06T00:00:00\",\"2020-11-09T00:00:00\",\"2020-11-10T00:00:00\",\"2020-11-11T00:00:00\",\"2020-11-12T00:00:00\",\"2020-11-13T00:00:00\",\"2020-11-16T00:00:00\",\"2020-11-17T00:00:00\",\"2020-11-18T00:00:00\",\"2020-11-19T00:00:00\",\"2020-11-23T00:00:00\",\"2020-11-24T00:00:00\",\"2020-11-25T00:00:00\",\"2020-11-26T00:00:00\",\"2020-11-27T00:00:00\",\"2020-11-30T00:00:00\",\"2020-12-01T00:00:00\",\"2020-12-02T00:00:00\",\"2020-12-03T00:00:00\",\"2020-12-04T00:00:00\",\"2020-12-07T00:00:00\",\"2020-12-08T00:00:00\",\"2020-12-09T00:00:00\",\"2020-12-10T00:00:00\",\"2020-12-11T00:00:00\",\"2020-12-14T00:00:00\",\"2020-12-15T00:00:00\",\"2020-12-16T00:00:00\",\"2020-12-17T00:00:00\",\"2020-12-18T00:00:00\",\"2020-12-21T00:00:00\",\"2020-12-22T00:00:00\",\"2020-12-23T00:00:00\",\"2020-12-28T00:00:00\",\"2020-12-29T00:00:00\",\"2020-12-30T00:00:00\",\"2021-01-04T00:00:00\",\"2021-01-05T00:00:00\",\"2021-01-06T00:00:00\",\"2021-01-07T00:00:00\",\"2021-01-08T00:00:00\",\"2021-01-11T00:00:00\",\"2021-01-12T00:00:00\",\"2021-01-13T00:00:00\",\"2021-01-14T00:00:00\",\"2021-01-15T00:00:00\",\"2021-01-18T00:00:00\",\"2021-01-19T00:00:00\",\"2021-01-20T00:00:00\",\"2021-01-21T00:00:00\",\"2021-01-22T00:00:00\",\"2021-01-26T00:00:00\",\"2021-01-27T00:00:00\",\"2021-01-28T00:00:00\",\"2021-01-29T00:00:00\",\"2021-02-01T00:00:00\",\"2021-02-02T00:00:00\",\"2021-02-03T00:00:00\",\"2021-02-04T00:00:00\",\"2021-02-05T00:00:00\",\"2021-02-08T00:00:00\",\"2021-02-09T00:00:00\",\"2021-02-10T00:00:00\",\"2021-02-11T00:00:00\",\"2021-02-12T00:00:00\",\"2021-02-17T00:00:00\",\"2021-02-18T00:00:00\",\"2021-02-19T00:00:00\",\"2021-02-22T00:00:00\",\"2021-02-23T00:00:00\",\"2021-02-24T00:00:00\",\"2021-02-25T00:00:00\",\"2021-02-26T00:00:00\",\"2021-03-01T00:00:00\",\"2021-03-02T00:00:00\",\"2021-03-03T00:00:00\",\"2021-03-04T00:00:00\",\"2021-03-05T00:00:00\",\"2021-03-08T00:00:00\",\"2021-03-09T00:00:00\",\"2021-03-10T00:00:00\",\"2021-03-11T00:00:00\",\"2021-03-12T00:00:00\",\"2021-03-15T00:00:00\",\"2021-03-16T00:00:00\",\"2021-03-17T00:00:00\",\"2021-03-18T00:00:00\",\"2021-03-19T00:00:00\",\"2021-03-22T00:00:00\",\"2021-03-23T00:00:00\",\"2021-03-24T00:00:00\",\"2021-03-25T00:00:00\",\"2021-03-26T00:00:00\",\"2021-03-29T00:00:00\",\"2021-03-30T00:00:00\",\"2021-03-31T00:00:00\",\"2021-04-01T00:00:00\",\"2021-04-05T00:00:00\",\"2021-04-06T00:00:00\",\"2021-04-07T00:00:00\",\"2021-04-08T00:00:00\",\"2021-04-09T00:00:00\",\"2021-04-12T00:00:00\",\"2021-04-13T00:00:00\",\"2021-04-14T00:00:00\",\"2021-04-15T00:00:00\",\"2021-04-16T00:00:00\",\"2021-04-19T00:00:00\",\"2021-04-20T00:00:00\",\"2021-04-22T00:00:00\",\"2021-04-23T00:00:00\",\"2021-04-26T00:00:00\",\"2021-04-27T00:00:00\",\"2021-04-28T00:00:00\",\"2021-04-29T00:00:00\",\"2021-04-30T00:00:00\",\"2021-05-03T00:00:00\",\"2021-05-04T00:00:00\",\"2021-05-05T00:00:00\",\"2021-05-06T00:00:00\",\"2021-05-07T00:00:00\",\"2021-05-10T00:00:00\",\"2021-05-11T00:00:00\",\"2021-05-12T00:00:00\",\"2021-05-13T00:00:00\",\"2021-05-14T00:00:00\",\"2021-05-17T00:00:00\",\"2021-05-18T00:00:00\",\"2021-05-19T00:00:00\",\"2021-05-20T00:00:00\",\"2021-05-21T00:00:00\",\"2021-05-24T00:00:00\",\"2021-05-25T00:00:00\",\"2021-05-26T00:00:00\",\"2021-05-27T00:00:00\",\"2021-05-28T00:00:00\",\"2021-05-31T00:00:00\",\"2021-06-01T00:00:00\",\"2021-06-02T00:00:00\",\"2021-06-04T00:00:00\",\"2021-06-07T00:00:00\",\"2021-06-08T00:00:00\",\"2021-06-09T00:00:00\",\"2021-06-10T00:00:00\",\"2021-06-11T00:00:00\",\"2021-06-14T00:00:00\",\"2021-06-15T00:00:00\",\"2021-06-16T00:00:00\",\"2021-06-17T00:00:00\",\"2021-06-18T00:00:00\",\"2021-06-21T00:00:00\",\"2021-06-22T00:00:00\",\"2021-06-23T00:00:00\",\"2021-06-24T00:00:00\",\"2021-06-25T00:00:00\",\"2021-06-28T00:00:00\",\"2021-06-29T00:00:00\",\"2021-06-30T00:00:00\",\"2021-07-01T00:00:00\",\"2021-07-02T00:00:00\",\"2021-07-05T00:00:00\",\"2021-07-06T00:00:00\",\"2021-07-07T00:00:00\",\"2021-07-08T00:00:00\",\"2021-07-12T00:00:00\",\"2021-07-13T00:00:00\",\"2021-07-14T00:00:00\",\"2021-07-15T00:00:00\",\"2021-07-16T00:00:00\",\"2021-07-19T00:00:00\",\"2021-07-20T00:00:00\",\"2021-07-21T00:00:00\",\"2021-07-22T00:00:00\",\"2021-07-23T00:00:00\",\"2021-07-26T00:00:00\",\"2021-07-27T00:00:00\",\"2021-07-28T00:00:00\",\"2021-07-29T00:00:00\",\"2021-07-30T00:00:00\",\"2021-08-02T00:00:00\",\"2021-08-03T00:00:00\",\"2021-08-04T00:00:00\",\"2021-08-05T00:00:00\",\"2021-08-06T00:00:00\",\"2021-08-09T00:00:00\",\"2021-08-10T00:00:00\",\"2021-08-11T00:00:00\",\"2021-08-12T00:00:00\",\"2021-08-13T00:00:00\",\"2021-08-16T00:00:00\",\"2021-08-17T00:00:00\",\"2021-08-18T00:00:00\",\"2021-08-19T00:00:00\",\"2021-08-20T00:00:00\",\"2021-08-23T00:00:00\",\"2021-08-24T00:00:00\",\"2021-08-25T00:00:00\",\"2021-08-26T00:00:00\",\"2021-08-27T00:00:00\",\"2021-08-30T00:00:00\",\"2021-08-31T00:00:00\",\"2021-09-01T00:00:00\",\"2021-09-02T00:00:00\",\"2021-09-03T00:00:00\",\"2021-09-06T00:00:00\",\"2021-09-08T00:00:00\",\"2021-09-09T00:00:00\",\"2021-09-10T00:00:00\",\"2021-09-13T00:00:00\",\"2021-09-14T00:00:00\",\"2021-09-15T00:00:00\",\"2021-09-16T00:00:00\",\"2021-09-17T00:00:00\",\"2021-09-20T00:00:00\",\"2021-09-21T00:00:00\",\"2021-09-22T00:00:00\",\"2021-09-23T00:00:00\",\"2021-09-24T00:00:00\",\"2021-09-27T00:00:00\",\"2021-09-28T00:00:00\",\"2021-09-29T00:00:00\",\"2021-09-30T00:00:00\",\"2021-10-01T00:00:00\",\"2021-10-04T00:00:00\",\"2021-10-05T00:00:00\",\"2021-10-06T00:00:00\",\"2021-10-07T00:00:00\",\"2021-10-08T00:00:00\",\"2021-10-11T00:00:00\",\"2021-10-13T00:00:00\",\"2021-10-14T00:00:00\",\"2021-10-15T00:00:00\",\"2021-10-18T00:00:00\",\"2021-10-19T00:00:00\",\"2021-10-20T00:00:00\",\"2021-10-21T00:00:00\",\"2021-10-22T00:00:00\",\"2021-10-25T00:00:00\",\"2021-10-26T00:00:00\",\"2021-10-27T00:00:00\",\"2021-10-28T00:00:00\",\"2021-10-29T00:00:00\",\"2021-11-01T00:00:00\",\"2021-11-03T00:00:00\",\"2021-11-04T00:00:00\",\"2021-11-05T00:00:00\",\"2021-11-08T00:00:00\",\"2021-11-09T00:00:00\",\"2021-11-10T00:00:00\",\"2021-11-11T00:00:00\",\"2021-11-12T00:00:00\",\"2021-11-16T00:00:00\",\"2021-11-17T00:00:00\",\"2021-11-18T00:00:00\",\"2021-11-19T00:00:00\",\"2021-11-22T00:00:00\",\"2021-11-23T00:00:00\",\"2021-11-24T00:00:00\",\"2021-11-25T00:00:00\",\"2021-11-26T00:00:00\",\"2021-11-29T00:00:00\",\"2021-11-30T00:00:00\",\"2021-12-01T00:00:00\",\"2021-12-02T00:00:00\",\"2021-12-03T00:00:00\",\"2021-12-06T00:00:00\",\"2021-12-07T00:00:00\",\"2021-12-08T00:00:00\",\"2021-12-09T00:00:00\",\"2021-12-10T00:00:00\",\"2021-12-13T00:00:00\",\"2021-12-14T00:00:00\",\"2021-12-15T00:00:00\",\"2021-12-16T00:00:00\",\"2021-12-17T00:00:00\",\"2021-12-20T00:00:00\",\"2021-12-21T00:00:00\",\"2021-12-22T00:00:00\",\"2021-12-23T00:00:00\",\"2021-12-27T00:00:00\",\"2021-12-28T00:00:00\",\"2021-12-29T00:00:00\",\"2021-12-30T00:00:00\"],\"xaxis\":\"x\",\"y\":[45383.0,44445.0,44020.0,42245.0,42830.0,42007.0,42336.0,42670.0,43095.0,42919.0,42624.0,42735.0,42478.0,43428.0,43553.0,44177.0,44687.0,44412.0,43573.0,44044.0,44642.0,44815.0,44998.0,45286.0,45352.0,44588.0,44892.0,44284.0,43935.0,45197.0,45996.0,45955.0,45849.0,46090.0,46452.0,46016.0,46207.0,43145.0,43892.0,43517.0,42370.0,41179.0,43218.0,42667.0,43466.0,44133.0,44249.0,42749.0,43288.0,43278.0,42730.0,43713.0,44351.0,45631.0,45424.0,45533.0,45645.0,45207.0,44484.0,45355.0,45805.0,45597.0,46288.0,46554.0,46647.0,46855.0,47174.0,46939.0,47347.0,47926.0,48921.0,48755.0,48710.0,48762.0,49408.0,49162.0,49071.0,49676.0,49068.0,49230.0,48956.0,49472.0,50218.0,50598.0,50282.0,50278.0,51300.0,50235.0,50902.0,50511.0,50518.0,51738.0,51631.0,52078.0,52423.0,52208.0,51813.0,50531.0,51618.0,52120.0,51713.0,52528.0,52268.0,53423.0,53243.0,53162.0,52049.0,52330.0,52777.0,51797.0,52994.0,53713.0,54519.0,54730.0,54644.0,54029.0,54657.0,54267.0,54042.0,53852.0,54143.0,54147.0,54392.0,55371.0,55700.0,55696.0,55932.0,56444.0,55883.0,56356.0,57613.0,57644.0,57374.0,57660.0,57556.0,58125.0,57443.0,58037.0,55795.0,56001.0,53893.0,52922.0,54573.0,54183.0,54234.0,54691.0,52846.0,53091.0,53802.0,55241.0,53431.0,52638.0,52434.0,50912.0,49285.0,48016.0,48559.0,49206.0,49815.0,51745.0,51848.0,52998.0,53078.0,51645.0,52735.0,52858.0,54637.0,54833.0,55250.0,54408.0,54569.0,52653.0,53921.0,53883.0,54908.0,54671.0,54341.0,56666.0,57264.0,56906.0,57799.0,58719.0,58858.0,59715.0,61052.0,60465.0,62340.0,62017.0,60099.0,60407.0,62319.0,62661.0,63549.0,63197.0,62456.0,62969.0,61718.0,63194.0,63261.0,60894.0,61215.0,62697.0,62625.0,62341.0,64276.0,65044.0,64383.0,65318.0,64050.0,62960.0,64503.0,63501.0,63562.0,64321.0,61527.0,62927.0,64631.0,64609.0,62336.0,60582.0,60653.0,60971.0,59069.0,59432.0,61715.0,62156.0,63006.0,63200.0,63482.0,64928.0,65791.0,65639.0,65446.0,64512.0,64742.0,62861.0,62445.0,59828.0,61096.0,61722.0,61716.0,63098.0,64288.0,63774.0,63886.0,62815.0,62892.0,61037.0,60772.0,62081.0,62674.0,63515.0,61942.0,62188.0,59907.0,58777.0,57037.0,57506.0,53709.0,56097.0,54235.0,57463.0,58594.0,59530.0,60289.0,59490.0,61080.0,58969.0,58965.0,59076.0,60643.0,61805.0,62591.0,61819.0,61272.0,62801.0,62297.0,63747.0,63792.0,64609.0,65001.0,65183.0,65495.0,65555.0,63489.0,64490.0,63656.0,64629.0,62975.0,61868.0,59999.0,62368.0,62177.0,62280.0,61991.0,60012.0,61933.0,58827.0,58987.0,59813.0,61234.0,61415.0,60762.0,60452.0,60968.0,62775.0,63364.0,64175.0,64446.0,64176.0,64540.0,63477.0,63527.0,62585.0,62153.0,62618.0,64152.0,64552.0,64923.0,65413.0,64948.0,64576.0,65187.0,65678.0,63826.0,67868.0,69366.0,70175.0,70195.0,69018.0,69722.0,69646.0,70416.0,70503.0,70027.0,71492.0,72767.0,73439.0,73517.0,72295.0,71452.0,71629.0,70992.0,73153.0,71798.0,72593.0,71897.0,70012.0,68673.0,71235.0,69786.0,69281.0,67775.0,66795.0,67322.0,67204.0,67285.0,68438.0,67090.0,66590.0,64614.0,64640.0,64168.0,65853.0,63947.0,64321.0,65018.0,63396.0,61106.0,59273.0,59365.0,59088.0,59536.0,60253.0,60148.0,60721.0,61015.0,62056.0,60109.0,59988.0,60772.0,59647.0,59421.0,57434.0,57199.0,56869.0,58043.0,59998.0,59505.0,57630.0,55609.0,56471.0,57542.0,57018.0,56584.0,54720.0,54503.0,54573.0,55138.0,54244.0,53327.0,53639.0,55377.0,55935.0,55850.0,54477.0,54359.0,55519.0,56382.0,55680.0,55162.0,54404.0,53527.0,51409.0,51940.0,50718.0,48435.0,49633.0,51270.0,52393.0,48416.0,49229.0,45909.0,48423.0,53055.0,51541.0,49593.0,49843.0,51828.0,50783.0,46028.0,49541.0,49799.0,46145.0,44517.0,42101.0,40140.0,38594.0,37080.0,35610.0,40829.0,41569.0,36833.0,36442.0,36399.0,39441.0,39043.0,35070.0,33818.0,31482.0,29435.0,33387.0,34845.0,37449.0,37257.0,38249.0,40255.0,37786.0,36362.0,36665.0,36776.0,37262.0,34374.0,35993.0,35789.0,35717.0,34095.0,33405.0,31251.0,34189.0,34813.0,36470.0,36213.0,36596.0,34741.0,35001.0,35297.0,35128.0,35347.0,38285.0,37968.0,39004.0,38519.0,39374.0,38320.0,39993.0,39947.0,39536.0,39131.0,37619.0,36471.0,36864.0,37060.0,37550.0,40244.0,41519.0,42312.0,40820.0,41991.0,41583.0,39403.0,39544.0,37982.0,39151.0,39342.0,38828.0,37272.0,38543.0,37894.0,38132.0,38509.0,38699.0,40227.0,39638.0,39301.0,38666.0,39747.0,40129.0,41109.0,42756.0,42100.0,41207.0,40846.0,40501.0,41674.0,41841.0,39847.0,39674.0,39730.0,38715.0,38232.0,38180.0,38183.0,36235.0,36468.0,38402.0,37369.0,37105.0,36741.0,38795.0,38805.0,39152.0,39015.0,38607.0,39511.0,40142.0,40453.0,40076.0,42439.0,41476.0,41799.0,42589.0,41907.0,40653.0,40926.0,41976.0,43736.0,44391.0,44167.0,43825.0,44182.0,45539.0,45992.0,45418.0,45273.0,46025.0,45778.0,44433.0,44888.0,45801.0,46772.0,45820.0,45821.0,47227.0,47290.0,50405.0,50670.0,51499.0,50058.0,51396.0,50976.0,50326.0,48679.0,49446.0,49007.0,51463.0,51347.0,51245.0,50087.0,50568.0,50816.0,51841.0,51792.0,53041.0,53198.0,54486.0,54000.0,52087.0,53464.0,53341.0,53630.0,53157.0,53411.0,53558.0,52034.0,51206.0,51046.0,50903.0,51374.0,49495.0,49814.0,49672.0,51515.0,51486.0,52138.0,51465.0,51544.0,51025.0,50935.0,50622.0,49457.0,49178.0,49221.0,49187.0,48873.0,51297.0,51918.0,52072.0,53155.0,53234.0,53073.0,54249.0,54457.0,54549.0,54472.0,53735.0,54478.0,54766.0,55998.0,56038.0,56384.0,55755.0,56330.0,56830.0,55761.0,56588.0,57048.0,56638.0,55218.0,55749.0,56156.0,56831.0,57729.0,57775.0,57421.0,57766.0,57704.0,57701.0,56489.0,55815.0,55386.0,55707.0,56652.0,57855.0,57910.0,58536.0,58366.0,58868.0,59264.0,60411.0,60236.0,60703.0,60928.0,61493.0,60496.0,60046.0,60356.0,61317.0,61235.0,61518.0,60459.0,61172.0,62369.0,62671.0,62638.0,63760.0,64071.0,64646.0,66201.0,66703.0,66200.0,67239.0,65303.0,65486.0,66135.0,65059.0,65086.0,63161.0,60162.0,63721.0,61546.0,62643.0,63913.0,64816.0,64466.0,66214.0,66303.0,66431.0,64448.0,65326.0,66627.0,67406.0,66516.0,66327.0,66809.0,67317.0,67917.0,66392.0,67082.0,67044.0,68546.0,68615.0,68315.0,67604.0,68512.0,67729.0,68012.0,68728.0,69267.0,69349.0,69311.0,68622.0,67068.0,66794.0,65925.0,67418.0,67589.0,67902.0,68296.0,68588.0,70045.0,70240.0,70729.0,70451.0,70263.0,70433.0,70076.0,70385.0,69801.0,68978.0,69401.0,69909.0,68200.0,66270.0,66220.0,65524.0,65070.0,65588.0,65402.0,66572.0,67163.0,67109.0,63934.0,62763.0,63153.0,64718.0,65051.0,66129.0,65855.0,67285.0,67836.0,67597.0,67184.0,66108.0,65795.0,66121.0,66503.0,67228.0,67779.0,67641.0,67815.0,68847.0,68575.0,69576.0,69979.0,69885.0,69341.0,69024.0,69942.0,69723.0,69697.0,68829.0,69042.0,69387.0,68913.0,68442.0,68683.0,69939.0,69960.0,70372.0,71136.0,71290.0,71096.0,70793.0,71785.0,71417.0,70614.0,70792.0,71035.0,70524.0,69421.0,69098.0,69318.0,69386.0,69509.0,68872.0,66511.0,66656.0,67978.0,67530.0,67119.0,64869.0,64914.0,63414.0,62871.0,65453.0,64425.0,65224.0,64788.0,63412.0,62866.0,60841.0,59689.0,58192.0,60259.0,59915.0,59184.0,60190.0,62092.0,61947.0,63047.0,61841.0,62943.0,61676.0,61183.0,61856.0,61479.0,63049.0,63605.0,63533.0,64442.0,64751.0,64541.0,64438.0,64829.0,64811.0,65160.0,63937.0,64824.0,64225.0,61978.0,60936.0,61236.0,61430.0,60865.0,62065.0,63284.0,63476.0,62960.0,63686.0,63479.0,63489.0,62339.0,63297.0,64463.0,64477.0,65748.0,66323.0,66443.0,66674.0,66808.0,66954.0,67515.0,68517.0,67997.0,68272.0,68412.0,68095.0,67862.0,67223.0,65790.0,65966.0,66264.0,66702.0,67584.0,67638.0,66887.0,66677.0,65982.0,65156.0,64803.0,63867.0,65585.0,64261.0,65145.0,67073.0,66808.0,66679.0,66747.0,66407.0,66624.0,66807.0,68031.0,67692.0,68107.0,67663.0,67089.0,68190.0,67719.0,68325.0,68794.0,68196.0,68816.0,69228.0,69228.0,69430.0,70229.0,70385.0,71283.0,70541.0,69918.0,70809.0,70946.0,71675.0,71692.0,71830.0,71736.0,69864.0,70405.0,69652.0,69530.0,69580.0,70740.0,70569.0,70320.0,70673.0,71561.0,71905.0,72996.0,72607.0,72657.0,71679.0,71638.0,71195.0,70367.0,69192.0,69709.0,70781.0,70898.0,69633.0,67953.0,69629.0,69362.0,68226.0,67908.0,67705.0,69346.0,69527.0,69766.0,69552.0,69338.0,68175.0,67879.0,68342.0,69126.0,68743.0,67870.0,67306.0,67981.0,67264.0,68215.0,68471.0,68486.0,67803.0,68041.0,68952.0,69305.0,69962.0,70318.0,71091.0,70579.0,70057.0,70127.0,70423.0,71633.0,70721.0,70940.0,70609.0,70920.0,70058.0,69562.0,69133.0,69427.0,68709.0,68051.0,66698.0,66575.0,67847.0,66688.0,66765.0,65269.0,65362.0,65771.0,64218.0,64578.0,65756.0,66558.0,66341.0,67571.0,67685.0,68067.0,67259.0,66440.0,66910.0,66949.0,66903.0,67383.0,66243.0,67282.0,68146.0,68012.0,67264.0,66041.0,66685.0,67169.0,67005.0,66003.0,66216.0,66880.0,66690.0,67578.0,67796.0,67533.0,67766.0,67193.0,67419.0,67997.0,68587.0,69268.0,69704.0,69838.0,69037.0,69176.0,68718.0,68164.0,66896.0,66486.0,66279.0,66684.0,65415.0,66158.0,67058.0,66972.0,67144.0,66264.0,65673.0,66133.0,65463.0,64318.0,63616.0,63407.0,64417.0,64622.0,64877.0,63776.0,64003.0,63235.0,62830.0,63673.0,62841.0,62367.0,62597.0,62345.0,63337.0,63388.0,64099.0,64295.0,63954.0,64620.0,63411.0,64218.0,64341.0,63068.0,63218.0,63033.0,63469.0,62697.0,62023.0,62205.0,61604.0,60881.0,61060.0,61168.0,61424.0,61194.0,61017.0,61217.0,62303.0,62334.0,62404.0,63394.0,63891.0,63039.0,62565.0,62207.0,61513.0,60224.0,59705.0,60670.0,59679.0,59478.0,58838.0,59082.0,59120.0,60263.0,60270.0,59971.0,59340.0,58288.0,58708.0,58823.0,58536.0,57311.0,56017.0,52811.0,52949.0,48668.0,51151.0,51395.0,53343.0,53473.0,54652.0,54324.0,55073.0,53134.0,52448.0,52440.0,53787.0,53796.0,52953.0,53351.0,54861.0,55385.0,56495.0,58118.0,56532.0,54998.0,56607.0,57624.0,55778.0,55685.0,55544.0,56286.0,56381.0,57210.0,57103.0,56379.0,55982.0,53280.0,53230.0,53748.0,53920.0,53270.0,53385.0,52324.0,50792.0,50686.0,51014.0,52290.0,51244.0,53273.0,53838.0,54601.0,55030.0,53911.0,55032.0,54966.0,54010.0,55255.0,56892.0,56286.0,57144.0,59270.0,59513.0,58338.0,57323.0,58196.0,58670.0,59199.0,59026.0,57550.0,57322.0,58547.0,58258.0,58560.0,56989.0,56731.0,56285.0,55878.0,54972.0,55280.0,54894.0,56017.0,55300.0,56875.0,58143.0,57886.0,58910.0,59536.0,58663.0,57455.0,58236.0,57347.0,57495.0,56647.0,56331.0,56097.0,55298.0,56865.0,56653.0,57348.0,57701.0,57669.0,58005.0,56534.0,56754.0,59265.0,59365.0,58546.0,58600.0,59083.0,59806.0,59962.0,59921.0,59147.0,59956.0,60646.0,61723.0,61927.0,62312.0,62386.0,62486.0,62953.0,62904.0,62770.0,63072.0,64567.0,64593.0,65217.0,65224.0,65917.0,65831.0,65530.0,63998.0,65692.0,65039.0,65368.0,66142.0,66204.0,65820.0,65943.0,65241.0,65959.0,65812.0,66810.0,67782.0,66964.0,65114.0,66017.0,66908.0,66704.0,66385.0,68394.0,68257.0,67749.0,67684.0,67730.0,67296.0,66860.0,65828.0,65813.0,66685.0,66037.0,65079.0,64872.0,64511.0,65216.0,64284.0,63529.0,63691.0,62923.0,61738.0,61293.0,63058.0,62106.0,61955.0,62699.0,63010.0,62618.0,62494.0,61539.0,61971.0,61750.0,62198.0,61691.0,61820.0,62424.0,62104.0,60821.0,61220.0,60365.0,59786.0,59702.0,59445.0,57540.0,56238.0,55888.0,54038.0,54513.0,56590.0,55039.0,54619.0,54063.0,54463.0,55213.0,54633.0,53798.0,54490.0,53403.0,53417.0,52481.0,54156.0,54430.0,54001.0,55049.0,55651.0,55352.0,56105.0,56195.0,57195.0,57167.0,55505.0,55440.0,53805.0,53837.0,53109.0,52652.0,54355.0,54693.0,55780.0,56077.0,56379.0,55394.0,53706.0,53569.0,53421.0,54331.0,53402.0,53909.0,54583.0,55347.0,54195.0,53034.0,52639.0,52608.0,54003.0,56553.0,57241.0,56097.0,55623.0,55520.0,57255.0,58345.0,57726.0,58951.0,58797.0,59281.0,59123.0,58083.0,58189.0,59446.0,59082.0,59283.0,58918.0,59381.0,58512.0,58426.0,58111.0,58406.0,57369.0,57256.0,57061.0,57281.0,56234.0,56864.0,58321.0,58404.0,59423.0,59922.0,61958.0,62105.0,61806.0,61804.0,61652.0,61688.0,61320.0,61910.0,60501.0,60478.0,60240.0,59176.0,59571.0,59222.0,58627.0,58458.0,58572.0,59317.0,58939.0,58456.0,59162.0,59602.0,59744.0,60087.0,59734.0,58922.0,58700.0,57690.0,57161.0,57837.0,57277.0,57177.0,57684.0,57068.0,58383.0,58210.0,59459.0,58517.0,57524.0,57358.0,57064.0,57486.0,56279.0,55402.0,56451.0,56242.0,56437.0,57574.0,56737.0,56248.0,56539.0,57853.0,57475.0,58202.0,57563.0,57679.0,57656.0,58487.0,59248.0,59623.0,59474.0,59317.0,59605.0,59567.0,60461.0,60998.0,61276.0,61007.0,60960.0,60416.0,60952.0,62550.0,63312.0,62523.0,61933.0,61128.0,61579.0,61678.0,61497.0,62081.0,61728.0,61787.0,62194.0,61956.0,61900.0,61692.0,61966.0,61170.0,60027.0,60406.0,59337.0,59761.0,60351.0,59576.0,59445.0,58951.0,58372.0,58498.0,58406.0,58077.0,57903.0,57614.0,57314.0,56178.0,56155.0,56697.0,56618.0,56949.0,57274.0,57424.0,56884.0,56499.0,55951.0,57940.0,58847.0,58433.0,58545.0,58209.0,57386.0,57281.0,56869.0,56973.0,56361.0,56030.0,55577.0,55243.0,54873.0,55671.0,56034.0,56352.0,55902.0,54889.0,55563.0,54648.0,55051.0,55092.0,55912.0,56187.0,55401.0,54963.0,52950.0,53991.0,52882.0,53166.0,53929.0,54298.0,54885.0,54984.0,54963.0,54252.0,54887.0,55910.0,55322.0,55488.0,55430.0,56275.0,55805.0,55448.0,55108.0,54448.0,54667.0,54936.0,54773.0,55164.0,55701.0,56265.0,56429.0,56350.0,56406.0,56396.0,56036.0,54635.0,53506.0,53944.0,54018.0,52799.0,52885.0,51619.0,51317.0,49770.0,49181.0,50415.0,49332.0,49089.0,49465.0,47893.0,48214.0,47056.0,45965.0,46893.0,47172.0,47609.0,47457.0,47230.0,45229.0,45044.0,45763.0,45210.0,45076.0,45483.0,46626.0,45533.0,46739.0,46869.0,47407.0,47657.0,47400.0,48574.0,48820.0,48374.0,49067.0,49422.0,49212.0,48562.0,48234.0,49141.0,48474.0,48436.0,47422.0,47447.0,48929.0,49875.0,50299.0,50601.0,50896.0,50908.0,51539.0,51574.0,50507.0,50405.0,51398.0,52197.0,51429.0,50092.0,49867.0,49922.0,50008.0,51835.0,51626.0,51716.0,52352.0,53749.0,54252.0,53979.0,53570.0,53307.0,53798.0,53822.0,54271.0,55703.0,55096.0,54110.0,54602.0,54431.0,54261.0,53783.0,53739.0,52338.0,53179.0,53100.0,52490.0,52849.0,52417.0,52312.0,52548.0,52997.0,53150.0,54171.0,54981.0,55973.0,55358.0,55378.0,56077.0,56460.0,55440.0,54877.0,54154.0,55073.0,54539.0,54173.0,54256.0,54013.0,54437.0,53832.0,53385.0,52741.0,52249.0,52624.0,51804.0,52230.0,53452.0,54307.0,53033.0,52688.0,52801.0,52264.0,51447.0,51861.0,51847.0,52482.0,51245.0,50349.0,50216.0,50788.0,50944.0,51165.0,50993.0,50068.0,50122.0,50051.0,50280.0,50090.0,50563.0,50819.0,51186.0,51356.0,51221.0,51267.0,51507.0,50341.0,50981.0,50974.0,50430.0,50577.0,49322.0,49696.0,49427.0,49703.0,50105.0,49696.0,49182.0,48708.0,48542.0,49300.0,48321.0,47787.0,47701.0,47841.0,47557.0,47244.0,47639.0,46148.0,46964.0,46624.0,47738.0,48074.0,47711.0,48463.0,48217.0,47813.0,48201.0,47576.0,46600.0,47151.0,47289.0,47380.0,47393.0,46716.0,46599.0,47607.0,47094.0,46589.0,47093.0,46244.0,45533.0,45698.0,45862.0,45444.0,44966.0,45118.0,46150.0,46567.0,47278.0,47381.0,47993.0,48180.0,47966.0,49647.0,49768.0,50415.0,50270.0,51701.0,51408.0,51082.0,52155.0,51629.0,51185.0,51127.0,51867.0,51596.0,50454.0,51201.0,52112.0,51977.0,51570.0,51817.0,51399.0,51384.0,51839.0,51626.0,52980.0,53446.0,53780.0,54053.0,53422.0,53100.0,54053.0,53907.0,54413.0,53856.0,53976.0,53353.0,52366.0,52203.0,52806.0,52626.0,52932.0,52172.0,52640.0,52239.0,51239.0,51606.0,52032.0,51833.0,51559.0,53129.0,54273.0,54604.0,55102.0,54807.0,54630.0,54300.0,55203.0,54638.0,54210.0,54281.0,53426.0,53506.0,53157.0,53168.0,53171.0,53029.0,53875.0,54055.0,53802.0,53635.0,54593.0,54786.0,55744.0,55974.0,55717.0,55638.0,57013.0,57634.0,57983.0,57420.0,57978.0,57821.0,57696.0,57119.0,56878.0,55829.0,55903.0,56616.0,56202.0,56487.0,56188.0,55573.0,56613.0,56442.0,55581.0,55780.0,56964.0,57561.0,58449.0,58878.0,58992.0,58407.0,59735.0,59821.0,60951.0,60291.0,61288.0,61141.0,61896.0,61837.0,60800.0,60681.0,59193.0,58676.0,58199.0,58337.0,56928.0,57949.0,59115.0,59108.0,58374.0,57789.0,56818.0,56541.0,56824.0,55962.0,57212.0,54625.0,54116.0,52858.0,53519.0,54540.0,57116.0,57436.0,57058.0,57268.0,55312.0,57957.0,58015.0,56135.0,54298.0,55724.0,54303.0,52432.0,52411.0,50713.0,51941.0,50504.0,52330.0,51049.0,52337.0,54629.0,53947.0,54384.0,53698.0,52637.0,53223.0,52725.0,52474.0,52979.0,51846.0,51772.0,51257.0,52062.0,53403.0,56084.0,55407.0,55561.0,55098.0,54721.0,54664.0,52276.0,51612.0,52320.0,51427.0,51992.0,50274.0,50193.0,49548.0,49861.0,48002.0,47019.0,47008.0,48714.0,48496.0,49651.0,50121.0,50890.0,50145.0,50594.0,50007.0,48512.0,47517.0,48001.0,49463.0,49943.0,48840.0,48140.0,48042.0,47646.0,48026.0,49017.0,47758.0,47877.0,49224.0,49443.0,48775.0,48577.0,48591.0,47695.0,47762.0,46908.0,47651.0,48964.0,49301.0,49234.0,48792.0,49383.0,48510.0,48240.0,49533.0,50636.0,51280.0,51294.0,51238.0,51281.0,51874.0,51811.0,51761.0,51583.0,51021.0,51304.0,50468.0,50365.0,49981.0,49181.0,48293.0,48906.0,48880.0,48596.0,48848.0,50285.0,51526.0,50954.0,51967.0,51908.0,51506.0,51858.0,50580.0,50095.0,51243.0,51150.0,52322.0,53123.0,53737.0,53729.0,53661.0,53803.0,54214.0,54240.0,53982.0,54919.0,54674.0,53955.0,53761.0,54617.0,55685.0,56594.0,55535.0,55812.0,55325.0,56229.0,57354.0,58052.0,57103.0,56921.0,57149.0,57197.0,56792.0,56372.0,56657.0,57249.0,56204.0,55499.0,54901.0,55112.0,54377.0,54609.0,53630.0,54236.0,53976.0,52760.0,53031.0,54236.0,53523.0,52973.0,52810.0,52816.0,53876.0,53689.0,53348.0,53138.0,53702.0,53249.0,54239.0,53749.0,53864.0,53772.0,53843.0,53176.0,54017.0,53014.0,53081.0,52758.0,53106.0,52519.0,52149.0,52344.0,51782.0,52591.0,53119.0,53239.0,52902.0,53070.0,52342.0,51600.0,51474.0,50916.0,49807.0,49246.0,48736.0,49602.0,50245.0,49897.0,50865.0,50138.0,50058.0,50287.0,50011.0,48577.0,49353.0,49072.0,48388.0,48010.0,47508.0,47217.0,47451.0,46588.0,46649.0,45720.0,44336.0,44545.0,46038.0,47715.0,47154.0,46626.0,45477.0,46464.0,47366.0,46498.0,46762.0,46657.0,46504.0,46401.0,47282.0,47364.0,48553.0,48551.0,47264.0,46590.0,46265.0,45340.0,45292.0,44831.0,43957.0,44132.0,45059.0,45313.0,47033.0,47598.0,47735.0,48914.0,49107.0,49338.0,47363.0,46710.0,47161.0,47236.0,47447.0,47077.0,47026.0,47772.0,47597.0,47209.0,47043.0,46741.0,45628.0,45869.0,48054.0,47710.0,48047.0,46919.0,46195.0,46179.0,47065.0,46884.0,46517.0,46847.0,47248.0,47436.0,48139.0,48150.0,48284.0,46867.0,47146.0,45873.0,45120.0,45047.0,44915.0,46393.0,45361.0,45223.0,44443.0,46108.0,45631.0,45263.0,44747.0,44872.0,45016.0,45261.0,43911.0,43200.0,43470.0,44015.0,43764.0,43654.0,43350.0,42141.0,42419.0,41773.0,40695.0,40612.0,39950.0,39514.0,38944.0,39500.0,38569.0,37937.0,38057.0,37645.0,37717.0,38031.0,37497.0,38376.0,38630.0,40406.0,40570.0,38596.0,39589.0,40822.0,40592.0,40377.0,39318.0,39808.0,40093.0,40948.0,41631.0,41478.0,41543.0,43235.0,42521.0,42085.0,41888.0,41593.0,42794.0,44122.0,44893.0,47193.0,49085.0,49246.0,49102.0,48665.0,49571.0,49639.0,48867.0,47130.0,47763.0,50914.0,50815.0,51172.0,51010.0,49690.0,49657.0,50838.0,51155.0,51249.0,50055.0,50562.0,48780.0,49054.0,48096.0,48513.0,50293.0,50165.0,52002.0,53150.0,52411.0,53228.0,52894.0,53710.0,53631.0,52908.0,51862.0,53083.0,54478.0,54312.0,53911.0,53562.0,52260.0,52553.0,51671.0,51718.0,50990.0,53071.0,52764.0,53241.0,51804.0,51803.0,50839.0,50562.0,50133.0,49723.0,49330.0,49345.0,49483.0,49051.0,48964.0,48472.0,49013.0,49887.0,50619.0,50432.0,50488.0,51629.0,51118.0,49422.0,49661.0,48648.0,48915.0,49412.0,49534.0,50329.0,50838.0,50156.0,51560.0,50105.0,49246.0,50007.0,51002.0,51527.0,52233.0,52569.0,51842.0,51902.0,52015.0,53141.0,53960.0,54256.0,54598.0,55481.0,55578.0,56484.0,56698.0,56578.0,56641.0,57002.0,56873.0,56783.0,56853.0,56667.0,57308.0,56756.0,56162.0,57077.0,57594.0,57661.0,57635.0,57689.0,56920.0,58300.0,58298.0,59146.0,58855.0,59324.0,59166.0,59099.0,57781.0,58020.0,57718.0,57722.0,57716.0,58610.0,58575.0,57901.0,58236.0,59616.0,59566.0,60129.0,60232.0,58000.0,58586.0,56821.0,57059.0,57909.0,57080.0,57350.0,57736.0,58394.0,58994.0,58697.0,58054.0,58382.0,59356.0,58351.0,58367.0,59461.0,59339.0,60254.0,60644.0,61109.0,61668.0,61022.0,61119.0,61767.0,62696.0,63782.0,63506.0,63838.0,64108.0,64060.0,63866.0,63826.0,64250.0,64308.0,64925.0,63326.0,61750.0,61598.0,64052.0,64158.0,63258.0,61201.0,59184.0,59657.0,60759.0,59770.0,59962.0,61070.0,61954.0,61986.0,61396.0,61559.0,62855.0,60987.0,61906.0,59507.0,60316.0,59832.0,61088.0,61414.0,60677.0,60501.0,59179.0,59281.0,58212.0,58396.0,58389.0,57111.0,57583.0,57647.0,57255.0,57937.0,58620.0,58697.0,59782.0,60227.0,59589.0,61814.0,61589.0,62071.0,61665.0,61700.0,62132.0,62446.0,63954.0,63652.0,63831.0,64354.0,64150.0,63951.0,64521.0,65749.0,65840.0,66191.0,66034.0,64302.0,64671.0,64836.0,64578.0,64954.0,63993.0,64199.0,64835.0,64965.0,66125.0,66968.0,66713.0,67976.0,67814.0,67748.0,68533.0,69052.0,68590.0,67461.0,66662.0,66989.0,65855.0,66786.0,66341.0,65742.0,64718.0,64585.0,64675.0,65534.0,64699.0,66235.0,65783.0,64210.0,64884.0,62980.0,63521.0,63531.0,63854.0,64308.0,64640.0,65528.0,65266.0,64984.0,65211.0,65769.0,64775.0,64223.0,64593.0,64650.0,64360.0,63892.0,62826.0,64335.0,64159.0,63407.0,63761.0,64389.0,65148.0,64862.0,64677.0,65403.0,66722.0,66094.0,64863.0,65710.0,65526.0,66278.0,67350.0,67538.0,68222.0,68474.0,68684.0,67540.0,61597.0,62639.0,61673.0,62662.0,63257.0,63227.0,64085.0,63761.0,63962.0,62711.0,62289.0,62511.0,62450.0,62955.0,63171.0,62756.0,62211.0,61700.0,61829.0,61923.0,61626.0,62014.0,60766.0,60762.0,61272.0,61087.0,62188.0,61675.0,62018.0,62239.0,62900.0,63280.0,63232.0,63154.0,62470.0,62322.0,63025.0,63832.0,64836.0,65178.0,65436.0,65212.0,65338.0,65180.0,64938.0,64684.0,65100.0,65668.0,65011.0,65277.0,65497.0,65920.0,66516.0,67136.0,66777.0,66898.0,67940.0,67899.0,67671.0,66992.0,67359.0,68285.0,68355.0,68594.0,67977.0,68715.0,68635.0,70011.0,70478.0,71133.0,71074.0,71017.0,71330.0,70886.0,70835.0,71923.0,72129.0,72151.0,73412.0,73079.0,74319.0,74539.0,74788.0,74657.0,75757.0,75990.0,75974.0,76004.0,75604.0,75390.0,74443.0,74319.0,73797.0,73567.0,74294.0,74360.0,76763.0,76591.0,76618.0,76055.0,75727.0,76897.0,76660.0,76990.0,76892.0,76201.0,76591.0,76283.0,76391.0,75413.0,76350.0,76671.0,75896.0,75976.0,74800.0,74308.0,73824.0,73915.0,74311.0,72415.0,74363.0,72931.0,72166.0,72475.0,70827.0,72512.0,73437.0,74595.0,74519.0,74487.0,74157.0,74059.0,74140.0,72700.0,71971.0,72264.0,73090.0,72546.0,73268.0,72487.0,72732.0,72800.0,73814.0,72914.0,72429.0,72608.0,73115.0,72680.0,73367.0,75133.0,75187.0,75688.0,76073.0,76402.0,76402.0,77891.0,77995.0,78647.0,79071.0,79379.0,78864.0,78201.0,79365.0,79349.0,79752.0,79832.0,81189.0,80963.0,81220.0,81675.0,80678.0,83680.0,85531.0,84698.0,84482.0,84913.0,85495.0,84041.0,81861.0,83894.0,82767.0,81533.0,80899.0,83543.0,84291.0,84525.0,84793.0,85804.0,86052.0,86686.0,87293.0,87653.0,86935.0,85481.0,85378.0,85761.0,86023.0,85653.0,85484.0,84985.0,86371.0,86900.0,86384.0,86051.0,84928.0,84886.0,83913.0,84164.0,84977.0,84768.0,84377.0,85088.0,83808.0,83874.0,85366.0,84666.0,84623.0,84360.0,85210.0,84820.0,83307.0,84510.0,85246.0,85444.0,84334.0,82862.0,84086.0,85776.0,85824.0,85550.0,85602.0,85469.0,85044.0,86383.0,86445.0,86115.0,84547.0,83288.0,83118.0,82714.0,82956.0,84265.0,85861.0,85220.0,85232.0,85130.0,86537.0,83622.0,83082.0,81815.0,82739.0,80867.0,80122.0,78898.0,75356.0,76072.0,76754.0,77240.0,78596.0,76642.0,76117.0,73851.0,72942.0,72308.0,72754.0,72122.0,71421.0,70758.0,69815.0,71394.0,72123.0,70075.0,70641.0,70953.0,71405.0,70609.0,71767.0,72763.0,72840.0,73668.0,74743.0,74553.0,75010.0,74862.0,74399.0,75856.0,76594.0,76653.0,78130.0,77363.0,77487.0,78571.0,77996.0,79155.0,80218.0,79405.0,79866.0,80276.0,79220.0,79302.0,79637.0,81435.0,81051.0,80347.0,79152.0,78768.0,76514.0,77496.0,78602.0,77078.0,76819.0,76029.0,76328.0,75180.0,76902.0,75634.0,76262.0,77930.0,77473.0,78389.0,76404.0,76678.0,76193.0,74712.0,75092.0,76416.0,76436.0,74657.0,75125.0,74687.0,75429.0,76789.0,78314.0,78169.0,78116.0,79444.0,77984.0,78630.0,78656.0,80000.0,79342.0,78624.0,81612.0,83273.0,82953.0,82322.0,86084.0,86088.0,83679.0,82921.0,83360.0,85718.0,85764.0,83847.0,84220.0,85597.0,85300.0,83064.0,84084.0,85720.0,83797.0,86886.0,87424.0,88419.0,89598.0,88669.0,87714.0,85620.0,85641.0,85525.0,84914.0,85973.0,88515.0,87901.0,87269.0,87477.0,86230.0,85547.0,87891.0,89251.0,89710.0,89504.0,89820.0,88624.0,89040.0,88846.0,88115.0,85915.0,86420.0,86977.0,87838.0,87450.0,86400.0,86610.0,85674.0,85269.0,85697.0,85136.0,85460.0,87887.0,91012.0,91564.0,91841.0,91699.0,92032.0,93613.0,93806.0,93658.0,94474.0,94056.0,94393.0,95351.0,96097.0,96010.0,95103.0,96558.0,97677.0,95444.0,95639.0,96996.0,97394.0,97861.0,98589.0,98311.0,94636.0,94406.0,95343.0,94413.0,96168.0,95842.0,98015.0,97526.0,96510.0,97659.0,96545.0,96932.0,97886.0,97240.0,97603.0,97307.0,95584.0,94604.0,94217.0,94340.0,95365.0,98027.0,97828.0,98904.0,98605.0,99137.0,99994.0,99588.0,98041.0,96729.0,93735.0,93662.0,95307.0,91903.0,94389.0,95415.0,96054.0,95387.0,94491.0,96313.0,97108.0,97369.0,96292.0,95953.0,94755.0,92875.0,93083.0,94333.0,93285.0,94578.0,94588.0,95923.0,95045.0,96552.0,96236.0,96188.0,96353.0,95528.0,96008.0,95009.0,94389.0,95597.0,94808.0,94258.0,91727.0,92092.0,91623.0,90024.0,89993.0,91946.0,94485.0,94361.0,93910.0,93628.0,94864.0,96393.0,96567.0,97457.0,97030.0,97020.0,97380.0,95999.0,97205.0,97821.0,97467.0,98960.0,98321.0,98774.0,98040.0,97623.0,99404.0,100303.0,102013.0,102062.0,100093.0,100689.0,100724.0,100967.0,101340.0,100605.0,102043.0,103636.0,104089.0,104530.0,105817.0,105146.0,103906.0,103803.0,103775.0,103856.0,104717.0,103452.0,103949.0,103704.0,104120.0,102655.0,102819.0,103483.0,102933.0,101812.0,102126.0,102674.0,100098.0,102164.0,102782.0,104115.0,103996.0,101915.0,103299.0,100258.0,99057.0,99806.0,99469.0,99222.0,101202.0,100011.0,97667.0,96430.0,97276.0,98194.0,100524.0,101135.0,100626.0,99681.0,101201.0,102243.0,102935.0,103181.0,103032.0,103446.0,104371.0,103501.0,103680.0,104617.0,104532.0,104339.0,104817.0,104638.0,103876.0,104481.0,105319.0,105078.0,104745.0,104053.0,101031.0,101516.0,102551.0,100573.0,99981.0,101249.0,101817.0,103832.0,104302.0,104490.0,105423.0,105016.0,104729.0,106022.0,107381.0,107544.0,106986.0,107364.0,108187.0,107556.0,108408.0,107220.0,108196.0,108601.0,108451.0,108336.0,109581.0,107629.0,108215.0,106785.0,105914.0,106557.0,106347.0,105618.0,107497.0,108692.0,108424.0,107059.0,107708.0,108290.0,108233.0,109061.0,108956.0,110301.0,110622.0,111126.0,110977.0,110672.0,110964.0,112200.0,112565.0,111896.0,112616.0,114315.0,115131.0,115121.0,115863.0,117203.0,116534.0,115964.0,118573.0,117707.0,116878.0,116662.0,116247.0,115947.0,115503.0,117325.0,117632.0,116414.0,116704.0,118478.0,118862.0,117026.0,118391.0,119528.0,118376.0,114482.0,116479.0,115385.0,115528.0,113761.0,114629.0,115557.0,116028.0,115190.0,113770.0,112570.0,115371.0,116674.0,115662.0,114381.0,115309.0,114977.0,116518.0,114586.0,113681.0,105718.0,102984.0,104172.0,106625.0,105537.0,107224.0,102233.0,97997.0,86067.0,92214.0,85171.0,72583.0,82678.0,71168.0,74617.0,66895.0,68332.0,67069.0,63570.0,69729.0,74956.0,77710.0,73429.0,74640.0,73020.0,70967.0,72253.0,69538.0,74073.0,76358.0,78625.0,77682.0,78836.0,79918.0,78831.0,77812.0,78990.0,78973.0,80687.0,79673.0,75331.0,78239.0,81312.0,83171.0,80506.0,78876.0,79471.0,79064.0,78119.0,80263.0,79065.0,77872.0,77772.0,79011.0,77557.0,81194.0,80742.0,81319.0,83027.0,82173.0,85663.0,85469.0,87946.0,86949.0,87403.0,88620.0,91046.0,93002.0,93829.0,94637.0,97645.0,96747.0,94686.0,92795.0,92376.0,93531.0,95547.0,96125.0,96572.0,95336.0,95975.0,94377.0,95983.0,93834.0,95735.0,95056.0,96203.0,96235.0,96765.0,98937.0,97761.0,99770.0,99160.0,100032.0,98697.0,100440.0,101791.0,100553.0,102888.0,104426.0,104310.0,104290.0,102293.0,102382.0,104477.0,104109.0,105605.0,105009.0,102912.0,102830.0,101216.0,102802.0,104126.0,102776.0,103444.0,102174.0,102118.0,100461.0,101353.0,99595.0,102065.0,100854.0,101468.0,101521.0,102298.0,102118.0,100627.0,100624.0,102143.0,99369.0,102168.0,101911.0,100721.0,101242.0,100050.0,101292.0,98835.0,98363.0,100275.0,100298.0,99676.0,100098.0,98290.0,96991.0,97294.0,95735.0,97012.0,96999.0,94666.0,93580.0,94603.0,95479.0,94016.0,96089.0,95615.0,95526.0,97920.0,97483.0,98503.0,99334.0,99054.0,98309.0,98658.0,100540.0,100552.0,101918.0,101260.0,101017.0,99606.0,95369.0,96582.0,93952.0,95587.0,97811.0,100774.0,100799.0,103913.0,105351.0,104532.0,102175.0,104512.0,106430.0,107229.0,106483.0,106517.0,107379.0,109786.0,110133.0,110227.0,110575.0,108888.0,111335.0,111814.0,112919.0,113682.0,113625.0,113571.0,112722.0,114992.0,115323.0,114975.0,116146.0,117947.0,118157.0,117679.0,116016.0,116348.0,117857.0,119051.0,119475.0,119306.0,118558.0,119223.0,119851.0,121956.0,125077.0,122807.0,123998.0,122040.0,123481.0,120502.0,121242.0,120673.0,119708.0,118443.0,117172.0,116464.0,115882.0,119314.0,116007.0,117365.0,118234.0,119725.0,119261.0,119925.0,119516.0,119429.0,118430.0,119235.0,119116.0,120391.0,119140.0,118748.0,112668.0,115227.0,115668.0,112256.0,110035.0,110335.0,111540.0,111184.0,112690.0,115202.0,110612.0,111331.0,112776.0,114984.0,114160.0,114851.0,114019.0,116549.0,114835.0,116222.0,114979.0,113262.0,112064.0,113750.0,114781.0,115419.0,116850.0,116634.0,115253.0,117518.0,117499.0,117624.0,118313.0,117670.0,118812.0,119297.0,120295.0,120701.0,121114.0,120934.0,120062.0,119371.0,120530.0,120595.0,119388.0,121053.0,120066.0,118894.0,119209.0,117712.0,119564.0,119921.0,122038.0,121909.0,122964.0,119710.0,120706.0,121881.0,122938.0,122980.0,122636.0,122701.0,122592.0,124032.0,122988.0,123989.0,124367.0,125561.0,126216.0,128267.0,129601.0,130126.0,130776.0,129787.0,129907.0,130076.0,129441.0,130208.0,130091.0,129259.0,128057.0,128405.0,129265.0,128767.0,128428.0,129514.0,127256.0,127429.0,127327.0,126802.0,125666.0,127622.0,126920.0,125095.0,127019.0,125428.0,127594.0,128168.0,128407.0,127468.0,125960.0,124395.0,125401.0,125929.0,126147.0,125053.0,126004.0,124612.0,126286.0,125675.0,121801.0,122516.0,123577.0,121801.0,121633.0,122810.0,123019.0,122202.0,122056.0,120701.0,121194.0,119180.0,117904.0,116643.0,117165.0,118053.0,117472.0,120211.0,120818.0,118724.0,120678.0,119740.0,118781.0,119396.0,116677.0,116933.0,117869.0,113413.0,115361.0,114286.0,116404.0,116181.0,115063.0,113794.0,111439.0,108844.0,110250.0,112282.0,114064.0,113283.0,113583.0,110124.0,111107.0,110979.0,112900.0,110393.0,110458.0,110560.0,110585.0,112833.0,112180.0,113456.0,113185.0,114648.0,114428.0,110673.0,110786.0,107735.0,106296.0,108715.0,106420.0,106363.0,105705.0,103501.0,105551.0,105617.0,103412.0,104824.0,104781.0,105535.0,105968.0,107725.0,106312.0,104508.0,102945.0,102524.0,103035.0,102122.0,103663.0,104514.0,105811.0,102224.0,102814.0,101915.0,100775.0,104466.0,105070.0,106859.0,107558.0,108096.0,106291.0,107758.0,107383.0,106760.0,107370.0,108212.0,107201.0,105020.0,105500.0,105244.0,104891.0,105531.0,104864.0,104107.0,104822.0],\"yaxis\":\"y\",\"type\":\"scattergl\"}],                        {\"template\":{\"data\":{\"barpolar\":[{\"marker\":{\"line\":{\"color\":\"white\",\"width\":0.5},\"pattern\":{\"fillmode\":\"overlay\",\"size\":10,\"solidity\":0.2}},\"type\":\"barpolar\"}],\"bar\":[{\"error_x\":{\"color\":\"#2a3f5f\"},\"error_y\":{\"color\":\"#2a3f5f\"},\"marker\":{\"line\":{\"color\":\"white\",\"width\":0.5},\"pattern\":{\"fillmode\":\"overlay\",\"size\":10,\"solidity\":0.2}},\"type\":\"bar\"}],\"carpet\":[{\"aaxis\":{\"endlinecolor\":\"#2a3f5f\",\"gridcolor\":\"#C8D4E3\",\"linecolor\":\"#C8D4E3\",\"minorgridcolor\":\"#C8D4E3\",\"startlinecolor\":\"#2a3f5f\"},\"baxis\":{\"endlinecolor\":\"#2a3f5f\",\"gridcolor\":\"#C8D4E3\",\"linecolor\":\"#C8D4E3\",\"minorgridcolor\":\"#C8D4E3\",\"startlinecolor\":\"#2a3f5f\"},\"type\":\"carpet\"}],\"choropleth\":[{\"colorbar\":{\"outlinewidth\":0,\"ticks\":\"\"},\"type\":\"choropleth\"}],\"contourcarpet\":[{\"colorbar\":{\"outlinewidth\":0,\"ticks\":\"\"},\"type\":\"contourcarpet\"}],\"contour\":[{\"colorbar\":{\"outlinewidth\":0,\"ticks\":\"\"},\"colorscale\":[[0.0,\"#0d0887\"],[0.1111111111111111,\"#46039f\"],[0.2222222222222222,\"#7201a8\"],[0.3333333333333333,\"#9c179e\"],[0.4444444444444444,\"#bd3786\"],[0.5555555555555556,\"#d8576b\"],[0.6666666666666666,\"#ed7953\"],[0.7777777777777778,\"#fb9f3a\"],[0.8888888888888888,\"#fdca26\"],[1.0,\"#f0f921\"]],\"type\":\"contour\"}],\"heatmapgl\":[{\"colorbar\":{\"outlinewidth\":0,\"ticks\":\"\"},\"colorscale\":[[0.0,\"#0d0887\"],[0.1111111111111111,\"#46039f\"],[0.2222222222222222,\"#7201a8\"],[0.3333333333333333,\"#9c179e\"],[0.4444444444444444,\"#bd3786\"],[0.5555555555555556,\"#d8576b\"],[0.6666666666666666,\"#ed7953\"],[0.7777777777777778,\"#fb9f3a\"],[0.8888888888888888,\"#fdca26\"],[1.0,\"#f0f921\"]],\"type\":\"heatmapgl\"}],\"heatmap\":[{\"colorbar\":{\"outlinewidth\":0,\"ticks\":\"\"},\"colorscale\":[[0.0,\"#0d0887\"],[0.1111111111111111,\"#46039f\"],[0.2222222222222222,\"#7201a8\"],[0.3333333333333333,\"#9c179e\"],[0.4444444444444444,\"#bd3786\"],[0.5555555555555556,\"#d8576b\"],[0.6666666666666666,\"#ed7953\"],[0.7777777777777778,\"#fb9f3a\"],[0.8888888888888888,\"#fdca26\"],[1.0,\"#f0f921\"]],\"type\":\"heatmap\"}],\"histogram2dcontour\":[{\"colorbar\":{\"outlinewidth\":0,\"ticks\":\"\"},\"colorscale\":[[0.0,\"#0d0887\"],[0.1111111111111111,\"#46039f\"],[0.2222222222222222,\"#7201a8\"],[0.3333333333333333,\"#9c179e\"],[0.4444444444444444,\"#bd3786\"],[0.5555555555555556,\"#d8576b\"],[0.6666666666666666,\"#ed7953\"],[0.7777777777777778,\"#fb9f3a\"],[0.8888888888888888,\"#fdca26\"],[1.0,\"#f0f921\"]],\"type\":\"histogram2dcontour\"}],\"histogram2d\":[{\"colorbar\":{\"outlinewidth\":0,\"ticks\":\"\"},\"colorscale\":[[0.0,\"#0d0887\"],[0.1111111111111111,\"#46039f\"],[0.2222222222222222,\"#7201a8\"],[0.3333333333333333,\"#9c179e\"],[0.4444444444444444,\"#bd3786\"],[0.5555555555555556,\"#d8576b\"],[0.6666666666666666,\"#ed7953\"],[0.7777777777777778,\"#fb9f3a\"],[0.8888888888888888,\"#fdca26\"],[1.0,\"#f0f921\"]],\"type\":\"histogram2d\"}],\"histogram\":[{\"marker\":{\"pattern\":{\"fillmode\":\"overlay\",\"size\":10,\"solidity\":0.2}},\"type\":\"histogram\"}],\"mesh3d\":[{\"colorbar\":{\"outlinewidth\":0,\"ticks\":\"\"},\"type\":\"mesh3d\"}],\"parcoords\":[{\"line\":{\"colorbar\":{\"outlinewidth\":0,\"ticks\":\"\"}},\"type\":\"parcoords\"}],\"pie\":[{\"automargin\":true,\"type\":\"pie\"}],\"scatter3d\":[{\"line\":{\"colorbar\":{\"outlinewidth\":0,\"ticks\":\"\"}},\"marker\":{\"colorbar\":{\"outlinewidth\":0,\"ticks\":\"\"}},\"type\":\"scatter3d\"}],\"scattercarpet\":[{\"marker\":{\"colorbar\":{\"outlinewidth\":0,\"ticks\":\"\"}},\"type\":\"scattercarpet\"}],\"scattergeo\":[{\"marker\":{\"colorbar\":{\"outlinewidth\":0,\"ticks\":\"\"}},\"type\":\"scattergeo\"}],\"scattergl\":[{\"marker\":{\"colorbar\":{\"outlinewidth\":0,\"ticks\":\"\"}},\"type\":\"scattergl\"}],\"scattermapbox\":[{\"marker\":{\"colorbar\":{\"outlinewidth\":0,\"ticks\":\"\"}},\"type\":\"scattermapbox\"}],\"scatterpolargl\":[{\"marker\":{\"colorbar\":{\"outlinewidth\":0,\"ticks\":\"\"}},\"type\":\"scatterpolargl\"}],\"scatterpolar\":[{\"marker\":{\"colorbar\":{\"outlinewidth\":0,\"ticks\":\"\"}},\"type\":\"scatterpolar\"}],\"scatter\":[{\"marker\":{\"colorbar\":{\"outlinewidth\":0,\"ticks\":\"\"}},\"type\":\"scatter\"}],\"scatterternary\":[{\"marker\":{\"colorbar\":{\"outlinewidth\":0,\"ticks\":\"\"}},\"type\":\"scatterternary\"}],\"surface\":[{\"colorbar\":{\"outlinewidth\":0,\"ticks\":\"\"},\"colorscale\":[[0.0,\"#0d0887\"],[0.1111111111111111,\"#46039f\"],[0.2222222222222222,\"#7201a8\"],[0.3333333333333333,\"#9c179e\"],[0.4444444444444444,\"#bd3786\"],[0.5555555555555556,\"#d8576b\"],[0.6666666666666666,\"#ed7953\"],[0.7777777777777778,\"#fb9f3a\"],[0.8888888888888888,\"#fdca26\"],[1.0,\"#f0f921\"]],\"type\":\"surface\"}],\"table\":[{\"cells\":{\"fill\":{\"color\":\"#EBF0F8\"},\"line\":{\"color\":\"white\"}},\"header\":{\"fill\":{\"color\":\"#C8D4E3\"},\"line\":{\"color\":\"white\"}},\"type\":\"table\"}]},\"layout\":{\"annotationdefaults\":{\"arrowcolor\":\"#2a3f5f\",\"arrowhead\":0,\"arrowwidth\":1},\"autotypenumbers\":\"strict\",\"coloraxis\":{\"colorbar\":{\"outlinewidth\":0,\"ticks\":\"\"}},\"colorscale\":{\"diverging\":[[0,\"#8e0152\"],[0.1,\"#c51b7d\"],[0.2,\"#de77ae\"],[0.3,\"#f1b6da\"],[0.4,\"#fde0ef\"],[0.5,\"#f7f7f7\"],[0.6,\"#e6f5d0\"],[0.7,\"#b8e186\"],[0.8,\"#7fbc41\"],[0.9,\"#4d9221\"],[1,\"#276419\"]],\"sequential\":[[0.0,\"#0d0887\"],[0.1111111111111111,\"#46039f\"],[0.2222222222222222,\"#7201a8\"],[0.3333333333333333,\"#9c179e\"],[0.4444444444444444,\"#bd3786\"],[0.5555555555555556,\"#d8576b\"],[0.6666666666666666,\"#ed7953\"],[0.7777777777777778,\"#fb9f3a\"],[0.8888888888888888,\"#fdca26\"],[1.0,\"#f0f921\"]],\"sequentialminus\":[[0.0,\"#0d0887\"],[0.1111111111111111,\"#46039f\"],[0.2222222222222222,\"#7201a8\"],[0.3333333333333333,\"#9c179e\"],[0.4444444444444444,\"#bd3786\"],[0.5555555555555556,\"#d8576b\"],[0.6666666666666666,\"#ed7953\"],[0.7777777777777778,\"#fb9f3a\"],[0.8888888888888888,\"#fdca26\"],[1.0,\"#f0f921\"]]},\"colorway\":[\"#636efa\",\"#EF553B\",\"#00cc96\",\"#ab63fa\",\"#FFA15A\",\"#19d3f3\",\"#FF6692\",\"#B6E880\",\"#FF97FF\",\"#FECB52\"],\"font\":{\"color\":\"#2a3f5f\"},\"geo\":{\"bgcolor\":\"white\",\"lakecolor\":\"white\",\"landcolor\":\"white\",\"showlakes\":true,\"showland\":true,\"subunitcolor\":\"#C8D4E3\"},\"hoverlabel\":{\"align\":\"left\"},\"hovermode\":\"closest\",\"mapbox\":{\"style\":\"light\"},\"paper_bgcolor\":\"white\",\"plot_bgcolor\":\"white\",\"polar\":{\"angularaxis\":{\"gridcolor\":\"#EBF0F8\",\"linecolor\":\"#EBF0F8\",\"ticks\":\"\"},\"bgcolor\":\"white\",\"radialaxis\":{\"gridcolor\":\"#EBF0F8\",\"linecolor\":\"#EBF0F8\",\"ticks\":\"\"}},\"scene\":{\"xaxis\":{\"backgroundcolor\":\"white\",\"gridcolor\":\"#DFE8F3\",\"gridwidth\":2,\"linecolor\":\"#EBF0F8\",\"showbackground\":true,\"ticks\":\"\",\"zerolinecolor\":\"#EBF0F8\"},\"yaxis\":{\"backgroundcolor\":\"white\",\"gridcolor\":\"#DFE8F3\",\"gridwidth\":2,\"linecolor\":\"#EBF0F8\",\"showbackground\":true,\"ticks\":\"\",\"zerolinecolor\":\"#EBF0F8\"},\"zaxis\":{\"backgroundcolor\":\"white\",\"gridcolor\":\"#DFE8F3\",\"gridwidth\":2,\"linecolor\":\"#EBF0F8\",\"showbackground\":true,\"ticks\":\"\",\"zerolinecolor\":\"#EBF0F8\"}},\"shapedefaults\":{\"line\":{\"color\":\"#2a3f5f\"}},\"ternary\":{\"aaxis\":{\"gridcolor\":\"#DFE8F3\",\"linecolor\":\"#A2B1C6\",\"ticks\":\"\"},\"baxis\":{\"gridcolor\":\"#DFE8F3\",\"linecolor\":\"#A2B1C6\",\"ticks\":\"\"},\"bgcolor\":\"white\",\"caxis\":{\"gridcolor\":\"#DFE8F3\",\"linecolor\":\"#A2B1C6\",\"ticks\":\"\"}},\"title\":{\"x\":0.05},\"xaxis\":{\"automargin\":true,\"gridcolor\":\"#EBF0F8\",\"linecolor\":\"#EBF0F8\",\"ticks\":\"\",\"title\":{\"standoff\":15},\"zerolinecolor\":\"#EBF0F8\",\"zerolinewidth\":2},\"yaxis\":{\"automargin\":true,\"gridcolor\":\"#EBF0F8\",\"linecolor\":\"#EBF0F8\",\"ticks\":\"\",\"title\":{\"standoff\":15},\"zerolinecolor\":\"#EBF0F8\",\"zerolinewidth\":2}}},\"xaxis\":{\"anchor\":\"y\",\"domain\":[0.0,1.0],\"title\":{\"text\":\"Date\"}},\"yaxis\":{\"anchor\":\"x\",\"domain\":[0.0,1.0],\"title\":{\"text\":\"Close\"}},\"legend\":{\"tracegroupgap\":0},\"title\":{\"text\":\"Ibovespa Close Price\"}},                        {\"responsive\": true}                    ).then(function(){\n",
              "                            \n",
              "var gd = document.getElementById('5c0deb00-5834-44e8-91f3-b762e60657bd');\n",
              "var x = new MutationObserver(function (mutations, observer) {{\n",
              "        var display = window.getComputedStyle(gd).display;\n",
              "        if (!display || display === 'none') {{\n",
              "            console.log([gd, 'removed!']);\n",
              "            Plotly.purge(gd);\n",
              "            observer.disconnect();\n",
              "        }}\n",
              "}});\n",
              "\n",
              "// Listen for the removal of the full notebook cells\n",
              "var notebookContainer = gd.closest('#notebook-container');\n",
              "if (notebookContainer) {{\n",
              "    x.observe(notebookContainer, {childList: true});\n",
              "}}\n",
              "\n",
              "// Listen for the clearing of the current output cell\n",
              "var outputEl = gd.closest('.output');\n",
              "if (outputEl) {{\n",
              "    x.observe(outputEl, {childList: true});\n",
              "}}\n",
              "\n",
              "                        })                };                            </script>        </div>\n",
              "</body>\n",
              "</html>"
            ]
          },
          "metadata": {}
        }
      ],
      "source": [
        "serie_preco_close = px.line(df, x=df.index, y=df.Close, title='Ibovespa Close Price', template = 'plotly_white')\n",
        "serie_preco_close.show()"
      ]
    },
    {
      "cell_type": "code",
      "execution_count": null,
      "id": "c4548707",
      "metadata": {
        "colab": {
          "base_uri": "https://localhost:8080/",
          "height": 434
        },
        "id": "c4548707",
        "outputId": "aab2e442-5466-46ba-ba61-db9e561b342d"
      },
      "outputs": [
        {
          "output_type": "execute_result",
          "data": {
            "text/plain": [
              "(array([  96.,  458., 1125.,  881.,  291.,  171.,  195.,  223.,  184.,\n",
              "          82.]),\n",
              " array([ 29435. ,  39569.1,  49703.2,  59837.3,  69971.4,  80105.5,\n",
              "         90239.6, 100373.7, 110507.8, 120641.9, 130776. ]),\n",
              " <a list of 10 Patch objects>)"
            ]
          },
          "metadata": {},
          "execution_count": 16
        },
        {
          "output_type": "display_data",
          "data": {
            "text/plain": [
              "<Figure size 576x396 with 1 Axes>"
            ],
            "image/png": "[encoded data removed]"
          },
          "metadata": {}
        }
      ],
      "source": [
        "plt.hist(df['Close'])"
      ]
    },
    {
      "cell_type": "code",
      "execution_count": null,
      "id": "1c3524e4",
      "metadata": {
        "colab": {
          "base_uri": "https://localhost:8080/",
          "height": 237
        },
        "id": "1c3524e4",
        "outputId": "e14dc411-629f-4c7c-961b-cf27b992cd6f"
      },
      "outputs": [
        {
          "output_type": "execute_result",
          "data": {
            "text/plain": [
              "              Close  Close_Log_Return\n",
              "Date                                 \n",
              "2007-01-03  44445.0            -0.021\n",
              "2007-01-04  44020.0            -0.010\n",
              "2007-01-05  42245.0            -0.041\n",
              "2007-01-08  42830.0             0.014\n",
              "2007-01-09  42007.0            -0.019"
            ],
            "text/html": [
              "\n",
              "  <div id=\"df-f7878b3c-b9ac-47b4-a22d-51aec6d71dd0\">\n",
              "    <div class=\"colab-df-container\">\n",
              "      <div>\n",
              "<style scoped>\n",
              "    .dataframe tbody tr th:only-of-type {\n",
              "        vertical-align: middle;\n",
              "    }\n",
              "\n",
              "    .dataframe tbody tr th {\n",
              "        vertical-align: top;\n",
              "    }\n",
              "\n",
              "    .dataframe thead th {\n",
              "        text-align: right;\n",
              "    }\n",
              "</style>\n",
              "<table border=\"1\" class=\"dataframe\">\n",
              "  <thead>\n",
              "    <tr style=\"text-align: right;\">\n",
              "      <th></th>\n",
              "      <th>Close</th>\n",
              "      <th>Close_Log_Return</th>\n",
              "    </tr>\n",
              "    <tr>\n",
              "      <th>Date</th>\n",
              "      <th></th>\n",
              "      <th></th>\n",
              "    </tr>\n",
              "  </thead>\n",
              "  <tbody>\n",
              "    <tr>\n",
              "      <th>2007-01-03</th>\n",
              "      <td>44445.0</td>\n",
              "      <td>-0.021</td>\n",
              "    </tr>\n",
              "    <tr>\n",
              "      <th>2007-01-04</th>\n",
              "      <td>44020.0</td>\n",
              "      <td>-0.010</td>\n",
              "    </tr>\n",
              "    <tr>\n",
              "      <th>2007-01-05</th>\n",
              "      <td>42245.0</td>\n",
              "      <td>-0.041</td>\n",
              "    </tr>\n",
              "    <tr>\n",
              "      <th>2007-01-08</th>\n",
              "      <td>42830.0</td>\n",
              "      <td>0.014</td>\n",
              "    </tr>\n",
              "    <tr>\n",
              "      <th>2007-01-09</th>\n",
              "      <td>42007.0</td>\n",
              "      <td>-0.019</td>\n",
              "    </tr>\n",
              "  </tbody>\n",
              "</table>\n",
              "</div>\n",
              "      <button class=\"colab-df-convert\" onclick=\"convertToInteractive('df-f7878b3c-b9ac-47b4-a22d-51aec6d71dd0')\"\n",
              "              title=\"Convert this dataframe to an interactive table.\"\n",
              "              style=\"display:none;\">\n",
              "        \n",
              "  <svg xmlns=\"http://www.w3.org/2000/svg\" height=\"24px\"viewBox=\"0 0 24 24\"\n",
              "       width=\"24px\">\n",
              "    <path d=\"M0 0h24v24H0V0z\" fill=\"none\"/>\n",
              "    <path d=\"M18.56 5.44l.94 2.06.94-2.06 2.06-.94-2.06-.94-.94-2.06-.94 2.06-2.06.94zm-11 1L8.5 8.5l.94-2.06 2.06-.94-2.06-.94L8.5 2.5l-.94 2.06-2.06.94zm10 10l.94 2.06.94-2.06 2.06-.94-2.06-.94-.94-2.06-.94 2.06-2.06.94z\"/><path d=\"M17.41 7.96l-1.37-1.37c-.4-.4-.92-.59-1.43-.59-.52 0-1.04.2-1.43.59L10.3 9.45l-7.72 7.72c-.78.78-.78 2.05 0 2.83L4 21.41c.39.39.9.59 1.41.59.51 0 1.02-.2 1.41-.59l7.78-7.78 2.81-2.81c.8-.78.8-2.07 0-2.86zM5.41 20L4 18.59l7.72-7.72 1.47 1.35L5.41 20z\"/>\n",
              "  </svg>\n",
              "      </button>\n",
              "      \n",
              "  <style>\n",
              "    .colab-df-container {\n",
              "      display:flex;\n",
              "      flex-wrap:wrap;\n",
              "      gap: 12px;\n",
              "    }\n",
              "\n",
              "    .colab-df-convert {\n",
              "      background-color: #E8F0FE;\n",
              "      border: none;\n",
              "      border-radius: 50%;\n",
              "      cursor: pointer;\n",
              "      display: none;\n",
              "      fill: #1967D2;\n",
              "      height: 32px;\n",
              "      padding: 0 0 0 0;\n",
              "      width: 32px;\n",
              "    }\n",
              "\n",
              "    .colab-df-convert:hover {\n",
              "      background-color: #E2EBFA;\n",
              "      box-shadow: 0px 1px 2px rgba(60, 64, 67, 0.3), 0px 1px 3px 1px rgba(60, 64, 67, 0.15);\n",
              "      fill: #174EA6;\n",
              "    }\n",
              "\n",
              "    [theme=dark] .colab-df-convert {\n",
              "      background-color: #3B4455;\n",
              "      fill: #D2E3FC;\n",
              "    }\n",
              "\n",
              "    [theme=dark] .colab-df-convert:hover {\n",
              "      background-color: #434B5C;\n",
              "      box-shadow: 0px 1px 3px 1px rgba(0, 0, 0, 0.15);\n",
              "      filter: drop-shadow(0px 1px 2px rgba(0, 0, 0, 0.3));\n",
              "      fill: #FFFFFF;\n",
              "    }\n",
              "  </style>\n",
              "\n",
              "      <script>\n",
              "        const buttonEl =\n",
              "          document.querySelector('#df-f7878b3c-b9ac-47b4-a22d-51aec6d71dd0 button.colab-df-convert');\n",
              "        buttonEl.style.display =\n",
              "          google.colab.kernel.accessAllowed ? 'block' : 'none';\n",
              "\n",
              "        async function convertToInteractive(key) {\n",
              "          const element = document.querySelector('#df-f7878b3c-b9ac-47b4-a22d-51aec6d71dd0');\n",
              "          const dataTable =\n",
              "            await google.colab.kernel.invokeFunction('convertToInteractive',\n",
              "                                                     [key], {});\n",
              "          if (!dataTable) return;\n",
              "\n",
              "          const docLinkHtml = 'Like what you see? Visit the ' +\n",
              "            '<a target=\"_blank\" href=https://colab.research.google.com/notebooks/data_table.ipynb>data table notebook</a>'\n",
              "            + ' to learn more about interactive tables.';\n",
              "          element.innerHTML = '';\n",
              "          dataTable['output_type'] = 'display_data';\n",
              "          await google.colab.output.renderOutput(dataTable, element);\n",
              "          const docLink = document.createElement('div');\n",
              "          docLink.innerHTML = docLinkHtml;\n",
              "          element.appendChild(docLink);\n",
              "        }\n",
              "      </script>\n",
              "    </div>\n",
              "  </div>\n",
              "  "
            ]
          },
          "metadata": {},
          "execution_count": 17
        }
      ],
      "source": [
        "df['Close'+'_Log_Return'] = np.log(df['Close']/df['Close'].shift(1)).round(3)\n",
        "\n",
        "#df['Close'+'_Log_Return'] = ((df['Close'] / df['Close'].shift(1)) - 1).round(2)\n",
        "df.dropna(inplace=True)\n",
        "df.head()"
      ]
    },
    {
      "cell_type": "code",
      "execution_count": null,
      "id": "9a48eb79",
      "metadata": {
        "colab": {
          "base_uri": "https://localhost:8080/",
          "height": 542
        },
        "id": "9a48eb79",
        "outputId": "15fa1931-ec90-434d-d34f-a4b63f533974"
      },
      "outputs": [
        {
          "output_type": "display_data",
          "data": {
            "text/html": [
              "<html>\n",
              "<head><meta charset=\"utf-8\" /></head>\n",
              "<body>\n",
              "    <div>            <script src=\"https://cdnjs.cloudflare.com/ajax/libs/mathjax/2.7.5/MathJax.js?config=TeX-AMS-MML_SVG\"></script><script type=\"text/javascript\">if (window.MathJax) {MathJax.Hub.Config({SVG: {font: \"STIX-Web\"}});}</script>                <script type=\"text/javascript\">window.PlotlyConfig = {MathJaxConfig: 'local'};</script>\n",
              "        <script src=\"https://cdn.plot.ly/plotly-2.8.3.min.js\"></script>                <div id=\"b63f95cf-a760-43ee-9bf2-6d44d46edd94\" class=\"plotly-graph-div\" style=\"height:525px; width:100%;\"></div>            <script type=\"text/javascript\">                                    window.PLOTLYENV=window.PLOTLYENV || {};                                    if (document.getElementById(\"b63f95cf-a760-43ee-9bf2-6d44d46edd94\")) {                    Plotly.newPlot(                        \"b63f95cf-a760-43ee-9bf2-6d44d46edd94\",                        [{\"hovertemplate\":\"Date=%{x}<br>Close_Log_Return=%{y}<extra></extra>\",\"legendgroup\":\"\",\"line\":{\"color\":\"#636efa\",\"dash\":\"solid\"},\"marker\":{\"symbol\":\"circle\"},\"mode\":\"lines\",\"name\":\"\",\"showlegend\":false,\"x\":[\"2007-01-03T00:00:00\",\"2007-01-04T00:00:00\",\"2007-01-05T00:00:00\",\"2007-01-08T00:00:00\",\"2007-01-09T00:00:00\",\"2007-01-10T00:00:00\",\"2007-01-11T00:00:00\",\"2007-01-12T00:00:00\",\"2007-01-15T00:00:00\",\"2007-01-16T00:00:00\",\"2007-01-17T00:00:00\",\"2007-01-18T00:00:00\",\"2007-01-19T00:00:00\",\"2007-01-22T00:00:00\",\"2007-01-23T00:00:00\",\"2007-01-24T00:00:00\",\"2007-01-26T00:00:00\",\"2007-01-29T00:00:00\",\"2007-01-30T00:00:00\",\"2007-01-31T00:00:00\",\"2007-02-01T00:00:00\",\"2007-02-02T00:00:00\",\"2007-02-05T00:00:00\",\"2007-02-06T00:00:00\",\"2007-02-07T00:00:00\",\"2007-02-08T00:00:00\",\"2007-02-09T00:00:00\",\"2007-02-12T00:00:00\",\"2007-02-13T00:00:00\",\"2007-02-14T00:00:00\",\"2007-02-15T00:00:00\",\"2007-02-16T00:00:00\",\"2007-02-21T00:00:00\",\"2007-02-22T00:00:00\",\"2007-02-23T00:00:00\",\"2007-02-26T00:00:00\",\"2007-02-27T00:00:00\",\"2007-02-28T00:00:00\",\"2007-03-01T00:00:00\",\"2007-03-02T00:00:00\",\"2007-03-05T00:00:00\",\"2007-03-06T00:00:00\",\"2007-03-07T00:00:00\",\"2007-03-08T00:00:00\",\"2007-03-09T00:00:00\",\"2007-03-12T00:00:00\",\"2007-03-13T00:00:00\",\"2007-03-14T00:00:00\",\"2007-03-15T00:00:00\",\"2007-03-16T00:00:00\",\"2007-03-19T00:00:00\",\"2007-03-20T00:00:00\",\"2007-03-21T00:00:00\",\"2007-03-22T00:00:00\",\"2007-03-23T00:00:00\",\"2007-03-26T00:00:00\",\"2007-03-27T00:00:00\",\"2007-03-28T00:00:00\",\"2007-03-29T00:00:00\",\"2007-03-30T00:00:00\",\"2007-04-02T00:00:00\",\"2007-04-03T00:00:00\",\"2007-04-04T00:00:00\",\"2007-04-05T00:00:00\",\"2007-04-09T00:00:00\",\"2007-04-10T00:00:00\",\"2007-04-11T00:00:00\",\"2007-04-12T00:00:00\",\"2007-04-13T00:00:00\",\"2007-04-16T00:00:00\",\"2007-04-17T00:00:00\",\"2007-04-18T00:00:00\",\"2007-04-19T00:00:00\",\"2007-04-20T00:00:00\",\"2007-04-23T00:00:00\",\"2007-04-24T00:00:00\",\"2007-04-25T00:00:00\",\"2007-04-26T00:00:00\",\"2007-04-27T00:00:00\",\"2007-04-30T00:00:00\",\"2007-05-02T00:00:00\",\"2007-05-03T00:00:00\",\"2007-05-04T00:00:00\",\"2007-05-07T00:00:00\",\"2007-05-08T00:00:00\",\"2007-05-09T00:00:00\",\"2007-05-10T00:00:00\",\"2007-05-11T00:00:00\",\"2007-05-14T00:00:00\",\"2007-05-15T00:00:00\",\"2007-05-16T00:00:00\",\"2007-05-17T00:00:00\",\"2007-05-18T00:00:00\",\"2007-05-21T00:00:00\",\"2007-05-22T00:00:00\",\"2007-05-23T00:00:00\",\"2007-05-24T00:00:00\",\"2007-05-25T00:00:00\",\"2007-05-28T00:00:00\",\"2007-05-29T00:00:00\",\"2007-05-30T00:00:00\",\"2007-05-31T00:00:00\",\"2007-06-01T00:00:00\",\"2007-06-04T00:00:00\",\"2007-06-05T00:00:00\",\"2007-06-06T00:00:00\",\"2007-06-08T00:00:00\",\"2007-06-11T00:00:00\",\"2007-06-12T00:00:00\",\"2007-06-13T00:00:00\",\"2007-06-14T00:00:00\",\"2007-06-15T00:00:00\",\"2007-06-18T00:00:00\",\"2007-06-19T00:00:00\",\"2007-06-20T00:00:00\",\"2007-06-21T00:00:00\",\"2007-06-22T00:00:00\",\"2007-06-25T00:00:00\",\"2007-06-26T00:00:00\",\"2007-06-27T00:00:00\",\"2007-06-28T00:00:00\",\"2007-06-29T00:00:00\",\"2007-07-02T00:00:00\",\"2007-07-03T00:00:00\",\"2007-07-04T00:00:00\",\"2007-07-05T00:00:00\",\"2007-07-06T00:00:00\",\"2007-07-10T00:00:00\",\"2007-07-11T00:00:00\",\"2007-07-12T00:00:00\",\"2007-07-13T00:00:00\",\"2007-07-16T00:00:00\",\"2007-07-17T00:00:00\",\"2007-07-18T00:00:00\",\"2007-07-19T00:00:00\",\"2007-07-20T00:00:00\",\"2007-07-23T00:00:00\",\"2007-07-24T00:00:00\",\"2007-07-25T00:00:00\",\"2007-07-26T00:00:00\",\"2007-07-27T00:00:00\",\"2007-07-30T00:00:00\",\"2007-07-31T00:00:00\",\"2007-08-01T00:00:00\",\"2007-08-02T00:00:00\",\"2007-08-03T00:00:00\",\"2007-08-06T00:00:00\",\"2007-08-07T00:00:00\",\"2007-08-08T00:00:00\",\"2007-08-09T00:00:00\",\"2007-08-10T00:00:00\",\"2007-08-13T00:00:00\",\"2007-08-14T00:00:00\",\"2007-08-15T00:00:00\",\"2007-08-16T00:00:00\",\"2007-08-17T00:00:00\",\"2007-08-20T00:00:00\",\"2007-08-21T00:00:00\",\"2007-08-22T00:00:00\",\"2007-08-23T00:00:00\",\"2007-08-24T00:00:00\",\"2007-08-27T00:00:00\",\"2007-08-28T00:00:00\",\"2007-08-29T00:00:00\",\"2007-08-30T00:00:00\",\"2007-08-31T00:00:00\",\"2007-09-03T00:00:00\",\"2007-09-04T00:00:00\",\"2007-09-05T00:00:00\",\"2007-09-06T00:00:00\",\"2007-09-10T00:00:00\",\"2007-09-11T00:00:00\",\"2007-09-12T00:00:00\",\"2007-09-13T00:00:00\",\"2007-09-14T00:00:00\",\"2007-09-17T00:00:00\",\"2007-09-18T00:00:00\",\"2007-09-19T00:00:00\",\"2007-09-20T00:00:00\",\"2007-09-21T00:00:00\",\"2007-09-24T00:00:00\",\"2007-09-25T00:00:00\",\"2007-09-26T00:00:00\",\"2007-09-27T00:00:00\",\"2007-09-28T00:00:00\",\"2007-10-01T00:00:00\",\"2007-10-02T00:00:00\",\"2007-10-03T00:00:00\",\"2007-10-04T00:00:00\",\"2007-10-05T00:00:00\",\"2007-10-08T00:00:00\",\"2007-10-09T00:00:00\",\"2007-10-10T00:00:00\",\"2007-10-11T00:00:00\",\"2007-10-15T00:00:00\",\"2007-10-16T00:00:00\",\"2007-10-17T00:00:00\",\"2007-10-18T00:00:00\",\"2007-10-19T00:00:00\",\"2007-10-22T00:00:00\",\"2007-10-23T00:00:00\",\"2007-10-24T00:00:00\",\"2007-10-25T00:00:00\",\"2007-10-26T00:00:00\",\"2007-10-29T00:00:00\",\"2007-10-30T00:00:00\",\"2007-10-31T00:00:00\",\"2007-11-01T00:00:00\",\"2007-11-05T00:00:00\",\"2007-11-06T00:00:00\",\"2007-11-07T00:00:00\",\"2007-11-08T00:00:00\",\"2007-11-09T00:00:00\",\"2007-11-12T00:00:00\",\"2007-11-13T00:00:00\",\"2007-11-14T00:00:00\",\"2007-11-16T00:00:00\",\"2007-11-19T00:00:00\",\"2007-11-21T00:00:00\",\"2007-11-22T00:00:00\",\"2007-11-23T00:00:00\",\"2007-11-26T00:00:00\",\"2007-11-27T00:00:00\",\"2007-11-28T00:00:00\",\"2007-11-29T00:00:00\",\"2007-11-30T00:00:00\",\"2007-12-03T00:00:00\",\"2007-12-04T00:00:00\",\"2007-12-05T00:00:00\",\"2007-12-06T00:00:00\",\"2007-12-07T00:00:00\",\"2007-12-10T00:00:00\",\"2007-12-11T00:00:00\",\"2007-12-12T00:00:00\",\"2007-12-13T00:00:00\",\"2007-12-14T00:00:00\",\"2007-12-17T00:00:00\",\"2007-12-18T00:00:00\",\"2007-12-19T00:00:00\",\"2007-12-20T00:00:00\",\"2007-12-21T00:00:00\",\"2007-12-26T00:00:00\",\"2007-12-27T00:00:00\",\"2007-12-28T00:00:00\",\"2008-01-02T00:00:00\",\"2008-01-03T00:00:00\",\"2008-01-04T00:00:00\",\"2008-01-07T00:00:00\",\"2008-01-08T00:00:00\",\"2008-01-09T00:00:00\",\"2008-01-10T00:00:00\",\"2008-01-11T00:00:00\",\"2008-01-14T00:00:00\",\"2008-01-15T00:00:00\",\"2008-01-16T00:00:00\",\"2008-01-17T00:00:00\",\"2008-01-18T00:00:00\",\"2008-01-21T00:00:00\",\"2008-01-22T00:00:00\",\"2008-01-23T00:00:00\",\"2008-01-24T00:00:00\",\"2008-01-28T00:00:00\",\"2008-01-29T00:00:00\",\"2008-01-30T00:00:00\",\"2008-01-31T00:00:00\",\"2008-02-01T00:00:00\",\"2008-02-06T00:00:00\",\"2008-02-07T00:00:00\",\"2008-02-08T00:00:00\",\"2008-02-11T00:00:00\",\"2008-02-12T00:00:00\",\"2008-02-13T00:00:00\",\"2008-02-14T00:00:00\",\"2008-02-15T00:00:00\",\"2008-02-18T00:00:00\",\"2008-02-19T00:00:00\",\"2008-02-20T00:00:00\",\"2008-02-21T00:00:00\",\"2008-02-22T00:00:00\",\"2008-02-25T00:00:00\",\"2008-02-26T00:00:00\",\"2008-02-27T00:00:00\",\"2008-02-28T00:00:00\",\"2008-02-29T00:00:00\",\"2008-03-03T00:00:00\",\"2008-03-04T00:00:00\",\"2008-03-05T00:00:00\",\"2008-03-06T00:00:00\",\"2008-03-07T00:00:00\",\"2008-03-10T00:00:00\",\"2008-03-11T00:00:00\",\"2008-03-12T00:00:00\",\"2008-03-13T00:00:00\",\"2008-03-14T00:00:00\",\"2008-03-17T00:00:00\",\"2008-03-18T00:00:00\",\"2008-03-19T00:00:00\",\"2008-03-20T00:00:00\",\"2008-03-24T00:00:00\",\"2008-03-25T00:00:00\",\"2008-03-26T00:00:00\",\"2008-03-27T00:00:00\",\"2008-03-28T00:00:00\",\"2008-03-31T00:00:00\",\"2008-04-01T00:00:00\",\"2008-04-02T00:00:00\",\"2008-04-03T00:00:00\",\"2008-04-04T00:00:00\",\"2008-04-07T00:00:00\",\"2008-04-08T00:00:00\",\"2008-04-09T00:00:00\",\"2008-04-10T00:00:00\",\"2008-04-11T00:00:00\",\"2008-04-14T00:00:00\",\"2008-04-15T00:00:00\",\"2008-04-16T00:00:00\",\"2008-04-17T00:00:00\",\"2008-04-18T00:00:00\",\"2008-04-22T00:00:00\",\"2008-04-23T00:00:00\",\"2008-04-24T00:00:00\",\"2008-04-25T00:00:00\",\"2008-04-28T00:00:00\",\"2008-04-29T00:00:00\",\"2008-04-30T00:00:00\",\"2008-05-02T00:00:00\",\"2008-05-05T00:00:00\",\"2008-05-06T00:00:00\",\"2008-05-07T00:00:00\",\"2008-05-08T00:00:00\",\"2008-05-09T00:00:00\",\"2008-05-12T00:00:00\",\"2008-05-13T00:00:00\",\"2008-05-14T00:00:00\",\"2008-05-15T00:00:00\",\"2008-05-16T00:00:00\",\"2008-05-19T00:00:00\",\"2008-05-20T00:00:00\",\"2008-05-21T00:00:00\",\"2008-05-23T00:00:00\",\"2008-05-26T00:00:00\",\"2008-05-27T00:00:00\",\"2008-05-28T00:00:00\",\"2008-05-29T00:00:00\",\"2008-05-30T00:00:00\",\"2008-06-02T00:00:00\",\"2008-06-03T00:00:00\",\"2008-06-04T00:00:00\",\"2008-06-05T00:00:00\",\"2008-06-06T00:00:00\",\"2008-06-09T00:00:00\",\"2008-06-10T00:00:00\",\"2008-06-11T00:00:00\",\"2008-06-12T00:00:00\",\"2008-06-13T00:00:00\",\"2008-06-16T00:00:00\",\"2008-06-17T00:00:00\",\"2008-06-18T00:00:00\",\"2008-06-19T00:00:00\",\"2008-06-20T00:00:00\",\"2008-06-23T00:00:00\",\"2008-06-24T00:00:00\",\"2008-06-25T00:00:00\",\"2008-06-26T00:00:00\",\"2008-06-27T00:00:00\",\"2008-06-30T00:00:00\",\"2008-07-01T00:00:00\",\"2008-07-02T00:00:00\",\"2008-07-03T00:00:00\",\"2008-07-04T00:00:00\",\"2008-07-07T00:00:00\",\"2008-07-08T00:00:00\",\"2008-07-10T00:00:00\",\"2008-07-11T00:00:00\",\"2008-07-14T00:00:00\",\"2008-07-15T00:00:00\",\"2008-07-16T00:00:00\",\"2008-07-17T00:00:00\",\"2008-07-18T00:00:00\",\"2008-07-21T00:00:00\",\"2008-07-22T00:00:00\",\"2008-07-23T00:00:00\",\"2008-07-24T00:00:00\",\"2008-07-25T00:00:00\",\"2008-07-28T00:00:00\",\"2008-07-29T00:00:00\",\"2008-07-30T00:00:00\",\"2008-07-31T00:00:00\",\"2008-08-01T00:00:00\",\"2008-08-04T00:00:00\",\"2008-08-05T00:00:00\",\"2008-08-06T00:00:00\",\"2008-08-07T00:00:00\",\"2008-08-08T00:00:00\",\"2008-08-11T00:00:00\",\"2008-08-12T00:00:00\",\"2008-08-13T00:00:00\",\"2008-08-14T00:00:00\",\"2008-08-15T00:00:00\",\"2008-08-18T00:00:00\",\"2008-08-19T00:00:00\",\"2008-08-20T00:00:00\",\"2008-08-21T00:00:00\",\"2008-08-22T00:00:00\",\"2008-08-25T00:00:00\",\"2008-08-26T00:00:00\",\"2008-08-27T00:00:00\",\"2008-08-28T00:00:00\",\"2008-08-29T00:00:00\",\"2008-09-01T00:00:00\",\"2008-09-02T00:00:00\",\"2008-09-03T00:00:00\",\"2008-09-04T00:00:00\",\"2008-09-05T00:00:00\",\"2008-09-08T00:00:00\",\"2008-09-09T00:00:00\",\"2008-09-10T00:00:00\",\"2008-09-11T00:00:00\",\"2008-09-12T00:00:00\",\"2008-09-15T00:00:00\",\"2008-09-16T00:00:00\",\"2008-09-17T00:00:00\",\"2008-09-18T00:00:00\",\"2008-09-19T00:00:00\",\"2008-09-22T00:00:00\",\"2008-09-23T00:00:00\",\"2008-09-24T00:00:00\",\"2008-09-25T00:00:00\",\"2008-09-26T00:00:00\",\"2008-09-29T00:00:00\",\"2008-09-30T00:00:00\",\"2008-10-01T00:00:00\",\"2008-10-02T00:00:00\",\"2008-10-03T00:00:00\",\"2008-10-06T00:00:00\",\"2008-10-07T00:00:00\",\"2008-10-08T00:00:00\",\"2008-10-09T00:00:00\",\"2008-10-10T00:00:00\",\"2008-10-13T00:00:00\",\"2008-10-14T00:00:00\",\"2008-10-15T00:00:00\",\"2008-10-16T00:00:00\",\"2008-10-17T00:00:00\",\"2008-10-20T00:00:00\",\"2008-10-21T00:00:00\",\"2008-10-22T00:00:00\",\"2008-10-23T00:00:00\",\"2008-10-24T00:00:00\",\"2008-10-27T00:00:00\",\"2008-10-28T00:00:00\",\"2008-10-29T00:00:00\",\"2008-10-30T00:00:00\",\"2008-10-31T00:00:00\",\"2008-11-03T00:00:00\",\"2008-11-04T00:00:00\",\"2008-11-05T00:00:00\",\"2008-11-06T00:00:00\",\"2008-11-07T00:00:00\",\"2008-11-10T00:00:00\",\"2008-11-11T00:00:00\",\"2008-11-12T00:00:00\",\"2008-11-13T00:00:00\",\"2008-11-14T00:00:00\",\"2008-11-17T00:00:00\",\"2008-11-18T00:00:00\",\"2008-11-19T00:00:00\",\"2008-11-21T00:00:00\",\"2008-11-24T00:00:00\",\"2008-11-25T00:00:00\",\"2008-11-26T00:00:00\",\"2008-11-27T00:00:00\",\"2008-11-28T00:00:00\",\"2008-12-01T00:00:00\",\"2008-12-02T00:00:00\",\"2008-12-03T00:00:00\",\"2008-12-04T00:00:00\",\"2008-12-05T00:00:00\",\"2008-12-08T00:00:00\",\"2008-12-09T00:00:00\",\"2008-12-10T00:00:00\",\"2008-12-11T00:00:00\",\"2008-12-12T00:00:00\",\"2008-12-15T00:00:00\",\"2008-12-16T00:00:00\",\"2008-12-17T00:00:00\",\"2008-12-18T00:00:00\",\"2008-12-19T00:00:00\",\"2008-12-22T00:00:00\",\"2008-12-23T00:00:00\",\"2008-12-26T00:00:00\",\"2008-12-29T00:00:00\",\"2008-12-30T00:00:00\",\"2009-01-02T00:00:00\",\"2009-01-05T00:00:00\",\"2009-01-06T00:00:00\",\"2009-01-07T00:00:00\",\"2009-01-08T00:00:00\",\"2009-01-09T00:00:00\",\"2009-01-12T00:00:00\",\"2009-01-13T00:00:00\",\"2009-01-14T00:00:00\",\"2009-01-15T00:00:00\",\"2009-01-16T00:00:00\",\"2009-01-19T00:00:00\",\"2009-01-20T00:00:00\",\"2009-01-21T00:00:00\",\"2009-01-22T00:00:00\",\"2009-01-23T00:00:00\",\"2009-01-26T00:00:00\",\"2009-01-27T00:00:00\",\"2009-01-28T00:00:00\",\"2009-01-29T00:00:00\",\"2009-01-30T00:00:00\",\"2009-02-02T00:00:00\",\"2009-02-03T00:00:00\",\"2009-02-04T00:00:00\",\"2009-02-05T00:00:00\",\"2009-02-06T00:00:00\",\"2009-02-09T00:00:00\",\"2009-02-10T00:00:00\",\"2009-02-11T00:00:00\",\"2009-02-12T00:00:00\",\"2009-02-13T00:00:00\",\"2009-02-16T00:00:00\",\"2009-02-17T00:00:00\",\"2009-02-18T00:00:00\",\"2009-02-19T00:00:00\",\"2009-02-20T00:00:00\",\"2009-02-25T00:00:00\",\"2009-02-26T00:00:00\",\"2009-02-27T00:00:00\",\"2009-03-02T00:00:00\",\"2009-03-03T00:00:00\",\"2009-03-04T00:00:00\",\"2009-03-05T00:00:00\",\"2009-03-06T00:00:00\",\"2009-03-09T00:00:00\",\"2009-03-10T00:00:00\",\"2009-03-11T00:00:00\",\"2009-03-12T00:00:00\",\"2009-03-13T00:00:00\",\"2009-03-16T00:00:00\",\"2009-03-17T00:00:00\",\"2009-03-18T00:00:00\",\"2009-03-19T00:00:00\",\"2009-03-20T00:00:00\",\"2009-03-23T00:00:00\",\"2009-03-24T00:00:00\",\"2009-03-25T00:00:00\",\"2009-03-26T00:00:00\",\"2009-03-27T00:00:00\",\"2009-03-30T00:00:00\",\"2009-03-31T00:00:00\",\"2009-04-01T00:00:00\",\"2009-04-02T00:00:00\",\"2009-04-03T00:00:00\",\"2009-04-06T00:00:00\",\"2009-04-07T00:00:00\",\"2009-04-08T00:00:00\",\"2009-04-09T00:00:00\",\"2009-04-13T00:00:00\",\"2009-04-14T00:00:00\",\"2009-04-15T00:00:00\",\"2009-04-16T00:00:00\",\"2009-04-17T00:00:00\",\"2009-04-20T00:00:00\",\"2009-04-22T00:00:00\",\"2009-04-23T00:00:00\",\"2009-04-24T00:00:00\",\"2009-04-27T00:00:00\",\"2009-04-28T00:00:00\",\"2009-04-29T00:00:00\",\"2009-04-30T00:00:00\",\"2009-05-04T00:00:00\",\"2009-05-05T00:00:00\",\"2009-05-06T00:00:00\",\"2009-05-07T00:00:00\",\"2009-05-08T00:00:00\",\"2009-05-11T00:00:00\",\"2009-05-12T00:00:00\",\"2009-05-13T00:00:00\",\"2009-05-14T00:00:00\",\"2009-05-15T00:00:00\",\"2009-05-18T00:00:00\",\"2009-05-19T00:00:00\",\"2009-05-20T00:00:00\",\"2009-05-21T00:00:00\",\"2009-05-22T00:00:00\",\"2009-05-25T00:00:00\",\"2009-05-26T00:00:00\",\"2009-05-27T00:00:00\",\"2009-05-28T00:00:00\",\"2009-05-29T00:00:00\",\"2009-06-01T00:00:00\",\"2009-06-02T00:00:00\",\"2009-06-03T00:00:00\",\"2009-06-04T00:00:00\",\"2009-06-05T00:00:00\",\"2009-06-08T00:00:00\",\"2009-06-09T00:00:00\",\"2009-06-10T00:00:00\",\"2009-06-12T00:00:00\",\"2009-06-15T00:00:00\",\"2009-06-16T00:00:00\",\"2009-06-17T00:00:00\",\"2009-06-18T00:00:00\",\"2009-06-19T00:00:00\",\"2009-06-22T00:00:00\",\"2009-06-23T00:00:00\",\"2009-06-24T00:00:00\",\"2009-06-25T00:00:00\",\"2009-06-26T00:00:00\",\"2009-06-29T00:00:00\",\"2009-06-30T00:00:00\",\"2009-07-01T00:00:00\",\"2009-07-02T00:00:00\",\"2009-07-03T00:00:00\",\"2009-07-06T00:00:00\",\"2009-07-07T00:00:00\",\"2009-07-08T00:00:00\",\"2009-07-10T00:00:00\",\"2009-07-13T00:00:00\",\"2009-07-14T00:00:00\",\"2009-07-15T00:00:00\",\"2009-07-16T00:00:00\",\"2009-07-17T00:00:00\",\"2009-07-20T00:00:00\",\"2009-07-21T00:00:00\",\"2009-07-22T00:00:00\",\"2009-07-23T00:00:00\",\"2009-07-24T00:00:00\",\"2009-07-27T00:00:00\",\"2009-07-28T00:00:00\",\"2009-07-29T00:00:00\",\"2009-07-30T00:00:00\",\"2009-07-31T00:00:00\",\"2009-08-03T00:00:00\",\"2009-08-04T00:00:00\",\"2009-08-05T00:00:00\",\"2009-08-06T00:00:00\",\"2009-08-07T00:00:00\",\"2009-08-10T00:00:00\",\"2009-08-11T00:00:00\",\"2009-08-12T00:00:00\",\"2009-08-13T00:00:00\",\"2009-08-14T00:00:00\",\"2009-08-17T00:00:00\",\"2009-08-18T00:00:00\",\"2009-08-19T00:00:00\",\"2009-08-20T00:00:00\",\"2009-08-21T00:00:00\",\"2009-08-24T00:00:00\",\"2009-08-25T00:00:00\",\"2009-08-26T00:00:00\",\"2009-08-27T00:00:00\",\"2009-08-28T00:00:00\",\"2009-08-31T00:00:00\",\"2009-09-01T00:00:00\",\"2009-09-02T00:00:00\",\"2009-09-03T00:00:00\",\"2009-09-04T00:00:00\",\"2009-09-08T00:00:00\",\"2009-09-09T00:00:00\",\"2009-09-10T00:00:00\",\"2009-09-11T00:00:00\",\"2009-09-14T00:00:00\",\"2009-09-15T00:00:00\",\"2009-09-16T00:00:00\",\"2009-09-17T00:00:00\",\"2009-09-18T00:00:00\",\"2009-09-21T00:00:00\",\"2009-09-22T00:00:00\",\"2009-09-23T00:00:00\",\"2009-09-24T00:00:00\",\"2009-09-25T00:00:00\",\"2009-09-28T00:00:00\",\"2009-09-29T00:00:00\",\"2009-09-30T00:00:00\",\"2009-10-01T00:00:00\",\"2009-10-02T00:00:00\",\"2009-10-05T00:00:00\",\"2009-10-06T00:00:00\",\"2009-10-07T00:00:00\",\"2009-10-08T00:00:00\",\"2009-10-09T00:00:00\",\"2009-10-13T00:00:00\",\"2009-10-14T00:00:00\",\"2009-10-15T00:00:00\",\"2009-10-16T00:00:00\",\"2009-10-19T00:00:00\",\"2009-10-20T00:00:00\",\"2009-10-21T00:00:00\",\"2009-10-22T00:00:00\",\"2009-10-23T00:00:00\",\"2009-10-26T00:00:00\",\"2009-10-27T00:00:00\",\"2009-10-28T00:00:00\",\"2009-10-29T00:00:00\",\"2009-10-30T00:00:00\",\"2009-11-03T00:00:00\",\"2009-11-04T00:00:00\",\"2009-11-05T00:00:00\",\"2009-11-06T00:00:00\",\"2009-11-09T00:00:00\",\"2009-11-10T00:00:00\",\"2009-11-11T00:00:00\",\"2009-11-12T00:00:00\",\"2009-11-13T00:00:00\",\"2009-11-16T00:00:00\",\"2009-11-17T00:00:00\",\"2009-11-18T00:00:00\",\"2009-11-19T00:00:00\",\"2009-11-23T00:00:00\",\"2009-11-24T00:00:00\",\"2009-11-25T00:00:00\",\"2009-11-26T00:00:00\",\"2009-11-27T00:00:00\",\"2009-11-30T00:00:00\",\"2009-12-01T00:00:00\",\"2009-12-02T00:00:00\",\"2009-12-03T00:00:00\",\"2009-12-04T00:00:00\",\"2009-12-07T00:00:00\",\"2009-12-08T00:00:00\",\"2009-12-09T00:00:00\",\"2009-12-10T00:00:00\",\"2009-12-11T00:00:00\",\"2009-12-14T00:00:00\",\"2009-12-15T00:00:00\",\"2009-12-16T00:00:00\",\"2009-12-17T00:00:00\",\"2009-12-18T00:00:00\",\"2009-12-21T00:00:00\",\"2009-12-22T00:00:00\",\"2009-12-23T00:00:00\",\"2009-12-28T00:00:00\",\"2009-12-29T00:00:00\",\"2009-12-30T00:00:00\",\"2010-01-04T00:00:00\",\"2010-01-05T00:00:00\",\"2010-01-06T00:00:00\",\"2010-01-07T00:00:00\",\"2010-01-08T00:00:00\",\"2010-01-11T00:00:00\",\"2010-01-12T00:00:00\",\"2010-01-13T00:00:00\",\"2010-01-14T00:00:00\",\"2010-01-15T00:00:00\",\"2010-01-18T00:00:00\",\"2010-01-19T00:00:00\",\"2010-01-20T00:00:00\",\"2010-01-21T00:00:00\",\"2010-01-22T00:00:00\",\"2010-01-26T00:00:00\",\"2010-01-27T00:00:00\",\"2010-01-28T00:00:00\",\"2010-01-29T00:00:00\",\"2010-02-01T00:00:00\",\"2010-02-02T00:00:00\",\"2010-02-03T00:00:00\",\"2010-02-04T00:00:00\",\"2010-02-05T00:00:00\",\"2010-02-08T00:00:00\",\"2010-02-09T00:00:00\",\"2010-02-10T00:00:00\",\"2010-02-11T00:00:00\",\"2010-02-12T00:00:00\",\"2010-02-17T00:00:00\",\"2010-02-18T00:00:00\",\"2010-02-19T00:00:00\",\"2010-02-22T00:00:00\",\"2010-02-23T00:00:00\",\"2010-02-24T00:00:00\",\"2010-02-25T00:00:00\",\"2010-02-26T00:00:00\",\"2010-03-01T00:00:00\",\"2010-03-02T00:00:00\",\"2010-03-03T00:00:00\",\"2010-03-04T00:00:00\",\"2010-03-05T00:00:00\",\"2010-03-08T00:00:00\",\"2010-03-09T00:00:00\",\"2010-03-10T00:00:00\",\"2010-03-11T00:00:00\",\"2010-03-12T00:00:00\",\"2010-03-15T00:00:00\",\"2010-03-16T00:00:00\",\"2010-03-17T00:00:00\",\"2010-03-18T00:00:00\",\"2010-03-19T00:00:00\",\"2010-03-22T00:00:00\",\"2010-03-23T00:00:00\",\"2010-03-24T00:00:00\",\"2010-03-25T00:00:00\",\"2010-03-26T00:00:00\",\"2010-03-29T00:00:00\",\"2010-03-30T00:00:00\",\"2010-03-31T00:00:00\",\"2010-04-01T00:00:00\",\"2010-04-05T00:00:00\",\"2010-04-06T00:00:00\",\"2010-04-07T00:00:00\",\"2010-04-08T00:00:00\",\"2010-04-09T00:00:00\",\"2010-04-12T00:00:00\",\"2010-04-13T00:00:00\",\"2010-04-14T00:00:00\",\"2010-04-15T00:00:00\",\"2010-04-16T00:00:00\",\"2010-04-19T00:00:00\",\"2010-04-20T00:00:00\",\"2010-04-22T00:00:00\",\"2010-04-23T00:00:00\",\"2010-04-26T00:00:00\",\"2010-04-27T00:00:00\",\"2010-04-28T00:00:00\",\"2010-04-29T00:00:00\",\"2010-04-30T00:00:00\",\"2010-05-03T00:00:00\",\"2010-05-04T00:00:00\",\"2010-05-05T00:00:00\",\"2010-05-06T00:00:00\",\"2010-05-07T00:00:00\",\"2010-05-10T00:00:00\",\"2010-05-11T00:00:00\",\"2010-05-12T00:00:00\",\"2010-05-13T00:00:00\",\"2010-05-14T00:00:00\",\"2010-05-17T00:00:00\",\"2010-05-18T00:00:00\",\"2010-05-19T00:00:00\",\"2010-05-20T00:00:00\",\"2010-05-21T00:00:00\",\"2010-05-24T00:00:00\",\"2010-05-25T00:00:00\",\"2010-05-26T00:00:00\",\"2010-05-27T00:00:00\",\"2010-05-28T00:00:00\",\"2010-05-31T00:00:00\",\"2010-06-01T00:00:00\",\"2010-06-02T00:00:00\",\"2010-06-04T00:00:00\",\"2010-06-07T00:00:00\",\"2010-06-08T00:00:00\",\"2010-06-09T00:00:00\",\"2010-06-10T00:00:00\",\"2010-06-11T00:00:00\",\"2010-06-14T00:00:00\",\"2010-06-15T00:00:00\",\"2010-06-16T00:00:00\",\"2010-06-17T00:00:00\",\"2010-06-18T00:00:00\",\"2010-06-21T00:00:00\",\"2010-06-22T00:00:00\",\"2010-06-23T00:00:00\",\"2010-06-24T00:00:00\",\"2010-06-25T00:00:00\",\"2010-06-28T00:00:00\",\"2010-06-29T00:00:00\",\"2010-06-30T00:00:00\",\"2010-07-01T00:00:00\",\"2010-07-02T00:00:00\",\"2010-07-05T00:00:00\",\"2010-07-06T00:00:00\",\"2010-07-07T00:00:00\",\"2010-07-08T00:00:00\",\"2010-07-12T00:00:00\",\"2010-07-13T00:00:00\",\"2010-07-14T00:00:00\",\"2010-07-15T00:00:00\",\"2010-07-16T00:00:00\",\"2010-07-19T00:00:00\",\"2010-07-20T00:00:00\",\"2010-07-21T00:00:00\",\"2010-07-22T00:00:00\",\"2010-07-23T00:00:00\",\"2010-07-26T00:00:00\",\"2010-07-27T00:00:00\",\"2010-07-28T00:00:00\",\"2010-07-29T00:00:00\",\"2010-07-30T00:00:00\",\"2010-08-02T00:00:00\",\"2010-08-03T00:00:00\",\"2010-08-04T00:00:00\",\"2010-08-05T00:00:00\",\"2010-08-06T00:00:00\",\"2010-08-09T00:00:00\",\"2010-08-10T00:00:00\",\"2010-08-11T00:00:00\",\"2010-08-12T00:00:00\",\"2010-08-13T00:00:00\",\"2010-08-16T00:00:00\",\"2010-08-17T00:00:00\",\"2010-08-18T00:00:00\",\"2010-08-19T00:00:00\",\"2010-08-20T00:00:00\",\"2010-08-23T00:00:00\",\"2010-08-24T00:00:00\",\"2010-08-25T00:00:00\",\"2010-08-26T00:00:00\",\"2010-08-27T00:00:00\",\"2010-08-30T00:00:00\",\"2010-08-31T00:00:00\",\"2010-09-01T00:00:00\",\"2010-09-02T00:00:00\",\"2010-09-03T00:00:00\",\"2010-09-06T00:00:00\",\"2010-09-08T00:00:00\",\"2010-09-09T00:00:00\",\"2010-09-10T00:00:00\",\"2010-09-13T00:00:00\",\"2010-09-14T00:00:00\",\"2010-09-15T00:00:00\",\"2010-09-16T00:00:00\",\"2010-09-17T00:00:00\",\"2010-09-20T00:00:00\",\"2010-09-21T00:00:00\",\"2010-09-22T00:00:00\",\"2010-09-23T00:00:00\",\"2010-09-24T00:00:00\",\"2010-09-27T00:00:00\",\"2010-09-28T00:00:00\",\"2010-09-29T00:00:00\",\"2010-09-30T00:00:00\",\"2010-10-01T00:00:00\",\"2010-10-04T00:00:00\",\"2010-10-05T00:00:00\",\"2010-10-06T00:00:00\",\"2010-10-07T00:00:00\",\"2010-10-08T00:00:00\",\"2010-10-11T00:00:00\",\"2010-10-13T00:00:00\",\"2010-10-14T00:00:00\",\"2010-10-15T00:00:00\",\"2010-10-18T00:00:00\",\"2010-10-19T00:00:00\",\"2010-10-20T00:00:00\",\"2010-10-21T00:00:00\",\"2010-10-22T00:00:00\",\"2010-10-25T00:00:00\",\"2010-10-26T00:00:00\",\"2010-10-27T00:00:00\",\"2010-10-28T00:00:00\",\"2010-10-29T00:00:00\",\"2010-11-01T00:00:00\",\"2010-11-03T00:00:00\",\"2010-11-04T00:00:00\",\"2010-11-05T00:00:00\",\"2010-11-08T00:00:00\",\"2010-11-09T00:00:00\",\"2010-11-10T00:00:00\",\"2010-11-11T00:00:00\",\"2010-11-12T00:00:00\",\"2010-11-16T00:00:00\",\"2010-11-17T00:00:00\",\"2010-11-18T00:00:00\",\"2010-11-19T00:00:00\",\"2010-11-22T00:00:00\",\"2010-11-23T00:00:00\",\"2010-11-24T00:00:00\",\"2010-11-25T00:00:00\",\"2010-11-26T00:00:00\",\"2010-11-29T00:00:00\",\"2010-11-30T00:00:00\",\"2010-12-01T00:00:00\",\"2010-12-02T00:00:00\",\"2010-12-03T00:00:00\",\"2010-12-06T00:00:00\",\"2010-12-07T00:00:00\",\"2010-12-08T00:00:00\",\"2010-12-09T00:00:00\",\"2010-12-10T00:00:00\",\"2010-12-13T00:00:00\",\"2010-12-14T00:00:00\",\"2010-12-15T00:00:00\",\"2010-12-16T00:00:00\",\"2010-12-17T00:00:00\",\"2010-12-20T00:00:00\",\"2010-12-21T00:00:00\",\"2010-12-22T00:00:00\",\"2010-12-23T00:00:00\",\"2010-12-27T00:00:00\",\"2010-12-28T00:00:00\",\"2010-12-29T00:00:00\",\"2010-12-30T00:00:00\",\"2011-01-03T00:00:00\",\"2011-01-04T00:00:00\",\"2011-01-05T00:00:00\",\"2011-01-06T00:00:00\",\"2011-01-07T00:00:00\",\"2011-01-10T00:00:00\",\"2011-01-11T00:00:00\",\"2011-01-12T00:00:00\",\"2011-01-13T00:00:00\",\"2011-01-14T00:00:00\",\"2011-01-17T00:00:00\",\"2011-01-18T00:00:00\",\"2011-01-19T00:00:00\",\"2011-01-20T00:00:00\",\"2011-01-21T00:00:00\",\"2011-01-24T00:00:00\",\"2011-01-26T00:00:00\",\"2011-01-27T00:00:00\",\"2011-01-28T00:00:00\",\"2011-01-31T00:00:00\",\"2011-02-01T00:00:00\",\"2011-02-02T00:00:00\",\"2011-02-03T00:00:00\",\"2011-02-04T00:00:00\",\"2011-02-07T00:00:00\",\"2011-02-08T00:00:00\",\"2011-02-09T00:00:00\",\"2011-02-10T00:00:00\",\"2011-02-11T00:00:00\",\"2011-02-14T00:00:00\",\"2011-02-15T00:00:00\",\"2011-02-16T00:00:00\",\"2011-02-17T00:00:00\",\"2011-02-18T00:00:00\",\"2011-02-21T00:00:00\",\"2011-02-22T00:00:00\",\"2011-02-23T00:00:00\",\"2011-02-24T00:00:00\",\"2011-02-25T00:00:00\",\"2011-02-28T00:00:00\",\"2011-03-01T00:00:00\",\"2011-03-02T00:00:00\",\"2011-03-03T00:00:00\",\"2011-03-04T00:00:00\",\"2011-03-09T00:00:00\",\"2011-03-10T00:00:00\",\"2011-03-11T00:00:00\",\"2011-03-14T00:00:00\",\"2011-03-15T00:00:00\",\"2011-03-16T00:00:00\",\"2011-03-17T00:00:00\",\"2011-03-18T00:00:00\",\"2011-03-21T00:00:00\",\"2011-03-22T00:00:00\",\"2011-03-23T00:00:00\",\"2011-03-24T00:00:00\",\"2011-03-25T00:00:00\",\"2011-03-28T00:00:00\",\"2011-03-29T00:00:00\",\"2011-03-30T00:00:00\",\"2011-03-31T00:00:00\",\"2011-04-01T00:00:00\",\"2011-04-04T00:00:00\",\"2011-04-05T00:00:00\",\"2011-04-06T00:00:00\",\"2011-04-07T00:00:00\",\"2011-04-08T00:00:00\",\"2011-04-11T00:00:00\",\"2011-04-12T00:00:00\",\"2011-04-13T00:00:00\",\"2011-04-14T00:00:00\",\"2011-04-15T00:00:00\",\"2011-04-18T00:00:00\",\"2011-04-19T00:00:00\",\"2011-04-20T00:00:00\",\"2011-04-25T00:00:00\",\"2011-04-26T00:00:00\",\"2011-04-27T00:00:00\",\"2011-04-28T00:00:00\",\"2011-04-29T00:00:00\",\"2011-05-02T00:00:00\",\"2011-05-03T00:00:00\",\"2011-05-04T00:00:00\",\"2011-05-05T00:00:00\",\"2011-05-06T00:00:00\",\"2011-05-09T00:00:00\",\"2011-05-10T00:00:00\",\"2011-05-11T00:00:00\",\"2011-05-12T00:00:00\",\"2011-05-13T00:00:00\",\"2011-05-16T00:00:00\",\"2011-05-17T00:00:00\",\"2011-05-18T00:00:00\",\"2011-05-19T00:00:00\",\"2011-05-20T00:00:00\",\"2011-05-23T00:00:00\",\"2011-05-24T00:00:00\",\"2011-05-25T00:00:00\",\"2011-05-26T00:00:00\",\"2011-05-27T00:00:00\",\"2011-05-30T00:00:00\",\"2011-05-31T00:00:00\",\"2011-06-01T00:00:00\",\"2011-06-02T00:00:00\",\"2011-06-03T00:00:00\",\"2011-06-06T00:00:00\",\"2011-06-07T00:00:00\",\"2011-06-08T00:00:00\",\"2011-06-09T00:00:00\",\"2011-06-10T00:00:00\",\"2011-06-13T00:00:00\",\"2011-06-14T00:00:00\",\"2011-06-15T00:00:00\",\"2011-06-16T00:00:00\",\"2011-06-17T00:00:00\",\"2011-06-20T00:00:00\",\"2011-06-21T00:00:00\",\"2011-06-22T00:00:00\",\"2011-06-24T00:00:00\",\"2011-06-27T00:00:00\",\"2011-06-28T00:00:00\",\"2011-06-29T00:00:00\",\"2011-06-30T00:00:00\",\"2011-07-01T00:00:00\",\"2011-07-04T00:00:00\",\"2011-07-05T00:00:00\",\"2011-07-06T00:00:00\",\"2011-07-07T00:00:00\",\"2011-07-08T00:00:00\",\"2011-07-11T00:00:00\",\"2011-07-12T00:00:00\",\"2011-07-13T00:00:00\",\"2011-07-14T00:00:00\",\"2011-07-15T00:00:00\",\"2011-07-18T00:00:00\",\"2011-07-19T00:00:00\",\"2011-07-20T00:00:00\",\"2011-07-21T00:00:00\",\"2011-07-22T00:00:00\",\"2011-07-25T00:00:00\",\"2011-07-26T00:00:00\",\"2011-07-27T00:00:00\",\"2011-07-28T00:00:00\",\"2011-07-29T00:00:00\",\"2011-08-01T00:00:00\",\"2011-08-02T00:00:00\",\"2011-08-03T00:00:00\",\"2011-08-04T00:00:00\",\"2011-08-05T00:00:00\",\"2011-08-08T00:00:00\",\"2011-08-09T00:00:00\",\"2011-08-10T00:00:00\",\"2011-08-11T00:00:00\",\"2011-08-12T00:00:00\",\"2011-08-15T00:00:00\",\"2011-08-16T00:00:00\",\"2011-08-17T00:00:00\",\"2011-08-18T00:00:00\",\"2011-08-19T00:00:00\",\"2011-08-22T00:00:00\",\"2011-08-23T00:00:00\",\"2011-08-24T00:00:00\",\"2011-08-25T00:00:00\",\"2011-08-26T00:00:00\",\"2011-08-29T00:00:00\",\"2011-08-30T00:00:00\",\"2011-08-31T00:00:00\",\"2011-09-01T00:00:00\",\"2011-09-02T00:00:00\",\"2011-09-05T00:00:00\",\"2011-09-06T00:00:00\",\"2011-09-08T00:00:00\",\"2011-09-09T00:00:00\",\"2011-09-12T00:00:00\",\"2011-09-13T00:00:00\",\"2011-09-14T00:00:00\",\"2011-09-15T00:00:00\",\"2011-09-16T00:00:00\",\"2011-09-19T00:00:00\",\"2011-09-20T00:00:00\",\"2011-09-21T00:00:00\",\"2011-09-22T00:00:00\",\"2011-09-23T00:00:00\",\"2011-09-26T00:00:00\",\"2011-09-27T00:00:00\",\"2011-09-28T00:00:00\",\"2011-09-29T00:00:00\",\"2011-09-30T00:00:00\",\"2011-10-03T00:00:00\",\"2011-10-04T00:00:00\",\"2011-10-05T00:00:00\",\"2011-10-06T00:00:00\",\"2011-10-07T00:00:00\",\"2011-10-10T00:00:00\",\"2011-10-11T00:00:00\",\"2011-10-13T00:00:00\",\"2011-10-14T00:00:00\",\"2011-10-17T00:00:00\",\"2011-10-18T00:00:00\",\"2011-10-19T00:00:00\",\"2011-10-20T00:00:00\",\"2011-10-21T00:00:00\",\"2011-10-24T00:00:00\",\"2011-10-25T00:00:00\",\"2011-10-26T00:00:00\",\"2011-10-27T00:00:00\",\"2011-10-28T00:00:00\",\"2011-10-31T00:00:00\",\"2011-11-01T00:00:00\",\"2011-11-03T00:00:00\",\"2011-11-04T00:00:00\",\"2011-11-07T00:00:00\",\"2011-11-08T00:00:00\",\"2011-11-09T00:00:00\",\"2011-11-10T00:00:00\",\"2011-11-11T00:00:00\",\"2011-11-14T00:00:00\",\"2011-11-16T00:00:00\",\"2011-11-17T00:00:00\",\"2011-11-18T00:00:00\",\"2011-11-21T00:00:00\",\"2011-11-22T00:00:00\",\"2011-11-23T00:00:00\",\"2011-11-24T00:00:00\",\"2011-11-25T00:00:00\",\"2011-11-28T00:00:00\",\"2011-11-29T00:00:00\",\"2011-11-30T00:00:00\",\"2011-12-01T00:00:00\",\"2011-12-02T00:00:00\",\"2011-12-05T00:00:00\",\"2011-12-06T00:00:00\",\"2011-12-07T00:00:00\",\"2011-12-08T00:00:00\",\"2011-12-09T00:00:00\",\"2011-12-12T00:00:00\",\"2011-12-13T00:00:00\",\"2011-12-14T00:00:00\",\"2011-12-15T00:00:00\",\"2011-12-16T00:00:00\",\"2011-12-19T00:00:00\",\"2011-12-20T00:00:00\",\"2011-12-21T00:00:00\",\"2011-12-22T00:00:00\",\"2011-12-23T00:00:00\",\"2011-12-26T00:00:00\",\"2011-12-27T00:00:00\",\"2011-12-28T00:00:00\",\"2011-12-29T00:00:00\",\"2012-01-03T00:00:00\",\"2012-01-04T00:00:00\",\"2012-01-05T00:00:00\",\"2012-01-06T00:00:00\",\"2012-01-09T00:00:00\",\"2012-01-10T00:00:00\",\"2012-01-11T00:00:00\",\"2012-01-12T00:00:00\",\"2012-01-13T00:00:00\",\"2012-01-16T00:00:00\",\"2012-01-17T00:00:00\",\"2012-01-18T00:00:00\",\"2012-01-19T00:00:00\",\"2012-01-20T00:00:00\",\"2012-01-23T00:00:00\",\"2012-01-24T00:00:00\",\"2012-01-26T00:00:00\",\"2012-01-27T00:00:00\",\"2012-01-30T00:00:00\",\"2012-01-31T00:00:00\",\"2012-02-01T00:00:00\",\"2012-02-02T00:00:00\",\"2012-02-03T00:00:00\",\"2012-02-06T00:00:00\",\"2012-02-07T00:00:00\",\"2012-02-08T00:00:00\",\"2012-02-09T00:00:00\",\"2012-02-10T00:00:00\",\"2012-02-13T00:00:00\",\"2012-02-14T00:00:00\",\"2012-02-15T00:00:00\",\"2012-02-16T00:00:00\",\"2012-02-17T00:00:00\",\"2012-02-23T00:00:00\",\"2012-02-24T00:00:00\",\"2012-02-27T00:00:00\",\"2012-02-28T00:00:00\",\"2012-02-29T00:00:00\",\"2012-03-01T00:00:00\",\"2012-03-02T00:00:00\",\"2012-03-05T00:00:00\",\"2012-03-06T00:00:00\",\"2012-03-07T00:00:00\",\"2012-03-08T00:00:00\",\"2012-03-09T00:00:00\",\"2012-03-12T00:00:00\",\"2012-03-13T00:00:00\",\"2012-03-14T00:00:00\",\"2012-03-15T00:00:00\",\"2012-03-16T00:00:00\",\"2012-03-19T00:00:00\",\"2012-03-20T00:00:00\",\"2012-03-21T00:00:00\",\"2012-03-22T00:00:00\",\"2012-03-23T00:00:00\",\"2012-03-26T00:00:00\",\"2012-03-27T00:00:00\",\"2012-03-28T00:00:00\",\"2012-03-29T00:00:00\",\"2012-03-30T00:00:00\",\"2012-04-02T00:00:00\",\"2012-04-03T00:00:00\",\"2012-04-04T00:00:00\",\"2012-04-05T00:00:00\",\"2012-04-09T00:00:00\",\"2012-04-10T00:00:00\",\"2012-04-11T00:00:00\",\"2012-04-12T00:00:00\",\"2012-04-13T00:00:00\",\"2012-04-16T00:00:00\",\"2012-04-17T00:00:00\",\"2012-04-18T00:00:00\",\"2012-04-19T00:00:00\",\"2012-04-20T00:00:00\",\"2012-04-23T00:00:00\",\"2012-04-24T00:00:00\",\"2012-04-25T00:00:00\",\"2012-04-26T00:00:00\",\"2012-04-27T00:00:00\",\"2012-04-30T00:00:00\",\"2012-05-02T00:00:00\",\"2012-05-03T00:00:00\",\"2012-05-04T00:00:00\",\"2012-05-07T00:00:00\",\"2012-05-08T00:00:00\",\"2012-05-09T00:00:00\",\"2012-05-10T00:00:00\",\"2012-05-11T00:00:00\",\"2012-05-14T00:00:00\",\"2012-05-15T00:00:00\",\"2012-05-16T00:00:00\",\"2012-05-17T00:00:00\",\"2012-05-18T00:00:00\",\"2012-05-21T00:00:00\",\"2012-05-22T00:00:00\",\"2012-05-23T00:00:00\",\"2012-05-24T00:00:00\",\"2012-05-25T00:00:00\",\"2012-05-28T00:00:00\",\"2012-05-29T00:00:00\",\"2012-05-30T00:00:00\",\"2012-05-31T00:00:00\",\"2012-06-01T00:00:00\",\"2012-06-04T00:00:00\",\"2012-06-05T00:00:00\",\"2012-06-06T00:00:00\",\"2012-06-08T00:00:00\",\"2012-06-11T00:00:00\",\"2012-06-12T00:00:00\",\"2012-06-13T00:00:00\",\"2012-06-14T00:00:00\",\"2012-06-15T00:00:00\",\"2012-06-18T00:00:00\",\"2012-06-19T00:00:00\",\"2012-06-20T00:00:00\",\"2012-06-21T00:00:00\",\"2012-06-22T00:00:00\",\"2012-06-25T00:00:00\",\"2012-06-26T00:00:00\",\"2012-06-27T00:00:00\",\"2012-06-28T00:00:00\",\"2012-06-29T00:00:00\",\"2012-07-02T00:00:00\",\"2012-07-03T00:00:00\",\"2012-07-04T00:00:00\",\"2012-07-05T00:00:00\",\"2012-07-06T00:00:00\",\"2012-07-10T00:00:00\",\"2012-07-11T00:00:00\",\"2012-07-12T00:00:00\",\"2012-07-13T00:00:00\",\"2012-07-16T00:00:00\",\"2012-07-17T00:00:00\",\"2012-07-18T00:00:00\",\"2012-07-19T00:00:00\",\"2012-07-20T00:00:00\",\"2012-07-23T00:00:00\",\"2012-07-24T00:00:00\",\"2012-07-25T00:00:00\",\"2012-07-26T00:00:00\",\"2012-07-27T00:00:00\",\"2012-07-30T00:00:00\",\"2012-07-31T00:00:00\",\"2012-08-01T00:00:00\",\"2012-08-02T00:00:00\",\"2012-08-03T00:00:00\",\"2012-08-06T00:00:00\",\"2012-08-07T00:00:00\",\"2012-08-08T00:00:00\",\"2012-08-09T00:00:00\",\"2012-08-10T00:00:00\",\"2012-08-13T00:00:00\",\"2012-08-14T00:00:00\",\"2012-08-15T00:00:00\",\"2012-08-16T00:00:00\",\"2012-08-17T00:00:00\",\"2012-08-20T00:00:00\",\"2012-08-21T00:00:00\",\"2012-08-22T00:00:00\",\"2012-08-23T00:00:00\",\"2012-08-24T00:00:00\",\"2012-08-27T00:00:00\",\"2012-08-28T00:00:00\",\"2012-08-29T00:00:00\",\"2012-08-30T00:00:00\",\"2012-08-31T00:00:00\",\"2012-09-03T00:00:00\",\"2012-09-04T00:00:00\",\"2012-09-05T00:00:00\",\"2012-09-06T00:00:00\",\"2012-09-10T00:00:00\",\"2012-09-11T00:00:00\",\"2012-09-12T00:00:00\",\"2012-09-13T00:00:00\",\"2012-09-14T00:00:00\",\"2012-09-17T00:00:00\",\"2012-09-18T00:00:00\",\"2012-09-19T00:00:00\",\"2012-09-20T00:00:00\",\"2012-09-21T00:00:00\",\"2012-09-24T00:00:00\",\"2012-09-25T00:00:00\",\"2012-09-26T00:00:00\",\"2012-09-27T00:00:00\",\"2012-09-28T00:00:00\",\"2012-10-01T00:00:00\",\"2012-10-02T00:00:00\",\"2012-10-03T00:00:00\",\"2012-10-04T00:00:00\",\"2012-10-05T00:00:00\",\"2012-10-08T00:00:00\",\"2012-10-09T00:00:00\",\"2012-10-10T00:00:00\",\"2012-10-11T00:00:00\",\"2012-10-15T00:00:00\",\"2012-10-16T00:00:00\",\"2012-10-17T00:00:00\",\"2012-10-18T00:00:00\",\"2012-10-19T00:00:00\",\"2012-10-22T00:00:00\",\"2012-10-23T00:00:00\",\"2012-10-24T00:00:00\",\"2012-10-25T00:00:00\",\"2012-10-26T00:00:00\",\"2012-10-29T00:00:00\",\"2012-10-30T00:00:00\",\"2012-10-31T00:00:00\",\"2012-11-01T00:00:00\",\"2012-11-05T00:00:00\",\"2012-11-06T00:00:00\",\"2012-11-07T00:00:00\",\"2012-11-08T00:00:00\",\"2012-11-09T00:00:00\",\"2012-11-12T00:00:00\",\"2012-11-13T00:00:00\",\"2012-11-14T00:00:00\",\"2012-11-16T00:00:00\",\"2012-11-19T00:00:00\",\"2012-11-21T00:00:00\",\"2012-11-22T00:00:00\",\"2012-11-23T00:00:00\",\"2012-11-26T00:00:00\",\"2012-11-27T00:00:00\",\"2012-11-28T00:00:00\",\"2012-11-29T00:00:00\",\"2012-11-30T00:00:00\",\"2012-12-03T00:00:00\",\"2012-12-04T00:00:00\",\"2012-12-05T00:00:00\",\"2012-12-06T00:00:00\",\"2012-12-07T00:00:00\",\"2012-12-10T00:00:00\",\"2012-12-11T00:00:00\",\"2012-12-12T00:00:00\",\"2012-12-13T00:00:00\",\"2012-12-14T00:00:00\",\"2012-12-17T00:00:00\",\"2012-12-18T00:00:00\",\"2012-12-19T00:00:00\",\"2012-12-20T00:00:00\",\"2012-12-21T00:00:00\",\"2012-12-26T00:00:00\",\"2012-12-27T00:00:00\",\"2012-12-28T00:00:00\",\"2013-01-02T00:00:00\",\"2013-01-03T00:00:00\",\"2013-01-04T00:00:00\",\"2013-01-07T00:00:00\",\"2013-01-08T00:00:00\",\"2013-01-09T00:00:00\",\"2013-01-10T00:00:00\",\"2013-01-11T00:00:00\",\"2013-01-14T00:00:00\",\"2013-01-15T00:00:00\",\"2013-01-16T00:00:00\",\"2013-01-17T00:00:00\",\"2013-01-18T00:00:00\",\"2013-01-21T00:00:00\",\"2013-01-22T00:00:00\",\"2013-01-23T00:00:00\",\"2013-01-24T00:00:00\",\"2013-01-28T00:00:00\",\"2013-01-29T00:00:00\",\"2013-01-30T00:00:00\",\"2013-01-31T00:00:00\",\"2013-02-01T00:00:00\",\"2013-02-04T00:00:00\",\"2013-02-05T00:00:00\",\"2013-02-06T00:00:00\",\"2013-02-07T00:00:00\",\"2013-02-08T00:00:00\",\"2013-02-13T00:00:00\",\"2013-02-14T00:00:00\",\"2013-02-15T00:00:00\",\"2013-02-18T00:00:00\",\"2013-02-19T00:00:00\",\"2013-02-20T00:00:00\",\"2013-02-21T00:00:00\",\"2013-02-22T00:00:00\",\"2013-02-25T00:00:00\",\"2013-02-26T00:00:00\",\"2013-02-27T00:00:00\",\"2013-02-28T00:00:00\",\"2013-03-01T00:00:00\",\"2013-03-04T00:00:00\",\"2013-03-05T00:00:00\",\"2013-03-06T00:00:00\",\"2013-03-07T00:00:00\",\"2013-03-08T00:00:00\",\"2013-03-11T00:00:00\",\"2013-03-12T00:00:00\",\"2013-03-13T00:00:00\",\"2013-03-14T00:00:00\",\"2013-03-15T00:00:00\",\"2013-03-18T00:00:00\",\"2013-03-19T00:00:00\",\"2013-03-20T00:00:00\",\"2013-03-21T00:00:00\",\"2013-03-22T00:00:00\",\"2013-03-25T00:00:00\",\"2013-03-26T00:00:00\",\"2013-03-27T00:00:00\",\"2013-03-28T00:00:00\",\"2013-04-01T00:00:00\",\"2013-04-02T00:00:00\",\"2013-04-03T00:00:00\",\"2013-04-04T00:00:00\",\"2013-04-05T00:00:00\",\"2013-04-08T00:00:00\",\"2013-04-09T00:00:00\",\"2013-04-10T00:00:00\",\"2013-04-11T00:00:00\",\"2013-04-12T00:00:00\",\"2013-04-15T00:00:00\",\"2013-04-16T00:00:00\",\"2013-04-17T00:00:00\",\"2013-04-18T00:00:00\",\"2013-04-19T00:00:00\",\"2013-04-22T00:00:00\",\"2013-04-23T00:00:00\",\"2013-04-24T00:00:00\",\"2013-04-25T00:00:00\",\"2013-04-26T00:00:00\",\"2013-04-29T00:00:00\",\"2013-04-30T00:00:00\",\"2013-05-02T00:00:00\",\"2013-05-03T00:00:00\",\"2013-05-06T00:00:00\",\"2013-05-07T00:00:00\",\"2013-05-08T00:00:00\",\"2013-05-09T00:00:00\",\"2013-05-10T00:00:00\",\"2013-05-13T00:00:00\",\"2013-05-14T00:00:00\",\"2013-05-15T00:00:00\",\"2013-05-16T00:00:00\",\"2013-05-17T00:00:00\",\"2013-05-20T00:00:00\",\"2013-05-21T00:00:00\",\"2013-05-22T00:00:00\",\"2013-05-23T00:00:00\",\"2013-05-24T00:00:00\",\"2013-05-27T00:00:00\",\"2013-05-28T00:00:00\",\"2013-05-29T00:00:00\",\"2013-05-31T00:00:00\",\"2013-06-03T00:00:00\",\"2013-06-04T00:00:00\",\"2013-06-05T00:00:00\",\"2013-06-06T00:00:00\",\"2013-06-07T00:00:00\",\"2013-06-10T00:00:00\",\"2013-06-11T00:00:00\",\"2013-06-12T00:00:00\",\"2013-06-13T00:00:00\",\"2013-06-14T00:00:00\",\"2013-06-17T00:00:00\",\"2013-06-18T00:00:00\",\"2013-06-19T00:00:00\",\"2013-06-20T00:00:00\",\"2013-06-21T00:00:00\",\"2013-06-24T00:00:00\",\"2013-06-25T00:00:00\",\"2013-06-26T00:00:00\",\"2013-06-27T00:00:00\",\"2013-06-28T00:00:00\",\"2013-07-01T00:00:00\",\"2013-07-02T00:00:00\",\"2013-07-03T00:00:00\",\"2013-07-04T00:00:00\",\"2013-07-05T00:00:00\",\"2013-07-08T00:00:00\",\"2013-07-10T00:00:00\",\"2013-07-11T00:00:00\",\"2013-07-12T00:00:00\",\"2013-07-15T00:00:00\",\"2013-07-16T00:00:00\",\"2013-07-17T00:00:00\",\"2013-07-18T00:00:00\",\"2013-07-19T00:00:00\",\"2013-07-22T00:00:00\",\"2013-07-23T00:00:00\",\"2013-07-24T00:00:00\",\"2013-07-25T00:00:00\",\"2013-07-26T00:00:00\",\"2013-07-29T00:00:00\",\"2013-07-30T00:00:00\",\"2013-07-31T00:00:00\",\"2013-08-01T00:00:00\",\"2013-08-02T00:00:00\",\"2013-08-05T00:00:00\",\"2013-08-06T00:00:00\",\"2013-08-07T00:00:00\",\"2013-08-08T00:00:00\",\"2013-08-09T00:00:00\",\"2013-08-12T00:00:00\",\"2013-08-13T00:00:00\",\"2013-08-14T00:00:00\",\"2013-08-15T00:00:00\",\"2013-08-16T00:00:00\",\"2013-08-19T00:00:00\",\"2013-08-20T00:00:00\",\"2013-08-21T00:00:00\",\"2013-08-22T00:00:00\",\"2013-08-23T00:00:00\",\"2013-08-26T00:00:00\",\"2013-08-27T00:00:00\",\"2013-08-28T00:00:00\",\"2013-08-29T00:00:00\",\"2013-08-30T00:00:00\",\"2013-09-02T00:00:00\",\"2013-09-03T00:00:00\",\"2013-09-04T00:00:00\",\"2013-09-05T00:00:00\",\"2013-09-06T00:00:00\",\"2013-09-09T00:00:00\",\"2013-09-10T00:00:00\",\"2013-09-11T00:00:00\",\"2013-09-12T00:00:00\",\"2013-09-13T00:00:00\",\"2013-09-16T00:00:00\",\"2013-09-17T00:00:00\",\"2013-09-18T00:00:00\",\"2013-09-19T00:00:00\",\"2013-09-20T00:00:00\",\"2013-09-23T00:00:00\",\"2013-09-24T00:00:00\",\"2013-09-25T00:00:00\",\"2013-09-26T00:00:00\",\"2013-09-27T00:00:00\",\"2013-09-30T00:00:00\",\"2013-10-01T00:00:00\",\"2013-10-02T00:00:00\",\"2013-10-03T00:00:00\",\"2013-10-04T00:00:00\",\"2013-10-07T00:00:00\",\"2013-10-08T00:00:00\",\"2013-10-09T00:00:00\",\"2013-10-10T00:00:00\",\"2013-10-11T00:00:00\",\"2013-10-14T00:00:00\",\"2013-10-15T00:00:00\",\"2013-10-16T00:00:00\",\"2013-10-17T00:00:00\",\"2013-10-18T00:00:00\",\"2013-10-21T00:00:00\",\"2013-10-22T00:00:00\",\"2013-10-23T00:00:00\",\"2013-10-24T00:00:00\",\"2013-10-25T00:00:00\",\"2013-10-28T00:00:00\",\"2013-10-29T00:00:00\",\"2013-10-30T00:00:00\",\"2013-10-31T00:00:00\",\"2013-11-01T00:00:00\",\"2013-11-04T00:00:00\",\"2013-11-05T00:00:00\",\"2013-11-06T00:00:00\",\"2013-11-07T00:00:00\",\"2013-11-08T00:00:00\",\"2013-11-11T00:00:00\",\"2013-11-12T00:00:00\",\"2013-11-13T00:00:00\",\"2013-11-14T00:00:00\",\"2013-11-18T00:00:00\",\"2013-11-19T00:00:00\",\"2013-11-21T00:00:00\",\"2013-11-22T00:00:00\",\"2013-11-25T00:00:00\",\"2013-11-26T00:00:00\",\"2013-11-27T00:00:00\",\"2013-11-28T00:00:00\",\"2013-11-29T00:00:00\",\"2013-12-02T00:00:00\",\"2013-12-03T00:00:00\",\"2013-12-04T00:00:00\",\"2013-12-05T00:00:00\",\"2013-12-06T00:00:00\",\"2013-12-09T00:00:00\",\"2013-12-10T00:00:00\",\"2013-12-11T00:00:00\",\"2013-12-12T00:00:00\",\"2013-12-13T00:00:00\",\"2013-12-16T00:00:00\",\"2013-12-17T00:00:00\",\"2013-12-18T00:00:00\",\"2013-12-19T00:00:00\",\"2013-12-20T00:00:00\",\"2013-12-23T00:00:00\",\"2013-12-26T00:00:00\",\"2013-12-27T00:00:00\",\"2013-12-30T00:00:00\",\"2014-01-02T00:00:00\",\"2014-01-03T00:00:00\",\"2014-01-06T00:00:00\",\"2014-01-07T00:00:00\",\"2014-01-08T00:00:00\",\"2014-01-09T00:00:00\",\"2014-01-10T00:00:00\",\"2014-01-13T00:00:00\",\"2014-01-14T00:00:00\",\"2014-01-15T00:00:00\",\"2014-01-16T00:00:00\",\"2014-01-17T00:00:00\",\"2014-01-20T00:00:00\",\"2014-01-21T00:00:00\",\"2014-01-22T00:00:00\",\"2014-01-23T00:00:00\",\"2014-01-24T00:00:00\",\"2014-01-27T00:00:00\",\"2014-01-28T00:00:00\",\"2014-01-29T00:00:00\",\"2014-01-30T00:00:00\",\"2014-01-31T00:00:00\",\"2014-02-03T00:00:00\",\"2014-02-04T00:00:00\",\"2014-02-05T00:00:00\",\"2014-02-06T00:00:00\",\"2014-02-07T00:00:00\",\"2014-02-10T00:00:00\",\"2014-02-11T00:00:00\",\"2014-02-12T00:00:00\",\"2014-02-13T00:00:00\",\"2014-02-14T00:00:00\",\"2014-02-17T00:00:00\",\"2014-02-18T00:00:00\",\"2014-02-19T00:00:00\",\"2014-02-20T00:00:00\",\"2014-02-21T00:00:00\",\"2014-02-24T00:00:00\",\"2014-02-25T00:00:00\",\"2014-02-26T00:00:00\",\"2014-02-27T00:00:00\",\"2014-02-28T00:00:00\",\"2014-03-05T00:00:00\",\"2014-03-06T00:00:00\",\"2014-03-07T00:00:00\",\"2014-03-10T00:00:00\",\"2014-03-11T00:00:00\",\"2014-03-12T00:00:00\",\"2014-03-13T00:00:00\",\"2014-03-14T00:00:00\",\"2014-03-17T00:00:00\",\"2014-03-18T00:00:00\",\"2014-03-19T00:00:00\",\"2014-03-20T00:00:00\",\"2014-03-21T00:00:00\",\"2014-03-24T00:00:00\",\"2014-03-25T00:00:00\",\"2014-03-26T00:00:00\",\"2014-03-27T00:00:00\",\"2014-03-28T00:00:00\",\"2014-03-31T00:00:00\",\"2014-04-01T00:00:00\",\"2014-04-02T00:00:00\",\"2014-04-03T00:00:00\",\"2014-04-04T00:00:00\",\"2014-04-07T00:00:00\",\"2014-04-08T00:00:00\",\"2014-04-09T00:00:00\",\"2014-04-10T00:00:00\",\"2014-04-11T00:00:00\",\"2014-04-14T00:00:00\",\"2014-04-15T00:00:00\",\"2014-04-16T00:00:00\",\"2014-04-17T00:00:00\",\"2014-04-22T00:00:00\",\"2014-04-23T00:00:00\",\"2014-04-24T00:00:00\",\"2014-04-25T00:00:00\",\"2014-04-28T00:00:00\",\"2014-04-29T00:00:00\",\"2014-04-30T00:00:00\",\"2014-05-02T00:00:00\",\"2014-05-05T00:00:00\",\"2014-05-06T00:00:00\",\"2014-05-07T00:00:00\",\"2014-05-08T00:00:00\",\"2014-05-09T00:00:00\",\"2014-05-12T00:00:00\",\"2014-05-13T00:00:00\",\"2014-05-14T00:00:00\",\"2014-05-15T00:00:00\",\"2014-05-16T00:00:00\",\"2014-05-19T00:00:00\",\"2014-05-20T00:00:00\",\"2014-05-21T00:00:00\",\"2014-05-22T00:00:00\",\"2014-05-23T00:00:00\",\"2014-05-26T00:00:00\",\"2014-05-27T00:00:00\",\"2014-05-28T00:00:00\",\"2014-05-29T00:00:00\",\"2014-05-30T00:00:00\",\"2014-06-02T00:00:00\",\"2014-06-03T00:00:00\",\"2014-06-04T00:00:00\",\"2014-06-05T00:00:00\",\"2014-06-06T00:00:00\",\"2014-06-09T00:00:00\",\"2014-06-10T00:00:00\",\"2014-06-11T00:00:00\",\"2014-06-13T00:00:00\",\"2014-06-16T00:00:00\",\"2014-06-17T00:00:00\",\"2014-06-18T00:00:00\",\"2014-06-20T00:00:00\",\"2014-06-23T00:00:00\",\"2014-06-24T00:00:00\",\"2014-06-25T00:00:00\",\"2014-06-26T00:00:00\",\"2014-06-27T00:00:00\",\"2014-06-30T00:00:00\",\"2014-07-01T00:00:00\",\"2014-07-02T00:00:00\",\"2014-07-03T00:00:00\",\"2014-07-04T00:00:00\",\"2014-07-07T00:00:00\",\"2014-07-08T00:00:00\",\"2014-07-10T00:00:00\",\"2014-07-11T00:00:00\",\"2014-07-14T00:00:00\",\"2014-07-15T00:00:00\",\"2014-07-16T00:00:00\",\"2014-07-17T00:00:00\",\"2014-07-18T00:00:00\",\"2014-07-21T00:00:00\",\"2014-07-22T00:00:00\",\"2014-07-23T00:00:00\",\"2014-07-24T00:00:00\",\"2014-07-25T00:00:00\",\"2014-07-28T00:00:00\",\"2014-07-29T00:00:00\",\"2014-07-30T00:00:00\",\"2014-07-31T00:00:00\",\"2014-08-01T00:00:00\",\"2014-08-04T00:00:00\",\"2014-08-05T00:00:00\",\"2014-08-06T00:00:00\",\"2014-08-07T00:00:00\",\"2014-08-08T00:00:00\",\"2014-08-11T00:00:00\",\"2014-08-12T00:00:00\",\"2014-08-13T00:00:00\",\"2014-08-14T00:00:00\",\"2014-08-15T00:00:00\",\"2014-08-18T00:00:00\",\"2014-08-19T00:00:00\",\"2014-08-20T00:00:00\",\"2014-08-21T00:00:00\",\"2014-08-22T00:00:00\",\"2014-08-25T00:00:00\",\"2014-08-26T00:00:00\",\"2014-08-27T00:00:00\",\"2014-08-28T00:00:00\",\"2014-08-29T00:00:00\",\"2014-09-01T00:00:00\",\"2014-09-02T00:00:00\",\"2014-09-03T00:00:00\",\"2014-09-04T00:00:00\",\"2014-09-05T00:00:00\",\"2014-09-08T00:00:00\",\"2014-09-09T00:00:00\",\"2014-09-10T00:00:00\",\"2014-09-11T00:00:00\",\"2014-09-12T00:00:00\",\"2014-09-15T00:00:00\",\"2014-09-16T00:00:00\",\"2014-09-17T00:00:00\",\"2014-09-18T00:00:00\",\"2014-09-19T00:00:00\",\"2014-09-22T00:00:00\",\"2014-09-23T00:00:00\",\"2014-09-24T00:00:00\",\"2014-09-25T00:00:00\",\"2014-09-26T00:00:00\",\"2014-09-29T00:00:00\",\"2014-09-30T00:00:00\",\"2014-10-01T00:00:00\",\"2014-10-02T00:00:00\",\"2014-10-03T00:00:00\",\"2014-10-06T00:00:00\",\"2014-10-07T00:00:00\",\"2014-10-08T00:00:00\",\"2014-10-09T00:00:00\",\"2014-10-10T00:00:00\",\"2014-10-13T00:00:00\",\"2014-10-14T00:00:00\",\"2014-10-15T00:00:00\",\"2014-10-16T00:00:00\",\"2014-10-17T00:00:00\",\"2014-10-20T00:00:00\",\"2014-10-21T00:00:00\",\"2014-10-22T00:00:00\",\"2014-10-23T00:00:00\",\"2014-10-24T00:00:00\",\"2014-10-27T00:00:00\",\"2014-10-28T00:00:00\",\"2014-10-29T00:00:00\",\"2014-10-30T00:00:00\",\"2014-10-31T00:00:00\",\"2014-11-03T00:00:00\",\"2014-11-04T00:00:00\",\"2014-11-05T00:00:00\",\"2014-11-06T00:00:00\",\"2014-11-07T00:00:00\",\"2014-11-10T00:00:00\",\"2014-11-11T00:00:00\",\"2014-11-12T00:00:00\",\"2014-11-13T00:00:00\",\"2014-11-14T00:00:00\",\"2014-11-17T00:00:00\",\"2014-11-18T00:00:00\",\"2014-11-19T00:00:00\",\"2014-11-21T00:00:00\",\"2014-11-24T00:00:00\",\"2014-11-25T00:00:00\",\"2014-11-26T00:00:00\",\"2014-11-27T00:00:00\",\"2014-11-28T00:00:00\",\"2014-12-01T00:00:00\",\"2014-12-02T00:00:00\",\"2014-12-03T00:00:00\",\"2014-12-04T00:00:00\",\"2014-12-05T00:00:00\",\"2014-12-08T00:00:00\",\"2014-12-09T00:00:00\",\"2014-12-10T00:00:00\",\"2014-12-11T00:00:00\",\"2014-12-12T00:00:00\",\"2014-12-15T00:00:00\",\"2014-12-16T00:00:00\",\"2014-12-17T00:00:00\",\"2014-12-18T00:00:00\",\"2014-12-19T00:00:00\",\"2014-12-22T00:00:00\",\"2014-12-23T00:00:00\",\"2014-12-26T00:00:00\",\"2014-12-29T00:00:00\",\"2014-12-30T00:00:00\",\"2015-01-02T00:00:00\",\"2015-01-05T00:00:00\",\"2015-01-06T00:00:00\",\"2015-01-07T00:00:00\",\"2015-01-08T00:00:00\",\"2015-01-09T00:00:00\",\"2015-01-12T00:00:00\",\"2015-01-13T00:00:00\",\"2015-01-14T00:00:00\",\"2015-01-15T00:00:00\",\"2015-01-16T00:00:00\",\"2015-01-19T00:00:00\",\"2015-01-20T00:00:00\",\"2015-01-21T00:00:00\",\"2015-01-22T00:00:00\",\"2015-01-23T00:00:00\",\"2015-01-26T00:00:00\",\"2015-01-27T00:00:00\",\"2015-01-28T00:00:00\",\"2015-01-29T00:00:00\",\"2015-01-30T00:00:00\",\"2015-02-02T00:00:00\",\"2015-02-03T00:00:00\",\"2015-02-04T00:00:00\",\"2015-02-05T00:00:00\",\"2015-02-06T00:00:00\",\"2015-02-09T00:00:00\",\"2015-02-10T00:00:00\",\"2015-02-11T00:00:00\",\"2015-02-12T00:00:00\",\"2015-02-13T00:00:00\",\"2015-02-18T00:00:00\",\"2015-02-19T00:00:00\",\"2015-02-20T00:00:00\",\"2015-02-23T00:00:00\",\"2015-02-24T00:00:00\",\"2015-02-25T00:00:00\",\"2015-02-26T00:00:00\",\"2015-02-27T00:00:00\",\"2015-03-02T00:00:00\",\"2015-03-03T00:00:00\",\"2015-03-04T00:00:00\",\"2015-03-05T00:00:00\",\"2015-03-06T00:00:00\",\"2015-03-09T00:00:00\",\"2015-03-10T00:00:00\",\"2015-03-11T00:00:00\",\"2015-03-12T00:00:00\",\"2015-03-13T00:00:00\",\"2015-03-16T00:00:00\",\"2015-03-17T00:00:00\",\"2015-03-18T00:00:00\",\"2015-03-19T00:00:00\",\"2015-03-20T00:00:00\",\"2015-03-23T00:00:00\",\"2015-03-24T00:00:00\",\"2015-03-25T00:00:00\",\"2015-03-26T00:00:00\",\"2015-03-27T00:00:00\",\"2015-03-30T00:00:00\",\"2015-03-31T00:00:00\",\"2015-04-01T00:00:00\",\"2015-04-02T00:00:00\",\"2015-04-06T00:00:00\",\"2015-04-07T00:00:00\",\"2015-04-08T00:00:00\",\"2015-04-09T00:00:00\",\"2015-04-10T00:00:00\",\"2015-04-13T00:00:00\",\"2015-04-14T00:00:00\",\"2015-04-15T00:00:00\",\"2015-04-16T00:00:00\",\"2015-04-17T00:00:00\",\"2015-04-20T00:00:00\",\"2015-04-22T00:00:00\",\"2015-04-23T00:00:00\",\"2015-04-24T00:00:00\",\"2015-04-27T00:00:00\",\"2015-04-28T00:00:00\",\"2015-04-29T00:00:00\",\"2015-04-30T00:00:00\",\"2015-05-04T00:00:00\",\"2015-05-05T00:00:00\",\"2015-05-06T00:00:00\",\"2015-05-07T00:00:00\",\"2015-05-08T00:00:00\",\"2015-05-11T00:00:00\",\"2015-05-12T00:00:00\",\"2015-05-13T00:00:00\",\"2015-05-14T00:00:00\",\"2015-05-15T00:00:00\",\"2015-05-18T00:00:00\",\"2015-05-19T00:00:00\",\"2015-05-20T00:00:00\",\"2015-05-21T00:00:00\",\"2015-05-22T00:00:00\",\"2015-05-25T00:00:00\",\"2015-05-26T00:00:00\",\"2015-05-27T00:00:00\",\"2015-05-28T00:00:00\",\"2015-05-29T00:00:00\",\"2015-06-01T00:00:00\",\"2015-06-02T00:00:00\",\"2015-06-03T00:00:00\",\"2015-06-05T00:00:00\",\"2015-06-08T00:00:00\",\"2015-06-09T00:00:00\",\"2015-06-10T00:00:00\",\"2015-06-11T00:00:00\",\"2015-06-12T00:00:00\",\"2015-06-15T00:00:00\",\"2015-06-16T00:00:00\",\"2015-06-17T00:00:00\",\"2015-06-18T00:00:00\",\"2015-06-19T00:00:00\",\"2015-06-22T00:00:00\",\"2015-06-23T00:00:00\",\"2015-06-24T00:00:00\",\"2015-06-25T00:00:00\",\"2015-06-26T00:00:00\",\"2015-06-29T00:00:00\",\"2015-06-30T00:00:00\",\"2015-07-01T00:00:00\",\"2015-07-02T00:00:00\",\"2015-07-03T00:00:00\",\"2015-07-06T00:00:00\",\"2015-07-07T00:00:00\",\"2015-07-08T00:00:00\",\"2015-07-10T00:00:00\",\"2015-07-13T00:00:00\",\"2015-07-14T00:00:00\",\"2015-07-15T00:00:00\",\"2015-07-16T00:00:00\",\"2015-07-17T00:00:00\",\"2015-07-20T00:00:00\",\"2015-07-21T00:00:00\",\"2015-07-22T00:00:00\",\"2015-07-23T00:00:00\",\"2015-07-24T00:00:00\",\"2015-07-27T00:00:00\",\"2015-07-28T00:00:00\",\"2015-07-29T00:00:00\",\"2015-07-30T00:00:00\",\"2015-07-31T00:00:00\",\"2015-08-03T00:00:00\",\"2015-08-04T00:00:00\",\"2015-08-05T00:00:00\",\"2015-08-06T00:00:00\",\"2015-08-07T00:00:00\",\"2015-08-10T00:00:00\",\"2015-08-11T00:00:00\",\"2015-08-12T00:00:00\",\"2015-08-13T00:00:00\",\"2015-08-14T00:00:00\",\"2015-08-17T00:00:00\",\"2015-08-18T00:00:00\",\"2015-08-19T00:00:00\",\"2015-08-20T00:00:00\",\"2015-08-21T00:00:00\",\"2015-08-24T00:00:00\",\"2015-08-25T00:00:00\",\"2015-08-26T00:00:00\",\"2015-08-27T00:00:00\",\"2015-08-28T00:00:00\",\"2015-08-31T00:00:00\",\"2015-09-01T00:00:00\",\"2015-09-02T00:00:00\",\"2015-09-03T00:00:00\",\"2015-09-04T00:00:00\",\"2015-09-08T00:00:00\",\"2015-09-09T00:00:00\",\"2015-09-10T00:00:00\",\"2015-09-11T00:00:00\",\"2015-09-14T00:00:00\",\"2015-09-15T00:00:00\",\"2015-09-16T00:00:00\",\"2015-09-17T00:00:00\",\"2015-09-18T00:00:00\",\"2015-09-21T00:00:00\",\"2015-09-22T00:00:00\",\"2015-09-23T00:00:00\",\"2015-09-24T00:00:00\",\"2015-09-25T00:00:00\",\"2015-09-28T00:00:00\",\"2015-09-29T00:00:00\",\"2015-09-30T00:00:00\",\"2015-10-01T00:00:00\",\"2015-10-02T00:00:00\",\"2015-10-05T00:00:00\",\"2015-10-06T00:00:00\",\"2015-10-07T00:00:00\",\"2015-10-08T00:00:00\",\"2015-10-09T00:00:00\",\"2015-10-13T00:00:00\",\"2015-10-14T00:00:00\",\"2015-10-15T00:00:00\",\"2015-10-16T00:00:00\",\"2015-10-19T00:00:00\",\"2015-10-20T00:00:00\",\"2015-10-21T00:00:00\",\"2015-10-22T00:00:00\",\"2015-10-23T00:00:00\",\"2015-10-26T00:00:00\",\"2015-10-27T00:00:00\",\"2015-10-28T00:00:00\",\"2015-10-29T00:00:00\",\"2015-10-30T00:00:00\",\"2015-11-03T00:00:00\",\"2015-11-04T00:00:00\",\"2015-11-05T00:00:00\",\"2015-11-06T00:00:00\",\"2015-11-09T00:00:00\",\"2015-11-10T00:00:00\",\"2015-11-11T00:00:00\",\"2015-11-12T00:00:00\",\"2015-11-13T00:00:00\",\"2015-11-16T00:00:00\",\"2015-11-17T00:00:00\",\"2015-11-18T00:00:00\",\"2015-11-19T00:00:00\",\"2015-11-23T00:00:00\",\"2015-11-24T00:00:00\",\"2015-11-25T00:00:00\",\"2015-11-26T00:00:00\",\"2015-11-27T00:00:00\",\"2015-11-30T00:00:00\",\"2015-12-01T00:00:00\",\"2015-12-02T00:00:00\",\"2015-12-03T00:00:00\",\"2015-12-04T00:00:00\",\"2015-12-07T00:00:00\",\"2015-12-08T00:00:00\",\"2015-12-09T00:00:00\",\"2015-12-10T00:00:00\",\"2015-12-11T00:00:00\",\"2015-12-14T00:00:00\",\"2015-12-15T00:00:00\",\"2015-12-16T00:00:00\",\"2015-12-17T00:00:00\",\"2015-12-18T00:00:00\",\"2015-12-21T00:00:00\",\"2015-12-22T00:00:00\",\"2015-12-23T00:00:00\",\"2015-12-28T00:00:00\",\"2015-12-29T00:00:00\",\"2015-12-30T00:00:00\",\"2016-01-04T00:00:00\",\"2016-01-05T00:00:00\",\"2016-01-06T00:00:00\",\"2016-01-07T00:00:00\",\"2016-01-08T00:00:00\",\"2016-01-11T00:00:00\",\"2016-01-12T00:00:00\",\"2016-01-13T00:00:00\",\"2016-01-14T00:00:00\",\"2016-01-15T00:00:00\",\"2016-01-18T00:00:00\",\"2016-01-19T00:00:00\",\"2016-01-20T00:00:00\",\"2016-01-21T00:00:00\",\"2016-01-22T00:00:00\",\"2016-01-26T00:00:00\",\"2016-01-27T00:00:00\",\"2016-01-28T00:00:00\",\"2016-01-29T00:00:00\",\"2016-02-01T00:00:00\",\"2016-02-02T00:00:00\",\"2016-02-03T00:00:00\",\"2016-02-04T00:00:00\",\"2016-02-05T00:00:00\",\"2016-02-10T00:00:00\",\"2016-02-11T00:00:00\",\"2016-02-12T00:00:00\",\"2016-02-15T00:00:00\",\"2016-02-16T00:00:00\",\"2016-02-17T00:00:00\",\"2016-02-18T00:00:00\",\"2016-02-19T00:00:00\",\"2016-02-22T00:00:00\",\"2016-02-23T00:00:00\",\"2016-02-24T00:00:00\",\"2016-02-25T00:00:00\",\"2016-02-26T00:00:00\",\"2016-02-29T00:00:00\",\"2016-03-01T00:00:00\",\"2016-03-02T00:00:00\",\"2016-03-03T00:00:00\",\"2016-03-04T00:00:00\",\"2016-03-07T00:00:00\",\"2016-03-08T00:00:00\",\"2016-03-09T00:00:00\",\"2016-03-10T00:00:00\",\"2016-03-11T00:00:00\",\"2016-03-14T00:00:00\",\"2016-03-15T00:00:00\",\"2016-03-16T00:00:00\",\"2016-03-17T00:00:00\",\"2016-03-18T00:00:00\",\"2016-03-21T00:00:00\",\"2016-03-22T00:00:00\",\"2016-03-23T00:00:00\",\"2016-03-24T00:00:00\",\"2016-03-28T00:00:00\",\"2016-03-29T00:00:00\",\"2016-03-30T00:00:00\",\"2016-03-31T00:00:00\",\"2016-04-01T00:00:00\",\"2016-04-04T00:00:00\",\"2016-04-05T00:00:00\",\"2016-04-06T00:00:00\",\"2016-04-07T00:00:00\",\"2016-04-08T00:00:00\",\"2016-04-11T00:00:00\",\"2016-04-12T00:00:00\",\"2016-04-13T00:00:00\",\"2016-04-14T00:00:00\",\"2016-04-15T00:00:00\",\"2016-04-18T00:00:00\",\"2016-04-19T00:00:00\",\"2016-04-20T00:00:00\",\"2016-04-22T00:00:00\",\"2016-04-25T00:00:00\",\"2016-04-26T00:00:00\",\"2016-04-27T00:00:00\",\"2016-04-28T00:00:00\",\"2016-04-29T00:00:00\",\"2016-05-02T00:00:00\",\"2016-05-03T00:00:00\",\"2016-05-04T00:00:00\",\"2016-05-05T00:00:00\",\"2016-05-06T00:00:00\",\"2016-05-09T00:00:00\",\"2016-05-10T00:00:00\",\"2016-05-11T00:00:00\",\"2016-05-12T00:00:00\",\"2016-05-13T00:00:00\",\"2016-05-16T00:00:00\",\"2016-05-17T00:00:00\",\"2016-05-18T00:00:00\",\"2016-05-19T00:00:00\",\"2016-05-20T00:00:00\",\"2016-05-23T00:00:00\",\"2016-05-24T00:00:00\",\"2016-05-25T00:00:00\",\"2016-05-27T00:00:00\",\"2016-05-30T00:00:00\",\"2016-05-31T00:00:00\",\"2016-06-01T00:00:00\",\"2016-06-02T00:00:00\",\"2016-06-03T00:00:00\",\"2016-06-06T00:00:00\",\"2016-06-07T00:00:00\",\"2016-06-08T00:00:00\",\"2016-06-09T00:00:00\",\"2016-06-10T00:00:00\",\"2016-06-13T00:00:00\",\"2016-06-14T00:00:00\",\"2016-06-15T00:00:00\",\"2016-06-16T00:00:00\",\"2016-06-17T00:00:00\",\"2016-06-20T00:00:00\",\"2016-06-21T00:00:00\",\"2016-06-22T00:00:00\",\"2016-06-23T00:00:00\",\"2016-06-24T00:00:00\",\"2016-06-27T00:00:00\",\"2016-06-28T00:00:00\",\"2016-06-29T00:00:00\",\"2016-06-30T00:00:00\",\"2016-07-01T00:00:00\",\"2016-07-04T00:00:00\",\"2016-07-05T00:00:00\",\"2016-07-06T00:00:00\",\"2016-07-07T00:00:00\",\"2016-07-08T00:00:00\",\"2016-07-11T00:00:00\",\"2016-07-12T00:00:00\",\"2016-07-13T00:00:00\",\"2016-07-14T00:00:00\",\"2016-07-15T00:00:00\",\"2016-07-18T00:00:00\",\"2016-07-19T00:00:00\",\"2016-07-20T00:00:00\",\"2016-07-21T00:00:00\",\"2016-07-22T00:00:00\",\"2016-07-25T00:00:00\",\"2016-07-26T00:00:00\",\"2016-07-27T00:00:00\",\"2016-07-28T00:00:00\",\"2016-07-29T00:00:00\",\"2016-08-01T00:00:00\",\"2016-08-02T00:00:00\",\"2016-08-03T00:00:00\",\"2016-08-04T00:00:00\",\"2016-08-05T00:00:00\",\"2016-08-08T00:00:00\",\"2016-08-09T00:00:00\",\"2016-08-10T00:00:00\",\"2016-08-11T00:00:00\",\"2016-08-12T00:00:00\",\"2016-08-15T00:00:00\",\"2016-08-16T00:00:00\",\"2016-08-17T00:00:00\",\"2016-08-18T00:00:00\",\"2016-08-19T00:00:00\",\"2016-08-22T00:00:00\",\"2016-08-23T00:00:00\",\"2016-08-24T00:00:00\",\"2016-08-25T00:00:00\",\"2016-08-26T00:00:00\",\"2016-08-29T00:00:00\",\"2016-08-30T00:00:00\",\"2016-08-31T00:00:00\",\"2016-09-01T00:00:00\",\"2016-09-02T00:00:00\",\"2016-09-05T00:00:00\",\"2016-09-06T00:00:00\",\"2016-09-08T00:00:00\",\"2016-09-09T00:00:00\",\"2016-09-12T00:00:00\",\"2016-09-13T00:00:00\",\"2016-09-14T00:00:00\",\"2016-09-15T00:00:00\",\"2016-09-16T00:00:00\",\"2016-09-19T00:00:00\",\"2016-09-20T00:00:00\",\"2016-09-21T00:00:00\",\"2016-09-22T00:00:00\",\"2016-09-23T00:00:00\",\"2016-09-26T00:00:00\",\"2016-09-27T00:00:00\",\"2016-09-28T00:00:00\",\"2016-09-29T00:00:00\",\"2016-09-30T00:00:00\",\"2016-10-03T00:00:00\",\"2016-10-04T00:00:00\",\"2016-10-05T00:00:00\",\"2016-10-06T00:00:00\",\"2016-10-07T00:00:00\",\"2016-10-10T00:00:00\",\"2016-10-11T00:00:00\",\"2016-10-13T00:00:00\",\"2016-10-14T00:00:00\",\"2016-10-17T00:00:00\",\"2016-10-18T00:00:00\",\"2016-10-19T00:00:00\",\"2016-10-20T00:00:00\",\"2016-10-21T00:00:00\",\"2016-10-24T00:00:00\",\"2016-10-25T00:00:00\",\"2016-10-26T00:00:00\",\"2016-10-27T00:00:00\",\"2016-10-28T00:00:00\",\"2016-10-31T00:00:00\",\"2016-11-01T00:00:00\",\"2016-11-03T00:00:00\",\"2016-11-04T00:00:00\",\"2016-11-07T00:00:00\",\"2016-11-08T00:00:00\",\"2016-11-09T00:00:00\",\"2016-11-10T00:00:00\",\"2016-11-11T00:00:00\",\"2016-11-14T00:00:00\",\"2016-11-16T00:00:00\",\"2016-11-17T00:00:00\",\"2016-11-18T00:00:00\",\"2016-11-21T00:00:00\",\"2016-11-22T00:00:00\",\"2016-11-23T00:00:00\",\"2016-11-24T00:00:00\",\"2016-11-25T00:00:00\",\"2016-11-28T00:00:00\",\"2016-11-29T00:00:00\",\"2016-11-30T00:00:00\",\"2016-12-01T00:00:00\",\"2016-12-02T00:00:00\",\"2016-12-05T00:00:00\",\"2016-12-06T00:00:00\",\"2016-12-07T00:00:00\",\"2016-12-08T00:00:00\",\"2016-12-09T00:00:00\",\"2016-12-12T00:00:00\",\"2016-12-13T00:00:00\",\"2016-12-14T00:00:00\",\"2016-12-15T00:00:00\",\"2016-12-16T00:00:00\",\"2016-12-19T00:00:00\",\"2016-12-20T00:00:00\",\"2016-12-21T00:00:00\",\"2016-12-22T00:00:00\",\"2016-12-23T00:00:00\",\"2016-12-26T00:00:00\",\"2016-12-27T00:00:00\",\"2016-12-28T00:00:00\",\"2016-12-29T00:00:00\",\"2017-01-02T00:00:00\",\"2017-01-03T00:00:00\",\"2017-01-04T00:00:00\",\"2017-01-05T00:00:00\",\"2017-01-06T00:00:00\",\"2017-01-09T00:00:00\",\"2017-01-10T00:00:00\",\"2017-01-11T00:00:00\",\"2017-01-12T00:00:00\",\"2017-01-13T00:00:00\",\"2017-01-16T00:00:00\",\"2017-01-17T00:00:00\",\"2017-01-18T00:00:00\",\"2017-01-19T00:00:00\",\"2017-01-20T00:00:00\",\"2017-01-23T00:00:00\",\"2017-01-24T00:00:00\",\"2017-01-26T00:00:00\",\"2017-01-27T00:00:00\",\"2017-01-30T00:00:00\",\"2017-01-31T00:00:00\",\"2017-02-01T00:00:00\",\"2017-02-02T00:00:00\",\"2017-02-03T00:00:00\",\"2017-02-06T00:00:00\",\"2017-02-07T00:00:00\",\"2017-02-08T00:00:00\",\"2017-02-09T00:00:00\",\"2017-02-10T00:00:00\",\"2017-02-13T00:00:00\",\"2017-02-14T00:00:00\",\"2017-02-15T00:00:00\",\"2017-02-16T00:00:00\",\"2017-02-17T00:00:00\",\"2017-02-20T00:00:00\",\"2017-02-21T00:00:00\",\"2017-02-22T00:00:00\",\"2017-02-23T00:00:00\",\"2017-02-24T00:00:00\",\"2017-03-01T00:00:00\",\"2017-03-02T00:00:00\",\"2017-03-03T00:00:00\",\"2017-03-06T00:00:00\",\"2017-03-07T00:00:00\",\"2017-03-08T00:00:00\",\"2017-03-09T00:00:00\",\"2017-03-10T00:00:00\",\"2017-03-13T00:00:00\",\"2017-03-14T00:00:00\",\"2017-03-15T00:00:00\",\"2017-03-16T00:00:00\",\"2017-03-17T00:00:00\",\"2017-03-20T00:00:00\",\"2017-03-21T00:00:00\",\"2017-03-22T00:00:00\",\"2017-03-23T00:00:00\",\"2017-03-24T00:00:00\",\"2017-03-27T00:00:00\",\"2017-03-28T00:00:00\",\"2017-03-29T00:00:00\",\"2017-03-30T00:00:00\",\"2017-03-31T00:00:00\",\"2017-04-03T00:00:00\",\"2017-04-04T00:00:00\",\"2017-04-05T00:00:00\",\"2017-04-06T00:00:00\",\"2017-04-07T00:00:00\",\"2017-04-10T00:00:00\",\"2017-04-11T00:00:00\",\"2017-04-12T00:00:00\",\"2017-04-13T00:00:00\",\"2017-04-17T00:00:00\",\"2017-04-18T00:00:00\",\"2017-04-19T00:00:00\",\"2017-04-20T00:00:00\",\"2017-04-24T00:00:00\",\"2017-04-25T00:00:00\",\"2017-04-26T00:00:00\",\"2017-04-27T00:00:00\",\"2017-04-28T00:00:00\",\"2017-05-02T00:00:00\",\"2017-05-03T00:00:00\",\"2017-05-04T00:00:00\",\"2017-05-05T00:00:00\",\"2017-05-08T00:00:00\",\"2017-05-09T00:00:00\",\"2017-05-10T00:00:00\",\"2017-05-11T00:00:00\",\"2017-05-12T00:00:00\",\"2017-05-15T00:00:00\",\"2017-05-16T00:00:00\",\"2017-05-17T00:00:00\",\"2017-05-18T00:00:00\",\"2017-05-19T00:00:00\",\"2017-05-22T00:00:00\",\"2017-05-23T00:00:00\",\"2017-05-24T00:00:00\",\"2017-05-25T00:00:00\",\"2017-05-26T00:00:00\",\"2017-05-29T00:00:00\",\"2017-05-30T00:00:00\",\"2017-05-31T00:00:00\",\"2017-06-01T00:00:00\",\"2017-06-02T00:00:00\",\"2017-06-05T00:00:00\",\"2017-06-06T00:00:00\",\"2017-06-07T00:00:00\",\"2017-06-08T00:00:00\",\"2017-06-09T00:00:00\",\"2017-06-12T00:00:00\",\"2017-06-13T00:00:00\",\"2017-06-14T00:00:00\",\"2017-06-16T00:00:00\",\"2017-06-19T00:00:00\",\"2017-06-20T00:00:00\",\"2017-06-21T00:00:00\",\"2017-06-22T00:00:00\",\"2017-06-23T00:00:00\",\"2017-06-26T00:00:00\",\"2017-06-27T00:00:00\",\"2017-06-28T00:00:00\",\"2017-06-29T00:00:00\",\"2017-06-30T00:00:00\",\"2017-07-03T00:00:00\",\"2017-07-04T00:00:00\",\"2017-07-05T00:00:00\",\"2017-07-06T00:00:00\",\"2017-07-07T00:00:00\",\"2017-07-10T00:00:00\",\"2017-07-11T00:00:00\",\"2017-07-12T00:00:00\",\"2017-07-13T00:00:00\",\"2017-07-14T00:00:00\",\"2017-07-17T00:00:00\",\"2017-07-18T00:00:00\",\"2017-07-19T00:00:00\",\"2017-07-20T00:00:00\",\"2017-07-21T00:00:00\",\"2017-07-24T00:00:00\",\"2017-07-25T00:00:00\",\"2017-07-26T00:00:00\",\"2017-07-27T00:00:00\",\"2017-07-28T00:00:00\",\"2017-07-31T00:00:00\",\"2017-08-01T00:00:00\",\"2017-08-02T00:00:00\",\"2017-08-03T00:00:00\",\"2017-08-04T00:00:00\",\"2017-08-07T00:00:00\",\"2017-08-08T00:00:00\",\"2017-08-09T00:00:00\",\"2017-08-10T00:00:00\",\"2017-08-11T00:00:00\",\"2017-08-14T00:00:00\",\"2017-08-15T00:00:00\",\"2017-08-16T00:00:00\",\"2017-08-17T00:00:00\",\"2017-08-18T00:00:00\",\"2017-08-21T00:00:00\",\"2017-08-22T00:00:00\",\"2017-08-23T00:00:00\",\"2017-08-24T00:00:00\",\"2017-08-25T00:00:00\",\"2017-08-28T00:00:00\",\"2017-08-29T00:00:00\",\"2017-08-30T00:00:00\",\"2017-08-31T00:00:00\",\"2017-09-01T00:00:00\",\"2017-09-04T00:00:00\",\"2017-09-05T00:00:00\",\"2017-09-06T00:00:00\",\"2017-09-08T00:00:00\",\"2017-09-11T00:00:00\",\"2017-09-12T00:00:00\",\"2017-09-13T00:00:00\",\"2017-09-14T00:00:00\",\"2017-09-15T00:00:00\",\"2017-09-18T00:00:00\",\"2017-09-19T00:00:00\",\"2017-09-20T00:00:00\",\"2017-09-21T00:00:00\",\"2017-09-22T00:00:00\",\"2017-09-25T00:00:00\",\"2017-09-26T00:00:00\",\"2017-09-27T00:00:00\",\"2017-09-28T00:00:00\",\"2017-09-29T00:00:00\",\"2017-10-02T00:00:00\",\"2017-10-03T00:00:00\",\"2017-10-04T00:00:00\",\"2017-10-05T00:00:00\",\"2017-10-06T00:00:00\",\"2017-10-09T00:00:00\",\"2017-10-10T00:00:00\",\"2017-10-11T00:00:00\",\"2017-10-13T00:00:00\",\"2017-10-16T00:00:00\",\"2017-10-17T00:00:00\",\"2017-10-18T00:00:00\",\"2017-10-19T00:00:00\",\"2017-10-20T00:00:00\",\"2017-10-23T00:00:00\",\"2017-10-24T00:00:00\",\"2017-10-25T00:00:00\",\"2017-10-26T00:00:00\",\"2017-10-27T00:00:00\",\"2017-10-30T00:00:00\",\"2017-10-31T00:00:00\",\"2017-11-01T00:00:00\",\"2017-11-03T00:00:00\",\"2017-11-06T00:00:00\",\"2017-11-07T00:00:00\",\"2017-11-08T00:00:00\",\"2017-11-09T00:00:00\",\"2017-11-10T00:00:00\",\"2017-11-13T00:00:00\",\"2017-11-14T00:00:00\",\"2017-11-16T00:00:00\",\"2017-11-17T00:00:00\",\"2017-11-21T00:00:00\",\"2017-11-22T00:00:00\",\"2017-11-23T00:00:00\",\"2017-11-24T00:00:00\",\"2017-11-27T00:00:00\",\"2017-11-28T00:00:00\",\"2017-11-29T00:00:00\",\"2017-11-30T00:00:00\",\"2017-12-01T00:00:00\",\"2017-12-04T00:00:00\",\"2017-12-05T00:00:00\",\"2017-12-06T00:00:00\",\"2017-12-07T00:00:00\",\"2017-12-08T00:00:00\",\"2017-12-11T00:00:00\",\"2017-12-12T00:00:00\",\"2017-12-13T00:00:00\",\"2017-12-14T00:00:00\",\"2017-12-15T00:00:00\",\"2017-12-18T00:00:00\",\"2017-12-19T00:00:00\",\"2017-12-20T00:00:00\",\"2017-12-21T00:00:00\",\"2017-12-22T00:00:00\",\"2017-12-26T00:00:00\",\"2017-12-27T00:00:00\",\"2017-12-28T00:00:00\",\"2017-12-29T00:00:00\",\"2018-01-02T00:00:00\",\"2018-01-03T00:00:00\",\"2018-01-04T00:00:00\",\"2018-01-05T00:00:00\",\"2018-01-08T00:00:00\",\"2018-01-09T00:00:00\",\"2018-01-10T00:00:00\",\"2018-01-11T00:00:00\",\"2018-01-12T00:00:00\",\"2018-01-15T00:00:00\",\"2018-01-16T00:00:00\",\"2018-01-17T00:00:00\",\"2018-01-18T00:00:00\",\"2018-01-19T00:00:00\",\"2018-01-22T00:00:00\",\"2018-01-23T00:00:00\",\"2018-01-24T00:00:00\",\"2018-01-26T00:00:00\",\"2018-01-29T00:00:00\",\"2018-01-30T00:00:00\",\"2018-01-31T00:00:00\",\"2018-02-01T00:00:00\",\"2018-02-02T00:00:00\",\"2018-02-05T00:00:00\",\"2018-02-06T00:00:00\",\"2018-02-07T00:00:00\",\"2018-02-08T00:00:00\",\"2018-02-09T00:00:00\",\"2018-02-14T00:00:00\",\"2018-02-15T00:00:00\",\"2018-02-16T00:00:00\",\"2018-02-19T00:00:00\",\"2018-02-20T00:00:00\",\"2018-02-21T00:00:00\",\"2018-02-22T00:00:00\",\"2018-02-23T00:00:00\",\"2018-02-26T00:00:00\",\"2018-02-27T00:00:00\",\"2018-02-28T00:00:00\",\"2018-03-01T00:00:00\",\"2018-03-02T00:00:00\",\"2018-03-05T00:00:00\",\"2018-03-06T00:00:00\",\"2018-03-07T00:00:00\",\"2018-03-08T00:00:00\",\"2018-03-09T00:00:00\",\"2018-03-12T00:00:00\",\"2018-03-13T00:00:00\",\"2018-03-14T00:00:00\",\"2018-03-15T00:00:00\",\"2018-03-16T00:00:00\",\"2018-03-19T00:00:00\",\"2018-03-20T00:00:00\",\"2018-03-21T00:00:00\",\"2018-03-22T00:00:00\",\"2018-03-23T00:00:00\",\"2018-03-26T00:00:00\",\"2018-03-27T00:00:00\",\"2018-03-28T00:00:00\",\"2018-03-29T00:00:00\",\"2018-04-02T00:00:00\",\"2018-04-03T00:00:00\",\"2018-04-04T00:00:00\",\"2018-04-05T00:00:00\",\"2018-04-06T00:00:00\",\"2018-04-09T00:00:00\",\"2018-04-10T00:00:00\",\"2018-04-11T00:00:00\",\"2018-04-12T00:00:00\",\"2018-04-13T00:00:00\",\"2018-04-16T00:00:00\",\"2018-04-17T00:00:00\",\"2018-04-18T00:00:00\",\"2018-04-19T00:00:00\",\"2018-04-20T00:00:00\",\"2018-04-23T00:00:00\",\"2018-04-24T00:00:00\",\"2018-04-25T00:00:00\",\"2018-04-26T00:00:00\",\"2018-04-27T00:00:00\",\"2018-04-30T00:00:00\",\"2018-05-02T00:00:00\",\"2018-05-03T00:00:00\",\"2018-05-04T00:00:00\",\"2018-05-07T00:00:00\",\"2018-05-08T00:00:00\",\"2018-05-09T00:00:00\",\"2018-05-10T00:00:00\",\"2018-05-11T00:00:00\",\"2018-05-14T00:00:00\",\"2018-05-15T00:00:00\",\"2018-05-16T00:00:00\",\"2018-05-17T00:00:00\",\"2018-05-18T00:00:00\",\"2018-05-21T00:00:00\",\"2018-05-22T00:00:00\",\"2018-05-23T00:00:00\",\"2018-05-24T00:00:00\",\"2018-05-25T00:00:00\",\"2018-05-28T00:00:00\",\"2018-05-29T00:00:00\",\"2018-05-30T00:00:00\",\"2018-06-01T00:00:00\",\"2018-06-04T00:00:00\",\"2018-06-05T00:00:00\",\"2018-06-06T00:00:00\",\"2018-06-07T00:00:00\",\"2018-06-08T00:00:00\",\"2018-06-11T00:00:00\",\"2018-06-12T00:00:00\",\"2018-06-13T00:00:00\",\"2018-06-14T00:00:00\",\"2018-06-15T00:00:00\",\"2018-06-18T00:00:00\",\"2018-06-19T00:00:00\",\"2018-06-20T00:00:00\",\"2018-06-21T00:00:00\",\"2018-06-22T00:00:00\",\"2018-06-25T00:00:00\",\"2018-06-26T00:00:00\",\"2018-06-27T00:00:00\",\"2018-06-28T00:00:00\",\"2018-06-29T00:00:00\",\"2018-07-02T00:00:00\",\"2018-07-03T00:00:00\",\"2018-07-04T00:00:00\",\"2018-07-05T00:00:00\",\"2018-07-06T00:00:00\",\"2018-07-10T00:00:00\",\"2018-07-11T00:00:00\",\"2018-07-12T00:00:00\",\"2018-07-13T00:00:00\",\"2018-07-16T00:00:00\",\"2018-07-17T00:00:00\",\"2018-07-18T00:00:00\",\"2018-07-19T00:00:00\",\"2018-07-20T00:00:00\",\"2018-07-23T00:00:00\",\"2018-07-24T00:00:00\",\"2018-07-25T00:00:00\",\"2018-07-26T00:00:00\",\"2018-07-27T00:00:00\",\"2018-07-30T00:00:00\",\"2018-07-31T00:00:00\",\"2018-08-01T00:00:00\",\"2018-08-02T00:00:00\",\"2018-08-03T00:00:00\",\"2018-08-06T00:00:00\",\"2018-08-07T00:00:00\",\"2018-08-08T00:00:00\",\"2018-08-09T00:00:00\",\"2018-08-10T00:00:00\",\"2018-08-13T00:00:00\",\"2018-08-14T00:00:00\",\"2018-08-15T00:00:00\",\"2018-08-16T00:00:00\",\"2018-08-17T00:00:00\",\"2018-08-20T00:00:00\",\"2018-08-21T00:00:00\",\"2018-08-22T00:00:00\",\"2018-08-23T00:00:00\",\"2018-08-24T00:00:00\",\"2018-08-27T00:00:00\",\"2018-08-28T00:00:00\",\"2018-08-29T00:00:00\",\"2018-08-30T00:00:00\",\"2018-08-31T00:00:00\",\"2018-09-03T00:00:00\",\"2018-09-04T00:00:00\",\"2018-09-05T00:00:00\",\"2018-09-06T00:00:00\",\"2018-09-10T00:00:00\",\"2018-09-11T00:00:00\",\"2018-09-12T00:00:00\",\"2018-09-13T00:00:00\",\"2018-09-14T00:00:00\",\"2018-09-17T00:00:00\",\"2018-09-18T00:00:00\",\"2018-09-19T00:00:00\",\"2018-09-20T00:00:00\",\"2018-09-21T00:00:00\",\"2018-09-24T00:00:00\",\"2018-09-25T00:00:00\",\"2018-09-26T00:00:00\",\"2018-09-27T00:00:00\",\"2018-09-28T00:00:00\",\"2018-10-01T00:00:00\",\"2018-10-02T00:00:00\",\"2018-10-03T00:00:00\",\"2018-10-04T00:00:00\",\"2018-10-05T00:00:00\",\"2018-10-08T00:00:00\",\"2018-10-09T00:00:00\",\"2018-10-10T00:00:00\",\"2018-10-11T00:00:00\",\"2018-10-15T00:00:00\",\"2018-10-16T00:00:00\",\"2018-10-17T00:00:00\",\"2018-10-18T00:00:00\",\"2018-10-19T00:00:00\",\"2018-10-22T00:00:00\",\"2018-10-23T00:00:00\",\"2018-10-24T00:00:00\",\"2018-10-25T00:00:00\",\"2018-10-26T00:00:00\",\"2018-10-29T00:00:00\",\"2018-10-30T00:00:00\",\"2018-10-31T00:00:00\",\"2018-11-01T00:00:00\",\"2018-11-05T00:00:00\",\"2018-11-06T00:00:00\",\"2018-11-07T00:00:00\",\"2018-11-08T00:00:00\",\"2018-11-09T00:00:00\",\"2018-11-12T00:00:00\",\"2018-11-13T00:00:00\",\"2018-11-14T00:00:00\",\"2018-11-16T00:00:00\",\"2018-11-19T00:00:00\",\"2018-11-21T00:00:00\",\"2018-11-22T00:00:00\",\"2018-11-23T00:00:00\",\"2018-11-26T00:00:00\",\"2018-11-27T00:00:00\",\"2018-11-28T00:00:00\",\"2018-11-29T00:00:00\",\"2018-11-30T00:00:00\",\"2018-12-03T00:00:00\",\"2018-12-04T00:00:00\",\"2018-12-05T00:00:00\",\"2018-12-06T00:00:00\",\"2018-12-07T00:00:00\",\"2018-12-10T00:00:00\",\"2018-12-11T00:00:00\",\"2018-12-12T00:00:00\",\"2018-12-13T00:00:00\",\"2018-12-14T00:00:00\",\"2018-12-17T00:00:00\",\"2018-12-18T00:00:00\",\"2018-12-19T00:00:00\",\"2018-12-20T00:00:00\",\"2018-12-21T00:00:00\",\"2018-12-26T00:00:00\",\"2018-12-27T00:00:00\",\"2018-12-28T00:00:00\",\"2019-01-02T00:00:00\",\"2019-01-03T00:00:00\",\"2019-01-04T00:00:00\",\"2019-01-07T00:00:00\",\"2019-01-08T00:00:00\",\"2019-01-09T00:00:00\",\"2019-01-10T00:00:00\",\"2019-01-11T00:00:00\",\"2019-01-14T00:00:00\",\"2019-01-15T00:00:00\",\"2019-01-16T00:00:00\",\"2019-01-17T00:00:00\",\"2019-01-18T00:00:00\",\"2019-01-21T00:00:00\",\"2019-01-22T00:00:00\",\"2019-01-23T00:00:00\",\"2019-01-24T00:00:00\",\"2019-01-28T00:00:00\",\"2019-01-29T00:00:00\",\"2019-01-30T00:00:00\",\"2019-01-31T00:00:00\",\"2019-02-01T00:00:00\",\"2019-02-04T00:00:00\",\"2019-02-05T00:00:00\",\"2019-02-06T00:00:00\",\"2019-02-07T00:00:00\",\"2019-02-08T00:00:00\",\"2019-02-11T00:00:00\",\"2019-02-12T00:00:00\",\"2019-02-13T00:00:00\",\"2019-02-14T00:00:00\",\"2019-02-15T00:00:00\",\"2019-02-18T00:00:00\",\"2019-02-19T00:00:00\",\"2019-02-20T00:00:00\",\"2019-02-21T00:00:00\",\"2019-02-22T00:00:00\",\"2019-02-25T00:00:00\",\"2019-02-26T00:00:00\",\"2019-02-27T00:00:00\",\"2019-02-28T00:00:00\",\"2019-03-01T00:00:00\",\"2019-03-06T00:00:00\",\"2019-03-07T00:00:00\",\"2019-03-08T00:00:00\",\"2019-03-11T00:00:00\",\"2019-03-12T00:00:00\",\"2019-03-13T00:00:00\",\"2019-03-14T00:00:00\",\"2019-03-15T00:00:00\",\"2019-03-18T00:00:00\",\"2019-03-19T00:00:00\",\"2019-03-20T00:00:00\",\"2019-03-21T00:00:00\",\"2019-03-22T00:00:00\",\"2019-03-25T00:00:00\",\"2019-03-26T00:00:00\",\"2019-03-27T00:00:00\",\"2019-03-28T00:00:00\",\"2019-03-29T00:00:00\",\"2019-04-01T00:00:00\",\"2019-04-02T00:00:00\",\"2019-04-03T00:00:00\",\"2019-04-04T00:00:00\",\"2019-04-05T00:00:00\",\"2019-04-08T00:00:00\",\"2019-04-09T00:00:00\",\"2019-04-10T00:00:00\",\"2019-04-11T00:00:00\",\"2019-04-12T00:00:00\",\"2019-04-15T00:00:00\",\"2019-04-16T00:00:00\",\"2019-04-17T00:00:00\",\"2019-04-18T00:00:00\",\"2019-04-22T00:00:00\",\"2019-04-23T00:00:00\",\"2019-04-24T00:00:00\",\"2019-04-25T00:00:00\",\"2019-04-26T00:00:00\",\"2019-04-29T00:00:00\",\"2019-04-30T00:00:00\",\"2019-05-02T00:00:00\",\"2019-05-03T00:00:00\",\"2019-05-06T00:00:00\",\"2019-05-07T00:00:00\",\"2019-05-08T00:00:00\",\"2019-05-09T00:00:00\",\"2019-05-10T00:00:00\",\"2019-05-13T00:00:00\",\"2019-05-14T00:00:00\",\"2019-05-15T00:00:00\",\"2019-05-16T00:00:00\",\"2019-05-17T00:00:00\",\"2019-05-20T00:00:00\",\"2019-05-21T00:00:00\",\"2019-05-22T00:00:00\",\"2019-05-23T00:00:00\",\"2019-05-24T00:00:00\",\"2019-05-27T00:00:00\",\"2019-05-28T00:00:00\",\"2019-05-29T00:00:00\",\"2019-05-30T00:00:00\",\"2019-05-31T00:00:00\",\"2019-06-03T00:00:00\",\"2019-06-04T00:00:00\",\"2019-06-05T00:00:00\",\"2019-06-06T00:00:00\",\"2019-06-07T00:00:00\",\"2019-06-10T00:00:00\",\"2019-06-11T00:00:00\",\"2019-06-12T00:00:00\",\"2019-06-13T00:00:00\",\"2019-06-14T00:00:00\",\"2019-06-17T00:00:00\",\"2019-06-18T00:00:00\",\"2019-06-19T00:00:00\",\"2019-06-21T00:00:00\",\"2019-06-24T00:00:00\",\"2019-06-25T00:00:00\",\"2019-06-26T00:00:00\",\"2019-06-27T00:00:00\",\"2019-06-28T00:00:00\",\"2019-07-01T00:00:00\",\"2019-07-02T00:00:00\",\"2019-07-03T00:00:00\",\"2019-07-04T00:00:00\",\"2019-07-05T00:00:00\",\"2019-07-08T00:00:00\",\"2019-07-10T00:00:00\",\"2019-07-11T00:00:00\",\"2019-07-12T00:00:00\",\"2019-07-15T00:00:00\",\"2019-07-16T00:00:00\",\"2019-07-17T00:00:00\",\"2019-07-18T00:00:00\",\"2019-07-19T00:00:00\",\"2019-07-22T00:00:00\",\"2019-07-23T00:00:00\",\"2019-07-24T00:00:00\",\"2019-07-25T00:00:00\",\"2019-07-26T00:00:00\",\"2019-07-29T00:00:00\",\"2019-07-30T00:00:00\",\"2019-07-31T00:00:00\",\"2019-08-01T00:00:00\",\"2019-08-02T00:00:00\",\"2019-08-05T00:00:00\",\"2019-08-06T00:00:00\",\"2019-08-07T00:00:00\",\"2019-08-08T00:00:00\",\"2019-08-09T00:00:00\",\"2019-08-12T00:00:00\",\"2019-08-13T00:00:00\",\"2019-08-14T00:00:00\",\"2019-08-15T00:00:00\",\"2019-08-16T00:00:00\",\"2019-08-19T00:00:00\",\"2019-08-20T00:00:00\",\"2019-08-21T00:00:00\",\"2019-08-22T00:00:00\",\"2019-08-23T00:00:00\",\"2019-08-26T00:00:00\",\"2019-08-27T00:00:00\",\"2019-08-28T00:00:00\",\"2019-08-29T00:00:00\",\"2019-08-30T00:00:00\",\"2019-09-02T00:00:00\",\"2019-09-03T00:00:00\",\"2019-09-04T00:00:00\",\"2019-09-05T00:00:00\",\"2019-09-06T00:00:00\",\"2019-09-09T00:00:00\",\"2019-09-10T00:00:00\",\"2019-09-11T00:00:00\",\"2019-09-12T00:00:00\",\"2019-09-13T00:00:00\",\"2019-09-16T00:00:00\",\"2019-09-17T00:00:00\",\"2019-09-18T00:00:00\",\"2019-09-19T00:00:00\",\"2019-09-20T00:00:00\",\"2019-09-23T00:00:00\",\"2019-09-24T00:00:00\",\"2019-09-25T00:00:00\",\"2019-09-26T00:00:00\",\"2019-09-27T00:00:00\",\"2019-09-30T00:00:00\",\"2019-10-01T00:00:00\",\"2019-10-02T00:00:00\",\"2019-10-03T00:00:00\",\"2019-10-04T00:00:00\",\"2019-10-07T00:00:00\",\"2019-10-08T00:00:00\",\"2019-10-09T00:00:00\",\"2019-10-10T00:00:00\",\"2019-10-11T00:00:00\",\"2019-10-14T00:00:00\",\"2019-10-15T00:00:00\",\"2019-10-16T00:00:00\",\"2019-10-17T00:00:00\",\"2019-10-18T00:00:00\",\"2019-10-21T00:00:00\",\"2019-10-22T00:00:00\",\"2019-10-23T00:00:00\",\"2019-10-24T00:00:00\",\"2019-10-25T00:00:00\",\"2019-10-28T00:00:00\",\"2019-10-29T00:00:00\",\"2019-10-30T00:00:00\",\"2019-10-31T00:00:00\",\"2019-11-01T00:00:00\",\"2019-11-04T00:00:00\",\"2019-11-05T00:00:00\",\"2019-11-06T00:00:00\",\"2019-11-07T00:00:00\",\"2019-11-08T00:00:00\",\"2019-11-11T00:00:00\",\"2019-11-12T00:00:00\",\"2019-11-13T00:00:00\",\"2019-11-14T00:00:00\",\"2019-11-18T00:00:00\",\"2019-11-19T00:00:00\",\"2019-11-21T00:00:00\",\"2019-11-22T00:00:00\",\"2019-11-25T00:00:00\",\"2019-11-26T00:00:00\",\"2019-11-27T00:00:00\",\"2019-11-28T00:00:00\",\"2019-11-29T00:00:00\",\"2019-12-02T00:00:00\",\"2019-12-03T00:00:00\",\"2019-12-04T00:00:00\",\"2019-12-05T00:00:00\",\"2019-12-06T00:00:00\",\"2019-12-09T00:00:00\",\"2019-12-10T00:00:00\",\"2019-12-11T00:00:00\",\"2019-12-12T00:00:00\",\"2019-12-13T00:00:00\",\"2019-12-16T00:00:00\",\"2019-12-17T00:00:00\",\"2019-12-18T00:00:00\",\"2019-12-19T00:00:00\",\"2019-12-20T00:00:00\",\"2019-12-23T00:00:00\",\"2019-12-26T00:00:00\",\"2019-12-27T00:00:00\",\"2019-12-30T00:00:00\",\"2020-01-02T00:00:00\",\"2020-01-03T00:00:00\",\"2020-01-06T00:00:00\",\"2020-01-07T00:00:00\",\"2020-01-08T00:00:00\",\"2020-01-09T00:00:00\",\"2020-01-10T00:00:00\",\"2020-01-13T00:00:00\",\"2020-01-14T00:00:00\",\"2020-01-15T00:00:00\",\"2020-01-16T00:00:00\",\"2020-01-17T00:00:00\",\"2020-01-20T00:00:00\",\"2020-01-21T00:00:00\",\"2020-01-22T00:00:00\",\"2020-01-23T00:00:00\",\"2020-01-24T00:00:00\",\"2020-01-27T00:00:00\",\"2020-01-28T00:00:00\",\"2020-01-29T00:00:00\",\"2020-01-30T00:00:00\",\"2020-01-31T00:00:00\",\"2020-02-03T00:00:00\",\"2020-02-04T00:00:00\",\"2020-02-05T00:00:00\",\"2020-02-06T00:00:00\",\"2020-02-07T00:00:00\",\"2020-02-10T00:00:00\",\"2020-02-11T00:00:00\",\"2020-02-12T00:00:00\",\"2020-02-13T00:00:00\",\"2020-02-14T00:00:00\",\"2020-02-17T00:00:00\",\"2020-02-18T00:00:00\",\"2020-02-19T00:00:00\",\"2020-02-20T00:00:00\",\"2020-02-21T00:00:00\",\"2020-02-26T00:00:00\",\"2020-02-27T00:00:00\",\"2020-02-28T00:00:00\",\"2020-03-02T00:00:00\",\"2020-03-03T00:00:00\",\"2020-03-04T00:00:00\",\"2020-03-05T00:00:00\",\"2020-03-06T00:00:00\",\"2020-03-09T00:00:00\",\"2020-03-10T00:00:00\",\"2020-03-11T00:00:00\",\"2020-03-12T00:00:00\",\"2020-03-13T00:00:00\",\"2020-03-16T00:00:00\",\"2020-03-17T00:00:00\",\"2020-03-18T00:00:00\",\"2020-03-19T00:00:00\",\"2020-03-20T00:00:00\",\"2020-03-23T00:00:00\",\"2020-03-24T00:00:00\",\"2020-03-25T00:00:00\",\"2020-03-26T00:00:00\",\"2020-03-27T00:00:00\",\"2020-03-30T00:00:00\",\"2020-03-31T00:00:00\",\"2020-04-01T00:00:00\",\"2020-04-02T00:00:00\",\"2020-04-03T00:00:00\",\"2020-04-06T00:00:00\",\"2020-04-07T00:00:00\",\"2020-04-08T00:00:00\",\"2020-04-09T00:00:00\",\"2020-04-13T00:00:00\",\"2020-04-14T00:00:00\",\"2020-04-15T00:00:00\",\"2020-04-16T00:00:00\",\"2020-04-17T00:00:00\",\"2020-04-20T00:00:00\",\"2020-04-22T00:00:00\",\"2020-04-23T00:00:00\",\"2020-04-24T00:00:00\",\"2020-04-27T00:00:00\",\"2020-04-28T00:00:00\",\"2020-04-29T00:00:00\",\"2020-04-30T00:00:00\",\"2020-05-04T00:00:00\",\"2020-05-05T00:00:00\",\"2020-05-06T00:00:00\",\"2020-05-07T00:00:00\",\"2020-05-08T00:00:00\",\"2020-05-11T00:00:00\",\"2020-05-12T00:00:00\",\"2020-05-13T00:00:00\",\"2020-05-14T00:00:00\",\"2020-05-15T00:00:00\",\"2020-05-18T00:00:00\",\"2020-05-19T00:00:00\",\"2020-05-20T00:00:00\",\"2020-05-21T00:00:00\",\"2020-05-22T00:00:00\",\"2020-05-25T00:00:00\",\"2020-05-26T00:00:00\",\"2020-05-27T00:00:00\",\"2020-05-28T00:00:00\",\"2020-05-29T00:00:00\",\"2020-06-01T00:00:00\",\"2020-06-02T00:00:00\",\"2020-06-03T00:00:00\",\"2020-06-04T00:00:00\",\"2020-06-05T00:00:00\",\"2020-06-08T00:00:00\",\"2020-06-09T00:00:00\",\"2020-06-10T00:00:00\",\"2020-06-12T00:00:00\",\"2020-06-15T00:00:00\",\"2020-06-16T00:00:00\",\"2020-06-17T00:00:00\",\"2020-06-18T00:00:00\",\"2020-06-19T00:00:00\",\"2020-06-22T00:00:00\",\"2020-06-23T00:00:00\",\"2020-06-24T00:00:00\",\"2020-06-25T00:00:00\",\"2020-06-26T00:00:00\",\"2020-06-29T00:00:00\",\"2020-06-30T00:00:00\",\"2020-07-01T00:00:00\",\"2020-07-02T00:00:00\",\"2020-07-03T00:00:00\",\"2020-07-06T00:00:00\",\"2020-07-07T00:00:00\",\"2020-07-08T00:00:00\",\"2020-07-09T00:00:00\",\"2020-07-10T00:00:00\",\"2020-07-13T00:00:00\",\"2020-07-14T00:00:00\",\"2020-07-15T00:00:00\",\"2020-07-16T00:00:00\",\"2020-07-17T00:00:00\",\"2020-07-20T00:00:00\",\"2020-07-21T00:00:00\",\"2020-07-22T00:00:00\",\"2020-07-23T00:00:00\",\"2020-07-24T00:00:00\",\"2020-07-27T00:00:00\",\"2020-07-28T00:00:00\",\"2020-07-29T00:00:00\",\"2020-07-30T00:00:00\",\"2020-07-31T00:00:00\",\"2020-08-03T00:00:00\",\"2020-08-04T00:00:00\",\"2020-08-05T00:00:00\",\"2020-08-06T00:00:00\",\"2020-08-07T00:00:00\",\"2020-08-10T00:00:00\",\"2020-08-11T00:00:00\",\"2020-08-12T00:00:00\",\"2020-08-13T00:00:00\",\"2020-08-14T00:00:00\",\"2020-08-17T00:00:00\",\"2020-08-18T00:00:00\",\"2020-08-19T00:00:00\",\"2020-08-20T00:00:00\",\"2020-08-21T00:00:00\",\"2020-08-24T00:00:00\",\"2020-08-25T00:00:00\",\"2020-08-26T00:00:00\",\"2020-08-27T00:00:00\",\"2020-08-28T00:00:00\",\"2020-08-31T00:00:00\",\"2020-09-01T00:00:00\",\"2020-09-02T00:00:00\",\"2020-09-03T00:00:00\",\"2020-09-04T00:00:00\",\"2020-09-08T00:00:00\",\"2020-09-09T00:00:00\",\"2020-09-10T00:00:00\",\"2020-09-11T00:00:00\",\"2020-09-14T00:00:00\",\"2020-09-15T00:00:00\",\"2020-09-16T00:00:00\",\"2020-09-17T00:00:00\",\"2020-09-18T00:00:00\",\"2020-09-21T00:00:00\",\"2020-09-22T00:00:00\",\"2020-09-23T00:00:00\",\"2020-09-24T00:00:00\",\"2020-09-25T00:00:00\",\"2020-09-28T00:00:00\",\"2020-09-29T00:00:00\",\"2020-09-30T00:00:00\",\"2020-10-01T00:00:00\",\"2020-10-02T00:00:00\",\"2020-10-05T00:00:00\",\"2020-10-06T00:00:00\",\"2020-10-07T00:00:00\",\"2020-10-08T00:00:00\",\"2020-10-09T00:00:00\",\"2020-10-13T00:00:00\",\"2020-10-14T00:00:00\",\"2020-10-15T00:00:00\",\"2020-10-16T00:00:00\",\"2020-10-19T00:00:00\",\"2020-10-20T00:00:00\",\"2020-10-21T00:00:00\",\"2020-10-22T00:00:00\",\"2020-10-23T00:00:00\",\"2020-10-26T00:00:00\",\"2020-10-27T00:00:00\",\"2020-10-28T00:00:00\",\"2020-10-29T00:00:00\",\"2020-10-30T00:00:00\",\"2020-11-03T00:00:00\",\"2020-11-04T00:00:00\",\"2020-11-05T00:00:00\",\"2020-11-06T00:00:00\",\"2020-11-09T00:00:00\",\"2020-11-10T00:00:00\",\"2020-11-11T00:00:00\",\"2020-11-12T00:00:00\",\"2020-11-13T00:00:00\",\"2020-11-16T00:00:00\",\"2020-11-17T00:00:00\",\"2020-11-18T00:00:00\",\"2020-11-19T00:00:00\",\"2020-11-23T00:00:00\",\"2020-11-24T00:00:00\",\"2020-11-25T00:00:00\",\"2020-11-26T00:00:00\",\"2020-11-27T00:00:00\",\"2020-11-30T00:00:00\",\"2020-12-01T00:00:00\",\"2020-12-02T00:00:00\",\"2020-12-03T00:00:00\",\"2020-12-04T00:00:00\",\"2020-12-07T00:00:00\",\"2020-12-08T00:00:00\",\"2020-12-09T00:00:00\",\"2020-12-10T00:00:00\",\"2020-12-11T00:00:00\",\"2020-12-14T00:00:00\",\"2020-12-15T00:00:00\",\"2020-12-16T00:00:00\",\"2020-12-17T00:00:00\",\"2020-12-18T00:00:00\",\"2020-12-21T00:00:00\",\"2020-12-22T00:00:00\",\"2020-12-23T00:00:00\",\"2020-12-28T00:00:00\",\"2020-12-29T00:00:00\",\"2020-12-30T00:00:00\",\"2021-01-04T00:00:00\",\"2021-01-05T00:00:00\",\"2021-01-06T00:00:00\",\"2021-01-07T00:00:00\",\"2021-01-08T00:00:00\",\"2021-01-11T00:00:00\",\"2021-01-12T00:00:00\",\"2021-01-13T00:00:00\",\"2021-01-14T00:00:00\",\"2021-01-15T00:00:00\",\"2021-01-18T00:00:00\",\"2021-01-19T00:00:00\",\"2021-01-20T00:00:00\",\"2021-01-21T00:00:00\",\"2021-01-22T00:00:00\",\"2021-01-26T00:00:00\",\"2021-01-27T00:00:00\",\"2021-01-28T00:00:00\",\"2021-01-29T00:00:00\",\"2021-02-01T00:00:00\",\"2021-02-02T00:00:00\",\"2021-02-03T00:00:00\",\"2021-02-04T00:00:00\",\"2021-02-05T00:00:00\",\"2021-02-08T00:00:00\",\"2021-02-09T00:00:00\",\"2021-02-10T00:00:00\",\"2021-02-11T00:00:00\",\"2021-02-12T00:00:00\",\"2021-02-17T00:00:00\",\"2021-02-18T00:00:00\",\"2021-02-19T00:00:00\",\"2021-02-22T00:00:00\",\"2021-02-23T00:00:00\",\"2021-02-24T00:00:00\",\"2021-02-25T00:00:00\",\"2021-02-26T00:00:00\",\"2021-03-01T00:00:00\",\"2021-03-02T00:00:00\",\"2021-03-03T00:00:00\",\"2021-03-04T00:00:00\",\"2021-03-05T00:00:00\",\"2021-03-08T00:00:00\",\"2021-03-09T00:00:00\",\"2021-03-10T00:00:00\",\"2021-03-11T00:00:00\",\"2021-03-12T00:00:00\",\"2021-03-15T00:00:00\",\"2021-03-16T00:00:00\",\"2021-03-17T00:00:00\",\"2021-03-18T00:00:00\",\"2021-03-19T00:00:00\",\"2021-03-22T00:00:00\",\"2021-03-23T00:00:00\",\"2021-03-24T00:00:00\",\"2021-03-25T00:00:00\",\"2021-03-26T00:00:00\",\"2021-03-29T00:00:00\",\"2021-03-30T00:00:00\",\"2021-03-31T00:00:00\",\"2021-04-01T00:00:00\",\"2021-04-05T00:00:00\",\"2021-04-06T00:00:00\",\"2021-04-07T00:00:00\",\"2021-04-08T00:00:00\",\"2021-04-09T00:00:00\",\"2021-04-12T00:00:00\",\"2021-04-13T00:00:00\",\"2021-04-14T00:00:00\",\"2021-04-15T00:00:00\",\"2021-04-16T00:00:00\",\"2021-04-19T00:00:00\",\"2021-04-20T00:00:00\",\"2021-04-22T00:00:00\",\"2021-04-23T00:00:00\",\"2021-04-26T00:00:00\",\"2021-04-27T00:00:00\",\"2021-04-28T00:00:00\",\"2021-04-29T00:00:00\",\"2021-04-30T00:00:00\",\"2021-05-03T00:00:00\",\"2021-05-04T00:00:00\",\"2021-05-05T00:00:00\",\"2021-05-06T00:00:00\",\"2021-05-07T00:00:00\",\"2021-05-10T00:00:00\",\"2021-05-11T00:00:00\",\"2021-05-12T00:00:00\",\"2021-05-13T00:00:00\",\"2021-05-14T00:00:00\",\"2021-05-17T00:00:00\",\"2021-05-18T00:00:00\",\"2021-05-19T00:00:00\",\"2021-05-20T00:00:00\",\"2021-05-21T00:00:00\",\"2021-05-24T00:00:00\",\"2021-05-25T00:00:00\",\"2021-05-26T00:00:00\",\"2021-05-27T00:00:00\",\"2021-05-28T00:00:00\",\"2021-05-31T00:00:00\",\"2021-06-01T00:00:00\",\"2021-06-02T00:00:00\",\"2021-06-04T00:00:00\",\"2021-06-07T00:00:00\",\"2021-06-08T00:00:00\",\"2021-06-09T00:00:00\",\"2021-06-10T00:00:00\",\"2021-06-11T00:00:00\",\"2021-06-14T00:00:00\",\"2021-06-15T00:00:00\",\"2021-06-16T00:00:00\",\"2021-06-17T00:00:00\",\"2021-06-18T00:00:00\",\"2021-06-21T00:00:00\",\"2021-06-22T00:00:00\",\"2021-06-23T00:00:00\",\"2021-06-24T00:00:00\",\"2021-06-25T00:00:00\",\"2021-06-28T00:00:00\",\"2021-06-29T00:00:00\",\"2021-06-30T00:00:00\",\"2021-07-01T00:00:00\",\"2021-07-02T00:00:00\",\"2021-07-05T00:00:00\",\"2021-07-06T00:00:00\",\"2021-07-07T00:00:00\",\"2021-07-08T00:00:00\",\"2021-07-12T00:00:00\",\"2021-07-13T00:00:00\",\"2021-07-14T00:00:00\",\"2021-07-15T00:00:00\",\"2021-07-16T00:00:00\",\"2021-07-19T00:00:00\",\"2021-07-20T00:00:00\",\"2021-07-21T00:00:00\",\"2021-07-22T00:00:00\",\"2021-07-23T00:00:00\",\"2021-07-26T00:00:00\",\"2021-07-27T00:00:00\",\"2021-07-28T00:00:00\",\"2021-07-29T00:00:00\",\"2021-07-30T00:00:00\",\"2021-08-02T00:00:00\",\"2021-08-03T00:00:00\",\"2021-08-04T00:00:00\",\"2021-08-05T00:00:00\",\"2021-08-06T00:00:00\",\"2021-08-09T00:00:00\",\"2021-08-10T00:00:00\",\"2021-08-11T00:00:00\",\"2021-08-12T00:00:00\",\"2021-08-13T00:00:00\",\"2021-08-16T00:00:00\",\"2021-08-17T00:00:00\",\"2021-08-18T00:00:00\",\"2021-08-19T00:00:00\",\"2021-08-20T00:00:00\",\"2021-08-23T00:00:00\",\"2021-08-24T00:00:00\",\"2021-08-25T00:00:00\",\"2021-08-26T00:00:00\",\"2021-08-27T00:00:00\",\"2021-08-30T00:00:00\",\"2021-08-31T00:00:00\",\"2021-09-01T00:00:00\",\"2021-09-02T00:00:00\",\"2021-09-03T00:00:00\",\"2021-09-06T00:00:00\",\"2021-09-08T00:00:00\",\"2021-09-09T00:00:00\",\"2021-09-10T00:00:00\",\"2021-09-13T00:00:00\",\"2021-09-14T00:00:00\",\"2021-09-15T00:00:00\",\"2021-09-16T00:00:00\",\"2021-09-17T00:00:00\",\"2021-09-20T00:00:00\",\"2021-09-21T00:00:00\",\"2021-09-22T00:00:00\",\"2021-09-23T00:00:00\",\"2021-09-24T00:00:00\",\"2021-09-27T00:00:00\",\"2021-09-28T00:00:00\",\"2021-09-29T00:00:00\",\"2021-09-30T00:00:00\",\"2021-10-01T00:00:00\",\"2021-10-04T00:00:00\",\"2021-10-05T00:00:00\",\"2021-10-06T00:00:00\",\"2021-10-07T00:00:00\",\"2021-10-08T00:00:00\",\"2021-10-11T00:00:00\",\"2021-10-13T00:00:00\",\"2021-10-14T00:00:00\",\"2021-10-15T00:00:00\",\"2021-10-18T00:00:00\",\"2021-10-19T00:00:00\",\"2021-10-20T00:00:00\",\"2021-10-21T00:00:00\",\"2021-10-22T00:00:00\",\"2021-10-25T00:00:00\",\"2021-10-26T00:00:00\",\"2021-10-27T00:00:00\",\"2021-10-28T00:00:00\",\"2021-10-29T00:00:00\",\"2021-11-01T00:00:00\",\"2021-11-03T00:00:00\",\"2021-11-04T00:00:00\",\"2021-11-05T00:00:00\",\"2021-11-08T00:00:00\",\"2021-11-09T00:00:00\",\"2021-11-10T00:00:00\",\"2021-11-11T00:00:00\",\"2021-11-12T00:00:00\",\"2021-11-16T00:00:00\",\"2021-11-17T00:00:00\",\"2021-11-18T00:00:00\",\"2021-11-19T00:00:00\",\"2021-11-22T00:00:00\",\"2021-11-23T00:00:00\",\"2021-11-24T00:00:00\",\"2021-11-25T00:00:00\",\"2021-11-26T00:00:00\",\"2021-11-29T00:00:00\",\"2021-11-30T00:00:00\",\"2021-12-01T00:00:00\",\"2021-12-02T00:00:00\",\"2021-12-03T00:00:00\",\"2021-12-06T00:00:00\",\"2021-12-07T00:00:00\",\"2021-12-08T00:00:00\",\"2021-12-09T00:00:00\",\"2021-12-10T00:00:00\",\"2021-12-13T00:00:00\",\"2021-12-14T00:00:00\",\"2021-12-15T00:00:00\",\"2021-12-16T00:00:00\",\"2021-12-17T00:00:00\",\"2021-12-20T00:00:00\",\"2021-12-21T00:00:00\",\"2021-12-22T00:00:00\",\"2021-12-23T00:00:00\",\"2021-12-27T00:00:00\",\"2021-12-28T00:00:00\",\"2021-12-29T00:00:00\",\"2021-12-30T00:00:00\"],\"xaxis\":\"x\",\"y\":[-0.021,-0.01,-0.041,0.014,-0.019,0.008,0.008,0.01,-0.004,-0.007,0.003,-0.006,0.022,0.003,0.014,0.011,-0.006,-0.019,0.011,0.013,0.004,0.004,0.006,0.001,-0.017,0.007,-0.014,-0.008,0.028,0.018,-0.001,-0.002,0.005,0.008,-0.009,0.004,-0.069,0.017,-0.009,-0.027,-0.029,0.048,-0.013,0.019,0.015,0.003,-0.034,0.013,-0.0,-0.013,0.023,0.014,0.028,-0.005,0.002,0.002,-0.01,-0.016,0.019,0.01,-0.005,0.015,0.006,0.002,0.004,0.007,-0.005,0.009,0.012,0.021,-0.003,-0.001,0.001,0.013,-0.005,-0.002,0.012,-0.012,0.003,-0.006,0.01,0.015,0.008,-0.006,-0.0,0.02,-0.021,0.013,-0.008,0.0,0.024,-0.002,0.009,0.007,-0.004,-0.008,-0.025,0.021,0.01,-0.008,0.016,-0.005,0.022,-0.003,-0.002,-0.021,0.005,0.009,-0.019,0.023,0.013,0.015,0.004,-0.002,-0.011,0.012,-0.007,-0.004,-0.004,0.005,0.0,0.005,0.018,0.006,-0.0,0.004,0.009,-0.01,0.008,0.022,0.001,-0.005,0.005,-0.002,0.01,-0.012,0.01,-0.039,0.004,-0.038,-0.018,0.031,-0.007,0.001,0.008,-0.034,0.005,0.013,0.026,-0.033,-0.015,-0.004,-0.029,-0.032,-0.026,0.011,0.013,0.012,0.038,0.002,0.022,0.002,-0.027,0.021,0.002,0.033,0.004,0.008,-0.015,0.003,-0.036,0.024,-0.001,0.019,-0.004,-0.006,0.042,0.01,-0.006,0.016,0.016,0.002,0.014,0.022,-0.01,0.031,-0.005,-0.031,0.005,0.031,0.005,0.014,-0.006,-0.012,0.008,-0.02,0.024,0.001,-0.038,0.005,0.024,-0.001,-0.005,0.031,0.012,-0.01,0.014,-0.02,-0.017,0.024,-0.016,0.001,0.012,-0.044,0.022,0.027,-0.0,-0.036,-0.029,0.001,0.005,-0.032,0.006,0.038,0.007,0.014,0.003,0.004,0.023,0.013,-0.002,-0.003,-0.014,0.004,-0.029,-0.007,-0.043,0.021,0.01,-0.0,0.022,0.019,-0.008,0.002,-0.017,0.001,-0.03,-0.004,0.021,0.01,0.013,-0.025,0.004,-0.037,-0.019,-0.03,0.008,-0.068,0.044,-0.034,0.058,0.019,0.016,0.013,-0.013,0.026,-0.035,-0.0,0.002,0.026,0.019,0.013,-0.012,-0.009,0.025,-0.008,0.023,0.001,0.013,0.006,0.003,0.005,0.001,-0.032,0.016,-0.013,0.015,-0.026,-0.018,-0.031,0.039,-0.003,0.002,-0.005,-0.032,0.032,-0.051,0.003,0.014,0.023,0.003,-0.011,-0.005,0.008,0.029,0.009,0.013,0.004,-0.004,0.006,-0.017,0.001,-0.015,-0.007,0.007,0.024,0.006,0.006,0.008,-0.007,-0.006,0.009,0.008,-0.029,0.061,0.022,0.012,0.0,-0.017,0.01,-0.001,0.011,0.001,-0.007,0.021,0.018,0.009,0.001,-0.017,-0.012,0.002,-0.009,0.03,-0.019,0.011,-0.01,-0.027,-0.019,0.037,-0.021,-0.007,-0.022,-0.015,0.008,-0.002,0.001,0.017,-0.02,-0.007,-0.03,0.0,-0.007,0.026,-0.029,0.006,0.011,-0.025,-0.037,-0.03,0.002,-0.005,0.008,0.012,-0.002,0.009,0.005,0.017,-0.032,-0.002,0.013,-0.019,-0.004,-0.034,-0.004,-0.006,0.02,0.033,-0.008,-0.032,-0.036,0.015,0.019,-0.009,-0.008,-0.033,-0.004,0.001,0.01,-0.016,-0.017,0.006,0.032,0.01,-0.002,-0.025,-0.002,0.021,0.015,-0.013,-0.009,-0.014,-0.016,-0.04,0.01,-0.024,-0.046,0.024,0.032,0.022,-0.079,0.017,-0.07,0.053,0.091,-0.029,-0.039,0.005,0.039,-0.02,-0.098,0.074,0.005,-0.076,-0.036,-0.056,-0.048,-0.039,-0.04,-0.04,0.137,0.018,-0.121,-0.011,-0.001,0.08,-0.01,-0.107,-0.036,-0.072,-0.067,0.126,0.043,0.072,-0.005,0.026,0.051,-0.063,-0.038,0.008,0.003,0.013,-0.081,0.046,-0.006,-0.002,-0.046,-0.02,-0.067,0.09,0.018,0.046,-0.007,0.011,-0.052,0.007,0.008,-0.005,0.006,0.08,-0.008,0.027,-0.013,0.022,-0.027,0.043,-0.001,-0.01,-0.01,-0.039,-0.031,0.011,0.005,0.013,0.069,0.031,0.019,-0.036,0.028,-0.01,-0.054,0.004,-0.04,0.03,0.005,-0.013,-0.041,0.034,-0.017,0.006,0.01,0.005,0.039,-0.015,-0.009,-0.016,0.028,0.01,0.024,0.039,-0.015,-0.021,-0.009,-0.008,0.029,0.004,-0.049,-0.004,0.001,-0.026,-0.013,-0.001,0.0,-0.052,0.006,0.052,-0.027,-0.007,-0.01,0.054,0.0,0.009,-0.004,-0.011,0.023,0.016,0.008,-0.009,0.057,-0.023,0.008,0.019,-0.016,-0.03,0.007,0.025,0.041,0.015,-0.005,-0.008,0.008,0.03,0.01,-0.013,-0.003,0.016,-0.005,-0.03,0.01,0.02,0.021,-0.021,0.0,0.03,0.001,0.064,0.005,0.016,-0.028,0.026,-0.008,-0.013,-0.033,0.016,-0.009,0.049,-0.002,-0.002,-0.023,0.01,0.005,0.02,-0.001,0.024,0.003,0.024,-0.009,-0.036,0.026,-0.002,0.005,-0.009,0.005,0.003,-0.029,-0.016,-0.003,-0.003,0.009,-0.037,0.006,-0.003,0.036,-0.001,0.013,-0.013,0.002,-0.01,-0.002,-0.006,-0.023,-0.006,0.001,-0.001,-0.006,0.048,0.012,0.003,0.021,0.001,-0.003,0.022,0.004,0.002,-0.001,-0.014,0.014,0.005,0.022,0.001,0.006,-0.011,0.01,0.009,-0.019,0.015,0.008,-0.007,-0.025,0.01,0.007,0.012,0.016,0.001,-0.006,0.006,-0.001,-0.0,-0.021,-0.012,-0.008,0.006,0.017,0.021,0.001,0.011,-0.003,0.009,0.007,0.019,-0.003,0.008,0.004,0.009,-0.016,-0.007,0.005,0.016,-0.001,0.005,-0.017,0.012,0.019,0.005,-0.001,0.018,0.005,0.009,0.024,0.008,-0.008,0.016,-0.029,0.003,0.01,-0.016,0.0,-0.03,-0.049,0.057,-0.035,0.018,0.02,0.014,-0.005,0.027,0.001,0.002,-0.03,0.014,0.02,0.012,-0.013,-0.003,0.007,0.008,0.009,-0.023,0.01,-0.001,0.022,0.001,-0.004,-0.01,0.013,-0.011,0.004,0.01,0.008,0.001,-0.001,-0.01,-0.023,-0.004,-0.013,0.022,0.003,0.005,0.006,0.004,0.021,0.003,0.007,-0.004,-0.003,0.002,-0.005,0.004,-0.008,-0.012,0.006,0.007,-0.025,-0.029,-0.001,-0.011,-0.007,0.008,-0.003,0.018,0.009,-0.001,-0.048,-0.018,0.006,0.024,0.005,0.016,-0.004,0.021,0.008,-0.004,-0.006,-0.016,-0.005,0.005,0.006,0.011,0.008,-0.002,0.003,0.015,-0.004,0.014,0.006,-0.001,-0.008,-0.005,0.013,-0.003,-0.0,-0.013,0.003,0.005,-0.007,-0.007,0.004,0.018,0.0,0.006,0.011,0.002,-0.003,-0.004,0.014,-0.005,-0.011,0.003,0.003,-0.007,-0.016,-0.005,0.003,0.001,0.002,-0.009,-0.035,0.002,0.02,-0.007,-0.006,-0.034,0.001,-0.023,-0.009,0.04,-0.016,0.012,-0.007,-0.021,-0.009,-0.033,-0.019,-0.025,0.035,-0.006,-0.012,0.017,0.031,-0.002,0.018,-0.019,0.018,-0.02,-0.008,0.011,-0.006,0.025,0.009,-0.001,0.014,0.005,-0.003,-0.002,0.006,-0.0,0.005,-0.019,0.014,-0.009,-0.036,-0.017,0.005,0.003,-0.009,0.02,0.019,0.003,-0.008,0.011,-0.003,0.0,-0.018,0.015,0.018,0.0,0.02,0.009,0.002,0.003,0.002,0.002,0.008,0.015,-0.008,0.004,0.002,-0.005,-0.003,-0.009,-0.022,0.003,0.005,0.007,0.013,0.001,-0.011,-0.003,-0.01,-0.013,-0.005,-0.015,0.027,-0.02,0.014,0.029,-0.004,-0.002,0.001,-0.005,0.003,0.003,0.018,-0.005,0.006,-0.007,-0.009,0.016,-0.007,0.009,0.007,-0.009,0.009,0.006,0.0,0.003,0.011,0.002,0.013,-0.01,-0.009,0.013,0.002,0.01,0.0,0.002,-0.001,-0.026,0.008,-0.011,-0.002,0.001,0.017,-0.002,-0.004,0.005,0.012,0.005,0.015,-0.005,0.001,-0.014,-0.001,-0.006,-0.012,-0.017,0.007,0.015,0.002,-0.018,-0.024,0.024,-0.004,-0.017,-0.005,-0.003,0.024,0.003,0.003,-0.003,-0.003,-0.017,-0.004,0.007,0.011,-0.006,-0.013,-0.008,0.01,-0.011,0.014,0.004,0.0,-0.01,0.004,0.013,0.005,0.009,0.005,0.011,-0.007,-0.007,0.001,0.004,0.017,-0.013,0.003,-0.005,0.004,-0.012,-0.007,-0.006,0.004,-0.01,-0.01,-0.02,-0.002,0.019,-0.017,0.001,-0.023,0.001,0.006,-0.024,0.006,0.018,0.012,-0.003,0.018,0.002,0.006,-0.012,-0.012,0.007,0.001,-0.001,0.007,-0.017,0.016,0.013,-0.002,-0.011,-0.018,0.01,0.007,-0.002,-0.015,0.003,0.01,-0.003,0.013,0.003,-0.004,0.003,-0.008,0.003,0.009,0.009,0.01,0.006,0.002,-0.012,0.002,-0.007,-0.008,-0.019,-0.006,-0.003,0.006,-0.019,0.011,0.014,-0.001,0.003,-0.013,-0.009,0.007,-0.01,-0.018,-0.011,-0.003,0.016,0.003,0.004,-0.017,0.004,-0.012,-0.006,0.013,-0.013,-0.008,0.004,-0.004,0.016,0.001,0.011,0.003,-0.005,0.01,-0.019,0.013,0.002,-0.02,0.002,-0.003,0.007,-0.012,-0.011,0.003,-0.01,-0.012,0.003,0.002,0.004,-0.004,-0.003,0.003,0.018,0.0,0.001,0.016,0.008,-0.013,-0.008,-0.006,-0.011,-0.021,-0.009,0.016,-0.016,-0.003,-0.011,0.004,0.001,0.019,0.0,-0.005,-0.011,-0.018,0.007,0.002,-0.005,-0.021,-0.023,-0.059,0.003,-0.084,0.05,0.005,0.037,0.002,0.022,-0.006,0.014,-0.036,-0.013,-0.0,0.025,0.0,-0.016,0.007,0.028,0.01,0.02,0.028,-0.028,-0.028,0.029,0.018,-0.033,-0.002,-0.003,0.013,0.002,0.015,-0.002,-0.013,-0.007,-0.049,-0.001,0.01,0.003,-0.012,0.002,-0.02,-0.03,-0.002,0.006,0.025,-0.02,0.039,0.011,0.014,0.008,-0.021,0.021,-0.001,-0.018,0.023,0.029,-0.011,0.015,0.037,0.004,-0.02,-0.018,0.015,0.008,0.009,-0.003,-0.025,-0.004,0.021,-0.005,0.005,-0.027,-0.005,-0.008,-0.007,-0.016,0.006,-0.007,0.02,-0.013,0.028,0.022,-0.004,0.018,0.011,-0.015,-0.021,0.014,-0.015,0.003,-0.015,-0.006,-0.004,-0.014,0.028,-0.004,0.012,0.006,-0.001,0.006,-0.026,0.004,0.043,0.002,-0.014,0.001,0.008,0.012,0.003,-0.001,-0.013,0.014,0.011,0.018,0.003,0.006,0.001,0.002,0.007,-0.001,-0.002,0.005,0.023,0.0,0.01,0.0,0.011,-0.001,-0.005,-0.024,0.026,-0.01,0.005,0.012,0.001,-0.006,0.002,-0.011,0.011,-0.002,0.015,0.014,-0.012,-0.028,0.014,0.013,-0.003,-0.005,0.03,-0.002,-0.007,-0.001,0.001,-0.006,-0.006,-0.016,-0.0,0.013,-0.01,-0.015,-0.003,-0.006,0.011,-0.014,-0.012,0.003,-0.012,-0.019,-0.007,0.028,-0.015,-0.002,0.012,0.005,-0.006,-0.002,-0.015,0.007,-0.004,0.007,-0.008,0.002,0.01,-0.005,-0.021,0.007,-0.014,-0.01,-0.001,-0.004,-0.033,-0.023,-0.006,-0.034,0.009,0.037,-0.028,-0.008,-0.01,0.007,0.014,-0.011,-0.015,0.013,-0.02,0.0,-0.018,0.031,0.005,-0.008,0.019,0.011,-0.005,0.014,0.002,0.018,-0.0,-0.03,-0.001,-0.03,0.001,-0.014,-0.009,0.032,0.006,0.02,0.005,0.005,-0.018,-0.031,-0.003,-0.003,0.017,-0.017,0.009,0.012,0.014,-0.021,-0.022,-0.007,-0.001,0.026,0.046,0.012,-0.02,-0.008,-0.002,0.031,0.019,-0.011,0.021,-0.003,0.008,-0.003,-0.018,0.002,0.021,-0.006,0.003,-0.006,0.008,-0.015,-0.001,-0.005,0.005,-0.018,-0.002,-0.003,0.004,-0.018,0.011,0.025,0.001,0.017,0.008,0.033,0.002,-0.005,-0.0,-0.002,0.001,-0.006,0.01,-0.023,-0.0,-0.004,-0.018,0.007,-0.006,-0.01,-0.003,0.002,0.013,-0.006,-0.008,0.012,0.007,0.002,0.006,-0.006,-0.014,-0.004,-0.017,-0.009,0.012,-0.01,-0.002,0.009,-0.011,0.023,-0.003,0.021,-0.016,-0.017,-0.003,-0.005,0.007,-0.021,-0.016,0.019,-0.004,0.003,0.02,-0.015,-0.009,0.005,0.023,-0.007,0.013,-0.011,0.002,-0.0,0.014,0.013,0.006,-0.003,-0.003,0.005,-0.001,0.015,0.009,0.005,-0.004,-0.001,-0.009,0.009,0.026,0.012,-0.013,-0.009,-0.013,0.007,0.002,-0.003,0.009,-0.006,0.001,0.007,-0.004,-0.001,-0.003,0.004,-0.013,-0.019,0.006,-0.018,0.007,0.01,-0.013,-0.002,-0.008,-0.01,0.002,-0.002,-0.006,-0.003,-0.005,-0.005,-0.02,-0.0,0.01,-0.001,0.006,0.006,0.003,-0.009,-0.007,-0.01,0.035,0.016,-0.007,0.002,-0.006,-0.014,-0.002,-0.007,0.002,-0.011,-0.006,-0.008,-0.006,-0.007,0.014,0.006,0.006,-0.008,-0.018,0.012,-0.017,0.007,0.001,0.015,0.005,-0.014,-0.008,-0.037,0.019,-0.021,0.005,0.014,0.007,0.011,0.002,-0.0,-0.013,0.012,0.018,-0.011,0.003,-0.001,0.015,-0.008,-0.006,-0.006,-0.012,0.004,0.005,-0.003,0.007,0.01,0.01,0.003,-0.001,0.001,-0.0,-0.006,-0.025,-0.021,0.008,0.001,-0.023,0.002,-0.024,-0.006,-0.031,-0.012,0.025,-0.022,-0.005,0.008,-0.032,0.007,-0.024,-0.023,0.02,0.006,0.009,-0.003,-0.005,-0.043,-0.004,0.016,-0.012,-0.003,0.009,0.025,-0.024,0.026,0.003,0.011,0.005,-0.005,0.024,0.005,-0.009,0.014,0.007,-0.004,-0.013,-0.007,0.019,-0.014,-0.001,-0.021,0.001,0.031,0.019,0.008,0.006,0.006,0.0,0.012,0.001,-0.021,-0.002,0.02,0.015,-0.015,-0.026,-0.005,0.001,0.002,0.036,-0.004,0.002,0.012,0.026,0.009,-0.005,-0.008,-0.005,0.009,0.0,0.008,0.026,-0.011,-0.018,0.009,-0.003,-0.003,-0.009,-0.001,-0.026,0.016,-0.001,-0.012,0.007,-0.008,-0.002,0.005,0.009,0.003,0.019,0.015,0.018,-0.011,0.0,0.013,0.007,-0.018,-0.01,-0.013,0.017,-0.01,-0.007,0.002,-0.004,0.008,-0.011,-0.008,-0.012,-0.009,0.007,-0.016,0.008,0.023,0.016,-0.024,-0.007,0.002,-0.01,-0.016,0.008,-0.0,0.012,-0.024,-0.018,-0.003,0.011,0.003,0.004,-0.003,-0.018,0.001,-0.001,0.005,-0.004,0.009,0.005,0.007,0.003,-0.003,0.001,0.005,-0.023,0.013,-0.0,-0.011,0.003,-0.025,0.008,-0.005,0.006,0.008,-0.008,-0.01,-0.01,-0.003,0.015,-0.02,-0.011,-0.002,0.003,-0.006,-0.007,0.008,-0.032,0.018,-0.007,0.024,0.007,-0.008,0.016,-0.005,-0.008,0.008,-0.013,-0.021,0.012,0.003,0.002,0.0,-0.014,-0.003,0.021,-0.011,-0.011,0.011,-0.018,-0.015,0.004,0.004,-0.009,-0.011,0.003,0.023,0.009,0.015,0.002,0.013,0.004,-0.004,0.034,0.002,0.013,-0.003,0.028,-0.006,-0.006,0.021,-0.01,-0.009,-0.001,0.014,-0.005,-0.022,0.015,0.018,-0.003,-0.008,0.005,-0.008,-0.0,0.009,-0.004,0.026,0.009,0.006,0.005,-0.012,-0.006,0.018,-0.003,0.009,-0.01,0.002,-0.012,-0.019,-0.003,0.011,-0.003,0.006,-0.014,0.009,-0.008,-0.019,0.007,0.008,-0.004,-0.005,0.03,0.021,0.006,0.009,-0.005,-0.003,-0.006,0.016,-0.01,-0.008,0.001,-0.016,0.001,-0.007,0.0,0.0,-0.003,0.016,0.003,-0.005,-0.003,0.018,0.004,0.017,0.004,-0.005,-0.001,0.024,0.011,0.006,-0.01,0.01,-0.003,-0.002,-0.01,-0.004,-0.019,0.001,0.013,-0.007,0.005,-0.005,-0.011,0.019,-0.003,-0.015,0.004,0.021,0.01,0.015,0.007,0.002,-0.01,0.022,0.001,0.019,-0.011,0.016,-0.002,0.012,-0.001,-0.017,-0.002,-0.025,-0.009,-0.008,0.002,-0.024,0.018,0.02,-0.0,-0.012,-0.01,-0.017,-0.005,0.005,-0.015,0.022,-0.046,-0.009,-0.024,0.012,0.019,0.046,0.006,-0.007,0.004,-0.035,0.047,0.001,-0.033,-0.033,0.026,-0.026,-0.035,-0.0,-0.033,0.024,-0.028,0.036,-0.025,0.025,0.043,-0.013,0.008,-0.013,-0.02,0.011,-0.009,-0.005,0.01,-0.022,-0.001,-0.01,0.016,0.025,0.049,-0.012,0.003,-0.008,-0.007,-0.001,-0.045,-0.013,0.014,-0.017,0.011,-0.034,-0.002,-0.013,0.006,-0.038,-0.021,-0.0,0.036,-0.004,0.024,0.009,0.015,-0.015,0.009,-0.012,-0.03,-0.021,0.01,0.03,0.01,-0.022,-0.014,-0.002,-0.008,0.008,0.02,-0.026,0.002,0.028,0.004,-0.014,-0.004,0.0,-0.019,0.001,-0.018,0.016,0.027,0.007,-0.001,-0.009,0.012,-0.018,-0.006,0.026,0.022,0.013,0.0,-0.001,0.001,0.011,-0.001,-0.001,-0.003,-0.011,0.006,-0.016,-0.002,-0.008,-0.016,-0.018,0.013,-0.001,-0.006,0.005,0.029,0.024,-0.011,0.02,-0.001,-0.008,0.007,-0.025,-0.01,0.023,-0.002,0.023,0.015,0.011,-0.0,-0.001,0.003,0.008,0.0,-0.005,0.017,-0.004,-0.013,-0.004,0.016,0.019,0.016,-0.019,0.005,-0.009,0.016,0.02,0.012,-0.016,-0.003,0.004,0.001,-0.007,-0.007,0.005,0.01,-0.018,-0.013,-0.011,0.004,-0.013,0.004,-0.018,0.011,-0.005,-0.023,0.005,0.022,-0.013,-0.01,-0.003,0.0,0.02,-0.003,-0.006,-0.004,0.011,-0.008,0.018,-0.009,0.002,-0.002,0.001,-0.012,0.016,-0.019,0.001,-0.006,0.007,-0.011,-0.007,0.004,-0.011,0.016,0.01,0.002,-0.006,0.003,-0.014,-0.014,-0.002,-0.011,-0.022,-0.011,-0.01,0.018,0.013,-0.007,0.019,-0.014,-0.002,0.005,-0.006,-0.029,0.016,-0.006,-0.014,-0.008,-0.011,-0.006,0.005,-0.018,0.001,-0.02,-0.031,0.005,0.033,0.036,-0.012,-0.011,-0.025,0.021,0.019,-0.018,0.006,-0.002,-0.003,-0.002,0.019,0.002,0.025,-0.0,-0.027,-0.014,-0.007,-0.02,-0.001,-0.01,-0.02,0.004,0.021,0.006,0.037,0.012,0.003,0.024,0.004,0.005,-0.041,-0.014,0.01,0.002,0.004,-0.008,-0.001,0.016,-0.004,-0.008,-0.004,-0.006,-0.024,0.005,0.047,-0.007,0.007,-0.024,-0.016,-0.0,0.019,-0.004,-0.008,0.007,0.009,0.004,0.015,0.0,0.003,-0.03,0.006,-0.027,-0.017,-0.002,-0.003,0.032,-0.022,-0.003,-0.017,0.037,-0.01,-0.008,-0.011,0.003,0.003,0.005,-0.03,-0.016,0.006,0.012,-0.006,-0.003,-0.007,-0.028,0.007,-0.015,-0.026,-0.002,-0.016,-0.011,-0.015,0.014,-0.024,-0.017,0.003,-0.011,0.002,0.008,-0.014,0.023,0.007,0.045,0.004,-0.05,0.025,0.031,-0.006,-0.005,-0.027,0.012,0.007,0.021,0.017,-0.004,0.002,0.04,-0.017,-0.01,-0.005,-0.007,0.028,0.031,0.017,0.05,0.039,0.003,-0.003,-0.009,0.018,0.001,-0.016,-0.036,0.013,0.064,-0.002,0.007,-0.003,-0.026,-0.001,0.024,0.006,0.002,-0.024,0.01,-0.036,0.006,-0.02,0.009,0.036,-0.003,0.036,0.022,-0.014,0.015,-0.006,0.015,-0.001,-0.014,-0.02,0.023,0.026,-0.003,-0.007,-0.006,-0.025,0.006,-0.017,0.001,-0.014,0.04,-0.006,0.009,-0.027,-0.0,-0.019,-0.005,-0.009,-0.008,-0.008,0.0,0.003,-0.009,-0.002,-0.01,0.011,0.018,0.015,-0.004,0.001,0.022,-0.01,-0.034,0.005,-0.021,0.005,0.01,0.002,0.016,0.01,-0.014,0.028,-0.029,-0.017,0.015,0.02,0.01,0.014,0.006,-0.014,0.001,0.002,0.021,0.015,0.005,0.006,0.016,0.002,0.016,0.004,-0.002,0.001,0.006,-0.002,-0.002,0.001,-0.003,0.011,-0.01,-0.011,0.016,0.009,0.001,-0.0,0.001,-0.013,0.024,-0.0,0.014,-0.005,0.008,-0.003,-0.001,-0.023,0.004,-0.005,0.0,-0.0,0.015,-0.001,-0.012,0.006,0.023,-0.001,0.009,0.002,-0.038,0.01,-0.031,0.004,0.015,-0.014,0.005,0.007,0.011,0.01,-0.005,-0.011,0.006,0.017,-0.017,0.0,0.019,-0.002,0.015,0.006,0.008,0.009,-0.011,0.002,0.011,0.015,0.017,-0.004,0.005,0.004,-0.001,-0.003,-0.001,0.007,0.001,0.01,-0.025,-0.025,-0.002,0.039,0.002,-0.014,-0.033,-0.034,0.008,0.018,-0.016,0.003,0.018,0.014,0.001,-0.01,0.003,0.021,-0.03,0.015,-0.04,0.014,-0.008,0.021,0.005,-0.012,-0.003,-0.022,0.002,-0.018,0.003,-0.0,-0.022,0.008,0.001,-0.007,0.012,0.012,0.001,0.018,0.007,-0.011,0.037,-0.004,0.008,-0.007,0.001,0.007,0.005,0.024,-0.005,0.003,0.008,-0.003,-0.003,0.009,0.019,0.001,0.005,-0.002,-0.027,0.006,0.003,-0.004,0.006,-0.015,0.003,0.01,0.002,0.018,0.013,-0.004,0.019,-0.002,-0.001,0.012,0.008,-0.007,-0.017,-0.012,0.005,-0.017,0.014,-0.007,-0.009,-0.016,-0.002,0.001,0.013,-0.013,0.023,-0.007,-0.024,0.01,-0.03,0.009,0.0,0.005,0.007,0.005,0.014,-0.004,-0.004,0.003,0.009,-0.015,-0.009,0.006,0.001,-0.004,-0.007,-0.017,0.024,-0.003,-0.012,0.006,0.01,0.012,-0.004,-0.003,0.011,0.02,-0.009,-0.019,0.013,-0.003,0.011,0.016,0.003,0.01,0.004,0.003,-0.017,-0.092,0.017,-0.016,0.016,0.009,-0.0,0.013,-0.005,0.003,-0.02,-0.007,0.004,-0.001,0.008,0.003,-0.007,-0.009,-0.008,0.002,0.002,-0.005,0.006,-0.02,-0.0,0.008,-0.003,0.018,-0.008,0.006,0.004,0.011,0.006,-0.001,-0.001,-0.011,-0.002,0.011,0.013,0.016,0.005,0.004,-0.003,0.002,-0.002,-0.004,-0.004,0.006,0.009,-0.01,0.004,0.003,0.006,0.009,0.009,-0.005,0.002,0.015,-0.001,-0.003,-0.01,0.005,0.014,0.001,0.003,-0.009,0.011,-0.001,0.02,0.007,0.009,-0.001,-0.001,0.004,-0.006,-0.001,0.015,0.003,0.0,0.017,-0.005,0.017,0.003,0.003,-0.002,0.015,0.003,-0.0,0.0,-0.005,-0.003,-0.013,-0.002,-0.007,-0.003,0.01,0.001,0.032,-0.002,0.0,-0.007,-0.004,0.015,-0.003,0.004,-0.001,-0.009,0.005,-0.004,0.001,-0.013,0.012,0.004,-0.01,0.001,-0.016,-0.007,-0.007,0.001,0.005,-0.026,0.027,-0.019,-0.011,0.004,-0.023,0.024,0.013,0.016,-0.001,-0.0,-0.004,-0.001,0.001,-0.02,-0.01,0.004,0.011,-0.007,0.01,-0.011,0.003,0.001,0.014,-0.012,-0.007,0.002,0.007,-0.006,0.009,0.024,0.001,0.007,0.005,0.004,0.0,0.019,0.001,0.008,0.005,0.004,-0.007,-0.008,0.015,-0.0,0.005,0.001,0.017,-0.003,0.003,0.006,-0.012,0.037,0.022,-0.01,-0.003,0.005,0.007,-0.017,-0.026,0.025,-0.014,-0.015,-0.008,0.032,0.009,0.003,0.003,0.012,0.003,0.007,0.007,0.004,-0.008,-0.017,-0.001,0.004,0.003,-0.004,-0.002,-0.006,0.016,0.006,-0.006,-0.004,-0.013,-0.0,-0.012,0.003,0.01,-0.002,-0.005,0.008,-0.015,0.001,0.018,-0.008,-0.001,-0.003,0.01,-0.005,-0.018,0.014,0.009,0.002,-0.013,-0.018,0.015,0.02,0.001,-0.003,0.001,-0.002,-0.005,0.016,0.001,-0.004,-0.018,-0.015,-0.002,-0.005,0.003,0.016,0.019,-0.007,0.0,-0.001,0.016,-0.034,-0.006,-0.015,0.011,-0.023,-0.009,-0.015,-0.046,0.009,0.009,0.006,0.017,-0.025,-0.007,-0.03,-0.012,-0.009,0.006,-0.009,-0.01,-0.009,-0.013,0.022,0.01,-0.029,0.008,0.004,0.006,-0.011,0.016,0.014,0.001,0.011,0.014,-0.003,0.006,-0.002,-0.006,0.019,0.01,0.001,0.019,-0.01,0.002,0.014,-0.007,0.015,0.013,-0.01,0.006,0.005,-0.013,0.001,0.004,0.022,-0.005,-0.009,-0.015,-0.005,-0.029,0.013,0.014,-0.02,-0.003,-0.01,0.004,-0.015,0.023,-0.017,0.008,0.022,-0.006,0.012,-0.026,0.004,-0.006,-0.02,0.005,0.017,0.0,-0.024,0.006,-0.006,0.01,0.018,0.02,-0.002,-0.001,0.017,-0.019,0.008,0.0,0.017,-0.008,-0.009,0.037,0.02,-0.004,-0.008,0.045,0.0,-0.028,-0.009,0.005,0.028,0.001,-0.023,0.004,0.016,-0.003,-0.027,0.012,0.019,-0.023,0.036,0.006,0.011,0.013,-0.01,-0.011,-0.024,0.0,-0.001,-0.007,0.012,0.029,-0.007,-0.007,0.002,-0.014,-0.008,0.027,0.015,0.005,-0.002,0.004,-0.013,0.005,-0.002,-0.008,-0.025,0.006,0.006,0.01,-0.004,-0.012,0.002,-0.011,-0.005,0.005,-0.007,0.004,0.028,0.035,0.006,0.003,-0.002,0.004,0.017,0.002,-0.002,0.009,-0.004,0.004,0.01,0.008,-0.001,-0.009,0.015,0.012,-0.023,0.002,0.014,0.004,0.005,0.007,-0.003,-0.038,-0.002,0.01,-0.01,0.018,-0.003,0.022,-0.005,-0.01,0.012,-0.011,0.004,0.01,-0.007,0.004,-0.003,-0.018,-0.01,-0.004,0.001,0.011,0.028,-0.002,0.011,-0.003,0.005,0.009,-0.004,-0.016,-0.013,-0.031,-0.001,0.017,-0.036,0.027,0.011,0.007,-0.007,-0.009,0.019,0.008,0.003,-0.011,-0.004,-0.013,-0.02,0.002,0.013,-0.011,0.014,0.0,0.014,-0.009,0.016,-0.003,-0.0,0.002,-0.009,0.005,-0.01,-0.007,0.013,-0.008,-0.006,-0.027,0.004,-0.005,-0.018,-0.0,0.021,0.027,-0.001,-0.005,-0.003,0.013,0.016,0.002,0.009,-0.004,-0.0,0.004,-0.014,0.012,0.006,-0.004,0.015,-0.006,0.005,-0.007,-0.004,0.018,0.009,0.017,0.0,-0.019,0.006,0.0,0.002,0.004,-0.007,0.014,0.015,0.004,0.004,0.012,-0.006,-0.012,-0.001,-0.0,0.001,0.008,-0.012,0.005,-0.002,0.004,-0.014,0.002,0.006,-0.005,-0.011,0.003,0.005,-0.025,0.02,0.006,0.013,-0.001,-0.02,0.013,-0.03,-0.012,0.008,-0.003,-0.002,0.02,-0.012,-0.024,-0.013,0.009,0.009,0.023,0.006,-0.005,-0.009,0.015,0.01,0.007,0.002,-0.001,0.004,0.009,-0.008,0.002,0.009,-0.001,-0.002,0.005,-0.002,-0.007,0.006,0.008,-0.002,-0.003,-0.007,-0.029,0.005,0.01,-0.019,-0.006,0.013,0.006,0.02,0.005,0.002,0.009,-0.004,-0.003,0.012,0.013,0.002,-0.005,0.004,0.008,-0.006,0.008,-0.011,0.009,0.004,-0.001,-0.001,0.011,-0.018,0.005,-0.013,-0.008,0.006,-0.002,-0.007,0.018,0.011,-0.002,-0.013,0.006,0.005,-0.001,0.008,-0.001,0.012,0.003,0.005,-0.001,-0.003,0.003,0.011,0.003,-0.006,0.006,0.015,0.007,-0.0,0.006,0.011,-0.006,-0.005,0.022,-0.007,-0.007,-0.002,-0.004,-0.003,-0.004,0.016,0.003,-0.01,0.002,0.015,0.003,-0.016,0.012,0.01,-0.01,-0.033,0.017,-0.009,0.001,-0.015,0.008,0.008,0.004,-0.007,-0.012,-0.011,0.025,0.011,-0.009,-0.011,0.008,-0.003,0.013,-0.017,-0.008,-0.073,-0.026,0.011,0.023,-0.01,0.016,-0.048,-0.042,-0.13,0.069,-0.079,-0.16,0.13,-0.15,0.047,-0.109,0.021,-0.019,-0.054,0.092,0.072,0.036,-0.057,0.016,-0.022,-0.029,0.018,-0.038,0.063,0.03,0.029,-0.012,0.015,0.014,-0.014,-0.013,0.015,-0.0,0.021,-0.013,-0.056,0.038,0.039,0.023,-0.033,-0.02,0.008,-0.005,-0.012,0.027,-0.015,-0.015,-0.001,0.016,-0.019,0.046,-0.006,0.007,0.021,-0.01,0.042,-0.002,0.029,-0.011,0.005,0.014,0.027,0.021,0.009,0.009,0.031,-0.009,-0.022,-0.02,-0.005,0.012,0.021,0.006,0.005,-0.013,0.007,-0.017,0.017,-0.023,0.02,-0.007,0.012,0.0,0.005,0.022,-0.012,0.02,-0.006,0.009,-0.013,0.018,0.013,-0.012,0.023,0.015,-0.001,-0.0,-0.019,0.001,0.02,-0.004,0.014,-0.006,-0.02,-0.001,-0.016,0.016,0.013,-0.013,0.006,-0.012,-0.001,-0.016,0.009,-0.017,0.024,-0.012,0.006,0.001,0.008,-0.002,-0.015,-0.0,0.015,-0.028,0.028,-0.003,-0.012,0.005,-0.012,0.012,-0.025,-0.005,0.019,0.0,-0.006,0.004,-0.018,-0.013,0.003,-0.016,0.013,-0.0,-0.024,-0.012,0.011,0.009,-0.015,0.022,-0.005,-0.001,0.025,-0.004,0.01,0.008,-0.003,-0.008,0.004,0.019,0.0,0.013,-0.006,-0.002,-0.014,-0.043,0.013,-0.028,0.017,0.023,0.03,0.0,0.03,0.014,-0.008,-0.023,0.023,0.018,0.007,-0.007,0.0,0.008,0.022,0.003,0.001,0.003,-0.015,0.022,0.004,0.01,0.007,-0.001,-0.0,-0.008,0.02,0.003,-0.003,0.01,0.015,0.002,-0.004,-0.014,0.003,0.013,0.01,0.004,-0.001,-0.006,0.006,0.005,0.017,0.025,-0.018,0.01,-0.016,0.012,-0.024,0.006,-0.005,-0.008,-0.011,-0.011,-0.006,-0.005,0.029,-0.028,0.012,0.007,0.013,-0.004,0.006,-0.003,-0.001,-0.008,0.007,-0.001,0.011,-0.01,-0.003,-0.053,0.022,0.004,-0.03,-0.02,0.003,0.011,-0.003,0.013,0.022,-0.041,0.006,0.013,0.019,-0.007,0.006,-0.007,0.022,-0.015,0.012,-0.011,-0.015,-0.011,0.015,0.009,0.006,0.012,-0.002,-0.012,0.019,-0.0,0.001,0.006,-0.005,0.01,0.004,0.008,0.003,0.003,-0.001,-0.007,-0.006,0.01,0.001,-0.01,0.014,-0.008,-0.01,0.003,-0.013,0.016,0.003,0.017,-0.001,0.009,-0.027,0.008,0.01,0.009,0.0,-0.003,0.001,-0.001,0.012,-0.008,0.008,0.003,0.01,0.005,0.016,0.01,0.004,0.005,-0.008,0.001,0.001,-0.005,0.006,-0.001,-0.006,-0.009,0.003,0.007,-0.004,-0.003,0.008,-0.018,0.001,-0.001,-0.004,-0.009,0.015,-0.006,-0.014,0.015,-0.013,0.017,0.004,0.002,-0.007,-0.012,-0.013,0.008,0.004,0.002,-0.009,0.008,-0.011,0.013,-0.005,-0.031,0.006,0.009,-0.014,-0.001,0.01,0.002,-0.007,-0.001,-0.011,0.004,-0.017,-0.011,-0.011,0.004,0.008,-0.005,0.023,0.005,-0.017,0.016,-0.008,-0.008,0.005,-0.023,0.002,0.008,-0.039,0.017,-0.009,0.018,-0.002,-0.01,-0.011,-0.021,-0.024,0.013,0.018,0.016,-0.007,0.003,-0.031,0.009,-0.001,0.017,-0.022,0.001,0.001,0.0,0.02,-0.006,0.011,-0.002,0.013,-0.002,-0.033,0.001,-0.028,-0.013,0.023,-0.021,-0.001,-0.006,-0.021,0.02,0.001,-0.021,0.014,-0.0,0.007,0.004,0.016,-0.013,-0.017,-0.015,-0.004,0.005,-0.009,0.015,0.008,0.012,-0.034,0.006,-0.009,-0.011,0.036,0.006,0.017,0.007,0.005,-0.017,0.014,-0.003,-0.006,0.006,0.008,-0.009,-0.021,0.005,-0.002,-0.003,0.006,-0.006,-0.007,0.007],\"yaxis\":\"y\",\"type\":\"scattergl\"}],                        {\"template\":{\"data\":{\"barpolar\":[{\"marker\":{\"line\":{\"color\":\"white\",\"width\":0.5},\"pattern\":{\"fillmode\":\"overlay\",\"size\":10,\"solidity\":0.2}},\"type\":\"barpolar\"}],\"bar\":[{\"error_x\":{\"color\":\"#2a3f5f\"},\"error_y\":{\"color\":\"#2a3f5f\"},\"marker\":{\"line\":{\"color\":\"white\",\"width\":0.5},\"pattern\":{\"fillmode\":\"overlay\",\"size\":10,\"solidity\":0.2}},\"type\":\"bar\"}],\"carpet\":[{\"aaxis\":{\"endlinecolor\":\"#2a3f5f\",\"gridcolor\":\"#C8D4E3\",\"linecolor\":\"#C8D4E3\",\"minorgridcolor\":\"#C8D4E3\",\"startlinecolor\":\"#2a3f5f\"},\"baxis\":{\"endlinecolor\":\"#2a3f5f\",\"gridcolor\":\"#C8D4E3\",\"linecolor\":\"#C8D4E3\",\"minorgridcolor\":\"#C8D4E3\",\"startlinecolor\":\"#2a3f5f\"},\"type\":\"carpet\"}],\"choropleth\":[{\"colorbar\":{\"outlinewidth\":0,\"ticks\":\"\"},\"type\":\"choropleth\"}],\"contourcarpet\":[{\"colorbar\":{\"outlinewidth\":0,\"ticks\":\"\"},\"type\":\"contourcarpet\"}],\"contour\":[{\"colorbar\":{\"outlinewidth\":0,\"ticks\":\"\"},\"colorscale\":[[0.0,\"#0d0887\"],[0.1111111111111111,\"#46039f\"],[0.2222222222222222,\"#7201a8\"],[0.3333333333333333,\"#9c179e\"],[0.4444444444444444,\"#bd3786\"],[0.5555555555555556,\"#d8576b\"],[0.6666666666666666,\"#ed7953\"],[0.7777777777777778,\"#fb9f3a\"],[0.8888888888888888,\"#fdca26\"],[1.0,\"#f0f921\"]],\"type\":\"contour\"}],\"heatmapgl\":[{\"colorbar\":{\"outlinewidth\":0,\"ticks\":\"\"},\"colorscale\":[[0.0,\"#0d0887\"],[0.1111111111111111,\"#46039f\"],[0.2222222222222222,\"#7201a8\"],[0.3333333333333333,\"#9c179e\"],[0.4444444444444444,\"#bd3786\"],[0.5555555555555556,\"#d8576b\"],[0.6666666666666666,\"#ed7953\"],[0.7777777777777778,\"#fb9f3a\"],[0.8888888888888888,\"#fdca26\"],[1.0,\"#f0f921\"]],\"type\":\"heatmapgl\"}],\"heatmap\":[{\"colorbar\":{\"outlinewidth\":0,\"ticks\":\"\"},\"colorscale\":[[0.0,\"#0d0887\"],[0.1111111111111111,\"#46039f\"],[0.2222222222222222,\"#7201a8\"],[0.3333333333333333,\"#9c179e\"],[0.4444444444444444,\"#bd3786\"],[0.5555555555555556,\"#d8576b\"],[0.6666666666666666,\"#ed7953\"],[0.7777777777777778,\"#fb9f3a\"],[0.8888888888888888,\"#fdca26\"],[1.0,\"#f0f921\"]],\"type\":\"heatmap\"}],\"histogram2dcontour\":[{\"colorbar\":{\"outlinewidth\":0,\"ticks\":\"\"},\"colorscale\":[[0.0,\"#0d0887\"],[0.1111111111111111,\"#46039f\"],[0.2222222222222222,\"#7201a8\"],[0.3333333333333333,\"#9c179e\"],[0.4444444444444444,\"#bd3786\"],[0.5555555555555556,\"#d8576b\"],[0.6666666666666666,\"#ed7953\"],[0.7777777777777778,\"#fb9f3a\"],[0.8888888888888888,\"#fdca26\"],[1.0,\"#f0f921\"]],\"type\":\"histogram2dcontour\"}],\"histogram2d\":[{\"colorbar\":{\"outlinewidth\":0,\"ticks\":\"\"},\"colorscale\":[[0.0,\"#0d0887\"],[0.1111111111111111,\"#46039f\"],[0.2222222222222222,\"#7201a8\"],[0.3333333333333333,\"#9c179e\"],[0.4444444444444444,\"#bd3786\"],[0.5555555555555556,\"#d8576b\"],[0.6666666666666666,\"#ed7953\"],[0.7777777777777778,\"#fb9f3a\"],[0.8888888888888888,\"#fdca26\"],[1.0,\"#f0f921\"]],\"type\":\"histogram2d\"}],\"histogram\":[{\"marker\":{\"pattern\":{\"fillmode\":\"overlay\",\"size\":10,\"solidity\":0.2}},\"type\":\"histogram\"}],\"mesh3d\":[{\"colorbar\":{\"outlinewidth\":0,\"ticks\":\"\"},\"type\":\"mesh3d\"}],\"parcoords\":[{\"line\":{\"colorbar\":{\"outlinewidth\":0,\"ticks\":\"\"}},\"type\":\"parcoords\"}],\"pie\":[{\"automargin\":true,\"type\":\"pie\"}],\"scatter3d\":[{\"line\":{\"colorbar\":{\"outlinewidth\":0,\"ticks\":\"\"}},\"marker\":{\"colorbar\":{\"outlinewidth\":0,\"ticks\":\"\"}},\"type\":\"scatter3d\"}],\"scattercarpet\":[{\"marker\":{\"colorbar\":{\"outlinewidth\":0,\"ticks\":\"\"}},\"type\":\"scattercarpet\"}],\"scattergeo\":[{\"marker\":{\"colorbar\":{\"outlinewidth\":0,\"ticks\":\"\"}},\"type\":\"scattergeo\"}],\"scattergl\":[{\"marker\":{\"colorbar\":{\"outlinewidth\":0,\"ticks\":\"\"}},\"type\":\"scattergl\"}],\"scattermapbox\":[{\"marker\":{\"colorbar\":{\"outlinewidth\":0,\"ticks\":\"\"}},\"type\":\"scattermapbox\"}],\"scatterpolargl\":[{\"marker\":{\"colorbar\":{\"outlinewidth\":0,\"ticks\":\"\"}},\"type\":\"scatterpolargl\"}],\"scatterpolar\":[{\"marker\":{\"colorbar\":{\"outlinewidth\":0,\"ticks\":\"\"}},\"type\":\"scatterpolar\"}],\"scatter\":[{\"marker\":{\"colorbar\":{\"outlinewidth\":0,\"ticks\":\"\"}},\"type\":\"scatter\"}],\"scatterternary\":[{\"marker\":{\"colorbar\":{\"outlinewidth\":0,\"ticks\":\"\"}},\"type\":\"scatterternary\"}],\"surface\":[{\"colorbar\":{\"outlinewidth\":0,\"ticks\":\"\"},\"colorscale\":[[0.0,\"#0d0887\"],[0.1111111111111111,\"#46039f\"],[0.2222222222222222,\"#7201a8\"],[0.3333333333333333,\"#9c179e\"],[0.4444444444444444,\"#bd3786\"],[0.5555555555555556,\"#d8576b\"],[0.6666666666666666,\"#ed7953\"],[0.7777777777777778,\"#fb9f3a\"],[0.8888888888888888,\"#fdca26\"],[1.0,\"#f0f921\"]],\"type\":\"surface\"}],\"table\":[{\"cells\":{\"fill\":{\"color\":\"#EBF0F8\"},\"line\":{\"color\":\"white\"}},\"header\":{\"fill\":{\"color\":\"#C8D4E3\"},\"line\":{\"color\":\"white\"}},\"type\":\"table\"}]},\"layout\":{\"annotationdefaults\":{\"arrowcolor\":\"#2a3f5f\",\"arrowhead\":0,\"arrowwidth\":1},\"autotypenumbers\":\"strict\",\"coloraxis\":{\"colorbar\":{\"outlinewidth\":0,\"ticks\":\"\"}},\"colorscale\":{\"diverging\":[[0,\"#8e0152\"],[0.1,\"#c51b7d\"],[0.2,\"#de77ae\"],[0.3,\"#f1b6da\"],[0.4,\"#fde0ef\"],[0.5,\"#f7f7f7\"],[0.6,\"#e6f5d0\"],[0.7,\"#b8e186\"],[0.8,\"#7fbc41\"],[0.9,\"#4d9221\"],[1,\"#276419\"]],\"sequential\":[[0.0,\"#0d0887\"],[0.1111111111111111,\"#46039f\"],[0.2222222222222222,\"#7201a8\"],[0.3333333333333333,\"#9c179e\"],[0.4444444444444444,\"#bd3786\"],[0.5555555555555556,\"#d8576b\"],[0.6666666666666666,\"#ed7953\"],[0.7777777777777778,\"#fb9f3a\"],[0.8888888888888888,\"#fdca26\"],[1.0,\"#f0f921\"]],\"sequentialminus\":[[0.0,\"#0d0887\"],[0.1111111111111111,\"#46039f\"],[0.2222222222222222,\"#7201a8\"],[0.3333333333333333,\"#9c179e\"],[0.4444444444444444,\"#bd3786\"],[0.5555555555555556,\"#d8576b\"],[0.6666666666666666,\"#ed7953\"],[0.7777777777777778,\"#fb9f3a\"],[0.8888888888888888,\"#fdca26\"],[1.0,\"#f0f921\"]]},\"colorway\":[\"#636efa\",\"#EF553B\",\"#00cc96\",\"#ab63fa\",\"#FFA15A\",\"#19d3f3\",\"#FF6692\",\"#B6E880\",\"#FF97FF\",\"#FECB52\"],\"font\":{\"color\":\"#2a3f5f\"},\"geo\":{\"bgcolor\":\"white\",\"lakecolor\":\"white\",\"landcolor\":\"white\",\"showlakes\":true,\"showland\":true,\"subunitcolor\":\"#C8D4E3\"},\"hoverlabel\":{\"align\":\"left\"},\"hovermode\":\"closest\",\"mapbox\":{\"style\":\"light\"},\"paper_bgcolor\":\"white\",\"plot_bgcolor\":\"white\",\"polar\":{\"angularaxis\":{\"gridcolor\":\"#EBF0F8\",\"linecolor\":\"#EBF0F8\",\"ticks\":\"\"},\"bgcolor\":\"white\",\"radialaxis\":{\"gridcolor\":\"#EBF0F8\",\"linecolor\":\"#EBF0F8\",\"ticks\":\"\"}},\"scene\":{\"xaxis\":{\"backgroundcolor\":\"white\",\"gridcolor\":\"#DFE8F3\",\"gridwidth\":2,\"linecolor\":\"#EBF0F8\",\"showbackground\":true,\"ticks\":\"\",\"zerolinecolor\":\"#EBF0F8\"},\"yaxis\":{\"backgroundcolor\":\"white\",\"gridcolor\":\"#DFE8F3\",\"gridwidth\":2,\"linecolor\":\"#EBF0F8\",\"showbackground\":true,\"ticks\":\"\",\"zerolinecolor\":\"#EBF0F8\"},\"zaxis\":{\"backgroundcolor\":\"white\",\"gridcolor\":\"#DFE8F3\",\"gridwidth\":2,\"linecolor\":\"#EBF0F8\",\"showbackground\":true,\"ticks\":\"\",\"zerolinecolor\":\"#EBF0F8\"}},\"shapedefaults\":{\"line\":{\"color\":\"#2a3f5f\"}},\"ternary\":{\"aaxis\":{\"gridcolor\":\"#DFE8F3\",\"linecolor\":\"#A2B1C6\",\"ticks\":\"\"},\"baxis\":{\"gridcolor\":\"#DFE8F3\",\"linecolor\":\"#A2B1C6\",\"ticks\":\"\"},\"bgcolor\":\"white\",\"caxis\":{\"gridcolor\":\"#DFE8F3\",\"linecolor\":\"#A2B1C6\",\"ticks\":\"\"}},\"title\":{\"x\":0.05},\"xaxis\":{\"automargin\":true,\"gridcolor\":\"#EBF0F8\",\"linecolor\":\"#EBF0F8\",\"ticks\":\"\",\"title\":{\"standoff\":15},\"zerolinecolor\":\"#EBF0F8\",\"zerolinewidth\":2},\"yaxis\":{\"automargin\":true,\"gridcolor\":\"#EBF0F8\",\"linecolor\":\"#EBF0F8\",\"ticks\":\"\",\"title\":{\"standoff\":15},\"zerolinecolor\":\"#EBF0F8\",\"zerolinewidth\":2}}},\"xaxis\":{\"anchor\":\"y\",\"domain\":[0.0,1.0],\"title\":{\"text\":\"Date\"}},\"yaxis\":{\"anchor\":\"x\",\"domain\":[0.0,1.0],\"title\":{\"text\":\"Close_Log_Return\"}},\"legend\":{\"tracegroupgap\":0},\"title\":{\"text\":\"Close Log Return\"}},                        {\"responsive\": true}                    ).then(function(){\n",
              "                            \n",
              "var gd = document.getElementById('b63f95cf-a760-43ee-9bf2-6d44d46edd94');\n",
              "var x = new MutationObserver(function (mutations, observer) {{\n",
              "        var display = window.getComputedStyle(gd).display;\n",
              "        if (!display || display === 'none') {{\n",
              "            console.log([gd, 'removed!']);\n",
              "            Plotly.purge(gd);\n",
              "            observer.disconnect();\n",
              "        }}\n",
              "}});\n",
              "\n",
              "// Listen for the removal of the full notebook cells\n",
              "var notebookContainer = gd.closest('#notebook-container');\n",
              "if (notebookContainer) {{\n",
              "    x.observe(notebookContainer, {childList: true});\n",
              "}}\n",
              "\n",
              "// Listen for the clearing of the current output cell\n",
              "var outputEl = gd.closest('.output');\n",
              "if (outputEl) {{\n",
              "    x.observe(outputEl, {childList: true});\n",
              "}}\n",
              "\n",
              "                        })                };                            </script>        </div>\n",
              "</body>\n",
              "</html>"
            ]
          },
          "metadata": {}
        }
      ],
      "source": [
        "serie_retorno_log_preco = px.line(df, x=df.index, y=df['Close_Log_Return'], title='Close Log Return', template = 'plotly_white')\n",
        "serie_retorno_log_preco.show()"
      ]
    },
    {
      "cell_type": "code",
      "execution_count": null,
      "id": "a5612398",
      "metadata": {
        "colab": {
          "base_uri": "https://localhost:8080/",
          "height": 434
        },
        "id": "a5612398",
        "outputId": "c0133e88-f151-4844-b994-e4c6e1338d66"
      },
      "outputs": [
        {
          "output_type": "execute_result",
          "data": {
            "text/plain": [
              "(array([2.000e+00, 4.000e+00, 9.000e+00, 3.300e+01, 6.590e+02, 2.608e+03,\n",
              "        3.600e+02, 2.200e+01, 5.000e+00, 3.000e+00]),\n",
              " array([-0.16  , -0.1303, -0.1006, -0.0709, -0.0412, -0.0115,  0.0182,\n",
              "         0.0479,  0.0776,  0.1073,  0.137 ]),\n",
              " <a list of 10 Patch objects>)"
            ]
          },
          "metadata": {},
          "execution_count": 19
        },
        {
          "output_type": "display_data",
          "data": {
            "text/plain": [
              "<Figure size 576x396 with 1 Axes>"
            ],
            "image/png": "[encoded data removed]"
          },
          "metadata": {}
        }
      ],
      "source": [
        "plt.hist(df['Close_Log_Return'])"
      ]
    },
    {
      "cell_type": "markdown",
      "id": "e5a08dc4",
      "metadata": {
        "id": "e5a08dc4"
      },
      "source": [
        "### Verificando a presença de outliers na série de retorno do preço"
      ]
    },
    {
      "cell_type": "code",
      "execution_count": null,
      "id": "704286b6",
      "metadata": {
        "colab": {
          "base_uri": "https://localhost:8080/",
          "height": 698
        },
        "id": "704286b6",
        "outputId": "6d4d1556-8093-4249-8094-8f02ebbd59fa"
      },
      "outputs": [
        {
          "output_type": "stream",
          "name": "stdout",
          "text": [
            "Dados da feature:  Close Log Return\n",
            "Quantidade de outliers inferiores: 69\n",
            "Percentual do dataset: 0.018623%\n",
            "Quantidade de outliers superiores: 59\n",
            "Percentual do dataset: 0.015924%\n",
            "\n",
            "Quantidade total de outliers: 128\n",
            "Percentual do dataset: 0.034548%\n",
            "\n"
          ]
        },
        {
          "output_type": "display_data",
          "data": {
            "text/html": [
              "<html>\n",
              "<head><meta charset=\"utf-8\" /></head>\n",
              "<body>\n",
              "    <div>            <script src=\"https://cdnjs.cloudflare.com/ajax/libs/mathjax/2.7.5/MathJax.js?config=TeX-AMS-MML_SVG\"></script><script type=\"text/javascript\">if (window.MathJax) {MathJax.Hub.Config({SVG: {font: \"STIX-Web\"}});}</script>                <script type=\"text/javascript\">window.PlotlyConfig = {MathJaxConfig: 'local'};</script>\n",
              "        <script src=\"https://cdn.plot.ly/plotly-2.8.3.min.js\"></script>                <div id=\"4cc0645b-007e-43a6-bfa9-ae78644fd94b\" class=\"plotly-graph-div\" style=\"height:525px; width:100%;\"></div>            <script type=\"text/javascript\">                                    window.PLOTLYENV=window.PLOTLYENV || {};                                    if (document.getElementById(\"4cc0645b-007e-43a6-bfa9-ae78644fd94b\")) {                    Plotly.newPlot(                        \"4cc0645b-007e-43a6-bfa9-ae78644fd94b\",                        [{\"name\":\"Close Log Return\",\"x\":[-0.021,-0.01,-0.041,0.014,-0.019,0.008,0.008,0.01,-0.004,-0.007,0.003,-0.006,0.022,0.003,0.014,0.011,-0.006,-0.019,0.011,0.013,0.004,0.004,0.006,0.001,-0.017,0.007,-0.014,-0.008,0.028,0.018,-0.001,-0.002,0.005,0.008,-0.009,0.004,-0.069,0.017,-0.009,-0.027,-0.029,0.048,-0.013,0.019,0.015,0.003,-0.034,0.013,-0.0,-0.013,0.023,0.014,0.028,-0.005,0.002,0.002,-0.01,-0.016,0.019,0.01,-0.005,0.015,0.006,0.002,0.004,0.007,-0.005,0.009,0.012,0.021,-0.003,-0.001,0.001,0.013,-0.005,-0.002,0.012,-0.012,0.003,-0.006,0.01,0.015,0.008,-0.006,-0.0,0.02,-0.021,0.013,-0.008,0.0,0.024,-0.002,0.009,0.007,-0.004,-0.008,-0.025,0.021,0.01,-0.008,0.016,-0.005,0.022,-0.003,-0.002,-0.021,0.005,0.009,-0.019,0.023,0.013,0.015,0.004,-0.002,-0.011,0.012,-0.007,-0.004,-0.004,0.005,0.0,0.005,0.018,0.006,-0.0,0.004,0.009,-0.01,0.008,0.022,0.001,-0.005,0.005,-0.002,0.01,-0.012,0.01,-0.039,0.004,-0.038,-0.018,0.031,-0.007,0.001,0.008,-0.034,0.005,0.013,0.026,-0.033,-0.015,-0.004,-0.029,-0.032,-0.026,0.011,0.013,0.012,0.038,0.002,0.022,0.002,-0.027,0.021,0.002,0.033,0.004,0.008,-0.015,0.003,-0.036,0.024,-0.001,0.019,-0.004,-0.006,0.042,0.01,-0.006,0.016,0.016,0.002,0.014,0.022,-0.01,0.031,-0.005,-0.031,0.005,0.031,0.005,0.014,-0.006,-0.012,0.008,-0.02,0.024,0.001,-0.038,0.005,0.024,-0.001,-0.005,0.031,0.012,-0.01,0.014,-0.02,-0.017,0.024,-0.016,0.001,0.012,-0.044,0.022,0.027,-0.0,-0.036,-0.029,0.001,0.005,-0.032,0.006,0.038,0.007,0.014,0.003,0.004,0.023,0.013,-0.002,-0.003,-0.014,0.004,-0.029,-0.007,-0.043,0.021,0.01,-0.0,0.022,0.019,-0.008,0.002,-0.017,0.001,-0.03,-0.004,0.021,0.01,0.013,-0.025,0.004,-0.037,-0.019,-0.03,0.008,-0.068,0.044,-0.034,0.058,0.019,0.016,0.013,-0.013,0.026,-0.035,-0.0,0.002,0.026,0.019,0.013,-0.012,-0.009,0.025,-0.008,0.023,0.001,0.013,0.006,0.003,0.005,0.001,-0.032,0.016,-0.013,0.015,-0.026,-0.018,-0.031,0.039,-0.003,0.002,-0.005,-0.032,0.032,-0.051,0.003,0.014,0.023,0.003,-0.011,-0.005,0.008,0.029,0.009,0.013,0.004,-0.004,0.006,-0.017,0.001,-0.015,-0.007,0.007,0.024,0.006,0.006,0.008,-0.007,-0.006,0.009,0.008,-0.029,0.061,0.022,0.012,0.0,-0.017,0.01,-0.001,0.011,0.001,-0.007,0.021,0.018,0.009,0.001,-0.017,-0.012,0.002,-0.009,0.03,-0.019,0.011,-0.01,-0.027,-0.019,0.037,-0.021,-0.007,-0.022,-0.015,0.008,-0.002,0.001,0.017,-0.02,-0.007,-0.03,0.0,-0.007,0.026,-0.029,0.006,0.011,-0.025,-0.037,-0.03,0.002,-0.005,0.008,0.012,-0.002,0.009,0.005,0.017,-0.032,-0.002,0.013,-0.019,-0.004,-0.034,-0.004,-0.006,0.02,0.033,-0.008,-0.032,-0.036,0.015,0.019,-0.009,-0.008,-0.033,-0.004,0.001,0.01,-0.016,-0.017,0.006,0.032,0.01,-0.002,-0.025,-0.002,0.021,0.015,-0.013,-0.009,-0.014,-0.016,-0.04,0.01,-0.024,-0.046,0.024,0.032,0.022,-0.079,0.017,-0.07,0.053,0.091,-0.029,-0.039,0.005,0.039,-0.02,-0.098,0.074,0.005,-0.076,-0.036,-0.056,-0.048,-0.039,-0.04,-0.04,0.137,0.018,-0.121,-0.011,-0.001,0.08,-0.01,-0.107,-0.036,-0.072,-0.067,0.126,0.043,0.072,-0.005,0.026,0.051,-0.063,-0.038,0.008,0.003,0.013,-0.081,0.046,-0.006,-0.002,-0.046,-0.02,-0.067,0.09,0.018,0.046,-0.007,0.011,-0.052,0.007,0.008,-0.005,0.006,0.08,-0.008,0.027,-0.013,0.022,-0.027,0.043,-0.001,-0.01,-0.01,-0.039,-0.031,0.011,0.005,0.013,0.069,0.031,0.019,-0.036,0.028,-0.01,-0.054,0.004,-0.04,0.03,0.005,-0.013,-0.041,0.034,-0.017,0.006,0.01,0.005,0.039,-0.015,-0.009,-0.016,0.028,0.01,0.024,0.039,-0.015,-0.021,-0.009,-0.008,0.029,0.004,-0.049,-0.004,0.001,-0.026,-0.013,-0.001,0.0,-0.052,0.006,0.052,-0.027,-0.007,-0.01,0.054,0.0,0.009,-0.004,-0.011,0.023,0.016,0.008,-0.009,0.057,-0.023,0.008,0.019,-0.016,-0.03,0.007,0.025,0.041,0.015,-0.005,-0.008,0.008,0.03,0.01,-0.013,-0.003,0.016,-0.005,-0.03,0.01,0.02,0.021,-0.021,0.0,0.03,0.001,0.064,0.005,0.016,-0.028,0.026,-0.008,-0.013,-0.033,0.016,-0.009,0.049,-0.002,-0.002,-0.023,0.01,0.005,0.02,-0.001,0.024,0.003,0.024,-0.009,-0.036,0.026,-0.002,0.005,-0.009,0.005,0.003,-0.029,-0.016,-0.003,-0.003,0.009,-0.037,0.006,-0.003,0.036,-0.001,0.013,-0.013,0.002,-0.01,-0.002,-0.006,-0.023,-0.006,0.001,-0.001,-0.006,0.048,0.012,0.003,0.021,0.001,-0.003,0.022,0.004,0.002,-0.001,-0.014,0.014,0.005,0.022,0.001,0.006,-0.011,0.01,0.009,-0.019,0.015,0.008,-0.007,-0.025,0.01,0.007,0.012,0.016,0.001,-0.006,0.006,-0.001,-0.0,-0.021,-0.012,-0.008,0.006,0.017,0.021,0.001,0.011,-0.003,0.009,0.007,0.019,-0.003,0.008,0.004,0.009,-0.016,-0.007,0.005,0.016,-0.001,0.005,-0.017,0.012,0.019,0.005,-0.001,0.018,0.005,0.009,0.024,0.008,-0.008,0.016,-0.029,0.003,0.01,-0.016,0.0,-0.03,-0.049,0.057,-0.035,0.018,0.02,0.014,-0.005,0.027,0.001,0.002,-0.03,0.014,0.02,0.012,-0.013,-0.003,0.007,0.008,0.009,-0.023,0.01,-0.001,0.022,0.001,-0.004,-0.01,0.013,-0.011,0.004,0.01,0.008,0.001,-0.001,-0.01,-0.023,-0.004,-0.013,0.022,0.003,0.005,0.006,0.004,0.021,0.003,0.007,-0.004,-0.003,0.002,-0.005,0.004,-0.008,-0.012,0.006,0.007,-0.025,-0.029,-0.001,-0.011,-0.007,0.008,-0.003,0.018,0.009,-0.001,-0.048,-0.018,0.006,0.024,0.005,0.016,-0.004,0.021,0.008,-0.004,-0.006,-0.016,-0.005,0.005,0.006,0.011,0.008,-0.002,0.003,0.015,-0.004,0.014,0.006,-0.001,-0.008,-0.005,0.013,-0.003,-0.0,-0.013,0.003,0.005,-0.007,-0.007,0.004,0.018,0.0,0.006,0.011,0.002,-0.003,-0.004,0.014,-0.005,-0.011,0.003,0.003,-0.007,-0.016,-0.005,0.003,0.001,0.002,-0.009,-0.035,0.002,0.02,-0.007,-0.006,-0.034,0.001,-0.023,-0.009,0.04,-0.016,0.012,-0.007,-0.021,-0.009,-0.033,-0.019,-0.025,0.035,-0.006,-0.012,0.017,0.031,-0.002,0.018,-0.019,0.018,-0.02,-0.008,0.011,-0.006,0.025,0.009,-0.001,0.014,0.005,-0.003,-0.002,0.006,-0.0,0.005,-0.019,0.014,-0.009,-0.036,-0.017,0.005,0.003,-0.009,0.02,0.019,0.003,-0.008,0.011,-0.003,0.0,-0.018,0.015,0.018,0.0,0.02,0.009,0.002,0.003,0.002,0.002,0.008,0.015,-0.008,0.004,0.002,-0.005,-0.003,-0.009,-0.022,0.003,0.005,0.007,0.013,0.001,-0.011,-0.003,-0.01,-0.013,-0.005,-0.015,0.027,-0.02,0.014,0.029,-0.004,-0.002,0.001,-0.005,0.003,0.003,0.018,-0.005,0.006,-0.007,-0.009,0.016,-0.007,0.009,0.007,-0.009,0.009,0.006,0.0,0.003,0.011,0.002,0.013,-0.01,-0.009,0.013,0.002,0.01,0.0,0.002,-0.001,-0.026,0.008,-0.011,-0.002,0.001,0.017,-0.002,-0.004,0.005,0.012,0.005,0.015,-0.005,0.001,-0.014,-0.001,-0.006,-0.012,-0.017,0.007,0.015,0.002,-0.018,-0.024,0.024,-0.004,-0.017,-0.005,-0.003,0.024,0.003,0.003,-0.003,-0.003,-0.017,-0.004,0.007,0.011,-0.006,-0.013,-0.008,0.01,-0.011,0.014,0.004,0.0,-0.01,0.004,0.013,0.005,0.009,0.005,0.011,-0.007,-0.007,0.001,0.004,0.017,-0.013,0.003,-0.005,0.004,-0.012,-0.007,-0.006,0.004,-0.01,-0.01,-0.02,-0.002,0.019,-0.017,0.001,-0.023,0.001,0.006,-0.024,0.006,0.018,0.012,-0.003,0.018,0.002,0.006,-0.012,-0.012,0.007,0.001,-0.001,0.007,-0.017,0.016,0.013,-0.002,-0.011,-0.018,0.01,0.007,-0.002,-0.015,0.003,0.01,-0.003,0.013,0.003,-0.004,0.003,-0.008,0.003,0.009,0.009,0.01,0.006,0.002,-0.012,0.002,-0.007,-0.008,-0.019,-0.006,-0.003,0.006,-0.019,0.011,0.014,-0.001,0.003,-0.013,-0.009,0.007,-0.01,-0.018,-0.011,-0.003,0.016,0.003,0.004,-0.017,0.004,-0.012,-0.006,0.013,-0.013,-0.008,0.004,-0.004,0.016,0.001,0.011,0.003,-0.005,0.01,-0.019,0.013,0.002,-0.02,0.002,-0.003,0.007,-0.012,-0.011,0.003,-0.01,-0.012,0.003,0.002,0.004,-0.004,-0.003,0.003,0.018,0.0,0.001,0.016,0.008,-0.013,-0.008,-0.006,-0.011,-0.021,-0.009,0.016,-0.016,-0.003,-0.011,0.004,0.001,0.019,0.0,-0.005,-0.011,-0.018,0.007,0.002,-0.005,-0.021,-0.023,-0.059,0.003,-0.084,0.05,0.005,0.037,0.002,0.022,-0.006,0.014,-0.036,-0.013,-0.0,0.025,0.0,-0.016,0.007,0.028,0.01,0.02,0.028,-0.028,-0.028,0.029,0.018,-0.033,-0.002,-0.003,0.013,0.002,0.015,-0.002,-0.013,-0.007,-0.049,-0.001,0.01,0.003,-0.012,0.002,-0.02,-0.03,-0.002,0.006,0.025,-0.02,0.039,0.011,0.014,0.008,-0.021,0.021,-0.001,-0.018,0.023,0.029,-0.011,0.015,0.037,0.004,-0.02,-0.018,0.015,0.008,0.009,-0.003,-0.025,-0.004,0.021,-0.005,0.005,-0.027,-0.005,-0.008,-0.007,-0.016,0.006,-0.007,0.02,-0.013,0.028,0.022,-0.004,0.018,0.011,-0.015,-0.021,0.014,-0.015,0.003,-0.015,-0.006,-0.004,-0.014,0.028,-0.004,0.012,0.006,-0.001,0.006,-0.026,0.004,0.043,0.002,-0.014,0.001,0.008,0.012,0.003,-0.001,-0.013,0.014,0.011,0.018,0.003,0.006,0.001,0.002,0.007,-0.001,-0.002,0.005,0.023,0.0,0.01,0.0,0.011,-0.001,-0.005,-0.024,0.026,-0.01,0.005,0.012,0.001,-0.006,0.002,-0.011,0.011,-0.002,0.015,0.014,-0.012,-0.028,0.014,0.013,-0.003,-0.005,0.03,-0.002,-0.007,-0.001,0.001,-0.006,-0.006,-0.016,-0.0,0.013,-0.01,-0.015,-0.003,-0.006,0.011,-0.014,-0.012,0.003,-0.012,-0.019,-0.007,0.028,-0.015,-0.002,0.012,0.005,-0.006,-0.002,-0.015,0.007,-0.004,0.007,-0.008,0.002,0.01,-0.005,-0.021,0.007,-0.014,-0.01,-0.001,-0.004,-0.033,-0.023,-0.006,-0.034,0.009,0.037,-0.028,-0.008,-0.01,0.007,0.014,-0.011,-0.015,0.013,-0.02,0.0,-0.018,0.031,0.005,-0.008,0.019,0.011,-0.005,0.014,0.002,0.018,-0.0,-0.03,-0.001,-0.03,0.001,-0.014,-0.009,0.032,0.006,0.02,0.005,0.005,-0.018,-0.031,-0.003,-0.003,0.017,-0.017,0.009,0.012,0.014,-0.021,-0.022,-0.007,-0.001,0.026,0.046,0.012,-0.02,-0.008,-0.002,0.031,0.019,-0.011,0.021,-0.003,0.008,-0.003,-0.018,0.002,0.021,-0.006,0.003,-0.006,0.008,-0.015,-0.001,-0.005,0.005,-0.018,-0.002,-0.003,0.004,-0.018,0.011,0.025,0.001,0.017,0.008,0.033,0.002,-0.005,-0.0,-0.002,0.001,-0.006,0.01,-0.023,-0.0,-0.004,-0.018,0.007,-0.006,-0.01,-0.003,0.002,0.013,-0.006,-0.008,0.012,0.007,0.002,0.006,-0.006,-0.014,-0.004,-0.017,-0.009,0.012,-0.01,-0.002,0.009,-0.011,0.023,-0.003,0.021,-0.016,-0.017,-0.003,-0.005,0.007,-0.021,-0.016,0.019,-0.004,0.003,0.02,-0.015,-0.009,0.005,0.023,-0.007,0.013,-0.011,0.002,-0.0,0.014,0.013,0.006,-0.003,-0.003,0.005,-0.001,0.015,0.009,0.005,-0.004,-0.001,-0.009,0.009,0.026,0.012,-0.013,-0.009,-0.013,0.007,0.002,-0.003,0.009,-0.006,0.001,0.007,-0.004,-0.001,-0.003,0.004,-0.013,-0.019,0.006,-0.018,0.007,0.01,-0.013,-0.002,-0.008,-0.01,0.002,-0.002,-0.006,-0.003,-0.005,-0.005,-0.02,-0.0,0.01,-0.001,0.006,0.006,0.003,-0.009,-0.007,-0.01,0.035,0.016,-0.007,0.002,-0.006,-0.014,-0.002,-0.007,0.002,-0.011,-0.006,-0.008,-0.006,-0.007,0.014,0.006,0.006,-0.008,-0.018,0.012,-0.017,0.007,0.001,0.015,0.005,-0.014,-0.008,-0.037,0.019,-0.021,0.005,0.014,0.007,0.011,0.002,-0.0,-0.013,0.012,0.018,-0.011,0.003,-0.001,0.015,-0.008,-0.006,-0.006,-0.012,0.004,0.005,-0.003,0.007,0.01,0.01,0.003,-0.001,0.001,-0.0,-0.006,-0.025,-0.021,0.008,0.001,-0.023,0.002,-0.024,-0.006,-0.031,-0.012,0.025,-0.022,-0.005,0.008,-0.032,0.007,-0.024,-0.023,0.02,0.006,0.009,-0.003,-0.005,-0.043,-0.004,0.016,-0.012,-0.003,0.009,0.025,-0.024,0.026,0.003,0.011,0.005,-0.005,0.024,0.005,-0.009,0.014,0.007,-0.004,-0.013,-0.007,0.019,-0.014,-0.001,-0.021,0.001,0.031,0.019,0.008,0.006,0.006,0.0,0.012,0.001,-0.021,-0.002,0.02,0.015,-0.015,-0.026,-0.005,0.001,0.002,0.036,-0.004,0.002,0.012,0.026,0.009,-0.005,-0.008,-0.005,0.009,0.0,0.008,0.026,-0.011,-0.018,0.009,-0.003,-0.003,-0.009,-0.001,-0.026,0.016,-0.001,-0.012,0.007,-0.008,-0.002,0.005,0.009,0.003,0.019,0.015,0.018,-0.011,0.0,0.013,0.007,-0.018,-0.01,-0.013,0.017,-0.01,-0.007,0.002,-0.004,0.008,-0.011,-0.008,-0.012,-0.009,0.007,-0.016,0.008,0.023,0.016,-0.024,-0.007,0.002,-0.01,-0.016,0.008,-0.0,0.012,-0.024,-0.018,-0.003,0.011,0.003,0.004,-0.003,-0.018,0.001,-0.001,0.005,-0.004,0.009,0.005,0.007,0.003,-0.003,0.001,0.005,-0.023,0.013,-0.0,-0.011,0.003,-0.025,0.008,-0.005,0.006,0.008,-0.008,-0.01,-0.01,-0.003,0.015,-0.02,-0.011,-0.002,0.003,-0.006,-0.007,0.008,-0.032,0.018,-0.007,0.024,0.007,-0.008,0.016,-0.005,-0.008,0.008,-0.013,-0.021,0.012,0.003,0.002,0.0,-0.014,-0.003,0.021,-0.011,-0.011,0.011,-0.018,-0.015,0.004,0.004,-0.009,-0.011,0.003,0.023,0.009,0.015,0.002,0.013,0.004,-0.004,0.034,0.002,0.013,-0.003,0.028,-0.006,-0.006,0.021,-0.01,-0.009,-0.001,0.014,-0.005,-0.022,0.015,0.018,-0.003,-0.008,0.005,-0.008,-0.0,0.009,-0.004,0.026,0.009,0.006,0.005,-0.012,-0.006,0.018,-0.003,0.009,-0.01,0.002,-0.012,-0.019,-0.003,0.011,-0.003,0.006,-0.014,0.009,-0.008,-0.019,0.007,0.008,-0.004,-0.005,0.03,0.021,0.006,0.009,-0.005,-0.003,-0.006,0.016,-0.01,-0.008,0.001,-0.016,0.001,-0.007,0.0,0.0,-0.003,0.016,0.003,-0.005,-0.003,0.018,0.004,0.017,0.004,-0.005,-0.001,0.024,0.011,0.006,-0.01,0.01,-0.003,-0.002,-0.01,-0.004,-0.019,0.001,0.013,-0.007,0.005,-0.005,-0.011,0.019,-0.003,-0.015,0.004,0.021,0.01,0.015,0.007,0.002,-0.01,0.022,0.001,0.019,-0.011,0.016,-0.002,0.012,-0.001,-0.017,-0.002,-0.025,-0.009,-0.008,0.002,-0.024,0.018,0.02,-0.0,-0.012,-0.01,-0.017,-0.005,0.005,-0.015,0.022,-0.046,-0.009,-0.024,0.012,0.019,0.046,0.006,-0.007,0.004,-0.035,0.047,0.001,-0.033,-0.033,0.026,-0.026,-0.035,-0.0,-0.033,0.024,-0.028,0.036,-0.025,0.025,0.043,-0.013,0.008,-0.013,-0.02,0.011,-0.009,-0.005,0.01,-0.022,-0.001,-0.01,0.016,0.025,0.049,-0.012,0.003,-0.008,-0.007,-0.001,-0.045,-0.013,0.014,-0.017,0.011,-0.034,-0.002,-0.013,0.006,-0.038,-0.021,-0.0,0.036,-0.004,0.024,0.009,0.015,-0.015,0.009,-0.012,-0.03,-0.021,0.01,0.03,0.01,-0.022,-0.014,-0.002,-0.008,0.008,0.02,-0.026,0.002,0.028,0.004,-0.014,-0.004,0.0,-0.019,0.001,-0.018,0.016,0.027,0.007,-0.001,-0.009,0.012,-0.018,-0.006,0.026,0.022,0.013,0.0,-0.001,0.001,0.011,-0.001,-0.001,-0.003,-0.011,0.006,-0.016,-0.002,-0.008,-0.016,-0.018,0.013,-0.001,-0.006,0.005,0.029,0.024,-0.011,0.02,-0.001,-0.008,0.007,-0.025,-0.01,0.023,-0.002,0.023,0.015,0.011,-0.0,-0.001,0.003,0.008,0.0,-0.005,0.017,-0.004,-0.013,-0.004,0.016,0.019,0.016,-0.019,0.005,-0.009,0.016,0.02,0.012,-0.016,-0.003,0.004,0.001,-0.007,-0.007,0.005,0.01,-0.018,-0.013,-0.011,0.004,-0.013,0.004,-0.018,0.011,-0.005,-0.023,0.005,0.022,-0.013,-0.01,-0.003,0.0,0.02,-0.003,-0.006,-0.004,0.011,-0.008,0.018,-0.009,0.002,-0.002,0.001,-0.012,0.016,-0.019,0.001,-0.006,0.007,-0.011,-0.007,0.004,-0.011,0.016,0.01,0.002,-0.006,0.003,-0.014,-0.014,-0.002,-0.011,-0.022,-0.011,-0.01,0.018,0.013,-0.007,0.019,-0.014,-0.002,0.005,-0.006,-0.029,0.016,-0.006,-0.014,-0.008,-0.011,-0.006,0.005,-0.018,0.001,-0.02,-0.031,0.005,0.033,0.036,-0.012,-0.011,-0.025,0.021,0.019,-0.018,0.006,-0.002,-0.003,-0.002,0.019,0.002,0.025,-0.0,-0.027,-0.014,-0.007,-0.02,-0.001,-0.01,-0.02,0.004,0.021,0.006,0.037,0.012,0.003,0.024,0.004,0.005,-0.041,-0.014,0.01,0.002,0.004,-0.008,-0.001,0.016,-0.004,-0.008,-0.004,-0.006,-0.024,0.005,0.047,-0.007,0.007,-0.024,-0.016,-0.0,0.019,-0.004,-0.008,0.007,0.009,0.004,0.015,0.0,0.003,-0.03,0.006,-0.027,-0.017,-0.002,-0.003,0.032,-0.022,-0.003,-0.017,0.037,-0.01,-0.008,-0.011,0.003,0.003,0.005,-0.03,-0.016,0.006,0.012,-0.006,-0.003,-0.007,-0.028,0.007,-0.015,-0.026,-0.002,-0.016,-0.011,-0.015,0.014,-0.024,-0.017,0.003,-0.011,0.002,0.008,-0.014,0.023,0.007,0.045,0.004,-0.05,0.025,0.031,-0.006,-0.005,-0.027,0.012,0.007,0.021,0.017,-0.004,0.002,0.04,-0.017,-0.01,-0.005,-0.007,0.028,0.031,0.017,0.05,0.039,0.003,-0.003,-0.009,0.018,0.001,-0.016,-0.036,0.013,0.064,-0.002,0.007,-0.003,-0.026,-0.001,0.024,0.006,0.002,-0.024,0.01,-0.036,0.006,-0.02,0.009,0.036,-0.003,0.036,0.022,-0.014,0.015,-0.006,0.015,-0.001,-0.014,-0.02,0.023,0.026,-0.003,-0.007,-0.006,-0.025,0.006,-0.017,0.001,-0.014,0.04,-0.006,0.009,-0.027,-0.0,-0.019,-0.005,-0.009,-0.008,-0.008,0.0,0.003,-0.009,-0.002,-0.01,0.011,0.018,0.015,-0.004,0.001,0.022,-0.01,-0.034,0.005,-0.021,0.005,0.01,0.002,0.016,0.01,-0.014,0.028,-0.029,-0.017,0.015,0.02,0.01,0.014,0.006,-0.014,0.001,0.002,0.021,0.015,0.005,0.006,0.016,0.002,0.016,0.004,-0.002,0.001,0.006,-0.002,-0.002,0.001,-0.003,0.011,-0.01,-0.011,0.016,0.009,0.001,-0.0,0.001,-0.013,0.024,-0.0,0.014,-0.005,0.008,-0.003,-0.001,-0.023,0.004,-0.005,0.0,-0.0,0.015,-0.001,-0.012,0.006,0.023,-0.001,0.009,0.002,-0.038,0.01,-0.031,0.004,0.015,-0.014,0.005,0.007,0.011,0.01,-0.005,-0.011,0.006,0.017,-0.017,0.0,0.019,-0.002,0.015,0.006,0.008,0.009,-0.011,0.002,0.011,0.015,0.017,-0.004,0.005,0.004,-0.001,-0.003,-0.001,0.007,0.001,0.01,-0.025,-0.025,-0.002,0.039,0.002,-0.014,-0.033,-0.034,0.008,0.018,-0.016,0.003,0.018,0.014,0.001,-0.01,0.003,0.021,-0.03,0.015,-0.04,0.014,-0.008,0.021,0.005,-0.012,-0.003,-0.022,0.002,-0.018,0.003,-0.0,-0.022,0.008,0.001,-0.007,0.012,0.012,0.001,0.018,0.007,-0.011,0.037,-0.004,0.008,-0.007,0.001,0.007,0.005,0.024,-0.005,0.003,0.008,-0.003,-0.003,0.009,0.019,0.001,0.005,-0.002,-0.027,0.006,0.003,-0.004,0.006,-0.015,0.003,0.01,0.002,0.018,0.013,-0.004,0.019,-0.002,-0.001,0.012,0.008,-0.007,-0.017,-0.012,0.005,-0.017,0.014,-0.007,-0.009,-0.016,-0.002,0.001,0.013,-0.013,0.023,-0.007,-0.024,0.01,-0.03,0.009,0.0,0.005,0.007,0.005,0.014,-0.004,-0.004,0.003,0.009,-0.015,-0.009,0.006,0.001,-0.004,-0.007,-0.017,0.024,-0.003,-0.012,0.006,0.01,0.012,-0.004,-0.003,0.011,0.02,-0.009,-0.019,0.013,-0.003,0.011,0.016,0.003,0.01,0.004,0.003,-0.017,-0.092,0.017,-0.016,0.016,0.009,-0.0,0.013,-0.005,0.003,-0.02,-0.007,0.004,-0.001,0.008,0.003,-0.007,-0.009,-0.008,0.002,0.002,-0.005,0.006,-0.02,-0.0,0.008,-0.003,0.018,-0.008,0.006,0.004,0.011,0.006,-0.001,-0.001,-0.011,-0.002,0.011,0.013,0.016,0.005,0.004,-0.003,0.002,-0.002,-0.004,-0.004,0.006,0.009,-0.01,0.004,0.003,0.006,0.009,0.009,-0.005,0.002,0.015,-0.001,-0.003,-0.01,0.005,0.014,0.001,0.003,-0.009,0.011,-0.001,0.02,0.007,0.009,-0.001,-0.001,0.004,-0.006,-0.001,0.015,0.003,0.0,0.017,-0.005,0.017,0.003,0.003,-0.002,0.015,0.003,-0.0,0.0,-0.005,-0.003,-0.013,-0.002,-0.007,-0.003,0.01,0.001,0.032,-0.002,0.0,-0.007,-0.004,0.015,-0.003,0.004,-0.001,-0.009,0.005,-0.004,0.001,-0.013,0.012,0.004,-0.01,0.001,-0.016,-0.007,-0.007,0.001,0.005,-0.026,0.027,-0.019,-0.011,0.004,-0.023,0.024,0.013,0.016,-0.001,-0.0,-0.004,-0.001,0.001,-0.02,-0.01,0.004,0.011,-0.007,0.01,-0.011,0.003,0.001,0.014,-0.012,-0.007,0.002,0.007,-0.006,0.009,0.024,0.001,0.007,0.005,0.004,0.0,0.019,0.001,0.008,0.005,0.004,-0.007,-0.008,0.015,-0.0,0.005,0.001,0.017,-0.003,0.003,0.006,-0.012,0.037,0.022,-0.01,-0.003,0.005,0.007,-0.017,-0.026,0.025,-0.014,-0.015,-0.008,0.032,0.009,0.003,0.003,0.012,0.003,0.007,0.007,0.004,-0.008,-0.017,-0.001,0.004,0.003,-0.004,-0.002,-0.006,0.016,0.006,-0.006,-0.004,-0.013,-0.0,-0.012,0.003,0.01,-0.002,-0.005,0.008,-0.015,0.001,0.018,-0.008,-0.001,-0.003,0.01,-0.005,-0.018,0.014,0.009,0.002,-0.013,-0.018,0.015,0.02,0.001,-0.003,0.001,-0.002,-0.005,0.016,0.001,-0.004,-0.018,-0.015,-0.002,-0.005,0.003,0.016,0.019,-0.007,0.0,-0.001,0.016,-0.034,-0.006,-0.015,0.011,-0.023,-0.009,-0.015,-0.046,0.009,0.009,0.006,0.017,-0.025,-0.007,-0.03,-0.012,-0.009,0.006,-0.009,-0.01,-0.009,-0.013,0.022,0.01,-0.029,0.008,0.004,0.006,-0.011,0.016,0.014,0.001,0.011,0.014,-0.003,0.006,-0.002,-0.006,0.019,0.01,0.001,0.019,-0.01,0.002,0.014,-0.007,0.015,0.013,-0.01,0.006,0.005,-0.013,0.001,0.004,0.022,-0.005,-0.009,-0.015,-0.005,-0.029,0.013,0.014,-0.02,-0.003,-0.01,0.004,-0.015,0.023,-0.017,0.008,0.022,-0.006,0.012,-0.026,0.004,-0.006,-0.02,0.005,0.017,0.0,-0.024,0.006,-0.006,0.01,0.018,0.02,-0.002,-0.001,0.017,-0.019,0.008,0.0,0.017,-0.008,-0.009,0.037,0.02,-0.004,-0.008,0.045,0.0,-0.028,-0.009,0.005,0.028,0.001,-0.023,0.004,0.016,-0.003,-0.027,0.012,0.019,-0.023,0.036,0.006,0.011,0.013,-0.01,-0.011,-0.024,0.0,-0.001,-0.007,0.012,0.029,-0.007,-0.007,0.002,-0.014,-0.008,0.027,0.015,0.005,-0.002,0.004,-0.013,0.005,-0.002,-0.008,-0.025,0.006,0.006,0.01,-0.004,-0.012,0.002,-0.011,-0.005,0.005,-0.007,0.004,0.028,0.035,0.006,0.003,-0.002,0.004,0.017,0.002,-0.002,0.009,-0.004,0.004,0.01,0.008,-0.001,-0.009,0.015,0.012,-0.023,0.002,0.014,0.004,0.005,0.007,-0.003,-0.038,-0.002,0.01,-0.01,0.018,-0.003,0.022,-0.005,-0.01,0.012,-0.011,0.004,0.01,-0.007,0.004,-0.003,-0.018,-0.01,-0.004,0.001,0.011,0.028,-0.002,0.011,-0.003,0.005,0.009,-0.004,-0.016,-0.013,-0.031,-0.001,0.017,-0.036,0.027,0.011,0.007,-0.007,-0.009,0.019,0.008,0.003,-0.011,-0.004,-0.013,-0.02,0.002,0.013,-0.011,0.014,0.0,0.014,-0.009,0.016,-0.003,-0.0,0.002,-0.009,0.005,-0.01,-0.007,0.013,-0.008,-0.006,-0.027,0.004,-0.005,-0.018,-0.0,0.021,0.027,-0.001,-0.005,-0.003,0.013,0.016,0.002,0.009,-0.004,-0.0,0.004,-0.014,0.012,0.006,-0.004,0.015,-0.006,0.005,-0.007,-0.004,0.018,0.009,0.017,0.0,-0.019,0.006,0.0,0.002,0.004,-0.007,0.014,0.015,0.004,0.004,0.012,-0.006,-0.012,-0.001,-0.0,0.001,0.008,-0.012,0.005,-0.002,0.004,-0.014,0.002,0.006,-0.005,-0.011,0.003,0.005,-0.025,0.02,0.006,0.013,-0.001,-0.02,0.013,-0.03,-0.012,0.008,-0.003,-0.002,0.02,-0.012,-0.024,-0.013,0.009,0.009,0.023,0.006,-0.005,-0.009,0.015,0.01,0.007,0.002,-0.001,0.004,0.009,-0.008,0.002,0.009,-0.001,-0.002,0.005,-0.002,-0.007,0.006,0.008,-0.002,-0.003,-0.007,-0.029,0.005,0.01,-0.019,-0.006,0.013,0.006,0.02,0.005,0.002,0.009,-0.004,-0.003,0.012,0.013,0.002,-0.005,0.004,0.008,-0.006,0.008,-0.011,0.009,0.004,-0.001,-0.001,0.011,-0.018,0.005,-0.013,-0.008,0.006,-0.002,-0.007,0.018,0.011,-0.002,-0.013,0.006,0.005,-0.001,0.008,-0.001,0.012,0.003,0.005,-0.001,-0.003,0.003,0.011,0.003,-0.006,0.006,0.015,0.007,-0.0,0.006,0.011,-0.006,-0.005,0.022,-0.007,-0.007,-0.002,-0.004,-0.003,-0.004,0.016,0.003,-0.01,0.002,0.015,0.003,-0.016,0.012,0.01,-0.01,-0.033,0.017,-0.009,0.001,-0.015,0.008,0.008,0.004,-0.007,-0.012,-0.011,0.025,0.011,-0.009,-0.011,0.008,-0.003,0.013,-0.017,-0.008,-0.073,-0.026,0.011,0.023,-0.01,0.016,-0.048,-0.042,-0.13,0.069,-0.079,-0.16,0.13,-0.15,0.047,-0.109,0.021,-0.019,-0.054,0.092,0.072,0.036,-0.057,0.016,-0.022,-0.029,0.018,-0.038,0.063,0.03,0.029,-0.012,0.015,0.014,-0.014,-0.013,0.015,-0.0,0.021,-0.013,-0.056,0.038,0.039,0.023,-0.033,-0.02,0.008,-0.005,-0.012,0.027,-0.015,-0.015,-0.001,0.016,-0.019,0.046,-0.006,0.007,0.021,-0.01,0.042,-0.002,0.029,-0.011,0.005,0.014,0.027,0.021,0.009,0.009,0.031,-0.009,-0.022,-0.02,-0.005,0.012,0.021,0.006,0.005,-0.013,0.007,-0.017,0.017,-0.023,0.02,-0.007,0.012,0.0,0.005,0.022,-0.012,0.02,-0.006,0.009,-0.013,0.018,0.013,-0.012,0.023,0.015,-0.001,-0.0,-0.019,0.001,0.02,-0.004,0.014,-0.006,-0.02,-0.001,-0.016,0.016,0.013,-0.013,0.006,-0.012,-0.001,-0.016,0.009,-0.017,0.024,-0.012,0.006,0.001,0.008,-0.002,-0.015,-0.0,0.015,-0.028,0.028,-0.003,-0.012,0.005,-0.012,0.012,-0.025,-0.005,0.019,0.0,-0.006,0.004,-0.018,-0.013,0.003,-0.016,0.013,-0.0,-0.024,-0.012,0.011,0.009,-0.015,0.022,-0.005,-0.001,0.025,-0.004,0.01,0.008,-0.003,-0.008,0.004,0.019,0.0,0.013,-0.006,-0.002,-0.014,-0.043,0.013,-0.028,0.017,0.023,0.03,0.0,0.03,0.014,-0.008,-0.023,0.023,0.018,0.007,-0.007,0.0,0.008,0.022,0.003,0.001,0.003,-0.015,0.022,0.004,0.01,0.007,-0.001,-0.0,-0.008,0.02,0.003,-0.003,0.01,0.015,0.002,-0.004,-0.014,0.003,0.013,0.01,0.004,-0.001,-0.006,0.006,0.005,0.017,0.025,-0.018,0.01,-0.016,0.012,-0.024,0.006,-0.005,-0.008,-0.011,-0.011,-0.006,-0.005,0.029,-0.028,0.012,0.007,0.013,-0.004,0.006,-0.003,-0.001,-0.008,0.007,-0.001,0.011,-0.01,-0.003,-0.053,0.022,0.004,-0.03,-0.02,0.003,0.011,-0.003,0.013,0.022,-0.041,0.006,0.013,0.019,-0.007,0.006,-0.007,0.022,-0.015,0.012,-0.011,-0.015,-0.011,0.015,0.009,0.006,0.012,-0.002,-0.012,0.019,-0.0,0.001,0.006,-0.005,0.01,0.004,0.008,0.003,0.003,-0.001,-0.007,-0.006,0.01,0.001,-0.01,0.014,-0.008,-0.01,0.003,-0.013,0.016,0.003,0.017,-0.001,0.009,-0.027,0.008,0.01,0.009,0.0,-0.003,0.001,-0.001,0.012,-0.008,0.008,0.003,0.01,0.005,0.016,0.01,0.004,0.005,-0.008,0.001,0.001,-0.005,0.006,-0.001,-0.006,-0.009,0.003,0.007,-0.004,-0.003,0.008,-0.018,0.001,-0.001,-0.004,-0.009,0.015,-0.006,-0.014,0.015,-0.013,0.017,0.004,0.002,-0.007,-0.012,-0.013,0.008,0.004,0.002,-0.009,0.008,-0.011,0.013,-0.005,-0.031,0.006,0.009,-0.014,-0.001,0.01,0.002,-0.007,-0.001,-0.011,0.004,-0.017,-0.011,-0.011,0.004,0.008,-0.005,0.023,0.005,-0.017,0.016,-0.008,-0.008,0.005,-0.023,0.002,0.008,-0.039,0.017,-0.009,0.018,-0.002,-0.01,-0.011,-0.021,-0.024,0.013,0.018,0.016,-0.007,0.003,-0.031,0.009,-0.001,0.017,-0.022,0.001,0.001,0.0,0.02,-0.006,0.011,-0.002,0.013,-0.002,-0.033,0.001,-0.028,-0.013,0.023,-0.021,-0.001,-0.006,-0.021,0.02,0.001,-0.021,0.014,-0.0,0.007,0.004,0.016,-0.013,-0.017,-0.015,-0.004,0.005,-0.009,0.015,0.008,0.012,-0.034,0.006,-0.009,-0.011,0.036,0.006,0.017,0.007,0.005,-0.017,0.014,-0.003,-0.006,0.006,0.008,-0.009,-0.021,0.005,-0.002,-0.003,0.006,-0.006,-0.007,0.007],\"type\":\"box\"}],                        {\"template\":{\"data\":{\"bar\":[{\"error_x\":{\"color\":\"#2a3f5f\"},\"error_y\":{\"color\":\"#2a3f5f\"},\"marker\":{\"line\":{\"color\":\"#E5ECF6\",\"width\":0.5},\"pattern\":{\"fillmode\":\"overlay\",\"size\":10,\"solidity\":0.2}},\"type\":\"bar\"}],\"barpolar\":[{\"marker\":{\"line\":{\"color\":\"#E5ECF6\",\"width\":0.5},\"pattern\":{\"fillmode\":\"overlay\",\"size\":10,\"solidity\":0.2}},\"type\":\"barpolar\"}],\"carpet\":[{\"aaxis\":{\"endlinecolor\":\"#2a3f5f\",\"gridcolor\":\"white\",\"linecolor\":\"white\",\"minorgridcolor\":\"white\",\"startlinecolor\":\"#2a3f5f\"},\"baxis\":{\"endlinecolor\":\"#2a3f5f\",\"gridcolor\":\"white\",\"linecolor\":\"white\",\"minorgridcolor\":\"white\",\"startlinecolor\":\"#2a3f5f\"},\"type\":\"carpet\"}],\"choropleth\":[{\"colorbar\":{\"outlinewidth\":0,\"ticks\":\"\"},\"type\":\"choropleth\"}],\"contour\":[{\"colorbar\":{\"outlinewidth\":0,\"ticks\":\"\"},\"colorscale\":[[0.0,\"#0d0887\"],[0.1111111111111111,\"#46039f\"],[0.2222222222222222,\"#7201a8\"],[0.3333333333333333,\"#9c179e\"],[0.4444444444444444,\"#bd3786\"],[0.5555555555555556,\"#d8576b\"],[0.6666666666666666,\"#ed7953\"],[0.7777777777777778,\"#fb9f3a\"],[0.8888888888888888,\"#fdca26\"],[1.0,\"#f0f921\"]],\"type\":\"contour\"}],\"contourcarpet\":[{\"colorbar\":{\"outlinewidth\":0,\"ticks\":\"\"},\"type\":\"contourcarpet\"}],\"heatmap\":[{\"colorbar\":{\"outlinewidth\":0,\"ticks\":\"\"},\"colorscale\":[[0.0,\"#0d0887\"],[0.1111111111111111,\"#46039f\"],[0.2222222222222222,\"#7201a8\"],[0.3333333333333333,\"#9c179e\"],[0.4444444444444444,\"#bd3786\"],[0.5555555555555556,\"#d8576b\"],[0.6666666666666666,\"#ed7953\"],[0.7777777777777778,\"#fb9f3a\"],[0.8888888888888888,\"#fdca26\"],[1.0,\"#f0f921\"]],\"type\":\"heatmap\"}],\"heatmapgl\":[{\"colorbar\":{\"outlinewidth\":0,\"ticks\":\"\"},\"colorscale\":[[0.0,\"#0d0887\"],[0.1111111111111111,\"#46039f\"],[0.2222222222222222,\"#7201a8\"],[0.3333333333333333,\"#9c179e\"],[0.4444444444444444,\"#bd3786\"],[0.5555555555555556,\"#d8576b\"],[0.6666666666666666,\"#ed7953\"],[0.7777777777777778,\"#fb9f3a\"],[0.8888888888888888,\"#fdca26\"],[1.0,\"#f0f921\"]],\"type\":\"heatmapgl\"}],\"histogram\":[{\"marker\":{\"pattern\":{\"fillmode\":\"overlay\",\"size\":10,\"solidity\":0.2}},\"type\":\"histogram\"}],\"histogram2d\":[{\"colorbar\":{\"outlinewidth\":0,\"ticks\":\"\"},\"colorscale\":[[0.0,\"#0d0887\"],[0.1111111111111111,\"#46039f\"],[0.2222222222222222,\"#7201a8\"],[0.3333333333333333,\"#9c179e\"],[0.4444444444444444,\"#bd3786\"],[0.5555555555555556,\"#d8576b\"],[0.6666666666666666,\"#ed7953\"],[0.7777777777777778,\"#fb9f3a\"],[0.8888888888888888,\"#fdca26\"],[1.0,\"#f0f921\"]],\"type\":\"histogram2d\"}],\"histogram2dcontour\":[{\"colorbar\":{\"outlinewidth\":0,\"ticks\":\"\"},\"colorscale\":[[0.0,\"#0d0887\"],[0.1111111111111111,\"#46039f\"],[0.2222222222222222,\"#7201a8\"],[0.3333333333333333,\"#9c179e\"],[0.4444444444444444,\"#bd3786\"],[0.5555555555555556,\"#d8576b\"],[0.6666666666666666,\"#ed7953\"],[0.7777777777777778,\"#fb9f3a\"],[0.8888888888888888,\"#fdca26\"],[1.0,\"#f0f921\"]],\"type\":\"histogram2dcontour\"}],\"mesh3d\":[{\"colorbar\":{\"outlinewidth\":0,\"ticks\":\"\"},\"type\":\"mesh3d\"}],\"parcoords\":[{\"line\":{\"colorbar\":{\"outlinewidth\":0,\"ticks\":\"\"}},\"type\":\"parcoords\"}],\"pie\":[{\"automargin\":true,\"type\":\"pie\"}],\"scatter\":[{\"marker\":{\"colorbar\":{\"outlinewidth\":0,\"ticks\":\"\"}},\"type\":\"scatter\"}],\"scatter3d\":[{\"line\":{\"colorbar\":{\"outlinewidth\":0,\"ticks\":\"\"}},\"marker\":{\"colorbar\":{\"outlinewidth\":0,\"ticks\":\"\"}},\"type\":\"scatter3d\"}],\"scattercarpet\":[{\"marker\":{\"colorbar\":{\"outlinewidth\":0,\"ticks\":\"\"}},\"type\":\"scattercarpet\"}],\"scattergeo\":[{\"marker\":{\"colorbar\":{\"outlinewidth\":0,\"ticks\":\"\"}},\"type\":\"scattergeo\"}],\"scattergl\":[{\"marker\":{\"colorbar\":{\"outlinewidth\":0,\"ticks\":\"\"}},\"type\":\"scattergl\"}],\"scattermapbox\":[{\"marker\":{\"colorbar\":{\"outlinewidth\":0,\"ticks\":\"\"}},\"type\":\"scattermapbox\"}],\"scatterpolar\":[{\"marker\":{\"colorbar\":{\"outlinewidth\":0,\"ticks\":\"\"}},\"type\":\"scatterpolar\"}],\"scatterpolargl\":[{\"marker\":{\"colorbar\":{\"outlinewidth\":0,\"ticks\":\"\"}},\"type\":\"scatterpolargl\"}],\"scatterternary\":[{\"marker\":{\"colorbar\":{\"outlinewidth\":0,\"ticks\":\"\"}},\"type\":\"scatterternary\"}],\"surface\":[{\"colorbar\":{\"outlinewidth\":0,\"ticks\":\"\"},\"colorscale\":[[0.0,\"#0d0887\"],[0.1111111111111111,\"#46039f\"],[0.2222222222222222,\"#7201a8\"],[0.3333333333333333,\"#9c179e\"],[0.4444444444444444,\"#bd3786\"],[0.5555555555555556,\"#d8576b\"],[0.6666666666666666,\"#ed7953\"],[0.7777777777777778,\"#fb9f3a\"],[0.8888888888888888,\"#fdca26\"],[1.0,\"#f0f921\"]],\"type\":\"surface\"}],\"table\":[{\"cells\":{\"fill\":{\"color\":\"#EBF0F8\"},\"line\":{\"color\":\"white\"}},\"header\":{\"fill\":{\"color\":\"#C8D4E3\"},\"line\":{\"color\":\"white\"}},\"type\":\"table\"}]},\"layout\":{\"annotationdefaults\":{\"arrowcolor\":\"#2a3f5f\",\"arrowhead\":0,\"arrowwidth\":1},\"autotypenumbers\":\"strict\",\"coloraxis\":{\"colorbar\":{\"outlinewidth\":0,\"ticks\":\"\"}},\"colorscale\":{\"diverging\":[[0,\"#8e0152\"],[0.1,\"#c51b7d\"],[0.2,\"#de77ae\"],[0.3,\"#f1b6da\"],[0.4,\"#fde0ef\"],[0.5,\"#f7f7f7\"],[0.6,\"#e6f5d0\"],[0.7,\"#b8e186\"],[0.8,\"#7fbc41\"],[0.9,\"#4d9221\"],[1,\"#276419\"]],\"sequential\":[[0.0,\"#0d0887\"],[0.1111111111111111,\"#46039f\"],[0.2222222222222222,\"#7201a8\"],[0.3333333333333333,\"#9c179e\"],[0.4444444444444444,\"#bd3786\"],[0.5555555555555556,\"#d8576b\"],[0.6666666666666666,\"#ed7953\"],[0.7777777777777778,\"#fb9f3a\"],[0.8888888888888888,\"#fdca26\"],[1.0,\"#f0f921\"]],\"sequentialminus\":[[0.0,\"#0d0887\"],[0.1111111111111111,\"#46039f\"],[0.2222222222222222,\"#7201a8\"],[0.3333333333333333,\"#9c179e\"],[0.4444444444444444,\"#bd3786\"],[0.5555555555555556,\"#d8576b\"],[0.6666666666666666,\"#ed7953\"],[0.7777777777777778,\"#fb9f3a\"],[0.8888888888888888,\"#fdca26\"],[1.0,\"#f0f921\"]]},\"colorway\":[\"#636efa\",\"#EF553B\",\"#00cc96\",\"#ab63fa\",\"#FFA15A\",\"#19d3f3\",\"#FF6692\",\"#B6E880\",\"#FF97FF\",\"#FECB52\"],\"font\":{\"color\":\"#2a3f5f\"},\"geo\":{\"bgcolor\":\"white\",\"lakecolor\":\"white\",\"landcolor\":\"#E5ECF6\",\"showlakes\":true,\"showland\":true,\"subunitcolor\":\"white\"},\"hoverlabel\":{\"align\":\"left\"},\"hovermode\":\"closest\",\"mapbox\":{\"style\":\"light\"},\"paper_bgcolor\":\"white\",\"plot_bgcolor\":\"#E5ECF6\",\"polar\":{\"angularaxis\":{\"gridcolor\":\"white\",\"linecolor\":\"white\",\"ticks\":\"\"},\"bgcolor\":\"#E5ECF6\",\"radialaxis\":{\"gridcolor\":\"white\",\"linecolor\":\"white\",\"ticks\":\"\"}},\"scene\":{\"xaxis\":{\"backgroundcolor\":\"#E5ECF6\",\"gridcolor\":\"white\",\"gridwidth\":2,\"linecolor\":\"white\",\"showbackground\":true,\"ticks\":\"\",\"zerolinecolor\":\"white\"},\"yaxis\":{\"backgroundcolor\":\"#E5ECF6\",\"gridcolor\":\"white\",\"gridwidth\":2,\"linecolor\":\"white\",\"showbackground\":true,\"ticks\":\"\",\"zerolinecolor\":\"white\"},\"zaxis\":{\"backgroundcolor\":\"#E5ECF6\",\"gridcolor\":\"white\",\"gridwidth\":2,\"linecolor\":\"white\",\"showbackground\":true,\"ticks\":\"\",\"zerolinecolor\":\"white\"}},\"shapedefaults\":{\"line\":{\"color\":\"#2a3f5f\"}},\"ternary\":{\"aaxis\":{\"gridcolor\":\"white\",\"linecolor\":\"white\",\"ticks\":\"\"},\"baxis\":{\"gridcolor\":\"white\",\"linecolor\":\"white\",\"ticks\":\"\"},\"bgcolor\":\"#E5ECF6\",\"caxis\":{\"gridcolor\":\"white\",\"linecolor\":\"white\",\"ticks\":\"\"}},\"title\":{\"x\":0.05},\"xaxis\":{\"automargin\":true,\"gridcolor\":\"white\",\"linecolor\":\"white\",\"ticks\":\"\",\"title\":{\"standoff\":15},\"zerolinecolor\":\"white\",\"zerolinewidth\":2},\"yaxis\":{\"automargin\":true,\"gridcolor\":\"white\",\"linecolor\":\"white\",\"ticks\":\"\",\"title\":{\"standoff\":15},\"zerolinecolor\":\"white\",\"zerolinewidth\":2}}}},                        {\"responsive\": true}                    ).then(function(){\n",
              "                            \n",
              "var gd = document.getElementById('4cc0645b-007e-43a6-bfa9-ae78644fd94b');\n",
              "var x = new MutationObserver(function (mutations, observer) {{\n",
              "        var display = window.getComputedStyle(gd).display;\n",
              "        if (!display || display === 'none') {{\n",
              "            console.log([gd, 'removed!']);\n",
              "            Plotly.purge(gd);\n",
              "            observer.disconnect();\n",
              "        }}\n",
              "}});\n",
              "\n",
              "// Listen for the removal of the full notebook cells\n",
              "var notebookContainer = gd.closest('#notebook-container');\n",
              "if (notebookContainer) {{\n",
              "    x.observe(notebookContainer, {childList: true});\n",
              "}}\n",
              "\n",
              "// Listen for the clearing of the current output cell\n",
              "var outputEl = gd.closest('.output');\n",
              "if (outputEl) {{\n",
              "    x.observe(outputEl, {childList: true});\n",
              "}}\n",
              "\n",
              "                        })                };                            </script>        </div>\n",
              "</body>\n",
              "</html>"
            ]
          },
          "metadata": {}
        }
      ],
      "source": [
        "aux = df[['Close_Log_Return']].describe()\n",
        "valorMin = np.float64(aux.loc['min']).item()\n",
        "valorMax = np.float64(aux.loc['max']).item()\n",
        "q1 = np.float64(aux.loc['25%']).item()\n",
        "q3 = np.float64(aux.loc['75%']).item()\n",
        "intervalo = 1.5 * (q3-q1)\n",
        "limite_min = max((q1 - intervalo), valorMin)\n",
        "limite_max = min((q3 + intervalo), valorMax)\n",
        "normais = np.where(df['Close_Log_Return'] > limite_min, df['Close_Log_Return'], np.nan)\n",
        "menores = np.isnan(normais).sum()\n",
        "print('Dados da feature: ', 'Close Log Return')\n",
        "print(f'Quantidade de outliers inferiores: {menores}')\n",
        "print(f'Percentual do dataset: {round(menores/len(normais), 6)}%')\n",
        "normais = np.where(df['Close_Log_Return'] < limite_max, df['Close_Log_Return'], np.nan)\n",
        "maiores = np.isnan(normais).sum()\n",
        "print(f'Quantidade de outliers superiores: {maiores}')\n",
        "print(f'Percentual do dataset: {round(maiores/len(normais), 6)}%')\n",
        "print(f'\\nQuantidade total de outliers: {menores+maiores}')\n",
        "print(f'Percentual do dataset: {round((menores+maiores)/len(normais), 6)}%\\n')\n",
        "\n",
        "fig = go.Figure()\n",
        "fig.add_trace(go.Box(x=df['Close_Log_Return'], name='Close Log Return'))\n",
        "fig.show()"
      ]
    },
    {
      "cell_type": "markdown",
      "id": "d9683bd8",
      "metadata": {
        "id": "d9683bd8"
      },
      "source": [
        "### Gerando série de retorno de preço suavizada por média móvel de 5 dias"
      ]
    },
    {
      "cell_type": "code",
      "execution_count": null,
      "id": "9765edf1",
      "metadata": {
        "colab": {
          "base_uri": "https://localhost:8080/",
          "height": 698
        },
        "id": "9765edf1",
        "outputId": "63f24f3a-6744-4f23-e59e-735cea803314"
      },
      "outputs": [
        {
          "output_type": "stream",
          "name": "stdout",
          "text": [
            "Dados da feature:  Close\n",
            "Quantidade de outliers inferiores: 51\n",
            "Percentual do dataset: 0.01378%\n",
            "Quantidade de outliers superiores: 33\n",
            "Percentual do dataset: 0.008917%\n",
            "\n",
            "Quantidade total de outliers: 84\n",
            "Percentual do dataset: 0.022697%\n",
            "\n"
          ]
        },
        {
          "output_type": "display_data",
          "data": {
            "text/html": [
              "<html>\n",
              "<head><meta charset=\"utf-8\" /></head>\n",
              "<body>\n",
              "    <div>            <script src=\"https://cdnjs.cloudflare.com/ajax/libs/mathjax/2.7.5/MathJax.js?config=TeX-AMS-MML_SVG\"></script><script type=\"text/javascript\">if (window.MathJax) {MathJax.Hub.Config({SVG: {font: \"STIX-Web\"}});}</script>                <script type=\"text/javascript\">window.PlotlyConfig = {MathJaxConfig: 'local'};</script>\n",
              "        <script src=\"https://cdn.plot.ly/plotly-2.8.3.min.js\"></script>                <div id=\"e48a41a8-6ee1-4b18-8fd8-d0a36cba9605\" class=\"plotly-graph-div\" style=\"height:525px; width:100%;\"></div>            <script type=\"text/javascript\">                                    window.PLOTLYENV=window.PLOTLYENV || {};                                    if (document.getElementById(\"e48a41a8-6ee1-4b18-8fd8-d0a36cba9605\")) {                    Plotly.newPlot(                        \"e48a41a8-6ee1-4b18-8fd8-d0a36cba9605\",                        [{\"name\":\"log_return_close\",\"x\":[-0.015,-0.01,-0.006,0.004,0.001,0.003,0.002,-0.001,0.002,0.003,0.007,0.009,0.009,0.001,0.002,0.002,0.001,0.003,0.008,0.006,-0.0,0.0,-0.003,-0.006,-0.001,0.006,0.005,0.007,0.01,0.006,0.0,0.001,-0.012,-0.01,-0.013,-0.017,-0.023,0.0,-0.006,-0.0,0.008,0.014,-0.002,0.003,-0.001,-0.006,-0.002,0.007,0.01,0.009,0.012,0.008,0.003,-0.005,-0.001,0.001,-0.0,0.005,0.009,0.006,0.004,0.007,0.003,0.003,0.005,0.009,0.007,0.008,0.006,0.006,0.001,0.001,0.004,0.001,-0.001,-0.001,0.001,0.002,0.006,0.004,0.005,0.007,0.0,0.001,0.001,0.001,0.002,0.005,0.005,0.008,0.007,0.0,-0.004,-0.002,-0.001,-0.002,0.003,0.007,0.007,0.004,0.006,-0.002,0.0,-0.002,-0.006,-0.001,0.006,0.008,0.007,0.011,0.004,0.004,-0.001,-0.002,-0.003,0.0,-0.002,0.0,0.005,0.007,0.006,0.007,0.007,0.002,0.002,0.007,0.006,0.003,0.006,0.004,0.002,-0.001,0.002,-0.007,-0.005,-0.015,-0.016,-0.012,-0.006,-0.006,0.003,-0.0,-0.005,-0.001,0.004,-0.005,-0.001,-0.003,-0.011,-0.023,-0.021,-0.016,-0.013,-0.004,0.01,0.015,0.017,0.015,0.007,0.004,0.004,0.006,0.007,0.014,0.006,0.007,-0.007,-0.003,-0.005,0.002,0.0,0.006,0.01,0.012,0.007,0.011,0.016,0.008,0.008,0.014,0.009,0.012,0.01,0.001,-0.002,0.006,0.001,0.005,0.01,0.006,0.002,-0.003,-0.001,0.0,-0.005,-0.006,0.003,-0.002,-0.003,0.011,0.012,0.005,0.008,0.005,-0.004,-0.002,-0.003,-0.006,0.001,-0.005,-0.005,0.004,0.003,-0.006,-0.003,-0.007,-0.012,-0.018,-0.01,0.004,0.005,0.007,0.014,0.013,0.01,0.011,0.008,0.007,0.003,-0.0,-0.009,-0.01,-0.018,-0.011,-0.01,-0.004,0.002,0.014,0.009,0.007,0.004,-0.001,-0.01,-0.01,-0.006,-0.0,0.002,0.003,0.005,-0.007,-0.013,-0.021,-0.015,-0.029,-0.013,-0.016,0.002,0.004,0.021,0.014,0.019,0.012,0.001,-0.002,-0.004,0.004,0.002,0.012,0.01,0.007,0.007,0.002,0.004,0.006,0.011,0.007,0.009,0.006,0.006,-0.003,-0.001,-0.005,-0.003,-0.008,-0.005,-0.015,-0.004,-0.008,-0.002,0.0,0.0,-0.001,-0.011,-0.011,-0.007,0.004,-0.002,0.006,0.005,0.004,0.005,0.006,0.011,0.013,0.01,0.006,0.0,-0.002,-0.006,-0.006,-0.006,0.002,0.003,0.007,0.01,0.007,0.001,0.002,0.002,-0.005,0.009,0.014,0.015,0.013,0.016,0.005,0.001,0.001,0.001,0.003,0.005,0.009,0.008,0.008,0.006,-0.0,-0.003,-0.007,-0.001,-0.002,0.003,0.001,-0.003,-0.013,-0.002,-0.008,-0.007,-0.006,-0.006,-0.011,-0.008,-0.006,0.002,0.001,-0.002,-0.008,-0.008,-0.013,-0.004,-0.008,-0.001,0.001,-0.002,-0.015,-0.015,-0.016,-0.019,-0.012,-0.003,0.003,0.004,0.006,0.008,-0.001,-0.001,0.0,-0.005,-0.009,-0.009,-0.01,-0.013,-0.006,0.002,0.007,0.001,-0.005,-0.006,-0.008,-0.009,-0.004,-0.003,-0.007,-0.011,-0.007,-0.008,-0.005,-0.003,0.003,0.003,0.006,0.004,0.003,0.0,0.001,-0.001,0.002,0.0,-0.007,-0.018,-0.014,-0.017,-0.023,-0.015,-0.001,0.002,-0.009,0.003,-0.016,-0.011,0.002,0.012,0.001,0.016,0.013,-0.009,-0.023,0.0,0.0,-0.023,-0.026,-0.018,-0.042,-0.051,-0.044,-0.045,-0.006,0.007,-0.009,-0.003,0.004,-0.007,-0.013,-0.01,-0.015,-0.029,-0.058,-0.031,-0.001,0.02,0.034,0.052,0.037,0.016,-0.006,-0.003,-0.008,-0.015,-0.019,-0.002,-0.005,-0.006,-0.018,-0.006,-0.028,-0.009,-0.005,0.013,0.016,0.032,0.003,0.001,-0.007,-0.006,-0.007,0.019,0.016,0.02,0.018,0.022,0.0,0.01,0.005,0.005,-0.001,-0.003,-0.018,-0.016,-0.013,-0.008,0.013,0.026,0.027,0.019,0.022,0.006,-0.011,-0.014,-0.014,-0.014,-0.011,-0.003,-0.012,0.003,-0.006,-0.006,-0.002,0.008,0.009,0.009,0.006,0.001,0.005,-0.0,0.007,0.017,0.017,0.007,0.004,-0.003,-0.005,-0.001,-0.007,-0.006,-0.004,-0.015,-0.018,-0.009,-0.008,-0.018,-0.012,0.001,-0.004,-0.006,0.003,0.012,0.002,0.009,0.01,0.01,0.003,0.007,0.006,0.005,0.019,0.01,0.008,0.01,0.009,-0.008,-0.002,0.001,0.005,0.012,0.017,0.014,0.01,0.008,0.007,0.005,0.006,0.008,0.001,-0.007,-0.002,0.002,0.003,-0.0,0.006,0.01,0.006,0.015,0.02,0.023,0.012,0.017,0.002,-0.001,-0.011,-0.002,-0.009,0.002,0.004,0.01,0.003,0.006,-0.002,0.002,0.002,0.012,0.01,0.014,0.008,0.001,0.002,0.001,-0.003,-0.003,0.005,0.0,-0.005,-0.009,-0.008,-0.01,-0.008,-0.01,-0.006,-0.006,0.002,0.0,0.01,0.006,0.007,-0.002,-0.002,-0.006,-0.008,-0.009,-0.007,-0.007,-0.007,0.007,0.011,0.011,0.016,0.017,0.007,0.009,0.009,0.005,0.005,0.003,0.001,0.001,0.005,0.006,0.01,0.005,0.006,0.003,-0.001,0.001,0.005,0.001,-0.006,0.0,-0.001,-0.001,0.004,0.009,0.006,0.006,0.003,-0.0,-0.004,-0.006,-0.008,-0.007,-0.004,0.005,0.007,0.011,0.009,0.008,0.005,0.009,0.006,0.008,0.007,0.007,0.0,-0.0,-0.001,0.001,-0.001,0.004,0.002,0.003,0.004,0.005,0.004,0.011,0.009,0.007,0.011,0.013,0.008,0.01,0.002,-0.002,-0.002,-0.003,-0.006,-0.007,-0.017,-0.008,-0.011,-0.008,0.002,0.015,0.002,0.015,0.011,0.008,-0.001,0.003,0.001,0.004,0.001,0.006,0.005,0.002,0.002,-0.0,0.002,0.001,0.003,0.002,0.006,0.002,0.004,-0.002,-0.002,0.001,0.005,0.002,0.004,0.002,-0.005,-0.007,-0.01,-0.006,-0.003,0.003,0.005,0.008,0.008,0.008,0.008,0.006,0.005,0.001,-0.001,-0.001,-0.002,-0.004,-0.003,-0.001,-0.006,-0.011,-0.008,-0.012,-0.015,-0.008,-0.003,0.001,0.005,0.006,-0.005,-0.008,-0.01,-0.007,-0.006,0.007,0.009,0.012,0.009,0.007,0.003,0.001,-0.005,-0.005,-0.003,0.0,0.005,0.006,0.005,0.007,0.004,0.005,0.007,0.006,0.001,0.001,0.001,-0.001,-0.001,-0.002,-0.0,-0.002,-0.002,-0.004,-0.0,0.003,0.002,0.004,0.008,0.007,0.003,0.002,0.004,0.001,-0.002,-0.001,0.001,-0.003,-0.006,-0.004,-0.004,-0.005,-0.003,-0.002,-0.008,-0.008,-0.004,-0.006,-0.005,-0.005,-0.005,-0.014,-0.014,-0.005,-0.001,0.001,0.004,0.002,-0.008,-0.012,-0.018,-0.021,-0.01,-0.01,-0.005,0.002,0.013,0.006,0.01,0.009,0.009,-0.001,-0.002,-0.004,-0.001,0.0,0.006,0.008,0.008,0.01,0.005,0.003,0.004,0.001,0.001,-0.002,0.001,-0.002,-0.009,-0.013,-0.009,-0.011,-0.011,0.0,0.008,0.007,0.005,0.009,0.004,0.001,-0.004,0.001,0.002,0.003,0.007,0.012,0.01,0.007,0.007,0.004,0.003,0.006,0.004,0.004,0.004,0.002,-0.002,-0.002,-0.007,-0.007,-0.005,-0.003,0.001,0.006,0.003,0.001,-0.002,-0.007,-0.008,-0.009,-0.003,-0.005,0.0,0.007,0.009,0.003,0.008,0.004,-0.001,-0.0,0.004,0.003,0.005,0.003,0.001,0.0,-0.0,0.0,0.003,0.003,0.002,0.004,0.003,0.002,0.006,0.004,0.006,0.004,0.001,0.002,0.002,0.001,0.003,0.005,0.003,-0.003,-0.003,-0.006,-0.006,-0.006,0.003,0.001,0.002,0.003,0.006,0.003,0.007,0.006,0.006,0.0,-0.001,-0.005,-0.006,-0.01,-0.006,-0.003,-0.001,-0.002,-0.004,-0.0,-0.004,-0.008,-0.005,-0.001,-0.001,0.0,0.004,0.005,0.005,-0.003,-0.005,-0.004,-0.001,-0.002,-0.001,-0.002,-0.001,-0.006,-0.002,0.002,0.003,-0.001,0.002,0.002,0.002,0.004,0.007,0.009,0.005,0.002,0.001,0.0,0.002,0.0,0.002,0.001,0.001,-0.005,-0.003,-0.005,-0.003,-0.006,-0.006,-0.008,-0.008,-0.005,-0.006,-0.004,-0.004,-0.004,-0.006,-0.008,-0.007,0.001,0.004,0.002,0.01,0.009,0.007,0.002,0.0,-0.002,-0.002,-0.003,0.0,-0.001,0.001,0.004,0.003,-0.0,-0.0,-0.002,-0.003,-0.003,-0.004,0.001,0.001,-0.001,0.002,0.005,0.004,0.002,0.001,-0.001,0.001,0.003,0.005,0.007,0.007,0.003,0.002,-0.002,-0.005,-0.009,-0.008,-0.009,-0.006,-0.008,-0.002,0.002,0.002,0.002,0.003,-0.001,-0.003,-0.004,-0.009,-0.008,-0.007,-0.005,-0.003,0.002,0.001,0.002,-0.004,-0.005,-0.004,-0.003,-0.005,-0.002,-0.002,-0.001,0.002,0.006,0.005,0.005,0.004,-0.0,0.0,0.0,-0.003,-0.004,-0.001,-0.002,-0.005,-0.003,-0.003,-0.005,-0.008,-0.005,-0.003,-0.003,-0.001,0.0,0.0,0.004,0.003,0.004,0.008,0.009,0.002,0.001,-0.001,-0.006,-0.012,-0.011,-0.006,-0.008,-0.007,-0.005,-0.002,-0.005,0.002,0.003,0.004,0.001,-0.003,-0.005,-0.005,-0.005,-0.007,-0.008,-0.021,-0.021,-0.037,-0.023,-0.017,0.002,0.002,0.023,0.012,0.014,-0.001,-0.004,-0.008,-0.002,-0.005,-0.001,0.003,0.009,0.006,0.01,0.019,0.012,0.0,0.004,0.004,-0.008,-0.003,0.002,-0.001,-0.005,0.005,0.005,0.003,-0.001,-0.011,-0.014,-0.012,-0.009,-0.01,0.0,-0.003,-0.011,-0.012,-0.009,-0.004,-0.004,0.01,0.012,0.014,0.01,0.01,0.007,0.004,-0.002,0.001,0.011,0.004,0.008,0.019,0.015,0.005,0.004,0.004,-0.002,-0.001,0.002,0.001,-0.003,-0.0,-0.003,-0.002,-0.002,-0.002,-0.008,-0.008,-0.013,-0.006,-0.006,-0.001,-0.002,0.007,0.01,0.011,0.01,0.015,0.006,-0.002,0.001,-0.005,-0.007,-0.007,-0.004,-0.007,-0.007,-0.002,-0.0,0.004,0.006,0.008,0.004,-0.001,-0.002,0.005,0.006,0.002,0.007,0.008,0.002,0.002,0.005,0.002,0.003,0.003,0.006,0.007,0.01,0.008,0.006,0.004,0.003,0.001,0.002,0.006,0.005,0.007,0.008,0.009,0.004,0.003,-0.004,0.001,-0.003,-0.002,0.002,0.007,0.0,0.003,-0.0,-0.001,-0.001,0.003,0.005,0.005,-0.003,0.001,0.0,-0.003,-0.002,0.01,0.007,0.003,0.003,0.004,-0.003,-0.004,-0.006,-0.005,-0.003,-0.004,-0.006,-0.003,-0.004,-0.005,-0.005,-0.005,-0.004,-0.005,-0.011,-0.009,-0.001,-0.005,-0.003,0.003,0.006,-0.001,0.001,-0.001,-0.002,-0.004,-0.001,-0.003,0.001,0.001,0.001,-0.004,-0.001,-0.005,-0.009,-0.008,-0.004,-0.012,-0.014,-0.013,-0.02,-0.017,-0.003,-0.004,-0.005,-0.0,-0.0,-0.005,-0.002,-0.003,0.002,-0.004,-0.007,-0.008,0.001,-0.0,0.002,0.006,0.012,0.004,0.006,0.008,0.008,0.006,0.001,-0.002,-0.009,-0.012,-0.015,-0.011,-0.004,0.003,0.007,0.011,0.014,0.004,-0.004,-0.008,-0.01,-0.008,-0.007,0.001,0.004,0.007,-0.001,-0.002,-0.005,-0.007,-0.005,0.008,0.015,0.013,0.011,0.006,0.003,0.004,0.006,0.012,0.011,0.007,0.002,0.001,-0.003,0.002,-0.001,0.0,0.003,0.004,-0.003,-0.002,-0.004,-0.002,-0.007,-0.004,-0.005,-0.003,-0.007,-0.002,0.004,0.005,0.007,0.012,0.017,0.012,0.011,0.008,0.006,-0.001,-0.002,0.001,-0.004,-0.004,-0.005,-0.007,-0.008,-0.004,-0.006,-0.006,-0.002,-0.001,-0.001,-0.0,0.003,0.004,0.001,0.004,0.004,-0.001,-0.003,-0.007,-0.01,-0.006,-0.006,-0.005,-0.0,-0.0,0.002,0.003,0.008,0.003,0.002,-0.004,-0.004,-0.007,-0.008,-0.008,-0.003,-0.003,-0.004,0.004,0.005,-0.001,0.001,0.005,-0.001,0.005,0.005,0.004,-0.001,0.004,0.004,0.007,0.006,0.005,0.004,0.001,0.003,0.005,0.007,0.005,0.005,-0.0,-0.0,0.004,0.007,0.005,0.005,0.001,-0.003,-0.005,-0.003,0.0,0.002,0.001,0.002,0.001,-0.001,-0.0,0.001,-0.003,-0.006,-0.005,-0.008,-0.007,-0.003,-0.002,-0.003,-0.001,-0.005,-0.006,-0.004,-0.005,-0.004,-0.003,-0.004,-0.008,-0.007,-0.004,-0.003,-0.001,0.004,0.005,0.001,-0.0,-0.003,0.002,0.005,0.005,0.007,0.008,-0.002,-0.005,-0.005,-0.005,-0.006,-0.005,-0.006,-0.006,-0.008,-0.003,-0.0,0.003,0.002,-0.0,-0.0,-0.005,-0.005,-0.003,0.004,0.002,0.003,-0.0,-0.008,-0.007,-0.012,-0.008,-0.004,0.005,0.003,0.008,0.007,0.001,0.002,0.004,0.001,0.002,0.004,0.005,-0.0,0.001,-0.001,-0.003,-0.006,-0.003,-0.002,0.0,0.005,0.006,0.005,0.006,0.005,0.003,-0.001,-0.006,-0.01,-0.009,-0.009,-0.012,-0.007,-0.007,-0.01,-0.016,-0.014,-0.01,-0.009,-0.009,-0.001,-0.005,-0.009,-0.009,-0.013,-0.01,-0.003,-0.002,0.002,0.005,-0.007,-0.009,-0.008,-0.01,-0.009,0.001,0.007,-0.001,0.007,0.008,0.008,0.004,0.008,0.008,0.008,0.004,0.006,0.008,0.003,-0.001,-0.001,0.0,-0.004,-0.003,-0.005,-0.003,-0.001,0.006,0.008,0.013,0.014,0.008,0.006,0.005,-0.0,-0.002,0.002,0.003,-0.001,-0.002,-0.002,-0.006,-0.009,0.002,0.006,0.007,0.01,0.014,0.009,0.009,0.007,0.003,-0.0,-0.002,0.001,0.008,0.006,0.001,0.003,0.001,-0.005,-0.005,-0.001,-0.008,-0.005,-0.004,-0.005,-0.003,0.0,-0.003,-0.002,0.002,0.001,0.007,0.01,0.013,0.009,0.008,0.007,0.005,-0.002,-0.002,-0.004,-0.003,-0.007,-0.005,-0.002,-0.0,-0.002,-0.002,-0.003,-0.005,-0.006,-0.007,-0.008,-0.004,0.003,0.008,0.001,0.003,0.002,-0.005,-0.011,-0.005,-0.003,-0.001,-0.004,-0.004,-0.007,-0.004,-0.006,-0.001,0.002,-0.001,-0.003,-0.003,-0.003,-0.003,0.002,0.003,0.004,0.004,0.004,0.003,0.003,-0.003,-0.001,-0.001,-0.003,-0.004,-0.004,-0.005,-0.006,-0.003,-0.002,0.002,-0.002,-0.003,-0.005,-0.003,-0.006,-0.006,-0.004,-0.003,-0.007,-0.005,-0.001,-0.007,-0.004,-0.004,0.002,0.002,0.007,0.006,0.007,0.0,0.001,-0.0,-0.008,-0.004,-0.002,-0.003,-0.001,0.001,-0.002,0.001,-0.001,-0.004,0.001,-0.002,-0.009,-0.006,-0.003,-0.007,-0.005,-0.002,0.002,0.003,0.008,0.01,0.012,0.009,0.006,0.01,0.01,0.01,0.008,0.015,0.007,0.005,0.007,0.005,-0.002,-0.001,0.003,-0.002,-0.005,0.0,0.004,0.001,-0.0,0.005,0.001,-0.003,-0.0,0.0,0.005,0.008,0.009,0.008,0.007,0.0,0.002,0.0,0.001,0.002,0.003,-0.003,-0.006,-0.008,-0.004,-0.005,-0.002,-0.001,0.002,-0.002,-0.005,-0.005,-0.001,-0.003,-0.003,0.007,0.01,0.01,0.012,0.012,0.006,0.0,0.002,-0.002,-0.002,-0.001,-0.003,-0.006,-0.006,-0.004,-0.004,-0.002,0.001,0.003,0.002,0.002,0.006,0.003,0.006,0.008,0.008,0.004,0.008,0.007,0.007,0.006,0.008,0.003,0.0,-0.003,-0.002,-0.008,-0.007,-0.004,-0.003,-0.001,0.001,-0.001,0.0,0.001,-0.003,-0.001,0.005,0.003,0.007,0.011,0.011,0.005,0.007,0.004,0.007,0.004,0.009,0.005,0.007,0.003,0.002,-0.002,-0.007,-0.011,-0.012,-0.008,-0.013,-0.004,0.002,0.003,0.0,0.003,-0.004,-0.009,-0.008,-0.008,-0.002,-0.008,-0.009,-0.014,-0.009,-0.01,0.009,0.012,0.015,0.014,0.003,0.003,0.002,-0.003,-0.011,0.002,-0.013,-0.02,-0.014,-0.014,-0.014,-0.014,-0.0,-0.005,0.006,0.01,0.013,0.008,0.01,0.001,-0.005,-0.005,-0.007,-0.003,-0.003,-0.005,-0.006,-0.001,0.002,0.016,0.014,0.016,0.011,0.005,-0.005,-0.012,-0.015,-0.01,-0.012,-0.01,-0.008,-0.006,-0.011,-0.006,-0.016,-0.014,-0.013,-0.003,-0.005,0.007,0.013,0.016,0.006,0.008,0.001,-0.007,-0.014,-0.009,-0.005,-0.0,0.001,0.003,0.0,-0.007,-0.008,0.001,-0.002,-0.001,0.006,0.006,-0.001,0.003,0.003,-0.007,-0.007,-0.008,-0.004,0.001,0.007,0.006,0.008,0.007,-0.002,-0.004,0.001,0.007,0.007,0.011,0.012,0.007,0.005,0.002,0.002,0.001,-0.001,-0.002,-0.005,-0.005,-0.006,-0.007,-0.012,-0.006,-0.006,-0.006,-0.001,0.008,0.01,0.008,0.013,0.012,0.005,0.001,-0.001,-0.007,-0.003,-0.001,0.002,0.01,0.014,0.009,0.01,0.006,0.004,0.002,0.001,0.005,0.003,-0.001,-0.002,0.002,0.003,0.007,0.006,0.007,0.002,0.002,0.003,0.009,0.005,0.006,0.003,-0.0,-0.004,-0.002,-0.001,0.0,-0.003,-0.005,-0.005,-0.006,-0.01,-0.006,-0.007,-0.002,-0.004,-0.006,-0.006,0.002,-0.003,-0.004,0.0,-0.001,-0.001,0.001,0.002,0.001,0.004,-0.002,0.002,0.002,0.003,0.0,0.002,-0.004,0.001,-0.003,-0.003,-0.004,-0.0,-0.006,-0.003,-0.003,-0.004,-0.002,0.002,0.004,0.002,0.005,-0.001,-0.006,-0.007,-0.008,-0.013,-0.012,-0.011,-0.007,-0.002,0.001,0.007,0.006,0.002,0.0,0.0,-0.009,-0.003,-0.004,-0.008,-0.008,-0.005,-0.009,-0.007,-0.008,-0.006,-0.008,-0.013,-0.013,-0.002,0.005,0.006,0.01,0.004,0.002,-0.002,-0.003,0.001,0.005,0.0,-0.004,0.004,0.003,0.008,0.009,0.004,-0.003,-0.005,-0.014,-0.014,-0.01,-0.012,-0.009,-0.001,0.0,0.01,0.016,0.016,0.016,0.016,0.01,-0.001,-0.004,-0.007,-0.008,-0.008,-0.001,0.001,0.003,0.001,-0.001,-0.0,-0.001,-0.009,-0.007,0.004,0.003,0.006,0.006,0.001,-0.008,-0.003,-0.005,-0.002,0.003,0.005,0.002,0.005,0.007,0.006,-0.002,-0.001,-0.01,-0.013,-0.014,-0.009,-0.003,-0.002,0.0,-0.003,0.005,-0.003,-0.0,-0.002,0.002,-0.005,-0.002,-0.006,-0.007,-0.006,-0.005,-0.007,-0.001,0.0,-0.006,-0.007,-0.009,-0.014,-0.013,-0.01,-0.014,-0.014,-0.006,-0.01,-0.011,-0.008,-0.007,-0.009,-0.003,-0.002,0.002,0.005,0.014,0.013,0.006,0.006,0.011,0.001,-0.001,0.004,0.001,-0.004,0.002,0.006,0.011,0.009,0.015,0.008,0.002,0.002,0.0,-0.002,0.007,0.013,0.024,0.033,0.028,0.021,0.016,0.01,0.002,-0.002,-0.008,-0.004,0.005,0.005,0.009,0.016,0.008,-0.005,0.0,-0.0,0.001,0.001,0.004,-0.008,-0.008,-0.013,-0.006,-0.001,0.006,0.012,0.02,0.015,0.011,0.011,0.006,0.002,0.002,-0.005,0.001,0.003,0.002,0.004,0.007,-0.003,-0.007,-0.01,-0.008,-0.01,0.003,0.001,0.006,0.0,0.003,-0.009,-0.008,-0.012,-0.008,-0.01,-0.006,-0.004,-0.004,-0.003,-0.004,-0.001,0.002,0.006,0.006,0.008,0.01,0.005,-0.005,-0.003,-0.008,-0.011,-0.007,0.0,0.002,0.009,0.005,0.008,0.002,-0.004,-0.003,0.003,-0.0,0.008,0.013,0.007,0.003,0.002,0.003,0.005,0.009,0.01,0.013,0.009,0.009,0.009,0.007,0.004,0.005,0.001,0.0,0.001,-0.0,0.001,-0.001,-0.002,0.001,0.003,0.001,0.003,0.005,-0.0,0.003,0.002,0.005,0.004,0.008,0.003,0.003,-0.005,-0.003,-0.006,-0.005,-0.005,0.003,0.002,0.0,0.002,0.006,0.003,0.005,0.008,-0.001,-0.004,-0.01,-0.011,-0.008,-0.003,-0.004,0.003,0.005,0.004,0.006,0.002,0.002,0.003,-0.002,-0.001,0.005,0.003,0.003,0.008,0.009,0.007,0.005,0.003,0.004,0.005,0.007,0.008,0.009,0.007,0.004,0.0,0.001,0.001,0.001,0.003,-0.002,-0.006,-0.008,-0.001,-0.002,-0.0,-0.002,-0.008,-0.014,-0.011,-0.011,-0.004,0.006,0.007,0.004,0.005,0.005,0.006,-0.003,-0.0,-0.006,-0.004,-0.01,0.0,-0.002,0.004,0.001,-0.002,-0.006,-0.011,-0.008,-0.007,-0.007,-0.006,-0.002,-0.004,-0.002,0.005,0.004,0.007,0.01,0.005,0.01,0.009,0.007,0.005,0.007,0.001,0.003,0.006,0.006,0.007,0.007,0.005,-0.0,0.003,0.006,0.005,0.006,0.006,-0.001,-0.003,-0.003,-0.005,-0.003,-0.001,-0.001,-0.0,0.001,0.004,0.009,0.008,0.01,0.009,0.005,0.005,0.007,0.002,-0.001,-0.003,-0.005,-0.01,-0.005,-0.003,-0.003,-0.007,-0.004,-0.007,-0.003,-0.003,0.004,0.003,-0.002,-0.002,-0.006,-0.008,-0.007,-0.001,-0.002,0.005,0.006,0.005,0.004,0.003,0.004,-0.002,-0.003,-0.001,-0.002,-0.004,-0.003,-0.004,-0.001,-0.001,-0.003,-0.0,0.005,0.003,0.002,0.004,0.005,0.007,0.003,-0.0,0.003,0.0,-0.001,0.004,0.008,0.007,0.009,0.007,0.001,-0.018,-0.017,-0.021,-0.018,-0.013,0.005,0.004,0.007,0.004,-0.002,-0.003,-0.005,-0.004,-0.003,0.001,0.001,-0.001,-0.003,-0.004,-0.004,-0.004,-0.001,-0.003,-0.003,-0.002,-0.002,0.001,0.003,0.004,0.003,0.006,0.004,0.005,0.004,0.001,-0.002,-0.001,0.002,0.005,0.009,0.01,0.007,0.005,0.001,-0.001,-0.002,-0.0,0.001,-0.001,0.001,0.002,0.002,0.002,0.006,0.004,0.004,0.006,0.004,0.002,0.001,0.001,0.001,0.001,0.003,0.003,0.004,0.001,0.005,0.006,0.009,0.007,0.007,0.004,0.001,-0.001,0.002,0.003,0.002,0.007,0.006,0.006,0.006,0.007,0.003,0.007,0.004,0.004,0.003,0.003,-0.001,-0.004,-0.005,-0.006,-0.006,-0.003,-0.0,0.007,0.008,0.008,0.005,0.004,0.0,0.0,0.001,0.002,0.001,-0.001,-0.001,-0.002,-0.004,0.0,-0.0,-0.001,-0.001,-0.002,-0.006,-0.008,-0.006,-0.005,-0.007,-0.0,-0.002,-0.005,-0.005,-0.004,-0.005,0.001,0.007,0.006,0.01,0.005,0.002,-0.001,-0.005,-0.007,-0.005,-0.003,-0.004,0.002,0.001,0.001,-0.001,0.003,-0.001,-0.0,-0.0,0.001,-0.003,0.001,0.007,0.007,0.007,0.009,0.008,0.003,0.007,0.006,0.006,0.007,0.007,0.002,0.0,0.002,0.001,0.001,0.003,0.008,0.004,0.005,0.005,0.002,0.006,0.011,0.009,0.007,0.01,0.004,-0.004,-0.007,-0.001,-0.005,-0.009,-0.008,0.004,0.001,0.004,0.008,0.012,0.006,0.006,0.006,0.007,0.003,-0.001,-0.003,-0.004,-0.004,-0.003,-0.0,-0.001,0.001,0.002,0.002,0.001,-0.0,-0.003,-0.007,-0.005,-0.002,-0.0,-0.001,0.003,-0.001,-0.003,0.001,0.001,-0.001,0.001,0.003,-0.001,-0.003,-0.0,0.002,0.0,-0.001,-0.001,-0.001,0.001,0.001,0.003,0.007,0.003,-0.002,0.001,0.002,0.001,-0.002,-0.004,-0.008,-0.009,-0.007,-0.001,0.006,0.005,0.006,0.005,0.005,-0.005,-0.005,-0.008,-0.006,-0.013,-0.008,-0.01,-0.016,-0.017,-0.01,-0.007,-0.001,0.003,-0.0,-0.008,-0.011,-0.017,-0.01,-0.011,-0.007,-0.006,-0.007,-0.004,-0.0,-0.004,-0.0,0.003,-0.0,-0.004,0.005,0.006,0.005,0.006,0.011,0.007,0.006,0.005,0.002,0.003,0.005,0.004,0.009,0.008,0.004,0.005,0.004,0.003,0.007,0.005,0.003,0.006,0.0,-0.002,0.001,0.004,0.002,0.003,-0.001,-0.002,-0.013,-0.009,-0.004,-0.005,-0.005,-0.001,-0.003,-0.009,-0.0,-0.003,0.001,0.004,0.006,0.004,0.002,0.001,-0.004,-0.007,-0.009,-0.0,-0.001,-0.004,0.001,-0.001,-0.003,0.001,0.01,0.008,0.009,0.01,0.003,0.001,0.001,0.005,-0.0,0.002,0.007,0.011,0.007,0.007,0.018,0.011,0.001,-0.0,0.003,-0.001,-0.001,0.0,0.003,0.005,-0.001,-0.007,0.0,0.003,-0.004,0.003,0.01,0.01,0.009,0.011,0.002,-0.004,-0.006,-0.009,-0.009,-0.004,0.007,0.005,0.004,0.006,0.001,-0.007,-0.0,0.004,0.005,0.007,0.01,0.002,-0.0,-0.002,-0.003,-0.009,-0.005,-0.005,-0.002,-0.001,0.001,0.0,-0.003,-0.006,-0.004,-0.003,-0.003,0.005,0.013,0.013,0.015,0.014,0.009,0.006,0.005,0.004,0.006,0.004,0.002,0.003,0.005,0.003,0.002,0.005,0.005,-0.001,-0.001,0.004,0.002,0.0,0.006,0.005,-0.005,-0.006,-0.005,-0.009,-0.004,0.003,0.007,0.004,0.004,0.003,0.002,-0.002,0.001,0.002,-0.0,0.002,-0.003,-0.007,-0.006,-0.007,-0.004,0.005,0.007,0.01,0.009,0.008,0.004,0.004,-0.002,-0.004,-0.011,-0.013,-0.009,-0.013,-0.005,0.004,0.005,0.0,0.006,0.004,0.004,0.003,0.002,0.003,-0.003,-0.009,-0.009,-0.004,-0.006,-0.0,0.004,0.006,0.002,0.007,0.004,0.004,0.001,0.001,-0.001,-0.002,-0.004,-0.002,-0.001,-0.004,-0.007,-0.005,-0.008,-0.01,-0.009,0.0,0.005,0.006,0.008,0.008,0.006,0.004,0.005,0.007,0.007,0.005,0.002,-0.001,-0.0,0.002,0.001,0.003,0.005,0.003,0.001,0.001,0.001,0.004,0.007,0.008,0.005,0.003,0.001,-0.002,-0.001,0.001,0.003,0.006,0.006,0.006,0.01,0.006,0.0,-0.001,-0.001,-0.004,-0.001,-0.001,0.0,-0.0,0.001,-0.004,-0.001,-0.001,-0.001,-0.004,-0.001,-0.0,-0.007,-0.002,0.002,0.004,0.003,0.004,0.002,-0.005,-0.01,-0.008,-0.005,-0.008,0.002,0.002,-0.004,-0.006,-0.004,-0.006,0.001,0.007,0.008,0.005,0.006,0.003,0.004,0.005,0.007,0.004,0.004,0.001,0.001,0.003,0.002,-0.0,0.003,0.002,-0.001,-0.0,0.002,0.001,0.0,0.0,-0.007,-0.007,-0.005,-0.008,-0.008,0.001,0.001,0.003,0.008,0.009,0.008,0.006,0.002,0.003,0.005,0.004,0.004,0.005,0.004,0.001,0.002,0.001,0.002,0.001,0.002,-0.0,0.004,-0.001,-0.001,-0.003,-0.005,-0.006,-0.002,-0.005,0.001,0.005,0.004,0.001,0.004,0.001,-0.001,0.001,0.003,0.005,0.004,0.005,0.004,0.003,0.001,0.003,0.003,0.002,0.003,0.006,0.005,0.004,0.007,0.008,0.004,0.001,0.006,0.003,-0.001,0.0,0.0,-0.005,-0.004,0.001,0.002,0.0,0.001,0.005,0.003,-0.001,0.003,0.005,-0.0,-0.007,-0.001,-0.005,-0.007,-0.008,0.0,-0.001,0.001,-0.0,0.0,-0.004,-0.0,0.001,0.001,0.001,0.005,-0.001,-0.0,-0.002,-0.001,-0.018,-0.022,-0.023,-0.015,-0.015,0.003,-0.002,-0.012,-0.043,-0.027,-0.046,-0.068,-0.034,-0.038,-0.042,-0.048,-0.012,-0.042,-0.023,-0.014,0.022,0.025,0.018,0.032,0.009,-0.011,-0.015,-0.011,-0.002,0.009,0.02,0.014,0.025,0.015,0.006,-0.002,0.003,0.0,0.002,0.002,-0.007,-0.002,0.006,0.006,0.002,0.009,0.003,-0.005,-0.012,-0.0,0.001,-0.004,-0.003,0.002,-0.007,0.005,0.007,0.009,0.01,0.012,0.011,0.012,0.016,0.01,0.013,0.007,0.013,0.011,0.015,0.016,0.019,0.012,0.004,-0.002,-0.005,-0.009,-0.003,0.003,0.008,0.006,0.005,-0.002,-0.0,-0.006,0.001,-0.002,0.004,0.0,0.006,0.006,0.005,0.007,0.006,0.007,-0.0,0.006,0.004,0.003,0.006,0.011,0.008,0.005,0.004,-0.001,0.0,-0.0,0.002,0.005,0.001,-0.003,-0.006,-0.005,-0.002,-0.0,0.001,0.002,-0.001,-0.007,-0.003,-0.007,-0.0,-0.002,0.002,0.0,0.005,0.0,-0.0,-0.002,0.001,-0.006,-0.0,0.002,-0.0,-0.002,0.001,-0.002,-0.006,-0.005,-0.002,0.0,-0.003,0.002,-0.0,-0.007,-0.006,-0.008,-0.006,-0.003,-0.005,-0.008,-0.002,-0.003,-0.006,0.003,0.004,0.002,0.005,0.007,0.005,0.008,0.007,0.001,0.002,0.004,0.002,0.006,0.006,0.005,-0.002,-0.01,-0.01,-0.015,-0.011,-0.004,0.011,0.008,0.02,0.019,0.013,0.003,0.007,0.005,0.003,0.004,0.008,0.005,0.006,0.005,0.007,0.007,0.003,0.003,0.003,0.005,0.006,0.008,0.004,0.002,0.004,0.003,0.002,0.004,0.009,0.005,0.004,0.002,0.0,-0.0,0.002,0.003,0.006,0.004,0.003,0.002,0.004,0.009,0.007,0.008,0.004,0.003,-0.007,-0.002,-0.005,-0.004,-0.008,-0.006,-0.008,-0.008,-0.001,-0.004,0.0,0.003,0.007,-0.0,0.007,0.004,0.002,-0.002,0.0,-0.001,0.002,-0.0,0.001,-0.011,-0.007,-0.008,-0.012,-0.015,-0.004,-0.006,-0.008,0.001,0.009,0.0,-0.001,0.003,0.004,-0.002,0.007,0.005,0.007,-0.0,0.004,0.0,-0.001,-0.008,-0.002,-0.003,0.001,0.006,0.008,0.003,0.005,0.003,0.001,0.003,0.004,0.002,0.003,0.005,0.004,0.006,0.003,0.001,-0.002,-0.0,-0.001,-0.002,0.002,0.001,-0.003,-0.002,-0.003,-0.002,-0.0,0.005,0.004,0.009,0.0,0.001,-0.0,0.002,-0.0,0.005,0.003,0.001,0.002,0.0,0.002,0.003,0.005,0.004,0.008,0.009,0.009,0.008,0.005,0.002,0.001,-0.001,-0.001,0.0,-0.001,-0.003,-0.001,-0.001,-0.002,-0.001,0.002,-0.002,-0.003,-0.003,-0.003,-0.006,0.0,-0.001,-0.004,0.0,-0.001,-0.0,0.002,0.005,0.001,0.001,-0.005,-0.004,-0.004,-0.002,-0.002,0.003,-0.001,0.001,-0.001,-0.005,-0.006,-0.002,-0.007,-0.006,0.002,0.001,-0.002,0.001,-0.001,-0.003,-0.006,-0.007,-0.009,-0.006,-0.005,-0.003,0.004,0.007,0.003,0.004,0.004,-0.002,-0.002,-0.004,-0.006,-0.003,-0.009,-0.007,-0.004,-0.001,-0.003,0.003,-0.003,-0.005,-0.014,-0.011,-0.005,0.0,0.003,0.009,-0.0,-0.002,-0.005,-0.001,-0.006,0.001,-0.001,-0.001,-0.0,0.003,0.005,0.005,0.007,0.003,-0.003,-0.005,-0.01,-0.015,-0.01,-0.008,-0.008,-0.004,-0.005,-0.006,-0.001,-0.005,-0.001,0.003,0.0,0.001,0.008,0.003,-0.001,-0.005,-0.007,-0.009,-0.008,-0.002,0.003,0.006,-0.002,0.001,-0.003,-0.007,-0.002,0.006,0.008,0.011,0.014,0.004,0.005,0.001,-0.001,-0.001,0.004,-0.001,-0.004,-0.002,-0.004,-0.006,-0.003,-0.0,-0.002,-0.001],\"type\":\"box\"}],                        {\"template\":{\"data\":{\"bar\":[{\"error_x\":{\"color\":\"#2a3f5f\"},\"error_y\":{\"color\":\"#2a3f5f\"},\"marker\":{\"line\":{\"color\":\"#E5ECF6\",\"width\":0.5},\"pattern\":{\"fillmode\":\"overlay\",\"size\":10,\"solidity\":0.2}},\"type\":\"bar\"}],\"barpolar\":[{\"marker\":{\"line\":{\"color\":\"#E5ECF6\",\"width\":0.5},\"pattern\":{\"fillmode\":\"overlay\",\"size\":10,\"solidity\":0.2}},\"type\":\"barpolar\"}],\"carpet\":[{\"aaxis\":{\"endlinecolor\":\"#2a3f5f\",\"gridcolor\":\"white\",\"linecolor\":\"white\",\"minorgridcolor\":\"white\",\"startlinecolor\":\"#2a3f5f\"},\"baxis\":{\"endlinecolor\":\"#2a3f5f\",\"gridcolor\":\"white\",\"linecolor\":\"white\",\"minorgridcolor\":\"white\",\"startlinecolor\":\"#2a3f5f\"},\"type\":\"carpet\"}],\"choropleth\":[{\"colorbar\":{\"outlinewidth\":0,\"ticks\":\"\"},\"type\":\"choropleth\"}],\"contour\":[{\"colorbar\":{\"outlinewidth\":0,\"ticks\":\"\"},\"colorscale\":[[0.0,\"#0d0887\"],[0.1111111111111111,\"#46039f\"],[0.2222222222222222,\"#7201a8\"],[0.3333333333333333,\"#9c179e\"],[0.4444444444444444,\"#bd3786\"],[0.5555555555555556,\"#d8576b\"],[0.6666666666666666,\"#ed7953\"],[0.7777777777777778,\"#fb9f3a\"],[0.8888888888888888,\"#fdca26\"],[1.0,\"#f0f921\"]],\"type\":\"contour\"}],\"contourcarpet\":[{\"colorbar\":{\"outlinewidth\":0,\"ticks\":\"\"},\"type\":\"contourcarpet\"}],\"heatmap\":[{\"colorbar\":{\"outlinewidth\":0,\"ticks\":\"\"},\"colorscale\":[[0.0,\"#0d0887\"],[0.1111111111111111,\"#46039f\"],[0.2222222222222222,\"#7201a8\"],[0.3333333333333333,\"#9c179e\"],[0.4444444444444444,\"#bd3786\"],[0.5555555555555556,\"#d8576b\"],[0.6666666666666666,\"#ed7953\"],[0.7777777777777778,\"#fb9f3a\"],[0.8888888888888888,\"#fdca26\"],[1.0,\"#f0f921\"]],\"type\":\"heatmap\"}],\"heatmapgl\":[{\"colorbar\":{\"outlinewidth\":0,\"ticks\":\"\"},\"colorscale\":[[0.0,\"#0d0887\"],[0.1111111111111111,\"#46039f\"],[0.2222222222222222,\"#7201a8\"],[0.3333333333333333,\"#9c179e\"],[0.4444444444444444,\"#bd3786\"],[0.5555555555555556,\"#d8576b\"],[0.6666666666666666,\"#ed7953\"],[0.7777777777777778,\"#fb9f3a\"],[0.8888888888888888,\"#fdca26\"],[1.0,\"#f0f921\"]],\"type\":\"heatmapgl\"}],\"histogram\":[{\"marker\":{\"pattern\":{\"fillmode\":\"overlay\",\"size\":10,\"solidity\":0.2}},\"type\":\"histogram\"}],\"histogram2d\":[{\"colorbar\":{\"outlinewidth\":0,\"ticks\":\"\"},\"colorscale\":[[0.0,\"#0d0887\"],[0.1111111111111111,\"#46039f\"],[0.2222222222222222,\"#7201a8\"],[0.3333333333333333,\"#9c179e\"],[0.4444444444444444,\"#bd3786\"],[0.5555555555555556,\"#d8576b\"],[0.6666666666666666,\"#ed7953\"],[0.7777777777777778,\"#fb9f3a\"],[0.8888888888888888,\"#fdca26\"],[1.0,\"#f0f921\"]],\"type\":\"histogram2d\"}],\"histogram2dcontour\":[{\"colorbar\":{\"outlinewidth\":0,\"ticks\":\"\"},\"colorscale\":[[0.0,\"#0d0887\"],[0.1111111111111111,\"#46039f\"],[0.2222222222222222,\"#7201a8\"],[0.3333333333333333,\"#9c179e\"],[0.4444444444444444,\"#bd3786\"],[0.5555555555555556,\"#d8576b\"],[0.6666666666666666,\"#ed7953\"],[0.7777777777777778,\"#fb9f3a\"],[0.8888888888888888,\"#fdca26\"],[1.0,\"#f0f921\"]],\"type\":\"histogram2dcontour\"}],\"mesh3d\":[{\"colorbar\":{\"outlinewidth\":0,\"ticks\":\"\"},\"type\":\"mesh3d\"}],\"parcoords\":[{\"line\":{\"colorbar\":{\"outlinewidth\":0,\"ticks\":\"\"}},\"type\":\"parcoords\"}],\"pie\":[{\"automargin\":true,\"type\":\"pie\"}],\"scatter\":[{\"marker\":{\"colorbar\":{\"outlinewidth\":0,\"ticks\":\"\"}},\"type\":\"scatter\"}],\"scatter3d\":[{\"line\":{\"colorbar\":{\"outlinewidth\":0,\"ticks\":\"\"}},\"marker\":{\"colorbar\":{\"outlinewidth\":0,\"ticks\":\"\"}},\"type\":\"scatter3d\"}],\"scattercarpet\":[{\"marker\":{\"colorbar\":{\"outlinewidth\":0,\"ticks\":\"\"}},\"type\":\"scattercarpet\"}],\"scattergeo\":[{\"marker\":{\"colorbar\":{\"outlinewidth\":0,\"ticks\":\"\"}},\"type\":\"scattergeo\"}],\"scattergl\":[{\"marker\":{\"colorbar\":{\"outlinewidth\":0,\"ticks\":\"\"}},\"type\":\"scattergl\"}],\"scattermapbox\":[{\"marker\":{\"colorbar\":{\"outlinewidth\":0,\"ticks\":\"\"}},\"type\":\"scattermapbox\"}],\"scatterpolar\":[{\"marker\":{\"colorbar\":{\"outlinewidth\":0,\"ticks\":\"\"}},\"type\":\"scatterpolar\"}],\"scatterpolargl\":[{\"marker\":{\"colorbar\":{\"outlinewidth\":0,\"ticks\":\"\"}},\"type\":\"scatterpolargl\"}],\"scatterternary\":[{\"marker\":{\"colorbar\":{\"outlinewidth\":0,\"ticks\":\"\"}},\"type\":\"scatterternary\"}],\"surface\":[{\"colorbar\":{\"outlinewidth\":0,\"ticks\":\"\"},\"colorscale\":[[0.0,\"#0d0887\"],[0.1111111111111111,\"#46039f\"],[0.2222222222222222,\"#7201a8\"],[0.3333333333333333,\"#9c179e\"],[0.4444444444444444,\"#bd3786\"],[0.5555555555555556,\"#d8576b\"],[0.6666666666666666,\"#ed7953\"],[0.7777777777777778,\"#fb9f3a\"],[0.8888888888888888,\"#fdca26\"],[1.0,\"#f0f921\"]],\"type\":\"surface\"}],\"table\":[{\"cells\":{\"fill\":{\"color\":\"#EBF0F8\"},\"line\":{\"color\":\"white\"}},\"header\":{\"fill\":{\"color\":\"#C8D4E3\"},\"line\":{\"color\":\"white\"}},\"type\":\"table\"}]},\"layout\":{\"annotationdefaults\":{\"arrowcolor\":\"#2a3f5f\",\"arrowhead\":0,\"arrowwidth\":1},\"autotypenumbers\":\"strict\",\"coloraxis\":{\"colorbar\":{\"outlinewidth\":0,\"ticks\":\"\"}},\"colorscale\":{\"diverging\":[[0,\"#8e0152\"],[0.1,\"#c51b7d\"],[0.2,\"#de77ae\"],[0.3,\"#f1b6da\"],[0.4,\"#fde0ef\"],[0.5,\"#f7f7f7\"],[0.6,\"#e6f5d0\"],[0.7,\"#b8e186\"],[0.8,\"#7fbc41\"],[0.9,\"#4d9221\"],[1,\"#276419\"]],\"sequential\":[[0.0,\"#0d0887\"],[0.1111111111111111,\"#46039f\"],[0.2222222222222222,\"#7201a8\"],[0.3333333333333333,\"#9c179e\"],[0.4444444444444444,\"#bd3786\"],[0.5555555555555556,\"#d8576b\"],[0.6666666666666666,\"#ed7953\"],[0.7777777777777778,\"#fb9f3a\"],[0.8888888888888888,\"#fdca26\"],[1.0,\"#f0f921\"]],\"sequentialminus\":[[0.0,\"#0d0887\"],[0.1111111111111111,\"#46039f\"],[0.2222222222222222,\"#7201a8\"],[0.3333333333333333,\"#9c179e\"],[0.4444444444444444,\"#bd3786\"],[0.5555555555555556,\"#d8576b\"],[0.6666666666666666,\"#ed7953\"],[0.7777777777777778,\"#fb9f3a\"],[0.8888888888888888,\"#fdca26\"],[1.0,\"#f0f921\"]]},\"colorway\":[\"#636efa\",\"#EF553B\",\"#00cc96\",\"#ab63fa\",\"#FFA15A\",\"#19d3f3\",\"#FF6692\",\"#B6E880\",\"#FF97FF\",\"#FECB52\"],\"font\":{\"color\":\"#2a3f5f\"},\"geo\":{\"bgcolor\":\"white\",\"lakecolor\":\"white\",\"landcolor\":\"#E5ECF6\",\"showlakes\":true,\"showland\":true,\"subunitcolor\":\"white\"},\"hoverlabel\":{\"align\":\"left\"},\"hovermode\":\"closest\",\"mapbox\":{\"style\":\"light\"},\"paper_bgcolor\":\"white\",\"plot_bgcolor\":\"#E5ECF6\",\"polar\":{\"angularaxis\":{\"gridcolor\":\"white\",\"linecolor\":\"white\",\"ticks\":\"\"},\"bgcolor\":\"#E5ECF6\",\"radialaxis\":{\"gridcolor\":\"white\",\"linecolor\":\"white\",\"ticks\":\"\"}},\"scene\":{\"xaxis\":{\"backgroundcolor\":\"#E5ECF6\",\"gridcolor\":\"white\",\"gridwidth\":2,\"linecolor\":\"white\",\"showbackground\":true,\"ticks\":\"\",\"zerolinecolor\":\"white\"},\"yaxis\":{\"backgroundcolor\":\"#E5ECF6\",\"gridcolor\":\"white\",\"gridwidth\":2,\"linecolor\":\"white\",\"showbackground\":true,\"ticks\":\"\",\"zerolinecolor\":\"white\"},\"zaxis\":{\"backgroundcolor\":\"#E5ECF6\",\"gridcolor\":\"white\",\"gridwidth\":2,\"linecolor\":\"white\",\"showbackground\":true,\"ticks\":\"\",\"zerolinecolor\":\"white\"}},\"shapedefaults\":{\"line\":{\"color\":\"#2a3f5f\"}},\"ternary\":{\"aaxis\":{\"gridcolor\":\"white\",\"linecolor\":\"white\",\"ticks\":\"\"},\"baxis\":{\"gridcolor\":\"white\",\"linecolor\":\"white\",\"ticks\":\"\"},\"bgcolor\":\"#E5ECF6\",\"caxis\":{\"gridcolor\":\"white\",\"linecolor\":\"white\",\"ticks\":\"\"}},\"title\":{\"x\":0.05},\"xaxis\":{\"automargin\":true,\"gridcolor\":\"white\",\"linecolor\":\"white\",\"ticks\":\"\",\"title\":{\"standoff\":15},\"zerolinecolor\":\"white\",\"zerolinewidth\":2},\"yaxis\":{\"automargin\":true,\"gridcolor\":\"white\",\"linecolor\":\"white\",\"ticks\":\"\",\"title\":{\"standoff\":15},\"zerolinecolor\":\"white\",\"zerolinewidth\":2}}}},                        {\"responsive\": true}                    ).then(function(){\n",
              "                            \n",
              "var gd = document.getElementById('e48a41a8-6ee1-4b18-8fd8-d0a36cba9605');\n",
              "var x = new MutationObserver(function (mutations, observer) {{\n",
              "        var display = window.getComputedStyle(gd).display;\n",
              "        if (!display || display === 'none') {{\n",
              "            console.log([gd, 'removed!']);\n",
              "            Plotly.purge(gd);\n",
              "            observer.disconnect();\n",
              "        }}\n",
              "}});\n",
              "\n",
              "// Listen for the removal of the full notebook cells\n",
              "var notebookContainer = gd.closest('#notebook-container');\n",
              "if (notebookContainer) {{\n",
              "    x.observe(notebookContainer, {childList: true});\n",
              "}}\n",
              "\n",
              "// Listen for the clearing of the current output cell\n",
              "var outputEl = gd.closest('.output');\n",
              "if (outputEl) {{\n",
              "    x.observe(outputEl, {childList: true});\n",
              "}}\n",
              "\n",
              "                        })                };                            </script>        </div>\n",
              "</body>\n",
              "</html>"
            ]
          },
          "metadata": {}
        }
      ],
      "source": [
        "df_SMA5 = pd.DataFrame()\n",
        "\n",
        "df_SMA5['log_return_close'] = df['Close_Log_Return'].rolling(window=5).mean().round(3)\n",
        "\n",
        "df_SMA5.dropna(inplace=True)\n",
        "   \n",
        "aux = df_SMA5[['log_return_close']].describe()\n",
        "valorMin = np.float64(aux.loc['min']).item()\n",
        "valorMax = np.float64(aux.loc['max']).item()\n",
        "q1 = np.float64(aux.loc['25%']).item()\n",
        "q3 = np.float64(aux.loc['75%']).item()\n",
        "intervalo = 1.5 * (q3-q1)\n",
        "limite_min = max(q1 - intervalo, valorMin)\n",
        "limite_max = min((q3 + intervalo), valorMax)\n",
        "normais = np.where(df_SMA5['log_return_close'] > limite_min, df_SMA5['log_return_close'], np.nan)\n",
        "menores = np.isnan(normais).sum()\n",
        "print('Dados da feature: ', 'Close')\n",
        "print(f'Quantidade de outliers inferiores: {menores}')\n",
        "print(f'Percentual do dataset: {round(menores/len(normais), 6)}%')\n",
        "normais = np.where(df_SMA5['log_return_close'] < limite_max, df_SMA5['log_return_close'], np.nan)\n",
        "maiores = np.isnan(normais).sum()\n",
        "print(f'Quantidade de outliers superiores: {maiores}')\n",
        "print(f'Percentual do dataset: {round(maiores/len(normais), 6)}%')\n",
        "print(f'\\nQuantidade total de outliers: {menores+maiores}')\n",
        "print(f'Percentual do dataset: {round((menores+maiores)/len(normais), 6)}%\\n')\n",
        "\n",
        "fig = go.Figure()\n",
        "fig.add_trace(go.Box(x=df_SMA5['log_return_close'], name='log_return_close'))\n",
        "fig.show()"
      ]
    },
    {
      "cell_type": "code",
      "execution_count": null,
      "id": "b93cca98",
      "metadata": {
        "id": "b93cca98"
      },
      "outputs": [],
      "source": [
        "df_SMA5.rename(columns={'log_return_close': 'log_return_close_SMA5'}, inplace = True)"
      ]
    },
    {
      "cell_type": "code",
      "execution_count": null,
      "id": "3e2bb020",
      "metadata": {
        "colab": {
          "base_uri": "https://localhost:8080/",
          "height": 455
        },
        "id": "3e2bb020",
        "outputId": "e961c637-dd53-4f18-86b8-f9977dffd39c"
      },
      "outputs": [
        {
          "output_type": "execute_result",
          "data": {
            "text/plain": [
              "            log_return_close_SMA5\n",
              "Date                             \n",
              "2007-01-09                 -0.015\n",
              "2007-01-10                 -0.010\n",
              "2007-01-11                 -0.006\n",
              "2007-01-12                  0.004\n",
              "2007-01-15                  0.001\n",
              "...                           ...\n",
              "2021-12-23                 -0.006\n",
              "2021-12-27                 -0.003\n",
              "2021-12-28                 -0.000\n",
              "2021-12-29                 -0.002\n",
              "2021-12-30                 -0.001\n",
              "\n",
              "[3701 rows x 1 columns]"
            ],
            "text/html": [
              "\n",
              "  <div id=\"df-ca83c299-6a9f-4dfe-a957-97c003977265\">\n",
              "    <div class=\"colab-df-container\">\n",
              "      <div>\n",
              "<style scoped>\n",
              "    .dataframe tbody tr th:only-of-type {\n",
              "        vertical-align: middle;\n",
              "    }\n",
              "\n",
              "    .dataframe tbody tr th {\n",
              "        vertical-align: top;\n",
              "    }\n",
              "\n",
              "    .dataframe thead th {\n",
              "        text-align: right;\n",
              "    }\n",
              "</style>\n",
              "<table border=\"1\" class=\"dataframe\">\n",
              "  <thead>\n",
              "    <tr style=\"text-align: right;\">\n",
              "      <th></th>\n",
              "      <th>log_return_close_SMA5</th>\n",
              "    </tr>\n",
              "    <tr>\n",
              "      <th>Date</th>\n",
              "      <th></th>\n",
              "    </tr>\n",
              "  </thead>\n",
              "  <tbody>\n",
              "    <tr>\n",
              "      <th>2007-01-09</th>\n",
              "      <td>-0.015</td>\n",
              "    </tr>\n",
              "    <tr>\n",
              "      <th>2007-01-10</th>\n",
              "      <td>-0.010</td>\n",
              "    </tr>\n",
              "    <tr>\n",
              "      <th>2007-01-11</th>\n",
              "      <td>-0.006</td>\n",
              "    </tr>\n",
              "    <tr>\n",
              "      <th>2007-01-12</th>\n",
              "      <td>0.004</td>\n",
              "    </tr>\n",
              "    <tr>\n",
              "      <th>2007-01-15</th>\n",
              "      <td>0.001</td>\n",
              "    </tr>\n",
              "    <tr>\n",
              "      <th>...</th>\n",
              "      <td>...</td>\n",
              "    </tr>\n",
              "    <tr>\n",
              "      <th>2021-12-23</th>\n",
              "      <td>-0.006</td>\n",
              "    </tr>\n",
              "    <tr>\n",
              "      <th>2021-12-27</th>\n",
              "      <td>-0.003</td>\n",
              "    </tr>\n",
              "    <tr>\n",
              "      <th>2021-12-28</th>\n",
              "      <td>-0.000</td>\n",
              "    </tr>\n",
              "    <tr>\n",
              "      <th>2021-12-29</th>\n",
              "      <td>-0.002</td>\n",
              "    </tr>\n",
              "    <tr>\n",
              "      <th>2021-12-30</th>\n",
              "      <td>-0.001</td>\n",
              "    </tr>\n",
              "  </tbody>\n",
              "</table>\n",
              "<p>3701 rows × 1 columns</p>\n",
              "</div>\n",
              "      <button class=\"colab-df-convert\" onclick=\"convertToInteractive('df-ca83c299-6a9f-4dfe-a957-97c003977265')\"\n",
              "              title=\"Convert this dataframe to an interactive table.\"\n",
              "              style=\"display:none;\">\n",
              "        \n",
              "  <svg xmlns=\"http://www.w3.org/2000/svg\" height=\"24px\"viewBox=\"0 0 24 24\"\n",
              "       width=\"24px\">\n",
              "    <path d=\"M0 0h24v24H0V0z\" fill=\"none\"/>\n",
              "    <path d=\"M18.56 5.44l.94 2.06.94-2.06 2.06-.94-2.06-.94-.94-2.06-.94 2.06-2.06.94zm-11 1L8.5 8.5l.94-2.06 2.06-.94-2.06-.94L8.5 2.5l-.94 2.06-2.06.94zm10 10l.94 2.06.94-2.06 2.06-.94-2.06-.94-.94-2.06-.94 2.06-2.06.94z\"/><path d=\"M17.41 7.96l-1.37-1.37c-.4-.4-.92-.59-1.43-.59-.52 0-1.04.2-1.43.59L10.3 9.45l-7.72 7.72c-.78.78-.78 2.05 0 2.83L4 21.41c.39.39.9.59 1.41.59.51 0 1.02-.2 1.41-.59l7.78-7.78 2.81-2.81c.8-.78.8-2.07 0-2.86zM5.41 20L4 18.59l7.72-7.72 1.47 1.35L5.41 20z\"/>\n",
              "  </svg>\n",
              "      </button>\n",
              "      \n",
              "  <style>\n",
              "    .colab-df-container {\n",
              "      display:flex;\n",
              "      flex-wrap:wrap;\n",
              "      gap: 12px;\n",
              "    }\n",
              "\n",
              "    .colab-df-convert {\n",
              "      background-color: #E8F0FE;\n",
              "      border: none;\n",
              "      border-radius: 50%;\n",
              "      cursor: pointer;\n",
              "      display: none;\n",
              "      fill: #1967D2;\n",
              "      height: 32px;\n",
              "      padding: 0 0 0 0;\n",
              "      width: 32px;\n",
              "    }\n",
              "\n",
              "    .colab-df-convert:hover {\n",
              "      background-color: #E2EBFA;\n",
              "      box-shadow: 0px 1px 2px rgba(60, 64, 67, 0.3), 0px 1px 3px 1px rgba(60, 64, 67, 0.15);\n",
              "      fill: #174EA6;\n",
              "    }\n",
              "\n",
              "    [theme=dark] .colab-df-convert {\n",
              "      background-color: #3B4455;\n",
              "      fill: #D2E3FC;\n",
              "    }\n",
              "\n",
              "    [theme=dark] .colab-df-convert:hover {\n",
              "      background-color: #434B5C;\n",
              "      box-shadow: 0px 1px 3px 1px rgba(0, 0, 0, 0.15);\n",
              "      filter: drop-shadow(0px 1px 2px rgba(0, 0, 0, 0.3));\n",
              "      fill: #FFFFFF;\n",
              "    }\n",
              "  </style>\n",
              "\n",
              "      <script>\n",
              "        const buttonEl =\n",
              "          document.querySelector('#df-ca83c299-6a9f-4dfe-a957-97c003977265 button.colab-df-convert');\n",
              "        buttonEl.style.display =\n",
              "          google.colab.kernel.accessAllowed ? 'block' : 'none';\n",
              "\n",
              "        async function convertToInteractive(key) {\n",
              "          const element = document.querySelector('#df-ca83c299-6a9f-4dfe-a957-97c003977265');\n",
              "          const dataTable =\n",
              "            await google.colab.kernel.invokeFunction('convertToInteractive',\n",
              "                                                     [key], {});\n",
              "          if (!dataTable) return;\n",
              "\n",
              "          const docLinkHtml = 'Like what you see? Visit the ' +\n",
              "            '<a target=\"_blank\" href=https://colab.research.google.com/notebooks/data_table.ipynb>data table notebook</a>'\n",
              "            + ' to learn more about interactive tables.';\n",
              "          element.innerHTML = '';\n",
              "          dataTable['output_type'] = 'display_data';\n",
              "          await google.colab.output.renderOutput(dataTable, element);\n",
              "          const docLink = document.createElement('div');\n",
              "          docLink.innerHTML = docLinkHtml;\n",
              "          element.appendChild(docLink);\n",
              "        }\n",
              "      </script>\n",
              "    </div>\n",
              "  </div>\n",
              "  "
            ]
          },
          "metadata": {},
          "execution_count": 23
        }
      ],
      "source": [
        "df_SMA5"
      ]
    },
    {
      "cell_type": "code",
      "execution_count": null,
      "id": "16018693",
      "metadata": {
        "colab": {
          "base_uri": "https://localhost:8080/",
          "height": 542
        },
        "id": "16018693",
        "outputId": "3468ee2e-8b8e-4929-ff78-5371ee2c6be8"
      },
      "outputs": [
        {
          "output_type": "display_data",
          "data": {
            "text/html": [
              "<html>\n",
              "<head><meta charset=\"utf-8\" /></head>\n",
              "<body>\n",
              "    <div>            <script src=\"https://cdnjs.cloudflare.com/ajax/libs/mathjax/2.7.5/MathJax.js?config=TeX-AMS-MML_SVG\"></script><script type=\"text/javascript\">if (window.MathJax) {MathJax.Hub.Config({SVG: {font: \"STIX-Web\"}});}</script>                <script type=\"text/javascript\">window.PlotlyConfig = {MathJaxConfig: 'local'};</script>\n",
              "        <script src=\"https://cdn.plot.ly/plotly-2.8.3.min.js\"></script>                <div id=\"20ea9d9b-3b59-4d23-8120-e2762cffc59c\" class=\"plotly-graph-div\" style=\"height:525px; width:100%;\"></div>            <script type=\"text/javascript\">                                    window.PLOTLYENV=window.PLOTLYENV || {};                                    if (document.getElementById(\"20ea9d9b-3b59-4d23-8120-e2762cffc59c\")) {                    Plotly.newPlot(                        \"20ea9d9b-3b59-4d23-8120-e2762cffc59c\",                        [{\"hovertemplate\":\"Date=%{x}<br>log_return_close_SMA5=%{y}<extra></extra>\",\"legendgroup\":\"\",\"line\":{\"color\":\"#636efa\",\"dash\":\"solid\"},\"marker\":{\"symbol\":\"circle\"},\"mode\":\"lines\",\"name\":\"\",\"showlegend\":false,\"x\":[\"2007-01-09T00:00:00\",\"2007-01-10T00:00:00\",\"2007-01-11T00:00:00\",\"2007-01-12T00:00:00\",\"2007-01-15T00:00:00\",\"2007-01-16T00:00:00\",\"2007-01-17T00:00:00\",\"2007-01-18T00:00:00\",\"2007-01-19T00:00:00\",\"2007-01-22T00:00:00\",\"2007-01-23T00:00:00\",\"2007-01-24T00:00:00\",\"2007-01-26T00:00:00\",\"2007-01-29T00:00:00\",\"2007-01-30T00:00:00\",\"2007-01-31T00:00:00\",\"2007-02-01T00:00:00\",\"2007-02-02T00:00:00\",\"2007-02-05T00:00:00\",\"2007-02-06T00:00:00\",\"2007-02-07T00:00:00\",\"2007-02-08T00:00:00\",\"2007-02-09T00:00:00\",\"2007-02-12T00:00:00\",\"2007-02-13T00:00:00\",\"2007-02-14T00:00:00\",\"2007-02-15T00:00:00\",\"2007-02-16T00:00:00\",\"2007-02-21T00:00:00\",\"2007-02-22T00:00:00\",\"2007-02-23T00:00:00\",\"2007-02-26T00:00:00\",\"2007-02-27T00:00:00\",\"2007-02-28T00:00:00\",\"2007-03-01T00:00:00\",\"2007-03-02T00:00:00\",\"2007-03-05T00:00:00\",\"2007-03-06T00:00:00\",\"2007-03-07T00:00:00\",\"2007-03-08T00:00:00\",\"2007-03-09T00:00:00\",\"2007-03-12T00:00:00\",\"2007-03-13T00:00:00\",\"2007-03-14T00:00:00\",\"2007-03-15T00:00:00\",\"2007-03-16T00:00:00\",\"2007-03-19T00:00:00\",\"2007-03-20T00:00:00\",\"2007-03-21T00:00:00\",\"2007-03-22T00:00:00\",\"2007-03-23T00:00:00\",\"2007-03-26T00:00:00\",\"2007-03-27T00:00:00\",\"2007-03-28T00:00:00\",\"2007-03-29T00:00:00\",\"2007-03-30T00:00:00\",\"2007-04-02T00:00:00\",\"2007-04-03T00:00:00\",\"2007-04-04T00:00:00\",\"2007-04-05T00:00:00\",\"2007-04-09T00:00:00\",\"2007-04-10T00:00:00\",\"2007-04-11T00:00:00\",\"2007-04-12T00:00:00\",\"2007-04-13T00:00:00\",\"2007-04-16T00:00:00\",\"2007-04-17T00:00:00\",\"2007-04-18T00:00:00\",\"2007-04-19T00:00:00\",\"2007-04-20T00:00:00\",\"2007-04-23T00:00:00\",\"2007-04-24T00:00:00\",\"2007-04-25T00:00:00\",\"2007-04-26T00:00:00\",\"2007-04-27T00:00:00\",\"2007-04-30T00:00:00\",\"2007-05-02T00:00:00\",\"2007-05-03T00:00:00\",\"2007-05-04T00:00:00\",\"2007-05-07T00:00:00\",\"2007-05-08T00:00:00\",\"2007-05-09T00:00:00\",\"2007-05-10T00:00:00\",\"2007-05-11T00:00:00\",\"2007-05-14T00:00:00\",\"2007-05-15T00:00:00\",\"2007-05-16T00:00:00\",\"2007-05-17T00:00:00\",\"2007-05-18T00:00:00\",\"2007-05-21T00:00:00\",\"2007-05-22T00:00:00\",\"2007-05-23T00:00:00\",\"2007-05-24T00:00:00\",\"2007-05-25T00:00:00\",\"2007-05-28T00:00:00\",\"2007-05-29T00:00:00\",\"2007-05-30T00:00:00\",\"2007-05-31T00:00:00\",\"2007-06-01T00:00:00\",\"2007-06-04T00:00:00\",\"2007-06-05T00:00:00\",\"2007-06-06T00:00:00\",\"2007-06-08T00:00:00\",\"2007-06-11T00:00:00\",\"2007-06-12T00:00:00\",\"2007-06-13T00:00:00\",\"2007-06-14T00:00:00\",\"2007-06-15T00:00:00\",\"2007-06-18T00:00:00\",\"2007-06-19T00:00:00\",\"2007-06-20T00:00:00\",\"2007-06-21T00:00:00\",\"2007-06-22T00:00:00\",\"2007-06-25T00:00:00\",\"2007-06-26T00:00:00\",\"2007-06-27T00:00:00\",\"2007-06-28T00:00:00\",\"2007-06-29T00:00:00\",\"2007-07-02T00:00:00\",\"2007-07-03T00:00:00\",\"2007-07-04T00:00:00\",\"2007-07-05T00:00:00\",\"2007-07-06T00:00:00\",\"2007-07-10T00:00:00\",\"2007-07-11T00:00:00\",\"2007-07-12T00:00:00\",\"2007-07-13T00:00:00\",\"2007-07-16T00:00:00\",\"2007-07-17T00:00:00\",\"2007-07-18T00:00:00\",\"2007-07-19T00:00:00\",\"2007-07-20T00:00:00\",\"2007-07-23T00:00:00\",\"2007-07-24T00:00:00\",\"2007-07-25T00:00:00\",\"2007-07-26T00:00:00\",\"2007-07-27T00:00:00\",\"2007-07-30T00:00:00\",\"2007-07-31T00:00:00\",\"2007-08-01T00:00:00\",\"2007-08-02T00:00:00\",\"2007-08-03T00:00:00\",\"2007-08-06T00:00:00\",\"2007-08-07T00:00:00\",\"2007-08-08T00:00:00\",\"2007-08-09T00:00:00\",\"2007-08-10T00:00:00\",\"2007-08-13T00:00:00\",\"2007-08-14T00:00:00\",\"2007-08-15T00:00:00\",\"2007-08-16T00:00:00\",\"2007-08-17T00:00:00\",\"2007-08-20T00:00:00\",\"2007-08-21T00:00:00\",\"2007-08-22T00:00:00\",\"2007-08-23T00:00:00\",\"2007-08-24T00:00:00\",\"2007-08-27T00:00:00\",\"2007-08-28T00:00:00\",\"2007-08-29T00:00:00\",\"2007-08-30T00:00:00\",\"2007-08-31T00:00:00\",\"2007-09-03T00:00:00\",\"2007-09-04T00:00:00\",\"2007-09-05T00:00:00\",\"2007-09-06T00:00:00\",\"2007-09-10T00:00:00\",\"2007-09-11T00:00:00\",\"2007-09-12T00:00:00\",\"2007-09-13T00:00:00\",\"2007-09-14T00:00:00\",\"2007-09-17T00:00:00\",\"2007-09-18T00:00:00\",\"2007-09-19T00:00:00\",\"2007-09-20T00:00:00\",\"2007-09-21T00:00:00\",\"2007-09-24T00:00:00\",\"2007-09-25T00:00:00\",\"2007-09-26T00:00:00\",\"2007-09-27T00:00:00\",\"2007-09-28T00:00:00\",\"2007-10-01T00:00:00\",\"2007-10-02T00:00:00\",\"2007-10-03T00:00:00\",\"2007-10-04T00:00:00\",\"2007-10-05T00:00:00\",\"2007-10-08T00:00:00\",\"2007-10-09T00:00:00\",\"2007-10-10T00:00:00\",\"2007-10-11T00:00:00\",\"2007-10-15T00:00:00\",\"2007-10-16T00:00:00\",\"2007-10-17T00:00:00\",\"2007-10-18T00:00:00\",\"2007-10-19T00:00:00\",\"2007-10-22T00:00:00\",\"2007-10-23T00:00:00\",\"2007-10-24T00:00:00\",\"2007-10-25T00:00:00\",\"2007-10-26T00:00:00\",\"2007-10-29T00:00:00\",\"2007-10-30T00:00:00\",\"2007-10-31T00:00:00\",\"2007-11-01T00:00:00\",\"2007-11-05T00:00:00\",\"2007-11-06T00:00:00\",\"2007-11-07T00:00:00\",\"2007-11-08T00:00:00\",\"2007-11-09T00:00:00\",\"2007-11-12T00:00:00\",\"2007-11-13T00:00:00\",\"2007-11-14T00:00:00\",\"2007-11-16T00:00:00\",\"2007-11-19T00:00:00\",\"2007-11-21T00:00:00\",\"2007-11-22T00:00:00\",\"2007-11-23T00:00:00\",\"2007-11-26T00:00:00\",\"2007-11-27T00:00:00\",\"2007-11-28T00:00:00\",\"2007-11-29T00:00:00\",\"2007-11-30T00:00:00\",\"2007-12-03T00:00:00\",\"2007-12-04T00:00:00\",\"2007-12-05T00:00:00\",\"2007-12-06T00:00:00\",\"2007-12-07T00:00:00\",\"2007-12-10T00:00:00\",\"2007-12-11T00:00:00\",\"2007-12-12T00:00:00\",\"2007-12-13T00:00:00\",\"2007-12-14T00:00:00\",\"2007-12-17T00:00:00\",\"2007-12-18T00:00:00\",\"2007-12-19T00:00:00\",\"2007-12-20T00:00:00\",\"2007-12-21T00:00:00\",\"2007-12-26T00:00:00\",\"2007-12-27T00:00:00\",\"2007-12-28T00:00:00\",\"2008-01-02T00:00:00\",\"2008-01-03T00:00:00\",\"2008-01-04T00:00:00\",\"2008-01-07T00:00:00\",\"2008-01-08T00:00:00\",\"2008-01-09T00:00:00\",\"2008-01-10T00:00:00\",\"2008-01-11T00:00:00\",\"2008-01-14T00:00:00\",\"2008-01-15T00:00:00\",\"2008-01-16T00:00:00\",\"2008-01-17T00:00:00\",\"2008-01-18T00:00:00\",\"2008-01-21T00:00:00\",\"2008-01-22T00:00:00\",\"2008-01-23T00:00:00\",\"2008-01-24T00:00:00\",\"2008-01-28T00:00:00\",\"2008-01-29T00:00:00\",\"2008-01-30T00:00:00\",\"2008-01-31T00:00:00\",\"2008-02-01T00:00:00\",\"2008-02-06T00:00:00\",\"2008-02-07T00:00:00\",\"2008-02-08T00:00:00\",\"2008-02-11T00:00:00\",\"2008-02-12T00:00:00\",\"2008-02-13T00:00:00\",\"2008-02-14T00:00:00\",\"2008-02-15T00:00:00\",\"2008-02-18T00:00:00\",\"2008-02-19T00:00:00\",\"2008-02-20T00:00:00\",\"2008-02-21T00:00:00\",\"2008-02-22T00:00:00\",\"2008-02-25T00:00:00\",\"2008-02-26T00:00:00\",\"2008-02-27T00:00:00\",\"2008-02-28T00:00:00\",\"2008-02-29T00:00:00\",\"2008-03-03T00:00:00\",\"2008-03-04T00:00:00\",\"2008-03-05T00:00:00\",\"2008-03-06T00:00:00\",\"2008-03-07T00:00:00\",\"2008-03-10T00:00:00\",\"2008-03-11T00:00:00\",\"2008-03-12T00:00:00\",\"2008-03-13T00:00:00\",\"2008-03-14T00:00:00\",\"2008-03-17T00:00:00\",\"2008-03-18T00:00:00\",\"2008-03-19T00:00:00\",\"2008-03-20T00:00:00\",\"2008-03-24T00:00:00\",\"2008-03-25T00:00:00\",\"2008-03-26T00:00:00\",\"2008-03-27T00:00:00\",\"2008-03-28T00:00:00\",\"2008-03-31T00:00:00\",\"2008-04-01T00:00:00\",\"2008-04-02T00:00:00\",\"2008-04-03T00:00:00\",\"2008-04-04T00:00:00\",\"2008-04-07T00:00:00\",\"2008-04-08T00:00:00\",\"2008-04-09T00:00:00\",\"2008-04-10T00:00:00\",\"2008-04-11T00:00:00\",\"2008-04-14T00:00:00\",\"2008-04-15T00:00:00\",\"2008-04-16T00:00:00\",\"2008-04-17T00:00:00\",\"2008-04-18T00:00:00\",\"2008-04-22T00:00:00\",\"2008-04-23T00:00:00\",\"2008-04-24T00:00:00\",\"2008-04-25T00:00:00\",\"2008-04-28T00:00:00\",\"2008-04-29T00:00:00\",\"2008-04-30T00:00:00\",\"2008-05-02T00:00:00\",\"2008-05-05T00:00:00\",\"2008-05-06T00:00:00\",\"2008-05-07T00:00:00\",\"2008-05-08T00:00:00\",\"2008-05-09T00:00:00\",\"2008-05-12T00:00:00\",\"2008-05-13T00:00:00\",\"2008-05-14T00:00:00\",\"2008-05-15T00:00:00\",\"2008-05-16T00:00:00\",\"2008-05-19T00:00:00\",\"2008-05-20T00:00:00\",\"2008-05-21T00:00:00\",\"2008-05-23T00:00:00\",\"2008-05-26T00:00:00\",\"2008-05-27T00:00:00\",\"2008-05-28T00:00:00\",\"2008-05-29T00:00:00\",\"2008-05-30T00:00:00\",\"2008-06-02T00:00:00\",\"2008-06-03T00:00:00\",\"2008-06-04T00:00:00\",\"2008-06-05T00:00:00\",\"2008-06-06T00:00:00\",\"2008-06-09T00:00:00\",\"2008-06-10T00:00:00\",\"2008-06-11T00:00:00\",\"2008-06-12T00:00:00\",\"2008-06-13T00:00:00\",\"2008-06-16T00:00:00\",\"2008-06-17T00:00:00\",\"2008-06-18T00:00:00\",\"2008-06-19T00:00:00\",\"2008-06-20T00:00:00\",\"2008-06-23T00:00:00\",\"2008-06-24T00:00:00\",\"2008-06-25T00:00:00\",\"2008-06-26T00:00:00\",\"2008-06-27T00:00:00\",\"2008-06-30T00:00:00\",\"2008-07-01T00:00:00\",\"2008-07-02T00:00:00\",\"2008-07-03T00:00:00\",\"2008-07-04T00:00:00\",\"2008-07-07T00:00:00\",\"2008-07-08T00:00:00\",\"2008-07-10T00:00:00\",\"2008-07-11T00:00:00\",\"2008-07-14T00:00:00\",\"2008-07-15T00:00:00\",\"2008-07-16T00:00:00\",\"2008-07-17T00:00:00\",\"2008-07-18T00:00:00\",\"2008-07-21T00:00:00\",\"2008-07-22T00:00:00\",\"2008-07-23T00:00:00\",\"2008-07-24T00:00:00\",\"2008-07-25T00:00:00\",\"2008-07-28T00:00:00\",\"2008-07-29T00:00:00\",\"2008-07-30T00:00:00\",\"2008-07-31T00:00:00\",\"2008-08-01T00:00:00\",\"2008-08-04T00:00:00\",\"2008-08-05T00:00:00\",\"2008-08-06T00:00:00\",\"2008-08-07T00:00:00\",\"2008-08-08T00:00:00\",\"2008-08-11T00:00:00\",\"2008-08-12T00:00:00\",\"2008-08-13T00:00:00\",\"2008-08-14T00:00:00\",\"2008-08-15T00:00:00\",\"2008-08-18T00:00:00\",\"2008-08-19T00:00:00\",\"2008-08-20T00:00:00\",\"2008-08-21T00:00:00\",\"2008-08-22T00:00:00\",\"2008-08-25T00:00:00\",\"2008-08-26T00:00:00\",\"2008-08-27T00:00:00\",\"2008-08-28T00:00:00\",\"2008-08-29T00:00:00\",\"2008-09-01T00:00:00\",\"2008-09-02T00:00:00\",\"2008-09-03T00:00:00\",\"2008-09-04T00:00:00\",\"2008-09-05T00:00:00\",\"2008-09-08T00:00:00\",\"2008-09-09T00:00:00\",\"2008-09-10T00:00:00\",\"2008-09-11T00:00:00\",\"2008-09-12T00:00:00\",\"2008-09-15T00:00:00\",\"2008-09-16T00:00:00\",\"2008-09-17T00:00:00\",\"2008-09-18T00:00:00\",\"2008-09-19T00:00:00\",\"2008-09-22T00:00:00\",\"2008-09-23T00:00:00\",\"2008-09-24T00:00:00\",\"2008-09-25T00:00:00\",\"2008-09-26T00:00:00\",\"2008-09-29T00:00:00\",\"2008-09-30T00:00:00\",\"2008-10-01T00:00:00\",\"2008-10-02T00:00:00\",\"2008-10-03T00:00:00\",\"2008-10-06T00:00:00\",\"2008-10-07T00:00:00\",\"2008-10-08T00:00:00\",\"2008-10-09T00:00:00\",\"2008-10-10T00:00:00\",\"2008-10-13T00:00:00\",\"2008-10-14T00:00:00\",\"2008-10-15T00:00:00\",\"2008-10-16T00:00:00\",\"2008-10-17T00:00:00\",\"2008-10-20T00:00:00\",\"2008-10-21T00:00:00\",\"2008-10-22T00:00:00\",\"2008-10-23T00:00:00\",\"2008-10-24T00:00:00\",\"2008-10-27T00:00:00\",\"2008-10-28T00:00:00\",\"2008-10-29T00:00:00\",\"2008-10-30T00:00:00\",\"2008-10-31T00:00:00\",\"2008-11-03T00:00:00\",\"2008-11-04T00:00:00\",\"2008-11-05T00:00:00\",\"2008-11-06T00:00:00\",\"2008-11-07T00:00:00\",\"2008-11-10T00:00:00\",\"2008-11-11T00:00:00\",\"2008-11-12T00:00:00\",\"2008-11-13T00:00:00\",\"2008-11-14T00:00:00\",\"2008-11-17T00:00:00\",\"2008-11-18T00:00:00\",\"2008-11-19T00:00:00\",\"2008-11-21T00:00:00\",\"2008-11-24T00:00:00\",\"2008-11-25T00:00:00\",\"2008-11-26T00:00:00\",\"2008-11-27T00:00:00\",\"2008-11-28T00:00:00\",\"2008-12-01T00:00:00\",\"2008-12-02T00:00:00\",\"2008-12-03T00:00:00\",\"2008-12-04T00:00:00\",\"2008-12-05T00:00:00\",\"2008-12-08T00:00:00\",\"2008-12-09T00:00:00\",\"2008-12-10T00:00:00\",\"2008-12-11T00:00:00\",\"2008-12-12T00:00:00\",\"2008-12-15T00:00:00\",\"2008-12-16T00:00:00\",\"2008-12-17T00:00:00\",\"2008-12-18T00:00:00\",\"2008-12-19T00:00:00\",\"2008-12-22T00:00:00\",\"2008-12-23T00:00:00\",\"2008-12-26T00:00:00\",\"2008-12-29T00:00:00\",\"2008-12-30T00:00:00\",\"2009-01-02T00:00:00\",\"2009-01-05T00:00:00\",\"2009-01-06T00:00:00\",\"2009-01-07T00:00:00\",\"2009-01-08T00:00:00\",\"2009-01-09T00:00:00\",\"2009-01-12T00:00:00\",\"2009-01-13T00:00:00\",\"2009-01-14T00:00:00\",\"2009-01-15T00:00:00\",\"2009-01-16T00:00:00\",\"2009-01-19T00:00:00\",\"2009-01-20T00:00:00\",\"2009-01-21T00:00:00\",\"2009-01-22T00:00:00\",\"2009-01-23T00:00:00\",\"2009-01-26T00:00:00\",\"2009-01-27T00:00:00\",\"2009-01-28T00:00:00\",\"2009-01-29T00:00:00\",\"2009-01-30T00:00:00\",\"2009-02-02T00:00:00\",\"2009-02-03T00:00:00\",\"2009-02-04T00:00:00\",\"2009-02-05T00:00:00\",\"2009-02-06T00:00:00\",\"2009-02-09T00:00:00\",\"2009-02-10T00:00:00\",\"2009-02-11T00:00:00\",\"2009-02-12T00:00:00\",\"2009-02-13T00:00:00\",\"2009-02-16T00:00:00\",\"2009-02-17T00:00:00\",\"2009-02-18T00:00:00\",\"2009-02-19T00:00:00\",\"2009-02-20T00:00:00\",\"2009-02-25T00:00:00\",\"2009-02-26T00:00:00\",\"2009-02-27T00:00:00\",\"2009-03-02T00:00:00\",\"2009-03-03T00:00:00\",\"2009-03-04T00:00:00\",\"2009-03-05T00:00:00\",\"2009-03-06T00:00:00\",\"2009-03-09T00:00:00\",\"2009-03-10T00:00:00\",\"2009-03-11T00:00:00\",\"2009-03-12T00:00:00\",\"2009-03-13T00:00:00\",\"2009-03-16T00:00:00\",\"2009-03-17T00:00:00\",\"2009-03-18T00:00:00\",\"2009-03-19T00:00:00\",\"2009-03-20T00:00:00\",\"2009-03-23T00:00:00\",\"2009-03-24T00:00:00\",\"2009-03-25T00:00:00\",\"2009-03-26T00:00:00\",\"2009-03-27T00:00:00\",\"2009-03-30T00:00:00\",\"2009-03-31T00:00:00\",\"2009-04-01T00:00:00\",\"2009-04-02T00:00:00\",\"2009-04-03T00:00:00\",\"2009-04-06T00:00:00\",\"2009-04-07T00:00:00\",\"2009-04-08T00:00:00\",\"2009-04-09T00:00:00\",\"2009-04-13T00:00:00\",\"2009-04-14T00:00:00\",\"2009-04-15T00:00:00\",\"2009-04-16T00:00:00\",\"2009-04-17T00:00:00\",\"2009-04-20T00:00:00\",\"2009-04-22T00:00:00\",\"2009-04-23T00:00:00\",\"2009-04-24T00:00:00\",\"2009-04-27T00:00:00\",\"2009-04-28T00:00:00\",\"2009-04-29T00:00:00\",\"2009-04-30T00:00:00\",\"2009-05-04T00:00:00\",\"2009-05-05T00:00:00\",\"2009-05-06T00:00:00\",\"2009-05-07T00:00:00\",\"2009-05-08T00:00:00\",\"2009-05-11T00:00:00\",\"2009-05-12T00:00:00\",\"2009-05-13T00:00:00\",\"2009-05-14T00:00:00\",\"2009-05-15T00:00:00\",\"2009-05-18T00:00:00\",\"2009-05-19T00:00:00\",\"2009-05-20T00:00:00\",\"2009-05-21T00:00:00\",\"2009-05-22T00:00:00\",\"2009-05-25T00:00:00\",\"2009-05-26T00:00:00\",\"2009-05-27T00:00:00\",\"2009-05-28T00:00:00\",\"2009-05-29T00:00:00\",\"2009-06-01T00:00:00\",\"2009-06-02T00:00:00\",\"2009-06-03T00:00:00\",\"2009-06-04T00:00:00\",\"2009-06-05T00:00:00\",\"2009-06-08T00:00:00\",\"2009-06-09T00:00:00\",\"2009-06-10T00:00:00\",\"2009-06-12T00:00:00\",\"2009-06-15T00:00:00\",\"2009-06-16T00:00:00\",\"2009-06-17T00:00:00\",\"2009-06-18T00:00:00\",\"2009-06-19T00:00:00\",\"2009-06-22T00:00:00\",\"2009-06-23T00:00:00\",\"2009-06-24T00:00:00\",\"2009-06-25T00:00:00\",\"2009-06-26T00:00:00\",\"2009-06-29T00:00:00\",\"2009-06-30T00:00:00\",\"2009-07-01T00:00:00\",\"2009-07-02T00:00:00\",\"2009-07-03T00:00:00\",\"2009-07-06T00:00:00\",\"2009-07-07T00:00:00\",\"2009-07-08T00:00:00\",\"2009-07-10T00:00:00\",\"2009-07-13T00:00:00\",\"2009-07-14T00:00:00\",\"2009-07-15T00:00:00\",\"2009-07-16T00:00:00\",\"2009-07-17T00:00:00\",\"2009-07-20T00:00:00\",\"2009-07-21T00:00:00\",\"2009-07-22T00:00:00\",\"2009-07-23T00:00:00\",\"2009-07-24T00:00:00\",\"2009-07-27T00:00:00\",\"2009-07-28T00:00:00\",\"2009-07-29T00:00:00\",\"2009-07-30T00:00:00\",\"2009-07-31T00:00:00\",\"2009-08-03T00:00:00\",\"2009-08-04T00:00:00\",\"2009-08-05T00:00:00\",\"2009-08-06T00:00:00\",\"2009-08-07T00:00:00\",\"2009-08-10T00:00:00\",\"2009-08-11T00:00:00\",\"2009-08-12T00:00:00\",\"2009-08-13T00:00:00\",\"2009-08-14T00:00:00\",\"2009-08-17T00:00:00\",\"2009-08-18T00:00:00\",\"2009-08-19T00:00:00\",\"2009-08-20T00:00:00\",\"2009-08-21T00:00:00\",\"2009-08-24T00:00:00\",\"2009-08-25T00:00:00\",\"2009-08-26T00:00:00\",\"2009-08-27T00:00:00\",\"2009-08-28T00:00:00\",\"2009-08-31T00:00:00\",\"2009-09-01T00:00:00\",\"2009-09-02T00:00:00\",\"2009-09-03T00:00:00\",\"2009-09-04T00:00:00\",\"2009-09-08T00:00:00\",\"2009-09-09T00:00:00\",\"2009-09-10T00:00:00\",\"2009-09-11T00:00:00\",\"2009-09-14T00:00:00\",\"2009-09-15T00:00:00\",\"2009-09-16T00:00:00\",\"2009-09-17T00:00:00\",\"2009-09-18T00:00:00\",\"2009-09-21T00:00:00\",\"2009-09-22T00:00:00\",\"2009-09-23T00:00:00\",\"2009-09-24T00:00:00\",\"2009-09-25T00:00:00\",\"2009-09-28T00:00:00\",\"2009-09-29T00:00:00\",\"2009-09-30T00:00:00\",\"2009-10-01T00:00:00\",\"2009-10-02T00:00:00\",\"2009-10-05T00:00:00\",\"2009-10-06T00:00:00\",\"2009-10-07T00:00:00\",\"2009-10-08T00:00:00\",\"2009-10-09T00:00:00\",\"2009-10-13T00:00:00\",\"2009-10-14T00:00:00\",\"2009-10-15T00:00:00\",\"2009-10-16T00:00:00\",\"2009-10-19T00:00:00\",\"2009-10-20T00:00:00\",\"2009-10-21T00:00:00\",\"2009-10-22T00:00:00\",\"2009-10-23T00:00:00\",\"2009-10-26T00:00:00\",\"2009-10-27T00:00:00\",\"2009-10-28T00:00:00\",\"2009-10-29T00:00:00\",\"2009-10-30T00:00:00\",\"2009-11-03T00:00:00\",\"2009-11-04T00:00:00\",\"2009-11-05T00:00:00\",\"2009-11-06T00:00:00\",\"2009-11-09T00:00:00\",\"2009-11-10T00:00:00\",\"2009-11-11T00:00:00\",\"2009-11-12T00:00:00\",\"2009-11-13T00:00:00\",\"2009-11-16T00:00:00\",\"2009-11-17T00:00:00\",\"2009-11-18T00:00:00\",\"2009-11-19T00:00:00\",\"2009-11-23T00:00:00\",\"2009-11-24T00:00:00\",\"2009-11-25T00:00:00\",\"2009-11-26T00:00:00\",\"2009-11-27T00:00:00\",\"2009-11-30T00:00:00\",\"2009-12-01T00:00:00\",\"2009-12-02T00:00:00\",\"2009-12-03T00:00:00\",\"2009-12-04T00:00:00\",\"2009-12-07T00:00:00\",\"2009-12-08T00:00:00\",\"2009-12-09T00:00:00\",\"2009-12-10T00:00:00\",\"2009-12-11T00:00:00\",\"2009-12-14T00:00:00\",\"2009-12-15T00:00:00\",\"2009-12-16T00:00:00\",\"2009-12-17T00:00:00\",\"2009-12-18T00:00:00\",\"2009-12-21T00:00:00\",\"2009-12-22T00:00:00\",\"2009-12-23T00:00:00\",\"2009-12-28T00:00:00\",\"2009-12-29T00:00:00\",\"2009-12-30T00:00:00\",\"2010-01-04T00:00:00\",\"2010-01-05T00:00:00\",\"2010-01-06T00:00:00\",\"2010-01-07T00:00:00\",\"2010-01-08T00:00:00\",\"2010-01-11T00:00:00\",\"2010-01-12T00:00:00\",\"2010-01-13T00:00:00\",\"2010-01-14T00:00:00\",\"2010-01-15T00:00:00\",\"2010-01-18T00:00:00\",\"2010-01-19T00:00:00\",\"2010-01-20T00:00:00\",\"2010-01-21T00:00:00\",\"2010-01-22T00:00:00\",\"2010-01-26T00:00:00\",\"2010-01-27T00:00:00\",\"2010-01-28T00:00:00\",\"2010-01-29T00:00:00\",\"2010-02-01T00:00:00\",\"2010-02-02T00:00:00\",\"2010-02-03T00:00:00\",\"2010-02-04T00:00:00\",\"2010-02-05T00:00:00\",\"2010-02-08T00:00:00\",\"2010-02-09T00:00:00\",\"2010-02-10T00:00:00\",\"2010-02-11T00:00:00\",\"2010-02-12T00:00:00\",\"2010-02-17T00:00:00\",\"2010-02-18T00:00:00\",\"2010-02-19T00:00:00\",\"2010-02-22T00:00:00\",\"2010-02-23T00:00:00\",\"2010-02-24T00:00:00\",\"2010-02-25T00:00:00\",\"2010-02-26T00:00:00\",\"2010-03-01T00:00:00\",\"2010-03-02T00:00:00\",\"2010-03-03T00:00:00\",\"2010-03-04T00:00:00\",\"2010-03-05T00:00:00\",\"2010-03-08T00:00:00\",\"2010-03-09T00:00:00\",\"2010-03-10T00:00:00\",\"2010-03-11T00:00:00\",\"2010-03-12T00:00:00\",\"2010-03-15T00:00:00\",\"2010-03-16T00:00:00\",\"2010-03-17T00:00:00\",\"2010-03-18T00:00:00\",\"2010-03-19T00:00:00\",\"2010-03-22T00:00:00\",\"2010-03-23T00:00:00\",\"2010-03-24T00:00:00\",\"2010-03-25T00:00:00\",\"2010-03-26T00:00:00\",\"2010-03-29T00:00:00\",\"2010-03-30T00:00:00\",\"2010-03-31T00:00:00\",\"2010-04-01T00:00:00\",\"2010-04-05T00:00:00\",\"2010-04-06T00:00:00\",\"2010-04-07T00:00:00\",\"2010-04-08T00:00:00\",\"2010-04-09T00:00:00\",\"2010-04-12T00:00:00\",\"2010-04-13T00:00:00\",\"2010-04-14T00:00:00\",\"2010-04-15T00:00:00\",\"2010-04-16T00:00:00\",\"2010-04-19T00:00:00\",\"2010-04-20T00:00:00\",\"2010-04-22T00:00:00\",\"2010-04-23T00:00:00\",\"2010-04-26T00:00:00\",\"2010-04-27T00:00:00\",\"2010-04-28T00:00:00\",\"2010-04-29T00:00:00\",\"2010-04-30T00:00:00\",\"2010-05-03T00:00:00\",\"2010-05-04T00:00:00\",\"2010-05-05T00:00:00\",\"2010-05-06T00:00:00\",\"2010-05-07T00:00:00\",\"2010-05-10T00:00:00\",\"2010-05-11T00:00:00\",\"2010-05-12T00:00:00\",\"2010-05-13T00:00:00\",\"2010-05-14T00:00:00\",\"2010-05-17T00:00:00\",\"2010-05-18T00:00:00\",\"2010-05-19T00:00:00\",\"2010-05-20T00:00:00\",\"2010-05-21T00:00:00\",\"2010-05-24T00:00:00\",\"2010-05-25T00:00:00\",\"2010-05-26T00:00:00\",\"2010-05-27T00:00:00\",\"2010-05-28T00:00:00\",\"2010-05-31T00:00:00\",\"2010-06-01T00:00:00\",\"2010-06-02T00:00:00\",\"2010-06-04T00:00:00\",\"2010-06-07T00:00:00\",\"2010-06-08T00:00:00\",\"2010-06-09T00:00:00\",\"2010-06-10T00:00:00\",\"2010-06-11T00:00:00\",\"2010-06-14T00:00:00\",\"2010-06-15T00:00:00\",\"2010-06-16T00:00:00\",\"2010-06-17T00:00:00\",\"2010-06-18T00:00:00\",\"2010-06-21T00:00:00\",\"2010-06-22T00:00:00\",\"2010-06-23T00:00:00\",\"2010-06-24T00:00:00\",\"2010-06-25T00:00:00\",\"2010-06-28T00:00:00\",\"2010-06-29T00:00:00\",\"2010-06-30T00:00:00\",\"2010-07-01T00:00:00\",\"2010-07-02T00:00:00\",\"2010-07-05T00:00:00\",\"2010-07-06T00:00:00\",\"2010-07-07T00:00:00\",\"2010-07-08T00:00:00\",\"2010-07-12T00:00:00\",\"2010-07-13T00:00:00\",\"2010-07-14T00:00:00\",\"2010-07-15T00:00:00\",\"2010-07-16T00:00:00\",\"2010-07-19T00:00:00\",\"2010-07-20T00:00:00\",\"2010-07-21T00:00:00\",\"2010-07-22T00:00:00\",\"2010-07-23T00:00:00\",\"2010-07-26T00:00:00\",\"2010-07-27T00:00:00\",\"2010-07-28T00:00:00\",\"2010-07-29T00:00:00\",\"2010-07-30T00:00:00\",\"2010-08-02T00:00:00\",\"2010-08-03T00:00:00\",\"2010-08-04T00:00:00\",\"2010-08-05T00:00:00\",\"2010-08-06T00:00:00\",\"2010-08-09T00:00:00\",\"2010-08-10T00:00:00\",\"2010-08-11T00:00:00\",\"2010-08-12T00:00:00\",\"2010-08-13T00:00:00\",\"2010-08-16T00:00:00\",\"2010-08-17T00:00:00\",\"2010-08-18T00:00:00\",\"2010-08-19T00:00:00\",\"2010-08-20T00:00:00\",\"2010-08-23T00:00:00\",\"2010-08-24T00:00:00\",\"2010-08-25T00:00:00\",\"2010-08-26T00:00:00\",\"2010-08-27T00:00:00\",\"2010-08-30T00:00:00\",\"2010-08-31T00:00:00\",\"2010-09-01T00:00:00\",\"2010-09-02T00:00:00\",\"2010-09-03T00:00:00\",\"2010-09-06T00:00:00\",\"2010-09-08T00:00:00\",\"2010-09-09T00:00:00\",\"2010-09-10T00:00:00\",\"2010-09-13T00:00:00\",\"2010-09-14T00:00:00\",\"2010-09-15T00:00:00\",\"2010-09-16T00:00:00\",\"2010-09-17T00:00:00\",\"2010-09-20T00:00:00\",\"2010-09-21T00:00:00\",\"2010-09-22T00:00:00\",\"2010-09-23T00:00:00\",\"2010-09-24T00:00:00\",\"2010-09-27T00:00:00\",\"2010-09-28T00:00:00\",\"2010-09-29T00:00:00\",\"2010-09-30T00:00:00\",\"2010-10-01T00:00:00\",\"2010-10-04T00:00:00\",\"2010-10-05T00:00:00\",\"2010-10-06T00:00:00\",\"2010-10-07T00:00:00\",\"2010-10-08T00:00:00\",\"2010-10-11T00:00:00\",\"2010-10-13T00:00:00\",\"2010-10-14T00:00:00\",\"2010-10-15T00:00:00\",\"2010-10-18T00:00:00\",\"2010-10-19T00:00:00\",\"2010-10-20T00:00:00\",\"2010-10-21T00:00:00\",\"2010-10-22T00:00:00\",\"2010-10-25T00:00:00\",\"2010-10-26T00:00:00\",\"2010-10-27T00:00:00\",\"2010-10-28T00:00:00\",\"2010-10-29T00:00:00\",\"2010-11-01T00:00:00\",\"2010-11-03T00:00:00\",\"2010-11-04T00:00:00\",\"2010-11-05T00:00:00\",\"2010-11-08T00:00:00\",\"2010-11-09T00:00:00\",\"2010-11-10T00:00:00\",\"2010-11-11T00:00:00\",\"2010-11-12T00:00:00\",\"2010-11-16T00:00:00\",\"2010-11-17T00:00:00\",\"2010-11-18T00:00:00\",\"2010-11-19T00:00:00\",\"2010-11-22T00:00:00\",\"2010-11-23T00:00:00\",\"2010-11-24T00:00:00\",\"2010-11-25T00:00:00\",\"2010-11-26T00:00:00\",\"2010-11-29T00:00:00\",\"2010-11-30T00:00:00\",\"2010-12-01T00:00:00\",\"2010-12-02T00:00:00\",\"2010-12-03T00:00:00\",\"2010-12-06T00:00:00\",\"2010-12-07T00:00:00\",\"2010-12-08T00:00:00\",\"2010-12-09T00:00:00\",\"2010-12-10T00:00:00\",\"2010-12-13T00:00:00\",\"2010-12-14T00:00:00\",\"2010-12-15T00:00:00\",\"2010-12-16T00:00:00\",\"2010-12-17T00:00:00\",\"2010-12-20T00:00:00\",\"2010-12-21T00:00:00\",\"2010-12-22T00:00:00\",\"2010-12-23T00:00:00\",\"2010-12-27T00:00:00\",\"2010-12-28T00:00:00\",\"2010-12-29T00:00:00\",\"2010-12-30T00:00:00\",\"2011-01-03T00:00:00\",\"2011-01-04T00:00:00\",\"2011-01-05T00:00:00\",\"2011-01-06T00:00:00\",\"2011-01-07T00:00:00\",\"2011-01-10T00:00:00\",\"2011-01-11T00:00:00\",\"2011-01-12T00:00:00\",\"2011-01-13T00:00:00\",\"2011-01-14T00:00:00\",\"2011-01-17T00:00:00\",\"2011-01-18T00:00:00\",\"2011-01-19T00:00:00\",\"2011-01-20T00:00:00\",\"2011-01-21T00:00:00\",\"2011-01-24T00:00:00\",\"2011-01-26T00:00:00\",\"2011-01-27T00:00:00\",\"2011-01-28T00:00:00\",\"2011-01-31T00:00:00\",\"2011-02-01T00:00:00\",\"2011-02-02T00:00:00\",\"2011-02-03T00:00:00\",\"2011-02-04T00:00:00\",\"2011-02-07T00:00:00\",\"2011-02-08T00:00:00\",\"2011-02-09T00:00:00\",\"2011-02-10T00:00:00\",\"2011-02-11T00:00:00\",\"2011-02-14T00:00:00\",\"2011-02-15T00:00:00\",\"2011-02-16T00:00:00\",\"2011-02-17T00:00:00\",\"2011-02-18T00:00:00\",\"2011-02-21T00:00:00\",\"2011-02-22T00:00:00\",\"2011-02-23T00:00:00\",\"2011-02-24T00:00:00\",\"2011-02-25T00:00:00\",\"2011-02-28T00:00:00\",\"2011-03-01T00:00:00\",\"2011-03-02T00:00:00\",\"2011-03-03T00:00:00\",\"2011-03-04T00:00:00\",\"2011-03-09T00:00:00\",\"2011-03-10T00:00:00\",\"2011-03-11T00:00:00\",\"2011-03-14T00:00:00\",\"2011-03-15T00:00:00\",\"2011-03-16T00:00:00\",\"2011-03-17T00:00:00\",\"2011-03-18T00:00:00\",\"2011-03-21T00:00:00\",\"2011-03-22T00:00:00\",\"2011-03-23T00:00:00\",\"2011-03-24T00:00:00\",\"2011-03-25T00:00:00\",\"2011-03-28T00:00:00\",\"2011-03-29T00:00:00\",\"2011-03-30T00:00:00\",\"2011-03-31T00:00:00\",\"2011-04-01T00:00:00\",\"2011-04-04T00:00:00\",\"2011-04-05T00:00:00\",\"2011-04-06T00:00:00\",\"2011-04-07T00:00:00\",\"2011-04-08T00:00:00\",\"2011-04-11T00:00:00\",\"2011-04-12T00:00:00\",\"2011-04-13T00:00:00\",\"2011-04-14T00:00:00\",\"2011-04-15T00:00:00\",\"2011-04-18T00:00:00\",\"2011-04-19T00:00:00\",\"2011-04-20T00:00:00\",\"2011-04-25T00:00:00\",\"2011-04-26T00:00:00\",\"2011-04-27T00:00:00\",\"2011-04-28T00:00:00\",\"2011-04-29T00:00:00\",\"2011-05-02T00:00:00\",\"2011-05-03T00:00:00\",\"2011-05-04T00:00:00\",\"2011-05-05T00:00:00\",\"2011-05-06T00:00:00\",\"2011-05-09T00:00:00\",\"2011-05-10T00:00:00\",\"2011-05-11T00:00:00\",\"2011-05-12T00:00:00\",\"2011-05-13T00:00:00\",\"2011-05-16T00:00:00\",\"2011-05-17T00:00:00\",\"2011-05-18T00:00:00\",\"2011-05-19T00:00:00\",\"2011-05-20T00:00:00\",\"2011-05-23T00:00:00\",\"2011-05-24T00:00:00\",\"2011-05-25T00:00:00\",\"2011-05-26T00:00:00\",\"2011-05-27T00:00:00\",\"2011-05-30T00:00:00\",\"2011-05-31T00:00:00\",\"2011-06-01T00:00:00\",\"2011-06-02T00:00:00\",\"2011-06-03T00:00:00\",\"2011-06-06T00:00:00\",\"2011-06-07T00:00:00\",\"2011-06-08T00:00:00\",\"2011-06-09T00:00:00\",\"2011-06-10T00:00:00\",\"2011-06-13T00:00:00\",\"2011-06-14T00:00:00\",\"2011-06-15T00:00:00\",\"2011-06-16T00:00:00\",\"2011-06-17T00:00:00\",\"2011-06-20T00:00:00\",\"2011-06-21T00:00:00\",\"2011-06-22T00:00:00\",\"2011-06-24T00:00:00\",\"2011-06-27T00:00:00\",\"2011-06-28T00:00:00\",\"2011-06-29T00:00:00\",\"2011-06-30T00:00:00\",\"2011-07-01T00:00:00\",\"2011-07-04T00:00:00\",\"2011-07-05T00:00:00\",\"2011-07-06T00:00:00\",\"2011-07-07T00:00:00\",\"2011-07-08T00:00:00\",\"2011-07-11T00:00:00\",\"2011-07-12T00:00:00\",\"2011-07-13T00:00:00\",\"2011-07-14T00:00:00\",\"2011-07-15T00:00:00\",\"2011-07-18T00:00:00\",\"2011-07-19T00:00:00\",\"2011-07-20T00:00:00\",\"2011-07-21T00:00:00\",\"2011-07-22T00:00:00\",\"2011-07-25T00:00:00\",\"2011-07-26T00:00:00\",\"2011-07-27T00:00:00\",\"2011-07-28T00:00:00\",\"2011-07-29T00:00:00\",\"2011-08-01T00:00:00\",\"2011-08-02T00:00:00\",\"2011-08-03T00:00:00\",\"2011-08-04T00:00:00\",\"2011-08-05T00:00:00\",\"2011-08-08T00:00:00\",\"2011-08-09T00:00:00\",\"2011-08-10T00:00:00\",\"2011-08-11T00:00:00\",\"2011-08-12T00:00:00\",\"2011-08-15T00:00:00\",\"2011-08-16T00:00:00\",\"2011-08-17T00:00:00\",\"2011-08-18T00:00:00\",\"2011-08-19T00:00:00\",\"2011-08-22T00:00:00\",\"2011-08-23T00:00:00\",\"2011-08-24T00:00:00\",\"2011-08-25T00:00:00\",\"2011-08-26T00:00:00\",\"2011-08-29T00:00:00\",\"2011-08-30T00:00:00\",\"2011-08-31T00:00:00\",\"2011-09-01T00:00:00\",\"2011-09-02T00:00:00\",\"2011-09-05T00:00:00\",\"2011-09-06T00:00:00\",\"2011-09-08T00:00:00\",\"2011-09-09T00:00:00\",\"2011-09-12T00:00:00\",\"2011-09-13T00:00:00\",\"2011-09-14T00:00:00\",\"2011-09-15T00:00:00\",\"2011-09-16T00:00:00\",\"2011-09-19T00:00:00\",\"2011-09-20T00:00:00\",\"2011-09-21T00:00:00\",\"2011-09-22T00:00:00\",\"2011-09-23T00:00:00\",\"2011-09-26T00:00:00\",\"2011-09-27T00:00:00\",\"2011-09-28T00:00:00\",\"2011-09-29T00:00:00\",\"2011-09-30T00:00:00\",\"2011-10-03T00:00:00\",\"2011-10-04T00:00:00\",\"2011-10-05T00:00:00\",\"2011-10-06T00:00:00\",\"2011-10-07T00:00:00\",\"2011-10-10T00:00:00\",\"2011-10-11T00:00:00\",\"2011-10-13T00:00:00\",\"2011-10-14T00:00:00\",\"2011-10-17T00:00:00\",\"2011-10-18T00:00:00\",\"2011-10-19T00:00:00\",\"2011-10-20T00:00:00\",\"2011-10-21T00:00:00\",\"2011-10-24T00:00:00\",\"2011-10-25T00:00:00\",\"2011-10-26T00:00:00\",\"2011-10-27T00:00:00\",\"2011-10-28T00:00:00\",\"2011-10-31T00:00:00\",\"2011-11-01T00:00:00\",\"2011-11-03T00:00:00\",\"2011-11-04T00:00:00\",\"2011-11-07T00:00:00\",\"2011-11-08T00:00:00\",\"2011-11-09T00:00:00\",\"2011-11-10T00:00:00\",\"2011-11-11T00:00:00\",\"2011-11-14T00:00:00\",\"2011-11-16T00:00:00\",\"2011-11-17T00:00:00\",\"2011-11-18T00:00:00\",\"2011-11-21T00:00:00\",\"2011-11-22T00:00:00\",\"2011-11-23T00:00:00\",\"2011-11-24T00:00:00\",\"2011-11-25T00:00:00\",\"2011-11-28T00:00:00\",\"2011-11-29T00:00:00\",\"2011-11-30T00:00:00\",\"2011-12-01T00:00:00\",\"2011-12-02T00:00:00\",\"2011-12-05T00:00:00\",\"2011-12-06T00:00:00\",\"2011-12-07T00:00:00\",\"2011-12-08T00:00:00\",\"2011-12-09T00:00:00\",\"2011-12-12T00:00:00\",\"2011-12-13T00:00:00\",\"2011-12-14T00:00:00\",\"2011-12-15T00:00:00\",\"2011-12-16T00:00:00\",\"2011-12-19T00:00:00\",\"2011-12-20T00:00:00\",\"2011-12-21T00:00:00\",\"2011-12-22T00:00:00\",\"2011-12-23T00:00:00\",\"2011-12-26T00:00:00\",\"2011-12-27T00:00:00\",\"2011-12-28T00:00:00\",\"2011-12-29T00:00:00\",\"2012-01-03T00:00:00\",\"2012-01-04T00:00:00\",\"2012-01-05T00:00:00\",\"2012-01-06T00:00:00\",\"2012-01-09T00:00:00\",\"2012-01-10T00:00:00\",\"2012-01-11T00:00:00\",\"2012-01-12T00:00:00\",\"2012-01-13T00:00:00\",\"2012-01-16T00:00:00\",\"2012-01-17T00:00:00\",\"2012-01-18T00:00:00\",\"2012-01-19T00:00:00\",\"2012-01-20T00:00:00\",\"2012-01-23T00:00:00\",\"2012-01-24T00:00:00\",\"2012-01-26T00:00:00\",\"2012-01-27T00:00:00\",\"2012-01-30T00:00:00\",\"2012-01-31T00:00:00\",\"2012-02-01T00:00:00\",\"2012-02-02T00:00:00\",\"2012-02-03T00:00:00\",\"2012-02-06T00:00:00\",\"2012-02-07T00:00:00\",\"2012-02-08T00:00:00\",\"2012-02-09T00:00:00\",\"2012-02-10T00:00:00\",\"2012-02-13T00:00:00\",\"2012-02-14T00:00:00\",\"2012-02-15T00:00:00\",\"2012-02-16T00:00:00\",\"2012-02-17T00:00:00\",\"2012-02-23T00:00:00\",\"2012-02-24T00:00:00\",\"2012-02-27T00:00:00\",\"2012-02-28T00:00:00\",\"2012-02-29T00:00:00\",\"2012-03-01T00:00:00\",\"2012-03-02T00:00:00\",\"2012-03-05T00:00:00\",\"2012-03-06T00:00:00\",\"2012-03-07T00:00:00\",\"2012-03-08T00:00:00\",\"2012-03-09T00:00:00\",\"2012-03-12T00:00:00\",\"2012-03-13T00:00:00\",\"2012-03-14T00:00:00\",\"2012-03-15T00:00:00\",\"2012-03-16T00:00:00\",\"2012-03-19T00:00:00\",\"2012-03-20T00:00:00\",\"2012-03-21T00:00:00\",\"2012-03-22T00:00:00\",\"2012-03-23T00:00:00\",\"2012-03-26T00:00:00\",\"2012-03-27T00:00:00\",\"2012-03-28T00:00:00\",\"2012-03-29T00:00:00\",\"2012-03-30T00:00:00\",\"2012-04-02T00:00:00\",\"2012-04-03T00:00:00\",\"2012-04-04T00:00:00\",\"2012-04-05T00:00:00\",\"2012-04-09T00:00:00\",\"2012-04-10T00:00:00\",\"2012-04-11T00:00:00\",\"2012-04-12T00:00:00\",\"2012-04-13T00:00:00\",\"2012-04-16T00:00:00\",\"2012-04-17T00:00:00\",\"2012-04-18T00:00:00\",\"2012-04-19T00:00:00\",\"2012-04-20T00:00:00\",\"2012-04-23T00:00:00\",\"2012-04-24T00:00:00\",\"2012-04-25T00:00:00\",\"2012-04-26T00:00:00\",\"2012-04-27T00:00:00\",\"2012-04-30T00:00:00\",\"2012-05-02T00:00:00\",\"2012-05-03T00:00:00\",\"2012-05-04T00:00:00\",\"2012-05-07T00:00:00\",\"2012-05-08T00:00:00\",\"2012-05-09T00:00:00\",\"2012-05-10T00:00:00\",\"2012-05-11T00:00:00\",\"2012-05-14T00:00:00\",\"2012-05-15T00:00:00\",\"2012-05-16T00:00:00\",\"2012-05-17T00:00:00\",\"2012-05-18T00:00:00\",\"2012-05-21T00:00:00\",\"2012-05-22T00:00:00\",\"2012-05-23T00:00:00\",\"2012-05-24T00:00:00\",\"2012-05-25T00:00:00\",\"2012-05-28T00:00:00\",\"2012-05-29T00:00:00\",\"2012-05-30T00:00:00\",\"2012-05-31T00:00:00\",\"2012-06-01T00:00:00\",\"2012-06-04T00:00:00\",\"2012-06-05T00:00:00\",\"2012-06-06T00:00:00\",\"2012-06-08T00:00:00\",\"2012-06-11T00:00:00\",\"2012-06-12T00:00:00\",\"2012-06-13T00:00:00\",\"2012-06-14T00:00:00\",\"2012-06-15T00:00:00\",\"2012-06-18T00:00:00\",\"2012-06-19T00:00:00\",\"2012-06-20T00:00:00\",\"2012-06-21T00:00:00\",\"2012-06-22T00:00:00\",\"2012-06-25T00:00:00\",\"2012-06-26T00:00:00\",\"2012-06-27T00:00:00\",\"2012-06-28T00:00:00\",\"2012-06-29T00:00:00\",\"2012-07-02T00:00:00\",\"2012-07-03T00:00:00\",\"2012-07-04T00:00:00\",\"2012-07-05T00:00:00\",\"2012-07-06T00:00:00\",\"2012-07-10T00:00:00\",\"2012-07-11T00:00:00\",\"2012-07-12T00:00:00\",\"2012-07-13T00:00:00\",\"2012-07-16T00:00:00\",\"2012-07-17T00:00:00\",\"2012-07-18T00:00:00\",\"2012-07-19T00:00:00\",\"2012-07-20T00:00:00\",\"2012-07-23T00:00:00\",\"2012-07-24T00:00:00\",\"2012-07-25T00:00:00\",\"2012-07-26T00:00:00\",\"2012-07-27T00:00:00\",\"2012-07-30T00:00:00\",\"2012-07-31T00:00:00\",\"2012-08-01T00:00:00\",\"2012-08-02T00:00:00\",\"2012-08-03T00:00:00\",\"2012-08-06T00:00:00\",\"2012-08-07T00:00:00\",\"2012-08-08T00:00:00\",\"2012-08-09T00:00:00\",\"2012-08-10T00:00:00\",\"2012-08-13T00:00:00\",\"2012-08-14T00:00:00\",\"2012-08-15T00:00:00\",\"2012-08-16T00:00:00\",\"2012-08-17T00:00:00\",\"2012-08-20T00:00:00\",\"2012-08-21T00:00:00\",\"2012-08-22T00:00:00\",\"2012-08-23T00:00:00\",\"2012-08-24T00:00:00\",\"2012-08-27T00:00:00\",\"2012-08-28T00:00:00\",\"2012-08-29T00:00:00\",\"2012-08-30T00:00:00\",\"2012-08-31T00:00:00\",\"2012-09-03T00:00:00\",\"2012-09-04T00:00:00\",\"2012-09-05T00:00:00\",\"2012-09-06T00:00:00\",\"2012-09-10T00:00:00\",\"2012-09-11T00:00:00\",\"2012-09-12T00:00:00\",\"2012-09-13T00:00:00\",\"2012-09-14T00:00:00\",\"2012-09-17T00:00:00\",\"2012-09-18T00:00:00\",\"2012-09-19T00:00:00\",\"2012-09-20T00:00:00\",\"2012-09-21T00:00:00\",\"2012-09-24T00:00:00\",\"2012-09-25T00:00:00\",\"2012-09-26T00:00:00\",\"2012-09-27T00:00:00\",\"2012-09-28T00:00:00\",\"2012-10-01T00:00:00\",\"2012-10-02T00:00:00\",\"2012-10-03T00:00:00\",\"2012-10-04T00:00:00\",\"2012-10-05T00:00:00\",\"2012-10-08T00:00:00\",\"2012-10-09T00:00:00\",\"2012-10-10T00:00:00\",\"2012-10-11T00:00:00\",\"2012-10-15T00:00:00\",\"2012-10-16T00:00:00\",\"2012-10-17T00:00:00\",\"2012-10-18T00:00:00\",\"2012-10-19T00:00:00\",\"2012-10-22T00:00:00\",\"2012-10-23T00:00:00\",\"2012-10-24T00:00:00\",\"2012-10-25T00:00:00\",\"2012-10-26T00:00:00\",\"2012-10-29T00:00:00\",\"2012-10-30T00:00:00\",\"2012-10-31T00:00:00\",\"2012-11-01T00:00:00\",\"2012-11-05T00:00:00\",\"2012-11-06T00:00:00\",\"2012-11-07T00:00:00\",\"2012-11-08T00:00:00\",\"2012-11-09T00:00:00\",\"2012-11-12T00:00:00\",\"2012-11-13T00:00:00\",\"2012-11-14T00:00:00\",\"2012-11-16T00:00:00\",\"2012-11-19T00:00:00\",\"2012-11-21T00:00:00\",\"2012-11-22T00:00:00\",\"2012-11-23T00:00:00\",\"2012-11-26T00:00:00\",\"2012-11-27T00:00:00\",\"2012-11-28T00:00:00\",\"2012-11-29T00:00:00\",\"2012-11-30T00:00:00\",\"2012-12-03T00:00:00\",\"2012-12-04T00:00:00\",\"2012-12-05T00:00:00\",\"2012-12-06T00:00:00\",\"2012-12-07T00:00:00\",\"2012-12-10T00:00:00\",\"2012-12-11T00:00:00\",\"2012-12-12T00:00:00\",\"2012-12-13T00:00:00\",\"2012-12-14T00:00:00\",\"2012-12-17T00:00:00\",\"2012-12-18T00:00:00\",\"2012-12-19T00:00:00\",\"2012-12-20T00:00:00\",\"2012-12-21T00:00:00\",\"2012-12-26T00:00:00\",\"2012-12-27T00:00:00\",\"2012-12-28T00:00:00\",\"2013-01-02T00:00:00\",\"2013-01-03T00:00:00\",\"2013-01-04T00:00:00\",\"2013-01-07T00:00:00\",\"2013-01-08T00:00:00\",\"2013-01-09T00:00:00\",\"2013-01-10T00:00:00\",\"2013-01-11T00:00:00\",\"2013-01-14T00:00:00\",\"2013-01-15T00:00:00\",\"2013-01-16T00:00:00\",\"2013-01-17T00:00:00\",\"2013-01-18T00:00:00\",\"2013-01-21T00:00:00\",\"2013-01-22T00:00:00\",\"2013-01-23T00:00:00\",\"2013-01-24T00:00:00\",\"2013-01-28T00:00:00\",\"2013-01-29T00:00:00\",\"2013-01-30T00:00:00\",\"2013-01-31T00:00:00\",\"2013-02-01T00:00:00\",\"2013-02-04T00:00:00\",\"2013-02-05T00:00:00\",\"2013-02-06T00:00:00\",\"2013-02-07T00:00:00\",\"2013-02-08T00:00:00\",\"2013-02-13T00:00:00\",\"2013-02-14T00:00:00\",\"2013-02-15T00:00:00\",\"2013-02-18T00:00:00\",\"2013-02-19T00:00:00\",\"2013-02-20T00:00:00\",\"2013-02-21T00:00:00\",\"2013-02-22T00:00:00\",\"2013-02-25T00:00:00\",\"2013-02-26T00:00:00\",\"2013-02-27T00:00:00\",\"2013-02-28T00:00:00\",\"2013-03-01T00:00:00\",\"2013-03-04T00:00:00\",\"2013-03-05T00:00:00\",\"2013-03-06T00:00:00\",\"2013-03-07T00:00:00\",\"2013-03-08T00:00:00\",\"2013-03-11T00:00:00\",\"2013-03-12T00:00:00\",\"2013-03-13T00:00:00\",\"2013-03-14T00:00:00\",\"2013-03-15T00:00:00\",\"2013-03-18T00:00:00\",\"2013-03-19T00:00:00\",\"2013-03-20T00:00:00\",\"2013-03-21T00:00:00\",\"2013-03-22T00:00:00\",\"2013-03-25T00:00:00\",\"2013-03-26T00:00:00\",\"2013-03-27T00:00:00\",\"2013-03-28T00:00:00\",\"2013-04-01T00:00:00\",\"2013-04-02T00:00:00\",\"2013-04-03T00:00:00\",\"2013-04-04T00:00:00\",\"2013-04-05T00:00:00\",\"2013-04-08T00:00:00\",\"2013-04-09T00:00:00\",\"2013-04-10T00:00:00\",\"2013-04-11T00:00:00\",\"2013-04-12T00:00:00\",\"2013-04-15T00:00:00\",\"2013-04-16T00:00:00\",\"2013-04-17T00:00:00\",\"2013-04-18T00:00:00\",\"2013-04-19T00:00:00\",\"2013-04-22T00:00:00\",\"2013-04-23T00:00:00\",\"2013-04-24T00:00:00\",\"2013-04-25T00:00:00\",\"2013-04-26T00:00:00\",\"2013-04-29T00:00:00\",\"2013-04-30T00:00:00\",\"2013-05-02T00:00:00\",\"2013-05-03T00:00:00\",\"2013-05-06T00:00:00\",\"2013-05-07T00:00:00\",\"2013-05-08T00:00:00\",\"2013-05-09T00:00:00\",\"2013-05-10T00:00:00\",\"2013-05-13T00:00:00\",\"2013-05-14T00:00:00\",\"2013-05-15T00:00:00\",\"2013-05-16T00:00:00\",\"2013-05-17T00:00:00\",\"2013-05-20T00:00:00\",\"2013-05-21T00:00:00\",\"2013-05-22T00:00:00\",\"2013-05-23T00:00:00\",\"2013-05-24T00:00:00\",\"2013-05-27T00:00:00\",\"2013-05-28T00:00:00\",\"2013-05-29T00:00:00\",\"2013-05-31T00:00:00\",\"2013-06-03T00:00:00\",\"2013-06-04T00:00:00\",\"2013-06-05T00:00:00\",\"2013-06-06T00:00:00\",\"2013-06-07T00:00:00\",\"2013-06-10T00:00:00\",\"2013-06-11T00:00:00\",\"2013-06-12T00:00:00\",\"2013-06-13T00:00:00\",\"2013-06-14T00:00:00\",\"2013-06-17T00:00:00\",\"2013-06-18T00:00:00\",\"2013-06-19T00:00:00\",\"2013-06-20T00:00:00\",\"2013-06-21T00:00:00\",\"2013-06-24T00:00:00\",\"2013-06-25T00:00:00\",\"2013-06-26T00:00:00\",\"2013-06-27T00:00:00\",\"2013-06-28T00:00:00\",\"2013-07-01T00:00:00\",\"2013-07-02T00:00:00\",\"2013-07-03T00:00:00\",\"2013-07-04T00:00:00\",\"2013-07-05T00:00:00\",\"2013-07-08T00:00:00\",\"2013-07-10T00:00:00\",\"2013-07-11T00:00:00\",\"2013-07-12T00:00:00\",\"2013-07-15T00:00:00\",\"2013-07-16T00:00:00\",\"2013-07-17T00:00:00\",\"2013-07-18T00:00:00\",\"2013-07-19T00:00:00\",\"2013-07-22T00:00:00\",\"2013-07-23T00:00:00\",\"2013-07-24T00:00:00\",\"2013-07-25T00:00:00\",\"2013-07-26T00:00:00\",\"2013-07-29T00:00:00\",\"2013-07-30T00:00:00\",\"2013-07-31T00:00:00\",\"2013-08-01T00:00:00\",\"2013-08-02T00:00:00\",\"2013-08-05T00:00:00\",\"2013-08-06T00:00:00\",\"2013-08-07T00:00:00\",\"2013-08-08T00:00:00\",\"2013-08-09T00:00:00\",\"2013-08-12T00:00:00\",\"2013-08-13T00:00:00\",\"2013-08-14T00:00:00\",\"2013-08-15T00:00:00\",\"2013-08-16T00:00:00\",\"2013-08-19T00:00:00\",\"2013-08-20T00:00:00\",\"2013-08-21T00:00:00\",\"2013-08-22T00:00:00\",\"2013-08-23T00:00:00\",\"2013-08-26T00:00:00\",\"2013-08-27T00:00:00\",\"2013-08-28T00:00:00\",\"2013-08-29T00:00:00\",\"2013-08-30T00:00:00\",\"2013-09-02T00:00:00\",\"2013-09-03T00:00:00\",\"2013-09-04T00:00:00\",\"2013-09-05T00:00:00\",\"2013-09-06T00:00:00\",\"2013-09-09T00:00:00\",\"2013-09-10T00:00:00\",\"2013-09-11T00:00:00\",\"2013-09-12T00:00:00\",\"2013-09-13T00:00:00\",\"2013-09-16T00:00:00\",\"2013-09-17T00:00:00\",\"2013-09-18T00:00:00\",\"2013-09-19T00:00:00\",\"2013-09-20T00:00:00\",\"2013-09-23T00:00:00\",\"2013-09-24T00:00:00\",\"2013-09-25T00:00:00\",\"2013-09-26T00:00:00\",\"2013-09-27T00:00:00\",\"2013-09-30T00:00:00\",\"2013-10-01T00:00:00\",\"2013-10-02T00:00:00\",\"2013-10-03T00:00:00\",\"2013-10-04T00:00:00\",\"2013-10-07T00:00:00\",\"2013-10-08T00:00:00\",\"2013-10-09T00:00:00\",\"2013-10-10T00:00:00\",\"2013-10-11T00:00:00\",\"2013-10-14T00:00:00\",\"2013-10-15T00:00:00\",\"2013-10-16T00:00:00\",\"2013-10-17T00:00:00\",\"2013-10-18T00:00:00\",\"2013-10-21T00:00:00\",\"2013-10-22T00:00:00\",\"2013-10-23T00:00:00\",\"2013-10-24T00:00:00\",\"2013-10-25T00:00:00\",\"2013-10-28T00:00:00\",\"2013-10-29T00:00:00\",\"2013-10-30T00:00:00\",\"2013-10-31T00:00:00\",\"2013-11-01T00:00:00\",\"2013-11-04T00:00:00\",\"2013-11-05T00:00:00\",\"2013-11-06T00:00:00\",\"2013-11-07T00:00:00\",\"2013-11-08T00:00:00\",\"2013-11-11T00:00:00\",\"2013-11-12T00:00:00\",\"2013-11-13T00:00:00\",\"2013-11-14T00:00:00\",\"2013-11-18T00:00:00\",\"2013-11-19T00:00:00\",\"2013-11-21T00:00:00\",\"2013-11-22T00:00:00\",\"2013-11-25T00:00:00\",\"2013-11-26T00:00:00\",\"2013-11-27T00:00:00\",\"2013-11-28T00:00:00\",\"2013-11-29T00:00:00\",\"2013-12-02T00:00:00\",\"2013-12-03T00:00:00\",\"2013-12-04T00:00:00\",\"2013-12-05T00:00:00\",\"2013-12-06T00:00:00\",\"2013-12-09T00:00:00\",\"2013-12-10T00:00:00\",\"2013-12-11T00:00:00\",\"2013-12-12T00:00:00\",\"2013-12-13T00:00:00\",\"2013-12-16T00:00:00\",\"2013-12-17T00:00:00\",\"2013-12-18T00:00:00\",\"2013-12-19T00:00:00\",\"2013-12-20T00:00:00\",\"2013-12-23T00:00:00\",\"2013-12-26T00:00:00\",\"2013-12-27T00:00:00\",\"2013-12-30T00:00:00\",\"2014-01-02T00:00:00\",\"2014-01-03T00:00:00\",\"2014-01-06T00:00:00\",\"2014-01-07T00:00:00\",\"2014-01-08T00:00:00\",\"2014-01-09T00:00:00\",\"2014-01-10T00:00:00\",\"2014-01-13T00:00:00\",\"2014-01-14T00:00:00\",\"2014-01-15T00:00:00\",\"2014-01-16T00:00:00\",\"2014-01-17T00:00:00\",\"2014-01-20T00:00:00\",\"2014-01-21T00:00:00\",\"2014-01-22T00:00:00\",\"2014-01-23T00:00:00\",\"2014-01-24T00:00:00\",\"2014-01-27T00:00:00\",\"2014-01-28T00:00:00\",\"2014-01-29T00:00:00\",\"2014-01-30T00:00:00\",\"2014-01-31T00:00:00\",\"2014-02-03T00:00:00\",\"2014-02-04T00:00:00\",\"2014-02-05T00:00:00\",\"2014-02-06T00:00:00\",\"2014-02-07T00:00:00\",\"2014-02-10T00:00:00\",\"2014-02-11T00:00:00\",\"2014-02-12T00:00:00\",\"2014-02-13T00:00:00\",\"2014-02-14T00:00:00\",\"2014-02-17T00:00:00\",\"2014-02-18T00:00:00\",\"2014-02-19T00:00:00\",\"2014-02-20T00:00:00\",\"2014-02-21T00:00:00\",\"2014-02-24T00:00:00\",\"2014-02-25T00:00:00\",\"2014-02-26T00:00:00\",\"2014-02-27T00:00:00\",\"2014-02-28T00:00:00\",\"2014-03-05T00:00:00\",\"2014-03-06T00:00:00\",\"2014-03-07T00:00:00\",\"2014-03-10T00:00:00\",\"2014-03-11T00:00:00\",\"2014-03-12T00:00:00\",\"2014-03-13T00:00:00\",\"2014-03-14T00:00:00\",\"2014-03-17T00:00:00\",\"2014-03-18T00:00:00\",\"2014-03-19T00:00:00\",\"2014-03-20T00:00:00\",\"2014-03-21T00:00:00\",\"2014-03-24T00:00:00\",\"2014-03-25T00:00:00\",\"2014-03-26T00:00:00\",\"2014-03-27T00:00:00\",\"2014-03-28T00:00:00\",\"2014-03-31T00:00:00\",\"2014-04-01T00:00:00\",\"2014-04-02T00:00:00\",\"2014-04-03T00:00:00\",\"2014-04-04T00:00:00\",\"2014-04-07T00:00:00\",\"2014-04-08T00:00:00\",\"2014-04-09T00:00:00\",\"2014-04-10T00:00:00\",\"2014-04-11T00:00:00\",\"2014-04-14T00:00:00\",\"2014-04-15T00:00:00\",\"2014-04-16T00:00:00\",\"2014-04-17T00:00:00\",\"2014-04-22T00:00:00\",\"2014-04-23T00:00:00\",\"2014-04-24T00:00:00\",\"2014-04-25T00:00:00\",\"2014-04-28T00:00:00\",\"2014-04-29T00:00:00\",\"2014-04-30T00:00:00\",\"2014-05-02T00:00:00\",\"2014-05-05T00:00:00\",\"2014-05-06T00:00:00\",\"2014-05-07T00:00:00\",\"2014-05-08T00:00:00\",\"2014-05-09T00:00:00\",\"2014-05-12T00:00:00\",\"2014-05-13T00:00:00\",\"2014-05-14T00:00:00\",\"2014-05-15T00:00:00\",\"2014-05-16T00:00:00\",\"2014-05-19T00:00:00\",\"2014-05-20T00:00:00\",\"2014-05-21T00:00:00\",\"2014-05-22T00:00:00\",\"2014-05-23T00:00:00\",\"2014-05-26T00:00:00\",\"2014-05-27T00:00:00\",\"2014-05-28T00:00:00\",\"2014-05-29T00:00:00\",\"2014-05-30T00:00:00\",\"2014-06-02T00:00:00\",\"2014-06-03T00:00:00\",\"2014-06-04T00:00:00\",\"2014-06-05T00:00:00\",\"2014-06-06T00:00:00\",\"2014-06-09T00:00:00\",\"2014-06-10T00:00:00\",\"2014-06-11T00:00:00\",\"2014-06-13T00:00:00\",\"2014-06-16T00:00:00\",\"2014-06-17T00:00:00\",\"2014-06-18T00:00:00\",\"2014-06-20T00:00:00\",\"2014-06-23T00:00:00\",\"2014-06-24T00:00:00\",\"2014-06-25T00:00:00\",\"2014-06-26T00:00:00\",\"2014-06-27T00:00:00\",\"2014-06-30T00:00:00\",\"2014-07-01T00:00:00\",\"2014-07-02T00:00:00\",\"2014-07-03T00:00:00\",\"2014-07-04T00:00:00\",\"2014-07-07T00:00:00\",\"2014-07-08T00:00:00\",\"2014-07-10T00:00:00\",\"2014-07-11T00:00:00\",\"2014-07-14T00:00:00\",\"2014-07-15T00:00:00\",\"2014-07-16T00:00:00\",\"2014-07-17T00:00:00\",\"2014-07-18T00:00:00\",\"2014-07-21T00:00:00\",\"2014-07-22T00:00:00\",\"2014-07-23T00:00:00\",\"2014-07-24T00:00:00\",\"2014-07-25T00:00:00\",\"2014-07-28T00:00:00\",\"2014-07-29T00:00:00\",\"2014-07-30T00:00:00\",\"2014-07-31T00:00:00\",\"2014-08-01T00:00:00\",\"2014-08-04T00:00:00\",\"2014-08-05T00:00:00\",\"2014-08-06T00:00:00\",\"2014-08-07T00:00:00\",\"2014-08-08T00:00:00\",\"2014-08-11T00:00:00\",\"2014-08-12T00:00:00\",\"2014-08-13T00:00:00\",\"2014-08-14T00:00:00\",\"2014-08-15T00:00:00\",\"2014-08-18T00:00:00\",\"2014-08-19T00:00:00\",\"2014-08-20T00:00:00\",\"2014-08-21T00:00:00\",\"2014-08-22T00:00:00\",\"2014-08-25T00:00:00\",\"2014-08-26T00:00:00\",\"2014-08-27T00:00:00\",\"2014-08-28T00:00:00\",\"2014-08-29T00:00:00\",\"2014-09-01T00:00:00\",\"2014-09-02T00:00:00\",\"2014-09-03T00:00:00\",\"2014-09-04T00:00:00\",\"2014-09-05T00:00:00\",\"2014-09-08T00:00:00\",\"2014-09-09T00:00:00\",\"2014-09-10T00:00:00\",\"2014-09-11T00:00:00\",\"2014-09-12T00:00:00\",\"2014-09-15T00:00:00\",\"2014-09-16T00:00:00\",\"2014-09-17T00:00:00\",\"2014-09-18T00:00:00\",\"2014-09-19T00:00:00\",\"2014-09-22T00:00:00\",\"2014-09-23T00:00:00\",\"2014-09-24T00:00:00\",\"2014-09-25T00:00:00\",\"2014-09-26T00:00:00\",\"2014-09-29T00:00:00\",\"2014-09-30T00:00:00\",\"2014-10-01T00:00:00\",\"2014-10-02T00:00:00\",\"2014-10-03T00:00:00\",\"2014-10-06T00:00:00\",\"2014-10-07T00:00:00\",\"2014-10-08T00:00:00\",\"2014-10-09T00:00:00\",\"2014-10-10T00:00:00\",\"2014-10-13T00:00:00\",\"2014-10-14T00:00:00\",\"2014-10-15T00:00:00\",\"2014-10-16T00:00:00\",\"2014-10-17T00:00:00\",\"2014-10-20T00:00:00\",\"2014-10-21T00:00:00\",\"2014-10-22T00:00:00\",\"2014-10-23T00:00:00\",\"2014-10-24T00:00:00\",\"2014-10-27T00:00:00\",\"2014-10-28T00:00:00\",\"2014-10-29T00:00:00\",\"2014-10-30T00:00:00\",\"2014-10-31T00:00:00\",\"2014-11-03T00:00:00\",\"2014-11-04T00:00:00\",\"2014-11-05T00:00:00\",\"2014-11-06T00:00:00\",\"2014-11-07T00:00:00\",\"2014-11-10T00:00:00\",\"2014-11-11T00:00:00\",\"2014-11-12T00:00:00\",\"2014-11-13T00:00:00\",\"2014-11-14T00:00:00\",\"2014-11-17T00:00:00\",\"2014-11-18T00:00:00\",\"2014-11-19T00:00:00\",\"2014-11-21T00:00:00\",\"2014-11-24T00:00:00\",\"2014-11-25T00:00:00\",\"2014-11-26T00:00:00\",\"2014-11-27T00:00:00\",\"2014-11-28T00:00:00\",\"2014-12-01T00:00:00\",\"2014-12-02T00:00:00\",\"2014-12-03T00:00:00\",\"2014-12-04T00:00:00\",\"2014-12-05T00:00:00\",\"2014-12-08T00:00:00\",\"2014-12-09T00:00:00\",\"2014-12-10T00:00:00\",\"2014-12-11T00:00:00\",\"2014-12-12T00:00:00\",\"2014-12-15T00:00:00\",\"2014-12-16T00:00:00\",\"2014-12-17T00:00:00\",\"2014-12-18T00:00:00\",\"2014-12-19T00:00:00\",\"2014-12-22T00:00:00\",\"2014-12-23T00:00:00\",\"2014-12-26T00:00:00\",\"2014-12-29T00:00:00\",\"2014-12-30T00:00:00\",\"2015-01-02T00:00:00\",\"2015-01-05T00:00:00\",\"2015-01-06T00:00:00\",\"2015-01-07T00:00:00\",\"2015-01-08T00:00:00\",\"2015-01-09T00:00:00\",\"2015-01-12T00:00:00\",\"2015-01-13T00:00:00\",\"2015-01-14T00:00:00\",\"2015-01-15T00:00:00\",\"2015-01-16T00:00:00\",\"2015-01-19T00:00:00\",\"2015-01-20T00:00:00\",\"2015-01-21T00:00:00\",\"2015-01-22T00:00:00\",\"2015-01-23T00:00:00\",\"2015-01-26T00:00:00\",\"2015-01-27T00:00:00\",\"2015-01-28T00:00:00\",\"2015-01-29T00:00:00\",\"2015-01-30T00:00:00\",\"2015-02-02T00:00:00\",\"2015-02-03T00:00:00\",\"2015-02-04T00:00:00\",\"2015-02-05T00:00:00\",\"2015-02-06T00:00:00\",\"2015-02-09T00:00:00\",\"2015-02-10T00:00:00\",\"2015-02-11T00:00:00\",\"2015-02-12T00:00:00\",\"2015-02-13T00:00:00\",\"2015-02-18T00:00:00\",\"2015-02-19T00:00:00\",\"2015-02-20T00:00:00\",\"2015-02-23T00:00:00\",\"2015-02-24T00:00:00\",\"2015-02-25T00:00:00\",\"2015-02-26T00:00:00\",\"2015-02-27T00:00:00\",\"2015-03-02T00:00:00\",\"2015-03-03T00:00:00\",\"2015-03-04T00:00:00\",\"2015-03-05T00:00:00\",\"2015-03-06T00:00:00\",\"2015-03-09T00:00:00\",\"2015-03-10T00:00:00\",\"2015-03-11T00:00:00\",\"2015-03-12T00:00:00\",\"2015-03-13T00:00:00\",\"2015-03-16T00:00:00\",\"2015-03-17T00:00:00\",\"2015-03-18T00:00:00\",\"2015-03-19T00:00:00\",\"2015-03-20T00:00:00\",\"2015-03-23T00:00:00\",\"2015-03-24T00:00:00\",\"2015-03-25T00:00:00\",\"2015-03-26T00:00:00\",\"2015-03-27T00:00:00\",\"2015-03-30T00:00:00\",\"2015-03-31T00:00:00\",\"2015-04-01T00:00:00\",\"2015-04-02T00:00:00\",\"2015-04-06T00:00:00\",\"2015-04-07T00:00:00\",\"2015-04-08T00:00:00\",\"2015-04-09T00:00:00\",\"2015-04-10T00:00:00\",\"2015-04-13T00:00:00\",\"2015-04-14T00:00:00\",\"2015-04-15T00:00:00\",\"2015-04-16T00:00:00\",\"2015-04-17T00:00:00\",\"2015-04-20T00:00:00\",\"2015-04-22T00:00:00\",\"2015-04-23T00:00:00\",\"2015-04-24T00:00:00\",\"2015-04-27T00:00:00\",\"2015-04-28T00:00:00\",\"2015-04-29T00:00:00\",\"2015-04-30T00:00:00\",\"2015-05-04T00:00:00\",\"2015-05-05T00:00:00\",\"2015-05-06T00:00:00\",\"2015-05-07T00:00:00\",\"2015-05-08T00:00:00\",\"2015-05-11T00:00:00\",\"2015-05-12T00:00:00\",\"2015-05-13T00:00:00\",\"2015-05-14T00:00:00\",\"2015-05-15T00:00:00\",\"2015-05-18T00:00:00\",\"2015-05-19T00:00:00\",\"2015-05-20T00:00:00\",\"2015-05-21T00:00:00\",\"2015-05-22T00:00:00\",\"2015-05-25T00:00:00\",\"2015-05-26T00:00:00\",\"2015-05-27T00:00:00\",\"2015-05-28T00:00:00\",\"2015-05-29T00:00:00\",\"2015-06-01T00:00:00\",\"2015-06-02T00:00:00\",\"2015-06-03T00:00:00\",\"2015-06-05T00:00:00\",\"2015-06-08T00:00:00\",\"2015-06-09T00:00:00\",\"2015-06-10T00:00:00\",\"2015-06-11T00:00:00\",\"2015-06-12T00:00:00\",\"2015-06-15T00:00:00\",\"2015-06-16T00:00:00\",\"2015-06-17T00:00:00\",\"2015-06-18T00:00:00\",\"2015-06-19T00:00:00\",\"2015-06-22T00:00:00\",\"2015-06-23T00:00:00\",\"2015-06-24T00:00:00\",\"2015-06-25T00:00:00\",\"2015-06-26T00:00:00\",\"2015-06-29T00:00:00\",\"2015-06-30T00:00:00\",\"2015-07-01T00:00:00\",\"2015-07-02T00:00:00\",\"2015-07-03T00:00:00\",\"2015-07-06T00:00:00\",\"2015-07-07T00:00:00\",\"2015-07-08T00:00:00\",\"2015-07-10T00:00:00\",\"2015-07-13T00:00:00\",\"2015-07-14T00:00:00\",\"2015-07-15T00:00:00\",\"2015-07-16T00:00:00\",\"2015-07-17T00:00:00\",\"2015-07-20T00:00:00\",\"2015-07-21T00:00:00\",\"2015-07-22T00:00:00\",\"2015-07-23T00:00:00\",\"2015-07-24T00:00:00\",\"2015-07-27T00:00:00\",\"2015-07-28T00:00:00\",\"2015-07-29T00:00:00\",\"2015-07-30T00:00:00\",\"2015-07-31T00:00:00\",\"2015-08-03T00:00:00\",\"2015-08-04T00:00:00\",\"2015-08-05T00:00:00\",\"2015-08-06T00:00:00\",\"2015-08-07T00:00:00\",\"2015-08-10T00:00:00\",\"2015-08-11T00:00:00\",\"2015-08-12T00:00:00\",\"2015-08-13T00:00:00\",\"2015-08-14T00:00:00\",\"2015-08-17T00:00:00\",\"2015-08-18T00:00:00\",\"2015-08-19T00:00:00\",\"2015-08-20T00:00:00\",\"2015-08-21T00:00:00\",\"2015-08-24T00:00:00\",\"2015-08-25T00:00:00\",\"2015-08-26T00:00:00\",\"2015-08-27T00:00:00\",\"2015-08-28T00:00:00\",\"2015-08-31T00:00:00\",\"2015-09-01T00:00:00\",\"2015-09-02T00:00:00\",\"2015-09-03T00:00:00\",\"2015-09-04T00:00:00\",\"2015-09-08T00:00:00\",\"2015-09-09T00:00:00\",\"2015-09-10T00:00:00\",\"2015-09-11T00:00:00\",\"2015-09-14T00:00:00\",\"2015-09-15T00:00:00\",\"2015-09-16T00:00:00\",\"2015-09-17T00:00:00\",\"2015-09-18T00:00:00\",\"2015-09-21T00:00:00\",\"2015-09-22T00:00:00\",\"2015-09-23T00:00:00\",\"2015-09-24T00:00:00\",\"2015-09-25T00:00:00\",\"2015-09-28T00:00:00\",\"2015-09-29T00:00:00\",\"2015-09-30T00:00:00\",\"2015-10-01T00:00:00\",\"2015-10-02T00:00:00\",\"2015-10-05T00:00:00\",\"2015-10-06T00:00:00\",\"2015-10-07T00:00:00\",\"2015-10-08T00:00:00\",\"2015-10-09T00:00:00\",\"2015-10-13T00:00:00\",\"2015-10-14T00:00:00\",\"2015-10-15T00:00:00\",\"2015-10-16T00:00:00\",\"2015-10-19T00:00:00\",\"2015-10-20T00:00:00\",\"2015-10-21T00:00:00\",\"2015-10-22T00:00:00\",\"2015-10-23T00:00:00\",\"2015-10-26T00:00:00\",\"2015-10-27T00:00:00\",\"2015-10-28T00:00:00\",\"2015-10-29T00:00:00\",\"2015-10-30T00:00:00\",\"2015-11-03T00:00:00\",\"2015-11-04T00:00:00\",\"2015-11-05T00:00:00\",\"2015-11-06T00:00:00\",\"2015-11-09T00:00:00\",\"2015-11-10T00:00:00\",\"2015-11-11T00:00:00\",\"2015-11-12T00:00:00\",\"2015-11-13T00:00:00\",\"2015-11-16T00:00:00\",\"2015-11-17T00:00:00\",\"2015-11-18T00:00:00\",\"2015-11-19T00:00:00\",\"2015-11-23T00:00:00\",\"2015-11-24T00:00:00\",\"2015-11-25T00:00:00\",\"2015-11-26T00:00:00\",\"2015-11-27T00:00:00\",\"2015-11-30T00:00:00\",\"2015-12-01T00:00:00\",\"2015-12-02T00:00:00\",\"2015-12-03T00:00:00\",\"2015-12-04T00:00:00\",\"2015-12-07T00:00:00\",\"2015-12-08T00:00:00\",\"2015-12-09T00:00:00\",\"2015-12-10T00:00:00\",\"2015-12-11T00:00:00\",\"2015-12-14T00:00:00\",\"2015-12-15T00:00:00\",\"2015-12-16T00:00:00\",\"2015-12-17T00:00:00\",\"2015-12-18T00:00:00\",\"2015-12-21T00:00:00\",\"2015-12-22T00:00:00\",\"2015-12-23T00:00:00\",\"2015-12-28T00:00:00\",\"2015-12-29T00:00:00\",\"2015-12-30T00:00:00\",\"2016-01-04T00:00:00\",\"2016-01-05T00:00:00\",\"2016-01-06T00:00:00\",\"2016-01-07T00:00:00\",\"2016-01-08T00:00:00\",\"2016-01-11T00:00:00\",\"2016-01-12T00:00:00\",\"2016-01-13T00:00:00\",\"2016-01-14T00:00:00\",\"2016-01-15T00:00:00\",\"2016-01-18T00:00:00\",\"2016-01-19T00:00:00\",\"2016-01-20T00:00:00\",\"2016-01-21T00:00:00\",\"2016-01-22T00:00:00\",\"2016-01-26T00:00:00\",\"2016-01-27T00:00:00\",\"2016-01-28T00:00:00\",\"2016-01-29T00:00:00\",\"2016-02-01T00:00:00\",\"2016-02-02T00:00:00\",\"2016-02-03T00:00:00\",\"2016-02-04T00:00:00\",\"2016-02-05T00:00:00\",\"2016-02-10T00:00:00\",\"2016-02-11T00:00:00\",\"2016-02-12T00:00:00\",\"2016-02-15T00:00:00\",\"2016-02-16T00:00:00\",\"2016-02-17T00:00:00\",\"2016-02-18T00:00:00\",\"2016-02-19T00:00:00\",\"2016-02-22T00:00:00\",\"2016-02-23T00:00:00\",\"2016-02-24T00:00:00\",\"2016-02-25T00:00:00\",\"2016-02-26T00:00:00\",\"2016-02-29T00:00:00\",\"2016-03-01T00:00:00\",\"2016-03-02T00:00:00\",\"2016-03-03T00:00:00\",\"2016-03-04T00:00:00\",\"2016-03-07T00:00:00\",\"2016-03-08T00:00:00\",\"2016-03-09T00:00:00\",\"2016-03-10T00:00:00\",\"2016-03-11T00:00:00\",\"2016-03-14T00:00:00\",\"2016-03-15T00:00:00\",\"2016-03-16T00:00:00\",\"2016-03-17T00:00:00\",\"2016-03-18T00:00:00\",\"2016-03-21T00:00:00\",\"2016-03-22T00:00:00\",\"2016-03-23T00:00:00\",\"2016-03-24T00:00:00\",\"2016-03-28T00:00:00\",\"2016-03-29T00:00:00\",\"2016-03-30T00:00:00\",\"2016-03-31T00:00:00\",\"2016-04-01T00:00:00\",\"2016-04-04T00:00:00\",\"2016-04-05T00:00:00\",\"2016-04-06T00:00:00\",\"2016-04-07T00:00:00\",\"2016-04-08T00:00:00\",\"2016-04-11T00:00:00\",\"2016-04-12T00:00:00\",\"2016-04-13T00:00:00\",\"2016-04-14T00:00:00\",\"2016-04-15T00:00:00\",\"2016-04-18T00:00:00\",\"2016-04-19T00:00:00\",\"2016-04-20T00:00:00\",\"2016-04-22T00:00:00\",\"2016-04-25T00:00:00\",\"2016-04-26T00:00:00\",\"2016-04-27T00:00:00\",\"2016-04-28T00:00:00\",\"2016-04-29T00:00:00\",\"2016-05-02T00:00:00\",\"2016-05-03T00:00:00\",\"2016-05-04T00:00:00\",\"2016-05-05T00:00:00\",\"2016-05-06T00:00:00\",\"2016-05-09T00:00:00\",\"2016-05-10T00:00:00\",\"2016-05-11T00:00:00\",\"2016-05-12T00:00:00\",\"2016-05-13T00:00:00\",\"2016-05-16T00:00:00\",\"2016-05-17T00:00:00\",\"2016-05-18T00:00:00\",\"2016-05-19T00:00:00\",\"2016-05-20T00:00:00\",\"2016-05-23T00:00:00\",\"2016-05-24T00:00:00\",\"2016-05-25T00:00:00\",\"2016-05-27T00:00:00\",\"2016-05-30T00:00:00\",\"2016-05-31T00:00:00\",\"2016-06-01T00:00:00\",\"2016-06-02T00:00:00\",\"2016-06-03T00:00:00\",\"2016-06-06T00:00:00\",\"2016-06-07T00:00:00\",\"2016-06-08T00:00:00\",\"2016-06-09T00:00:00\",\"2016-06-10T00:00:00\",\"2016-06-13T00:00:00\",\"2016-06-14T00:00:00\",\"2016-06-15T00:00:00\",\"2016-06-16T00:00:00\",\"2016-06-17T00:00:00\",\"2016-06-20T00:00:00\",\"2016-06-21T00:00:00\",\"2016-06-22T00:00:00\",\"2016-06-23T00:00:00\",\"2016-06-24T00:00:00\",\"2016-06-27T00:00:00\",\"2016-06-28T00:00:00\",\"2016-06-29T00:00:00\",\"2016-06-30T00:00:00\",\"2016-07-01T00:00:00\",\"2016-07-04T00:00:00\",\"2016-07-05T00:00:00\",\"2016-07-06T00:00:00\",\"2016-07-07T00:00:00\",\"2016-07-08T00:00:00\",\"2016-07-11T00:00:00\",\"2016-07-12T00:00:00\",\"2016-07-13T00:00:00\",\"2016-07-14T00:00:00\",\"2016-07-15T00:00:00\",\"2016-07-18T00:00:00\",\"2016-07-19T00:00:00\",\"2016-07-20T00:00:00\",\"2016-07-21T00:00:00\",\"2016-07-22T00:00:00\",\"2016-07-25T00:00:00\",\"2016-07-26T00:00:00\",\"2016-07-27T00:00:00\",\"2016-07-28T00:00:00\",\"2016-07-29T00:00:00\",\"2016-08-01T00:00:00\",\"2016-08-02T00:00:00\",\"2016-08-03T00:00:00\",\"2016-08-04T00:00:00\",\"2016-08-05T00:00:00\",\"2016-08-08T00:00:00\",\"2016-08-09T00:00:00\",\"2016-08-10T00:00:00\",\"2016-08-11T00:00:00\",\"2016-08-12T00:00:00\",\"2016-08-15T00:00:00\",\"2016-08-16T00:00:00\",\"2016-08-17T00:00:00\",\"2016-08-18T00:00:00\",\"2016-08-19T00:00:00\",\"2016-08-22T00:00:00\",\"2016-08-23T00:00:00\",\"2016-08-24T00:00:00\",\"2016-08-25T00:00:00\",\"2016-08-26T00:00:00\",\"2016-08-29T00:00:00\",\"2016-08-30T00:00:00\",\"2016-08-31T00:00:00\",\"2016-09-01T00:00:00\",\"2016-09-02T00:00:00\",\"2016-09-05T00:00:00\",\"2016-09-06T00:00:00\",\"2016-09-08T00:00:00\",\"2016-09-09T00:00:00\",\"2016-09-12T00:00:00\",\"2016-09-13T00:00:00\",\"2016-09-14T00:00:00\",\"2016-09-15T00:00:00\",\"2016-09-16T00:00:00\",\"2016-09-19T00:00:00\",\"2016-09-20T00:00:00\",\"2016-09-21T00:00:00\",\"2016-09-22T00:00:00\",\"2016-09-23T00:00:00\",\"2016-09-26T00:00:00\",\"2016-09-27T00:00:00\",\"2016-09-28T00:00:00\",\"2016-09-29T00:00:00\",\"2016-09-30T00:00:00\",\"2016-10-03T00:00:00\",\"2016-10-04T00:00:00\",\"2016-10-05T00:00:00\",\"2016-10-06T00:00:00\",\"2016-10-07T00:00:00\",\"2016-10-10T00:00:00\",\"2016-10-11T00:00:00\",\"2016-10-13T00:00:00\",\"2016-10-14T00:00:00\",\"2016-10-17T00:00:00\",\"2016-10-18T00:00:00\",\"2016-10-19T00:00:00\",\"2016-10-20T00:00:00\",\"2016-10-21T00:00:00\",\"2016-10-24T00:00:00\",\"2016-10-25T00:00:00\",\"2016-10-26T00:00:00\",\"2016-10-27T00:00:00\",\"2016-10-28T00:00:00\",\"2016-10-31T00:00:00\",\"2016-11-01T00:00:00\",\"2016-11-03T00:00:00\",\"2016-11-04T00:00:00\",\"2016-11-07T00:00:00\",\"2016-11-08T00:00:00\",\"2016-11-09T00:00:00\",\"2016-11-10T00:00:00\",\"2016-11-11T00:00:00\",\"2016-11-14T00:00:00\",\"2016-11-16T00:00:00\",\"2016-11-17T00:00:00\",\"2016-11-18T00:00:00\",\"2016-11-21T00:00:00\",\"2016-11-22T00:00:00\",\"2016-11-23T00:00:00\",\"2016-11-24T00:00:00\",\"2016-11-25T00:00:00\",\"2016-11-28T00:00:00\",\"2016-11-29T00:00:00\",\"2016-11-30T00:00:00\",\"2016-12-01T00:00:00\",\"2016-12-02T00:00:00\",\"2016-12-05T00:00:00\",\"2016-12-06T00:00:00\",\"2016-12-07T00:00:00\",\"2016-12-08T00:00:00\",\"2016-12-09T00:00:00\",\"2016-12-12T00:00:00\",\"2016-12-13T00:00:00\",\"2016-12-14T00:00:00\",\"2016-12-15T00:00:00\",\"2016-12-16T00:00:00\",\"2016-12-19T00:00:00\",\"2016-12-20T00:00:00\",\"2016-12-21T00:00:00\",\"2016-12-22T00:00:00\",\"2016-12-23T00:00:00\",\"2016-12-26T00:00:00\",\"2016-12-27T00:00:00\",\"2016-12-28T00:00:00\",\"2016-12-29T00:00:00\",\"2017-01-02T00:00:00\",\"2017-01-03T00:00:00\",\"2017-01-04T00:00:00\",\"2017-01-05T00:00:00\",\"2017-01-06T00:00:00\",\"2017-01-09T00:00:00\",\"2017-01-10T00:00:00\",\"2017-01-11T00:00:00\",\"2017-01-12T00:00:00\",\"2017-01-13T00:00:00\",\"2017-01-16T00:00:00\",\"2017-01-17T00:00:00\",\"2017-01-18T00:00:00\",\"2017-01-19T00:00:00\",\"2017-01-20T00:00:00\",\"2017-01-23T00:00:00\",\"2017-01-24T00:00:00\",\"2017-01-26T00:00:00\",\"2017-01-27T00:00:00\",\"2017-01-30T00:00:00\",\"2017-01-31T00:00:00\",\"2017-02-01T00:00:00\",\"2017-02-02T00:00:00\",\"2017-02-03T00:00:00\",\"2017-02-06T00:00:00\",\"2017-02-07T00:00:00\",\"2017-02-08T00:00:00\",\"2017-02-09T00:00:00\",\"2017-02-10T00:00:00\",\"2017-02-13T00:00:00\",\"2017-02-14T00:00:00\",\"2017-02-15T00:00:00\",\"2017-02-16T00:00:00\",\"2017-02-17T00:00:00\",\"2017-02-20T00:00:00\",\"2017-02-21T00:00:00\",\"2017-02-22T00:00:00\",\"2017-02-23T00:00:00\",\"2017-02-24T00:00:00\",\"2017-03-01T00:00:00\",\"2017-03-02T00:00:00\",\"2017-03-03T00:00:00\",\"2017-03-06T00:00:00\",\"2017-03-07T00:00:00\",\"2017-03-08T00:00:00\",\"2017-03-09T00:00:00\",\"2017-03-10T00:00:00\",\"2017-03-13T00:00:00\",\"2017-03-14T00:00:00\",\"2017-03-15T00:00:00\",\"2017-03-16T00:00:00\",\"2017-03-17T00:00:00\",\"2017-03-20T00:00:00\",\"2017-03-21T00:00:00\",\"2017-03-22T00:00:00\",\"2017-03-23T00:00:00\",\"2017-03-24T00:00:00\",\"2017-03-27T00:00:00\",\"2017-03-28T00:00:00\",\"2017-03-29T00:00:00\",\"2017-03-30T00:00:00\",\"2017-03-31T00:00:00\",\"2017-04-03T00:00:00\",\"2017-04-04T00:00:00\",\"2017-04-05T00:00:00\",\"2017-04-06T00:00:00\",\"2017-04-07T00:00:00\",\"2017-04-10T00:00:00\",\"2017-04-11T00:00:00\",\"2017-04-12T00:00:00\",\"2017-04-13T00:00:00\",\"2017-04-17T00:00:00\",\"2017-04-18T00:00:00\",\"2017-04-19T00:00:00\",\"2017-04-20T00:00:00\",\"2017-04-24T00:00:00\",\"2017-04-25T00:00:00\",\"2017-04-26T00:00:00\",\"2017-04-27T00:00:00\",\"2017-04-28T00:00:00\",\"2017-05-02T00:00:00\",\"2017-05-03T00:00:00\",\"2017-05-04T00:00:00\",\"2017-05-05T00:00:00\",\"2017-05-08T00:00:00\",\"2017-05-09T00:00:00\",\"2017-05-10T00:00:00\",\"2017-05-11T00:00:00\",\"2017-05-12T00:00:00\",\"2017-05-15T00:00:00\",\"2017-05-16T00:00:00\",\"2017-05-17T00:00:00\",\"2017-05-18T00:00:00\",\"2017-05-19T00:00:00\",\"2017-05-22T00:00:00\",\"2017-05-23T00:00:00\",\"2017-05-24T00:00:00\",\"2017-05-25T00:00:00\",\"2017-05-26T00:00:00\",\"2017-05-29T00:00:00\",\"2017-05-30T00:00:00\",\"2017-05-31T00:00:00\",\"2017-06-01T00:00:00\",\"2017-06-02T00:00:00\",\"2017-06-05T00:00:00\",\"2017-06-06T00:00:00\",\"2017-06-07T00:00:00\",\"2017-06-08T00:00:00\",\"2017-06-09T00:00:00\",\"2017-06-12T00:00:00\",\"2017-06-13T00:00:00\",\"2017-06-14T00:00:00\",\"2017-06-16T00:00:00\",\"2017-06-19T00:00:00\",\"2017-06-20T00:00:00\",\"2017-06-21T00:00:00\",\"2017-06-22T00:00:00\",\"2017-06-23T00:00:00\",\"2017-06-26T00:00:00\",\"2017-06-27T00:00:00\",\"2017-06-28T00:00:00\",\"2017-06-29T00:00:00\",\"2017-06-30T00:00:00\",\"2017-07-03T00:00:00\",\"2017-07-04T00:00:00\",\"2017-07-05T00:00:00\",\"2017-07-06T00:00:00\",\"2017-07-07T00:00:00\",\"2017-07-10T00:00:00\",\"2017-07-11T00:00:00\",\"2017-07-12T00:00:00\",\"2017-07-13T00:00:00\",\"2017-07-14T00:00:00\",\"2017-07-17T00:00:00\",\"2017-07-18T00:00:00\",\"2017-07-19T00:00:00\",\"2017-07-20T00:00:00\",\"2017-07-21T00:00:00\",\"2017-07-24T00:00:00\",\"2017-07-25T00:00:00\",\"2017-07-26T00:00:00\",\"2017-07-27T00:00:00\",\"2017-07-28T00:00:00\",\"2017-07-31T00:00:00\",\"2017-08-01T00:00:00\",\"2017-08-02T00:00:00\",\"2017-08-03T00:00:00\",\"2017-08-04T00:00:00\",\"2017-08-07T00:00:00\",\"2017-08-08T00:00:00\",\"2017-08-09T00:00:00\",\"2017-08-10T00:00:00\",\"2017-08-11T00:00:00\",\"2017-08-14T00:00:00\",\"2017-08-15T00:00:00\",\"2017-08-16T00:00:00\",\"2017-08-17T00:00:00\",\"2017-08-18T00:00:00\",\"2017-08-21T00:00:00\",\"2017-08-22T00:00:00\",\"2017-08-23T00:00:00\",\"2017-08-24T00:00:00\",\"2017-08-25T00:00:00\",\"2017-08-28T00:00:00\",\"2017-08-29T00:00:00\",\"2017-08-30T00:00:00\",\"2017-08-31T00:00:00\",\"2017-09-01T00:00:00\",\"2017-09-04T00:00:00\",\"2017-09-05T00:00:00\",\"2017-09-06T00:00:00\",\"2017-09-08T00:00:00\",\"2017-09-11T00:00:00\",\"2017-09-12T00:00:00\",\"2017-09-13T00:00:00\",\"2017-09-14T00:00:00\",\"2017-09-15T00:00:00\",\"2017-09-18T00:00:00\",\"2017-09-19T00:00:00\",\"2017-09-20T00:00:00\",\"2017-09-21T00:00:00\",\"2017-09-22T00:00:00\",\"2017-09-25T00:00:00\",\"2017-09-26T00:00:00\",\"2017-09-27T00:00:00\",\"2017-09-28T00:00:00\",\"2017-09-29T00:00:00\",\"2017-10-02T00:00:00\",\"2017-10-03T00:00:00\",\"2017-10-04T00:00:00\",\"2017-10-05T00:00:00\",\"2017-10-06T00:00:00\",\"2017-10-09T00:00:00\",\"2017-10-10T00:00:00\",\"2017-10-11T00:00:00\",\"2017-10-13T00:00:00\",\"2017-10-16T00:00:00\",\"2017-10-17T00:00:00\",\"2017-10-18T00:00:00\",\"2017-10-19T00:00:00\",\"2017-10-20T00:00:00\",\"2017-10-23T00:00:00\",\"2017-10-24T00:00:00\",\"2017-10-25T00:00:00\",\"2017-10-26T00:00:00\",\"2017-10-27T00:00:00\",\"2017-10-30T00:00:00\",\"2017-10-31T00:00:00\",\"2017-11-01T00:00:00\",\"2017-11-03T00:00:00\",\"2017-11-06T00:00:00\",\"2017-11-07T00:00:00\",\"2017-11-08T00:00:00\",\"2017-11-09T00:00:00\",\"2017-11-10T00:00:00\",\"2017-11-13T00:00:00\",\"2017-11-14T00:00:00\",\"2017-11-16T00:00:00\",\"2017-11-17T00:00:00\",\"2017-11-21T00:00:00\",\"2017-11-22T00:00:00\",\"2017-11-23T00:00:00\",\"2017-11-24T00:00:00\",\"2017-11-27T00:00:00\",\"2017-11-28T00:00:00\",\"2017-11-29T00:00:00\",\"2017-11-30T00:00:00\",\"2017-12-01T00:00:00\",\"2017-12-04T00:00:00\",\"2017-12-05T00:00:00\",\"2017-12-06T00:00:00\",\"2017-12-07T00:00:00\",\"2017-12-08T00:00:00\",\"2017-12-11T00:00:00\",\"2017-12-12T00:00:00\",\"2017-12-13T00:00:00\",\"2017-12-14T00:00:00\",\"2017-12-15T00:00:00\",\"2017-12-18T00:00:00\",\"2017-12-19T00:00:00\",\"2017-12-20T00:00:00\",\"2017-12-21T00:00:00\",\"2017-12-22T00:00:00\",\"2017-12-26T00:00:00\",\"2017-12-27T00:00:00\",\"2017-12-28T00:00:00\",\"2017-12-29T00:00:00\",\"2018-01-02T00:00:00\",\"2018-01-03T00:00:00\",\"2018-01-04T00:00:00\",\"2018-01-05T00:00:00\",\"2018-01-08T00:00:00\",\"2018-01-09T00:00:00\",\"2018-01-10T00:00:00\",\"2018-01-11T00:00:00\",\"2018-01-12T00:00:00\",\"2018-01-15T00:00:00\",\"2018-01-16T00:00:00\",\"2018-01-17T00:00:00\",\"2018-01-18T00:00:00\",\"2018-01-19T00:00:00\",\"2018-01-22T00:00:00\",\"2018-01-23T00:00:00\",\"2018-01-24T00:00:00\",\"2018-01-26T00:00:00\",\"2018-01-29T00:00:00\",\"2018-01-30T00:00:00\",\"2018-01-31T00:00:00\",\"2018-02-01T00:00:00\",\"2018-02-02T00:00:00\",\"2018-02-05T00:00:00\",\"2018-02-06T00:00:00\",\"2018-02-07T00:00:00\",\"2018-02-08T00:00:00\",\"2018-02-09T00:00:00\",\"2018-02-14T00:00:00\",\"2018-02-15T00:00:00\",\"2018-02-16T00:00:00\",\"2018-02-19T00:00:00\",\"2018-02-20T00:00:00\",\"2018-02-21T00:00:00\",\"2018-02-22T00:00:00\",\"2018-02-23T00:00:00\",\"2018-02-26T00:00:00\",\"2018-02-27T00:00:00\",\"2018-02-28T00:00:00\",\"2018-03-01T00:00:00\",\"2018-03-02T00:00:00\",\"2018-03-05T00:00:00\",\"2018-03-06T00:00:00\",\"2018-03-07T00:00:00\",\"2018-03-08T00:00:00\",\"2018-03-09T00:00:00\",\"2018-03-12T00:00:00\",\"2018-03-13T00:00:00\",\"2018-03-14T00:00:00\",\"2018-03-15T00:00:00\",\"2018-03-16T00:00:00\",\"2018-03-19T00:00:00\",\"2018-03-20T00:00:00\",\"2018-03-21T00:00:00\",\"2018-03-22T00:00:00\",\"2018-03-23T00:00:00\",\"2018-03-26T00:00:00\",\"2018-03-27T00:00:00\",\"2018-03-28T00:00:00\",\"2018-03-29T00:00:00\",\"2018-04-02T00:00:00\",\"2018-04-03T00:00:00\",\"2018-04-04T00:00:00\",\"2018-04-05T00:00:00\",\"2018-04-06T00:00:00\",\"2018-04-09T00:00:00\",\"2018-04-10T00:00:00\",\"2018-04-11T00:00:00\",\"2018-04-12T00:00:00\",\"2018-04-13T00:00:00\",\"2018-04-16T00:00:00\",\"2018-04-17T00:00:00\",\"2018-04-18T00:00:00\",\"2018-04-19T00:00:00\",\"2018-04-20T00:00:00\",\"2018-04-23T00:00:00\",\"2018-04-24T00:00:00\",\"2018-04-25T00:00:00\",\"2018-04-26T00:00:00\",\"2018-04-27T00:00:00\",\"2018-04-30T00:00:00\",\"2018-05-02T00:00:00\",\"2018-05-03T00:00:00\",\"2018-05-04T00:00:00\",\"2018-05-07T00:00:00\",\"2018-05-08T00:00:00\",\"2018-05-09T00:00:00\",\"2018-05-10T00:00:00\",\"2018-05-11T00:00:00\",\"2018-05-14T00:00:00\",\"2018-05-15T00:00:00\",\"2018-05-16T00:00:00\",\"2018-05-17T00:00:00\",\"2018-05-18T00:00:00\",\"2018-05-21T00:00:00\",\"2018-05-22T00:00:00\",\"2018-05-23T00:00:00\",\"2018-05-24T00:00:00\",\"2018-05-25T00:00:00\",\"2018-05-28T00:00:00\",\"2018-05-29T00:00:00\",\"2018-05-30T00:00:00\",\"2018-06-01T00:00:00\",\"2018-06-04T00:00:00\",\"2018-06-05T00:00:00\",\"2018-06-06T00:00:00\",\"2018-06-07T00:00:00\",\"2018-06-08T00:00:00\",\"2018-06-11T00:00:00\",\"2018-06-12T00:00:00\",\"2018-06-13T00:00:00\",\"2018-06-14T00:00:00\",\"2018-06-15T00:00:00\",\"2018-06-18T00:00:00\",\"2018-06-19T00:00:00\",\"2018-06-20T00:00:00\",\"2018-06-21T00:00:00\",\"2018-06-22T00:00:00\",\"2018-06-25T00:00:00\",\"2018-06-26T00:00:00\",\"2018-06-27T00:00:00\",\"2018-06-28T00:00:00\",\"2018-06-29T00:00:00\",\"2018-07-02T00:00:00\",\"2018-07-03T00:00:00\",\"2018-07-04T00:00:00\",\"2018-07-05T00:00:00\",\"2018-07-06T00:00:00\",\"2018-07-10T00:00:00\",\"2018-07-11T00:00:00\",\"2018-07-12T00:00:00\",\"2018-07-13T00:00:00\",\"2018-07-16T00:00:00\",\"2018-07-17T00:00:00\",\"2018-07-18T00:00:00\",\"2018-07-19T00:00:00\",\"2018-07-20T00:00:00\",\"2018-07-23T00:00:00\",\"2018-07-24T00:00:00\",\"2018-07-25T00:00:00\",\"2018-07-26T00:00:00\",\"2018-07-27T00:00:00\",\"2018-07-30T00:00:00\",\"2018-07-31T00:00:00\",\"2018-08-01T00:00:00\",\"2018-08-02T00:00:00\",\"2018-08-03T00:00:00\",\"2018-08-06T00:00:00\",\"2018-08-07T00:00:00\",\"2018-08-08T00:00:00\",\"2018-08-09T00:00:00\",\"2018-08-10T00:00:00\",\"2018-08-13T00:00:00\",\"2018-08-14T00:00:00\",\"2018-08-15T00:00:00\",\"2018-08-16T00:00:00\",\"2018-08-17T00:00:00\",\"2018-08-20T00:00:00\",\"2018-08-21T00:00:00\",\"2018-08-22T00:00:00\",\"2018-08-23T00:00:00\",\"2018-08-24T00:00:00\",\"2018-08-27T00:00:00\",\"2018-08-28T00:00:00\",\"2018-08-29T00:00:00\",\"2018-08-30T00:00:00\",\"2018-08-31T00:00:00\",\"2018-09-03T00:00:00\",\"2018-09-04T00:00:00\",\"2018-09-05T00:00:00\",\"2018-09-06T00:00:00\",\"2018-09-10T00:00:00\",\"2018-09-11T00:00:00\",\"2018-09-12T00:00:00\",\"2018-09-13T00:00:00\",\"2018-09-14T00:00:00\",\"2018-09-17T00:00:00\",\"2018-09-18T00:00:00\",\"2018-09-19T00:00:00\",\"2018-09-20T00:00:00\",\"2018-09-21T00:00:00\",\"2018-09-24T00:00:00\",\"2018-09-25T00:00:00\",\"2018-09-26T00:00:00\",\"2018-09-27T00:00:00\",\"2018-09-28T00:00:00\",\"2018-10-01T00:00:00\",\"2018-10-02T00:00:00\",\"2018-10-03T00:00:00\",\"2018-10-04T00:00:00\",\"2018-10-05T00:00:00\",\"2018-10-08T00:00:00\",\"2018-10-09T00:00:00\",\"2018-10-10T00:00:00\",\"2018-10-11T00:00:00\",\"2018-10-15T00:00:00\",\"2018-10-16T00:00:00\",\"2018-10-17T00:00:00\",\"2018-10-18T00:00:00\",\"2018-10-19T00:00:00\",\"2018-10-22T00:00:00\",\"2018-10-23T00:00:00\",\"2018-10-24T00:00:00\",\"2018-10-25T00:00:00\",\"2018-10-26T00:00:00\",\"2018-10-29T00:00:00\",\"2018-10-30T00:00:00\",\"2018-10-31T00:00:00\",\"2018-11-01T00:00:00\",\"2018-11-05T00:00:00\",\"2018-11-06T00:00:00\",\"2018-11-07T00:00:00\",\"2018-11-08T00:00:00\",\"2018-11-09T00:00:00\",\"2018-11-12T00:00:00\",\"2018-11-13T00:00:00\",\"2018-11-14T00:00:00\",\"2018-11-16T00:00:00\",\"2018-11-19T00:00:00\",\"2018-11-21T00:00:00\",\"2018-11-22T00:00:00\",\"2018-11-23T00:00:00\",\"2018-11-26T00:00:00\",\"2018-11-27T00:00:00\",\"2018-11-28T00:00:00\",\"2018-11-29T00:00:00\",\"2018-11-30T00:00:00\",\"2018-12-03T00:00:00\",\"2018-12-04T00:00:00\",\"2018-12-05T00:00:00\",\"2018-12-06T00:00:00\",\"2018-12-07T00:00:00\",\"2018-12-10T00:00:00\",\"2018-12-11T00:00:00\",\"2018-12-12T00:00:00\",\"2018-12-13T00:00:00\",\"2018-12-14T00:00:00\",\"2018-12-17T00:00:00\",\"2018-12-18T00:00:00\",\"2018-12-19T00:00:00\",\"2018-12-20T00:00:00\",\"2018-12-21T00:00:00\",\"2018-12-26T00:00:00\",\"2018-12-27T00:00:00\",\"2018-12-28T00:00:00\",\"2019-01-02T00:00:00\",\"2019-01-03T00:00:00\",\"2019-01-04T00:00:00\",\"2019-01-07T00:00:00\",\"2019-01-08T00:00:00\",\"2019-01-09T00:00:00\",\"2019-01-10T00:00:00\",\"2019-01-11T00:00:00\",\"2019-01-14T00:00:00\",\"2019-01-15T00:00:00\",\"2019-01-16T00:00:00\",\"2019-01-17T00:00:00\",\"2019-01-18T00:00:00\",\"2019-01-21T00:00:00\",\"2019-01-22T00:00:00\",\"2019-01-23T00:00:00\",\"2019-01-24T00:00:00\",\"2019-01-28T00:00:00\",\"2019-01-29T00:00:00\",\"2019-01-30T00:00:00\",\"2019-01-31T00:00:00\",\"2019-02-01T00:00:00\",\"2019-02-04T00:00:00\",\"2019-02-05T00:00:00\",\"2019-02-06T00:00:00\",\"2019-02-07T00:00:00\",\"2019-02-08T00:00:00\",\"2019-02-11T00:00:00\",\"2019-02-12T00:00:00\",\"2019-02-13T00:00:00\",\"2019-02-14T00:00:00\",\"2019-02-15T00:00:00\",\"2019-02-18T00:00:00\",\"2019-02-19T00:00:00\",\"2019-02-20T00:00:00\",\"2019-02-21T00:00:00\",\"2019-02-22T00:00:00\",\"2019-02-25T00:00:00\",\"2019-02-26T00:00:00\",\"2019-02-27T00:00:00\",\"2019-02-28T00:00:00\",\"2019-03-01T00:00:00\",\"2019-03-06T00:00:00\",\"2019-03-07T00:00:00\",\"2019-03-08T00:00:00\",\"2019-03-11T00:00:00\",\"2019-03-12T00:00:00\",\"2019-03-13T00:00:00\",\"2019-03-14T00:00:00\",\"2019-03-15T00:00:00\",\"2019-03-18T00:00:00\",\"2019-03-19T00:00:00\",\"2019-03-20T00:00:00\",\"2019-03-21T00:00:00\",\"2019-03-22T00:00:00\",\"2019-03-25T00:00:00\",\"2019-03-26T00:00:00\",\"2019-03-27T00:00:00\",\"2019-03-28T00:00:00\",\"2019-03-29T00:00:00\",\"2019-04-01T00:00:00\",\"2019-04-02T00:00:00\",\"2019-04-03T00:00:00\",\"2019-04-04T00:00:00\",\"2019-04-05T00:00:00\",\"2019-04-08T00:00:00\",\"2019-04-09T00:00:00\",\"2019-04-10T00:00:00\",\"2019-04-11T00:00:00\",\"2019-04-12T00:00:00\",\"2019-04-15T00:00:00\",\"2019-04-16T00:00:00\",\"2019-04-17T00:00:00\",\"2019-04-18T00:00:00\",\"2019-04-22T00:00:00\",\"2019-04-23T00:00:00\",\"2019-04-24T00:00:00\",\"2019-04-25T00:00:00\",\"2019-04-26T00:00:00\",\"2019-04-29T00:00:00\",\"2019-04-30T00:00:00\",\"2019-05-02T00:00:00\",\"2019-05-03T00:00:00\",\"2019-05-06T00:00:00\",\"2019-05-07T00:00:00\",\"2019-05-08T00:00:00\",\"2019-05-09T00:00:00\",\"2019-05-10T00:00:00\",\"2019-05-13T00:00:00\",\"2019-05-14T00:00:00\",\"2019-05-15T00:00:00\",\"2019-05-16T00:00:00\",\"2019-05-17T00:00:00\",\"2019-05-20T00:00:00\",\"2019-05-21T00:00:00\",\"2019-05-22T00:00:00\",\"2019-05-23T00:00:00\",\"2019-05-24T00:00:00\",\"2019-05-27T00:00:00\",\"2019-05-28T00:00:00\",\"2019-05-29T00:00:00\",\"2019-05-30T00:00:00\",\"2019-05-31T00:00:00\",\"2019-06-03T00:00:00\",\"2019-06-04T00:00:00\",\"2019-06-05T00:00:00\",\"2019-06-06T00:00:00\",\"2019-06-07T00:00:00\",\"2019-06-10T00:00:00\",\"2019-06-11T00:00:00\",\"2019-06-12T00:00:00\",\"2019-06-13T00:00:00\",\"2019-06-14T00:00:00\",\"2019-06-17T00:00:00\",\"2019-06-18T00:00:00\",\"2019-06-19T00:00:00\",\"2019-06-21T00:00:00\",\"2019-06-24T00:00:00\",\"2019-06-25T00:00:00\",\"2019-06-26T00:00:00\",\"2019-06-27T00:00:00\",\"2019-06-28T00:00:00\",\"2019-07-01T00:00:00\",\"2019-07-02T00:00:00\",\"2019-07-03T00:00:00\",\"2019-07-04T00:00:00\",\"2019-07-05T00:00:00\",\"2019-07-08T00:00:00\",\"2019-07-10T00:00:00\",\"2019-07-11T00:00:00\",\"2019-07-12T00:00:00\",\"2019-07-15T00:00:00\",\"2019-07-16T00:00:00\",\"2019-07-17T00:00:00\",\"2019-07-18T00:00:00\",\"2019-07-19T00:00:00\",\"2019-07-22T00:00:00\",\"2019-07-23T00:00:00\",\"2019-07-24T00:00:00\",\"2019-07-25T00:00:00\",\"2019-07-26T00:00:00\",\"2019-07-29T00:00:00\",\"2019-07-30T00:00:00\",\"2019-07-31T00:00:00\",\"2019-08-01T00:00:00\",\"2019-08-02T00:00:00\",\"2019-08-05T00:00:00\",\"2019-08-06T00:00:00\",\"2019-08-07T00:00:00\",\"2019-08-08T00:00:00\",\"2019-08-09T00:00:00\",\"2019-08-12T00:00:00\",\"2019-08-13T00:00:00\",\"2019-08-14T00:00:00\",\"2019-08-15T00:00:00\",\"2019-08-16T00:00:00\",\"2019-08-19T00:00:00\",\"2019-08-20T00:00:00\",\"2019-08-21T00:00:00\",\"2019-08-22T00:00:00\",\"2019-08-23T00:00:00\",\"2019-08-26T00:00:00\",\"2019-08-27T00:00:00\",\"2019-08-28T00:00:00\",\"2019-08-29T00:00:00\",\"2019-08-30T00:00:00\",\"2019-09-02T00:00:00\",\"2019-09-03T00:00:00\",\"2019-09-04T00:00:00\",\"2019-09-05T00:00:00\",\"2019-09-06T00:00:00\",\"2019-09-09T00:00:00\",\"2019-09-10T00:00:00\",\"2019-09-11T00:00:00\",\"2019-09-12T00:00:00\",\"2019-09-13T00:00:00\",\"2019-09-16T00:00:00\",\"2019-09-17T00:00:00\",\"2019-09-18T00:00:00\",\"2019-09-19T00:00:00\",\"2019-09-20T00:00:00\",\"2019-09-23T00:00:00\",\"2019-09-24T00:00:00\",\"2019-09-25T00:00:00\",\"2019-09-26T00:00:00\",\"2019-09-27T00:00:00\",\"2019-09-30T00:00:00\",\"2019-10-01T00:00:00\",\"2019-10-02T00:00:00\",\"2019-10-03T00:00:00\",\"2019-10-04T00:00:00\",\"2019-10-07T00:00:00\",\"2019-10-08T00:00:00\",\"2019-10-09T00:00:00\",\"2019-10-10T00:00:00\",\"2019-10-11T00:00:00\",\"2019-10-14T00:00:00\",\"2019-10-15T00:00:00\",\"2019-10-16T00:00:00\",\"2019-10-17T00:00:00\",\"2019-10-18T00:00:00\",\"2019-10-21T00:00:00\",\"2019-10-22T00:00:00\",\"2019-10-23T00:00:00\",\"2019-10-24T00:00:00\",\"2019-10-25T00:00:00\",\"2019-10-28T00:00:00\",\"2019-10-29T00:00:00\",\"2019-10-30T00:00:00\",\"2019-10-31T00:00:00\",\"2019-11-01T00:00:00\",\"2019-11-04T00:00:00\",\"2019-11-05T00:00:00\",\"2019-11-06T00:00:00\",\"2019-11-07T00:00:00\",\"2019-11-08T00:00:00\",\"2019-11-11T00:00:00\",\"2019-11-12T00:00:00\",\"2019-11-13T00:00:00\",\"2019-11-14T00:00:00\",\"2019-11-18T00:00:00\",\"2019-11-19T00:00:00\",\"2019-11-21T00:00:00\",\"2019-11-22T00:00:00\",\"2019-11-25T00:00:00\",\"2019-11-26T00:00:00\",\"2019-11-27T00:00:00\",\"2019-11-28T00:00:00\",\"2019-11-29T00:00:00\",\"2019-12-02T00:00:00\",\"2019-12-03T00:00:00\",\"2019-12-04T00:00:00\",\"2019-12-05T00:00:00\",\"2019-12-06T00:00:00\",\"2019-12-09T00:00:00\",\"2019-12-10T00:00:00\",\"2019-12-11T00:00:00\",\"2019-12-12T00:00:00\",\"2019-12-13T00:00:00\",\"2019-12-16T00:00:00\",\"2019-12-17T00:00:00\",\"2019-12-18T00:00:00\",\"2019-12-19T00:00:00\",\"2019-12-20T00:00:00\",\"2019-12-23T00:00:00\",\"2019-12-26T00:00:00\",\"2019-12-27T00:00:00\",\"2019-12-30T00:00:00\",\"2020-01-02T00:00:00\",\"2020-01-03T00:00:00\",\"2020-01-06T00:00:00\",\"2020-01-07T00:00:00\",\"2020-01-08T00:00:00\",\"2020-01-09T00:00:00\",\"2020-01-10T00:00:00\",\"2020-01-13T00:00:00\",\"2020-01-14T00:00:00\",\"2020-01-15T00:00:00\",\"2020-01-16T00:00:00\",\"2020-01-17T00:00:00\",\"2020-01-20T00:00:00\",\"2020-01-21T00:00:00\",\"2020-01-22T00:00:00\",\"2020-01-23T00:00:00\",\"2020-01-24T00:00:00\",\"2020-01-27T00:00:00\",\"2020-01-28T00:00:00\",\"2020-01-29T00:00:00\",\"2020-01-30T00:00:00\",\"2020-01-31T00:00:00\",\"2020-02-03T00:00:00\",\"2020-02-04T00:00:00\",\"2020-02-05T00:00:00\",\"2020-02-06T00:00:00\",\"2020-02-07T00:00:00\",\"2020-02-10T00:00:00\",\"2020-02-11T00:00:00\",\"2020-02-12T00:00:00\",\"2020-02-13T00:00:00\",\"2020-02-14T00:00:00\",\"2020-02-17T00:00:00\",\"2020-02-18T00:00:00\",\"2020-02-19T00:00:00\",\"2020-02-20T00:00:00\",\"2020-02-21T00:00:00\",\"2020-02-26T00:00:00\",\"2020-02-27T00:00:00\",\"2020-02-28T00:00:00\",\"2020-03-02T00:00:00\",\"2020-03-03T00:00:00\",\"2020-03-04T00:00:00\",\"2020-03-05T00:00:00\",\"2020-03-06T00:00:00\",\"2020-03-09T00:00:00\",\"2020-03-10T00:00:00\",\"2020-03-11T00:00:00\",\"2020-03-12T00:00:00\",\"2020-03-13T00:00:00\",\"2020-03-16T00:00:00\",\"2020-03-17T00:00:00\",\"2020-03-18T00:00:00\",\"2020-03-19T00:00:00\",\"2020-03-20T00:00:00\",\"2020-03-23T00:00:00\",\"2020-03-24T00:00:00\",\"2020-03-25T00:00:00\",\"2020-03-26T00:00:00\",\"2020-03-27T00:00:00\",\"2020-03-30T00:00:00\",\"2020-03-31T00:00:00\",\"2020-04-01T00:00:00\",\"2020-04-02T00:00:00\",\"2020-04-03T00:00:00\",\"2020-04-06T00:00:00\",\"2020-04-07T00:00:00\",\"2020-04-08T00:00:00\",\"2020-04-09T00:00:00\",\"2020-04-13T00:00:00\",\"2020-04-14T00:00:00\",\"2020-04-15T00:00:00\",\"2020-04-16T00:00:00\",\"2020-04-17T00:00:00\",\"2020-04-20T00:00:00\",\"2020-04-22T00:00:00\",\"2020-04-23T00:00:00\",\"2020-04-24T00:00:00\",\"2020-04-27T00:00:00\",\"2020-04-28T00:00:00\",\"2020-04-29T00:00:00\",\"2020-04-30T00:00:00\",\"2020-05-04T00:00:00\",\"2020-05-05T00:00:00\",\"2020-05-06T00:00:00\",\"2020-05-07T00:00:00\",\"2020-05-08T00:00:00\",\"2020-05-11T00:00:00\",\"2020-05-12T00:00:00\",\"2020-05-13T00:00:00\",\"2020-05-14T00:00:00\",\"2020-05-15T00:00:00\",\"2020-05-18T00:00:00\",\"2020-05-19T00:00:00\",\"2020-05-20T00:00:00\",\"2020-05-21T00:00:00\",\"2020-05-22T00:00:00\",\"2020-05-25T00:00:00\",\"2020-05-26T00:00:00\",\"2020-05-27T00:00:00\",\"2020-05-28T00:00:00\",\"2020-05-29T00:00:00\",\"2020-06-01T00:00:00\",\"2020-06-02T00:00:00\",\"2020-06-03T00:00:00\",\"2020-06-04T00:00:00\",\"2020-06-05T00:00:00\",\"2020-06-08T00:00:00\",\"2020-06-09T00:00:00\",\"2020-06-10T00:00:00\",\"2020-06-12T00:00:00\",\"2020-06-15T00:00:00\",\"2020-06-16T00:00:00\",\"2020-06-17T00:00:00\",\"2020-06-18T00:00:00\",\"2020-06-19T00:00:00\",\"2020-06-22T00:00:00\",\"2020-06-23T00:00:00\",\"2020-06-24T00:00:00\",\"2020-06-25T00:00:00\",\"2020-06-26T00:00:00\",\"2020-06-29T00:00:00\",\"2020-06-30T00:00:00\",\"2020-07-01T00:00:00\",\"2020-07-02T00:00:00\",\"2020-07-03T00:00:00\",\"2020-07-06T00:00:00\",\"2020-07-07T00:00:00\",\"2020-07-08T00:00:00\",\"2020-07-09T00:00:00\",\"2020-07-10T00:00:00\",\"2020-07-13T00:00:00\",\"2020-07-14T00:00:00\",\"2020-07-15T00:00:00\",\"2020-07-16T00:00:00\",\"2020-07-17T00:00:00\",\"2020-07-20T00:00:00\",\"2020-07-21T00:00:00\",\"2020-07-22T00:00:00\",\"2020-07-23T00:00:00\",\"2020-07-24T00:00:00\",\"2020-07-27T00:00:00\",\"2020-07-28T00:00:00\",\"2020-07-29T00:00:00\",\"2020-07-30T00:00:00\",\"2020-07-31T00:00:00\",\"2020-08-03T00:00:00\",\"2020-08-04T00:00:00\",\"2020-08-05T00:00:00\",\"2020-08-06T00:00:00\",\"2020-08-07T00:00:00\",\"2020-08-10T00:00:00\",\"2020-08-11T00:00:00\",\"2020-08-12T00:00:00\",\"2020-08-13T00:00:00\",\"2020-08-14T00:00:00\",\"2020-08-17T00:00:00\",\"2020-08-18T00:00:00\",\"2020-08-19T00:00:00\",\"2020-08-20T00:00:00\",\"2020-08-21T00:00:00\",\"2020-08-24T00:00:00\",\"2020-08-25T00:00:00\",\"2020-08-26T00:00:00\",\"2020-08-27T00:00:00\",\"2020-08-28T00:00:00\",\"2020-08-31T00:00:00\",\"2020-09-01T00:00:00\",\"2020-09-02T00:00:00\",\"2020-09-03T00:00:00\",\"2020-09-04T00:00:00\",\"2020-09-08T00:00:00\",\"2020-09-09T00:00:00\",\"2020-09-10T00:00:00\",\"2020-09-11T00:00:00\",\"2020-09-14T00:00:00\",\"2020-09-15T00:00:00\",\"2020-09-16T00:00:00\",\"2020-09-17T00:00:00\",\"2020-09-18T00:00:00\",\"2020-09-21T00:00:00\",\"2020-09-22T00:00:00\",\"2020-09-23T00:00:00\",\"2020-09-24T00:00:00\",\"2020-09-25T00:00:00\",\"2020-09-28T00:00:00\",\"2020-09-29T00:00:00\",\"2020-09-30T00:00:00\",\"2020-10-01T00:00:00\",\"2020-10-02T00:00:00\",\"2020-10-05T00:00:00\",\"2020-10-06T00:00:00\",\"2020-10-07T00:00:00\",\"2020-10-08T00:00:00\",\"2020-10-09T00:00:00\",\"2020-10-13T00:00:00\",\"2020-10-14T00:00:00\",\"2020-10-15T00:00:00\",\"2020-10-16T00:00:00\",\"2020-10-19T00:00:00\",\"2020-10-20T00:00:00\",\"2020-10-21T00:00:00\",\"2020-10-22T00:00:00\",\"2020-10-23T00:00:00\",\"2020-10-26T00:00:00\",\"2020-10-27T00:00:00\",\"2020-10-28T00:00:00\",\"2020-10-29T00:00:00\",\"2020-10-30T00:00:00\",\"2020-11-03T00:00:00\",\"2020-11-04T00:00:00\",\"2020-11-05T00:00:00\",\"2020-11-06T00:00:00\",\"2020-11-09T00:00:00\",\"2020-11-10T00:00:00\",\"2020-11-11T00:00:00\",\"2020-11-12T00:00:00\",\"2020-11-13T00:00:00\",\"2020-11-16T00:00:00\",\"2020-11-17T00:00:00\",\"2020-11-18T00:00:00\",\"2020-11-19T00:00:00\",\"2020-11-23T00:00:00\",\"2020-11-24T00:00:00\",\"2020-11-25T00:00:00\",\"2020-11-26T00:00:00\",\"2020-11-27T00:00:00\",\"2020-11-30T00:00:00\",\"2020-12-01T00:00:00\",\"2020-12-02T00:00:00\",\"2020-12-03T00:00:00\",\"2020-12-04T00:00:00\",\"2020-12-07T00:00:00\",\"2020-12-08T00:00:00\",\"2020-12-09T00:00:00\",\"2020-12-10T00:00:00\",\"2020-12-11T00:00:00\",\"2020-12-14T00:00:00\",\"2020-12-15T00:00:00\",\"2020-12-16T00:00:00\",\"2020-12-17T00:00:00\",\"2020-12-18T00:00:00\",\"2020-12-21T00:00:00\",\"2020-12-22T00:00:00\",\"2020-12-23T00:00:00\",\"2020-12-28T00:00:00\",\"2020-12-29T00:00:00\",\"2020-12-30T00:00:00\",\"2021-01-04T00:00:00\",\"2021-01-05T00:00:00\",\"2021-01-06T00:00:00\",\"2021-01-07T00:00:00\",\"2021-01-08T00:00:00\",\"2021-01-11T00:00:00\",\"2021-01-12T00:00:00\",\"2021-01-13T00:00:00\",\"2021-01-14T00:00:00\",\"2021-01-15T00:00:00\",\"2021-01-18T00:00:00\",\"2021-01-19T00:00:00\",\"2021-01-20T00:00:00\",\"2021-01-21T00:00:00\",\"2021-01-22T00:00:00\",\"2021-01-26T00:00:00\",\"2021-01-27T00:00:00\",\"2021-01-28T00:00:00\",\"2021-01-29T00:00:00\",\"2021-02-01T00:00:00\",\"2021-02-02T00:00:00\",\"2021-02-03T00:00:00\",\"2021-02-04T00:00:00\",\"2021-02-05T00:00:00\",\"2021-02-08T00:00:00\",\"2021-02-09T00:00:00\",\"2021-02-10T00:00:00\",\"2021-02-11T00:00:00\",\"2021-02-12T00:00:00\",\"2021-02-17T00:00:00\",\"2021-02-18T00:00:00\",\"2021-02-19T00:00:00\",\"2021-02-22T00:00:00\",\"2021-02-23T00:00:00\",\"2021-02-24T00:00:00\",\"2021-02-25T00:00:00\",\"2021-02-26T00:00:00\",\"2021-03-01T00:00:00\",\"2021-03-02T00:00:00\",\"2021-03-03T00:00:00\",\"2021-03-04T00:00:00\",\"2021-03-05T00:00:00\",\"2021-03-08T00:00:00\",\"2021-03-09T00:00:00\",\"2021-03-10T00:00:00\",\"2021-03-11T00:00:00\",\"2021-03-12T00:00:00\",\"2021-03-15T00:00:00\",\"2021-03-16T00:00:00\",\"2021-03-17T00:00:00\",\"2021-03-18T00:00:00\",\"2021-03-19T00:00:00\",\"2021-03-22T00:00:00\",\"2021-03-23T00:00:00\",\"2021-03-24T00:00:00\",\"2021-03-25T00:00:00\",\"2021-03-26T00:00:00\",\"2021-03-29T00:00:00\",\"2021-03-30T00:00:00\",\"2021-03-31T00:00:00\",\"2021-04-01T00:00:00\",\"2021-04-05T00:00:00\",\"2021-04-06T00:00:00\",\"2021-04-07T00:00:00\",\"2021-04-08T00:00:00\",\"2021-04-09T00:00:00\",\"2021-04-12T00:00:00\",\"2021-04-13T00:00:00\",\"2021-04-14T00:00:00\",\"2021-04-15T00:00:00\",\"2021-04-16T00:00:00\",\"2021-04-19T00:00:00\",\"2021-04-20T00:00:00\",\"2021-04-22T00:00:00\",\"2021-04-23T00:00:00\",\"2021-04-26T00:00:00\",\"2021-04-27T00:00:00\",\"2021-04-28T00:00:00\",\"2021-04-29T00:00:00\",\"2021-04-30T00:00:00\",\"2021-05-03T00:00:00\",\"2021-05-04T00:00:00\",\"2021-05-05T00:00:00\",\"2021-05-06T00:00:00\",\"2021-05-07T00:00:00\",\"2021-05-10T00:00:00\",\"2021-05-11T00:00:00\",\"2021-05-12T00:00:00\",\"2021-05-13T00:00:00\",\"2021-05-14T00:00:00\",\"2021-05-17T00:00:00\",\"2021-05-18T00:00:00\",\"2021-05-19T00:00:00\",\"2021-05-20T00:00:00\",\"2021-05-21T00:00:00\",\"2021-05-24T00:00:00\",\"2021-05-25T00:00:00\",\"2021-05-26T00:00:00\",\"2021-05-27T00:00:00\",\"2021-05-28T00:00:00\",\"2021-05-31T00:00:00\",\"2021-06-01T00:00:00\",\"2021-06-02T00:00:00\",\"2021-06-04T00:00:00\",\"2021-06-07T00:00:00\",\"2021-06-08T00:00:00\",\"2021-06-09T00:00:00\",\"2021-06-10T00:00:00\",\"2021-06-11T00:00:00\",\"2021-06-14T00:00:00\",\"2021-06-15T00:00:00\",\"2021-06-16T00:00:00\",\"2021-06-17T00:00:00\",\"2021-06-18T00:00:00\",\"2021-06-21T00:00:00\",\"2021-06-22T00:00:00\",\"2021-06-23T00:00:00\",\"2021-06-24T00:00:00\",\"2021-06-25T00:00:00\",\"2021-06-28T00:00:00\",\"2021-06-29T00:00:00\",\"2021-06-30T00:00:00\",\"2021-07-01T00:00:00\",\"2021-07-02T00:00:00\",\"2021-07-05T00:00:00\",\"2021-07-06T00:00:00\",\"2021-07-07T00:00:00\",\"2021-07-08T00:00:00\",\"2021-07-12T00:00:00\",\"2021-07-13T00:00:00\",\"2021-07-14T00:00:00\",\"2021-07-15T00:00:00\",\"2021-07-16T00:00:00\",\"2021-07-19T00:00:00\",\"2021-07-20T00:00:00\",\"2021-07-21T00:00:00\",\"2021-07-22T00:00:00\",\"2021-07-23T00:00:00\",\"2021-07-26T00:00:00\",\"2021-07-27T00:00:00\",\"2021-07-28T00:00:00\",\"2021-07-29T00:00:00\",\"2021-07-30T00:00:00\",\"2021-08-02T00:00:00\",\"2021-08-03T00:00:00\",\"2021-08-04T00:00:00\",\"2021-08-05T00:00:00\",\"2021-08-06T00:00:00\",\"2021-08-09T00:00:00\",\"2021-08-10T00:00:00\",\"2021-08-11T00:00:00\",\"2021-08-12T00:00:00\",\"2021-08-13T00:00:00\",\"2021-08-16T00:00:00\",\"2021-08-17T00:00:00\",\"2021-08-18T00:00:00\",\"2021-08-19T00:00:00\",\"2021-08-20T00:00:00\",\"2021-08-23T00:00:00\",\"2021-08-24T00:00:00\",\"2021-08-25T00:00:00\",\"2021-08-26T00:00:00\",\"2021-08-27T00:00:00\",\"2021-08-30T00:00:00\",\"2021-08-31T00:00:00\",\"2021-09-01T00:00:00\",\"2021-09-02T00:00:00\",\"2021-09-03T00:00:00\",\"2021-09-06T00:00:00\",\"2021-09-08T00:00:00\",\"2021-09-09T00:00:00\",\"2021-09-10T00:00:00\",\"2021-09-13T00:00:00\",\"2021-09-14T00:00:00\",\"2021-09-15T00:00:00\",\"2021-09-16T00:00:00\",\"2021-09-17T00:00:00\",\"2021-09-20T00:00:00\",\"2021-09-21T00:00:00\",\"2021-09-22T00:00:00\",\"2021-09-23T00:00:00\",\"2021-09-24T00:00:00\",\"2021-09-27T00:00:00\",\"2021-09-28T00:00:00\",\"2021-09-29T00:00:00\",\"2021-09-30T00:00:00\",\"2021-10-01T00:00:00\",\"2021-10-04T00:00:00\",\"2021-10-05T00:00:00\",\"2021-10-06T00:00:00\",\"2021-10-07T00:00:00\",\"2021-10-08T00:00:00\",\"2021-10-11T00:00:00\",\"2021-10-13T00:00:00\",\"2021-10-14T00:00:00\",\"2021-10-15T00:00:00\",\"2021-10-18T00:00:00\",\"2021-10-19T00:00:00\",\"2021-10-20T00:00:00\",\"2021-10-21T00:00:00\",\"2021-10-22T00:00:00\",\"2021-10-25T00:00:00\",\"2021-10-26T00:00:00\",\"2021-10-27T00:00:00\",\"2021-10-28T00:00:00\",\"2021-10-29T00:00:00\",\"2021-11-01T00:00:00\",\"2021-11-03T00:00:00\",\"2021-11-04T00:00:00\",\"2021-11-05T00:00:00\",\"2021-11-08T00:00:00\",\"2021-11-09T00:00:00\",\"2021-11-10T00:00:00\",\"2021-11-11T00:00:00\",\"2021-11-12T00:00:00\",\"2021-11-16T00:00:00\",\"2021-11-17T00:00:00\",\"2021-11-18T00:00:00\",\"2021-11-19T00:00:00\",\"2021-11-22T00:00:00\",\"2021-11-23T00:00:00\",\"2021-11-24T00:00:00\",\"2021-11-25T00:00:00\",\"2021-11-26T00:00:00\",\"2021-11-29T00:00:00\",\"2021-11-30T00:00:00\",\"2021-12-01T00:00:00\",\"2021-12-02T00:00:00\",\"2021-12-03T00:00:00\",\"2021-12-06T00:00:00\",\"2021-12-07T00:00:00\",\"2021-12-08T00:00:00\",\"2021-12-09T00:00:00\",\"2021-12-10T00:00:00\",\"2021-12-13T00:00:00\",\"2021-12-14T00:00:00\",\"2021-12-15T00:00:00\",\"2021-12-16T00:00:00\",\"2021-12-17T00:00:00\",\"2021-12-20T00:00:00\",\"2021-12-21T00:00:00\",\"2021-12-22T00:00:00\",\"2021-12-23T00:00:00\",\"2021-12-27T00:00:00\",\"2021-12-28T00:00:00\",\"2021-12-29T00:00:00\",\"2021-12-30T00:00:00\"],\"xaxis\":\"x\",\"y\":[-0.015,-0.01,-0.006,0.004,0.001,0.003,0.002,-0.001,0.002,0.003,0.007,0.009,0.009,0.001,0.002,0.002,0.001,0.003,0.008,0.006,-0.0,0.0,-0.003,-0.006,-0.001,0.006,0.005,0.007,0.01,0.006,0.0,0.001,-0.012,-0.01,-0.013,-0.017,-0.023,0.0,-0.006,-0.0,0.008,0.014,-0.002,0.003,-0.001,-0.006,-0.002,0.007,0.01,0.009,0.012,0.008,0.003,-0.005,-0.001,0.001,-0.0,0.005,0.009,0.006,0.004,0.007,0.003,0.003,0.005,0.009,0.007,0.008,0.006,0.006,0.001,0.001,0.004,0.001,-0.001,-0.001,0.001,0.002,0.006,0.004,0.005,0.007,0.0,0.001,0.001,0.001,0.002,0.005,0.005,0.008,0.007,0.0,-0.004,-0.002,-0.001,-0.002,0.003,0.007,0.007,0.004,0.006,-0.002,0.0,-0.002,-0.006,-0.001,0.006,0.008,0.007,0.011,0.004,0.004,-0.001,-0.002,-0.003,0.0,-0.002,0.0,0.005,0.007,0.006,0.007,0.007,0.002,0.002,0.007,0.006,0.003,0.006,0.004,0.002,-0.001,0.002,-0.007,-0.005,-0.015,-0.016,-0.012,-0.006,-0.006,0.003,-0.0,-0.005,-0.001,0.004,-0.005,-0.001,-0.003,-0.011,-0.023,-0.021,-0.016,-0.013,-0.004,0.01,0.015,0.017,0.015,0.007,0.004,0.004,0.006,0.007,0.014,0.006,0.007,-0.007,-0.003,-0.005,0.002,0.0,0.006,0.01,0.012,0.007,0.011,0.016,0.008,0.008,0.014,0.009,0.012,0.01,0.001,-0.002,0.006,0.001,0.005,0.01,0.006,0.002,-0.003,-0.001,0.0,-0.005,-0.006,0.003,-0.002,-0.003,0.011,0.012,0.005,0.008,0.005,-0.004,-0.002,-0.003,-0.006,0.001,-0.005,-0.005,0.004,0.003,-0.006,-0.003,-0.007,-0.012,-0.018,-0.01,0.004,0.005,0.007,0.014,0.013,0.01,0.011,0.008,0.007,0.003,-0.0,-0.009,-0.01,-0.018,-0.011,-0.01,-0.004,0.002,0.014,0.009,0.007,0.004,-0.001,-0.01,-0.01,-0.006,-0.0,0.002,0.003,0.005,-0.007,-0.013,-0.021,-0.015,-0.029,-0.013,-0.016,0.002,0.004,0.021,0.014,0.019,0.012,0.001,-0.002,-0.004,0.004,0.002,0.012,0.01,0.007,0.007,0.002,0.004,0.006,0.011,0.007,0.009,0.006,0.006,-0.003,-0.001,-0.005,-0.003,-0.008,-0.005,-0.015,-0.004,-0.008,-0.002,0.0,0.0,-0.001,-0.011,-0.011,-0.007,0.004,-0.002,0.006,0.005,0.004,0.005,0.006,0.011,0.013,0.01,0.006,0.0,-0.002,-0.006,-0.006,-0.006,0.002,0.003,0.007,0.01,0.007,0.001,0.002,0.002,-0.005,0.009,0.014,0.015,0.013,0.016,0.005,0.001,0.001,0.001,0.003,0.005,0.009,0.008,0.008,0.006,-0.0,-0.003,-0.007,-0.001,-0.002,0.003,0.001,-0.003,-0.013,-0.002,-0.008,-0.007,-0.006,-0.006,-0.011,-0.008,-0.006,0.002,0.001,-0.002,-0.008,-0.008,-0.013,-0.004,-0.008,-0.001,0.001,-0.002,-0.015,-0.015,-0.016,-0.019,-0.012,-0.003,0.003,0.004,0.006,0.008,-0.001,-0.001,0.0,-0.005,-0.009,-0.009,-0.01,-0.013,-0.006,0.002,0.007,0.001,-0.005,-0.006,-0.008,-0.009,-0.004,-0.003,-0.007,-0.011,-0.007,-0.008,-0.005,-0.003,0.003,0.003,0.006,0.004,0.003,0.0,0.001,-0.001,0.002,0.0,-0.007,-0.018,-0.014,-0.017,-0.023,-0.015,-0.001,0.002,-0.009,0.003,-0.016,-0.011,0.002,0.012,0.001,0.016,0.013,-0.009,-0.023,0.0,0.0,-0.023,-0.026,-0.018,-0.042,-0.051,-0.044,-0.045,-0.006,0.007,-0.009,-0.003,0.004,-0.007,-0.013,-0.01,-0.015,-0.029,-0.058,-0.031,-0.001,0.02,0.034,0.052,0.037,0.016,-0.006,-0.003,-0.008,-0.015,-0.019,-0.002,-0.005,-0.006,-0.018,-0.006,-0.028,-0.009,-0.005,0.013,0.016,0.032,0.003,0.001,-0.007,-0.006,-0.007,0.019,0.016,0.02,0.018,0.022,0.0,0.01,0.005,0.005,-0.001,-0.003,-0.018,-0.016,-0.013,-0.008,0.013,0.026,0.027,0.019,0.022,0.006,-0.011,-0.014,-0.014,-0.014,-0.011,-0.003,-0.012,0.003,-0.006,-0.006,-0.002,0.008,0.009,0.009,0.006,0.001,0.005,-0.0,0.007,0.017,0.017,0.007,0.004,-0.003,-0.005,-0.001,-0.007,-0.006,-0.004,-0.015,-0.018,-0.009,-0.008,-0.018,-0.012,0.001,-0.004,-0.006,0.003,0.012,0.002,0.009,0.01,0.01,0.003,0.007,0.006,0.005,0.019,0.01,0.008,0.01,0.009,-0.008,-0.002,0.001,0.005,0.012,0.017,0.014,0.01,0.008,0.007,0.005,0.006,0.008,0.001,-0.007,-0.002,0.002,0.003,-0.0,0.006,0.01,0.006,0.015,0.02,0.023,0.012,0.017,0.002,-0.001,-0.011,-0.002,-0.009,0.002,0.004,0.01,0.003,0.006,-0.002,0.002,0.002,0.012,0.01,0.014,0.008,0.001,0.002,0.001,-0.003,-0.003,0.005,0.0,-0.005,-0.009,-0.008,-0.01,-0.008,-0.01,-0.006,-0.006,0.002,0.0,0.01,0.006,0.007,-0.002,-0.002,-0.006,-0.008,-0.009,-0.007,-0.007,-0.007,0.007,0.011,0.011,0.016,0.017,0.007,0.009,0.009,0.005,0.005,0.003,0.001,0.001,0.005,0.006,0.01,0.005,0.006,0.003,-0.001,0.001,0.005,0.001,-0.006,0.0,-0.001,-0.001,0.004,0.009,0.006,0.006,0.003,-0.0,-0.004,-0.006,-0.008,-0.007,-0.004,0.005,0.007,0.011,0.009,0.008,0.005,0.009,0.006,0.008,0.007,0.007,0.0,-0.0,-0.001,0.001,-0.001,0.004,0.002,0.003,0.004,0.005,0.004,0.011,0.009,0.007,0.011,0.013,0.008,0.01,0.002,-0.002,-0.002,-0.003,-0.006,-0.007,-0.017,-0.008,-0.011,-0.008,0.002,0.015,0.002,0.015,0.011,0.008,-0.001,0.003,0.001,0.004,0.001,0.006,0.005,0.002,0.002,-0.0,0.002,0.001,0.003,0.002,0.006,0.002,0.004,-0.002,-0.002,0.001,0.005,0.002,0.004,0.002,-0.005,-0.007,-0.01,-0.006,-0.003,0.003,0.005,0.008,0.008,0.008,0.008,0.006,0.005,0.001,-0.001,-0.001,-0.002,-0.004,-0.003,-0.001,-0.006,-0.011,-0.008,-0.012,-0.015,-0.008,-0.003,0.001,0.005,0.006,-0.005,-0.008,-0.01,-0.007,-0.006,0.007,0.009,0.012,0.009,0.007,0.003,0.001,-0.005,-0.005,-0.003,0.0,0.005,0.006,0.005,0.007,0.004,0.005,0.007,0.006,0.001,0.001,0.001,-0.001,-0.001,-0.002,-0.0,-0.002,-0.002,-0.004,-0.0,0.003,0.002,0.004,0.008,0.007,0.003,0.002,0.004,0.001,-0.002,-0.001,0.001,-0.003,-0.006,-0.004,-0.004,-0.005,-0.003,-0.002,-0.008,-0.008,-0.004,-0.006,-0.005,-0.005,-0.005,-0.014,-0.014,-0.005,-0.001,0.001,0.004,0.002,-0.008,-0.012,-0.018,-0.021,-0.01,-0.01,-0.005,0.002,0.013,0.006,0.01,0.009,0.009,-0.001,-0.002,-0.004,-0.001,0.0,0.006,0.008,0.008,0.01,0.005,0.003,0.004,0.001,0.001,-0.002,0.001,-0.002,-0.009,-0.013,-0.009,-0.011,-0.011,0.0,0.008,0.007,0.005,0.009,0.004,0.001,-0.004,0.001,0.002,0.003,0.007,0.012,0.01,0.007,0.007,0.004,0.003,0.006,0.004,0.004,0.004,0.002,-0.002,-0.002,-0.007,-0.007,-0.005,-0.003,0.001,0.006,0.003,0.001,-0.002,-0.007,-0.008,-0.009,-0.003,-0.005,0.0,0.007,0.009,0.003,0.008,0.004,-0.001,-0.0,0.004,0.003,0.005,0.003,0.001,0.0,-0.0,0.0,0.003,0.003,0.002,0.004,0.003,0.002,0.006,0.004,0.006,0.004,0.001,0.002,0.002,0.001,0.003,0.005,0.003,-0.003,-0.003,-0.006,-0.006,-0.006,0.003,0.001,0.002,0.003,0.006,0.003,0.007,0.006,0.006,0.0,-0.001,-0.005,-0.006,-0.01,-0.006,-0.003,-0.001,-0.002,-0.004,-0.0,-0.004,-0.008,-0.005,-0.001,-0.001,0.0,0.004,0.005,0.005,-0.003,-0.005,-0.004,-0.001,-0.002,-0.001,-0.002,-0.001,-0.006,-0.002,0.002,0.003,-0.001,0.002,0.002,0.002,0.004,0.007,0.009,0.005,0.002,0.001,0.0,0.002,0.0,0.002,0.001,0.001,-0.005,-0.003,-0.005,-0.003,-0.006,-0.006,-0.008,-0.008,-0.005,-0.006,-0.004,-0.004,-0.004,-0.006,-0.008,-0.007,0.001,0.004,0.002,0.01,0.009,0.007,0.002,0.0,-0.002,-0.002,-0.003,0.0,-0.001,0.001,0.004,0.003,-0.0,-0.0,-0.002,-0.003,-0.003,-0.004,0.001,0.001,-0.001,0.002,0.005,0.004,0.002,0.001,-0.001,0.001,0.003,0.005,0.007,0.007,0.003,0.002,-0.002,-0.005,-0.009,-0.008,-0.009,-0.006,-0.008,-0.002,0.002,0.002,0.002,0.003,-0.001,-0.003,-0.004,-0.009,-0.008,-0.007,-0.005,-0.003,0.002,0.001,0.002,-0.004,-0.005,-0.004,-0.003,-0.005,-0.002,-0.002,-0.001,0.002,0.006,0.005,0.005,0.004,-0.0,0.0,0.0,-0.003,-0.004,-0.001,-0.002,-0.005,-0.003,-0.003,-0.005,-0.008,-0.005,-0.003,-0.003,-0.001,0.0,0.0,0.004,0.003,0.004,0.008,0.009,0.002,0.001,-0.001,-0.006,-0.012,-0.011,-0.006,-0.008,-0.007,-0.005,-0.002,-0.005,0.002,0.003,0.004,0.001,-0.003,-0.005,-0.005,-0.005,-0.007,-0.008,-0.021,-0.021,-0.037,-0.023,-0.017,0.002,0.002,0.023,0.012,0.014,-0.001,-0.004,-0.008,-0.002,-0.005,-0.001,0.003,0.009,0.006,0.01,0.019,0.012,0.0,0.004,0.004,-0.008,-0.003,0.002,-0.001,-0.005,0.005,0.005,0.003,-0.001,-0.011,-0.014,-0.012,-0.009,-0.01,0.0,-0.003,-0.011,-0.012,-0.009,-0.004,-0.004,0.01,0.012,0.014,0.01,0.01,0.007,0.004,-0.002,0.001,0.011,0.004,0.008,0.019,0.015,0.005,0.004,0.004,-0.002,-0.001,0.002,0.001,-0.003,-0.0,-0.003,-0.002,-0.002,-0.002,-0.008,-0.008,-0.013,-0.006,-0.006,-0.001,-0.002,0.007,0.01,0.011,0.01,0.015,0.006,-0.002,0.001,-0.005,-0.007,-0.007,-0.004,-0.007,-0.007,-0.002,-0.0,0.004,0.006,0.008,0.004,-0.001,-0.002,0.005,0.006,0.002,0.007,0.008,0.002,0.002,0.005,0.002,0.003,0.003,0.006,0.007,0.01,0.008,0.006,0.004,0.003,0.001,0.002,0.006,0.005,0.007,0.008,0.009,0.004,0.003,-0.004,0.001,-0.003,-0.002,0.002,0.007,0.0,0.003,-0.0,-0.001,-0.001,0.003,0.005,0.005,-0.003,0.001,0.0,-0.003,-0.002,0.01,0.007,0.003,0.003,0.004,-0.003,-0.004,-0.006,-0.005,-0.003,-0.004,-0.006,-0.003,-0.004,-0.005,-0.005,-0.005,-0.004,-0.005,-0.011,-0.009,-0.001,-0.005,-0.003,0.003,0.006,-0.001,0.001,-0.001,-0.002,-0.004,-0.001,-0.003,0.001,0.001,0.001,-0.004,-0.001,-0.005,-0.009,-0.008,-0.004,-0.012,-0.014,-0.013,-0.02,-0.017,-0.003,-0.004,-0.005,-0.0,-0.0,-0.005,-0.002,-0.003,0.002,-0.004,-0.007,-0.008,0.001,-0.0,0.002,0.006,0.012,0.004,0.006,0.008,0.008,0.006,0.001,-0.002,-0.009,-0.012,-0.015,-0.011,-0.004,0.003,0.007,0.011,0.014,0.004,-0.004,-0.008,-0.01,-0.008,-0.007,0.001,0.004,0.007,-0.001,-0.002,-0.005,-0.007,-0.005,0.008,0.015,0.013,0.011,0.006,0.003,0.004,0.006,0.012,0.011,0.007,0.002,0.001,-0.003,0.002,-0.001,0.0,0.003,0.004,-0.003,-0.002,-0.004,-0.002,-0.007,-0.004,-0.005,-0.003,-0.007,-0.002,0.004,0.005,0.007,0.012,0.017,0.012,0.011,0.008,0.006,-0.001,-0.002,0.001,-0.004,-0.004,-0.005,-0.007,-0.008,-0.004,-0.006,-0.006,-0.002,-0.001,-0.001,-0.0,0.003,0.004,0.001,0.004,0.004,-0.001,-0.003,-0.007,-0.01,-0.006,-0.006,-0.005,-0.0,-0.0,0.002,0.003,0.008,0.003,0.002,-0.004,-0.004,-0.007,-0.008,-0.008,-0.003,-0.003,-0.004,0.004,0.005,-0.001,0.001,0.005,-0.001,0.005,0.005,0.004,-0.001,0.004,0.004,0.007,0.006,0.005,0.004,0.001,0.003,0.005,0.007,0.005,0.005,-0.0,-0.0,0.004,0.007,0.005,0.005,0.001,-0.003,-0.005,-0.003,0.0,0.002,0.001,0.002,0.001,-0.001,-0.0,0.001,-0.003,-0.006,-0.005,-0.008,-0.007,-0.003,-0.002,-0.003,-0.001,-0.005,-0.006,-0.004,-0.005,-0.004,-0.003,-0.004,-0.008,-0.007,-0.004,-0.003,-0.001,0.004,0.005,0.001,-0.0,-0.003,0.002,0.005,0.005,0.007,0.008,-0.002,-0.005,-0.005,-0.005,-0.006,-0.005,-0.006,-0.006,-0.008,-0.003,-0.0,0.003,0.002,-0.0,-0.0,-0.005,-0.005,-0.003,0.004,0.002,0.003,-0.0,-0.008,-0.007,-0.012,-0.008,-0.004,0.005,0.003,0.008,0.007,0.001,0.002,0.004,0.001,0.002,0.004,0.005,-0.0,0.001,-0.001,-0.003,-0.006,-0.003,-0.002,0.0,0.005,0.006,0.005,0.006,0.005,0.003,-0.001,-0.006,-0.01,-0.009,-0.009,-0.012,-0.007,-0.007,-0.01,-0.016,-0.014,-0.01,-0.009,-0.009,-0.001,-0.005,-0.009,-0.009,-0.013,-0.01,-0.003,-0.002,0.002,0.005,-0.007,-0.009,-0.008,-0.01,-0.009,0.001,0.007,-0.001,0.007,0.008,0.008,0.004,0.008,0.008,0.008,0.004,0.006,0.008,0.003,-0.001,-0.001,0.0,-0.004,-0.003,-0.005,-0.003,-0.001,0.006,0.008,0.013,0.014,0.008,0.006,0.005,-0.0,-0.002,0.002,0.003,-0.001,-0.002,-0.002,-0.006,-0.009,0.002,0.006,0.007,0.01,0.014,0.009,0.009,0.007,0.003,-0.0,-0.002,0.001,0.008,0.006,0.001,0.003,0.001,-0.005,-0.005,-0.001,-0.008,-0.005,-0.004,-0.005,-0.003,0.0,-0.003,-0.002,0.002,0.001,0.007,0.01,0.013,0.009,0.008,0.007,0.005,-0.002,-0.002,-0.004,-0.003,-0.007,-0.005,-0.002,-0.0,-0.002,-0.002,-0.003,-0.005,-0.006,-0.007,-0.008,-0.004,0.003,0.008,0.001,0.003,0.002,-0.005,-0.011,-0.005,-0.003,-0.001,-0.004,-0.004,-0.007,-0.004,-0.006,-0.001,0.002,-0.001,-0.003,-0.003,-0.003,-0.003,0.002,0.003,0.004,0.004,0.004,0.003,0.003,-0.003,-0.001,-0.001,-0.003,-0.004,-0.004,-0.005,-0.006,-0.003,-0.002,0.002,-0.002,-0.003,-0.005,-0.003,-0.006,-0.006,-0.004,-0.003,-0.007,-0.005,-0.001,-0.007,-0.004,-0.004,0.002,0.002,0.007,0.006,0.007,0.0,0.001,-0.0,-0.008,-0.004,-0.002,-0.003,-0.001,0.001,-0.002,0.001,-0.001,-0.004,0.001,-0.002,-0.009,-0.006,-0.003,-0.007,-0.005,-0.002,0.002,0.003,0.008,0.01,0.012,0.009,0.006,0.01,0.01,0.01,0.008,0.015,0.007,0.005,0.007,0.005,-0.002,-0.001,0.003,-0.002,-0.005,0.0,0.004,0.001,-0.0,0.005,0.001,-0.003,-0.0,0.0,0.005,0.008,0.009,0.008,0.007,0.0,0.002,0.0,0.001,0.002,0.003,-0.003,-0.006,-0.008,-0.004,-0.005,-0.002,-0.001,0.002,-0.002,-0.005,-0.005,-0.001,-0.003,-0.003,0.007,0.01,0.01,0.012,0.012,0.006,0.0,0.002,-0.002,-0.002,-0.001,-0.003,-0.006,-0.006,-0.004,-0.004,-0.002,0.001,0.003,0.002,0.002,0.006,0.003,0.006,0.008,0.008,0.004,0.008,0.007,0.007,0.006,0.008,0.003,0.0,-0.003,-0.002,-0.008,-0.007,-0.004,-0.003,-0.001,0.001,-0.001,0.0,0.001,-0.003,-0.001,0.005,0.003,0.007,0.011,0.011,0.005,0.007,0.004,0.007,0.004,0.009,0.005,0.007,0.003,0.002,-0.002,-0.007,-0.011,-0.012,-0.008,-0.013,-0.004,0.002,0.003,0.0,0.003,-0.004,-0.009,-0.008,-0.008,-0.002,-0.008,-0.009,-0.014,-0.009,-0.01,0.009,0.012,0.015,0.014,0.003,0.003,0.002,-0.003,-0.011,0.002,-0.013,-0.02,-0.014,-0.014,-0.014,-0.014,-0.0,-0.005,0.006,0.01,0.013,0.008,0.01,0.001,-0.005,-0.005,-0.007,-0.003,-0.003,-0.005,-0.006,-0.001,0.002,0.016,0.014,0.016,0.011,0.005,-0.005,-0.012,-0.015,-0.01,-0.012,-0.01,-0.008,-0.006,-0.011,-0.006,-0.016,-0.014,-0.013,-0.003,-0.005,0.007,0.013,0.016,0.006,0.008,0.001,-0.007,-0.014,-0.009,-0.005,-0.0,0.001,0.003,0.0,-0.007,-0.008,0.001,-0.002,-0.001,0.006,0.006,-0.001,0.003,0.003,-0.007,-0.007,-0.008,-0.004,0.001,0.007,0.006,0.008,0.007,-0.002,-0.004,0.001,0.007,0.007,0.011,0.012,0.007,0.005,0.002,0.002,0.001,-0.001,-0.002,-0.005,-0.005,-0.006,-0.007,-0.012,-0.006,-0.006,-0.006,-0.001,0.008,0.01,0.008,0.013,0.012,0.005,0.001,-0.001,-0.007,-0.003,-0.001,0.002,0.01,0.014,0.009,0.01,0.006,0.004,0.002,0.001,0.005,0.003,-0.001,-0.002,0.002,0.003,0.007,0.006,0.007,0.002,0.002,0.003,0.009,0.005,0.006,0.003,-0.0,-0.004,-0.002,-0.001,0.0,-0.003,-0.005,-0.005,-0.006,-0.01,-0.006,-0.007,-0.002,-0.004,-0.006,-0.006,0.002,-0.003,-0.004,0.0,-0.001,-0.001,0.001,0.002,0.001,0.004,-0.002,0.002,0.002,0.003,0.0,0.002,-0.004,0.001,-0.003,-0.003,-0.004,-0.0,-0.006,-0.003,-0.003,-0.004,-0.002,0.002,0.004,0.002,0.005,-0.001,-0.006,-0.007,-0.008,-0.013,-0.012,-0.011,-0.007,-0.002,0.001,0.007,0.006,0.002,0.0,0.0,-0.009,-0.003,-0.004,-0.008,-0.008,-0.005,-0.009,-0.007,-0.008,-0.006,-0.008,-0.013,-0.013,-0.002,0.005,0.006,0.01,0.004,0.002,-0.002,-0.003,0.001,0.005,0.0,-0.004,0.004,0.003,0.008,0.009,0.004,-0.003,-0.005,-0.014,-0.014,-0.01,-0.012,-0.009,-0.001,0.0,0.01,0.016,0.016,0.016,0.016,0.01,-0.001,-0.004,-0.007,-0.008,-0.008,-0.001,0.001,0.003,0.001,-0.001,-0.0,-0.001,-0.009,-0.007,0.004,0.003,0.006,0.006,0.001,-0.008,-0.003,-0.005,-0.002,0.003,0.005,0.002,0.005,0.007,0.006,-0.002,-0.001,-0.01,-0.013,-0.014,-0.009,-0.003,-0.002,0.0,-0.003,0.005,-0.003,-0.0,-0.002,0.002,-0.005,-0.002,-0.006,-0.007,-0.006,-0.005,-0.007,-0.001,0.0,-0.006,-0.007,-0.009,-0.014,-0.013,-0.01,-0.014,-0.014,-0.006,-0.01,-0.011,-0.008,-0.007,-0.009,-0.003,-0.002,0.002,0.005,0.014,0.013,0.006,0.006,0.011,0.001,-0.001,0.004,0.001,-0.004,0.002,0.006,0.011,0.009,0.015,0.008,0.002,0.002,0.0,-0.002,0.007,0.013,0.024,0.033,0.028,0.021,0.016,0.01,0.002,-0.002,-0.008,-0.004,0.005,0.005,0.009,0.016,0.008,-0.005,0.0,-0.0,0.001,0.001,0.004,-0.008,-0.008,-0.013,-0.006,-0.001,0.006,0.012,0.02,0.015,0.011,0.011,0.006,0.002,0.002,-0.005,0.001,0.003,0.002,0.004,0.007,-0.003,-0.007,-0.01,-0.008,-0.01,0.003,0.001,0.006,0.0,0.003,-0.009,-0.008,-0.012,-0.008,-0.01,-0.006,-0.004,-0.004,-0.003,-0.004,-0.001,0.002,0.006,0.006,0.008,0.01,0.005,-0.005,-0.003,-0.008,-0.011,-0.007,0.0,0.002,0.009,0.005,0.008,0.002,-0.004,-0.003,0.003,-0.0,0.008,0.013,0.007,0.003,0.002,0.003,0.005,0.009,0.01,0.013,0.009,0.009,0.009,0.007,0.004,0.005,0.001,0.0,0.001,-0.0,0.001,-0.001,-0.002,0.001,0.003,0.001,0.003,0.005,-0.0,0.003,0.002,0.005,0.004,0.008,0.003,0.003,-0.005,-0.003,-0.006,-0.005,-0.005,0.003,0.002,0.0,0.002,0.006,0.003,0.005,0.008,-0.001,-0.004,-0.01,-0.011,-0.008,-0.003,-0.004,0.003,0.005,0.004,0.006,0.002,0.002,0.003,-0.002,-0.001,0.005,0.003,0.003,0.008,0.009,0.007,0.005,0.003,0.004,0.005,0.007,0.008,0.009,0.007,0.004,0.0,0.001,0.001,0.001,0.003,-0.002,-0.006,-0.008,-0.001,-0.002,-0.0,-0.002,-0.008,-0.014,-0.011,-0.011,-0.004,0.006,0.007,0.004,0.005,0.005,0.006,-0.003,-0.0,-0.006,-0.004,-0.01,0.0,-0.002,0.004,0.001,-0.002,-0.006,-0.011,-0.008,-0.007,-0.007,-0.006,-0.002,-0.004,-0.002,0.005,0.004,0.007,0.01,0.005,0.01,0.009,0.007,0.005,0.007,0.001,0.003,0.006,0.006,0.007,0.007,0.005,-0.0,0.003,0.006,0.005,0.006,0.006,-0.001,-0.003,-0.003,-0.005,-0.003,-0.001,-0.001,-0.0,0.001,0.004,0.009,0.008,0.01,0.009,0.005,0.005,0.007,0.002,-0.001,-0.003,-0.005,-0.01,-0.005,-0.003,-0.003,-0.007,-0.004,-0.007,-0.003,-0.003,0.004,0.003,-0.002,-0.002,-0.006,-0.008,-0.007,-0.001,-0.002,0.005,0.006,0.005,0.004,0.003,0.004,-0.002,-0.003,-0.001,-0.002,-0.004,-0.003,-0.004,-0.001,-0.001,-0.003,-0.0,0.005,0.003,0.002,0.004,0.005,0.007,0.003,-0.0,0.003,0.0,-0.001,0.004,0.008,0.007,0.009,0.007,0.001,-0.018,-0.017,-0.021,-0.018,-0.013,0.005,0.004,0.007,0.004,-0.002,-0.003,-0.005,-0.004,-0.003,0.001,0.001,-0.001,-0.003,-0.004,-0.004,-0.004,-0.001,-0.003,-0.003,-0.002,-0.002,0.001,0.003,0.004,0.003,0.006,0.004,0.005,0.004,0.001,-0.002,-0.001,0.002,0.005,0.009,0.01,0.007,0.005,0.001,-0.001,-0.002,-0.0,0.001,-0.001,0.001,0.002,0.002,0.002,0.006,0.004,0.004,0.006,0.004,0.002,0.001,0.001,0.001,0.001,0.003,0.003,0.004,0.001,0.005,0.006,0.009,0.007,0.007,0.004,0.001,-0.001,0.002,0.003,0.002,0.007,0.006,0.006,0.006,0.007,0.003,0.007,0.004,0.004,0.003,0.003,-0.001,-0.004,-0.005,-0.006,-0.006,-0.003,-0.0,0.007,0.008,0.008,0.005,0.004,0.0,0.0,0.001,0.002,0.001,-0.001,-0.001,-0.002,-0.004,0.0,-0.0,-0.001,-0.001,-0.002,-0.006,-0.008,-0.006,-0.005,-0.007,-0.0,-0.002,-0.005,-0.005,-0.004,-0.005,0.001,0.007,0.006,0.01,0.005,0.002,-0.001,-0.005,-0.007,-0.005,-0.003,-0.004,0.002,0.001,0.001,-0.001,0.003,-0.001,-0.0,-0.0,0.001,-0.003,0.001,0.007,0.007,0.007,0.009,0.008,0.003,0.007,0.006,0.006,0.007,0.007,0.002,0.0,0.002,0.001,0.001,0.003,0.008,0.004,0.005,0.005,0.002,0.006,0.011,0.009,0.007,0.01,0.004,-0.004,-0.007,-0.001,-0.005,-0.009,-0.008,0.004,0.001,0.004,0.008,0.012,0.006,0.006,0.006,0.007,0.003,-0.001,-0.003,-0.004,-0.004,-0.003,-0.0,-0.001,0.001,0.002,0.002,0.001,-0.0,-0.003,-0.007,-0.005,-0.002,-0.0,-0.001,0.003,-0.001,-0.003,0.001,0.001,-0.001,0.001,0.003,-0.001,-0.003,-0.0,0.002,0.0,-0.001,-0.001,-0.001,0.001,0.001,0.003,0.007,0.003,-0.002,0.001,0.002,0.001,-0.002,-0.004,-0.008,-0.009,-0.007,-0.001,0.006,0.005,0.006,0.005,0.005,-0.005,-0.005,-0.008,-0.006,-0.013,-0.008,-0.01,-0.016,-0.017,-0.01,-0.007,-0.001,0.003,-0.0,-0.008,-0.011,-0.017,-0.01,-0.011,-0.007,-0.006,-0.007,-0.004,-0.0,-0.004,-0.0,0.003,-0.0,-0.004,0.005,0.006,0.005,0.006,0.011,0.007,0.006,0.005,0.002,0.003,0.005,0.004,0.009,0.008,0.004,0.005,0.004,0.003,0.007,0.005,0.003,0.006,0.0,-0.002,0.001,0.004,0.002,0.003,-0.001,-0.002,-0.013,-0.009,-0.004,-0.005,-0.005,-0.001,-0.003,-0.009,-0.0,-0.003,0.001,0.004,0.006,0.004,0.002,0.001,-0.004,-0.007,-0.009,-0.0,-0.001,-0.004,0.001,-0.001,-0.003,0.001,0.01,0.008,0.009,0.01,0.003,0.001,0.001,0.005,-0.0,0.002,0.007,0.011,0.007,0.007,0.018,0.011,0.001,-0.0,0.003,-0.001,-0.001,0.0,0.003,0.005,-0.001,-0.007,0.0,0.003,-0.004,0.003,0.01,0.01,0.009,0.011,0.002,-0.004,-0.006,-0.009,-0.009,-0.004,0.007,0.005,0.004,0.006,0.001,-0.007,-0.0,0.004,0.005,0.007,0.01,0.002,-0.0,-0.002,-0.003,-0.009,-0.005,-0.005,-0.002,-0.001,0.001,0.0,-0.003,-0.006,-0.004,-0.003,-0.003,0.005,0.013,0.013,0.015,0.014,0.009,0.006,0.005,0.004,0.006,0.004,0.002,0.003,0.005,0.003,0.002,0.005,0.005,-0.001,-0.001,0.004,0.002,0.0,0.006,0.005,-0.005,-0.006,-0.005,-0.009,-0.004,0.003,0.007,0.004,0.004,0.003,0.002,-0.002,0.001,0.002,-0.0,0.002,-0.003,-0.007,-0.006,-0.007,-0.004,0.005,0.007,0.01,0.009,0.008,0.004,0.004,-0.002,-0.004,-0.011,-0.013,-0.009,-0.013,-0.005,0.004,0.005,0.0,0.006,0.004,0.004,0.003,0.002,0.003,-0.003,-0.009,-0.009,-0.004,-0.006,-0.0,0.004,0.006,0.002,0.007,0.004,0.004,0.001,0.001,-0.001,-0.002,-0.004,-0.002,-0.001,-0.004,-0.007,-0.005,-0.008,-0.01,-0.009,0.0,0.005,0.006,0.008,0.008,0.006,0.004,0.005,0.007,0.007,0.005,0.002,-0.001,-0.0,0.002,0.001,0.003,0.005,0.003,0.001,0.001,0.001,0.004,0.007,0.008,0.005,0.003,0.001,-0.002,-0.001,0.001,0.003,0.006,0.006,0.006,0.01,0.006,0.0,-0.001,-0.001,-0.004,-0.001,-0.001,0.0,-0.0,0.001,-0.004,-0.001,-0.001,-0.001,-0.004,-0.001,-0.0,-0.007,-0.002,0.002,0.004,0.003,0.004,0.002,-0.005,-0.01,-0.008,-0.005,-0.008,0.002,0.002,-0.004,-0.006,-0.004,-0.006,0.001,0.007,0.008,0.005,0.006,0.003,0.004,0.005,0.007,0.004,0.004,0.001,0.001,0.003,0.002,-0.0,0.003,0.002,-0.001,-0.0,0.002,0.001,0.0,0.0,-0.007,-0.007,-0.005,-0.008,-0.008,0.001,0.001,0.003,0.008,0.009,0.008,0.006,0.002,0.003,0.005,0.004,0.004,0.005,0.004,0.001,0.002,0.001,0.002,0.001,0.002,-0.0,0.004,-0.001,-0.001,-0.003,-0.005,-0.006,-0.002,-0.005,0.001,0.005,0.004,0.001,0.004,0.001,-0.001,0.001,0.003,0.005,0.004,0.005,0.004,0.003,0.001,0.003,0.003,0.002,0.003,0.006,0.005,0.004,0.007,0.008,0.004,0.001,0.006,0.003,-0.001,0.0,0.0,-0.005,-0.004,0.001,0.002,0.0,0.001,0.005,0.003,-0.001,0.003,0.005,-0.0,-0.007,-0.001,-0.005,-0.007,-0.008,0.0,-0.001,0.001,-0.0,0.0,-0.004,-0.0,0.001,0.001,0.001,0.005,-0.001,-0.0,-0.002,-0.001,-0.018,-0.022,-0.023,-0.015,-0.015,0.003,-0.002,-0.012,-0.043,-0.027,-0.046,-0.068,-0.034,-0.038,-0.042,-0.048,-0.012,-0.042,-0.023,-0.014,0.022,0.025,0.018,0.032,0.009,-0.011,-0.015,-0.011,-0.002,0.009,0.02,0.014,0.025,0.015,0.006,-0.002,0.003,0.0,0.002,0.002,-0.007,-0.002,0.006,0.006,0.002,0.009,0.003,-0.005,-0.012,-0.0,0.001,-0.004,-0.003,0.002,-0.007,0.005,0.007,0.009,0.01,0.012,0.011,0.012,0.016,0.01,0.013,0.007,0.013,0.011,0.015,0.016,0.019,0.012,0.004,-0.002,-0.005,-0.009,-0.003,0.003,0.008,0.006,0.005,-0.002,-0.0,-0.006,0.001,-0.002,0.004,0.0,0.006,0.006,0.005,0.007,0.006,0.007,-0.0,0.006,0.004,0.003,0.006,0.011,0.008,0.005,0.004,-0.001,0.0,-0.0,0.002,0.005,0.001,-0.003,-0.006,-0.005,-0.002,-0.0,0.001,0.002,-0.001,-0.007,-0.003,-0.007,-0.0,-0.002,0.002,0.0,0.005,0.0,-0.0,-0.002,0.001,-0.006,-0.0,0.002,-0.0,-0.002,0.001,-0.002,-0.006,-0.005,-0.002,0.0,-0.003,0.002,-0.0,-0.007,-0.006,-0.008,-0.006,-0.003,-0.005,-0.008,-0.002,-0.003,-0.006,0.003,0.004,0.002,0.005,0.007,0.005,0.008,0.007,0.001,0.002,0.004,0.002,0.006,0.006,0.005,-0.002,-0.01,-0.01,-0.015,-0.011,-0.004,0.011,0.008,0.02,0.019,0.013,0.003,0.007,0.005,0.003,0.004,0.008,0.005,0.006,0.005,0.007,0.007,0.003,0.003,0.003,0.005,0.006,0.008,0.004,0.002,0.004,0.003,0.002,0.004,0.009,0.005,0.004,0.002,0.0,-0.0,0.002,0.003,0.006,0.004,0.003,0.002,0.004,0.009,0.007,0.008,0.004,0.003,-0.007,-0.002,-0.005,-0.004,-0.008,-0.006,-0.008,-0.008,-0.001,-0.004,0.0,0.003,0.007,-0.0,0.007,0.004,0.002,-0.002,0.0,-0.001,0.002,-0.0,0.001,-0.011,-0.007,-0.008,-0.012,-0.015,-0.004,-0.006,-0.008,0.001,0.009,0.0,-0.001,0.003,0.004,-0.002,0.007,0.005,0.007,-0.0,0.004,0.0,-0.001,-0.008,-0.002,-0.003,0.001,0.006,0.008,0.003,0.005,0.003,0.001,0.003,0.004,0.002,0.003,0.005,0.004,0.006,0.003,0.001,-0.002,-0.0,-0.001,-0.002,0.002,0.001,-0.003,-0.002,-0.003,-0.002,-0.0,0.005,0.004,0.009,0.0,0.001,-0.0,0.002,-0.0,0.005,0.003,0.001,0.002,0.0,0.002,0.003,0.005,0.004,0.008,0.009,0.009,0.008,0.005,0.002,0.001,-0.001,-0.001,0.0,-0.001,-0.003,-0.001,-0.001,-0.002,-0.001,0.002,-0.002,-0.003,-0.003,-0.003,-0.006,0.0,-0.001,-0.004,0.0,-0.001,-0.0,0.002,0.005,0.001,0.001,-0.005,-0.004,-0.004,-0.002,-0.002,0.003,-0.001,0.001,-0.001,-0.005,-0.006,-0.002,-0.007,-0.006,0.002,0.001,-0.002,0.001,-0.001,-0.003,-0.006,-0.007,-0.009,-0.006,-0.005,-0.003,0.004,0.007,0.003,0.004,0.004,-0.002,-0.002,-0.004,-0.006,-0.003,-0.009,-0.007,-0.004,-0.001,-0.003,0.003,-0.003,-0.005,-0.014,-0.011,-0.005,0.0,0.003,0.009,-0.0,-0.002,-0.005,-0.001,-0.006,0.001,-0.001,-0.001,-0.0,0.003,0.005,0.005,0.007,0.003,-0.003,-0.005,-0.01,-0.015,-0.01,-0.008,-0.008,-0.004,-0.005,-0.006,-0.001,-0.005,-0.001,0.003,0.0,0.001,0.008,0.003,-0.001,-0.005,-0.007,-0.009,-0.008,-0.002,0.003,0.006,-0.002,0.001,-0.003,-0.007,-0.002,0.006,0.008,0.011,0.014,0.004,0.005,0.001,-0.001,-0.001,0.004,-0.001,-0.004,-0.002,-0.004,-0.006,-0.003,-0.0,-0.002,-0.001],\"yaxis\":\"y\",\"type\":\"scattergl\"}],                        {\"template\":{\"data\":{\"bar\":[{\"error_x\":{\"color\":\"#2a3f5f\"},\"error_y\":{\"color\":\"#2a3f5f\"},\"marker\":{\"line\":{\"color\":\"#E5ECF6\",\"width\":0.5},\"pattern\":{\"fillmode\":\"overlay\",\"size\":10,\"solidity\":0.2}},\"type\":\"bar\"}],\"barpolar\":[{\"marker\":{\"line\":{\"color\":\"#E5ECF6\",\"width\":0.5},\"pattern\":{\"fillmode\":\"overlay\",\"size\":10,\"solidity\":0.2}},\"type\":\"barpolar\"}],\"carpet\":[{\"aaxis\":{\"endlinecolor\":\"#2a3f5f\",\"gridcolor\":\"white\",\"linecolor\":\"white\",\"minorgridcolor\":\"white\",\"startlinecolor\":\"#2a3f5f\"},\"baxis\":{\"endlinecolor\":\"#2a3f5f\",\"gridcolor\":\"white\",\"linecolor\":\"white\",\"minorgridcolor\":\"white\",\"startlinecolor\":\"#2a3f5f\"},\"type\":\"carpet\"}],\"choropleth\":[{\"colorbar\":{\"outlinewidth\":0,\"ticks\":\"\"},\"type\":\"choropleth\"}],\"contour\":[{\"colorbar\":{\"outlinewidth\":0,\"ticks\":\"\"},\"colorscale\":[[0.0,\"#0d0887\"],[0.1111111111111111,\"#46039f\"],[0.2222222222222222,\"#7201a8\"],[0.3333333333333333,\"#9c179e\"],[0.4444444444444444,\"#bd3786\"],[0.5555555555555556,\"#d8576b\"],[0.6666666666666666,\"#ed7953\"],[0.7777777777777778,\"#fb9f3a\"],[0.8888888888888888,\"#fdca26\"],[1.0,\"#f0f921\"]],\"type\":\"contour\"}],\"contourcarpet\":[{\"colorbar\":{\"outlinewidth\":0,\"ticks\":\"\"},\"type\":\"contourcarpet\"}],\"heatmap\":[{\"colorbar\":{\"outlinewidth\":0,\"ticks\":\"\"},\"colorscale\":[[0.0,\"#0d0887\"],[0.1111111111111111,\"#46039f\"],[0.2222222222222222,\"#7201a8\"],[0.3333333333333333,\"#9c179e\"],[0.4444444444444444,\"#bd3786\"],[0.5555555555555556,\"#d8576b\"],[0.6666666666666666,\"#ed7953\"],[0.7777777777777778,\"#fb9f3a\"],[0.8888888888888888,\"#fdca26\"],[1.0,\"#f0f921\"]],\"type\":\"heatmap\"}],\"heatmapgl\":[{\"colorbar\":{\"outlinewidth\":0,\"ticks\":\"\"},\"colorscale\":[[0.0,\"#0d0887\"],[0.1111111111111111,\"#46039f\"],[0.2222222222222222,\"#7201a8\"],[0.3333333333333333,\"#9c179e\"],[0.4444444444444444,\"#bd3786\"],[0.5555555555555556,\"#d8576b\"],[0.6666666666666666,\"#ed7953\"],[0.7777777777777778,\"#fb9f3a\"],[0.8888888888888888,\"#fdca26\"],[1.0,\"#f0f921\"]],\"type\":\"heatmapgl\"}],\"histogram\":[{\"marker\":{\"pattern\":{\"fillmode\":\"overlay\",\"size\":10,\"solidity\":0.2}},\"type\":\"histogram\"}],\"histogram2d\":[{\"colorbar\":{\"outlinewidth\":0,\"ticks\":\"\"},\"colorscale\":[[0.0,\"#0d0887\"],[0.1111111111111111,\"#46039f\"],[0.2222222222222222,\"#7201a8\"],[0.3333333333333333,\"#9c179e\"],[0.4444444444444444,\"#bd3786\"],[0.5555555555555556,\"#d8576b\"],[0.6666666666666666,\"#ed7953\"],[0.7777777777777778,\"#fb9f3a\"],[0.8888888888888888,\"#fdca26\"],[1.0,\"#f0f921\"]],\"type\":\"histogram2d\"}],\"histogram2dcontour\":[{\"colorbar\":{\"outlinewidth\":0,\"ticks\":\"\"},\"colorscale\":[[0.0,\"#0d0887\"],[0.1111111111111111,\"#46039f\"],[0.2222222222222222,\"#7201a8\"],[0.3333333333333333,\"#9c179e\"],[0.4444444444444444,\"#bd3786\"],[0.5555555555555556,\"#d8576b\"],[0.6666666666666666,\"#ed7953\"],[0.7777777777777778,\"#fb9f3a\"],[0.8888888888888888,\"#fdca26\"],[1.0,\"#f0f921\"]],\"type\":\"histogram2dcontour\"}],\"mesh3d\":[{\"colorbar\":{\"outlinewidth\":0,\"ticks\":\"\"},\"type\":\"mesh3d\"}],\"parcoords\":[{\"line\":{\"colorbar\":{\"outlinewidth\":0,\"ticks\":\"\"}},\"type\":\"parcoords\"}],\"pie\":[{\"automargin\":true,\"type\":\"pie\"}],\"scatter\":[{\"marker\":{\"colorbar\":{\"outlinewidth\":0,\"ticks\":\"\"}},\"type\":\"scatter\"}],\"scatter3d\":[{\"line\":{\"colorbar\":{\"outlinewidth\":0,\"ticks\":\"\"}},\"marker\":{\"colorbar\":{\"outlinewidth\":0,\"ticks\":\"\"}},\"type\":\"scatter3d\"}],\"scattercarpet\":[{\"marker\":{\"colorbar\":{\"outlinewidth\":0,\"ticks\":\"\"}},\"type\":\"scattercarpet\"}],\"scattergeo\":[{\"marker\":{\"colorbar\":{\"outlinewidth\":0,\"ticks\":\"\"}},\"type\":\"scattergeo\"}],\"scattergl\":[{\"marker\":{\"colorbar\":{\"outlinewidth\":0,\"ticks\":\"\"}},\"type\":\"scattergl\"}],\"scattermapbox\":[{\"marker\":{\"colorbar\":{\"outlinewidth\":0,\"ticks\":\"\"}},\"type\":\"scattermapbox\"}],\"scatterpolar\":[{\"marker\":{\"colorbar\":{\"outlinewidth\":0,\"ticks\":\"\"}},\"type\":\"scatterpolar\"}],\"scatterpolargl\":[{\"marker\":{\"colorbar\":{\"outlinewidth\":0,\"ticks\":\"\"}},\"type\":\"scatterpolargl\"}],\"scatterternary\":[{\"marker\":{\"colorbar\":{\"outlinewidth\":0,\"ticks\":\"\"}},\"type\":\"scatterternary\"}],\"surface\":[{\"colorbar\":{\"outlinewidth\":0,\"ticks\":\"\"},\"colorscale\":[[0.0,\"#0d0887\"],[0.1111111111111111,\"#46039f\"],[0.2222222222222222,\"#7201a8\"],[0.3333333333333333,\"#9c179e\"],[0.4444444444444444,\"#bd3786\"],[0.5555555555555556,\"#d8576b\"],[0.6666666666666666,\"#ed7953\"],[0.7777777777777778,\"#fb9f3a\"],[0.8888888888888888,\"#fdca26\"],[1.0,\"#f0f921\"]],\"type\":\"surface\"}],\"table\":[{\"cells\":{\"fill\":{\"color\":\"#EBF0F8\"},\"line\":{\"color\":\"white\"}},\"header\":{\"fill\":{\"color\":\"#C8D4E3\"},\"line\":{\"color\":\"white\"}},\"type\":\"table\"}]},\"layout\":{\"annotationdefaults\":{\"arrowcolor\":\"#2a3f5f\",\"arrowhead\":0,\"arrowwidth\":1},\"autotypenumbers\":\"strict\",\"coloraxis\":{\"colorbar\":{\"outlinewidth\":0,\"ticks\":\"\"}},\"colorscale\":{\"diverging\":[[0,\"#8e0152\"],[0.1,\"#c51b7d\"],[0.2,\"#de77ae\"],[0.3,\"#f1b6da\"],[0.4,\"#fde0ef\"],[0.5,\"#f7f7f7\"],[0.6,\"#e6f5d0\"],[0.7,\"#b8e186\"],[0.8,\"#7fbc41\"],[0.9,\"#4d9221\"],[1,\"#276419\"]],\"sequential\":[[0.0,\"#0d0887\"],[0.1111111111111111,\"#46039f\"],[0.2222222222222222,\"#7201a8\"],[0.3333333333333333,\"#9c179e\"],[0.4444444444444444,\"#bd3786\"],[0.5555555555555556,\"#d8576b\"],[0.6666666666666666,\"#ed7953\"],[0.7777777777777778,\"#fb9f3a\"],[0.8888888888888888,\"#fdca26\"],[1.0,\"#f0f921\"]],\"sequentialminus\":[[0.0,\"#0d0887\"],[0.1111111111111111,\"#46039f\"],[0.2222222222222222,\"#7201a8\"],[0.3333333333333333,\"#9c179e\"],[0.4444444444444444,\"#bd3786\"],[0.5555555555555556,\"#d8576b\"],[0.6666666666666666,\"#ed7953\"],[0.7777777777777778,\"#fb9f3a\"],[0.8888888888888888,\"#fdca26\"],[1.0,\"#f0f921\"]]},\"colorway\":[\"#636efa\",\"#EF553B\",\"#00cc96\",\"#ab63fa\",\"#FFA15A\",\"#19d3f3\",\"#FF6692\",\"#B6E880\",\"#FF97FF\",\"#FECB52\"],\"font\":{\"color\":\"#2a3f5f\"},\"geo\":{\"bgcolor\":\"white\",\"lakecolor\":\"white\",\"landcolor\":\"#E5ECF6\",\"showlakes\":true,\"showland\":true,\"subunitcolor\":\"white\"},\"hoverlabel\":{\"align\":\"left\"},\"hovermode\":\"closest\",\"mapbox\":{\"style\":\"light\"},\"paper_bgcolor\":\"white\",\"plot_bgcolor\":\"#E5ECF6\",\"polar\":{\"angularaxis\":{\"gridcolor\":\"white\",\"linecolor\":\"white\",\"ticks\":\"\"},\"bgcolor\":\"#E5ECF6\",\"radialaxis\":{\"gridcolor\":\"white\",\"linecolor\":\"white\",\"ticks\":\"\"}},\"scene\":{\"xaxis\":{\"backgroundcolor\":\"#E5ECF6\",\"gridcolor\":\"white\",\"gridwidth\":2,\"linecolor\":\"white\",\"showbackground\":true,\"ticks\":\"\",\"zerolinecolor\":\"white\"},\"yaxis\":{\"backgroundcolor\":\"#E5ECF6\",\"gridcolor\":\"white\",\"gridwidth\":2,\"linecolor\":\"white\",\"showbackground\":true,\"ticks\":\"\",\"zerolinecolor\":\"white\"},\"zaxis\":{\"backgroundcolor\":\"#E5ECF6\",\"gridcolor\":\"white\",\"gridwidth\":2,\"linecolor\":\"white\",\"showbackground\":true,\"ticks\":\"\",\"zerolinecolor\":\"white\"}},\"shapedefaults\":{\"line\":{\"color\":\"#2a3f5f\"}},\"ternary\":{\"aaxis\":{\"gridcolor\":\"white\",\"linecolor\":\"white\",\"ticks\":\"\"},\"baxis\":{\"gridcolor\":\"white\",\"linecolor\":\"white\",\"ticks\":\"\"},\"bgcolor\":\"#E5ECF6\",\"caxis\":{\"gridcolor\":\"white\",\"linecolor\":\"white\",\"ticks\":\"\"}},\"title\":{\"x\":0.05},\"xaxis\":{\"automargin\":true,\"gridcolor\":\"white\",\"linecolor\":\"white\",\"ticks\":\"\",\"title\":{\"standoff\":15},\"zerolinecolor\":\"white\",\"zerolinewidth\":2},\"yaxis\":{\"automargin\":true,\"gridcolor\":\"white\",\"linecolor\":\"white\",\"ticks\":\"\",\"title\":{\"standoff\":15},\"zerolinecolor\":\"white\",\"zerolinewidth\":2}}},\"xaxis\":{\"anchor\":\"y\",\"domain\":[0.0,1.0],\"title\":{\"text\":\"Date\"}},\"yaxis\":{\"anchor\":\"x\",\"domain\":[0.0,1.0],\"title\":{\"text\":\"log_return_close_SMA5\"}},\"legend\":{\"tracegroupgap\":0},\"title\":{\"text\":\"Close log return SMA5\"}},                        {\"responsive\": true}                    ).then(function(){\n",
              "                            \n",
              "var gd = document.getElementById('20ea9d9b-3b59-4d23-8120-e2762cffc59c');\n",
              "var x = new MutationObserver(function (mutations, observer) {{\n",
              "        var display = window.getComputedStyle(gd).display;\n",
              "        if (!display || display === 'none') {{\n",
              "            console.log([gd, 'removed!']);\n",
              "            Plotly.purge(gd);\n",
              "            observer.disconnect();\n",
              "        }}\n",
              "}});\n",
              "\n",
              "// Listen for the removal of the full notebook cells\n",
              "var notebookContainer = gd.closest('#notebook-container');\n",
              "if (notebookContainer) {{\n",
              "    x.observe(notebookContainer, {childList: true});\n",
              "}}\n",
              "\n",
              "// Listen for the clearing of the current output cell\n",
              "var outputEl = gd.closest('.output');\n",
              "if (outputEl) {{\n",
              "    x.observe(outputEl, {childList: true});\n",
              "}}\n",
              "\n",
              "                        })                };                            </script>        </div>\n",
              "</body>\n",
              "</html>"
            ]
          },
          "metadata": {}
        }
      ],
      "source": [
        "serie_log_return_SMA5= px.line(df_SMA5, x=df_SMA5.index, y=df_SMA5['log_return_close_SMA5'], title='Close log return SMA5')\n",
        "serie_log_return_SMA5.show()"
      ]
    },
    {
      "cell_type": "code",
      "execution_count": null,
      "id": "210bc562",
      "metadata": {
        "colab": {
          "base_uri": "https://localhost:8080/",
          "height": 434
        },
        "id": "210bc562",
        "outputId": "2d46b78a-ee89-493c-be91-b9be6ab8ac1e"
      },
      "outputs": [
        {
          "output_type": "execute_result",
          "data": {
            "text/plain": [
              "(array([2.000e+00, 4.000e+00, 8.000e+00, 2.100e+01, 2.770e+02, 2.421e+03,\n",
              "        9.070e+02, 5.400e+01, 6.000e+00, 1.000e+00]),\n",
              " array([-0.068, -0.056, -0.044, -0.032, -0.02 , -0.008,  0.004,  0.016,\n",
              "         0.028,  0.04 ,  0.052]),\n",
              " <a list of 10 Patch objects>)"
            ]
          },
          "metadata": {},
          "execution_count": 25
        },
        {
          "output_type": "display_data",
          "data": {
            "text/plain": [
              "<Figure size 576x396 with 1 Axes>"
            ],
            "image/png": "[encoded data removed]"
          },
          "metadata": {}
        }
      ],
      "source": [
        "plt.hist(df_SMA5['log_return_close_SMA5'])"
      ]
    },
    {
      "cell_type": "markdown",
      "id": "5000478e",
      "metadata": {
        "id": "5000478e"
      },
      "source": [
        "## Janelas Móveis"
      ]
    },
    {
      "cell_type": "code",
      "execution_count": null,
      "id": "3d482b66",
      "metadata": {
        "id": "3d482b66"
      },
      "outputs": [],
      "source": [
        "def window_generator(sequence, n_steps):\n",
        "    x, y = list(), list()\n",
        "    for i in range(len(sequence)):\n",
        "        \n",
        "        end_ix = i + n_steps\n",
        "\n",
        "        if end_ix > len(sequence)-1:\n",
        "            break\n",
        "        seq_x, seq_y = sequence[i:end_ix], sequence[end_ix]\n",
        "        x.append(seq_x)\n",
        "        y.append(seq_y)\n",
        "    return np.array(x), np.array(y)"
      ]
    },
    {
      "cell_type": "markdown",
      "id": "82639a08",
      "metadata": {
        "id": "82639a08"
      },
      "source": [
        "### Janelando a série de dados brutos"
      ]
    },
    {
      "cell_type": "code",
      "execution_count": null,
      "id": "5f517c1a",
      "metadata": {
        "colab": {
          "base_uri": "https://localhost:8080/",
          "height": 206
        },
        "id": "5f517c1a",
        "outputId": "173a2073-3627-4ba2-efb5-c80e79355966"
      },
      "outputs": [
        {
          "output_type": "execute_result",
          "data": {
            "text/plain": [
              "   Close_Log_Return_t2  Close_Log_Return_t1  Close_Log_Return\n",
              "0               -0.015               -0.010            -0.006\n",
              "1               -0.010               -0.006             0.004\n",
              "2               -0.006                0.004             0.001\n",
              "3                0.004                0.001             0.003\n",
              "4                0.001                0.003             0.002"
            ],
            "text/html": [
              "\n",
              "  <div id=\"df-f3b5bbbf-e1bb-49df-b423-7e8e78625c0d\">\n",
              "    <div class=\"colab-df-container\">\n",
              "      <div>\n",
              "<style scoped>\n",
              "    .dataframe tbody tr th:only-of-type {\n",
              "        vertical-align: middle;\n",
              "    }\n",
              "\n",
              "    .dataframe tbody tr th {\n",
              "        vertical-align: top;\n",
              "    }\n",
              "\n",
              "    .dataframe thead th {\n",
              "        text-align: right;\n",
              "    }\n",
              "</style>\n",
              "<table border=\"1\" class=\"dataframe\">\n",
              "  <thead>\n",
              "    <tr style=\"text-align: right;\">\n",
              "      <th></th>\n",
              "      <th>Close_Log_Return_t2</th>\n",
              "      <th>Close_Log_Return_t1</th>\n",
              "      <th>Close_Log_Return</th>\n",
              "    </tr>\n",
              "  </thead>\n",
              "  <tbody>\n",
              "    <tr>\n",
              "      <th>0</th>\n",
              "      <td>-0.015</td>\n",
              "      <td>-0.010</td>\n",
              "      <td>-0.006</td>\n",
              "    </tr>\n",
              "    <tr>\n",
              "      <th>1</th>\n",
              "      <td>-0.010</td>\n",
              "      <td>-0.006</td>\n",
              "      <td>0.004</td>\n",
              "    </tr>\n",
              "    <tr>\n",
              "      <th>2</th>\n",
              "      <td>-0.006</td>\n",
              "      <td>0.004</td>\n",
              "      <td>0.001</td>\n",
              "    </tr>\n",
              "    <tr>\n",
              "      <th>3</th>\n",
              "      <td>0.004</td>\n",
              "      <td>0.001</td>\n",
              "      <td>0.003</td>\n",
              "    </tr>\n",
              "    <tr>\n",
              "      <th>4</th>\n",
              "      <td>0.001</td>\n",
              "      <td>0.003</td>\n",
              "      <td>0.002</td>\n",
              "    </tr>\n",
              "  </tbody>\n",
              "</table>\n",
              "</div>\n",
              "      <button class=\"colab-df-convert\" onclick=\"convertToInteractive('df-f3b5bbbf-e1bb-49df-b423-7e8e78625c0d')\"\n",
              "              title=\"Convert this dataframe to an interactive table.\"\n",
              "              style=\"display:none;\">\n",
              "        \n",
              "  <svg xmlns=\"http://www.w3.org/2000/svg\" height=\"24px\"viewBox=\"0 0 24 24\"\n",
              "       width=\"24px\">\n",
              "    <path d=\"M0 0h24v24H0V0z\" fill=\"none\"/>\n",
              "    <path d=\"M18.56 5.44l.94 2.06.94-2.06 2.06-.94-2.06-.94-.94-2.06-.94 2.06-2.06.94zm-11 1L8.5 8.5l.94-2.06 2.06-.94-2.06-.94L8.5 2.5l-.94 2.06-2.06.94zm10 10l.94 2.06.94-2.06 2.06-.94-2.06-.94-.94-2.06-.94 2.06-2.06.94z\"/><path d=\"M17.41 7.96l-1.37-1.37c-.4-.4-.92-.59-1.43-.59-.52 0-1.04.2-1.43.59L10.3 9.45l-7.72 7.72c-.78.78-.78 2.05 0 2.83L4 21.41c.39.39.9.59 1.41.59.51 0 1.02-.2 1.41-.59l7.78-7.78 2.81-2.81c.8-.78.8-2.07 0-2.86zM5.41 20L4 18.59l7.72-7.72 1.47 1.35L5.41 20z\"/>\n",
              "  </svg>\n",
              "      </button>\n",
              "      \n",
              "  <style>\n",
              "    .colab-df-container {\n",
              "      display:flex;\n",
              "      flex-wrap:wrap;\n",
              "      gap: 12px;\n",
              "    }\n",
              "\n",
              "    .colab-df-convert {\n",
              "      background-color: #E8F0FE;\n",
              "      border: none;\n",
              "      border-radius: 50%;\n",
              "      cursor: pointer;\n",
              "      display: none;\n",
              "      fill: #1967D2;\n",
              "      height: 32px;\n",
              "      padding: 0 0 0 0;\n",
              "      width: 32px;\n",
              "    }\n",
              "\n",
              "    .colab-df-convert:hover {\n",
              "      background-color: #E2EBFA;\n",
              "      box-shadow: 0px 1px 2px rgba(60, 64, 67, 0.3), 0px 1px 3px 1px rgba(60, 64, 67, 0.15);\n",
              "      fill: #174EA6;\n",
              "    }\n",
              "\n",
              "    [theme=dark] .colab-df-convert {\n",
              "      background-color: #3B4455;\n",
              "      fill: #D2E3FC;\n",
              "    }\n",
              "\n",
              "    [theme=dark] .colab-df-convert:hover {\n",
              "      background-color: #434B5C;\n",
              "      box-shadow: 0px 1px 3px 1px rgba(0, 0, 0, 0.15);\n",
              "      filter: drop-shadow(0px 1px 2px rgba(0, 0, 0, 0.3));\n",
              "      fill: #FFFFFF;\n",
              "    }\n",
              "  </style>\n",
              "\n",
              "      <script>\n",
              "        const buttonEl =\n",
              "          document.querySelector('#df-f3b5bbbf-e1bb-49df-b423-7e8e78625c0d button.colab-df-convert');\n",
              "        buttonEl.style.display =\n",
              "          google.colab.kernel.accessAllowed ? 'block' : 'none';\n",
              "\n",
              "        async function convertToInteractive(key) {\n",
              "          const element = document.querySelector('#df-f3b5bbbf-e1bb-49df-b423-7e8e78625c0d');\n",
              "          const dataTable =\n",
              "            await google.colab.kernel.invokeFunction('convertToInteractive',\n",
              "                                                     [key], {});\n",
              "          if (!dataTable) return;\n",
              "\n",
              "          const docLinkHtml = 'Like what you see? Visit the ' +\n",
              "            '<a target=\"_blank\" href=https://colab.research.google.com/notebooks/data_table.ipynb>data table notebook</a>'\n",
              "            + ' to learn more about interactive tables.';\n",
              "          element.innerHTML = '';\n",
              "          dataTable['output_type'] = 'display_data';\n",
              "          await google.colab.output.renderOutput(dataTable, element);\n",
              "          const docLink = document.createElement('div');\n",
              "          docLink.innerHTML = docLinkHtml;\n",
              "          element.appendChild(docLink);\n",
              "        }\n",
              "      </script>\n",
              "    </div>\n",
              "  </div>\n",
              "  "
            ]
          },
          "metadata": {},
          "execution_count": 27
        }
      ],
      "source": [
        "df_aux = list()\n",
        "\n",
        "seq, ts = window_generator(df_SMA5['log_return_close_SMA5'].values, 2)\n",
        "temp1 = pd.DataFrame(seq)\n",
        "#temp1.rename(columns={0 : f'Close_Log_Return_t3', 1 : f'Close_Log_Return_t2', 2 : f'Close_Log_Return_t1'}, inplace=True)\n",
        "temp1.rename(columns={0 : f'Close_Log_Return_t2', 1 : f'Close_Log_Return_t1'}, inplace=True)\n",
        "temp1['Close_Log_Return'] = ts.tolist()\n",
        "df_aux.append(temp1)\n",
        "\n",
        "df_aux = pd.concat(df_aux, axis=1)\n",
        "df_janelado_dados_SMA5 = df_aux.copy(deep=True)\n",
        "df_janelado_dados_SMA5.head()"
      ]
    },
    {
      "cell_type": "markdown",
      "id": "0f9522cf",
      "metadata": {
        "id": "0f9522cf"
      },
      "source": [
        "## Separando o conjunto de treino e teste"
      ]
    },
    {
      "cell_type": "code",
      "execution_count": null,
      "id": "b68659b8",
      "metadata": {
        "colab": {
          "base_uri": "https://localhost:8080/",
          "height": 424
        },
        "id": "b68659b8",
        "outputId": "5143bdec-7123-45c1-dd55-5ee06710df90"
      },
      "outputs": [
        {
          "output_type": "execute_result",
          "data": {
            "text/plain": [
              "      Close_Log_Return_t2  Close_Log_Return_t1  Close_Log_Return\n",
              "0                  -0.015               -0.010            -0.006\n",
              "1                  -0.010               -0.006             0.004\n",
              "2                  -0.006                0.004             0.001\n",
              "3                   0.004                0.001             0.003\n",
              "4                   0.001                0.003             0.002\n",
              "...                   ...                  ...               ...\n",
              "3694               -0.002               -0.004            -0.006\n",
              "3695               -0.004               -0.006            -0.003\n",
              "3696               -0.006               -0.003            -0.000\n",
              "3697               -0.003               -0.000            -0.002\n",
              "3698               -0.000               -0.002            -0.001\n",
              "\n",
              "[3699 rows x 3 columns]"
            ],
            "text/html": [
              "\n",
              "  <div id=\"df-6f19e3c8-f744-447e-b1db-52eb7df252b6\">\n",
              "    <div class=\"colab-df-container\">\n",
              "      <div>\n",
              "<style scoped>\n",
              "    .dataframe tbody tr th:only-of-type {\n",
              "        vertical-align: middle;\n",
              "    }\n",
              "\n",
              "    .dataframe tbody tr th {\n",
              "        vertical-align: top;\n",
              "    }\n",
              "\n",
              "    .dataframe thead th {\n",
              "        text-align: right;\n",
              "    }\n",
              "</style>\n",
              "<table border=\"1\" class=\"dataframe\">\n",
              "  <thead>\n",
              "    <tr style=\"text-align: right;\">\n",
              "      <th></th>\n",
              "      <th>Close_Log_Return_t2</th>\n",
              "      <th>Close_Log_Return_t1</th>\n",
              "      <th>Close_Log_Return</th>\n",
              "    </tr>\n",
              "  </thead>\n",
              "  <tbody>\n",
              "    <tr>\n",
              "      <th>0</th>\n",
              "      <td>-0.015</td>\n",
              "      <td>-0.010</td>\n",
              "      <td>-0.006</td>\n",
              "    </tr>\n",
              "    <tr>\n",
              "      <th>1</th>\n",
              "      <td>-0.010</td>\n",
              "      <td>-0.006</td>\n",
              "      <td>0.004</td>\n",
              "    </tr>\n",
              "    <tr>\n",
              "      <th>2</th>\n",
              "      <td>-0.006</td>\n",
              "      <td>0.004</td>\n",
              "      <td>0.001</td>\n",
              "    </tr>\n",
              "    <tr>\n",
              "      <th>3</th>\n",
              "      <td>0.004</td>\n",
              "      <td>0.001</td>\n",
              "      <td>0.003</td>\n",
              "    </tr>\n",
              "    <tr>\n",
              "      <th>4</th>\n",
              "      <td>0.001</td>\n",
              "      <td>0.003</td>\n",
              "      <td>0.002</td>\n",
              "    </tr>\n",
              "    <tr>\n",
              "      <th>...</th>\n",
              "      <td>...</td>\n",
              "      <td>...</td>\n",
              "      <td>...</td>\n",
              "    </tr>\n",
              "    <tr>\n",
              "      <th>3694</th>\n",
              "      <td>-0.002</td>\n",
              "      <td>-0.004</td>\n",
              "      <td>-0.006</td>\n",
              "    </tr>\n",
              "    <tr>\n",
              "      <th>3695</th>\n",
              "      <td>-0.004</td>\n",
              "      <td>-0.006</td>\n",
              "      <td>-0.003</td>\n",
              "    </tr>\n",
              "    <tr>\n",
              "      <th>3696</th>\n",
              "      <td>-0.006</td>\n",
              "      <td>-0.003</td>\n",
              "      <td>-0.000</td>\n",
              "    </tr>\n",
              "    <tr>\n",
              "      <th>3697</th>\n",
              "      <td>-0.003</td>\n",
              "      <td>-0.000</td>\n",
              "      <td>-0.002</td>\n",
              "    </tr>\n",
              "    <tr>\n",
              "      <th>3698</th>\n",
              "      <td>-0.000</td>\n",
              "      <td>-0.002</td>\n",
              "      <td>-0.001</td>\n",
              "    </tr>\n",
              "  </tbody>\n",
              "</table>\n",
              "<p>3699 rows × 3 columns</p>\n",
              "</div>\n",
              "      <button class=\"colab-df-convert\" onclick=\"convertToInteractive('df-6f19e3c8-f744-447e-b1db-52eb7df252b6')\"\n",
              "              title=\"Convert this dataframe to an interactive table.\"\n",
              "              style=\"display:none;\">\n",
              "        \n",
              "  <svg xmlns=\"http://www.w3.org/2000/svg\" height=\"24px\"viewBox=\"0 0 24 24\"\n",
              "       width=\"24px\">\n",
              "    <path d=\"M0 0h24v24H0V0z\" fill=\"none\"/>\n",
              "    <path d=\"M18.56 5.44l.94 2.06.94-2.06 2.06-.94-2.06-.94-.94-2.06-.94 2.06-2.06.94zm-11 1L8.5 8.5l.94-2.06 2.06-.94-2.06-.94L8.5 2.5l-.94 2.06-2.06.94zm10 10l.94 2.06.94-2.06 2.06-.94-2.06-.94-.94-2.06-.94 2.06-2.06.94z\"/><path d=\"M17.41 7.96l-1.37-1.37c-.4-.4-.92-.59-1.43-.59-.52 0-1.04.2-1.43.59L10.3 9.45l-7.72 7.72c-.78.78-.78 2.05 0 2.83L4 21.41c.39.39.9.59 1.41.59.51 0 1.02-.2 1.41-.59l7.78-7.78 2.81-2.81c.8-.78.8-2.07 0-2.86zM5.41 20L4 18.59l7.72-7.72 1.47 1.35L5.41 20z\"/>\n",
              "  </svg>\n",
              "      </button>\n",
              "      \n",
              "  <style>\n",
              "    .colab-df-container {\n",
              "      display:flex;\n",
              "      flex-wrap:wrap;\n",
              "      gap: 12px;\n",
              "    }\n",
              "\n",
              "    .colab-df-convert {\n",
              "      background-color: #E8F0FE;\n",
              "      border: none;\n",
              "      border-radius: 50%;\n",
              "      cursor: pointer;\n",
              "      display: none;\n",
              "      fill: #1967D2;\n",
              "      height: 32px;\n",
              "      padding: 0 0 0 0;\n",
              "      width: 32px;\n",
              "    }\n",
              "\n",
              "    .colab-df-convert:hover {\n",
              "      background-color: #E2EBFA;\n",
              "      box-shadow: 0px 1px 2px rgba(60, 64, 67, 0.3), 0px 1px 3px 1px rgba(60, 64, 67, 0.15);\n",
              "      fill: #174EA6;\n",
              "    }\n",
              "\n",
              "    [theme=dark] .colab-df-convert {\n",
              "      background-color: #3B4455;\n",
              "      fill: #D2E3FC;\n",
              "    }\n",
              "\n",
              "    [theme=dark] .colab-df-convert:hover {\n",
              "      background-color: #434B5C;\n",
              "      box-shadow: 0px 1px 3px 1px rgba(0, 0, 0, 0.15);\n",
              "      filter: drop-shadow(0px 1px 2px rgba(0, 0, 0, 0.3));\n",
              "      fill: #FFFFFF;\n",
              "    }\n",
              "  </style>\n",
              "\n",
              "      <script>\n",
              "        const buttonEl =\n",
              "          document.querySelector('#df-6f19e3c8-f744-447e-b1db-52eb7df252b6 button.colab-df-convert');\n",
              "        buttonEl.style.display =\n",
              "          google.colab.kernel.accessAllowed ? 'block' : 'none';\n",
              "\n",
              "        async function convertToInteractive(key) {\n",
              "          const element = document.querySelector('#df-6f19e3c8-f744-447e-b1db-52eb7df252b6');\n",
              "          const dataTable =\n",
              "            await google.colab.kernel.invokeFunction('convertToInteractive',\n",
              "                                                     [key], {});\n",
              "          if (!dataTable) return;\n",
              "\n",
              "          const docLinkHtml = 'Like what you see? Visit the ' +\n",
              "            '<a target=\"_blank\" href=https://colab.research.google.com/notebooks/data_table.ipynb>data table notebook</a>'\n",
              "            + ' to learn more about interactive tables.';\n",
              "          element.innerHTML = '';\n",
              "          dataTable['output_type'] = 'display_data';\n",
              "          await google.colab.output.renderOutput(dataTable, element);\n",
              "          const docLink = document.createElement('div');\n",
              "          docLink.innerHTML = docLinkHtml;\n",
              "          element.appendChild(docLink);\n",
              "        }\n",
              "      </script>\n",
              "    </div>\n",
              "  </div>\n",
              "  "
            ]
          },
          "metadata": {},
          "execution_count": 28
        }
      ],
      "source": [
        "df_janelado_dados_SMA5"
      ]
    },
    {
      "cell_type": "markdown",
      "id": "e3546cb1",
      "metadata": {
        "id": "e3546cb1"
      },
      "source": [
        "## Checando número de linhas"
      ]
    },
    {
      "cell_type": "code",
      "execution_count": null,
      "id": "6477db63",
      "metadata": {
        "colab": {
          "base_uri": "https://localhost:8080/"
        },
        "id": "6477db63",
        "outputId": "fcfb71bb-d727-4b33-c8dd-cfea9959c379"
      },
      "outputs": [
        {
          "output_type": "stream",
          "name": "stdout",
          "text": [
            "quantidade de linhas dados brutos : 3699\n"
          ]
        }
      ],
      "source": [
        "print(\"quantidade de linhas dados brutos :\",df_janelado_dados_SMA5.shape[0])"
      ]
    },
    {
      "cell_type": "markdown",
      "id": "eb4c856e",
      "metadata": {
        "id": "eb4c856e"
      },
      "source": [
        "## Divisão dos dados em conjunto de treino e teste"
      ]
    },
    {
      "cell_type": "markdown",
      "source": [
        "aplicando normalização"
      ],
      "metadata": {
        "id": "o_-Bm8eQuGSE"
      },
      "id": "o_-Bm8eQuGSE"
    },
    {
      "cell_type": "code",
      "source": [
        "obj_norm = MinMaxScaler().fit(df_janelado_dados_SMA5)\n",
        "norm_df_SMA5 = obj_norm.transform(df_janelado_dados_SMA5)"
      ],
      "metadata": {
        "id": "PByLF3iXuFp4"
      },
      "id": "PByLF3iXuFp4",
      "execution_count": null,
      "outputs": []
    },
    {
      "cell_type": "code",
      "source": [
        "#from matplotlib import pyplot as plt\n",
        "plt.figure(figsize=(10,6))\n",
        "ax = sns.boxplot(data=norm_df_SMA5)"
      ],
      "metadata": {
        "id": "LHQXf56euZpP",
        "colab": {
          "base_uri": "https://localhost:8080/",
          "height": 374
        },
        "outputId": "896660c9-70b1-438d-b807-b70e2999be08"
      },
      "id": "LHQXf56euZpP",
      "execution_count": null,
      "outputs": [
        {
          "output_type": "display_data",
          "data": {
            "text/plain": [
              "<Figure size 720x432 with 1 Axes>"
            ],
            "image/png": "[encoded data removed]"
          },
          "metadata": {}
        }
      ]
    },
    {
      "cell_type": "code",
      "source": [
        "norm_df_SMA5 = pd.DataFrame(norm_df_SMA5)"
      ],
      "metadata": {
        "id": "3ItulKEKueHN"
      },
      "id": "3ItulKEKueHN",
      "execution_count": null,
      "outputs": []
    },
    {
      "cell_type": "code",
      "source": [
        "norm_df_SMA5.describe()"
      ],
      "metadata": {
        "id": "udwFVID1uiuh",
        "colab": {
          "base_uri": "https://localhost:8080/",
          "height": 300
        },
        "outputId": "2fc7e05e-908a-485a-8a42-121ef2879978"
      },
      "id": "udwFVID1uiuh",
      "execution_count": null,
      "outputs": [
        {
          "output_type": "execute_result",
          "data": {
            "text/plain": [
              "                 0            1            2\n",
              "count  3699.000000  3699.000000  3699.000000\n",
              "mean      0.568654     0.568683     0.568703\n",
              "std       0.061982     0.061948     0.061932\n",
              "min       0.000000     0.000000     0.000000\n",
              "25%       0.533333     0.533333     0.533333\n",
              "50%       0.575000     0.575000     0.575000\n",
              "75%       0.608333     0.608333     0.608333\n",
              "max       1.000000     1.000000     1.000000"
            ],
            "text/html": [
              "\n",
              "  <div id=\"df-08dd2783-9eab-4952-82ca-abcf86ded47d\">\n",
              "    <div class=\"colab-df-container\">\n",
              "      <div>\n",
              "<style scoped>\n",
              "    .dataframe tbody tr th:only-of-type {\n",
              "        vertical-align: middle;\n",
              "    }\n",
              "\n",
              "    .dataframe tbody tr th {\n",
              "        vertical-align: top;\n",
              "    }\n",
              "\n",
              "    .dataframe thead th {\n",
              "        text-align: right;\n",
              "    }\n",
              "</style>\n",
              "<table border=\"1\" class=\"dataframe\">\n",
              "  <thead>\n",
              "    <tr style=\"text-align: right;\">\n",
              "      <th></th>\n",
              "      <th>0</th>\n",
              "      <th>1</th>\n",
              "      <th>2</th>\n",
              "    </tr>\n",
              "  </thead>\n",
              "  <tbody>\n",
              "    <tr>\n",
              "      <th>count</th>\n",
              "      <td>3699.000000</td>\n",
              "      <td>3699.000000</td>\n",
              "      <td>3699.000000</td>\n",
              "    </tr>\n",
              "    <tr>\n",
              "      <th>mean</th>\n",
              "      <td>0.568654</td>\n",
              "      <td>0.568683</td>\n",
              "      <td>0.568703</td>\n",
              "    </tr>\n",
              "    <tr>\n",
              "      <th>std</th>\n",
              "      <td>0.061982</td>\n",
              "      <td>0.061948</td>\n",
              "      <td>0.061932</td>\n",
              "    </tr>\n",
              "    <tr>\n",
              "      <th>min</th>\n",
              "      <td>0.000000</td>\n",
              "      <td>0.000000</td>\n",
              "      <td>0.000000</td>\n",
              "    </tr>\n",
              "    <tr>\n",
              "      <th>25%</th>\n",
              "      <td>0.533333</td>\n",
              "      <td>0.533333</td>\n",
              "      <td>0.533333</td>\n",
              "    </tr>\n",
              "    <tr>\n",
              "      <th>50%</th>\n",
              "      <td>0.575000</td>\n",
              "      <td>0.575000</td>\n",
              "      <td>0.575000</td>\n",
              "    </tr>\n",
              "    <tr>\n",
              "      <th>75%</th>\n",
              "      <td>0.608333</td>\n",
              "      <td>0.608333</td>\n",
              "      <td>0.608333</td>\n",
              "    </tr>\n",
              "    <tr>\n",
              "      <th>max</th>\n",
              "      <td>1.000000</td>\n",
              "      <td>1.000000</td>\n",
              "      <td>1.000000</td>\n",
              "    </tr>\n",
              "  </tbody>\n",
              "</table>\n",
              "</div>\n",
              "      <button class=\"colab-df-convert\" onclick=\"convertToInteractive('df-08dd2783-9eab-4952-82ca-abcf86ded47d')\"\n",
              "              title=\"Convert this dataframe to an interactive table.\"\n",
              "              style=\"display:none;\">\n",
              "        \n",
              "  <svg xmlns=\"http://www.w3.org/2000/svg\" height=\"24px\"viewBox=\"0 0 24 24\"\n",
              "       width=\"24px\">\n",
              "    <path d=\"M0 0h24v24H0V0z\" fill=\"none\"/>\n",
              "    <path d=\"M18.56 5.44l.94 2.06.94-2.06 2.06-.94-2.06-.94-.94-2.06-.94 2.06-2.06.94zm-11 1L8.5 8.5l.94-2.06 2.06-.94-2.06-.94L8.5 2.5l-.94 2.06-2.06.94zm10 10l.94 2.06.94-2.06 2.06-.94-2.06-.94-.94-2.06-.94 2.06-2.06.94z\"/><path d=\"M17.41 7.96l-1.37-1.37c-.4-.4-.92-.59-1.43-.59-.52 0-1.04.2-1.43.59L10.3 9.45l-7.72 7.72c-.78.78-.78 2.05 0 2.83L4 21.41c.39.39.9.59 1.41.59.51 0 1.02-.2 1.41-.59l7.78-7.78 2.81-2.81c.8-.78.8-2.07 0-2.86zM5.41 20L4 18.59l7.72-7.72 1.47 1.35L5.41 20z\"/>\n",
              "  </svg>\n",
              "      </button>\n",
              "      \n",
              "  <style>\n",
              "    .colab-df-container {\n",
              "      display:flex;\n",
              "      flex-wrap:wrap;\n",
              "      gap: 12px;\n",
              "    }\n",
              "\n",
              "    .colab-df-convert {\n",
              "      background-color: #E8F0FE;\n",
              "      border: none;\n",
              "      border-radius: 50%;\n",
              "      cursor: pointer;\n",
              "      display: none;\n",
              "      fill: #1967D2;\n",
              "      height: 32px;\n",
              "      padding: 0 0 0 0;\n",
              "      width: 32px;\n",
              "    }\n",
              "\n",
              "    .colab-df-convert:hover {\n",
              "      background-color: #E2EBFA;\n",
              "      box-shadow: 0px 1px 2px rgba(60, 64, 67, 0.3), 0px 1px 3px 1px rgba(60, 64, 67, 0.15);\n",
              "      fill: #174EA6;\n",
              "    }\n",
              "\n",
              "    [theme=dark] .colab-df-convert {\n",
              "      background-color: #3B4455;\n",
              "      fill: #D2E3FC;\n",
              "    }\n",
              "\n",
              "    [theme=dark] .colab-df-convert:hover {\n",
              "      background-color: #434B5C;\n",
              "      box-shadow: 0px 1px 3px 1px rgba(0, 0, 0, 0.15);\n",
              "      filter: drop-shadow(0px 1px 2px rgba(0, 0, 0, 0.3));\n",
              "      fill: #FFFFFF;\n",
              "    }\n",
              "  </style>\n",
              "\n",
              "      <script>\n",
              "        const buttonEl =\n",
              "          document.querySelector('#df-08dd2783-9eab-4952-82ca-abcf86ded47d button.colab-df-convert');\n",
              "        buttonEl.style.display =\n",
              "          google.colab.kernel.accessAllowed ? 'block' : 'none';\n",
              "\n",
              "        async function convertToInteractive(key) {\n",
              "          const element = document.querySelector('#df-08dd2783-9eab-4952-82ca-abcf86ded47d');\n",
              "          const dataTable =\n",
              "            await google.colab.kernel.invokeFunction('convertToInteractive',\n",
              "                                                     [key], {});\n",
              "          if (!dataTable) return;\n",
              "\n",
              "          const docLinkHtml = 'Like what you see? Visit the ' +\n",
              "            '<a target=\"_blank\" href=https://colab.research.google.com/notebooks/data_table.ipynb>data table notebook</a>'\n",
              "            + ' to learn more about interactive tables.';\n",
              "          element.innerHTML = '';\n",
              "          dataTable['output_type'] = 'display_data';\n",
              "          await google.colab.output.renderOutput(dataTable, element);\n",
              "          const docLink = document.createElement('div');\n",
              "          docLink.innerHTML = docLinkHtml;\n",
              "          element.appendChild(docLink);\n",
              "        }\n",
              "      </script>\n",
              "    </div>\n",
              "  </div>\n",
              "  "
            ]
          },
          "metadata": {},
          "execution_count": 33
        }
      ]
    },
    {
      "cell_type": "code",
      "source": [
        "norm_df_SMA5.rename(columns={0:'Close_Log_Return_t2',1:'Close_Log_Return_t1',2:'Close_Log_Return'}, inplace = True)"
      ],
      "metadata": {
        "id": "3aLZmuisu87N"
      },
      "id": "3aLZmuisu87N",
      "execution_count": null,
      "outputs": []
    },
    {
      "cell_type": "code",
      "source": [
        "norm_df_SMA5"
      ],
      "metadata": {
        "colab": {
          "base_uri": "https://localhost:8080/",
          "height": 424
        },
        "id": "amYgpXEDxH47",
        "outputId": "014c8d0c-70af-4bbe-8068-11b590854f58"
      },
      "id": "amYgpXEDxH47",
      "execution_count": null,
      "outputs": [
        {
          "output_type": "execute_result",
          "data": {
            "text/plain": [
              "      Close_Log_Return_t2  Close_Log_Return_t1  Close_Log_Return\n",
              "0                0.441667             0.483333          0.516667\n",
              "1                0.483333             0.516667          0.600000\n",
              "2                0.516667             0.600000          0.575000\n",
              "3                0.600000             0.575000          0.591667\n",
              "4                0.575000             0.591667          0.583333\n",
              "...                   ...                  ...               ...\n",
              "3694             0.550000             0.533333          0.516667\n",
              "3695             0.533333             0.516667          0.541667\n",
              "3696             0.516667             0.541667          0.566667\n",
              "3697             0.541667             0.566667          0.550000\n",
              "3698             0.566667             0.550000          0.558333\n",
              "\n",
              "[3699 rows x 3 columns]"
            ],
            "text/html": [
              "\n",
              "  <div id=\"df-65ba5eca-e895-4182-abe1-2031b09e362e\">\n",
              "    <div class=\"colab-df-container\">\n",
              "      <div>\n",
              "<style scoped>\n",
              "    .dataframe tbody tr th:only-of-type {\n",
              "        vertical-align: middle;\n",
              "    }\n",
              "\n",
              "    .dataframe tbody tr th {\n",
              "        vertical-align: top;\n",
              "    }\n",
              "\n",
              "    .dataframe thead th {\n",
              "        text-align: right;\n",
              "    }\n",
              "</style>\n",
              "<table border=\"1\" class=\"dataframe\">\n",
              "  <thead>\n",
              "    <tr style=\"text-align: right;\">\n",
              "      <th></th>\n",
              "      <th>Close_Log_Return_t2</th>\n",
              "      <th>Close_Log_Return_t1</th>\n",
              "      <th>Close_Log_Return</th>\n",
              "    </tr>\n",
              "  </thead>\n",
              "  <tbody>\n",
              "    <tr>\n",
              "      <th>0</th>\n",
              "      <td>0.441667</td>\n",
              "      <td>0.483333</td>\n",
              "      <td>0.516667</td>\n",
              "    </tr>\n",
              "    <tr>\n",
              "      <th>1</th>\n",
              "      <td>0.483333</td>\n",
              "      <td>0.516667</td>\n",
              "      <td>0.600000</td>\n",
              "    </tr>\n",
              "    <tr>\n",
              "      <th>2</th>\n",
              "      <td>0.516667</td>\n",
              "      <td>0.600000</td>\n",
              "      <td>0.575000</td>\n",
              "    </tr>\n",
              "    <tr>\n",
              "      <th>3</th>\n",
              "      <td>0.600000</td>\n",
              "      <td>0.575000</td>\n",
              "      <td>0.591667</td>\n",
              "    </tr>\n",
              "    <tr>\n",
              "      <th>4</th>\n",
              "      <td>0.575000</td>\n",
              "      <td>0.591667</td>\n",
              "      <td>0.583333</td>\n",
              "    </tr>\n",
              "    <tr>\n",
              "      <th>...</th>\n",
              "      <td>...</td>\n",
              "      <td>...</td>\n",
              "      <td>...</td>\n",
              "    </tr>\n",
              "    <tr>\n",
              "      <th>3694</th>\n",
              "      <td>0.550000</td>\n",
              "      <td>0.533333</td>\n",
              "      <td>0.516667</td>\n",
              "    </tr>\n",
              "    <tr>\n",
              "      <th>3695</th>\n",
              "      <td>0.533333</td>\n",
              "      <td>0.516667</td>\n",
              "      <td>0.541667</td>\n",
              "    </tr>\n",
              "    <tr>\n",
              "      <th>3696</th>\n",
              "      <td>0.516667</td>\n",
              "      <td>0.541667</td>\n",
              "      <td>0.566667</td>\n",
              "    </tr>\n",
              "    <tr>\n",
              "      <th>3697</th>\n",
              "      <td>0.541667</td>\n",
              "      <td>0.566667</td>\n",
              "      <td>0.550000</td>\n",
              "    </tr>\n",
              "    <tr>\n",
              "      <th>3698</th>\n",
              "      <td>0.566667</td>\n",
              "      <td>0.550000</td>\n",
              "      <td>0.558333</td>\n",
              "    </tr>\n",
              "  </tbody>\n",
              "</table>\n",
              "<p>3699 rows × 3 columns</p>\n",
              "</div>\n",
              "      <button class=\"colab-df-convert\" onclick=\"convertToInteractive('df-65ba5eca-e895-4182-abe1-2031b09e362e')\"\n",
              "              title=\"Convert this dataframe to an interactive table.\"\n",
              "              style=\"display:none;\">\n",
              "        \n",
              "  <svg xmlns=\"http://www.w3.org/2000/svg\" height=\"24px\"viewBox=\"0 0 24 24\"\n",
              "       width=\"24px\">\n",
              "    <path d=\"M0 0h24v24H0V0z\" fill=\"none\"/>\n",
              "    <path d=\"M18.56 5.44l.94 2.06.94-2.06 2.06-.94-2.06-.94-.94-2.06-.94 2.06-2.06.94zm-11 1L8.5 8.5l.94-2.06 2.06-.94-2.06-.94L8.5 2.5l-.94 2.06-2.06.94zm10 10l.94 2.06.94-2.06 2.06-.94-2.06-.94-.94-2.06-.94 2.06-2.06.94z\"/><path d=\"M17.41 7.96l-1.37-1.37c-.4-.4-.92-.59-1.43-.59-.52 0-1.04.2-1.43.59L10.3 9.45l-7.72 7.72c-.78.78-.78 2.05 0 2.83L4 21.41c.39.39.9.59 1.41.59.51 0 1.02-.2 1.41-.59l7.78-7.78 2.81-2.81c.8-.78.8-2.07 0-2.86zM5.41 20L4 18.59l7.72-7.72 1.47 1.35L5.41 20z\"/>\n",
              "  </svg>\n",
              "      </button>\n",
              "      \n",
              "  <style>\n",
              "    .colab-df-container {\n",
              "      display:flex;\n",
              "      flex-wrap:wrap;\n",
              "      gap: 12px;\n",
              "    }\n",
              "\n",
              "    .colab-df-convert {\n",
              "      background-color: #E8F0FE;\n",
              "      border: none;\n",
              "      border-radius: 50%;\n",
              "      cursor: pointer;\n",
              "      display: none;\n",
              "      fill: #1967D2;\n",
              "      height: 32px;\n",
              "      padding: 0 0 0 0;\n",
              "      width: 32px;\n",
              "    }\n",
              "\n",
              "    .colab-df-convert:hover {\n",
              "      background-color: #E2EBFA;\n",
              "      box-shadow: 0px 1px 2px rgba(60, 64, 67, 0.3), 0px 1px 3px 1px rgba(60, 64, 67, 0.15);\n",
              "      fill: #174EA6;\n",
              "    }\n",
              "\n",
              "    [theme=dark] .colab-df-convert {\n",
              "      background-color: #3B4455;\n",
              "      fill: #D2E3FC;\n",
              "    }\n",
              "\n",
              "    [theme=dark] .colab-df-convert:hover {\n",
              "      background-color: #434B5C;\n",
              "      box-shadow: 0px 1px 3px 1px rgba(0, 0, 0, 0.15);\n",
              "      filter: drop-shadow(0px 1px 2px rgba(0, 0, 0, 0.3));\n",
              "      fill: #FFFFFF;\n",
              "    }\n",
              "  </style>\n",
              "\n",
              "      <script>\n",
              "        const buttonEl =\n",
              "          document.querySelector('#df-65ba5eca-e895-4182-abe1-2031b09e362e button.colab-df-convert');\n",
              "        buttonEl.style.display =\n",
              "          google.colab.kernel.accessAllowed ? 'block' : 'none';\n",
              "\n",
              "        async function convertToInteractive(key) {\n",
              "          const element = document.querySelector('#df-65ba5eca-e895-4182-abe1-2031b09e362e');\n",
              "          const dataTable =\n",
              "            await google.colab.kernel.invokeFunction('convertToInteractive',\n",
              "                                                     [key], {});\n",
              "          if (!dataTable) return;\n",
              "\n",
              "          const docLinkHtml = 'Like what you see? Visit the ' +\n",
              "            '<a target=\"_blank\" href=https://colab.research.google.com/notebooks/data_table.ipynb>data table notebook</a>'\n",
              "            + ' to learn more about interactive tables.';\n",
              "          element.innerHTML = '';\n",
              "          dataTable['output_type'] = 'display_data';\n",
              "          await google.colab.output.renderOutput(dataTable, element);\n",
              "          const docLink = document.createElement('div');\n",
              "          docLink.innerHTML = docLinkHtml;\n",
              "          element.appendChild(docLink);\n",
              "        }\n",
              "      </script>\n",
              "    </div>\n",
              "  </div>\n",
              "  "
            ]
          },
          "metadata": {},
          "execution_count": 35
        }
      ]
    },
    {
      "cell_type": "code",
      "execution_count": null,
      "id": "5de78326",
      "metadata": {
        "id": "5de78326"
      },
      "outputs": [],
      "source": [
        "#-----------------------Dados Brutos-----------------------#\n",
        "\n",
        "df_SMA5_train = norm_df_SMA5.loc[0:np.round(norm_df_SMA5.shape[0]*0.7),:] #70% para treino\n",
        "df_SMA5_test = norm_df_SMA5.loc[np.round(norm_df_SMA5.shape[0]*0.7):,:]#30% para teste"
      ]
    },
    {
      "cell_type": "code",
      "source": [
        "'''fig, ax = plt.subplots()\n",
        "ax.plot(df_SMA5_train, color='gray', label=\"treino\")\n",
        "ax2 = ax.twinx()\n",
        "ax2.plot(df_SMA5_test, color='blue',label='Teste')\n",
        "plt.legend()\n",
        "plt.show()'''\n",
        "\n",
        "\n",
        "plt.plot(df_SMA5_train, color='gray', label=\"treino\")\n",
        "plt.plot(df_SMA5_test, color='blue',label='Teste')\n",
        "plt.legend()\n",
        "plt.show()"
      ],
      "metadata": {
        "colab": {
          "base_uri": "https://localhost:8080/",
          "height": 347
        },
        "id": "IbcDDeZ0YULF",
        "outputId": "e7a86417-608a-4ec7-cc30-2efd0800f4b1"
      },
      "id": "IbcDDeZ0YULF",
      "execution_count": null,
      "outputs": [
        {
          "output_type": "display_data",
          "data": {
            "text/plain": [
              "<Figure size 576x396 with 1 Axes>"
            ],
            "image/png": "[encoded data removed]"
          },
          "metadata": {}
        }
      ]
    },
    {
      "cell_type": "code",
      "source": [
        "df_SMA5_train"
      ],
      "metadata": {
        "colab": {
          "base_uri": "https://localhost:8080/",
          "height": 424
        },
        "id": "nfLueIbOgCK5",
        "outputId": "dd22edc4-104a-4b81-93fa-e68274c08e26"
      },
      "id": "nfLueIbOgCK5",
      "execution_count": null,
      "outputs": [
        {
          "output_type": "execute_result",
          "data": {
            "text/plain": [
              "      Close_Log_Return_t2  Close_Log_Return_t1  Close_Log_Return\n",
              "0                0.441667             0.483333          0.516667\n",
              "1                0.483333             0.516667          0.600000\n",
              "2                0.516667             0.600000          0.575000\n",
              "3                0.600000             0.575000          0.591667\n",
              "4                0.575000             0.591667          0.583333\n",
              "...                   ...                  ...               ...\n",
              "2585             0.591667             0.600000          0.591667\n",
              "2586             0.600000             0.591667          0.616667\n",
              "2587             0.591667             0.616667          0.600000\n",
              "2588             0.616667             0.600000          0.608333\n",
              "2589             0.600000             0.608333          0.600000\n",
              "\n",
              "[2590 rows x 3 columns]"
            ],
            "text/html": [
              "\n",
              "  <div id=\"df-bf986e8e-50d4-4ddf-a796-e2f47dcad8f2\">\n",
              "    <div class=\"colab-df-container\">\n",
              "      <div>\n",
              "<style scoped>\n",
              "    .dataframe tbody tr th:only-of-type {\n",
              "        vertical-align: middle;\n",
              "    }\n",
              "\n",
              "    .dataframe tbody tr th {\n",
              "        vertical-align: top;\n",
              "    }\n",
              "\n",
              "    .dataframe thead th {\n",
              "        text-align: right;\n",
              "    }\n",
              "</style>\n",
              "<table border=\"1\" class=\"dataframe\">\n",
              "  <thead>\n",
              "    <tr style=\"text-align: right;\">\n",
              "      <th></th>\n",
              "      <th>Close_Log_Return_t2</th>\n",
              "      <th>Close_Log_Return_t1</th>\n",
              "      <th>Close_Log_Return</th>\n",
              "    </tr>\n",
              "  </thead>\n",
              "  <tbody>\n",
              "    <tr>\n",
              "      <th>0</th>\n",
              "      <td>0.441667</td>\n",
              "      <td>0.483333</td>\n",
              "      <td>0.516667</td>\n",
              "    </tr>\n",
              "    <tr>\n",
              "      <th>1</th>\n",
              "      <td>0.483333</td>\n",
              "      <td>0.516667</td>\n",
              "      <td>0.600000</td>\n",
              "    </tr>\n",
              "    <tr>\n",
              "      <th>2</th>\n",
              "      <td>0.516667</td>\n",
              "      <td>0.600000</td>\n",
              "      <td>0.575000</td>\n",
              "    </tr>\n",
              "    <tr>\n",
              "      <th>3</th>\n",
              "      <td>0.600000</td>\n",
              "      <td>0.575000</td>\n",
              "      <td>0.591667</td>\n",
              "    </tr>\n",
              "    <tr>\n",
              "      <th>4</th>\n",
              "      <td>0.575000</td>\n",
              "      <td>0.591667</td>\n",
              "      <td>0.583333</td>\n",
              "    </tr>\n",
              "    <tr>\n",
              "      <th>...</th>\n",
              "      <td>...</td>\n",
              "      <td>...</td>\n",
              "      <td>...</td>\n",
              "    </tr>\n",
              "    <tr>\n",
              "      <th>2585</th>\n",
              "      <td>0.591667</td>\n",
              "      <td>0.600000</td>\n",
              "      <td>0.591667</td>\n",
              "    </tr>\n",
              "    <tr>\n",
              "      <th>2586</th>\n",
              "      <td>0.600000</td>\n",
              "      <td>0.591667</td>\n",
              "      <td>0.616667</td>\n",
              "    </tr>\n",
              "    <tr>\n",
              "      <th>2587</th>\n",
              "      <td>0.591667</td>\n",
              "      <td>0.616667</td>\n",
              "      <td>0.600000</td>\n",
              "    </tr>\n",
              "    <tr>\n",
              "      <th>2588</th>\n",
              "      <td>0.616667</td>\n",
              "      <td>0.600000</td>\n",
              "      <td>0.608333</td>\n",
              "    </tr>\n",
              "    <tr>\n",
              "      <th>2589</th>\n",
              "      <td>0.600000</td>\n",
              "      <td>0.608333</td>\n",
              "      <td>0.600000</td>\n",
              "    </tr>\n",
              "  </tbody>\n",
              "</table>\n",
              "<p>2590 rows × 3 columns</p>\n",
              "</div>\n",
              "      <button class=\"colab-df-convert\" onclick=\"convertToInteractive('df-bf986e8e-50d4-4ddf-a796-e2f47dcad8f2')\"\n",
              "              title=\"Convert this dataframe to an interactive table.\"\n",
              "              style=\"display:none;\">\n",
              "        \n",
              "  <svg xmlns=\"http://www.w3.org/2000/svg\" height=\"24px\"viewBox=\"0 0 24 24\"\n",
              "       width=\"24px\">\n",
              "    <path d=\"M0 0h24v24H0V0z\" fill=\"none\"/>\n",
              "    <path d=\"M18.56 5.44l.94 2.06.94-2.06 2.06-.94-2.06-.94-.94-2.06-.94 2.06-2.06.94zm-11 1L8.5 8.5l.94-2.06 2.06-.94-2.06-.94L8.5 2.5l-.94 2.06-2.06.94zm10 10l.94 2.06.94-2.06 2.06-.94-2.06-.94-.94-2.06-.94 2.06-2.06.94z\"/><path d=\"M17.41 7.96l-1.37-1.37c-.4-.4-.92-.59-1.43-.59-.52 0-1.04.2-1.43.59L10.3 9.45l-7.72 7.72c-.78.78-.78 2.05 0 2.83L4 21.41c.39.39.9.59 1.41.59.51 0 1.02-.2 1.41-.59l7.78-7.78 2.81-2.81c.8-.78.8-2.07 0-2.86zM5.41 20L4 18.59l7.72-7.72 1.47 1.35L5.41 20z\"/>\n",
              "  </svg>\n",
              "      </button>\n",
              "      \n",
              "  <style>\n",
              "    .colab-df-container {\n",
              "      display:flex;\n",
              "      flex-wrap:wrap;\n",
              "      gap: 12px;\n",
              "    }\n",
              "\n",
              "    .colab-df-convert {\n",
              "      background-color: #E8F0FE;\n",
              "      border: none;\n",
              "      border-radius: 50%;\n",
              "      cursor: pointer;\n",
              "      display: none;\n",
              "      fill: #1967D2;\n",
              "      height: 32px;\n",
              "      padding: 0 0 0 0;\n",
              "      width: 32px;\n",
              "    }\n",
              "\n",
              "    .colab-df-convert:hover {\n",
              "      background-color: #E2EBFA;\n",
              "      box-shadow: 0px 1px 2px rgba(60, 64, 67, 0.3), 0px 1px 3px 1px rgba(60, 64, 67, 0.15);\n",
              "      fill: #174EA6;\n",
              "    }\n",
              "\n",
              "    [theme=dark] .colab-df-convert {\n",
              "      background-color: #3B4455;\n",
              "      fill: #D2E3FC;\n",
              "    }\n",
              "\n",
              "    [theme=dark] .colab-df-convert:hover {\n",
              "      background-color: #434B5C;\n",
              "      box-shadow: 0px 1px 3px 1px rgba(0, 0, 0, 0.15);\n",
              "      filter: drop-shadow(0px 1px 2px rgba(0, 0, 0, 0.3));\n",
              "      fill: #FFFFFF;\n",
              "    }\n",
              "  </style>\n",
              "\n",
              "      <script>\n",
              "        const buttonEl =\n",
              "          document.querySelector('#df-bf986e8e-50d4-4ddf-a796-e2f47dcad8f2 button.colab-df-convert');\n",
              "        buttonEl.style.display =\n",
              "          google.colab.kernel.accessAllowed ? 'block' : 'none';\n",
              "\n",
              "        async function convertToInteractive(key) {\n",
              "          const element = document.querySelector('#df-bf986e8e-50d4-4ddf-a796-e2f47dcad8f2');\n",
              "          const dataTable =\n",
              "            await google.colab.kernel.invokeFunction('convertToInteractive',\n",
              "                                                     [key], {});\n",
              "          if (!dataTable) return;\n",
              "\n",
              "          const docLinkHtml = 'Like what you see? Visit the ' +\n",
              "            '<a target=\"_blank\" href=https://colab.research.google.com/notebooks/data_table.ipynb>data table notebook</a>'\n",
              "            + ' to learn more about interactive tables.';\n",
              "          element.innerHTML = '';\n",
              "          dataTable['output_type'] = 'display_data';\n",
              "          await google.colab.output.renderOutput(dataTable, element);\n",
              "          const docLink = document.createElement('div');\n",
              "          docLink.innerHTML = docLinkHtml;\n",
              "          element.appendChild(docLink);\n",
              "        }\n",
              "      </script>\n",
              "    </div>\n",
              "  </div>\n",
              "  "
            ]
          },
          "metadata": {},
          "execution_count": 38
        }
      ]
    },
    {
      "cell_type": "code",
      "source": [
        "df_SMA5_test"
      ],
      "metadata": {
        "colab": {
          "base_uri": "https://localhost:8080/",
          "height": 424
        },
        "id": "CqEBpLZRnYQz",
        "outputId": "1d1c1a03-63c1-4500-8b2a-50262086c34d"
      },
      "id": "CqEBpLZRnYQz",
      "execution_count": null,
      "outputs": [
        {
          "output_type": "execute_result",
          "data": {
            "text/plain": [
              "      Close_Log_Return_t2  Close_Log_Return_t1  Close_Log_Return\n",
              "2589             0.600000             0.608333          0.600000\n",
              "2590             0.608333             0.600000          0.575000\n",
              "2591             0.600000             0.575000          0.550000\n",
              "2592             0.575000             0.550000          0.558333\n",
              "2593             0.550000             0.558333          0.583333\n",
              "...                   ...                  ...               ...\n",
              "3694             0.550000             0.533333          0.516667\n",
              "3695             0.533333             0.516667          0.541667\n",
              "3696             0.516667             0.541667          0.566667\n",
              "3697             0.541667             0.566667          0.550000\n",
              "3698             0.566667             0.550000          0.558333\n",
              "\n",
              "[1110 rows x 3 columns]"
            ],
            "text/html": [
              "\n",
              "  <div id=\"df-a4026ea0-974b-480c-a8e8-a5790242bd58\">\n",
              "    <div class=\"colab-df-container\">\n",
              "      <div>\n",
              "<style scoped>\n",
              "    .dataframe tbody tr th:only-of-type {\n",
              "        vertical-align: middle;\n",
              "    }\n",
              "\n",
              "    .dataframe tbody tr th {\n",
              "        vertical-align: top;\n",
              "    }\n",
              "\n",
              "    .dataframe thead th {\n",
              "        text-align: right;\n",
              "    }\n",
              "</style>\n",
              "<table border=\"1\" class=\"dataframe\">\n",
              "  <thead>\n",
              "    <tr style=\"text-align: right;\">\n",
              "      <th></th>\n",
              "      <th>Close_Log_Return_t2</th>\n",
              "      <th>Close_Log_Return_t1</th>\n",
              "      <th>Close_Log_Return</th>\n",
              "    </tr>\n",
              "  </thead>\n",
              "  <tbody>\n",
              "    <tr>\n",
              "      <th>2589</th>\n",
              "      <td>0.600000</td>\n",
              "      <td>0.608333</td>\n",
              "      <td>0.600000</td>\n",
              "    </tr>\n",
              "    <tr>\n",
              "      <th>2590</th>\n",
              "      <td>0.608333</td>\n",
              "      <td>0.600000</td>\n",
              "      <td>0.575000</td>\n",
              "    </tr>\n",
              "    <tr>\n",
              "      <th>2591</th>\n",
              "      <td>0.600000</td>\n",
              "      <td>0.575000</td>\n",
              "      <td>0.550000</td>\n",
              "    </tr>\n",
              "    <tr>\n",
              "      <th>2592</th>\n",
              "      <td>0.575000</td>\n",
              "      <td>0.550000</td>\n",
              "      <td>0.558333</td>\n",
              "    </tr>\n",
              "    <tr>\n",
              "      <th>2593</th>\n",
              "      <td>0.550000</td>\n",
              "      <td>0.558333</td>\n",
              "      <td>0.583333</td>\n",
              "    </tr>\n",
              "    <tr>\n",
              "      <th>...</th>\n",
              "      <td>...</td>\n",
              "      <td>...</td>\n",
              "      <td>...</td>\n",
              "    </tr>\n",
              "    <tr>\n",
              "      <th>3694</th>\n",
              "      <td>0.550000</td>\n",
              "      <td>0.533333</td>\n",
              "      <td>0.516667</td>\n",
              "    </tr>\n",
              "    <tr>\n",
              "      <th>3695</th>\n",
              "      <td>0.533333</td>\n",
              "      <td>0.516667</td>\n",
              "      <td>0.541667</td>\n",
              "    </tr>\n",
              "    <tr>\n",
              "      <th>3696</th>\n",
              "      <td>0.516667</td>\n",
              "      <td>0.541667</td>\n",
              "      <td>0.566667</td>\n",
              "    </tr>\n",
              "    <tr>\n",
              "      <th>3697</th>\n",
              "      <td>0.541667</td>\n",
              "      <td>0.566667</td>\n",
              "      <td>0.550000</td>\n",
              "    </tr>\n",
              "    <tr>\n",
              "      <th>3698</th>\n",
              "      <td>0.566667</td>\n",
              "      <td>0.550000</td>\n",
              "      <td>0.558333</td>\n",
              "    </tr>\n",
              "  </tbody>\n",
              "</table>\n",
              "<p>1110 rows × 3 columns</p>\n",
              "</div>\n",
              "      <button class=\"colab-df-convert\" onclick=\"convertToInteractive('df-a4026ea0-974b-480c-a8e8-a5790242bd58')\"\n",
              "              title=\"Convert this dataframe to an interactive table.\"\n",
              "              style=\"display:none;\">\n",
              "        \n",
              "  <svg xmlns=\"http://www.w3.org/2000/svg\" height=\"24px\"viewBox=\"0 0 24 24\"\n",
              "       width=\"24px\">\n",
              "    <path d=\"M0 0h24v24H0V0z\" fill=\"none\"/>\n",
              "    <path d=\"M18.56 5.44l.94 2.06.94-2.06 2.06-.94-2.06-.94-.94-2.06-.94 2.06-2.06.94zm-11 1L8.5 8.5l.94-2.06 2.06-.94-2.06-.94L8.5 2.5l-.94 2.06-2.06.94zm10 10l.94 2.06.94-2.06 2.06-.94-2.06-.94-.94-2.06-.94 2.06-2.06.94z\"/><path d=\"M17.41 7.96l-1.37-1.37c-.4-.4-.92-.59-1.43-.59-.52 0-1.04.2-1.43.59L10.3 9.45l-7.72 7.72c-.78.78-.78 2.05 0 2.83L4 21.41c.39.39.9.59 1.41.59.51 0 1.02-.2 1.41-.59l7.78-7.78 2.81-2.81c.8-.78.8-2.07 0-2.86zM5.41 20L4 18.59l7.72-7.72 1.47 1.35L5.41 20z\"/>\n",
              "  </svg>\n",
              "      </button>\n",
              "      \n",
              "  <style>\n",
              "    .colab-df-container {\n",
              "      display:flex;\n",
              "      flex-wrap:wrap;\n",
              "      gap: 12px;\n",
              "    }\n",
              "\n",
              "    .colab-df-convert {\n",
              "      background-color: #E8F0FE;\n",
              "      border: none;\n",
              "      border-radius: 50%;\n",
              "      cursor: pointer;\n",
              "      display: none;\n",
              "      fill: #1967D2;\n",
              "      height: 32px;\n",
              "      padding: 0 0 0 0;\n",
              "      width: 32px;\n",
              "    }\n",
              "\n",
              "    .colab-df-convert:hover {\n",
              "      background-color: #E2EBFA;\n",
              "      box-shadow: 0px 1px 2px rgba(60, 64, 67, 0.3), 0px 1px 3px 1px rgba(60, 64, 67, 0.15);\n",
              "      fill: #174EA6;\n",
              "    }\n",
              "\n",
              "    [theme=dark] .colab-df-convert {\n",
              "      background-color: #3B4455;\n",
              "      fill: #D2E3FC;\n",
              "    }\n",
              "\n",
              "    [theme=dark] .colab-df-convert:hover {\n",
              "      background-color: #434B5C;\n",
              "      box-shadow: 0px 1px 3px 1px rgba(0, 0, 0, 0.15);\n",
              "      filter: drop-shadow(0px 1px 2px rgba(0, 0, 0, 0.3));\n",
              "      fill: #FFFFFF;\n",
              "    }\n",
              "  </style>\n",
              "\n",
              "      <script>\n",
              "        const buttonEl =\n",
              "          document.querySelector('#df-a4026ea0-974b-480c-a8e8-a5790242bd58 button.colab-df-convert');\n",
              "        buttonEl.style.display =\n",
              "          google.colab.kernel.accessAllowed ? 'block' : 'none';\n",
              "\n",
              "        async function convertToInteractive(key) {\n",
              "          const element = document.querySelector('#df-a4026ea0-974b-480c-a8e8-a5790242bd58');\n",
              "          const dataTable =\n",
              "            await google.colab.kernel.invokeFunction('convertToInteractive',\n",
              "                                                     [key], {});\n",
              "          if (!dataTable) return;\n",
              "\n",
              "          const docLinkHtml = 'Like what you see? Visit the ' +\n",
              "            '<a target=\"_blank\" href=https://colab.research.google.com/notebooks/data_table.ipynb>data table notebook</a>'\n",
              "            + ' to learn more about interactive tables.';\n",
              "          element.innerHTML = '';\n",
              "          dataTable['output_type'] = 'display_data';\n",
              "          await google.colab.output.renderOutput(dataTable, element);\n",
              "          const docLink = document.createElement('div');\n",
              "          docLink.innerHTML = docLinkHtml;\n",
              "          element.appendChild(docLink);\n",
              "        }\n",
              "      </script>\n",
              "    </div>\n",
              "  </div>\n",
              "  "
            ]
          },
          "metadata": {},
          "execution_count": 39
        }
      ]
    },
    {
      "cell_type": "code",
      "execution_count": null,
      "id": "6bc7168c",
      "metadata": {
        "colab": {
          "base_uri": "https://localhost:8080/"
        },
        "id": "6bc7168c",
        "outputId": "0dd92861-3eb0-4412-c560-3d7af1605369"
      },
      "outputs": [
        {
          "output_type": "stream",
          "name": "stdout",
          "text": [
            "----------Dados brutos---------\n",
            "(2590, 3)\n",
            "(1110, 3)\n"
          ]
        }
      ],
      "source": [
        "#inspecionando as dimensões das amostras de treino e teste de cada conjunto de dados\n",
        "print(\"----------Dados brutos---------\")\n",
        "print(df_SMA5_train.shape)\n",
        "print(df_SMA5_test.shape)"
      ]
    },
    {
      "cell_type": "markdown",
      "source": [
        "###Configurando AutoML"
      ],
      "metadata": {
        "id": "I_77Jxxn0KDw"
      },
      "id": "I_77Jxxn0KDw"
    },
    {
      "cell_type": "markdown",
      "id": "a4b3ca06",
      "metadata": {
        "id": "a4b3ca06"
      },
      "source": [
        "### Dados brutos - \"x\" e \"y\" de treino"
      ]
    },
    {
      "cell_type": "code",
      "execution_count": null,
      "id": "2c3ead53",
      "metadata": {
        "colab": {
          "base_uri": "https://localhost:8080/"
        },
        "id": "2c3ead53",
        "outputId": "d423585d-876c-4d92-9ca1-e4b1a620fb36"
      },
      "outputs": [
        {
          "output_type": "execute_result",
          "data": {
            "text/plain": [
              "0    0.516667\n",
              "1    0.600000\n",
              "2    0.575000\n",
              "3    0.591667\n",
              "4    0.583333\n",
              "Name: Close_Log_Return, dtype: float64"
            ]
          },
          "metadata": {},
          "execution_count": 41
        }
      ],
      "source": [
        "y_train_SMA5 = df_SMA5_train['Close_Log_Return']\n",
        "y_train_SMA5.head()"
      ]
    },
    {
      "cell_type": "code",
      "execution_count": null,
      "id": "eb7f28d3",
      "metadata": {
        "id": "eb7f28d3"
      },
      "outputs": [],
      "source": [
        "#x_train_cols = \n",
        "x_train_SMA5 = df_SMA5_train[['Close_Log_Return_t2','Close_Log_Return_t1']]\n",
        "\n",
        "# Normalizando os dados de entrada(features)\n",
        "#scaler = StandardScaler()\n",
        "#x_train_SMA5_scale = scaler.fit_transform(x_train_SMA5)  # Normalizando os dados de entrada(treinamento)\n",
        "\n",
        "#x_train_brutos.head()"
      ]
    },
    {
      "cell_type": "code",
      "execution_count": null,
      "id": "381567b0",
      "metadata": {
        "id": "381567b0",
        "colab": {
          "base_uri": "https://localhost:8080/",
          "height": 538
        },
        "outputId": "90c42a2b-ecf6-4ea0-95cb-cbd09be24e49"
      },
      "outputs": [
        {
          "output_type": "execute_result",
          "data": {
            "text/plain": [
              "(array([[0., 0., 0., ..., 0., 0., 0.],\n",
              "        [0., 0., 0., ..., 0., 0., 0.],\n",
              "        [0., 0., 0., ..., 0., 0., 0.],\n",
              "        ...,\n",
              "        [0., 0., 0., ..., 0., 0., 0.],\n",
              "        [0., 0., 0., ..., 0., 0., 0.],\n",
              "        [0., 0., 0., ..., 0., 0., 0.]]),\n",
              " array([0.08333333, 0.175     , 0.26666667, 0.35833333, 0.45      ,\n",
              "        0.54166667, 0.63333333, 0.725     , 0.81666667, 0.90833333,\n",
              "        1.        ]),\n",
              " <a list of 2590 Lists of Patches objects>)"
            ]
          },
          "metadata": {},
          "execution_count": 43
        },
        {
          "output_type": "display_data",
          "data": {
            "text/plain": [
              "<Figure size 576x396 with 1 Axes>"
            ],
            "image/png": "[encoded data removed]"
          },
          "metadata": {}
        }
      ],
      "source": [
        "#plt.hist(x_train_SMA5_scale)\n",
        "plt.hist(x_train_SMA5)"
      ]
    },
    {
      "cell_type": "code",
      "execution_count": null,
      "id": "209ff6fb",
      "metadata": {
        "id": "209ff6fb",
        "colab": {
          "base_uri": "https://localhost:8080/",
          "height": 451
        },
        "outputId": "c0039f2a-bd81-4c7c-f13c-4276355fa513"
      },
      "outputs": [
        {
          "output_type": "execute_result",
          "data": {
            "text/plain": [
              "(array([2.00e+00, 4.00e+00, 5.00e+00, 5.30e+01, 6.75e+02, 1.51e+03,\n",
              "        3.16e+02, 2.00e+01, 4.00e+00, 1.00e+00]),\n",
              " array([0.08333333, 0.175     , 0.26666667, 0.35833333, 0.45      ,\n",
              "        0.54166667, 0.63333333, 0.725     , 0.81666667, 0.90833333,\n",
              "        1.        ]),\n",
              " <a list of 10 Patch objects>)"
            ]
          },
          "metadata": {},
          "execution_count": 44
        },
        {
          "output_type": "display_data",
          "data": {
            "text/plain": [
              "<Figure size 576x396 with 1 Axes>"
            ],
            "image/png": "[encoded data removed]"
          },
          "metadata": {}
        }
      ],
      "source": [
        "plt.hist(y_train_SMA5)"
      ]
    },
    {
      "cell_type": "markdown",
      "id": "839c2134",
      "metadata": {
        "id": "839c2134"
      },
      "source": [
        "### Dados brutos - \"x\" e \"y\" de teste"
      ]
    },
    {
      "cell_type": "code",
      "execution_count": null,
      "id": "fa0809ef",
      "metadata": {
        "id": "fa0809ef",
        "colab": {
          "base_uri": "https://localhost:8080/"
        },
        "outputId": "7dd929b0-81e5-4076-d205-17209dcaaaf5"
      },
      "outputs": [
        {
          "output_type": "execute_result",
          "data": {
            "text/plain": [
              "2589    0.600000\n",
              "2590    0.575000\n",
              "2591    0.550000\n",
              "2592    0.558333\n",
              "2593    0.583333\n",
              "Name: Close_Log_Return, dtype: float64"
            ]
          },
          "metadata": {},
          "execution_count": 45
        }
      ],
      "source": [
        "y_test_SMA5 = df_SMA5_test['Close_Log_Return']\n",
        "y_test_SMA5.head()"
      ]
    },
    {
      "cell_type": "code",
      "execution_count": null,
      "id": "fb168a45",
      "metadata": {
        "id": "fb168a45",
        "colab": {
          "base_uri": "https://localhost:8080/",
          "height": 206
        },
        "outputId": "f2bfe2bd-2c4e-4f8c-b8d7-bb2c078d39e2"
      },
      "outputs": [
        {
          "output_type": "execute_result",
          "data": {
            "text/plain": [
              "      Close_Log_Return_t2  Close_Log_Return_t1\n",
              "2589             0.600000             0.608333\n",
              "2590             0.608333             0.600000\n",
              "2591             0.600000             0.575000\n",
              "2592             0.575000             0.550000\n",
              "2593             0.550000             0.558333"
            ],
            "text/html": [
              "\n",
              "  <div id=\"df-42d63416-49c1-4d2a-81bc-0e6e854e2281\">\n",
              "    <div class=\"colab-df-container\">\n",
              "      <div>\n",
              "<style scoped>\n",
              "    .dataframe tbody tr th:only-of-type {\n",
              "        vertical-align: middle;\n",
              "    }\n",
              "\n",
              "    .dataframe tbody tr th {\n",
              "        vertical-align: top;\n",
              "    }\n",
              "\n",
              "    .dataframe thead th {\n",
              "        text-align: right;\n",
              "    }\n",
              "</style>\n",
              "<table border=\"1\" class=\"dataframe\">\n",
              "  <thead>\n",
              "    <tr style=\"text-align: right;\">\n",
              "      <th></th>\n",
              "      <th>Close_Log_Return_t2</th>\n",
              "      <th>Close_Log_Return_t1</th>\n",
              "    </tr>\n",
              "  </thead>\n",
              "  <tbody>\n",
              "    <tr>\n",
              "      <th>2589</th>\n",
              "      <td>0.600000</td>\n",
              "      <td>0.608333</td>\n",
              "    </tr>\n",
              "    <tr>\n",
              "      <th>2590</th>\n",
              "      <td>0.608333</td>\n",
              "      <td>0.600000</td>\n",
              "    </tr>\n",
              "    <tr>\n",
              "      <th>2591</th>\n",
              "      <td>0.600000</td>\n",
              "      <td>0.575000</td>\n",
              "    </tr>\n",
              "    <tr>\n",
              "      <th>2592</th>\n",
              "      <td>0.575000</td>\n",
              "      <td>0.550000</td>\n",
              "    </tr>\n",
              "    <tr>\n",
              "      <th>2593</th>\n",
              "      <td>0.550000</td>\n",
              "      <td>0.558333</td>\n",
              "    </tr>\n",
              "  </tbody>\n",
              "</table>\n",
              "</div>\n",
              "      <button class=\"colab-df-convert\" onclick=\"convertToInteractive('df-42d63416-49c1-4d2a-81bc-0e6e854e2281')\"\n",
              "              title=\"Convert this dataframe to an interactive table.\"\n",
              "              style=\"display:none;\">\n",
              "        \n",
              "  <svg xmlns=\"http://www.w3.org/2000/svg\" height=\"24px\"viewBox=\"0 0 24 24\"\n",
              "       width=\"24px\">\n",
              "    <path d=\"M0 0h24v24H0V0z\" fill=\"none\"/>\n",
              "    <path d=\"M18.56 5.44l.94 2.06.94-2.06 2.06-.94-2.06-.94-.94-2.06-.94 2.06-2.06.94zm-11 1L8.5 8.5l.94-2.06 2.06-.94-2.06-.94L8.5 2.5l-.94 2.06-2.06.94zm10 10l.94 2.06.94-2.06 2.06-.94-2.06-.94-.94-2.06-.94 2.06-2.06.94z\"/><path d=\"M17.41 7.96l-1.37-1.37c-.4-.4-.92-.59-1.43-.59-.52 0-1.04.2-1.43.59L10.3 9.45l-7.72 7.72c-.78.78-.78 2.05 0 2.83L4 21.41c.39.39.9.59 1.41.59.51 0 1.02-.2 1.41-.59l7.78-7.78 2.81-2.81c.8-.78.8-2.07 0-2.86zM5.41 20L4 18.59l7.72-7.72 1.47 1.35L5.41 20z\"/>\n",
              "  </svg>\n",
              "      </button>\n",
              "      \n",
              "  <style>\n",
              "    .colab-df-container {\n",
              "      display:flex;\n",
              "      flex-wrap:wrap;\n",
              "      gap: 12px;\n",
              "    }\n",
              "\n",
              "    .colab-df-convert {\n",
              "      background-color: #E8F0FE;\n",
              "      border: none;\n",
              "      border-radius: 50%;\n",
              "      cursor: pointer;\n",
              "      display: none;\n",
              "      fill: #1967D2;\n",
              "      height: 32px;\n",
              "      padding: 0 0 0 0;\n",
              "      width: 32px;\n",
              "    }\n",
              "\n",
              "    .colab-df-convert:hover {\n",
              "      background-color: #E2EBFA;\n",
              "      box-shadow: 0px 1px 2px rgba(60, 64, 67, 0.3), 0px 1px 3px 1px rgba(60, 64, 67, 0.15);\n",
              "      fill: #174EA6;\n",
              "    }\n",
              "\n",
              "    [theme=dark] .colab-df-convert {\n",
              "      background-color: #3B4455;\n",
              "      fill: #D2E3FC;\n",
              "    }\n",
              "\n",
              "    [theme=dark] .colab-df-convert:hover {\n",
              "      background-color: #434B5C;\n",
              "      box-shadow: 0px 1px 3px 1px rgba(0, 0, 0, 0.15);\n",
              "      filter: drop-shadow(0px 1px 2px rgba(0, 0, 0, 0.3));\n",
              "      fill: #FFFFFF;\n",
              "    }\n",
              "  </style>\n",
              "\n",
              "      <script>\n",
              "        const buttonEl =\n",
              "          document.querySelector('#df-42d63416-49c1-4d2a-81bc-0e6e854e2281 button.colab-df-convert');\n",
              "        buttonEl.style.display =\n",
              "          google.colab.kernel.accessAllowed ? 'block' : 'none';\n",
              "\n",
              "        async function convertToInteractive(key) {\n",
              "          const element = document.querySelector('#df-42d63416-49c1-4d2a-81bc-0e6e854e2281');\n",
              "          const dataTable =\n",
              "            await google.colab.kernel.invokeFunction('convertToInteractive',\n",
              "                                                     [key], {});\n",
              "          if (!dataTable) return;\n",
              "\n",
              "          const docLinkHtml = 'Like what you see? Visit the ' +\n",
              "            '<a target=\"_blank\" href=https://colab.research.google.com/notebooks/data_table.ipynb>data table notebook</a>'\n",
              "            + ' to learn more about interactive tables.';\n",
              "          element.innerHTML = '';\n",
              "          dataTable['output_type'] = 'display_data';\n",
              "          await google.colab.output.renderOutput(dataTable, element);\n",
              "          const docLink = document.createElement('div');\n",
              "          docLink.innerHTML = docLinkHtml;\n",
              "          element.appendChild(docLink);\n",
              "        }\n",
              "      </script>\n",
              "    </div>\n",
              "  </div>\n",
              "  "
            ]
          },
          "metadata": {},
          "execution_count": 46
        }
      ],
      "source": [
        "x_test_SMA5 = df_SMA5_test[['Close_Log_Return_t2','Close_Log_Return_t1']]\n",
        "\n",
        "#x_test_SMA5_scale  = scaler.transform(x_test_SMA5) \n",
        "\n",
        "x_test_SMA5.head()"
      ]
    },
    {
      "cell_type": "markdown",
      "id": "7631fbd6",
      "metadata": {
        "id": "7631fbd6"
      },
      "source": [
        "## Utilizando algoritmos de machine learning para verificação do desempenho da previsão em cada caso."
      ]
    },
    {
      "cell_type": "markdown",
      "id": "5a0577d1",
      "metadata": {
        "id": "5a0577d1"
      },
      "source": [
        "### Aplicando otimização de hiperparâmetros com RandomSearchCV"
      ]
    },
    {
      "cell_type": "markdown",
      "id": "f02dddf7",
      "metadata": {
        "id": "f02dddf7"
      },
      "source": [
        "### Criando diferentes SVRs com as diferentes kernels"
      ]
    },
    {
      "cell_type": "code",
      "execution_count": null,
      "id": "01505255",
      "metadata": {
        "id": "01505255"
      },
      "outputs": [],
      "source": [
        "#'kernel': ['rbf','linear','poly'],\n",
        "svr_regressor = NuSVR()\n",
        "#svr_regressor_linear = SVR(kernel='linear')\n",
        "#svr_regressor_poly = SVR(kernel='poly')"
      ]
    },
    {
      "cell_type": "code",
      "execution_count": null,
      "id": "96522a67",
      "metadata": {
        "id": "96522a67"
      },
      "outputs": [],
      "source": [
        "#Definindo o espaço de busca de hiperparâmetros. Para cada um é definida uma faixa de busca\n",
        "hyperparameters_svr = {\n",
        "     \"C\": list(range(1,100)),\n",
        "    'kernel': ['poly'],\n",
        "    #\"gamma\": list(range(1,100)),\n",
        "    \"max_iter\": list(range(2,5000)),\n",
        "    'nu': np.linspace(0.1,0.9),\n",
        "    'gamma':['scale', 'auto'],\n",
        "    'degree': list(range(2,100))\n",
        "    #'epsilon': list(range(1,100))\n",
        "}"
      ]
    },
    {
      "cell_type": "code",
      "source": [
        "print(np.linspace(0.1,0.9))"
      ],
      "metadata": {
        "id": "9zynNrFx23Yb",
        "colab": {
          "base_uri": "https://localhost:8080/"
        },
        "outputId": "d84b9c63-90a7-4614-f5cf-8d1446337db5"
      },
      "id": "9zynNrFx23Yb",
      "execution_count": null,
      "outputs": [
        {
          "output_type": "stream",
          "name": "stdout",
          "text": [
            "[0.1        0.11632653 0.13265306 0.14897959 0.16530612 0.18163265\n",
            " 0.19795918 0.21428571 0.23061224 0.24693878 0.26326531 0.27959184\n",
            " 0.29591837 0.3122449  0.32857143 0.34489796 0.36122449 0.37755102\n",
            " 0.39387755 0.41020408 0.42653061 0.44285714 0.45918367 0.4755102\n",
            " 0.49183673 0.50816327 0.5244898  0.54081633 0.55714286 0.57346939\n",
            " 0.58979592 0.60612245 0.62244898 0.63877551 0.65510204 0.67142857\n",
            " 0.6877551  0.70408163 0.72040816 0.73673469 0.75306122 0.76938776\n",
            " 0.78571429 0.80204082 0.81836735 0.83469388 0.85102041 0.86734694\n",
            " 0.88367347 0.9       ]\n"
          ]
        }
      ]
    },
    {
      "cell_type": "markdown",
      "id": "3c16b449",
      "metadata": {
        "id": "3c16b449"
      },
      "source": [
        "### Criando um modelo para cada tipo de SVR utilizando busca aleatória de hiperparâmetros."
      ]
    },
    {
      "cell_type": "code",
      "execution_count": null,
      "id": "30c6f81b",
      "metadata": {
        "id": "30c6f81b"
      },
      "outputs": [],
      "source": [
        "model_svr_RS = RandomizedSearchCV(\n",
        "    svr_regressor,\n",
        "    hyperparameters_svr,\n",
        "    n_iter = 60,\n",
        "    cv = 17, \n",
        "    scoring = 'neg_mean_squared_error'\n",
        ")\n",
        "\n",
        "#esclarecer o 'cv'."
      ]
    },
    {
      "cell_type": "code",
      "execution_count": null,
      "id": "d8403adf",
      "metadata": {
        "id": "d8403adf",
        "colab": {
          "base_uri": "https://localhost:8080/"
        },
        "outputId": "f52b124b-207d-4c18-9c89-dffe4e14a076"
      },
      "outputs": [
        {
          "output_type": "execute_result",
          "data": {
            "text/plain": [
              "RandomizedSearchCV(cv=17, estimator=NuSVR(), n_iter=60,\n",
              "                   param_distributions={'C': [1, 2, 3, 4, 5, 6, 7, 8, 9, 10, 11,\n",
              "                                              12, 13, 14, 15, 16, 17, 18, 19,\n",
              "                                              20, 21, 22, 23, 24, 25, 26, 27,\n",
              "                                              28, 29, 30, ...],\n",
              "                                        'degree': [2, 3, 4, 5, 6, 7, 8, 9, 10,\n",
              "                                                   11, 12, 13, 14, 15, 16, 17,\n",
              "                                                   18, 19, 20, 21, 22, 23, 24,\n",
              "                                                   25, 26, 27, 28, 29, 30, 31, ...],\n",
              "                                        'gamma': ['scale', 'auto'],\n",
              "                                        'kernel': ['poly'],\n",
              "                                        'max_iter': [2, 3, 4, 5, 6, 7, 8, 9, 10,\n",
              "                                                     11, 12, 13, 14, 15...\n",
              "       0.42653061, 0.44285714, 0.45918367, 0.4755102 , 0.49183673,\n",
              "       0.50816327, 0.5244898 , 0.54081633, 0.55714286, 0.57346939,\n",
              "       0.58979592, 0.60612245, 0.62244898, 0.63877551, 0.65510204,\n",
              "       0.67142857, 0.6877551 , 0.70408163, 0.72040816, 0.73673469,\n",
              "       0.75306122, 0.76938776, 0.78571429, 0.80204082, 0.81836735,\n",
              "       0.83469388, 0.85102041, 0.86734694, 0.88367347, 0.9       ])},\n",
              "                   scoring='neg_mean_squared_error')"
            ]
          },
          "metadata": {},
          "execution_count": 51
        }
      ],
      "source": [
        "model_svr_RS"
      ]
    },
    {
      "cell_type": "markdown",
      "id": "e356835b",
      "metadata": {
        "id": "e356835b"
      },
      "source": [
        "## Treinando o modelo com as três kernels - Dados Brutos"
      ]
    },
    {
      "cell_type": "markdown",
      "id": "86e71104",
      "metadata": {
        "id": "86e71104"
      },
      "source": [
        "#### Treinar o modelo utilizando as melhores combinações aleatórias de hiperparâmetros encontradas - Utilizando Kernel RBF"
      ]
    },
    {
      "cell_type": "code",
      "execution_count": null,
      "id": "661266bf",
      "metadata": {
        "id": "661266bf"
      },
      "outputs": [],
      "source": [
        "#treinar o modelo utilizando as combinações aleatórias a fim de obter a melhor combinação de hiperparâmetros \n",
        "#with warnings.catch_warnings():\n",
        "model_svr_RS.fit(x_train_SMA5, y_train_SMA5)"
      ]
    },
    {
      "cell_type": "code",
      "execution_count": null,
      "id": "c84b58e7",
      "metadata": {
        "id": "c84b58e7",
        "colab": {
          "base_uri": "https://localhost:8080/"
        },
        "outputId": "45171bf7-d7ff-494e-aa25-ed3fbbc40b95"
      },
      "outputs": [
        {
          "output_type": "execute_result",
          "data": {
            "text/plain": [
              "{'nu': 0.7204081632653062,\n",
              " 'max_iter': 4835,\n",
              " 'kernel': 'poly',\n",
              " 'gamma': 'auto',\n",
              " 'degree': 4,\n",
              " 'C': 34}"
            ]
          },
          "metadata": {},
          "execution_count": 53
        }
      ],
      "source": [
        "model_svr_RS.best_params_"
      ]
    },
    {
      "cell_type": "code",
      "execution_count": null,
      "id": "da8689da",
      "metadata": {
        "id": "da8689da",
        "colab": {
          "base_uri": "https://localhost:8080/"
        },
        "outputId": "6729196b-b9c6-49bb-9c0f-eff15ba71fe4"
      },
      "outputs": [
        {
          "output_type": "stream",
          "name": "stdout",
          "text": [
            "NuSVR(C=34, degree=4, gamma='auto', kernel='poly', max_iter=4835,\n",
            "      nu=0.7204081632653062)\n"
          ]
        }
      ],
      "source": [
        "best_svr_linear = model_svr_RS.best_estimator_\n",
        "print(best_svr_linear)"
      ]
    },
    {
      "cell_type": "markdown",
      "id": "eb23bcab",
      "metadata": {
        "id": "eb23bcab"
      },
      "source": [
        "### Previsão e métricas - Dados brutos"
      ]
    },
    {
      "cell_type": "code",
      "source": [
        "def smape(A, F):\n",
        "    return 100/len(A) * np.sum(2 * np.abs(F - A) / (np.abs(A) + np.abs(F)))"
      ],
      "metadata": {
        "id": "33sZmc5x2kp3"
      },
      "id": "33sZmc5x2kp3",
      "execution_count": null,
      "outputs": []
    },
    {
      "cell_type": "markdown",
      "id": "f79d537f",
      "metadata": {
        "id": "f79d537f"
      },
      "source": [
        "#### Utilizando kernel RBF"
      ]
    },
    {
      "cell_type": "code",
      "execution_count": null,
      "id": "55fa138f",
      "metadata": {
        "id": "55fa138f",
        "colab": {
          "base_uri": "https://localhost:8080/"
        },
        "outputId": "ae898934-7b52-4d99-d7ff-4d8e07d2c25a"
      },
      "outputs": [
        {
          "output_type": "stream",
          "name": "stdout",
          "text": [
            "Score do r2  : 0.4894388323607417\n",
            "Erro quadrático médio (valores próximos a zero são melhores) : 0.0017697977284657116\n",
            "smape: 5.007873938636572 %\n"
          ]
        }
      ],
      "source": [
        "#desnormalizar: scaler.inverse_transform\n",
        "pred_SMA5_linear = best_svr_linear.predict(x_test_SMA5)\n",
        "#print(\"Score do regressor SVR  :\", _best_svr_rbf_model.score( x_test_brutos_scale , y_test_brutos ))\n",
        "print(\"Score do r2  :\",r2_score(y_test_SMA5 , pred_SMA5_linear))\n",
        "print(\"Erro quadrático médio (valores próximos a zero são melhores) :\", mean_squared_error(y_test_SMA5 , pred_SMA5_linear))\n",
        "\n",
        "print(\"smape:\", smape(y_test_SMA5, pred_SMA5_linear), \"%\")"
      ]
    },
    {
      "cell_type": "markdown",
      "id": "d2f26428",
      "metadata": {
        "id": "d2f26428"
      },
      "source": [
        "##### Visualizando a previsão em comparação com dados reais de teste - SVR utilizando kernel RBF"
      ]
    },
    {
      "cell_type": "code",
      "execution_count": null,
      "id": "92cca9c4",
      "metadata": {
        "id": "92cca9c4",
        "colab": {
          "base_uri": "https://localhost:8080/",
          "height": 424
        },
        "outputId": "2c39e33c-30eb-40c3-add3-db3c581e5910"
      },
      "outputs": [
        {
          "output_type": "execute_result",
          "data": {
            "text/plain": [
              "      previsto  real_dados_brutos\n",
              "2589  0.594029           0.600000\n",
              "2590  0.585753           0.575000\n",
              "2591  0.565237           0.550000\n",
              "2592  0.548730           0.558333\n",
              "2593  0.556450           0.583333\n",
              "...        ...                ...\n",
              "3694  0.539563           0.516667\n",
              "3695  0.530576           0.541667\n",
              "3696  0.546662           0.566667\n",
              "3697  0.562868           0.550000\n",
              "3698  0.549437           0.558333\n",
              "\n",
              "[1110 rows x 2 columns]"
            ],
            "text/html": [
              "\n",
              "  <div id=\"df-30e48c6a-8eb1-4c6f-981e-0ee752753ffc\">\n",
              "    <div class=\"colab-df-container\">\n",
              "      <div>\n",
              "<style scoped>\n",
              "    .dataframe tbody tr th:only-of-type {\n",
              "        vertical-align: middle;\n",
              "    }\n",
              "\n",
              "    .dataframe tbody tr th {\n",
              "        vertical-align: top;\n",
              "    }\n",
              "\n",
              "    .dataframe thead th {\n",
              "        text-align: right;\n",
              "    }\n",
              "</style>\n",
              "<table border=\"1\" class=\"dataframe\">\n",
              "  <thead>\n",
              "    <tr style=\"text-align: right;\">\n",
              "      <th></th>\n",
              "      <th>previsto</th>\n",
              "      <th>real_dados_brutos</th>\n",
              "    </tr>\n",
              "  </thead>\n",
              "  <tbody>\n",
              "    <tr>\n",
              "      <th>2589</th>\n",
              "      <td>0.594029</td>\n",
              "      <td>0.600000</td>\n",
              "    </tr>\n",
              "    <tr>\n",
              "      <th>2590</th>\n",
              "      <td>0.585753</td>\n",
              "      <td>0.575000</td>\n",
              "    </tr>\n",
              "    <tr>\n",
              "      <th>2591</th>\n",
              "      <td>0.565237</td>\n",
              "      <td>0.550000</td>\n",
              "    </tr>\n",
              "    <tr>\n",
              "      <th>2592</th>\n",
              "      <td>0.548730</td>\n",
              "      <td>0.558333</td>\n",
              "    </tr>\n",
              "    <tr>\n",
              "      <th>2593</th>\n",
              "      <td>0.556450</td>\n",
              "      <td>0.583333</td>\n",
              "    </tr>\n",
              "    <tr>\n",
              "      <th>...</th>\n",
              "      <td>...</td>\n",
              "      <td>...</td>\n",
              "    </tr>\n",
              "    <tr>\n",
              "      <th>3694</th>\n",
              "      <td>0.539563</td>\n",
              "      <td>0.516667</td>\n",
              "    </tr>\n",
              "    <tr>\n",
              "      <th>3695</th>\n",
              "      <td>0.530576</td>\n",
              "      <td>0.541667</td>\n",
              "    </tr>\n",
              "    <tr>\n",
              "      <th>3696</th>\n",
              "      <td>0.546662</td>\n",
              "      <td>0.566667</td>\n",
              "    </tr>\n",
              "    <tr>\n",
              "      <th>3697</th>\n",
              "      <td>0.562868</td>\n",
              "      <td>0.550000</td>\n",
              "    </tr>\n",
              "    <tr>\n",
              "      <th>3698</th>\n",
              "      <td>0.549437</td>\n",
              "      <td>0.558333</td>\n",
              "    </tr>\n",
              "  </tbody>\n",
              "</table>\n",
              "<p>1110 rows × 2 columns</p>\n",
              "</div>\n",
              "      <button class=\"colab-df-convert\" onclick=\"convertToInteractive('df-30e48c6a-8eb1-4c6f-981e-0ee752753ffc')\"\n",
              "              title=\"Convert this dataframe to an interactive table.\"\n",
              "              style=\"display:none;\">\n",
              "        \n",
              "  <svg xmlns=\"http://www.w3.org/2000/svg\" height=\"24px\"viewBox=\"0 0 24 24\"\n",
              "       width=\"24px\">\n",
              "    <path d=\"M0 0h24v24H0V0z\" fill=\"none\"/>\n",
              "    <path d=\"M18.56 5.44l.94 2.06.94-2.06 2.06-.94-2.06-.94-.94-2.06-.94 2.06-2.06.94zm-11 1L8.5 8.5l.94-2.06 2.06-.94-2.06-.94L8.5 2.5l-.94 2.06-2.06.94zm10 10l.94 2.06.94-2.06 2.06-.94-2.06-.94-.94-2.06-.94 2.06-2.06.94z\"/><path d=\"M17.41 7.96l-1.37-1.37c-.4-.4-.92-.59-1.43-.59-.52 0-1.04.2-1.43.59L10.3 9.45l-7.72 7.72c-.78.78-.78 2.05 0 2.83L4 21.41c.39.39.9.59 1.41.59.51 0 1.02-.2 1.41-.59l7.78-7.78 2.81-2.81c.8-.78.8-2.07 0-2.86zM5.41 20L4 18.59l7.72-7.72 1.47 1.35L5.41 20z\"/>\n",
              "  </svg>\n",
              "      </button>\n",
              "      \n",
              "  <style>\n",
              "    .colab-df-container {\n",
              "      display:flex;\n",
              "      flex-wrap:wrap;\n",
              "      gap: 12px;\n",
              "    }\n",
              "\n",
              "    .colab-df-convert {\n",
              "      background-color: #E8F0FE;\n",
              "      border: none;\n",
              "      border-radius: 50%;\n",
              "      cursor: pointer;\n",
              "      display: none;\n",
              "      fill: #1967D2;\n",
              "      height: 32px;\n",
              "      padding: 0 0 0 0;\n",
              "      width: 32px;\n",
              "    }\n",
              "\n",
              "    .colab-df-convert:hover {\n",
              "      background-color: #E2EBFA;\n",
              "      box-shadow: 0px 1px 2px rgba(60, 64, 67, 0.3), 0px 1px 3px 1px rgba(60, 64, 67, 0.15);\n",
              "      fill: #174EA6;\n",
              "    }\n",
              "\n",
              "    [theme=dark] .colab-df-convert {\n",
              "      background-color: #3B4455;\n",
              "      fill: #D2E3FC;\n",
              "    }\n",
              "\n",
              "    [theme=dark] .colab-df-convert:hover {\n",
              "      background-color: #434B5C;\n",
              "      box-shadow: 0px 1px 3px 1px rgba(0, 0, 0, 0.15);\n",
              "      filter: drop-shadow(0px 1px 2px rgba(0, 0, 0, 0.3));\n",
              "      fill: #FFFFFF;\n",
              "    }\n",
              "  </style>\n",
              "\n",
              "      <script>\n",
              "        const buttonEl =\n",
              "          document.querySelector('#df-30e48c6a-8eb1-4c6f-981e-0ee752753ffc button.colab-df-convert');\n",
              "        buttonEl.style.display =\n",
              "          google.colab.kernel.accessAllowed ? 'block' : 'none';\n",
              "\n",
              "        async function convertToInteractive(key) {\n",
              "          const element = document.querySelector('#df-30e48c6a-8eb1-4c6f-981e-0ee752753ffc');\n",
              "          const dataTable =\n",
              "            await google.colab.kernel.invokeFunction('convertToInteractive',\n",
              "                                                     [key], {});\n",
              "          if (!dataTable) return;\n",
              "\n",
              "          const docLinkHtml = 'Like what you see? Visit the ' +\n",
              "            '<a target=\"_blank\" href=https://colab.research.google.com/notebooks/data_table.ipynb>data table notebook</a>'\n",
              "            + ' to learn more about interactive tables.';\n",
              "          element.innerHTML = '';\n",
              "          dataTable['output_type'] = 'display_data';\n",
              "          await google.colab.output.renderOutput(dataTable, element);\n",
              "          const docLink = document.createElement('div');\n",
              "          docLink.innerHTML = docLinkHtml;\n",
              "          element.appendChild(docLink);\n",
              "        }\n",
              "      </script>\n",
              "    </div>\n",
              "  </div>\n",
              "  "
            ]
          },
          "metadata": {},
          "execution_count": 57
        }
      ],
      "source": [
        "df_previsao_versus_real_dados_SMA5_linear = pd.DataFrame({'previsto': pred_SMA5_linear,\n",
        "                   'real_dados_brutos': y_test_SMA5})\n",
        "\n",
        "df_previsao_versus_real_dados_SMA5_linear"
      ]
    },
    {
      "cell_type": "code",
      "execution_count": null,
      "id": "7c4d70fb",
      "metadata": {
        "id": "7c4d70fb",
        "colab": {
          "base_uri": "https://localhost:8080/",
          "height": 542
        },
        "outputId": "49351a68-af54-41c8-a94d-3e1d486973df"
      },
      "outputs": [
        {
          "output_type": "display_data",
          "data": {
            "text/html": [
              "<html>\n",
              "<head><meta charset=\"utf-8\" /></head>\n",
              "<body>\n",
              "    <div>            <script src=\"https://cdnjs.cloudflare.com/ajax/libs/mathjax/2.7.5/MathJax.js?config=TeX-AMS-MML_SVG\"></script><script type=\"text/javascript\">if (window.MathJax) {MathJax.Hub.Config({SVG: {font: \"STIX-Web\"}});}</script>                <script type=\"text/javascript\">window.PlotlyConfig = {MathJaxConfig: 'local'};</script>\n",
              "        <script src=\"https://cdn.plot.ly/plotly-2.8.3.min.js\"></script>                <div id=\"938f6014-41e8-4b7d-a7a6-3eb76d5fd938\" class=\"plotly-graph-div\" style=\"height:525px; width:100%;\"></div>            <script type=\"text/javascript\">                                    window.PLOTLYENV=window.PLOTLYENV || {};                                    if (document.getElementById(\"938f6014-41e8-4b7d-a7a6-3eb76d5fd938\")) {                    Plotly.newPlot(                        \"938f6014-41e8-4b7d-a7a6-3eb76d5fd938\",                        [{\"hovertemplate\":\"variable=previsto<br>index=%{x}<br>value=%{y}<extra></extra>\",\"legendgroup\":\"previsto\",\"line\":{\"color\":\"#636efa\",\"dash\":\"solid\"},\"marker\":{\"symbol\":\"circle\"},\"mode\":\"lines\",\"name\":\"previsto\",\"showlegend\":true,\"x\":[2589,2590,2591,2592,2593,2594,2595,2596,2597,2598,2599,2600,2601,2602,2603,2604,2605,2606,2607,2608,2609,2610,2611,2612,2613,2614,2615,2616,2617,2618,2619,2620,2621,2622,2623,2624,2625,2626,2627,2628,2629,2630,2631,2632,2633,2634,2635,2636,2637,2638,2639,2640,2641,2642,2643,2644,2645,2646,2647,2648,2649,2650,2651,2652,2653,2654,2655,2656,2657,2658,2659,2660,2661,2662,2663,2664,2665,2666,2667,2668,2669,2670,2671,2672,2673,2674,2675,2676,2677,2678,2679,2680,2681,2682,2683,2684,2685,2686,2687,2688,2689,2690,2691,2692,2693,2694,2695,2696,2697,2698,2699,2700,2701,2702,2703,2704,2705,2706,2707,2708,2709,2710,2711,2712,2713,2714,2715,2716,2717,2718,2719,2720,2721,2722,2723,2724,2725,2726,2727,2728,2729,2730,2731,2732,2733,2734,2735,2736,2737,2738,2739,2740,2741,2742,2743,2744,2745,2746,2747,2748,2749,2750,2751,2752,2753,2754,2755,2756,2757,2758,2759,2760,2761,2762,2763,2764,2765,2766,2767,2768,2769,2770,2771,2772,2773,2774,2775,2776,2777,2778,2779,2780,2781,2782,2783,2784,2785,2786,2787,2788,2789,2790,2791,2792,2793,2794,2795,2796,2797,2798,2799,2800,2801,2802,2803,2804,2805,2806,2807,2808,2809,2810,2811,2812,2813,2814,2815,2816,2817,2818,2819,2820,2821,2822,2823,2824,2825,2826,2827,2828,2829,2830,2831,2832,2833,2834,2835,2836,2837,2838,2839,2840,2841,2842,2843,2844,2845,2846,2847,2848,2849,2850,2851,2852,2853,2854,2855,2856,2857,2858,2859,2860,2861,2862,2863,2864,2865,2866,2867,2868,2869,2870,2871,2872,2873,2874,2875,2876,2877,2878,2879,2880,2881,2882,2883,2884,2885,2886,2887,2888,2889,2890,2891,2892,2893,2894,2895,2896,2897,2898,2899,2900,2901,2902,2903,2904,2905,2906,2907,2908,2909,2910,2911,2912,2913,2914,2915,2916,2917,2918,2919,2920,2921,2922,2923,2924,2925,2926,2927,2928,2929,2930,2931,2932,2933,2934,2935,2936,2937,2938,2939,2940,2941,2942,2943,2944,2945,2946,2947,2948,2949,2950,2951,2952,2953,2954,2955,2956,2957,2958,2959,2960,2961,2962,2963,2964,2965,2966,2967,2968,2969,2970,2971,2972,2973,2974,2975,2976,2977,2978,2979,2980,2981,2982,2983,2984,2985,2986,2987,2988,2989,2990,2991,2992,2993,2994,2995,2996,2997,2998,2999,3000,3001,3002,3003,3004,3005,3006,3007,3008,3009,3010,3011,3012,3013,3014,3015,3016,3017,3018,3019,3020,3021,3022,3023,3024,3025,3026,3027,3028,3029,3030,3031,3032,3033,3034,3035,3036,3037,3038,3039,3040,3041,3042,3043,3044,3045,3046,3047,3048,3049,3050,3051,3052,3053,3054,3055,3056,3057,3058,3059,3060,3061,3062,3063,3064,3065,3066,3067,3068,3069,3070,3071,3072,3073,3074,3075,3076,3077,3078,3079,3080,3081,3082,3083,3084,3085,3086,3087,3088,3089,3090,3091,3092,3093,3094,3095,3096,3097,3098,3099,3100,3101,3102,3103,3104,3105,3106,3107,3108,3109,3110,3111,3112,3113,3114,3115,3116,3117,3118,3119,3120,3121,3122,3123,3124,3125,3126,3127,3128,3129,3130,3131,3132,3133,3134,3135,3136,3137,3138,3139,3140,3141,3142,3143,3144,3145,3146,3147,3148,3149,3150,3151,3152,3153,3154,3155,3156,3157,3158,3159,3160,3161,3162,3163,3164,3165,3166,3167,3168,3169,3170,3171,3172,3173,3174,3175,3176,3177,3178,3179,3180,3181,3182,3183,3184,3185,3186,3187,3188,3189,3190,3191,3192,3193,3194,3195,3196,3197,3198,3199,3200,3201,3202,3203,3204,3205,3206,3207,3208,3209,3210,3211,3212,3213,3214,3215,3216,3217,3218,3219,3220,3221,3222,3223,3224,3225,3226,3227,3228,3229,3230,3231,3232,3233,3234,3235,3236,3237,3238,3239,3240,3241,3242,3243,3244,3245,3246,3247,3248,3249,3250,3251,3252,3253,3254,3255,3256,3257,3258,3259,3260,3261,3262,3263,3264,3265,3266,3267,3268,3269,3270,3271,3272,3273,3274,3275,3276,3277,3278,3279,3280,3281,3282,3283,3284,3285,3286,3287,3288,3289,3290,3291,3292,3293,3294,3295,3296,3297,3298,3299,3300,3301,3302,3303,3304,3305,3306,3307,3308,3309,3310,3311,3312,3313,3314,3315,3316,3317,3318,3319,3320,3321,3322,3323,3324,3325,3326,3327,3328,3329,3330,3331,3332,3333,3334,3335,3336,3337,3338,3339,3340,3341,3342,3343,3344,3345,3346,3347,3348,3349,3350,3351,3352,3353,3354,3355,3356,3357,3358,3359,3360,3361,3362,3363,3364,3365,3366,3367,3368,3369,3370,3371,3372,3373,3374,3375,3376,3377,3378,3379,3380,3381,3382,3383,3384,3385,3386,3387,3388,3389,3390,3391,3392,3393,3394,3395,3396,3397,3398,3399,3400,3401,3402,3403,3404,3405,3406,3407,3408,3409,3410,3411,3412,3413,3414,3415,3416,3417,3418,3419,3420,3421,3422,3423,3424,3425,3426,3427,3428,3429,3430,3431,3432,3433,3434,3435,3436,3437,3438,3439,3440,3441,3442,3443,3444,3445,3446,3447,3448,3449,3450,3451,3452,3453,3454,3455,3456,3457,3458,3459,3460,3461,3462,3463,3464,3465,3466,3467,3468,3469,3470,3471,3472,3473,3474,3475,3476,3477,3478,3479,3480,3481,3482,3483,3484,3485,3486,3487,3488,3489,3490,3491,3492,3493,3494,3495,3496,3497,3498,3499,3500,3501,3502,3503,3504,3505,3506,3507,3508,3509,3510,3511,3512,3513,3514,3515,3516,3517,3518,3519,3520,3521,3522,3523,3524,3525,3526,3527,3528,3529,3530,3531,3532,3533,3534,3535,3536,3537,3538,3539,3540,3541,3542,3543,3544,3545,3546,3547,3548,3549,3550,3551,3552,3553,3554,3555,3556,3557,3558,3559,3560,3561,3562,3563,3564,3565,3566,3567,3568,3569,3570,3571,3572,3573,3574,3575,3576,3577,3578,3579,3580,3581,3582,3583,3584,3585,3586,3587,3588,3589,3590,3591,3592,3593,3594,3595,3596,3597,3598,3599,3600,3601,3602,3603,3604,3605,3606,3607,3608,3609,3610,3611,3612,3613,3614,3615,3616,3617,3618,3619,3620,3621,3622,3623,3624,3625,3626,3627,3628,3629,3630,3631,3632,3633,3634,3635,3636,3637,3638,3639,3640,3641,3642,3643,3644,3645,3646,3647,3648,3649,3650,3651,3652,3653,3654,3655,3656,3657,3658,3659,3660,3661,3662,3663,3664,3665,3666,3667,3668,3669,3670,3671,3672,3673,3674,3675,3676,3677,3678,3679,3680,3681,3682,3683,3684,3685,3686,3687,3688,3689,3690,3691,3692,3693,3694,3695,3696,3697,3698],\"xaxis\":\"x\",\"y\":[0.5940292875053216,0.5857534843046323,0.5652370437012882,0.5487304652381231,0.5564503835737041,0.5749292175157374,0.595058002410142,0.6264995213236971,0.6332819047535978,0.6053957465277714,0.5918090458584842,0.5643513940605768,0.5547238071923313,0.5500639070344409,0.5625001505281017,0.5679161420858974,0.5547238071923313,0.5683808785200586,0.5740353128895898,0.5734660817146933,0.5734660817146933,0.6027477311726803,0.5849519718121715,0.5864634577130176,0.6018485445117567,0.5849519718121715,0.5720722377169707,0.56674492449868,0.5673715353117641,0.5673715353117641,0.5673715353117641,0.5809320385645538,0.5798274961805981,0.5870841414455922,0.5652370437012882,0.5954436327767891,0.6012654284945613,0.6260290116730202,0.6063969852940309,0.608097048574488,0.5840566483757472,0.5652370437012882,0.5547238071923313,0.5749292175157374,0.5804220827786,0.5728124524026591,0.6106919241730046,0.599820817703896,0.6005902826013829,0.6005902826013829,0.6088005808721586,0.5765585874788283,0.6103529556097573,0.5840566483757472,0.5864634577130176,0.5791460828998838,0.5798274961805981,0.5531685982635218,0.5389131288218489,0.5355122101119438,0.5311018370128188,0.5315598535906808,0.546661577967207,0.562867849845566,0.611115542897198,0.6166428700189188,0.6159101668483433,0.5908792873075168,0.5857534843046323,0.5586356692758778,0.5615362868904301,0.5679161420858974,0.5740353128895898,0.56674492449868,0.5547238071923313,0.5559528752912143,0.5500639070344409,0.5395628801988974,0.5631621452589773,0.5615362868904301,0.5553780478237507,0.5559528752912143,0.5500639070344409,0.5293110302412437,0.5224204242093029,0.5322791732026386,0.5364037994395547,0.5263974053358276,0.563624848396128,0.5494367744698114,0.5343392684046244,0.5359921861990192,0.5410727596444256,0.5355122101119438,0.5694830090263301,0.6109453839502675,0.599820817703896,0.6350575042637175,0.5887213344948018,0.5712432279694215,0.5539880369663795,0.5336422961583314,0.5263974053358276,0.5367489970173056,0.5463479109849245,0.5401380574215895,0.5756904783668821,0.56674492449868,0.5673715353117641,0.5547238071923313,0.581706728924642,0.5531685982635218,0.5620569895968279,0.5615362868904301,0.5679161420858974,0.5429512885558367,0.5690791629056988,0.6109453839502675,0.608097048574488,0.608097048574488,0.6254634604718543,0.6150779775550845,0.5755074597262021,0.6103529556097573,0.599820817703896,0.6005902826013829,0.6088005808721586,0.608097048574488,0.5693098722772156,0.560253823248079,0.5745223107122572,0.56674492449868,0.5673715353117641,0.5809320385645538,0.618625510699842,0.5830652196835492,0.5940292875053216,0.5933817542374298,0.5712432279694215,0.6027477311726803,0.6443691664984537,0.6222037537376989,0.6063969852940309,0.6345640452537421,0.5807847570268428,0.5344733769462008,0.5258267407441903,0.557849854854596,0.5336422961583314,0.5175293019394742,0.5236706808011801,0.5886394005094524,0.5652370437012882,0.5880665252578869,0.6182674635365804,0.6531852913830577,0.5944770170420669,0.6005902826013829,0.6005902826013829,0.6088005808721586,0.5765585874788283,0.5531685982635218,0.5443855031435986,0.5401380574215895,0.5406406836630133,0.5459654681410617,0.562867849845566,0.5553780478237507,0.5683808785200586,0.5740353128895898,0.5734660817146933,0.56674492449868,0.5609359397957833,0.5437078632985125,0.5251861950442378,0.5367489970173056,0.5518220407425001,0.5625001505281017,0.5553780478237507,0.581706728924642,0.5531685982635218,0.5443855031435986,0.5690791629056988,0.5673715353117641,0.5547238071923313,0.5683808785200586,0.5809320385645538,0.5531685982635218,0.5443855031435986,0.562867849845566,0.5745223107122572,0.560253823248079,0.5553780478237507,0.5559528752912143,0.5559528752912143,0.5683808785200586,0.5673715353117641,0.5809320385645538,0.6103529556097573,0.5765585874788283,0.5470718631361486,0.5687678558614642,0.5740353128895898,0.56674492449868,0.5487304652381231,0.5395628801988974,0.5212611346190474,0.5190961382088506,0.5280199631858696,0.557849854854596,0.6034622243283984,0.5926424338532043,0.6012654284945613,0.5926424338532043,0.5933817542374298,0.5277836983201547,0.5359921861990192,0.5218746313040332,0.5322791732026386,0.5025767221718567,0.5245038274269167,0.5150441538870751,0.49528112350618847,0.49494298581096946,0.5169721283297027,0.5282700587086816,0.557849854854596,0.581706728924642,0.5594877897308668,0.5180908986472316,0.5111565547244932,0.49291936983791984,0.5169721283297027,0.5120480041168681,0.5284616505504076,0.5319516602880159,0.5269001411861958,0.5417331514541477,0.5631621452589773,0.5381867576657422,0.5631621452589773,0.5813595369574874,0.5594877897308668,0.5381867576657422,0.5961714676942153,0.6012654284945613,0.5926424338532043,0.6012654284945613,0.6443691664984537,0.6042905270690936,0.599820817703896,0.5926424338532043,0.5712432279694215,0.5804220827786,0.5945872916993366,0.5857534843046323,0.626877304454774,0.6150779775550845,0.5830652196835492,0.5940292875053216,0.5857534843046323,0.5791460828998838,0.6103529556097573,0.5918090458584842,0.578375624614039,0.6023418973294723,0.5566643754213966,0.5494367744698114,0.5687678558614642,0.5880665252578869,0.5720722377169707,0.5804220827786,0.5531685982635218,0.5500639070344409,0.4992224598948184,0.5204955528236526,0.5421347895873683,0.5355122101119438,0.5359921861990192,0.5574995963249813,0.5443855031435986,0.5161505270242852,0.5636030119847495,0.5437078632985125,0.5690791629056988,0.5880665252578869,0.6018485445117567,0.5849519718121715,0.5720722377169707,0.56674492449868,0.5373816986541267,0.5258267407441903,0.5186381602206054,0.5636030119847495,0.5553780478237507,0.5389131288218489,0.5693168659966078,0.5547238071923313,0.5443855031435986,0.5690791629056988,0.6361418580271776,0.6141439283874699,0.6248005302377999,0.6332819047535978,0.5731084452047284,0.5660341534959721,0.5673715353117641,0.5954436327767891,0.5576952694632451,0.5745223107122572,0.6106919241730046,0.6439498965712636,0.6042905270690936,0.608097048574488,0.7180910301974727,0.6323456212642085,0.5570520715064188,0.5609359397957833,0.5813595369574874,0.5531685982635218,0.5559528752912143,0.5620569895968279,0.5813595369574874,0.5945872916993366,0.5512700476392343,0.5236875385921912,0.563624848396128,0.5813595369574874,0.5355271325000273,0.5822876391688998,0.6359755223778051,0.6324884636749817,0.6231730704824563,0.6428154246071206,0.5642779017288866,0.5364958612588251,0.5305756720047683,0.5181165115292932,0.5194923132377147,0.5421347895873683,0.6110065436847745,0.5918090458584842,0.5857534843046323,0.6018485445117567,0.5633749810679886,0.5218853680084967,0.563624848396128,0.588432611895593,0.5940292875053216,0.60940954804427,0.6345640452537421,0.5656873425960445,0.560253823248079,0.5494367744698114,0.5449862848017256,0.5161505270242852,0.5372478216609462,0.5359921861990192,0.5518220407425001,0.5564503835737041,0.5683808785200586,0.5609359397957833,0.5437078632985125,0.5299793975652274,0.5414362636354981,0.5459654681410617,0.5455122625318278,0.5961788277726616,0.664031818335612,0.6598626814782043,0.6816878042637962,0.6686498066561943,0.618644261208261,0.5979896621242541,0.5926424338532043,0.5857534843046323,0.6018485445117567,0.5849519718121715,0.5720722377169707,0.5804220827786,0.5945872916993366,0.578375624614039,0.5728124524026591,0.595058002410142,0.5933817542374298,0.5512700476392343,0.5559528752912143,0.5887181819735716,0.5720722377169707,0.560253823248079,0.6033057065764944,0.5926424338532043,0.5277836983201547,0.5311018370128188,0.5364037994395547,0.5175293019394742,0.5421347895873683,0.5822876391688998,0.6103529556097573,0.5840566483757472,0.5864634577130176,0.5791460828998838,0.5728124524026591,0.5479428715429546,0.5687678558614642,0.5740353128895898,0.560253823248079,0.5745223107122572,0.5421136797533153,0.5251861950442378,0.5319516602880159,0.5269001411861958,0.5417331514541477,0.5961714676942153,0.60940954804427,0.6345640452537421,0.6231730704824563,0.6150779775550845,0.5830652196835492,0.5864634577130176,0.5461152873177577,0.5395628801988974,0.5086221532335855,0.5053287198214994,0.5204955528236526,0.5044071204242543,0.537531666941126,0.5890977029069556,0.5940292875053216,0.5576952694632451,0.6033057065764944,0.5849519718121715,0.5864634577130176,0.5791460828998838,0.5728124524026591,0.5804220827786,0.541192915276911,0.5161505270242852,0.5194923132377147,0.5421347895873683,0.5305756720047683,0.5635386429538386,0.588432611895593,0.6018485445117567,0.5703231910200686,0.6106919241730046,0.5840566483757472,0.5864634577130176,0.5652370437012882,0.5673715353117641,0.5547238071923313,0.5500639070344409,0.5395628801988974,0.551490985915331,0.5564503835737041,0.5389131288218489,0.5258267407441903,0.5367489970173056,0.5218746313040332,0.5150441538870751,0.519828530599176,0.5636030119847495,0.5957463734866387,0.6012654284945613,0.6172784383669133,0.6159101668483433,0.5989547222220694,0.5849519718121715,0.5940292875053216,0.60940954804427,0.608097048574488,0.5918090458584842,0.5712432279694215,0.5539880369663795,0.5620569895968279,0.5745223107122572,0.56674492449868,0.5809320385645538,0.5945872916993366,0.578375624614039,0.5660341534959721,0.5673715353117641,0.5673715353117641,0.5880665252578869,0.6099262478531944,0.6166428700189188,0.5908792873075168,0.578375624614039,0.5660341534959721,0.5487304652381231,0.5564503835737041,0.5683808785200586,0.5809320385645538,0.6023418973294723,0.6005902826013829,0.6005902826013829,0.6350575042637175,0.5969232809270122,0.5566643754213966,0.5553780478237507,0.5559528752912143,0.5389131288218489,0.5572217062409106,0.5559528752912143,0.5620569895968279,0.5615362868904301,0.5679161420858974,0.5373816986541267,0.5572217062409106,0.5559528752912143,0.5559528752912143,0.5389131288218489,0.5572217062409106,0.5620569895968279,0.5228254108473107,0.5522792001023759,0.575258153181486,0.587617762458926,0.5791460828998838,0.5870841414455922,0.5720722377169707,0.5310848626068803,0.5133572511501419,0.5239646468833629,0.5370297036643135,0.5218746313040332,0.5757102577282636,0.5734660817146933,0.5364958612588251,0.5305756720047683,0.5414362636354981,0.5305756720047683,0.5695796134353182,0.6109453839502675,0.6166428700189188,0.5908792873075168,0.6012654284945613,0.577513880548938,0.5870841414455922,0.5940292875053216,0.60940954804427,0.5840566483757472,0.5864634577130176,0.5652370437012882,0.5673715353117641,0.5809320385645538,0.5728124524026591,0.560253823248079,0.5813595369574874,0.5728124524026591,0.5539880369663795,0.5620569895968279,0.5745223107122572,0.56674492449868,0.5609359397957833,0.5615362868904301,0.5228254108473107,0.5273368782107851,0.5367489970173056,0.5218746313040332,0.5233165613541734,0.5695721798943179,0.5673715353117641,0.5809320385645538,0.618625510699842,0.6248005302377999,0.6150779775550845,0.5989547222220694,0.5703231910200686,0.5804220827786,0.5945872916993366,0.5857534843046323,0.5864634577130176,0.5940292875053216,0.5857534843046323,0.5652370437012882,0.5740353128895898,0.56674492449868,0.5740353128895898,0.56674492449868,0.5740353128895898,0.560253823248079,0.588432611895593,0.552263329749732,0.5559528752912143,0.5443855031435986,0.5349619015428676,0.5311018370128188,0.5520841211094212,0.5343392684046244,0.5694830090263301,0.5954436327767891,0.5857534843046323,0.5652370437012882,0.5880665252578869,0.5652370437012882,0.5547238071923313,0.5683808785200586,0.5809320385645538,0.5945872916993366,0.5857534843046323,0.5940292875053216,0.5857534843046323,0.5791460828998838,0.5660341534959721,0.5809320385645538,0.5798274961805981,0.5728124524026591,0.5804220827786,0.6023418973294723,0.5926424338532043,0.5857534843046323,0.6099262478531944,0.6166428700189188,0.5830652196835492,0.5652370437012882,0.6030682678145413,0.577513880548938,0.5531685982635218,0.5620569895968279,0.5615362868904301,0.5328689478134079,0.5410727596444256,0.5693168659966078,0.5740353128895898,0.560253823248079,0.5679161420858974,0.5954436327767891,0.578375624614039,0.5531685982635218,0.581706728924642,0.5945872916993366,0.5576952694632451,0.5228254108473107,0.557849854854596,0.5336422961583314,0.5263974053358276,0.522900434616169,0.5636456562560452,0.5553780478237507,0.5683808785200586,0.5609359397957833,0.5615362868904301,0.5381867576657422,0.5631621452589773,0.5679161420858974,0.5673715353117641,0.5673715353117641,0.5954436327767891,0.5512700476392343,0.5620569895968279,0.5494367744698114,0.5564503835737041,0.4815050954592088,0.48381854313256445,0.4829289974494404,0.5010193576217079,0.5003089644031866,0.5792863483867636,0.5470718631361486,0.5030028811941745,0.45551344343244904,0.47639048305169707,0.46279297531753116,0.4642795187666753,0.467109305011246,0.4678481771290991,0.4663453547178696,0.4649916903764711,0.49735936259076485,0.45599899169820457,0.48137525699449935,0.5037775677909409,0.7387989330693835,0.8076374984958973,0.7015456829577938,0.9277884786429828,0.5732050128798015,0.4921034587057703,0.4988431792283435,0.5132969038484756,0.5524281782497502,0.627323559138097,0.7425438616646404,0.6616191229630083,0.8113739173854669,0.6633256744727222,0.5899875099109911,0.5439367103882882,0.5819757429816061,0.5594877897308668,0.5745223107122572,0.5734660817146933,0.5208653454500813,0.5522792001023759,0.6035399754881945,0.6005902826013829,0.5703231910200686,0.6273638390226174,0.5743581891618235,0.5300699395056192,0.5055165553588914,0.5631134841199235,0.5679161420858974,0.5373816986541267,0.5459654681410617,0.5755112151391663,0.5208653454500813,0.5957239509407724,0.60940954804427,0.6254634604718543,0.6332819047535978,0.651999401231802,0.6403378915729937,0.6512497141860971,0.6937325706771869,0.6254411624254859,0.6622057617507464,0.6017584835386716,0.6635987220691909,0.6392954047593155,0.6830370560410476,0.6914490968572605,0.7274484426227891,0.6411621437810121,0.5780917803146665,0.5461152873177577,0.5343392684046244,0.5175293019394742,0.5472094560069836,0.5821686851923122,0.618625510699842,0.5989547222220694,0.5926424338532043,0.5450709689361972,0.5625001505281017,0.5277499708693008,0.5695796134353182,0.5487304652381231,0.5889253726414753,0.5586356692758778,0.6033057065764944,0.6005902826013829,0.5926424338532043,0.60940954804427,0.599820817703896,0.6088005808721586,0.5555407498268975,0.6033057065764944,0.5849519718121715,0.5791460828998838,0.6023418973294723,0.6443691664984537,0.6131056231420458,0.5908792873075168,0.5857534843046323,0.552263329749732,0.5620569895968279,0.5615362868904301,0.5745223107122572,0.595058002410142,0.5643513940605768,0.5429512885558367,0.5299793975652274,0.5364037994395547,0.5518220407425001,0.5625001505281017,0.5679161420858974,0.5740353128895898,0.5539880369663795,0.5236875385921912,0.546908433540025,0.5251861950442378,0.563624848396128,0.5494367744698114,0.575258153181486,0.560253823248079,0.5957463734866387,0.5576952694632451,0.5615362868904301,0.5494367744698114,0.5687678558614642,0.5268531996568537,0.5635386429538386,0.5745223107122572,0.560253823248079,0.5494367744698114,0.5687678558614642,0.5487304652381231,0.5293110302412437,0.5364037994395547,0.5518220407425001,0.5625001505281017,0.5437078632985125,0.5755112151391663,0.560253823248079,0.5228254108473107,0.5319516602880159,0.5224204242093029,0.5322791732026386,0.546661577967207,0.5349619015428676,0.5218746313040332,0.5524092283559027,0.5449862848017256,0.5299793975652274,0.5823118046098748,0.5870841414455922,0.5720722377169707,0.595058002410142,0.60940954804427,0.5918090458584842,0.6178192007405892,0.607296630937052,0.5623055587661773,0.5740353128895898,0.587617762458926,0.5720722377169707,0.6027477311726803,0.6005902826013829,0.5926424338532043,0.5450709689361972,0.5110650713527558,0.5158576530002699,0.4983431373504654,0.5132969038484756,0.542292871553353,0.643686957388468,0.6131056231420458,0.7423993545521125,0.723264769396725,0.6520560404957608,0.5687327303927777,0.6103529556097573,0.5918090458584842,0.578375624614039,0.5870841414455922,0.6182674635365804,0.5908792873075168,0.6012654284945613,0.5926424338532043,0.60940954804427,0.608097048574488,0.5765585874788283,0.5798274961805981,0.5798274961805981,0.5945872916993366,0.6012654284945613,0.6172784383669133,0.5830652196835492,0.5720722377169707,0.587617762458926,0.5791460828998838,0.5728124524026591,0.587617762458926,0.626877304454774,0.5898508328026809,0.5857534843046323,0.5720722377169707,0.560253823248079,0.5615362868904301,0.5745223107122572,0.5804220827786,0.6023418973294723,0.5849519718121715,0.5791460828998838,0.5728124524026591,0.587617762458926,0.626877304454774,0.6063969852940309,0.6166428700189188,0.5830652196835492,0.5791460828998838,0.5197632560947296,0.5522792001023759,0.5343392684046244,0.5410727596444256,0.5212611346190474,0.5322791732026386,0.5224204242093029,0.5233165613541734,0.5579261642892732,0.5389131288218489,0.5631621452589773,0.5813595369574874,0.6103529556097573,0.5555407498268975,0.611115542897198,0.5840566483757472,0.5720722377169707,0.5479428715429546,0.5625001505281017,0.5553780478237507,0.5749292175157374,0.560253823248079,0.5679161420858974,0.503888251980201,0.5284616505504076,0.522900434616169,0.5074293339428155,0.49928806796649666,0.5419373608846454,0.5305756720047683,0.5224204242093029,0.5695721798943179,0.6274771082624803,0.5530062424284323,0.5553780478237507,0.581706728924642,0.5870841414455922,0.5461152873177577,0.6112146778640918,0.5918090458584842,0.60940954804427,0.5555407498268975,0.588432611895593,0.5586356692758778,0.5553780478237507,0.5189948722977353,0.5524092283559027,0.5449862848017256,0.5690791629056988,0.6030682678145413,0.6172784383669133,0.5755074597262021,0.5945872916993366,0.578375624614039,0.5660341534959721,0.5809320385645538,0.5870841414455922,0.5720722377169707,0.5804220827786,0.5945872916993366,0.5857534843046323,0.6018485445117567,0.577513880548938,0.5660341534959721,0.5487304652381231,0.5625001505281017,0.5553780478237507,0.5500639070344409,0.575258153181486,0.56674492449868,0.5429512885558367,0.5510889610899781,0.5449862848017256,0.5510889610899781,0.5625001505281017,0.5957463734866387,0.5857534843046323,0.626877304454774,0.5530062424284323,0.5679161420858974,0.5609359397957833,0.5745223107122572,0.560253823248079,0.5957463734866387,0.578375624614039,0.5660341534959721,0.5740353128895898,0.560253823248079,0.5745223107122572,0.5804220827786,0.5945872916993366,0.5857534843046323,0.6182674635365804,0.6248005302377999,0.6240378610366165,0.6150779775550845,0.5908792873075168,0.5712432279694215,0.56674492449868,0.5547238071923313,0.5559528752912143,0.5620569895968279,0.5553780478237507,0.5443855031435986,0.5568726441984464,0.5559528752912143,0.5500639070344409,0.5564503835737041,0.5749292175157374,0.5479428715429546,0.5449862848017256,0.5455122625318278,0.5455122625318278,0.5299793975652274,0.5635386429538386,0.5553780478237507,0.5389131288218489,0.5631621452589773,0.5553780478237507,0.5620569895968279,0.5745223107122572,0.595058002410142,0.5643513940605768,0.5673715353117641,0.532017163927579,0.5410727596444256,0.5406406836630133,0.551490985915331,0.5506139482768098,0.5819757429816061,0.5531685982635218,0.5683808785200586,0.5547238071923313,0.5336422961583314,0.5311018370128188,0.5520841211094212,0.5244737934170642,0.5319516602880159,0.5758357962858014,0.56674492449868,0.5487304652381231,0.5687678558614642,0.5547238071923313,0.5443855031435986,0.5299793975652274,0.5269001411861958,0.5186381602206054,0.532544285980783,0.5364037994395547,0.5463479109849245,0.5890562985973814,0.6099262478531944,0.5765585874788283,0.5870841414455922,0.5864634577130176,0.5461152873177577,0.5506139482768098,0.5395628801988974,0.5305756720047683,0.546661577967207,0.5161505270242852,0.5280199631858696,0.5417331514541477,0.5572217062409106,0.5443855031435986,0.5821686851923122,0.541192915276911,0.5349619015428676,0.49832015291374365,0.5131520721081169,0.5375037885659769,0.563385072026295,0.5813595369574874,0.6271646536453076,0.5530062424284323,0.5494367744698114,0.5343392684046244,0.5574995963249813,0.5285685641280575,0.5695796134353182,0.5547238071923313,0.5559528752912143,0.5620569895968279,0.5813595369574874,0.5945872916993366,0.5933817542374298,0.60940954804427,0.5765585874788283,0.541192915276911,0.5349619015428676,0.5133572511501419,0.4983431373504654,0.5169083699843261,0.5239646468833629,0.5233165613541734,0.5419653564665883,0.5355122101119438,0.5311018370128188,0.5577083186227452,0.5336422961583314,0.5574995963249813,0.581706728924642,0.5594877897308668,0.5679161420858974,0.6190799816492074,0.5755074597262021,0.5531685982635218,0.5336422961583314,0.5263974053358276,0.5186381602206054,0.5236706808011801,0.5524092283559027,0.5819757429816061,0.6023418973294723,0.5439367103882882,0.5687678558614642,0.5429512885558367,0.5251861950442378,0.5522792001023759,0.6035399754881945,0.6172784383669133,0.6434327750083338,0.6721275103995162,0.5749671267923114,0.5940292875053216,0.5643513940605768,0.5547238071923313,0.5559528752912143,0.5887181819735716,0.552263329749732,0.5389131288218489,0.551490985915331,0.5395628801988974,0.5305756720047683,0.546661577967207,0.562867849845566,0.5494367744698114],\"yaxis\":\"y\",\"type\":\"scattergl\"},{\"hovertemplate\":\"variable=real_dados_brutos<br>index=%{x}<br>value=%{y}<extra></extra>\",\"legendgroup\":\"real_dados_brutos\",\"line\":{\"color\":\"#EF553B\",\"dash\":\"solid\"},\"marker\":{\"symbol\":\"circle\"},\"mode\":\"lines\",\"name\":\"real_dados_brutos\",\"showlegend\":true,\"x\":[2589,2590,2591,2592,2593,2594,2595,2596,2597,2598,2599,2600,2601,2602,2603,2604,2605,2606,2607,2608,2609,2610,2611,2612,2613,2614,2615,2616,2617,2618,2619,2620,2621,2622,2623,2624,2625,2626,2627,2628,2629,2630,2631,2632,2633,2634,2635,2636,2637,2638,2639,2640,2641,2642,2643,2644,2645,2646,2647,2648,2649,2650,2651,2652,2653,2654,2655,2656,2657,2658,2659,2660,2661,2662,2663,2664,2665,2666,2667,2668,2669,2670,2671,2672,2673,2674,2675,2676,2677,2678,2679,2680,2681,2682,2683,2684,2685,2686,2687,2688,2689,2690,2691,2692,2693,2694,2695,2696,2697,2698,2699,2700,2701,2702,2703,2704,2705,2706,2707,2708,2709,2710,2711,2712,2713,2714,2715,2716,2717,2718,2719,2720,2721,2722,2723,2724,2725,2726,2727,2728,2729,2730,2731,2732,2733,2734,2735,2736,2737,2738,2739,2740,2741,2742,2743,2744,2745,2746,2747,2748,2749,2750,2751,2752,2753,2754,2755,2756,2757,2758,2759,2760,2761,2762,2763,2764,2765,2766,2767,2768,2769,2770,2771,2772,2773,2774,2775,2776,2777,2778,2779,2780,2781,2782,2783,2784,2785,2786,2787,2788,2789,2790,2791,2792,2793,2794,2795,2796,2797,2798,2799,2800,2801,2802,2803,2804,2805,2806,2807,2808,2809,2810,2811,2812,2813,2814,2815,2816,2817,2818,2819,2820,2821,2822,2823,2824,2825,2826,2827,2828,2829,2830,2831,2832,2833,2834,2835,2836,2837,2838,2839,2840,2841,2842,2843,2844,2845,2846,2847,2848,2849,2850,2851,2852,2853,2854,2855,2856,2857,2858,2859,2860,2861,2862,2863,2864,2865,2866,2867,2868,2869,2870,2871,2872,2873,2874,2875,2876,2877,2878,2879,2880,2881,2882,2883,2884,2885,2886,2887,2888,2889,2890,2891,2892,2893,2894,2895,2896,2897,2898,2899,2900,2901,2902,2903,2904,2905,2906,2907,2908,2909,2910,2911,2912,2913,2914,2915,2916,2917,2918,2919,2920,2921,2922,2923,2924,2925,2926,2927,2928,2929,2930,2931,2932,2933,2934,2935,2936,2937,2938,2939,2940,2941,2942,2943,2944,2945,2946,2947,2948,2949,2950,2951,2952,2953,2954,2955,2956,2957,2958,2959,2960,2961,2962,2963,2964,2965,2966,2967,2968,2969,2970,2971,2972,2973,2974,2975,2976,2977,2978,2979,2980,2981,2982,2983,2984,2985,2986,2987,2988,2989,2990,2991,2992,2993,2994,2995,2996,2997,2998,2999,3000,3001,3002,3003,3004,3005,3006,3007,3008,3009,3010,3011,3012,3013,3014,3015,3016,3017,3018,3019,3020,3021,3022,3023,3024,3025,3026,3027,3028,3029,3030,3031,3032,3033,3034,3035,3036,3037,3038,3039,3040,3041,3042,3043,3044,3045,3046,3047,3048,3049,3050,3051,3052,3053,3054,3055,3056,3057,3058,3059,3060,3061,3062,3063,3064,3065,3066,3067,3068,3069,3070,3071,3072,3073,3074,3075,3076,3077,3078,3079,3080,3081,3082,3083,3084,3085,3086,3087,3088,3089,3090,3091,3092,3093,3094,3095,3096,3097,3098,3099,3100,3101,3102,3103,3104,3105,3106,3107,3108,3109,3110,3111,3112,3113,3114,3115,3116,3117,3118,3119,3120,3121,3122,3123,3124,3125,3126,3127,3128,3129,3130,3131,3132,3133,3134,3135,3136,3137,3138,3139,3140,3141,3142,3143,3144,3145,3146,3147,3148,3149,3150,3151,3152,3153,3154,3155,3156,3157,3158,3159,3160,3161,3162,3163,3164,3165,3166,3167,3168,3169,3170,3171,3172,3173,3174,3175,3176,3177,3178,3179,3180,3181,3182,3183,3184,3185,3186,3187,3188,3189,3190,3191,3192,3193,3194,3195,3196,3197,3198,3199,3200,3201,3202,3203,3204,3205,3206,3207,3208,3209,3210,3211,3212,3213,3214,3215,3216,3217,3218,3219,3220,3221,3222,3223,3224,3225,3226,3227,3228,3229,3230,3231,3232,3233,3234,3235,3236,3237,3238,3239,3240,3241,3242,3243,3244,3245,3246,3247,3248,3249,3250,3251,3252,3253,3254,3255,3256,3257,3258,3259,3260,3261,3262,3263,3264,3265,3266,3267,3268,3269,3270,3271,3272,3273,3274,3275,3276,3277,3278,3279,3280,3281,3282,3283,3284,3285,3286,3287,3288,3289,3290,3291,3292,3293,3294,3295,3296,3297,3298,3299,3300,3301,3302,3303,3304,3305,3306,3307,3308,3309,3310,3311,3312,3313,3314,3315,3316,3317,3318,3319,3320,3321,3322,3323,3324,3325,3326,3327,3328,3329,3330,3331,3332,3333,3334,3335,3336,3337,3338,3339,3340,3341,3342,3343,3344,3345,3346,3347,3348,3349,3350,3351,3352,3353,3354,3355,3356,3357,3358,3359,3360,3361,3362,3363,3364,3365,3366,3367,3368,3369,3370,3371,3372,3373,3374,3375,3376,3377,3378,3379,3380,3381,3382,3383,3384,3385,3386,3387,3388,3389,3390,3391,3392,3393,3394,3395,3396,3397,3398,3399,3400,3401,3402,3403,3404,3405,3406,3407,3408,3409,3410,3411,3412,3413,3414,3415,3416,3417,3418,3419,3420,3421,3422,3423,3424,3425,3426,3427,3428,3429,3430,3431,3432,3433,3434,3435,3436,3437,3438,3439,3440,3441,3442,3443,3444,3445,3446,3447,3448,3449,3450,3451,3452,3453,3454,3455,3456,3457,3458,3459,3460,3461,3462,3463,3464,3465,3466,3467,3468,3469,3470,3471,3472,3473,3474,3475,3476,3477,3478,3479,3480,3481,3482,3483,3484,3485,3486,3487,3488,3489,3490,3491,3492,3493,3494,3495,3496,3497,3498,3499,3500,3501,3502,3503,3504,3505,3506,3507,3508,3509,3510,3511,3512,3513,3514,3515,3516,3517,3518,3519,3520,3521,3522,3523,3524,3525,3526,3527,3528,3529,3530,3531,3532,3533,3534,3535,3536,3537,3538,3539,3540,3541,3542,3543,3544,3545,3546,3547,3548,3549,3550,3551,3552,3553,3554,3555,3556,3557,3558,3559,3560,3561,3562,3563,3564,3565,3566,3567,3568,3569,3570,3571,3572,3573,3574,3575,3576,3577,3578,3579,3580,3581,3582,3583,3584,3585,3586,3587,3588,3589,3590,3591,3592,3593,3594,3595,3596,3597,3598,3599,3600,3601,3602,3603,3604,3605,3606,3607,3608,3609,3610,3611,3612,3613,3614,3615,3616,3617,3618,3619,3620,3621,3622,3623,3624,3625,3626,3627,3628,3629,3630,3631,3632,3633,3634,3635,3636,3637,3638,3639,3640,3641,3642,3643,3644,3645,3646,3647,3648,3649,3650,3651,3652,3653,3654,3655,3656,3657,3658,3659,3660,3661,3662,3663,3664,3665,3666,3667,3668,3669,3670,3671,3672,3673,3674,3675,3676,3677,3678,3679,3680,3681,3682,3683,3684,3685,3686,3687,3688,3689,3690,3691,3692,3693,3694,3695,3696,3697,3698],\"xaxis\":\"x\",\"y\":[0.6000000000000001,0.5750000000000001,0.55,0.5583333333333335,0.5833333333333335,0.6083333333333334,0.6416666666666667,0.6500000000000001,0.6250000000000001,0.6083333333333334,0.5750000000000001,0.5583333333333335,0.55,0.5666666666666668,0.5750000000000001,0.5583333333333335,0.5750000000000001,0.5833333333333335,0.5833333333333335,0.5833333333333335,0.6166666666666668,0.6000000000000001,0.6000000000000001,0.6166666666666668,0.6000000000000001,0.5833333333333335,0.5750000000000001,0.5750000000000001,0.5750000000000001,0.5750000000000001,0.5916666666666668,0.5916666666666668,0.6000000000000001,0.5750000000000001,0.6083333333333334,0.6166666666666668,0.6416666666666667,0.6250000000000001,0.6250000000000001,0.6000000000000001,0.5750000000000001,0.5583333333333335,0.5833333333333335,0.5916666666666668,0.5833333333333335,0.6250000000000001,0.6166666666666668,0.6166666666666668,0.6166666666666668,0.6250000000000001,0.5916666666666668,0.6250000000000001,0.6000000000000001,0.6000000000000001,0.5916666666666668,0.5916666666666668,0.5583333333333335,0.5333333333333334,0.5250000000000001,0.5166666666666667,0.5166666666666667,0.5416666666666667,0.5666666666666668,0.6250000000000001,0.6333333333333334,0.6333333333333334,0.6083333333333334,0.6000000000000001,0.5666666666666668,0.5666666666666668,0.5750000000000001,0.5833333333333335,0.5750000000000001,0.5583333333333335,0.5583333333333335,0.55,0.5333333333333334,0.5666666666666668,0.5666666666666668,0.5583333333333335,0.5583333333333335,0.55,0.5166666666666667,0.5000000000000001,0.5166666666666667,0.5250000000000001,0.5083333333333334,0.5666666666666668,0.55,0.5250000000000001,0.5250000000000001,0.5333333333333334,0.5250000000000001,0.5750000000000001,0.6250000000000001,0.6166666666666668,0.6500000000000001,0.6083333333333334,0.5833333333333335,0.5583333333333335,0.5250000000000001,0.5083333333333334,0.5250000000000001,0.5416666666666667,0.5333333333333334,0.5833333333333335,0.5750000000000001,0.5750000000000001,0.5583333333333335,0.5916666666666668,0.5583333333333335,0.5666666666666668,0.5666666666666668,0.5750000000000001,0.5416666666666667,0.5750000000000001,0.6250000000000001,0.6250000000000001,0.6250000000000001,0.6416666666666667,0.6333333333333334,0.5916666666666668,0.6250000000000001,0.6166666666666668,0.6166666666666668,0.6250000000000001,0.6250000000000001,0.5833333333333335,0.5666666666666668,0.5833333333333335,0.5750000000000001,0.5750000000000001,0.5916666666666668,0.6333333333333334,0.6000000000000001,0.6083333333333334,0.6083333333333334,0.5833333333333335,0.6166666666666668,0.6583333333333334,0.6416666666666667,0.6250000000000001,0.6500000000000001,0.6000000000000001,0.5333333333333334,0.5083333333333334,0.5583333333333335,0.5250000000000001,0.49166666666666675,0.5000000000000001,0.6000000000000001,0.5750000000000001,0.6000000000000001,0.6333333333333334,0.6666666666666667,0.6166666666666668,0.6166666666666668,0.6166666666666668,0.6250000000000001,0.5916666666666668,0.5583333333333335,0.5416666666666667,0.5333333333333334,0.5333333333333334,0.5416666666666667,0.5666666666666668,0.5583333333333335,0.5750000000000001,0.5833333333333335,0.5833333333333335,0.5750000000000001,0.5666666666666668,0.5416666666666667,0.5083333333333334,0.5250000000000001,0.55,0.5666666666666668,0.5583333333333335,0.5916666666666668,0.5583333333333335,0.5416666666666667,0.5750000000000001,0.5750000000000001,0.5583333333333335,0.5750000000000001,0.5916666666666668,0.5583333333333335,0.5416666666666667,0.5666666666666668,0.5833333333333335,0.5666666666666668,0.5583333333333335,0.5583333333333335,0.5583333333333335,0.5750000000000001,0.5750000000000001,0.5916666666666668,0.6250000000000001,0.5916666666666668,0.55,0.5750000000000001,0.5833333333333335,0.5750000000000001,0.55,0.5333333333333334,0.5000000000000001,0.49166666666666675,0.5083333333333334,0.5583333333333335,0.6166666666666668,0.6083333333333334,0.6166666666666668,0.6083333333333334,0.6083333333333334,0.5250000000000001,0.5250000000000001,0.5000000000000001,0.5166666666666667,0.4583333333333334,0.5000000000000001,0.4833333333333334,0.4333333333333334,0.42500000000000004,0.4833333333333334,0.5083333333333334,0.5583333333333335,0.5916666666666668,0.5666666666666668,0.5000000000000001,0.4750000000000001,0.42500000000000004,0.4833333333333334,0.4750000000000001,0.5083333333333334,0.5166666666666667,0.5083333333333334,0.5333333333333334,0.5666666666666668,0.5333333333333334,0.5666666666666668,0.5916666666666668,0.5666666666666668,0.5333333333333334,0.6083333333333334,0.6166666666666668,0.6083333333333334,0.6166666666666668,0.6583333333333334,0.6250000000000001,0.6166666666666668,0.6083333333333334,0.5833333333333335,0.5916666666666668,0.6083333333333334,0.6000000000000001,0.6416666666666667,0.6333333333333334,0.6000000000000001,0.6083333333333334,0.6000000000000001,0.5916666666666668,0.6250000000000001,0.6083333333333334,0.5916666666666668,0.6166666666666668,0.5666666666666668,0.55,0.5750000000000001,0.6000000000000001,0.5833333333333335,0.5916666666666668,0.5583333333333335,0.55,0.4583333333333334,0.49166666666666675,0.5333333333333334,0.5250000000000001,0.5250000000000001,0.5583333333333335,0.5416666666666667,0.49166666666666675,0.5666666666666668,0.5416666666666667,0.5750000000000001,0.6000000000000001,0.6166666666666668,0.6000000000000001,0.5833333333333335,0.5750000000000001,0.5333333333333334,0.5083333333333334,0.49166666666666675,0.5666666666666668,0.5583333333333335,0.5333333333333334,0.5750000000000001,0.5583333333333335,0.5416666666666667,0.5750000000000001,0.6500000000000001,0.6333333333333334,0.6416666666666667,0.6500000000000001,0.5916666666666668,0.5750000000000001,0.5750000000000001,0.6083333333333334,0.5666666666666668,0.5833333333333335,0.6250000000000001,0.6583333333333334,0.6250000000000001,0.6250000000000001,0.7166666666666668,0.6583333333333334,0.5750000000000001,0.5666666666666668,0.5916666666666668,0.5583333333333335,0.5583333333333335,0.5666666666666668,0.5916666666666668,0.6083333333333334,0.5583333333333335,0.5083333333333334,0.5666666666666668,0.5916666666666668,0.5333333333333334,0.5916666666666668,0.6500000000000001,0.6500000000000001,0.6416666666666667,0.6583333333333334,0.5833333333333335,0.5333333333333334,0.5166666666666667,0.49166666666666675,0.49166666666666675,0.5333333333333334,0.6250000000000001,0.6083333333333334,0.6000000000000001,0.6166666666666668,0.5750000000000001,0.5083333333333334,0.5666666666666668,0.6000000000000001,0.6083333333333334,0.6250000000000001,0.6500000000000001,0.5833333333333335,0.5666666666666668,0.55,0.5416666666666667,0.49166666666666675,0.5250000000000001,0.5250000000000001,0.55,0.5583333333333335,0.5750000000000001,0.5666666666666668,0.5416666666666667,0.5166666666666667,0.5333333333333334,0.5416666666666667,0.5416666666666667,0.6083333333333334,0.675,0.675,0.6916666666666668,0.6833333333333335,0.6416666666666667,0.6166666666666668,0.6083333333333334,0.6000000000000001,0.6166666666666668,0.6000000000000001,0.5833333333333335,0.5916666666666668,0.6083333333333334,0.5916666666666668,0.5833333333333335,0.6083333333333334,0.6083333333333334,0.5583333333333335,0.5583333333333335,0.6000000000000001,0.5833333333333335,0.5666666666666668,0.6166666666666668,0.6083333333333334,0.5250000000000001,0.5166666666666667,0.5250000000000001,0.49166666666666675,0.5333333333333334,0.5916666666666668,0.6250000000000001,0.6000000000000001,0.6000000000000001,0.5916666666666668,0.5833333333333335,0.55,0.5750000000000001,0.5833333333333335,0.5666666666666668,0.5833333333333335,0.5416666666666667,0.5083333333333334,0.5166666666666667,0.5083333333333334,0.5333333333333334,0.6083333333333334,0.6250000000000001,0.6500000000000001,0.6416666666666667,0.6333333333333334,0.6000000000000001,0.6000000000000001,0.55,0.5333333333333334,0.4750000000000001,0.4583333333333334,0.49166666666666675,0.4583333333333334,0.5250000000000001,0.6000000000000001,0.6083333333333334,0.5666666666666668,0.6166666666666668,0.6000000000000001,0.6000000000000001,0.5916666666666668,0.5833333333333335,0.5916666666666668,0.5416666666666667,0.49166666666666675,0.49166666666666675,0.5333333333333334,0.5166666666666667,0.5666666666666668,0.6000000000000001,0.6166666666666668,0.5833333333333335,0.6250000000000001,0.6000000000000001,0.6000000000000001,0.5750000000000001,0.5750000000000001,0.5583333333333335,0.55,0.5333333333333334,0.55,0.5583333333333335,0.5333333333333334,0.5083333333333334,0.5250000000000001,0.5000000000000001,0.4833333333333334,0.49166666666666675,0.5666666666666668,0.6083333333333334,0.6166666666666668,0.6333333333333334,0.6333333333333334,0.6166666666666668,0.6000000000000001,0.6083333333333334,0.6250000000000001,0.6250000000000001,0.6083333333333334,0.5833333333333335,0.5583333333333335,0.5666666666666668,0.5833333333333335,0.5750000000000001,0.5916666666666668,0.6083333333333334,0.5916666666666668,0.5750000000000001,0.5750000000000001,0.5750000000000001,0.6000000000000001,0.6250000000000001,0.6333333333333334,0.6083333333333334,0.5916666666666668,0.5750000000000001,0.55,0.5583333333333335,0.5750000000000001,0.5916666666666668,0.6166666666666668,0.6166666666666668,0.6166666666666668,0.6500000000000001,0.6166666666666668,0.5666666666666668,0.5583333333333335,0.5583333333333335,0.5333333333333334,0.5583333333333335,0.5583333333333335,0.5666666666666668,0.5666666666666668,0.5750000000000001,0.5333333333333334,0.5583333333333335,0.5583333333333335,0.5583333333333335,0.5333333333333334,0.5583333333333335,0.5666666666666668,0.5083333333333334,0.55,0.5833333333333335,0.6000000000000001,0.5916666666666668,0.6000000000000001,0.5833333333333335,0.5250000000000001,0.4833333333333334,0.5000000000000001,0.5250000000000001,0.5000000000000001,0.5833333333333335,0.5833333333333335,0.5333333333333334,0.5166666666666667,0.5333333333333334,0.5166666666666667,0.5750000000000001,0.6250000000000001,0.6333333333333334,0.6083333333333334,0.6166666666666668,0.5916666666666668,0.6000000000000001,0.6083333333333334,0.6250000000000001,0.6000000000000001,0.6000000000000001,0.5750000000000001,0.5750000000000001,0.5916666666666668,0.5833333333333335,0.5666666666666668,0.5916666666666668,0.5833333333333335,0.5583333333333335,0.5666666666666668,0.5833333333333335,0.5750000000000001,0.5666666666666668,0.5666666666666668,0.5083333333333334,0.5083333333333334,0.5250000000000001,0.5000000000000001,0.5000000000000001,0.5750000000000001,0.5750000000000001,0.5916666666666668,0.6333333333333334,0.6416666666666667,0.6333333333333334,0.6166666666666668,0.5833333333333335,0.5916666666666668,0.6083333333333334,0.6000000000000001,0.6000000000000001,0.6083333333333334,0.6000000000000001,0.5750000000000001,0.5833333333333335,0.5750000000000001,0.5833333333333335,0.5750000000000001,0.5833333333333335,0.5666666666666668,0.6000000000000001,0.5583333333333335,0.5583333333333335,0.5416666666666667,0.5250000000000001,0.5166666666666667,0.55,0.5250000000000001,0.5750000000000001,0.6083333333333334,0.6000000000000001,0.5750000000000001,0.6000000000000001,0.5750000000000001,0.5583333333333335,0.5750000000000001,0.5916666666666668,0.6083333333333334,0.6000000000000001,0.6083333333333334,0.6000000000000001,0.5916666666666668,0.5750000000000001,0.5916666666666668,0.5916666666666668,0.5833333333333335,0.5916666666666668,0.6166666666666668,0.6083333333333334,0.6000000000000001,0.6250000000000001,0.6333333333333334,0.6000000000000001,0.5750000000000001,0.6166666666666668,0.5916666666666668,0.5583333333333335,0.5666666666666668,0.5666666666666668,0.5250000000000001,0.5333333333333334,0.5750000000000001,0.5833333333333335,0.5666666666666668,0.5750000000000001,0.6083333333333334,0.5916666666666668,0.5583333333333335,0.5916666666666668,0.6083333333333334,0.5666666666666668,0.5083333333333334,0.5583333333333335,0.5250000000000001,0.5083333333333334,0.5000000000000001,0.5666666666666668,0.5583333333333335,0.5750000000000001,0.5666666666666668,0.5666666666666668,0.5333333333333334,0.5666666666666668,0.5750000000000001,0.5750000000000001,0.5750000000000001,0.6083333333333334,0.5583333333333335,0.5666666666666668,0.55,0.5583333333333335,0.41666666666666674,0.3833333333333334,0.3750000000000001,0.44166666666666676,0.44166666666666676,0.5916666666666668,0.55,0.4666666666666668,0.20833333333333343,0.3416666666666668,0.1833333333333334,0.0,0.2833333333333334,0.25000000000000006,0.21666666666666673,0.16666666666666674,0.4666666666666668,0.21666666666666673,0.3750000000000001,0.45000000000000007,0.7500000000000001,0.7750000000000001,0.7166666666666668,0.8333333333333335,0.6416666666666667,0.4750000000000001,0.44166666666666676,0.4750000000000001,0.55,0.6416666666666667,0.7333333333333334,0.6833333333333335,0.7750000000000001,0.6916666666666668,0.6166666666666668,0.55,0.5916666666666668,0.5666666666666668,0.5833333333333335,0.5833333333333335,0.5083333333333334,0.55,0.6166666666666668,0.6166666666666668,0.5833333333333335,0.6416666666666667,0.5916666666666668,0.5250000000000001,0.4666666666666668,0.5666666666666668,0.5750000000000001,0.5333333333333334,0.5416666666666667,0.5833333333333335,0.5083333333333334,0.6083333333333334,0.6250000000000001,0.6416666666666667,0.6500000000000001,0.6666666666666667,0.6583333333333334,0.6666666666666667,0.7000000000000002,0.6500000000000001,0.675,0.6250000000000001,0.675,0.6583333333333334,0.6916666666666668,0.7000000000000002,0.7250000000000001,0.6666666666666667,0.6000000000000001,0.55,0.5250000000000001,0.49166666666666675,0.5416666666666667,0.5916666666666668,0.6333333333333334,0.6166666666666668,0.6083333333333334,0.55,0.5666666666666668,0.5166666666666667,0.5750000000000001,0.55,0.6000000000000001,0.5666666666666668,0.6166666666666668,0.6166666666666668,0.6083333333333334,0.6250000000000001,0.6166666666666668,0.6250000000000001,0.5666666666666668,0.6166666666666668,0.6000000000000001,0.5916666666666668,0.6166666666666668,0.6583333333333334,0.6333333333333334,0.6083333333333334,0.6000000000000001,0.5583333333333335,0.5666666666666668,0.5666666666666668,0.5833333333333335,0.6083333333333334,0.5750000000000001,0.5416666666666667,0.5166666666666667,0.5250000000000001,0.55,0.5666666666666668,0.5750000000000001,0.5833333333333335,0.5583333333333335,0.5083333333333334,0.5416666666666667,0.5083333333333334,0.5666666666666668,0.55,0.5833333333333335,0.5666666666666668,0.6083333333333334,0.5666666666666668,0.5666666666666668,0.55,0.5750000000000001,0.5166666666666667,0.5666666666666668,0.5833333333333335,0.5666666666666668,0.55,0.5750000000000001,0.55,0.5166666666666667,0.5250000000000001,0.55,0.5666666666666668,0.5416666666666667,0.5833333333333335,0.5666666666666668,0.5083333333333334,0.5166666666666667,0.5000000000000001,0.5166666666666667,0.5416666666666667,0.5250000000000001,0.5000000000000001,0.55,0.5416666666666667,0.5166666666666667,0.5916666666666668,0.6000000000000001,0.5833333333333335,0.6083333333333334,0.6250000000000001,0.6083333333333334,0.6333333333333334,0.6250000000000001,0.5750000000000001,0.5833333333333335,0.6000000000000001,0.5833333333333335,0.6166666666666668,0.6166666666666668,0.6083333333333334,0.55,0.4833333333333334,0.4833333333333334,0.44166666666666676,0.4750000000000001,0.5333333333333334,0.6583333333333334,0.6333333333333334,0.7333333333333334,0.7250000000000001,0.675,0.5916666666666668,0.6250000000000001,0.6083333333333334,0.5916666666666668,0.6000000000000001,0.6333333333333334,0.6083333333333334,0.6166666666666668,0.6083333333333334,0.6250000000000001,0.6250000000000001,0.5916666666666668,0.5916666666666668,0.5916666666666668,0.6083333333333334,0.6166666666666668,0.6333333333333334,0.6000000000000001,0.5833333333333335,0.6000000000000001,0.5916666666666668,0.5833333333333335,0.6000000000000001,0.6416666666666667,0.6083333333333334,0.6000000000000001,0.5833333333333335,0.5666666666666668,0.5666666666666668,0.5833333333333335,0.5916666666666668,0.6166666666666668,0.6000000000000001,0.5916666666666668,0.5833333333333335,0.6000000000000001,0.6416666666666667,0.6250000000000001,0.6333333333333334,0.6000000000000001,0.5916666666666668,0.5083333333333334,0.55,0.5250000000000001,0.5333333333333334,0.5000000000000001,0.5166666666666667,0.5000000000000001,0.5000000000000001,0.5583333333333335,0.5333333333333334,0.5666666666666668,0.5916666666666668,0.6250000000000001,0.5666666666666668,0.6250000000000001,0.6000000000000001,0.5833333333333335,0.55,0.5666666666666668,0.5583333333333335,0.5833333333333335,0.5666666666666668,0.5750000000000001,0.4750000000000001,0.5083333333333334,0.5000000000000001,0.4666666666666668,0.44166666666666676,0.5333333333333334,0.5166666666666667,0.5000000000000001,0.5750000000000001,0.6416666666666667,0.5666666666666668,0.5583333333333335,0.5916666666666668,0.6000000000000001,0.55,0.6250000000000001,0.6083333333333334,0.6250000000000001,0.5666666666666668,0.6000000000000001,0.5666666666666668,0.5583333333333335,0.5000000000000001,0.55,0.5416666666666667,0.5750000000000001,0.6166666666666668,0.6333333333333334,0.5916666666666668,0.6083333333333334,0.5916666666666668,0.5750000000000001,0.5916666666666668,0.6000000000000001,0.5833333333333335,0.5916666666666668,0.6083333333333334,0.6000000000000001,0.6166666666666668,0.5916666666666668,0.5750000000000001,0.55,0.5666666666666668,0.5583333333333335,0.55,0.5833333333333335,0.5750000000000001,0.5416666666666667,0.55,0.5416666666666667,0.55,0.5666666666666668,0.6083333333333334,0.6000000000000001,0.6416666666666667,0.5666666666666668,0.5750000000000001,0.5666666666666668,0.5833333333333335,0.5666666666666668,0.6083333333333334,0.5916666666666668,0.5750000000000001,0.5833333333333335,0.5666666666666668,0.5833333333333335,0.5916666666666668,0.6083333333333334,0.6000000000000001,0.6333333333333334,0.6416666666666667,0.6416666666666667,0.6333333333333334,0.6083333333333334,0.5833333333333335,0.5750000000000001,0.5583333333333335,0.5583333333333335,0.5666666666666668,0.5583333333333335,0.5416666666666667,0.5583333333333335,0.5583333333333335,0.55,0.5583333333333335,0.5833333333333335,0.55,0.5416666666666667,0.5416666666666667,0.5416666666666667,0.5166666666666667,0.5666666666666668,0.5583333333333335,0.5333333333333334,0.5666666666666668,0.5583333333333335,0.5666666666666668,0.5833333333333335,0.6083333333333334,0.5750000000000001,0.5750000000000001,0.5250000000000001,0.5333333333333334,0.5333333333333334,0.55,0.55,0.5916666666666668,0.5583333333333335,0.5750000000000001,0.5583333333333335,0.5250000000000001,0.5166666666666667,0.55,0.5083333333333334,0.5166666666666667,0.5833333333333335,0.5750000000000001,0.55,0.5750000000000001,0.5583333333333335,0.5416666666666667,0.5166666666666667,0.5083333333333334,0.49166666666666675,0.5166666666666667,0.5250000000000001,0.5416666666666667,0.6000000000000001,0.6250000000000001,0.5916666666666668,0.6000000000000001,0.6000000000000001,0.55,0.55,0.5333333333333334,0.5166666666666667,0.5416666666666667,0.49166666666666675,0.5083333333333334,0.5333333333333334,0.5583333333333335,0.5416666666666667,0.5916666666666668,0.5416666666666667,0.5250000000000001,0.45000000000000007,0.4750000000000001,0.5250000000000001,0.5666666666666668,0.5916666666666668,0.6416666666666667,0.5666666666666668,0.55,0.5250000000000001,0.5583333333333335,0.5166666666666667,0.5750000000000001,0.5583333333333335,0.5583333333333335,0.5666666666666668,0.5916666666666668,0.6083333333333334,0.6083333333333334,0.6250000000000001,0.5916666666666668,0.5416666666666667,0.5250000000000001,0.4833333333333334,0.44166666666666676,0.4833333333333334,0.5000000000000001,0.5000000000000001,0.5333333333333334,0.5250000000000001,0.5166666666666667,0.5583333333333335,0.5250000000000001,0.5583333333333335,0.5916666666666668,0.5666666666666668,0.5750000000000001,0.6333333333333334,0.5916666666666668,0.5583333333333335,0.5250000000000001,0.5083333333333334,0.49166666666666675,0.5000000000000001,0.55,0.5916666666666668,0.6166666666666668,0.55,0.5750000000000001,0.5416666666666667,0.5083333333333334,0.55,0.6166666666666668,0.6333333333333334,0.6583333333333334,0.6833333333333335,0.6000000000000001,0.6083333333333334,0.5750000000000001,0.5583333333333335,0.5583333333333335,0.6000000000000001,0.5583333333333335,0.5333333333333334,0.55,0.5333333333333334,0.5166666666666667,0.5416666666666667,0.5666666666666668,0.55,0.5583333333333335],\"yaxis\":\"y\",\"type\":\"scattergl\"}],                        {\"template\":{\"data\":{\"bar\":[{\"error_x\":{\"color\":\"#2a3f5f\"},\"error_y\":{\"color\":\"#2a3f5f\"},\"marker\":{\"line\":{\"color\":\"#E5ECF6\",\"width\":0.5},\"pattern\":{\"fillmode\":\"overlay\",\"size\":10,\"solidity\":0.2}},\"type\":\"bar\"}],\"barpolar\":[{\"marker\":{\"line\":{\"color\":\"#E5ECF6\",\"width\":0.5},\"pattern\":{\"fillmode\":\"overlay\",\"size\":10,\"solidity\":0.2}},\"type\":\"barpolar\"}],\"carpet\":[{\"aaxis\":{\"endlinecolor\":\"#2a3f5f\",\"gridcolor\":\"white\",\"linecolor\":\"white\",\"minorgridcolor\":\"white\",\"startlinecolor\":\"#2a3f5f\"},\"baxis\":{\"endlinecolor\":\"#2a3f5f\",\"gridcolor\":\"white\",\"linecolor\":\"white\",\"minorgridcolor\":\"white\",\"startlinecolor\":\"#2a3f5f\"},\"type\":\"carpet\"}],\"choropleth\":[{\"colorbar\":{\"outlinewidth\":0,\"ticks\":\"\"},\"type\":\"choropleth\"}],\"contour\":[{\"colorbar\":{\"outlinewidth\":0,\"ticks\":\"\"},\"colorscale\":[[0.0,\"#0d0887\"],[0.1111111111111111,\"#46039f\"],[0.2222222222222222,\"#7201a8\"],[0.3333333333333333,\"#9c179e\"],[0.4444444444444444,\"#bd3786\"],[0.5555555555555556,\"#d8576b\"],[0.6666666666666666,\"#ed7953\"],[0.7777777777777778,\"#fb9f3a\"],[0.8888888888888888,\"#fdca26\"],[1.0,\"#f0f921\"]],\"type\":\"contour\"}],\"contourcarpet\":[{\"colorbar\":{\"outlinewidth\":0,\"ticks\":\"\"},\"type\":\"contourcarpet\"}],\"heatmap\":[{\"colorbar\":{\"outlinewidth\":0,\"ticks\":\"\"},\"colorscale\":[[0.0,\"#0d0887\"],[0.1111111111111111,\"#46039f\"],[0.2222222222222222,\"#7201a8\"],[0.3333333333333333,\"#9c179e\"],[0.4444444444444444,\"#bd3786\"],[0.5555555555555556,\"#d8576b\"],[0.6666666666666666,\"#ed7953\"],[0.7777777777777778,\"#fb9f3a\"],[0.8888888888888888,\"#fdca26\"],[1.0,\"#f0f921\"]],\"type\":\"heatmap\"}],\"heatmapgl\":[{\"colorbar\":{\"outlinewidth\":0,\"ticks\":\"\"},\"colorscale\":[[0.0,\"#0d0887\"],[0.1111111111111111,\"#46039f\"],[0.2222222222222222,\"#7201a8\"],[0.3333333333333333,\"#9c179e\"],[0.4444444444444444,\"#bd3786\"],[0.5555555555555556,\"#d8576b\"],[0.6666666666666666,\"#ed7953\"],[0.7777777777777778,\"#fb9f3a\"],[0.8888888888888888,\"#fdca26\"],[1.0,\"#f0f921\"]],\"type\":\"heatmapgl\"}],\"histogram\":[{\"marker\":{\"pattern\":{\"fillmode\":\"overlay\",\"size\":10,\"solidity\":0.2}},\"type\":\"histogram\"}],\"histogram2d\":[{\"colorbar\":{\"outlinewidth\":0,\"ticks\":\"\"},\"colorscale\":[[0.0,\"#0d0887\"],[0.1111111111111111,\"#46039f\"],[0.2222222222222222,\"#7201a8\"],[0.3333333333333333,\"#9c179e\"],[0.4444444444444444,\"#bd3786\"],[0.5555555555555556,\"#d8576b\"],[0.6666666666666666,\"#ed7953\"],[0.7777777777777778,\"#fb9f3a\"],[0.8888888888888888,\"#fdca26\"],[1.0,\"#f0f921\"]],\"type\":\"histogram2d\"}],\"histogram2dcontour\":[{\"colorbar\":{\"outlinewidth\":0,\"ticks\":\"\"},\"colorscale\":[[0.0,\"#0d0887\"],[0.1111111111111111,\"#46039f\"],[0.2222222222222222,\"#7201a8\"],[0.3333333333333333,\"#9c179e\"],[0.4444444444444444,\"#bd3786\"],[0.5555555555555556,\"#d8576b\"],[0.6666666666666666,\"#ed7953\"],[0.7777777777777778,\"#fb9f3a\"],[0.8888888888888888,\"#fdca26\"],[1.0,\"#f0f921\"]],\"type\":\"histogram2dcontour\"}],\"mesh3d\":[{\"colorbar\":{\"outlinewidth\":0,\"ticks\":\"\"},\"type\":\"mesh3d\"}],\"parcoords\":[{\"line\":{\"colorbar\":{\"outlinewidth\":0,\"ticks\":\"\"}},\"type\":\"parcoords\"}],\"pie\":[{\"automargin\":true,\"type\":\"pie\"}],\"scatter\":[{\"marker\":{\"colorbar\":{\"outlinewidth\":0,\"ticks\":\"\"}},\"type\":\"scatter\"}],\"scatter3d\":[{\"line\":{\"colorbar\":{\"outlinewidth\":0,\"ticks\":\"\"}},\"marker\":{\"colorbar\":{\"outlinewidth\":0,\"ticks\":\"\"}},\"type\":\"scatter3d\"}],\"scattercarpet\":[{\"marker\":{\"colorbar\":{\"outlinewidth\":0,\"ticks\":\"\"}},\"type\":\"scattercarpet\"}],\"scattergeo\":[{\"marker\":{\"colorbar\":{\"outlinewidth\":0,\"ticks\":\"\"}},\"type\":\"scattergeo\"}],\"scattergl\":[{\"marker\":{\"colorbar\":{\"outlinewidth\":0,\"ticks\":\"\"}},\"type\":\"scattergl\"}],\"scattermapbox\":[{\"marker\":{\"colorbar\":{\"outlinewidth\":0,\"ticks\":\"\"}},\"type\":\"scattermapbox\"}],\"scatterpolar\":[{\"marker\":{\"colorbar\":{\"outlinewidth\":0,\"ticks\":\"\"}},\"type\":\"scatterpolar\"}],\"scatterpolargl\":[{\"marker\":{\"colorbar\":{\"outlinewidth\":0,\"ticks\":\"\"}},\"type\":\"scatterpolargl\"}],\"scatterternary\":[{\"marker\":{\"colorbar\":{\"outlinewidth\":0,\"ticks\":\"\"}},\"type\":\"scatterternary\"}],\"surface\":[{\"colorbar\":{\"outlinewidth\":0,\"ticks\":\"\"},\"colorscale\":[[0.0,\"#0d0887\"],[0.1111111111111111,\"#46039f\"],[0.2222222222222222,\"#7201a8\"],[0.3333333333333333,\"#9c179e\"],[0.4444444444444444,\"#bd3786\"],[0.5555555555555556,\"#d8576b\"],[0.6666666666666666,\"#ed7953\"],[0.7777777777777778,\"#fb9f3a\"],[0.8888888888888888,\"#fdca26\"],[1.0,\"#f0f921\"]],\"type\":\"surface\"}],\"table\":[{\"cells\":{\"fill\":{\"color\":\"#EBF0F8\"},\"line\":{\"color\":\"white\"}},\"header\":{\"fill\":{\"color\":\"#C8D4E3\"},\"line\":{\"color\":\"white\"}},\"type\":\"table\"}]},\"layout\":{\"annotationdefaults\":{\"arrowcolor\":\"#2a3f5f\",\"arrowhead\":0,\"arrowwidth\":1},\"autotypenumbers\":\"strict\",\"coloraxis\":{\"colorbar\":{\"outlinewidth\":0,\"ticks\":\"\"}},\"colorscale\":{\"diverging\":[[0,\"#8e0152\"],[0.1,\"#c51b7d\"],[0.2,\"#de77ae\"],[0.3,\"#f1b6da\"],[0.4,\"#fde0ef\"],[0.5,\"#f7f7f7\"],[0.6,\"#e6f5d0\"],[0.7,\"#b8e186\"],[0.8,\"#7fbc41\"],[0.9,\"#4d9221\"],[1,\"#276419\"]],\"sequential\":[[0.0,\"#0d0887\"],[0.1111111111111111,\"#46039f\"],[0.2222222222222222,\"#7201a8\"],[0.3333333333333333,\"#9c179e\"],[0.4444444444444444,\"#bd3786\"],[0.5555555555555556,\"#d8576b\"],[0.6666666666666666,\"#ed7953\"],[0.7777777777777778,\"#fb9f3a\"],[0.8888888888888888,\"#fdca26\"],[1.0,\"#f0f921\"]],\"sequentialminus\":[[0.0,\"#0d0887\"],[0.1111111111111111,\"#46039f\"],[0.2222222222222222,\"#7201a8\"],[0.3333333333333333,\"#9c179e\"],[0.4444444444444444,\"#bd3786\"],[0.5555555555555556,\"#d8576b\"],[0.6666666666666666,\"#ed7953\"],[0.7777777777777778,\"#fb9f3a\"],[0.8888888888888888,\"#fdca26\"],[1.0,\"#f0f921\"]]},\"colorway\":[\"#636efa\",\"#EF553B\",\"#00cc96\",\"#ab63fa\",\"#FFA15A\",\"#19d3f3\",\"#FF6692\",\"#B6E880\",\"#FF97FF\",\"#FECB52\"],\"font\":{\"color\":\"#2a3f5f\"},\"geo\":{\"bgcolor\":\"white\",\"lakecolor\":\"white\",\"landcolor\":\"#E5ECF6\",\"showlakes\":true,\"showland\":true,\"subunitcolor\":\"white\"},\"hoverlabel\":{\"align\":\"left\"},\"hovermode\":\"closest\",\"mapbox\":{\"style\":\"light\"},\"paper_bgcolor\":\"white\",\"plot_bgcolor\":\"#E5ECF6\",\"polar\":{\"angularaxis\":{\"gridcolor\":\"white\",\"linecolor\":\"white\",\"ticks\":\"\"},\"bgcolor\":\"#E5ECF6\",\"radialaxis\":{\"gridcolor\":\"white\",\"linecolor\":\"white\",\"ticks\":\"\"}},\"scene\":{\"xaxis\":{\"backgroundcolor\":\"#E5ECF6\",\"gridcolor\":\"white\",\"gridwidth\":2,\"linecolor\":\"white\",\"showbackground\":true,\"ticks\":\"\",\"zerolinecolor\":\"white\"},\"yaxis\":{\"backgroundcolor\":\"#E5ECF6\",\"gridcolor\":\"white\",\"gridwidth\":2,\"linecolor\":\"white\",\"showbackground\":true,\"ticks\":\"\",\"zerolinecolor\":\"white\"},\"zaxis\":{\"backgroundcolor\":\"#E5ECF6\",\"gridcolor\":\"white\",\"gridwidth\":2,\"linecolor\":\"white\",\"showbackground\":true,\"ticks\":\"\",\"zerolinecolor\":\"white\"}},\"shapedefaults\":{\"line\":{\"color\":\"#2a3f5f\"}},\"ternary\":{\"aaxis\":{\"gridcolor\":\"white\",\"linecolor\":\"white\",\"ticks\":\"\"},\"baxis\":{\"gridcolor\":\"white\",\"linecolor\":\"white\",\"ticks\":\"\"},\"bgcolor\":\"#E5ECF6\",\"caxis\":{\"gridcolor\":\"white\",\"linecolor\":\"white\",\"ticks\":\"\"}},\"title\":{\"x\":0.05},\"xaxis\":{\"automargin\":true,\"gridcolor\":\"white\",\"linecolor\":\"white\",\"ticks\":\"\",\"title\":{\"standoff\":15},\"zerolinecolor\":\"white\",\"zerolinewidth\":2},\"yaxis\":{\"automargin\":true,\"gridcolor\":\"white\",\"linecolor\":\"white\",\"ticks\":\"\",\"title\":{\"standoff\":15},\"zerolinecolor\":\"white\",\"zerolinewidth\":2}}},\"xaxis\":{\"anchor\":\"y\",\"domain\":[0.0,1.0],\"title\":{\"text\":\"index\"}},\"yaxis\":{\"anchor\":\"x\",\"domain\":[0.0,1.0],\"title\":{\"text\":\"value\"}},\"legend\":{\"title\":{\"text\":\"variable\"},\"tracegroupgap\":0},\"title\":{\"text\":\"Previsto X real - Dados SMA5 - Modelo de SVR com kernel linear\"}},                        {\"responsive\": true}                    ).then(function(){\n",
              "                            \n",
              "var gd = document.getElementById('938f6014-41e8-4b7d-a7a6-3eb76d5fd938');\n",
              "var x = new MutationObserver(function (mutations, observer) {{\n",
              "        var display = window.getComputedStyle(gd).display;\n",
              "        if (!display || display === 'none') {{\n",
              "            console.log([gd, 'removed!']);\n",
              "            Plotly.purge(gd);\n",
              "            observer.disconnect();\n",
              "        }}\n",
              "}});\n",
              "\n",
              "// Listen for the removal of the full notebook cells\n",
              "var notebookContainer = gd.closest('#notebook-container');\n",
              "if (notebookContainer) {{\n",
              "    x.observe(notebookContainer, {childList: true});\n",
              "}}\n",
              "\n",
              "// Listen for the clearing of the current output cell\n",
              "var outputEl = gd.closest('.output');\n",
              "if (outputEl) {{\n",
              "    x.observe(outputEl, {childList: true});\n",
              "}}\n",
              "\n",
              "                        })                };                            </script>        </div>\n",
              "</body>\n",
              "</html>"
            ]
          },
          "metadata": {}
        }
      ],
      "source": [
        "previsao_dados_SMA5_linear = px.line(df_previsao_versus_real_dados_SMA5_linear, x=df_previsao_versus_real_dados_SMA5_linear.index, y=df_previsao_versus_real_dados_SMA5_linear.columns, title='Previsto X real - Dados SMA5 - Modelo de SVR com kernel linear')\n",
        "previsao_dados_SMA5_linear.show()"
      ]
    },
    {
      "cell_type": "code",
      "execution_count": null,
      "id": "6034bcec",
      "metadata": {
        "id": "6034bcec"
      },
      "outputs": [],
      "source": []
    }
  ],
  "metadata": {
    "kernelspec": {
      "display_name": "Python 3 (ipykernel)",
      "language": "python",
      "name": "python3"
    },
    "language_info": {
      "codemirror_mode": {
        "name": "ipython",
        "version": 3
      },
      "file_extension": ".py",
      "mimetype": "text/x-python",
      "name": "python",
      "nbconvert_exporter": "python",
      "pygments_lexer": "ipython3",
      "version": "3.8.10"
    },
    "colab": {
      "provenance": [],
      "collapsed_sections": [
        "5a0577d1"
      ],
      "include_colab_link": true
    }
  },
  "nbformat": 4,
  "nbformat_minor": 5
}